{
 "cells": [
  {
   "cell_type": "code",
   "execution_count": 1,
   "id": "tired-chase",
   "metadata": {},
   "outputs": [
    {
     "name": "stderr",
     "output_type": "stream",
     "text": [
      "/sysadmin/wirawan/miniconda3/envs/bert2bert/lib/python3.7/site-packages/torchaudio/backend/utils.py:54: UserWarning: \"sox\" backend is being deprecated. The default backend will be changed to \"sox_io\" backend in 0.8.0 and \"sox\" backend will be removed in 0.9.0. Please migrate to \"sox_io\" backend. Please refer to https://github.com/pytorch/audio/issues/903 for the detail.\n",
      "  '\"sox\" backend is being deprecated. '\n"
     ]
    }
   ],
   "source": [
    "import torch\n",
    "import torchaudio\n",
    "import datasets\n",
    "from datasets import load_dataset, load_metric\n",
    "from transformers import Wav2Vec2ForCTC, Wav2Vec2Processor\n",
    "import re"
   ]
  },
  {
   "cell_type": "code",
   "execution_count": 2,
   "id": "sticky-egyptian",
   "metadata": {},
   "outputs": [],
   "source": [
    "# Preprocessing the datasets.\n",
    "# We need to read the audio files as arrays\n",
    "def speech_file_to_array_fn(batch):\n",
    "    batch[\"sentence\"] = re.sub(chars_to_ignore_regex, '', batch[\"sentence\"]).lower()\n",
    "    batch[\"sentence\"] = batch[\"sentence\"].replace('！ ', '')\n",
    "    batch[\"sentence\"] = batch[\"sentence\"].replace('，', '')\n",
    "    batch[\"sentence\"] = batch[\"sentence\"].replace('é', 'e')\n",
    "    speech_array, sampling_rate = torchaudio.load(batch[\"path\"])\n",
    "    batch[\"speech\"] = resampler(speech_array).squeeze().numpy()\n",
    "    return batch"
   ]
  },
  {
   "cell_type": "code",
   "execution_count": 3,
   "id": "acceptable-employment",
   "metadata": {},
   "outputs": [],
   "source": [
    "# Preprocessing the datasets.\n",
    "# We need to read the aduio files as arrays\n",
    "def evaluate(batch):\n",
    "    inputs = processor(batch[\"speech\"], sampling_rate=16_000, return_tensors=\"pt\", padding=True)\n",
    "\n",
    "    with torch.no_grad():\n",
    "        logits = model(inputs.input_values.to(\"cuda\"), attention_mask=inputs.attention_mask.to(\"cuda\")).logits\n",
    "\n",
    "    pred_ids = torch.argmax(logits, dim=-1)\n",
    "    batch[\"pred_strings\"] = processor.batch_decode(pred_ids)\n",
    "    return batch"
   ]
  },
  {
   "cell_type": "markdown",
   "id": "preliminary-joint",
   "metadata": {},
   "source": [
    "### Load the dataset"
   ]
  },
  {
   "cell_type": "code",
   "execution_count": null,
   "id": "corresponding-match",
   "metadata": {},
   "outputs": [],
   "source": [
    "def load_dataset_sundanese():\n",
    "    root_dir = Path(\"/dataset/ASR/sundanese\")\n",
    "    url_sundanese_female = \"https://www.openslr.org/resources/44/su_id_female.zip\"\n",
    "    url_sundanese_male = \"https://www.openslr.org/resources/44/su_id_male.zip\"\n",
    "    data_dirs = [ root_dir/\"su_id_female/wavs\", root_dir/\"su_id_male/wavs\" ]\n",
    "    filenames = [ root_dir/\"su_id_female/line_index.tsv\", root_dir/\"su_id_male/line_index.tsv\" ]\n",
    "    \n",
    "    if not (root_dir/\"su_id_female\").exists():\n",
    "        !wget -P {root_dir} {url_sundanese_female}\n",
    "        !unzip {root_dir}/su_id_female.zip -d {root_dir}\n",
    "    if not (root_dir/\"su_id_male\").exists():    \n",
    "        !wget -P {root_dir} {url_sundanese_male} \n",
    "        !unzip {root_dir}/su_id_male.zip -d {root_dir}\n",
    "    \n",
    "    dfs = []\n",
    "    \n",
    "    dfs.append(pd.read_csv(filenames[0], sep='\\t\\t', names=[\"path\", \"sentence\"]))\n",
    "    dfs.append(pd.read_csv(filenames[1], sep='\\t\\t', names=[\"path\", \"sentence\"]))\n",
    "    \n",
    "    for i, dir in enumerate(data_dirs):\n",
    "        dfs[i][\"path\"] = dfs[i].apply(lambda row: str(data_dirs[i]) + \"/\" + row + \".wav\", axis=1)\n",
    "    df = pd.concat(dfs)\n",
    "    # df = df.sample(frac=1, random_state=1).reset_index(drop=True)\n",
    "    dataset = Dataset.from_pandas(df)\n",
    "    dataset = dataset.remove_columns('__index_level_0__')\n",
    "    \n",
    "    return dataset.train_test_split(test_size=0.1, seed=1)"
   ]
  },
  {
   "cell_type": "code",
   "execution_count": 4,
   "id": "informal-dictionary",
   "metadata": {},
   "outputs": [
    {
     "data": {
      "text/plain": [
       "DatasetDict({\n",
       "    train: Dataset({\n",
       "        features: ['path', 'sentence'],\n",
       "        num_rows: 3791\n",
       "    })\n",
       "    test: Dataset({\n",
       "        features: ['path', 'sentence'],\n",
       "        num_rows: 422\n",
       "    })\n",
       "})"
      ]
     },
     "execution_count": 4,
     "metadata": {},
     "output_type": "execute_result"
    }
   ],
   "source": [
    "%%capture\n",
    "\n",
    "dataset = load_dataset_sundanese()\n",
    "# We can also just load it from the disk created during training\n",
    "# dataset = datasets.load_from_disk(\"dataset_sundanese\")"
   ]
  },
  {
   "cell_type": "code",
   "execution_count": null,
   "id": "joined-dialogue",
   "metadata": {},
   "outputs": [],
   "source": [
    "dataset"
   ]
  },
  {
   "cell_type": "code",
   "execution_count": 5,
   "id": "constitutional-battle",
   "metadata": {},
   "outputs": [],
   "source": [
    "test_dataset = dataset['test']\n",
    "wer = load_metric(\"wer\")"
   ]
  },
  {
   "cell_type": "code",
   "execution_count": 6,
   "id": "eligible-resolution",
   "metadata": {},
   "outputs": [
    {
     "name": "stderr",
     "output_type": "stream",
     "text": [
      "Special tokens have been added in the vocabulary, make sure the associated word embedding are fine-tuned or trained.\n"
     ]
    }
   ],
   "source": [
    "%%capture\n",
    "\n",
    "model_name = \"./wav2vec2-large-xlsr-sundanese\"\n",
    "\n",
    "processor = Wav2Vec2Processor.from_pretrained(model_name)\n",
    "model = Wav2Vec2ForCTC.from_pretrained(model_name) \n",
    "model.to(\"cuda\")"
   ]
  },
  {
   "cell_type": "code",
   "execution_count": 7,
   "id": "obvious-islam",
   "metadata": {},
   "outputs": [
    {
     "name": "stderr",
     "output_type": "stream",
     "text": [
      "Loading cached processed dataset at dataset_sundanese/test/cache-01a527eac70c10a5.arrow\n"
     ]
    }
   ],
   "source": [
    "#chars_to_ignore_regex = '[\\,\\?\\.\\!\\-\\;\\:\\\"\\“\\%\\‘\\'\\”]'\n",
    "chars_to_ignore_regex = '[\\,\\?\\.\\!\\-\\;\\:\\\"\\“\\%\\‘\\'\\”_\\�]'\n",
    "resampler = torchaudio.transforms.Resample(48_000, 16_000)\n",
    "test_dataset = test_dataset.map(speech_file_to_array_fn)"
   ]
  },
  {
   "cell_type": "code",
   "execution_count": 8,
   "id": "harmful-complaint",
   "metadata": {},
   "outputs": [
    {
     "data": {
      "application/vnd.jupyter.widget-view+json": {
       "model_id": "2f43fb0143b0468c8b0f39787c527521",
       "version_major": 2,
       "version_minor": 0
      },
      "text/plain": [
       "HBox(children=(FloatProgress(value=0.0, max=53.0), HTML(value='')))"
      ]
     },
     "metadata": {},
     "output_type": "display_data"
    },
    {
     "name": "stdout",
     "output_type": "stream",
     "text": [
      "\n",
      "WER: 6.190727\n"
     ]
    }
   ],
   "source": [
    "result = test_dataset.map(evaluate, batched=True, batch_size=8)\n",
    "\n",
    "print(\"WER: {:2f}\".format(100 * wer.compute(predictions=result[\"pred_strings\"], references=result[\"sentence\"])))"
   ]
  },
  {
   "cell_type": "code",
   "execution_count": null,
   "id": "honey-presence",
   "metadata": {},
   "outputs": [],
   "source": []
  }
 ],
 "metadata": {
  "kernelspec": {
   "display_name": "Python 3",
   "language": "python",
   "name": "python3"
  },
  "language_info": {
   "codemirror_mode": {
    "name": "ipython",
    "version": 3
   },
   "file_extension": ".py",
   "mimetype": "text/x-python",
   "name": "python",
   "nbconvert_exporter": "python",
   "pygments_lexer": "ipython3",
   "version": "3.7.9"
  }
 },
 "nbformat": 4,
 "nbformat_minor": 5
}
