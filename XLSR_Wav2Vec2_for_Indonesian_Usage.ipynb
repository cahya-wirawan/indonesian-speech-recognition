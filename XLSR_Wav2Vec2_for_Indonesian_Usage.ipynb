{
 "cells": [
  {
   "cell_type": "code",
   "execution_count": 3,
   "id": "continent-compilation",
   "metadata": {},
   "outputs": [],
   "source": [
    "import torch\n",
    "import torchaudio\n",
    "from datasets import load_dataset\n",
    "from transformers import Wav2Vec2ForCTC, Wav2Vec2Processor"
   ]
  },
  {
   "cell_type": "code",
   "execution_count": 4,
   "id": "freelance-ozone",
   "metadata": {},
   "outputs": [
    {
     "name": "stderr",
     "output_type": "stream",
     "text": [
      "Special tokens have been added in the vocabulary, make sure the associated word embedding are fine-tuned or trained.\n"
     ]
    }
   ],
   "source": [
    "model_name = \"indonesian-nlp/wav2vec2-large-xlsr-indonesian\"\n",
    "#model_name = \"ayameRushia/wav2vec2-large-xlsr-indonesia-demo\"\n",
    "#model_name = \"Galuh/wav2vec2-large-xlsr-indonesian-demo\"\n",
    "\n",
    "processor = Wav2Vec2Processor.from_pretrained(model_name)\n",
    "model = Wav2Vec2ForCTC.from_pretrained(model_name) \n",
    "# model.to(\"cuda\")"
   ]
  },
  {
   "cell_type": "code",
   "execution_count": 100,
   "id": "brilliant-serbia",
   "metadata": {},
   "outputs": [],
   "source": [
    "# Preprocessing the datasets.\n",
    "# We need to read the aduio files as arrays\n",
    "def speech_file_to_array_fn(batch):\n",
    "    speech_array, sampling_rate = torchaudio.load(batch[\"path\"])\n",
    "    resampler = torchaudio.transforms.Resample(sampling_rate/1.0, 16_000)\n",
    "    volume = torchaudio.transforms.Vol(1.0)\n",
    "    batch[\"speech\"] = resampler(volume(speech_array)).squeeze().numpy()\n",
    "    return batch"
   ]
  },
  {
   "cell_type": "code",
   "execution_count": 13,
   "id": "czech-endorsement",
   "metadata": {},
   "outputs": [
    {
     "name": "stderr",
     "output_type": "stream",
     "text": [
      "Couldn't find file locally at common_voice/common_voice.py, or remotely at https://raw.githubusercontent.com/huggingface/datasets/1.4.1/datasets/common_voice/common_voice.py.\n",
      "The file was picked from the master branch on github instead at https://raw.githubusercontent.com/huggingface/datasets/master/datasets/common_voice/common_voice.py.\n",
      "Reusing dataset common_voice (/root/.cache/huggingface/datasets/common_voice/id/6.1.0/0041e06ab061b91d0a23234a2221e87970a19cf3a81b20901474cffffeb7869f)\n",
      "Loading cached processed dataset at /root/.cache/huggingface/datasets/common_voice/id/6.1.0/0041e06ab061b91d0a23234a2221e87970a19cf3a81b20901474cffffeb7869f/cache-e1af9a99f71daf8f.arrow\n"
     ]
    }
   ],
   "source": [
    "test_dataset = load_dataset(\"common_voice\", \"id\", split=\"test[:2%]\")\n",
    "test_dataset = test_dataset.map(speech_file_to_array_fn)\n",
    "inputs = processor(test_dataset[\"speech\"][:5], sampling_rate=16_000, return_tensors=\"pt\", padding=True)"
   ]
  },
  {
   "cell_type": "code",
   "execution_count": 17,
   "id": "loving-medium",
   "metadata": {},
   "outputs": [
    {
     "data": {
      "text/plain": [
       "tensor([[ 0.0011,  0.0011,  0.0011,  ...,  0.0000,  0.0000,  0.0000],\n",
       "        [-0.0002, -0.0002, -0.0002,  ..., -0.0093, -0.0029, -0.0019],\n",
       "        [-0.0014, -0.0014, -0.0014,  ...,  0.0000,  0.0000,  0.0000],\n",
       "        [ 0.0013,  0.0013,  0.0013,  ...,  0.0000,  0.0000,  0.0000],\n",
       "        [-0.0007, -0.0007, -0.0007,  ...,  0.0000,  0.0000,  0.0000]])"
      ]
     },
     "execution_count": 17,
     "metadata": {},
     "output_type": "execute_result"
    }
   ],
   "source": [
    "inputs['input_values']"
   ]
  },
  {
   "cell_type": "code",
   "execution_count": 5,
   "id": "fourth-prompt",
   "metadata": {},
   "outputs": [],
   "source": [
    "with torch.no_grad():\n",
    "    logits = model(inputs.input_values, attention_mask=inputs.attention_mask).logits\n",
    "\n",
    "predicted_ids = torch.argmax(logits, dim=-1)"
   ]
  },
  {
   "cell_type": "code",
   "execution_count": 6,
   "id": "alternative-launch",
   "metadata": {},
   "outputs": [
    {
     "name": "stdout",
     "output_type": "stream",
     "text": [
      "Prediction: ['minggu depan kakak perempuan saya menikah', 'berbagai bahasa daerah dan bahasa asing menjadu bahasa serapaan klim dan kemudian menjadi bahasa indonesia', 'apa yang bisa saya berikan kepadamu', 'inilah dunia kecil', 'nol']\n",
      "Reference: ['Minggu depan kakak perempuan saya menikah.', 'Berbagai bahasa daerah dan bahasa asing menjadi bahasa serapan dan kemudian menjadi bahasa Indonesia.', 'apa yang bisa saya berikan kepadamu?', 'Inilah dunia kecil.', 'nol']\n"
     ]
    }
   ],
   "source": [
    "print(\"Prediction:\", processor.batch_decode(predicted_ids))\n",
    "print(\"Reference:\", test_dataset[\"sentence\"][:5])"
   ]
  },
  {
   "cell_type": "code",
   "execution_count": 55,
   "id": "worst-primary",
   "metadata": {},
   "outputs": [
    {
     "name": "stderr",
     "output_type": "stream",
     "text": [
      "Couldn't find file locally at common_voice/common_voice.py, or remotely at https://raw.githubusercontent.com/huggingface/datasets/1.4.1/datasets/common_voice/common_voice.py.\n",
      "The file was picked from the master branch on github instead at https://raw.githubusercontent.com/huggingface/datasets/master/datasets/common_voice/common_voice.py.\n",
      "Reusing dataset common_voice (/root/.cache/huggingface/datasets/common_voice/id/6.1.0/0041e06ab061b91d0a23234a2221e87970a19cf3a81b20901474cffffeb7869f)\n"
     ]
    }
   ],
   "source": [
    "test_dataset = load_dataset(\"common_voice\", \"id\", split=\"test\")"
   ]
  },
  {
   "cell_type": "code",
   "execution_count": 56,
   "id": "blind-release",
   "metadata": {},
   "outputs": [
    {
     "data": {
      "text/plain": [
       "'/root/.cache/huggingface/datasets/downloads/extracted/fd8a16a97efd77adba3c26c54d0cfae6c9d9494c1017f8070f3f79db72c4b57c/cv-corpus-6.1-2020-12-11/id/clips/common_voice_id_22888800.mp3'"
      ]
     },
     "execution_count": 56,
     "metadata": {},
     "output_type": "execute_result"
    }
   ],
   "source": [
    "test_dataset[0][\"path\"]"
   ]
  },
  {
   "cell_type": "code",
   "execution_count": 64,
   "id": "worse-lincoln",
   "metadata": {},
   "outputs": [],
   "source": [
    "import matplotlib.pyplot as plt"
   ]
  },
  {
   "cell_type": "code",
   "execution_count": 61,
   "id": "alpha-preliminary",
   "metadata": {},
   "outputs": [],
   "source": [
    "def show_wave(filename):\n",
    "    index = songs[filename]\n",
    "    print(test_dataset[index][\"path\"], \"\\n\", test_dataset[index][\"sentence\"], )"
   ]
  },
  {
   "cell_type": "code",
   "execution_count": 62,
   "id": "mechanical-reconstruction",
   "metadata": {},
   "outputs": [
    {
     "name": "stdout",
     "output_type": "stream",
     "text": [
      "/root/.cache/huggingface/datasets/downloads/extracted/fd8a16a97efd77adba3c26c54d0cfae6c9d9494c1017f8070f3f79db72c4b57c/cv-corpus-6.1-2020-12-11/id/clips/common_voice_id_19773609.mp3 \n",
      " Saya pikir itu ide yang bagus.\n"
     ]
    }
   ],
   "source": []
  },
  {
   "cell_type": "code",
   "execution_count": 77,
   "id": "mineral-christianity",
   "metadata": {},
   "outputs": [],
   "source": [
    "# We need to read the aduio files as arrays\n",
    "def show_wave(filename, gain=1.0):\n",
    "    index = songs[filename]\n",
    "    speech_array, sampling_rate = torchaudio.load(test_dataset[index][\"path\"])\n",
    "    resampler = torchaudio.transforms.Resample(sampling_rate, 16_000)\n",
    "    volume = torchaudio.transforms.Vol(gain)\n",
    "    audio = resampler(volume(speech_array)).squeeze().numpy()\n",
    "    plt.figure()\n",
    "    plt.ylim([-1.0,1.0])\n",
    "    plt.plot(audio)"
   ]
  },
  {
   "cell_type": "code",
   "execution_count": 78,
   "id": "incorporated-greenhouse",
   "metadata": {},
   "outputs": [
    {
     "data": {
      "image/png": "[encoded data removed]",
      "text/plain": [
       "<Figure size 432x288 with 1 Axes>"
      ]
     },
     "metadata": {
      "needs_background": "light"
     },
     "output_type": "display_data"
    }
   ],
   "source": [
    "show_wave(\"common_voice_id_19773609.mp3\", 1.0)"
   ]
  },
  {
   "cell_type": "code",
   "execution_count": 79,
   "id": "electoral-malta",
   "metadata": {},
   "outputs": [
    {
     "data": {
      "image/png": "[encoded data removed]",
      "text/plain": [
       "<Figure size 432x288 with 1 Axes>"
      ]
     },
     "metadata": {
      "needs_background": "light"
     },
     "output_type": "display_data"
    }
   ],
   "source": [
    "show_wave(\"common_voice_id_19773609.mp3\", 20.0)"
   ]
  },
  {
   "cell_type": "code",
   "execution_count": 6,
   "id": "complex-endorsement",
   "metadata": {},
   "outputs": [],
   "source": [
    "from pathlib import Path"
   ]
  },
  {
   "cell_type": "code",
   "execution_count": 7,
   "id": "greenhouse-wesley",
   "metadata": {},
   "outputs": [
    {
     "name": "stderr",
     "output_type": "stream",
     "text": [
      "Couldn't find file locally at common_voice/common_voice.py, or remotely at https://raw.githubusercontent.com/huggingface/datasets/1.4.1/datasets/common_voice/common_voice.py.\n",
      "The file was picked from the master branch on github instead at https://raw.githubusercontent.com/huggingface/datasets/master/datasets/common_voice/common_voice.py.\n",
      "Reusing dataset common_voice (/root/.cache/huggingface/datasets/common_voice/id/6.1.0/0041e06ab061b91d0a23234a2221e87970a19cf3a81b20901474cffffeb7869f)\n"
     ]
    }
   ],
   "source": [
    "test_dataset = load_dataset(\"common_voice\", \"id\", split='test')\n",
    "songs = {Path(row['path']).name: i for i, row in enumerate(test_dataset)}"
   ]
  },
  {
   "cell_type": "code",
   "execution_count": 8,
   "id": "understood-september",
   "metadata": {},
   "outputs": [
    {
     "data": {
      "text/plain": [
       "5"
      ]
     },
     "execution_count": 8,
     "metadata": {},
     "output_type": "execute_result"
    }
   ],
   "source": [
    "songs['common_voice_id_24041300.mp3']"
   ]
  },
  {
   "cell_type": "code",
   "execution_count": 82,
   "id": "increasing-graham",
   "metadata": {},
   "outputs": [],
   "source": [
    "def transcript(filename):\n",
    "    index = songs[filename]\n",
    "    test_dataset = load_dataset(\"common_voice\", \"id\", split=f'test[{index}:{index+1}]')\n",
    "    test_dataset = test_dataset.map(speech_file_to_array_fn)\n",
    "    inputs = processor(test_dataset[\"speech\"][:5], sampling_rate=16_000, return_tensors=\"pt\", padding=True)\n",
    "    \n",
    "    with torch.no_grad():\n",
    "        logits = model(inputs.input_values, attention_mask=inputs.attention_mask).logits\n",
    "\n",
    "    predicted_ids = torch.argmax(logits, dim=-1)\n",
    "    print(\"Prediction:\", processor.batch_decode(predicted_ids))\n",
    "    print(\"Reference:\", test_dataset[\"sentence\"][0])"
   ]
  },
  {
   "cell_type": "code",
   "execution_count": 92,
   "id": "distant-bottom",
   "metadata": {},
   "outputs": [
    {
     "name": "stderr",
     "output_type": "stream",
     "text": [
      "Couldn't find file locally at common_voice/common_voice.py, or remotely at https://raw.githubusercontent.com/huggingface/datasets/1.4.1/datasets/common_voice/common_voice.py.\n",
      "The file was picked from the master branch on github instead at https://raw.githubusercontent.com/huggingface/datasets/master/datasets/common_voice/common_voice.py.\n",
      "Reusing dataset common_voice (/root/.cache/huggingface/datasets/common_voice/id/6.1.0/0041e06ab061b91d0a23234a2221e87970a19cf3a81b20901474cffffeb7869f)\n"
     ]
    },
    {
     "data": {
      "application/vnd.jupyter.widget-view+json": {
       "model_id": "bf799fb437374e4eafde38fd19b26a14",
       "version_major": 2,
       "version_minor": 0
      },
      "text/plain": [
       "HBox(children=(FloatProgress(value=0.0, max=1.0), HTML(value='')))"
      ]
     },
     "metadata": {},
     "output_type": "display_data"
    },
    {
     "name": "stdout",
     "output_type": "stream",
     "text": [
      "\n",
      "Prediction: ['sit menahkanka']\n",
      "Reference: Saya pemimpin regu.\n"
     ]
    }
   ],
   "source": [
    "transcript(\"common_voice_id_19685341.mp3\")"
   ]
  },
  {
   "cell_type": "code",
   "execution_count": 101,
   "id": "muslim-bradley",
   "metadata": {},
   "outputs": [
    {
     "name": "stderr",
     "output_type": "stream",
     "text": [
      "Couldn't find file locally at common_voice/common_voice.py, or remotely at https://raw.githubusercontent.com/huggingface/datasets/1.4.1/datasets/common_voice/common_voice.py.\n",
      "The file was picked from the master branch on github instead at https://raw.githubusercontent.com/huggingface/datasets/master/datasets/common_voice/common_voice.py.\n",
      "Reusing dataset common_voice (/root/.cache/huggingface/datasets/common_voice/id/6.1.0/0041e06ab061b91d0a23234a2221e87970a19cf3a81b20901474cffffeb7869f)\n"
     ]
    },
    {
     "data": {
      "application/vnd.jupyter.widget-view+json": {
       "model_id": "883d498fc3fd4d53b99dd57a0b4610cf",
       "version_major": 2,
       "version_minor": 0
      },
      "text/plain": [
       "HBox(children=(FloatProgress(value=0.0, max=1.0), HTML(value='')))"
      ]
     },
     "metadata": {},
     "output_type": "display_data"
    },
    {
     "name": "stdout",
     "output_type": "stream",
     "text": [
      "\n",
      "Prediction: ['penemuan ini akan tercata tam sujar']\n",
      "Reference: Penemuan ini akan tercatat dalam sejarah.\n"
     ]
    }
   ],
   "source": [
    "transcript(\"common_voice_id_20406088.mp3\")"
   ]
  },
  {
   "cell_type": "code",
   "execution_count": 18,
   "id": "recreational-indie",
   "metadata": {},
   "outputs": [
    {
     "name": "stderr",
     "output_type": "stream",
     "text": [
      "Couldn't find file locally at common_voice/common_voice.py, or remotely at https://raw.githubusercontent.com/huggingface/datasets/1.4.1/datasets/common_voice/common_voice.py.\n",
      "The file was picked from the master branch on github instead at https://raw.githubusercontent.com/huggingface/datasets/master/datasets/common_voice/common_voice.py.\n",
      "Reusing dataset common_voice (/root/.cache/huggingface/datasets/common_voice/id/6.1.0/0041e06ab061b91d0a23234a2221e87970a19cf3a81b20901474cffffeb7869f)\n"
     ]
    }
   ],
   "source": [
    "test_dataset = load_dataset(\"common_voice\", \"id\", split=\"test[:2%]\")"
   ]
  },
  {
   "cell_type": "code",
   "execution_count": 21,
   "id": "wireless-craft",
   "metadata": {},
   "outputs": [
    {
     "data": {
      "text/plain": [
       "{'accent': '',\n",
       " 'age': '',\n",
       " 'client_id': '4a502bde4cffafbdf5f8b332a6bf9edc33b1421f51d066cf4218d5da72f69ffca7fdf51482c2143a27ee0b19dd65e3a95c31df41848df9dca4af00caf881189e',\n",
       " 'down_votes': 0,\n",
       " 'gender': '',\n",
       " 'locale': 'id',\n",
       " 'path': '/root/.cache/huggingface/datasets/downloads/extracted/fd8a16a97efd77adba3c26c54d0cfae6c9d9494c1017f8070f3f79db72c4b57c/cv-corpus-6.1-2020-12-11/id/clips/common_voice_id_24041300.mp3',\n",
       " 'segment': \"''\",\n",
       " 'sentence': 'Coba lakukan dengan cara berbeda.',\n",
       " 'up_votes': 2}"
      ]
     },
     "execution_count": 21,
     "metadata": {},
     "output_type": "execute_result"
    }
   ],
   "source": [
    "test_dataset[5]"
   ]
  },
  {
   "cell_type": "code",
   "execution_count": 68,
   "id": "functioning-despite",
   "metadata": {},
   "outputs": [
    {
     "name": "stderr",
     "output_type": "stream",
     "text": [
      "Couldn't find file locally at common_voice/common_voice.py, or remotely at https://raw.githubusercontent.com/huggingface/datasets/1.4.1/datasets/common_voice/common_voice.py.\n",
      "The file was picked from the master branch on github instead at https://raw.githubusercontent.com/huggingface/datasets/master/datasets/common_voice/common_voice.py.\n",
      "Reusing dataset common_voice (/root/.cache/huggingface/datasets/common_voice/id/6.1.0/0041e06ab061b91d0a23234a2221e87970a19cf3a81b20901474cffffeb7869f)\n"
     ]
    }
   ],
   "source": [
    "test_dataset = load_dataset(\"common_voice\", \"id\", split=\"test[5:6]\")"
   ]
  },
  {
   "cell_type": "code",
   "execution_count": 28,
   "id": "answering-colonial",
   "metadata": {},
   "outputs": [
    {
     "data": {
      "text/plain": [
       "{'accent': '',\n",
       " 'age': '',\n",
       " 'client_id': '4a502bde4cffafbdf5f8b332a6bf9edc33b1421f51d066cf4218d5da72f69ffca7fdf51482c2143a27ee0b19dd65e3a95c31df41848df9dca4af00caf881189e',\n",
       " 'down_votes': 0,\n",
       " 'gender': '',\n",
       " 'locale': 'id',\n",
       " 'path': '/root/.cache/huggingface/datasets/downloads/extracted/fd8a16a97efd77adba3c26c54d0cfae6c9d9494c1017f8070f3f79db72c4b57c/cv-corpus-6.1-2020-12-11/id/clips/common_voice_id_24041300.mp3',\n",
       " 'segment': \"''\",\n",
       " 'sentence': 'Coba lakukan dengan cara berbeda.',\n",
       " 'up_votes': 2}"
      ]
     },
     "execution_count": 28,
     "metadata": {},
     "output_type": "execute_result"
    }
   ],
   "source": [
    "test_dataset[0]"
   ]
  },
  {
   "cell_type": "code",
   "execution_count": null,
   "id": "determined-observation",
   "metadata": {},
   "outputs": [],
   "source": []
  }
 ],
 "metadata": {
  "kernelspec": {
   "display_name": "Python 3",
   "language": "python",
   "name": "python3"
  },
  "language_info": {
   "codemirror_mode": {
    "name": "ipython",
    "version": 3
   },
   "file_extension": ".py",
   "mimetype": "text/x-python",
   "name": "python",
   "nbconvert_exporter": "python",
   "pygments_lexer": "ipython3",
   "version": "3.7.9"
  }
 },
 "nbformat": 4,
 "nbformat_minor": 5
}
