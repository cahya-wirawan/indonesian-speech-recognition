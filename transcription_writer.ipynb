{
 "cells": [
  {
   "cell_type": "code",
   "execution_count": 1,
   "metadata": {},
   "outputs": [],
   "source": [
    "from pathlib import Path"
   ]
  },
  {
   "cell_type": "code",
   "execution_count": 9,
   "metadata": {},
   "outputs": [],
   "source": [
    "sentence_file = \"/mnt/mldata/data/ASR/news/id-newspapers-small.tsv\"\n",
    "news_dir = \"/mnt/mldata/data/ASR/news\"\n",
    "sound_dir = \"/mnt/mldata/data/ASR/synthetic-voice/id-newspapers/\"\n",
    "transcription_file = f'{sound_dir}/transcription.tsv'\n",
    "cv_dir = \"/mnt/mldata/data/ASR/commonvoice\"\n",
    "mix_dir = \"/mnt/mldata/data/ASR/synthetic_voice\""
   ]
  },
  {
   "cell_type": "code",
   "execution_count": 3,
   "metadata": {},
   "outputs": [],
   "source": [
    "def read_transcript_news(voice_dir):\n",
    "    transcript_file = \"id-newspapers-small.tsv\"\n",
    "    transcripts = {}\n",
    "    with open(Path(voice_dir)/transcript_file, \"r\") as sf:\n",
    "        sf.readline()\n",
    "        counter = 0\n",
    "        for line in sf:\n",
    "            #if counter >= 5:\n",
    "            #    break\n",
    "            counter += 1\n",
    "            line = line.strip()\n",
    "            path, sentence = line.split('\\t')\n",
    "            transcripts[path] = sentence      \n",
    "    return transcripts\n",
    "    "
   ]
  },
  {
   "cell_type": "code",
   "execution_count": 4,
   "metadata": {},
   "outputs": [],
   "source": [
    "def read_transcript_cv(voice_dir):\n",
    "    transcript_files = ['validated_notest.tsv', 'dev.tsv', 'test.tsv']    \n",
    "    transcripts = {}\n",
    "    for file in transcript_files:\n",
    "        with open(Path(voice_dir)/file, \"r\") as tf:\n",
    "            tf.readline()\n",
    "            counter = 0\n",
    "            for line in tf:\n",
    "                #if counter >= 5:\n",
    "                #    break\n",
    "                counter += 1\n",
    "                line = line.strip()\n",
    "                row = line.split('\\t')\n",
    "                transcripts[row[1]] = row[2]\n",
    "    return transcripts"
   ]
  },
  {
   "cell_type": "code",
   "execution_count": 5,
   "metadata": {},
   "outputs": [
    {
     "data": {
      "text/plain": [
       "608695"
      ]
     },
     "execution_count": 5,
     "metadata": {},
     "output_type": "execute_result"
    }
   ],
   "source": [
    "transcripts = {**read_transcript_news(news_dir), **read_transcript_cv(cv_dir)}\n",
    "len(transcripts)"
   ]
  },
  {
   "cell_type": "code",
   "execution_count": 10,
   "metadata": {},
   "outputs": [
    {
     "name": "stdout",
     "output_type": "stream",
     "text": [
      "/mnt/mldata/data/ASR/synthetic-voice/id-newspapers/\n",
      "**************************************************\n",
      "**************************************************\n",
      "********************"
     ]
    }
   ],
   "source": [
    "counter = 0\n",
    "with open(transcription_file, \"w\") as psf:\n",
    "    print(sound_dir)\n",
    "    psf.write(f'path\\tsentence\\n')\n",
    "    for path in Path(sound_dir).glob('**/*'):\n",
    "        if path.suffix not in ['.mp3', '.ogg']:\n",
    "            continue\n",
    "        counter += 1\n",
    "        sound_file = path.name\n",
    "        path = str(path).replace(sound_dir+'/', \"\")\n",
    "        if counter%1000==0:\n",
    "            print(\"*\", end=\"\")\n",
    "        if counter%50000==0:\n",
    "            print()\n",
    "        psf.write(f'{path}\\t{transcripts[sound_file]}\\n')\n",
    "        "
   ]
  },
  {
   "cell_type": "code",
   "execution_count": 78,
   "metadata": {},
   "outputs": [
    {
     "data": {
      "text/plain": [
       "20"
      ]
     },
     "execution_count": 78,
     "metadata": {},
     "output_type": "execute_result"
    }
   ],
   "source": []
  },
  {
   "cell_type": "code",
   "execution_count": 69,
   "metadata": {},
   "outputs": [],
   "source": [
    "c = {**a, **b}"
   ]
  },
  {
   "cell_type": "code",
   "execution_count": 71,
   "metadata": {},
   "outputs": [
    {
     "data": {
      "text/plain": [
       "20"
      ]
     },
     "execution_count": 71,
     "metadata": {},
     "output_type": "execute_result"
    }
   ],
   "source": [
    "len(c)"
   ]
  },
  {
   "cell_type": "code",
   "execution_count": 30,
   "metadata": {},
   "outputs": [],
   "source": [
    "!cat $path_sentence_file"
   ]
  },
  {
   "cell_type": "markdown",
   "metadata": {},
   "source": [
    "### Sentence"
   ]
  },
  {
   "cell_type": "code",
   "execution_count": 6,
   "metadata": {},
   "outputs": [
    {
     "data": {
      "text/plain": [
       "599999"
      ]
     },
     "execution_count": 6,
     "metadata": {},
     "output_type": "execute_result"
    }
   ],
   "source": [
    "len(sentences)"
   ]
  },
  {
   "cell_type": "code",
   "execution_count": 7,
   "metadata": {},
   "outputs": [
    {
     "data": {
      "text/plain": [
       "'Meskipun begitu, ia menyatakan kemungkinan besar wilayah Jakarta tetap akan merasakan gempa dengan kekuatan yang cukup besar seperti yang terjadi saat gempa di dekat Lebak, Banten pada dua puluh tiga Januari lalu.'"
      ]
     },
     "execution_count": 7,
     "metadata": {},
     "output_type": "execute_result"
    }
   ],
   "source": [
    "sentences['newspapers_000000010.ogg']"
   ]
  },
  {
   "cell_type": "code",
   "execution_count": null,
   "metadata": {},
   "outputs": [],
   "source": []
  }
 ],
 "metadata": {
  "kernelspec": {
   "display_name": "Python 3",
   "language": "python",
   "name": "python3"
  },
  "language_info": {
   "codemirror_mode": {
    "name": "ipython",
    "version": 3
   },
   "file_extension": ".py",
   "mimetype": "text/x-python",
   "name": "python",
   "nbconvert_exporter": "python",
   "pygments_lexer": "ipython3",
   "version": "3.7.7"
  }
 },
 "nbformat": 4,
 "nbformat_minor": 4
}
