{
 "cells": [
  {
   "cell_type": "code",
   "execution_count": 1,
   "id": "supreme-command",
   "metadata": {},
   "outputs": [
    {
     "name": "stderr",
     "output_type": "stream",
     "text": [
      "/sysadmin/wirawan/miniconda3/envs/bert2bert/lib/python3.7/site-packages/torchaudio/backend/utils.py:54: UserWarning: \"sox\" backend is being deprecated. The default backend will be changed to \"sox_io\" backend in 0.8.0 and \"sox\" backend will be removed in 0.9.0. Please migrate to \"sox_io\" backend. Please refer to https://github.com/pytorch/audio/issues/903 for the detail.\n",
      "  '\"sox\" backend is being deprecated. '\n"
     ]
    }
   ],
   "source": [
    "import torch\n",
    "import torchaudio\n",
    "import datasets\n",
    "from datasets import load_dataset, load_metric, Dataset\n",
    "from datasets.utils.download_manager import DownloadManager\n",
    "from transformers import Wav2Vec2ForCTC, Wav2Vec2Processor\n",
    "import re\n",
    "from pathlib import Path\n",
    "import pandas as pd"
   ]
  },
  {
   "cell_type": "code",
   "execution_count": 2,
   "id": "protecting-submission",
   "metadata": {},
   "outputs": [],
   "source": [
    "# Preprocessing the datasets.\n",
    "# We need to read the audio files as arrays\n",
    "def speech_file_to_array_fn(batch):\n",
    "    batch[\"sentence\"] = re.sub(chars_to_ignore_regex, '', batch[\"sentence\"]).lower()\n",
    "    batch[\"sentence\"] = batch[\"sentence\"].replace('！ ', '')\n",
    "    batch[\"sentence\"] = batch[\"sentence\"].replace('，', '')\n",
    "    batch[\"sentence\"] = batch[\"sentence\"].replace('é', 'e')\n",
    "    speech_array, sampling_rate = torchaudio.load(batch[\"path\"])\n",
    "    batch[\"speech\"] = resampler(speech_array).squeeze().numpy()\n",
    "    return batch"
   ]
  },
  {
   "cell_type": "code",
   "execution_count": 3,
   "id": "lined-marriage",
   "metadata": {},
   "outputs": [],
   "source": [
    "# Preprocessing the datasets.\n",
    "# We need to read the aduio files as arrays\n",
    "def evaluate(batch):\n",
    "    inputs = processor(batch[\"speech\"], sampling_rate=16_000, return_tensors=\"pt\", padding=True)\n",
    "\n",
    "    with torch.no_grad():\n",
    "        logits = model(inputs.input_values.to(\"cuda\"), attention_mask=inputs.attention_mask.to(\"cuda\")).logits\n",
    "\n",
    "    pred_ids = torch.argmax(logits, dim=-1)\n",
    "    batch[\"pred_strings\"] = processor.batch_decode(pred_ids)\n",
    "    return batch"
   ]
  },
  {
   "cell_type": "markdown",
   "id": "binary-network",
   "metadata": {},
   "source": [
    "### Load the dataset"
   ]
  },
  {
   "cell_type": "code",
   "execution_count": 4,
   "id": "arabic-cherry",
   "metadata": {},
   "outputs": [],
   "source": [
    "def load_dataset_javanese():\n",
    "    urls = [\n",
    "        \"https://www.openslr.org/resources/41/jv_id_female.zip\",\n",
    "        \"https://www.openslr.org/resources/41/jv_id_male.zip\"\n",
    "    ]\n",
    "    dm = DownloadManager()\n",
    "    download_dirs = dm.download_and_extract(urls)\n",
    "    data_dirs = [ \n",
    "        Path(download_dirs[0])/\"jv_id_female/wavs\",\n",
    "        Path(download_dirs[1])/\"jv_id_male/wavs\",\n",
    "    ]\n",
    "    filenames = [ \n",
    "        Path(download_dirs[0])/\"jv_id_female/line_index.tsv\",\n",
    "        Path(download_dirs[1])/\"jv_id_male/line_index.tsv\",\n",
    "    ]\n",
    "    \n",
    "    dfs = []\n",
    "    dfs.append(pd.read_csv(filenames[0], sep='\\t', names=[\"path\", \"sentence\"]))\n",
    "    dfs.append(pd.read_csv(filenames[1], sep='\\t', names=[\"path\", \"client_id\", \"sentence\"]))\n",
    "    dfs[1] = dfs[1].drop([\"client_id\"], axis=1)\n",
    "    \n",
    "    for i, dir in enumerate(data_dirs):\n",
    "        dfs[i][\"path\"] = dfs[i].apply(lambda row: str(data_dirs[i]) + \"/\" + row + \".wav\", axis=1)\n",
    "    df = pd.concat(dfs)\n",
    "    # df = df.sample(frac=1, random_state=1).reset_index(drop=True)\n",
    "    dataset = Dataset.from_pandas(df)\n",
    "    dataset = dataset.remove_columns('__index_level_0__')\n",
    "    \n",
    "    return dataset.train_test_split(test_size=0.1, seed=1)"
   ]
  },
  {
   "cell_type": "code",
   "execution_count": 5,
   "id": "medieval-arrival",
   "metadata": {},
   "outputs": [
    {
     "data": {
      "text/plain": [
       "DatasetDict({\n",
       "    train: Dataset({\n",
       "        features: ['path', 'sentence'],\n",
       "        num_rows: 5239\n",
       "    })\n",
       "    test: Dataset({\n",
       "        features: ['path', 'sentence'],\n",
       "        num_rows: 583\n",
       "    })\n",
       "})"
      ]
     },
     "execution_count": 5,
     "metadata": {},
     "output_type": "execute_result"
    }
   ],
   "source": [
    "dataset = load_dataset_javanese()\n",
    "# We can also just load it from the disk created during training\n",
    "# dataset = datasets.load_from_disk(\"dataset_javanese\")\n",
    "dataset"
   ]
  },
  {
   "cell_type": "code",
   "execution_count": 6,
   "id": "skilled-drove",
   "metadata": {},
   "outputs": [],
   "source": [
    "test_dataset = dataset['test']\n",
    "wer = load_metric(\"wer\")"
   ]
  },
  {
   "cell_type": "code",
   "execution_count": 7,
   "id": "hindu-flour",
   "metadata": {},
   "outputs": [
    {
     "name": "stderr",
     "output_type": "stream",
     "text": [
      "Special tokens have been added in the vocabulary, make sure the associated word embedding are fine-tuned or trained.\n"
     ]
    }
   ],
   "source": [
    "%%capture\n",
    "\n",
    "model_name = \"cahya/wav2vec2-large-xlsr-javanese\"\n",
    "\n",
    "processor = Wav2Vec2Processor.from_pretrained(model_name)\n",
    "model = Wav2Vec2ForCTC.from_pretrained(model_name) \n",
    "model.to(\"cuda\")"
   ]
  },
  {
   "cell_type": "code",
   "execution_count": 8,
   "id": "requested-alexander",
   "metadata": {},
   "outputs": [
    {
     "data": {
      "application/vnd.jupyter.widget-view+json": {
       "model_id": "1283cb4f6b9e4ccdbbc428eb82bb7234",
       "version_major": 2,
       "version_minor": 0
      },
      "text/plain": [
       "HBox(children=(FloatProgress(value=0.0, max=583.0), HTML(value='')))"
      ]
     },
     "metadata": {},
     "output_type": "display_data"
    },
    {
     "name": "stdout",
     "output_type": "stream",
     "text": [
      "\n"
     ]
    }
   ],
   "source": [
    "chars_to_ignore_regex = '[\\,\\?\\.\\!\\-\\;\\:\\\"\\“\\%\\‘\\'\\”_\\�]'\n",
    "resampler = torchaudio.transforms.Resample(48_000, 16_000)\n",
    "test_dataset = test_dataset.map(speech_file_to_array_fn)"
   ]
  },
  {
   "cell_type": "code",
   "execution_count": 9,
   "id": "endless-circuit",
   "metadata": {},
   "outputs": [
    {
     "data": {
      "application/vnd.jupyter.widget-view+json": {
       "model_id": "abd9d20cfe854eae91f3611e53ad521e",
       "version_major": 2,
       "version_minor": 0
      },
      "text/plain": [
       "HBox(children=(FloatProgress(value=0.0, max=73.0), HTML(value='')))"
      ]
     },
     "metadata": {},
     "output_type": "display_data"
    },
    {
     "name": "stdout",
     "output_type": "stream",
     "text": [
      "\n",
      "WER: 17.609414\n"
     ]
    }
   ],
   "source": [
    "result = test_dataset.map(evaluate, batched=True, batch_size=8)\n",
    "\n",
    "print(\"WER: {:2f}\".format(100 * wer.compute(predictions=result[\"pred_strings\"], references=result[\"sentence\"])))"
   ]
  },
  {
   "cell_type": "code",
   "execution_count": null,
   "id": "hollywood-commerce",
   "metadata": {},
   "outputs": [],
   "source": []
  }
 ],
 "metadata": {
  "kernelspec": {
   "display_name": "Python 3",
   "language": "python",
   "name": "python3"
  },
  "language_info": {
   "codemirror_mode": {
    "name": "ipython",
    "version": 3
   },
   "file_extension": ".py",
   "mimetype": "text/x-python",
   "name": "python",
   "nbconvert_exporter": "python",
   "pygments_lexer": "ipython3",
   "version": "3.7.9"
  }
 },
 "nbformat": 4,
 "nbformat_minor": 5
}
