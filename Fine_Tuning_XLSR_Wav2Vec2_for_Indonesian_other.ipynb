{
  "nbformat": 4,
  "nbformat_minor": 0,
  "metadata": {
    "colab": {
      "name": "Fine-Tune XLSR-Wav2Vec2 on Turkish ASR with 🤗 Transformers.ipynb",
      "provenance": [],
      "collapsed_sections": [],
      "toc_visible": true,
      "machine_shape": "hm",
      "include_colab_link": true
    },
    "kernelspec": {
      "name": "python3",
      "display_name": "Python 3"
    },
    "widgets": {
      "application/vnd.jupyter.widget-state+json": {
        "982db355f9664331a58dd4a3a9a27c5a": {
          "model_module": "@jupyter-widgets/controls",
          "model_name": "HBoxModel",
          "state": {
            "_view_name": "HBoxView",
            "_dom_classes": [],
            "_model_name": "HBoxModel",
            "_view_module": "@jupyter-widgets/controls",
            "_model_module_version": "1.5.0",
            "_view_count": null,
            "_view_module_version": "1.5.0",
            "box_style": "",
            "layout": "IPY_MODEL_ed658c4d10b64e51afd8a0f690d29e39",
            "_model_module": "@jupyter-widgets/controls",
            "children": [
              "IPY_MODEL_c4f063806c4346df8afbab0b6589539b",
              "IPY_MODEL_41eb246752ff48b1882e246c6c9f5a92"
            ]
          }
        },
        "ed658c4d10b64e51afd8a0f690d29e39": {
          "model_module": "@jupyter-widgets/base",
          "model_name": "LayoutModel",
          "state": {
            "_view_name": "LayoutView",
            "grid_template_rows": null,
            "right": null,
            "justify_content": null,
            "_view_module": "@jupyter-widgets/base",
            "overflow": null,
            "_model_module_version": "1.2.0",
            "_view_count": null,
            "flex_flow": null,
            "width": null,
            "min_width": null,
            "border": null,
            "align_items": null,
            "bottom": null,
            "_model_module": "@jupyter-widgets/base",
            "top": null,
            "grid_column": null,
            "overflow_y": null,
            "overflow_x": null,
            "grid_auto_flow": null,
            "grid_area": null,
            "grid_template_columns": null,
            "flex": null,
            "_model_name": "LayoutModel",
            "justify_items": null,
            "grid_row": null,
            "max_height": null,
            "align_content": null,
            "visibility": null,
            "align_self": null,
            "height": null,
            "min_height": null,
            "padding": null,
            "grid_auto_rows": null,
            "grid_gap": null,
            "max_width": null,
            "order": null,
            "_view_module_version": "1.2.0",
            "grid_template_areas": null,
            "object_position": null,
            "object_fit": null,
            "grid_auto_columns": null,
            "margin": null,
            "display": null,
            "left": null
          }
        },
        "c4f063806c4346df8afbab0b6589539b": {
          "model_module": "@jupyter-widgets/controls",
          "model_name": "FloatProgressModel",
          "state": {
            "_view_name": "ProgressView",
            "style": "IPY_MODEL_fc54d27b996743cdb5c51b754223e0f9",
            "_dom_classes": [],
            "description": "Downloading: ",
            "_model_name": "FloatProgressModel",
            "bar_style": "success",
            "max": 4323,
            "_view_module": "@jupyter-widgets/controls",
            "_model_module_version": "1.5.0",
            "value": 4323,
            "_view_count": null,
            "_view_module_version": "1.5.0",
            "orientation": "horizontal",
            "min": 0,
            "description_tooltip": null,
            "_model_module": "@jupyter-widgets/controls",
            "layout": "IPY_MODEL_068fd9e0edc64a5bac6bf49b31c91802"
          }
        },
        "41eb246752ff48b1882e246c6c9f5a92": {
          "model_module": "@jupyter-widgets/controls",
          "model_name": "HTMLModel",
          "state": {
            "_view_name": "HTMLView",
            "style": "IPY_MODEL_f22acdee8ecf4f2498883995ef2ecfbc",
            "_dom_classes": [],
            "description": "",
            "_model_name": "HTMLModel",
            "placeholder": "​",
            "_view_module": "@jupyter-widgets/controls",
            "_model_module_version": "1.5.0",
            "value": " 22.0k/? [00:00&lt;00:00, 66.5kB/s]",
            "_view_count": null,
            "_view_module_version": "1.5.0",
            "description_tooltip": null,
            "_model_module": "@jupyter-widgets/controls",
            "layout": "IPY_MODEL_00039ca23c3a4f4d8df54506f36cfea2"
          }
        },
        "fc54d27b996743cdb5c51b754223e0f9": {
          "model_module": "@jupyter-widgets/controls",
          "model_name": "ProgressStyleModel",
          "state": {
            "_view_name": "StyleView",
            "_model_name": "ProgressStyleModel",
            "description_width": "initial",
            "_view_module": "@jupyter-widgets/base",
            "_model_module_version": "1.5.0",
            "_view_count": null,
            "_view_module_version": "1.2.0",
            "bar_color": null,
            "_model_module": "@jupyter-widgets/controls"
          }
        },
        "068fd9e0edc64a5bac6bf49b31c91802": {
          "model_module": "@jupyter-widgets/base",
          "model_name": "LayoutModel",
          "state": {
            "_view_name": "LayoutView",
            "grid_template_rows": null,
            "right": null,
            "justify_content": null,
            "_view_module": "@jupyter-widgets/base",
            "overflow": null,
            "_model_module_version": "1.2.0",
            "_view_count": null,
            "flex_flow": null,
            "width": null,
            "min_width": null,
            "border": null,
            "align_items": null,
            "bottom": null,
            "_model_module": "@jupyter-widgets/base",
            "top": null,
            "grid_column": null,
            "overflow_y": null,
            "overflow_x": null,
            "grid_auto_flow": null,
            "grid_area": null,
            "grid_template_columns": null,
            "flex": null,
            "_model_name": "LayoutModel",
            "justify_items": null,
            "grid_row": null,
            "max_height": null,
            "align_content": null,
            "visibility": null,
            "align_self": null,
            "height": null,
            "min_height": null,
            "padding": null,
            "grid_auto_rows": null,
            "grid_gap": null,
            "max_width": null,
            "order": null,
            "_view_module_version": "1.2.0",
            "grid_template_areas": null,
            "object_position": null,
            "object_fit": null,
            "grid_auto_columns": null,
            "margin": null,
            "display": null,
            "left": null
          }
        },
        "f22acdee8ecf4f2498883995ef2ecfbc": {
          "model_module": "@jupyter-widgets/controls",
          "model_name": "DescriptionStyleModel",
          "state": {
            "_view_name": "StyleView",
            "_model_name": "DescriptionStyleModel",
            "description_width": "",
            "_view_module": "@jupyter-widgets/base",
            "_model_module_version": "1.5.0",
            "_view_count": null,
            "_view_module_version": "1.2.0",
            "_model_module": "@jupyter-widgets/controls"
          }
        },
        "00039ca23c3a4f4d8df54506f36cfea2": {
          "model_module": "@jupyter-widgets/base",
          "model_name": "LayoutModel",
          "state": {
            "_view_name": "LayoutView",
            "grid_template_rows": null,
            "right": null,
            "justify_content": null,
            "_view_module": "@jupyter-widgets/base",
            "overflow": null,
            "_model_module_version": "1.2.0",
            "_view_count": null,
            "flex_flow": null,
            "width": null,
            "min_width": null,
            "border": null,
            "align_items": null,
            "bottom": null,
            "_model_module": "@jupyter-widgets/base",
            "top": null,
            "grid_column": null,
            "overflow_y": null,
            "overflow_x": null,
            "grid_auto_flow": null,
            "grid_area": null,
            "grid_template_columns": null,
            "flex": null,
            "_model_name": "LayoutModel",
            "justify_items": null,
            "grid_row": null,
            "max_height": null,
            "align_content": null,
            "visibility": null,
            "align_self": null,
            "height": null,
            "min_height": null,
            "padding": null,
            "grid_auto_rows": null,
            "grid_gap": null,
            "max_width": null,
            "order": null,
            "_view_module_version": "1.2.0",
            "grid_template_areas": null,
            "object_position": null,
            "object_fit": null,
            "grid_auto_columns": null,
            "margin": null,
            "display": null,
            "left": null
          }
        },
        "19ecee93c74c4757a679a086549be6b8": {
          "model_module": "@jupyter-widgets/controls",
          "model_name": "HBoxModel",
          "state": {
            "_view_name": "HBoxView",
            "_dom_classes": [],
            "_model_name": "HBoxModel",
            "_view_module": "@jupyter-widgets/controls",
            "_model_module_version": "1.5.0",
            "_view_count": null,
            "_view_module_version": "1.5.0",
            "box_style": "",
            "layout": "IPY_MODEL_62c49f65530942ed879de86989246203",
            "_model_module": "@jupyter-widgets/controls",
            "children": [
              "IPY_MODEL_404b88f7b6d846d6a07189e8ec2db1ac",
              "IPY_MODEL_4c40584509da44b084de9c198c73a0a0"
            ]
          }
        },
        "62c49f65530942ed879de86989246203": {
          "model_module": "@jupyter-widgets/base",
          "model_name": "LayoutModel",
          "state": {
            "_view_name": "LayoutView",
            "grid_template_rows": null,
            "right": null,
            "justify_content": null,
            "_view_module": "@jupyter-widgets/base",
            "overflow": null,
            "_model_module_version": "1.2.0",
            "_view_count": null,
            "flex_flow": null,
            "width": null,
            "min_width": null,
            "border": null,
            "align_items": null,
            "bottom": null,
            "_model_module": "@jupyter-widgets/base",
            "top": null,
            "grid_column": null,
            "overflow_y": null,
            "overflow_x": null,
            "grid_auto_flow": null,
            "grid_area": null,
            "grid_template_columns": null,
            "flex": null,
            "_model_name": "LayoutModel",
            "justify_items": null,
            "grid_row": null,
            "max_height": null,
            "align_content": null,
            "visibility": null,
            "align_self": null,
            "height": null,
            "min_height": null,
            "padding": null,
            "grid_auto_rows": null,
            "grid_gap": null,
            "max_width": null,
            "order": null,
            "_view_module_version": "1.2.0",
            "grid_template_areas": null,
            "object_position": null,
            "object_fit": null,
            "grid_auto_columns": null,
            "margin": null,
            "display": null,
            "left": null
          }
        },
        "404b88f7b6d846d6a07189e8ec2db1ac": {
          "model_module": "@jupyter-widgets/controls",
          "model_name": "FloatProgressModel",
          "state": {
            "_view_name": "ProgressView",
            "style": "IPY_MODEL_30c865c4802d419b8e46f5fe09933b75",
            "_dom_classes": [],
            "description": "Downloading: ",
            "_model_name": "FloatProgressModel",
            "bar_style": "success",
            "max": 9954,
            "_view_module": "@jupyter-widgets/controls",
            "_model_module_version": "1.5.0",
            "value": 9954,
            "_view_count": null,
            "_view_module_version": "1.5.0",
            "orientation": "horizontal",
            "min": 0,
            "description_tooltip": null,
            "_model_module": "@jupyter-widgets/controls",
            "layout": "IPY_MODEL_8aba11f6caa349128d09592550ffc8d6"
          }
        },
        "4c40584509da44b084de9c198c73a0a0": {
          "model_module": "@jupyter-widgets/controls",
          "model_name": "HTMLModel",
          "state": {
            "_view_name": "HTMLView",
            "style": "IPY_MODEL_c974154e602c4f4fb3148890b0a89460",
            "_dom_classes": [],
            "description": "",
            "_model_name": "HTMLModel",
            "placeholder": "​",
            "_view_module": "@jupyter-widgets/controls",
            "_model_module_version": "1.5.0",
            "value": " 153k/? [00:00&lt;00:00, 1.99MB/s]",
            "_view_count": null,
            "_view_module_version": "1.5.0",
            "description_tooltip": null,
            "_model_module": "@jupyter-widgets/controls",
            "layout": "IPY_MODEL_8d8ff02e54314d92918b53af359b1acc"
          }
        },
        "30c865c4802d419b8e46f5fe09933b75": {
          "model_module": "@jupyter-widgets/controls",
          "model_name": "ProgressStyleModel",
          "state": {
            "_view_name": "StyleView",
            "_model_name": "ProgressStyleModel",
            "description_width": "initial",
            "_view_module": "@jupyter-widgets/base",
            "_model_module_version": "1.5.0",
            "_view_count": null,
            "_view_module_version": "1.2.0",
            "bar_color": null,
            "_model_module": "@jupyter-widgets/controls"
          }
        },
        "8aba11f6caa349128d09592550ffc8d6": {
          "model_module": "@jupyter-widgets/base",
          "model_name": "LayoutModel",
          "state": {
            "_view_name": "LayoutView",
            "grid_template_rows": null,
            "right": null,
            "justify_content": null,
            "_view_module": "@jupyter-widgets/base",
            "overflow": null,
            "_model_module_version": "1.2.0",
            "_view_count": null,
            "flex_flow": null,
            "width": null,
            "min_width": null,
            "border": null,
            "align_items": null,
            "bottom": null,
            "_model_module": "@jupyter-widgets/base",
            "top": null,
            "grid_column": null,
            "overflow_y": null,
            "overflow_x": null,
            "grid_auto_flow": null,
            "grid_area": null,
            "grid_template_columns": null,
            "flex": null,
            "_model_name": "LayoutModel",
            "justify_items": null,
            "grid_row": null,
            "max_height": null,
            "align_content": null,
            "visibility": null,
            "align_self": null,
            "height": null,
            "min_height": null,
            "padding": null,
            "grid_auto_rows": null,
            "grid_gap": null,
            "max_width": null,
            "order": null,
            "_view_module_version": "1.2.0",
            "grid_template_areas": null,
            "object_position": null,
            "object_fit": null,
            "grid_auto_columns": null,
            "margin": null,
            "display": null,
            "left": null
          }
        },
        "c974154e602c4f4fb3148890b0a89460": {
          "model_module": "@jupyter-widgets/controls",
          "model_name": "DescriptionStyleModel",
          "state": {
            "_view_name": "StyleView",
            "_model_name": "DescriptionStyleModel",
            "description_width": "",
            "_view_module": "@jupyter-widgets/base",
            "_model_module_version": "1.5.0",
            "_view_count": null,
            "_view_module_version": "1.2.0",
            "_model_module": "@jupyter-widgets/controls"
          }
        },
        "8d8ff02e54314d92918b53af359b1acc": {
          "model_module": "@jupyter-widgets/base",
          "model_name": "LayoutModel",
          "state": {
            "_view_name": "LayoutView",
            "grid_template_rows": null,
            "right": null,
            "justify_content": null,
            "_view_module": "@jupyter-widgets/base",
            "overflow": null,
            "_model_module_version": "1.2.0",
            "_view_count": null,
            "flex_flow": null,
            "width": null,
            "min_width": null,
            "border": null,
            "align_items": null,
            "bottom": null,
            "_model_module": "@jupyter-widgets/base",
            "top": null,
            "grid_column": null,
            "overflow_y": null,
            "overflow_x": null,
            "grid_auto_flow": null,
            "grid_area": null,
            "grid_template_columns": null,
            "flex": null,
            "_model_name": "LayoutModel",
            "justify_items": null,
            "grid_row": null,
            "max_height": null,
            "align_content": null,
            "visibility": null,
            "align_self": null,
            "height": null,
            "min_height": null,
            "padding": null,
            "grid_auto_rows": null,
            "grid_gap": null,
            "max_width": null,
            "order": null,
            "_view_module_version": "1.2.0",
            "grid_template_areas": null,
            "object_position": null,
            "object_fit": null,
            "grid_auto_columns": null,
            "margin": null,
            "display": null,
            "left": null
          }
        },
        "939edd477f4745559c7c3027c4e9571c": {
          "model_module": "@jupyter-widgets/controls",
          "model_name": "HBoxModel",
          "state": {
            "_view_name": "HBoxView",
            "_dom_classes": [],
            "_model_name": "HBoxModel",
            "_view_module": "@jupyter-widgets/controls",
            "_model_module_version": "1.5.0",
            "_view_count": null,
            "_view_module_version": "1.5.0",
            "box_style": "",
            "layout": "IPY_MODEL_2fb06b92472546c4afc5ae485b85ff8f",
            "_model_module": "@jupyter-widgets/controls",
            "children": [
              "IPY_MODEL_126da43ea65744b3b9cf7265b67a686c",
              "IPY_MODEL_dc89a83a66c0487490cfd97548952a8d"
            ]
          }
        },
        "2fb06b92472546c4afc5ae485b85ff8f": {
          "model_module": "@jupyter-widgets/base",
          "model_name": "LayoutModel",
          "state": {
            "_view_name": "LayoutView",
            "grid_template_rows": null,
            "right": null,
            "justify_content": null,
            "_view_module": "@jupyter-widgets/base",
            "overflow": null,
            "_model_module_version": "1.2.0",
            "_view_count": null,
            "flex_flow": null,
            "width": null,
            "min_width": null,
            "border": null,
            "align_items": null,
            "bottom": null,
            "_model_module": "@jupyter-widgets/base",
            "top": null,
            "grid_column": null,
            "overflow_y": null,
            "overflow_x": null,
            "grid_auto_flow": null,
            "grid_area": null,
            "grid_template_columns": null,
            "flex": null,
            "_model_name": "LayoutModel",
            "justify_items": null,
            "grid_row": null,
            "max_height": null,
            "align_content": null,
            "visibility": null,
            "align_self": null,
            "height": null,
            "min_height": null,
            "padding": null,
            "grid_auto_rows": null,
            "grid_gap": null,
            "max_width": null,
            "order": null,
            "_view_module_version": "1.2.0",
            "grid_template_areas": null,
            "object_position": null,
            "object_fit": null,
            "grid_auto_columns": null,
            "margin": null,
            "display": null,
            "left": null
          }
        },
        "126da43ea65744b3b9cf7265b67a686c": {
          "model_module": "@jupyter-widgets/controls",
          "model_name": "FloatProgressModel",
          "state": {
            "_view_name": "ProgressView",
            "style": "IPY_MODEL_a05d9655890042d1af0f0699e4a24e54",
            "_dom_classes": [],
            "description": "Downloading: 100%",
            "_model_name": "FloatProgressModel",
            "bar_style": "success",
            "max": 475918233,
            "_view_module": "@jupyter-widgets/controls",
            "_model_module_version": "1.5.0",
            "value": 475918233,
            "_view_count": null,
            "_view_module_version": "1.5.0",
            "orientation": "horizontal",
            "min": 0,
            "description_tooltip": null,
            "_model_module": "@jupyter-widgets/controls",
            "layout": "IPY_MODEL_3890545fbe364b4da1303c9d80c27189"
          }
        },
        "dc89a83a66c0487490cfd97548952a8d": {
          "model_module": "@jupyter-widgets/controls",
          "model_name": "HTMLModel",
          "state": {
            "_view_name": "HTMLView",
            "style": "IPY_MODEL_f3900583cec04da78ff1f3794b8b434e",
            "_dom_classes": [],
            "description": "",
            "_model_name": "HTMLModel",
            "placeholder": "​",
            "_view_module": "@jupyter-widgets/controls",
            "_model_module_version": "1.5.0",
            "value": " 476M/476M [00:17&lt;00:00, 27.3MB/s]",
            "_view_count": null,
            "_view_module_version": "1.5.0",
            "description_tooltip": null,
            "_model_module": "@jupyter-widgets/controls",
            "layout": "IPY_MODEL_e05c03b75d964de0a58bf4628201b6f9"
          }
        },
        "a05d9655890042d1af0f0699e4a24e54": {
          "model_module": "@jupyter-widgets/controls",
          "model_name": "ProgressStyleModel",
          "state": {
            "_view_name": "StyleView",
            "_model_name": "ProgressStyleModel",
            "description_width": "initial",
            "_view_module": "@jupyter-widgets/base",
            "_model_module_version": "1.5.0",
            "_view_count": null,
            "_view_module_version": "1.2.0",
            "bar_color": null,
            "_model_module": "@jupyter-widgets/controls"
          }
        },
        "3890545fbe364b4da1303c9d80c27189": {
          "model_module": "@jupyter-widgets/base",
          "model_name": "LayoutModel",
          "state": {
            "_view_name": "LayoutView",
            "grid_template_rows": null,
            "right": null,
            "justify_content": null,
            "_view_module": "@jupyter-widgets/base",
            "overflow": null,
            "_model_module_version": "1.2.0",
            "_view_count": null,
            "flex_flow": null,
            "width": null,
            "min_width": null,
            "border": null,
            "align_items": null,
            "bottom": null,
            "_model_module": "@jupyter-widgets/base",
            "top": null,
            "grid_column": null,
            "overflow_y": null,
            "overflow_x": null,
            "grid_auto_flow": null,
            "grid_area": null,
            "grid_template_columns": null,
            "flex": null,
            "_model_name": "LayoutModel",
            "justify_items": null,
            "grid_row": null,
            "max_height": null,
            "align_content": null,
            "visibility": null,
            "align_self": null,
            "height": null,
            "min_height": null,
            "padding": null,
            "grid_auto_rows": null,
            "grid_gap": null,
            "max_width": null,
            "order": null,
            "_view_module_version": "1.2.0",
            "grid_template_areas": null,
            "object_position": null,
            "object_fit": null,
            "grid_auto_columns": null,
            "margin": null,
            "display": null,
            "left": null
          }
        },
        "f3900583cec04da78ff1f3794b8b434e": {
          "model_module": "@jupyter-widgets/controls",
          "model_name": "DescriptionStyleModel",
          "state": {
            "_view_name": "StyleView",
            "_model_name": "DescriptionStyleModel",
            "description_width": "",
            "_view_module": "@jupyter-widgets/base",
            "_model_module_version": "1.5.0",
            "_view_count": null,
            "_view_module_version": "1.2.0",
            "_model_module": "@jupyter-widgets/controls"
          }
        },
        "e05c03b75d964de0a58bf4628201b6f9": {
          "model_module": "@jupyter-widgets/base",
          "model_name": "LayoutModel",
          "state": {
            "_view_name": "LayoutView",
            "grid_template_rows": null,
            "right": null,
            "justify_content": null,
            "_view_module": "@jupyter-widgets/base",
            "overflow": null,
            "_model_module_version": "1.2.0",
            "_view_count": null,
            "flex_flow": null,
            "width": null,
            "min_width": null,
            "border": null,
            "align_items": null,
            "bottom": null,
            "_model_module": "@jupyter-widgets/base",
            "top": null,
            "grid_column": null,
            "overflow_y": null,
            "overflow_x": null,
            "grid_auto_flow": null,
            "grid_area": null,
            "grid_template_columns": null,
            "flex": null,
            "_model_name": "LayoutModel",
            "justify_items": null,
            "grid_row": null,
            "max_height": null,
            "align_content": null,
            "visibility": null,
            "align_self": null,
            "height": null,
            "min_height": null,
            "padding": null,
            "grid_auto_rows": null,
            "grid_gap": null,
            "max_width": null,
            "order": null,
            "_view_module_version": "1.2.0",
            "grid_template_areas": null,
            "object_position": null,
            "object_fit": null,
            "grid_auto_columns": null,
            "margin": null,
            "display": null,
            "left": null
          }
        },
        "8974b769f3ca48c9999ccf103b740673": {
          "model_module": "@jupyter-widgets/controls",
          "model_name": "HBoxModel",
          "state": {
            "_view_name": "HBoxView",
            "_dom_classes": [],
            "_model_name": "HBoxModel",
            "_view_module": "@jupyter-widgets/controls",
            "_model_module_version": "1.5.0",
            "_view_count": null,
            "_view_module_version": "1.5.0",
            "box_style": "",
            "layout": "IPY_MODEL_33c91f83522d42829c21e1207d70bc99",
            "_model_module": "@jupyter-widgets/controls",
            "children": [
              "IPY_MODEL_32a7bf329359423e9e360008085c64ba",
              "IPY_MODEL_ac61a95f02654899b31cf24ca745e543"
            ]
          }
        },
        "33c91f83522d42829c21e1207d70bc99": {
          "model_module": "@jupyter-widgets/base",
          "model_name": "LayoutModel",
          "state": {
            "_view_name": "LayoutView",
            "grid_template_rows": null,
            "right": null,
            "justify_content": null,
            "_view_module": "@jupyter-widgets/base",
            "overflow": null,
            "_model_module_version": "1.2.0",
            "_view_count": null,
            "flex_flow": null,
            "width": null,
            "min_width": null,
            "border": null,
            "align_items": null,
            "bottom": null,
            "_model_module": "@jupyter-widgets/base",
            "top": null,
            "grid_column": null,
            "overflow_y": null,
            "overflow_x": null,
            "grid_auto_flow": null,
            "grid_area": null,
            "grid_template_columns": null,
            "flex": null,
            "_model_name": "LayoutModel",
            "justify_items": null,
            "grid_row": null,
            "max_height": null,
            "align_content": null,
            "visibility": null,
            "align_self": null,
            "height": null,
            "min_height": null,
            "padding": null,
            "grid_auto_rows": null,
            "grid_gap": null,
            "max_width": null,
            "order": null,
            "_view_module_version": "1.2.0",
            "grid_template_areas": null,
            "object_position": null,
            "object_fit": null,
            "grid_auto_columns": null,
            "margin": null,
            "display": null,
            "left": null
          }
        },
        "32a7bf329359423e9e360008085c64ba": {
          "model_module": "@jupyter-widgets/controls",
          "model_name": "FloatProgressModel",
          "state": {
            "_view_name": "ProgressView",
            "style": "IPY_MODEL_dfabb843c471489485d3cd4fd38ba934",
            "_dom_classes": [],
            "description": "",
            "_model_name": "FloatProgressModel",
            "bar_style": "info",
            "max": 1,
            "_view_module": "@jupyter-widgets/controls",
            "_model_module_version": "1.5.0",
            "value": 1,
            "_view_count": null,
            "_view_module_version": "1.5.0",
            "orientation": "horizontal",
            "min": 0,
            "description_tooltip": null,
            "_model_module": "@jupyter-widgets/controls",
            "layout": "IPY_MODEL_6ab33eee929b4235b42ffd921e86d4bd"
          }
        },
        "ac61a95f02654899b31cf24ca745e543": {
          "model_module": "@jupyter-widgets/controls",
          "model_name": "HTMLModel",
          "state": {
            "_view_name": "HTMLView",
            "style": "IPY_MODEL_6c1a1fcc66ea4aef91d076941deaf83e",
            "_dom_classes": [],
            "description": "",
            "_model_name": "HTMLModel",
            "placeholder": "​",
            "_view_module": "@jupyter-widgets/controls",
            "_model_module_version": "1.5.0",
            "value": " 2130/0 [00:05&lt;00:00,  3.63s/ examples]",
            "_view_count": null,
            "_view_module_version": "1.5.0",
            "description_tooltip": null,
            "_model_module": "@jupyter-widgets/controls",
            "layout": "IPY_MODEL_0cba12d1ad7a4daf8bb8c58dbc666d74"
          }
        },
        "dfabb843c471489485d3cd4fd38ba934": {
          "model_module": "@jupyter-widgets/controls",
          "model_name": "ProgressStyleModel",
          "state": {
            "_view_name": "StyleView",
            "_model_name": "ProgressStyleModel",
            "description_width": "initial",
            "_view_module": "@jupyter-widgets/base",
            "_model_module_version": "1.5.0",
            "_view_count": null,
            "_view_module_version": "1.2.0",
            "bar_color": null,
            "_model_module": "@jupyter-widgets/controls"
          }
        },
        "6ab33eee929b4235b42ffd921e86d4bd": {
          "model_module": "@jupyter-widgets/base",
          "model_name": "LayoutModel",
          "state": {
            "_view_name": "LayoutView",
            "grid_template_rows": null,
            "right": null,
            "justify_content": null,
            "_view_module": "@jupyter-widgets/base",
            "overflow": null,
            "_model_module_version": "1.2.0",
            "_view_count": null,
            "flex_flow": null,
            "width": null,
            "min_width": null,
            "border": null,
            "align_items": null,
            "bottom": null,
            "_model_module": "@jupyter-widgets/base",
            "top": null,
            "grid_column": null,
            "overflow_y": null,
            "overflow_x": null,
            "grid_auto_flow": null,
            "grid_area": null,
            "grid_template_columns": null,
            "flex": null,
            "_model_name": "LayoutModel",
            "justify_items": null,
            "grid_row": null,
            "max_height": null,
            "align_content": null,
            "visibility": null,
            "align_self": null,
            "height": null,
            "min_height": null,
            "padding": null,
            "grid_auto_rows": null,
            "grid_gap": null,
            "max_width": null,
            "order": null,
            "_view_module_version": "1.2.0",
            "grid_template_areas": null,
            "object_position": null,
            "object_fit": null,
            "grid_auto_columns": null,
            "margin": null,
            "display": null,
            "left": null
          }
        },
        "6c1a1fcc66ea4aef91d076941deaf83e": {
          "model_module": "@jupyter-widgets/controls",
          "model_name": "DescriptionStyleModel",
          "state": {
            "_view_name": "StyleView",
            "_model_name": "DescriptionStyleModel",
            "description_width": "",
            "_view_module": "@jupyter-widgets/base",
            "_model_module_version": "1.5.0",
            "_view_count": null,
            "_view_module_version": "1.2.0",
            "_model_module": "@jupyter-widgets/controls"
          }
        },
        "0cba12d1ad7a4daf8bb8c58dbc666d74": {
          "model_module": "@jupyter-widgets/base",
          "model_name": "LayoutModel",
          "state": {
            "_view_name": "LayoutView",
            "grid_template_rows": null,
            "right": null,
            "justify_content": null,
            "_view_module": "@jupyter-widgets/base",
            "overflow": null,
            "_model_module_version": "1.2.0",
            "_view_count": null,
            "flex_flow": null,
            "width": null,
            "min_width": null,
            "border": null,
            "align_items": null,
            "bottom": null,
            "_model_module": "@jupyter-widgets/base",
            "top": null,
            "grid_column": null,
            "overflow_y": null,
            "overflow_x": null,
            "grid_auto_flow": null,
            "grid_area": null,
            "grid_template_columns": null,
            "flex": null,
            "_model_name": "LayoutModel",
            "justify_items": null,
            "grid_row": null,
            "max_height": null,
            "align_content": null,
            "visibility": null,
            "align_self": null,
            "height": null,
            "min_height": null,
            "padding": null,
            "grid_auto_rows": null,
            "grid_gap": null,
            "max_width": null,
            "order": null,
            "_view_module_version": "1.2.0",
            "grid_template_areas": null,
            "object_position": null,
            "object_fit": null,
            "grid_auto_columns": null,
            "margin": null,
            "display": null,
            "left": null
          }
        },
        "198a8ffc54844b618efc353c3dc48933": {
          "model_module": "@jupyter-widgets/controls",
          "model_name": "HBoxModel",
          "state": {
            "_view_name": "HBoxView",
            "_dom_classes": [],
            "_model_name": "HBoxModel",
            "_view_module": "@jupyter-widgets/controls",
            "_model_module_version": "1.5.0",
            "_view_count": null,
            "_view_module_version": "1.5.0",
            "box_style": "",
            "layout": "IPY_MODEL_67f4194a13104960ba1d5466ab2b954b",
            "_model_module": "@jupyter-widgets/controls",
            "children": [
              "IPY_MODEL_073652e6daf04d62a3123dfb3f8cbda1",
              "IPY_MODEL_5f80db4f160149f7a533c1361a60d9f1"
            ]
          }
        },
        "67f4194a13104960ba1d5466ab2b954b": {
          "model_module": "@jupyter-widgets/base",
          "model_name": "LayoutModel",
          "state": {
            "_view_name": "LayoutView",
            "grid_template_rows": null,
            "right": null,
            "justify_content": null,
            "_view_module": "@jupyter-widgets/base",
            "overflow": null,
            "_model_module_version": "1.2.0",
            "_view_count": null,
            "flex_flow": null,
            "width": null,
            "min_width": null,
            "border": null,
            "align_items": null,
            "bottom": null,
            "_model_module": "@jupyter-widgets/base",
            "top": null,
            "grid_column": null,
            "overflow_y": null,
            "overflow_x": null,
            "grid_auto_flow": null,
            "grid_area": null,
            "grid_template_columns": null,
            "flex": null,
            "_model_name": "LayoutModel",
            "justify_items": null,
            "grid_row": null,
            "max_height": null,
            "align_content": null,
            "visibility": null,
            "align_self": null,
            "height": null,
            "min_height": null,
            "padding": null,
            "grid_auto_rows": null,
            "grid_gap": null,
            "max_width": null,
            "order": null,
            "_view_module_version": "1.2.0",
            "grid_template_areas": null,
            "object_position": null,
            "object_fit": null,
            "grid_auto_columns": null,
            "margin": null,
            "display": null,
            "left": null
          }
        },
        "073652e6daf04d62a3123dfb3f8cbda1": {
          "model_module": "@jupyter-widgets/controls",
          "model_name": "FloatProgressModel",
          "state": {
            "_view_name": "ProgressView",
            "style": "IPY_MODEL_b4488f24b5e640a9b57290491a32f374",
            "_dom_classes": [],
            "description": "",
            "_model_name": "FloatProgressModel",
            "bar_style": "info",
            "max": 1,
            "_view_module": "@jupyter-widgets/controls",
            "_model_module_version": "1.5.0",
            "value": 1,
            "_view_count": null,
            "_view_module_version": "1.5.0",
            "orientation": "horizontal",
            "min": 0,
            "description_tooltip": null,
            "_model_module": "@jupyter-widgets/controls",
            "layout": "IPY_MODEL_e4407311159f4caaaccef472cbf829a8"
          }
        },
        "5f80db4f160149f7a533c1361a60d9f1": {
          "model_module": "@jupyter-widgets/controls",
          "model_name": "HTMLModel",
          "state": {
            "_view_name": "HTMLView",
            "style": "IPY_MODEL_2eaaff3e7e2b496ea780e95b4fbda4d4",
            "_dom_classes": [],
            "description": "",
            "_model_name": "HTMLModel",
            "placeholder": "​",
            "_view_module": "@jupyter-widgets/controls",
            "_model_module_version": "1.5.0",
            "value": " 1844/0 [00:00&lt;00:00, 9614.12 examples/s]",
            "_view_count": null,
            "_view_module_version": "1.5.0",
            "description_tooltip": null,
            "_model_module": "@jupyter-widgets/controls",
            "layout": "IPY_MODEL_4aa53a1ba28146c29509e0c2d558b8a7"
          }
        },
        "b4488f24b5e640a9b57290491a32f374": {
          "model_module": "@jupyter-widgets/controls",
          "model_name": "ProgressStyleModel",
          "state": {
            "_view_name": "StyleView",
            "_model_name": "ProgressStyleModel",
            "description_width": "initial",
            "_view_module": "@jupyter-widgets/base",
            "_model_module_version": "1.5.0",
            "_view_count": null,
            "_view_module_version": "1.2.0",
            "bar_color": null,
            "_model_module": "@jupyter-widgets/controls"
          }
        },
        "e4407311159f4caaaccef472cbf829a8": {
          "model_module": "@jupyter-widgets/base",
          "model_name": "LayoutModel",
          "state": {
            "_view_name": "LayoutView",
            "grid_template_rows": null,
            "right": null,
            "justify_content": null,
            "_view_module": "@jupyter-widgets/base",
            "overflow": null,
            "_model_module_version": "1.2.0",
            "_view_count": null,
            "flex_flow": null,
            "width": null,
            "min_width": null,
            "border": null,
            "align_items": null,
            "bottom": null,
            "_model_module": "@jupyter-widgets/base",
            "top": null,
            "grid_column": null,
            "overflow_y": null,
            "overflow_x": null,
            "grid_auto_flow": null,
            "grid_area": null,
            "grid_template_columns": null,
            "flex": null,
            "_model_name": "LayoutModel",
            "justify_items": null,
            "grid_row": null,
            "max_height": null,
            "align_content": null,
            "visibility": null,
            "align_self": null,
            "height": null,
            "min_height": null,
            "padding": null,
            "grid_auto_rows": null,
            "grid_gap": null,
            "max_width": null,
            "order": null,
            "_view_module_version": "1.2.0",
            "grid_template_areas": null,
            "object_position": null,
            "object_fit": null,
            "grid_auto_columns": null,
            "margin": null,
            "display": null,
            "left": null
          }
        },
        "2eaaff3e7e2b496ea780e95b4fbda4d4": {
          "model_module": "@jupyter-widgets/controls",
          "model_name": "DescriptionStyleModel",
          "state": {
            "_view_name": "StyleView",
            "_model_name": "DescriptionStyleModel",
            "description_width": "",
            "_view_module": "@jupyter-widgets/base",
            "_model_module_version": "1.5.0",
            "_view_count": null,
            "_view_module_version": "1.2.0",
            "_model_module": "@jupyter-widgets/controls"
          }
        },
        "4aa53a1ba28146c29509e0c2d558b8a7": {
          "model_module": "@jupyter-widgets/base",
          "model_name": "LayoutModel",
          "state": {
            "_view_name": "LayoutView",
            "grid_template_rows": null,
            "right": null,
            "justify_content": null,
            "_view_module": "@jupyter-widgets/base",
            "overflow": null,
            "_model_module_version": "1.2.0",
            "_view_count": null,
            "flex_flow": null,
            "width": null,
            "min_width": null,
            "border": null,
            "align_items": null,
            "bottom": null,
            "_model_module": "@jupyter-widgets/base",
            "top": null,
            "grid_column": null,
            "overflow_y": null,
            "overflow_x": null,
            "grid_auto_flow": null,
            "grid_area": null,
            "grid_template_columns": null,
            "flex": null,
            "_model_name": "LayoutModel",
            "justify_items": null,
            "grid_row": null,
            "max_height": null,
            "align_content": null,
            "visibility": null,
            "align_self": null,
            "height": null,
            "min_height": null,
            "padding": null,
            "grid_auto_rows": null,
            "grid_gap": null,
            "max_width": null,
            "order": null,
            "_view_module_version": "1.2.0",
            "grid_template_areas": null,
            "object_position": null,
            "object_fit": null,
            "grid_auto_columns": null,
            "margin": null,
            "display": null,
            "left": null
          }
        },
        "6b4835c9b3034d9ba2d551ce6a14a9a6": {
          "model_module": "@jupyter-widgets/controls",
          "model_name": "HBoxModel",
          "state": {
            "_view_name": "HBoxView",
            "_dom_classes": [],
            "_model_name": "HBoxModel",
            "_view_module": "@jupyter-widgets/controls",
            "_model_module_version": "1.5.0",
            "_view_count": null,
            "_view_module_version": "1.5.0",
            "box_style": "",
            "layout": "IPY_MODEL_0360bd5943b142d38021f6007f8b7037",
            "_model_module": "@jupyter-widgets/controls",
            "children": [
              "IPY_MODEL_8e3c6955292b44fea8a9773330771ba5",
              "IPY_MODEL_b418be330fb740bda61504bf2b3909f1"
            ]
          }
        },
        "0360bd5943b142d38021f6007f8b7037": {
          "model_module": "@jupyter-widgets/base",
          "model_name": "LayoutModel",
          "state": {
            "_view_name": "LayoutView",
            "grid_template_rows": null,
            "right": null,
            "justify_content": null,
            "_view_module": "@jupyter-widgets/base",
            "overflow": null,
            "_model_module_version": "1.2.0",
            "_view_count": null,
            "flex_flow": null,
            "width": null,
            "min_width": null,
            "border": null,
            "align_items": null,
            "bottom": null,
            "_model_module": "@jupyter-widgets/base",
            "top": null,
            "grid_column": null,
            "overflow_y": null,
            "overflow_x": null,
            "grid_auto_flow": null,
            "grid_area": null,
            "grid_template_columns": null,
            "flex": null,
            "_model_name": "LayoutModel",
            "justify_items": null,
            "grid_row": null,
            "max_height": null,
            "align_content": null,
            "visibility": null,
            "align_self": null,
            "height": null,
            "min_height": null,
            "padding": null,
            "grid_auto_rows": null,
            "grid_gap": null,
            "max_width": null,
            "order": null,
            "_view_module_version": "1.2.0",
            "grid_template_areas": null,
            "object_position": null,
            "object_fit": null,
            "grid_auto_columns": null,
            "margin": null,
            "display": null,
            "left": null
          }
        },
        "8e3c6955292b44fea8a9773330771ba5": {
          "model_module": "@jupyter-widgets/controls",
          "model_name": "FloatProgressModel",
          "state": {
            "_view_name": "ProgressView",
            "style": "IPY_MODEL_ceeb8ea47c394120983d53a60c99cb9f",
            "_dom_classes": [],
            "description": "",
            "_model_name": "FloatProgressModel",
            "bar_style": "info",
            "max": 1,
            "_view_module": "@jupyter-widgets/controls",
            "_model_module_version": "1.5.0",
            "value": 1,
            "_view_count": null,
            "_view_module_version": "1.5.0",
            "orientation": "horizontal",
            "min": 0,
            "description_tooltip": null,
            "_model_module": "@jupyter-widgets/controls",
            "layout": "IPY_MODEL_f8cec53c267d4adb8817e1ce63c4d8a5"
          }
        },
        "b418be330fb740bda61504bf2b3909f1": {
          "model_module": "@jupyter-widgets/controls",
          "model_name": "HTMLModel",
          "state": {
            "_view_name": "HTMLView",
            "style": "IPY_MODEL_0722bbb4438c40c59e536402c3eab284",
            "_dom_classes": [],
            "description": "",
            "_model_name": "HTMLModel",
            "placeholder": "​",
            "_view_module": "@jupyter-widgets/controls",
            "_model_module_version": "1.5.0",
            "value": " 1835/0 [00:00&lt;00:00, 9287.99 examples/s]",
            "_view_count": null,
            "_view_module_version": "1.5.0",
            "description_tooltip": null,
            "_model_module": "@jupyter-widgets/controls",
            "layout": "IPY_MODEL_1540121f734f430285d815e9759702d9"
          }
        },
        "ceeb8ea47c394120983d53a60c99cb9f": {
          "model_module": "@jupyter-widgets/controls",
          "model_name": "ProgressStyleModel",
          "state": {
            "_view_name": "StyleView",
            "_model_name": "ProgressStyleModel",
            "description_width": "initial",
            "_view_module": "@jupyter-widgets/base",
            "_model_module_version": "1.5.0",
            "_view_count": null,
            "_view_module_version": "1.2.0",
            "bar_color": null,
            "_model_module": "@jupyter-widgets/controls"
          }
        },
        "f8cec53c267d4adb8817e1ce63c4d8a5": {
          "model_module": "@jupyter-widgets/base",
          "model_name": "LayoutModel",
          "state": {
            "_view_name": "LayoutView",
            "grid_template_rows": null,
            "right": null,
            "justify_content": null,
            "_view_module": "@jupyter-widgets/base",
            "overflow": null,
            "_model_module_version": "1.2.0",
            "_view_count": null,
            "flex_flow": null,
            "width": null,
            "min_width": null,
            "border": null,
            "align_items": null,
            "bottom": null,
            "_model_module": "@jupyter-widgets/base",
            "top": null,
            "grid_column": null,
            "overflow_y": null,
            "overflow_x": null,
            "grid_auto_flow": null,
            "grid_area": null,
            "grid_template_columns": null,
            "flex": null,
            "_model_name": "LayoutModel",
            "justify_items": null,
            "grid_row": null,
            "max_height": null,
            "align_content": null,
            "visibility": null,
            "align_self": null,
            "height": null,
            "min_height": null,
            "padding": null,
            "grid_auto_rows": null,
            "grid_gap": null,
            "max_width": null,
            "order": null,
            "_view_module_version": "1.2.0",
            "grid_template_areas": null,
            "object_position": null,
            "object_fit": null,
            "grid_auto_columns": null,
            "margin": null,
            "display": null,
            "left": null
          }
        },
        "0722bbb4438c40c59e536402c3eab284": {
          "model_module": "@jupyter-widgets/controls",
          "model_name": "DescriptionStyleModel",
          "state": {
            "_view_name": "StyleView",
            "_model_name": "DescriptionStyleModel",
            "description_width": "",
            "_view_module": "@jupyter-widgets/base",
            "_model_module_version": "1.5.0",
            "_view_count": null,
            "_view_module_version": "1.2.0",
            "_model_module": "@jupyter-widgets/controls"
          }
        },
        "1540121f734f430285d815e9759702d9": {
          "model_module": "@jupyter-widgets/base",
          "model_name": "LayoutModel",
          "state": {
            "_view_name": "LayoutView",
            "grid_template_rows": null,
            "right": null,
            "justify_content": null,
            "_view_module": "@jupyter-widgets/base",
            "overflow": null,
            "_model_module_version": "1.2.0",
            "_view_count": null,
            "flex_flow": null,
            "width": null,
            "min_width": null,
            "border": null,
            "align_items": null,
            "bottom": null,
            "_model_module": "@jupyter-widgets/base",
            "top": null,
            "grid_column": null,
            "overflow_y": null,
            "overflow_x": null,
            "grid_auto_flow": null,
            "grid_area": null,
            "grid_template_columns": null,
            "flex": null,
            "_model_name": "LayoutModel",
            "justify_items": null,
            "grid_row": null,
            "max_height": null,
            "align_content": null,
            "visibility": null,
            "align_self": null,
            "height": null,
            "min_height": null,
            "padding": null,
            "grid_auto_rows": null,
            "grid_gap": null,
            "max_width": null,
            "order": null,
            "_view_module_version": "1.2.0",
            "grid_template_areas": null,
            "object_position": null,
            "object_fit": null,
            "grid_auto_columns": null,
            "margin": null,
            "display": null,
            "left": null
          }
        },
        "b9bb8d4811be484c88cf4c47e383e453": {
          "model_module": "@jupyter-widgets/controls",
          "model_name": "HBoxModel",
          "state": {
            "_view_name": "HBoxView",
            "_dom_classes": [],
            "_model_name": "HBoxModel",
            "_view_module": "@jupyter-widgets/controls",
            "_model_module_version": "1.5.0",
            "_view_count": null,
            "_view_module_version": "1.5.0",
            "box_style": "",
            "layout": "IPY_MODEL_391656ab255242d3a2ab319766adc96c",
            "_model_module": "@jupyter-widgets/controls",
            "children": [
              "IPY_MODEL_61c83931bb9b4bfa995696742e9b765c",
              "IPY_MODEL_32a90d0f3a5a404a92eb318b02116500"
            ]
          }
        },
        "391656ab255242d3a2ab319766adc96c": {
          "model_module": "@jupyter-widgets/base",
          "model_name": "LayoutModel",
          "state": {
            "_view_name": "LayoutView",
            "grid_template_rows": null,
            "right": null,
            "justify_content": null,
            "_view_module": "@jupyter-widgets/base",
            "overflow": null,
            "_model_module_version": "1.2.0",
            "_view_count": null,
            "flex_flow": null,
            "width": null,
            "min_width": null,
            "border": null,
            "align_items": null,
            "bottom": null,
            "_model_module": "@jupyter-widgets/base",
            "top": null,
            "grid_column": null,
            "overflow_y": null,
            "overflow_x": null,
            "grid_auto_flow": null,
            "grid_area": null,
            "grid_template_columns": null,
            "flex": null,
            "_model_name": "LayoutModel",
            "justify_items": null,
            "grid_row": null,
            "max_height": null,
            "align_content": null,
            "visibility": null,
            "align_self": null,
            "height": null,
            "min_height": null,
            "padding": null,
            "grid_auto_rows": null,
            "grid_gap": null,
            "max_width": null,
            "order": null,
            "_view_module_version": "1.2.0",
            "grid_template_areas": null,
            "object_position": null,
            "object_fit": null,
            "grid_auto_columns": null,
            "margin": null,
            "display": null,
            "left": null
          }
        },
        "61c83931bb9b4bfa995696742e9b765c": {
          "model_module": "@jupyter-widgets/controls",
          "model_name": "FloatProgressModel",
          "state": {
            "_view_name": "ProgressView",
            "style": "IPY_MODEL_5a47b674e6414850b4e56b5dbd1deea5",
            "_dom_classes": [],
            "description": "",
            "_model_name": "FloatProgressModel",
            "bar_style": "info",
            "max": 1,
            "_view_module": "@jupyter-widgets/controls",
            "_model_module_version": "1.5.0",
            "value": 1,
            "_view_count": null,
            "_view_module_version": "1.5.0",
            "orientation": "horizontal",
            "min": 0,
            "description_tooltip": null,
            "_model_module": "@jupyter-widgets/controls",
            "layout": "IPY_MODEL_480d1ab39c7e4c89b6c1fcd7d073beae"
          }
        },
        "32a90d0f3a5a404a92eb318b02116500": {
          "model_module": "@jupyter-widgets/controls",
          "model_name": "HTMLModel",
          "state": {
            "_view_name": "HTMLView",
            "style": "IPY_MODEL_999440c56beb4a24b5f055b47e00034f",
            "_dom_classes": [],
            "description": "",
            "_model_name": "HTMLModel",
            "placeholder": "​",
            "_view_module": "@jupyter-widgets/controls",
            "_model_module_version": "1.5.0",
            "value": " 6782/0 [00:00&lt;00:00, 12340.32 examples/s]",
            "_view_count": null,
            "_view_module_version": "1.5.0",
            "description_tooltip": null,
            "_model_module": "@jupyter-widgets/controls",
            "layout": "IPY_MODEL_25ecfe61b1b04824a811015b1a932105"
          }
        },
        "5a47b674e6414850b4e56b5dbd1deea5": {
          "model_module": "@jupyter-widgets/controls",
          "model_name": "ProgressStyleModel",
          "state": {
            "_view_name": "StyleView",
            "_model_name": "ProgressStyleModel",
            "description_width": "initial",
            "_view_module": "@jupyter-widgets/base",
            "_model_module_version": "1.5.0",
            "_view_count": null,
            "_view_module_version": "1.2.0",
            "bar_color": null,
            "_model_module": "@jupyter-widgets/controls"
          }
        },
        "480d1ab39c7e4c89b6c1fcd7d073beae": {
          "model_module": "@jupyter-widgets/base",
          "model_name": "LayoutModel",
          "state": {
            "_view_name": "LayoutView",
            "grid_template_rows": null,
            "right": null,
            "justify_content": null,
            "_view_module": "@jupyter-widgets/base",
            "overflow": null,
            "_model_module_version": "1.2.0",
            "_view_count": null,
            "flex_flow": null,
            "width": null,
            "min_width": null,
            "border": null,
            "align_items": null,
            "bottom": null,
            "_model_module": "@jupyter-widgets/base",
            "top": null,
            "grid_column": null,
            "overflow_y": null,
            "overflow_x": null,
            "grid_auto_flow": null,
            "grid_area": null,
            "grid_template_columns": null,
            "flex": null,
            "_model_name": "LayoutModel",
            "justify_items": null,
            "grid_row": null,
            "max_height": null,
            "align_content": null,
            "visibility": null,
            "align_self": null,
            "height": null,
            "min_height": null,
            "padding": null,
            "grid_auto_rows": null,
            "grid_gap": null,
            "max_width": null,
            "order": null,
            "_view_module_version": "1.2.0",
            "grid_template_areas": null,
            "object_position": null,
            "object_fit": null,
            "grid_auto_columns": null,
            "margin": null,
            "display": null,
            "left": null
          }
        },
        "999440c56beb4a24b5f055b47e00034f": {
          "model_module": "@jupyter-widgets/controls",
          "model_name": "DescriptionStyleModel",
          "state": {
            "_view_name": "StyleView",
            "_model_name": "DescriptionStyleModel",
            "description_width": "",
            "_view_module": "@jupyter-widgets/base",
            "_model_module_version": "1.5.0",
            "_view_count": null,
            "_view_module_version": "1.2.0",
            "_model_module": "@jupyter-widgets/controls"
          }
        },
        "25ecfe61b1b04824a811015b1a932105": {
          "model_module": "@jupyter-widgets/base",
          "model_name": "LayoutModel",
          "state": {
            "_view_name": "LayoutView",
            "grid_template_rows": null,
            "right": null,
            "justify_content": null,
            "_view_module": "@jupyter-widgets/base",
            "overflow": null,
            "_model_module_version": "1.2.0",
            "_view_count": null,
            "flex_flow": null,
            "width": null,
            "min_width": null,
            "border": null,
            "align_items": null,
            "bottom": null,
            "_model_module": "@jupyter-widgets/base",
            "top": null,
            "grid_column": null,
            "overflow_y": null,
            "overflow_x": null,
            "grid_auto_flow": null,
            "grid_area": null,
            "grid_template_columns": null,
            "flex": null,
            "_model_name": "LayoutModel",
            "justify_items": null,
            "grid_row": null,
            "max_height": null,
            "align_content": null,
            "visibility": null,
            "align_self": null,
            "height": null,
            "min_height": null,
            "padding": null,
            "grid_auto_rows": null,
            "grid_gap": null,
            "max_width": null,
            "order": null,
            "_view_module_version": "1.2.0",
            "grid_template_areas": null,
            "object_position": null,
            "object_fit": null,
            "grid_auto_columns": null,
            "margin": null,
            "display": null,
            "left": null
          }
        },
        "5b1ee6f35d25465780f8a8950c1ee399": {
          "model_module": "@jupyter-widgets/controls",
          "model_name": "HBoxModel",
          "state": {
            "_view_name": "HBoxView",
            "_dom_classes": [],
            "_model_name": "HBoxModel",
            "_view_module": "@jupyter-widgets/controls",
            "_model_module_version": "1.5.0",
            "_view_count": null,
            "_view_module_version": "1.5.0",
            "box_style": "",
            "layout": "IPY_MODEL_377e975692dd4292b2db0ab19efcf7f5",
            "_model_module": "@jupyter-widgets/controls",
            "children": [
              "IPY_MODEL_ad0abe22895145358426238694191755",
              "IPY_MODEL_49634a81874d40cfb07214560f9434de"
            ]
          }
        },
        "377e975692dd4292b2db0ab19efcf7f5": {
          "model_module": "@jupyter-widgets/base",
          "model_name": "LayoutModel",
          "state": {
            "_view_name": "LayoutView",
            "grid_template_rows": null,
            "right": null,
            "justify_content": null,
            "_view_module": "@jupyter-widgets/base",
            "overflow": null,
            "_model_module_version": "1.2.0",
            "_view_count": null,
            "flex_flow": null,
            "width": null,
            "min_width": null,
            "border": null,
            "align_items": null,
            "bottom": null,
            "_model_module": "@jupyter-widgets/base",
            "top": null,
            "grid_column": null,
            "overflow_y": null,
            "overflow_x": null,
            "grid_auto_flow": null,
            "grid_area": null,
            "grid_template_columns": null,
            "flex": null,
            "_model_name": "LayoutModel",
            "justify_items": null,
            "grid_row": null,
            "max_height": null,
            "align_content": null,
            "visibility": null,
            "align_self": null,
            "height": null,
            "min_height": null,
            "padding": null,
            "grid_auto_rows": null,
            "grid_gap": null,
            "max_width": null,
            "order": null,
            "_view_module_version": "1.2.0",
            "grid_template_areas": null,
            "object_position": null,
            "object_fit": null,
            "grid_auto_columns": null,
            "margin": null,
            "display": null,
            "left": null
          }
        },
        "ad0abe22895145358426238694191755": {
          "model_module": "@jupyter-widgets/controls",
          "model_name": "FloatProgressModel",
          "state": {
            "_view_name": "ProgressView",
            "style": "IPY_MODEL_fa48caf9024444bd9ec91d768e989fb6",
            "_dom_classes": [],
            "description": "",
            "_model_name": "FloatProgressModel",
            "bar_style": "info",
            "max": 1,
            "_view_module": "@jupyter-widgets/controls",
            "_model_module_version": "1.5.0",
            "value": 1,
            "_view_count": null,
            "_view_module_version": "1.5.0",
            "orientation": "horizontal",
            "min": 0,
            "description_tooltip": null,
            "_model_module": "@jupyter-widgets/controls",
            "layout": "IPY_MODEL_f0017574ff8842ae9ac2f80f0ab72220"
          }
        },
        "49634a81874d40cfb07214560f9434de": {
          "model_module": "@jupyter-widgets/controls",
          "model_name": "HTMLModel",
          "state": {
            "_view_name": "HTMLView",
            "style": "IPY_MODEL_a1d2906157264ef9b12d6f01a226018c",
            "_dom_classes": [],
            "description": "",
            "_model_name": "HTMLModel",
            "placeholder": "​",
            "_view_module": "@jupyter-widgets/controls",
            "_model_module_version": "1.5.0",
            "value": " 470/0 [00:00&lt;00:00, 7236.97 examples/s]",
            "_view_count": null,
            "_view_module_version": "1.5.0",
            "description_tooltip": null,
            "_model_module": "@jupyter-widgets/controls",
            "layout": "IPY_MODEL_cdcdc36b5cc344d0b0696a182944a3b0"
          }
        },
        "fa48caf9024444bd9ec91d768e989fb6": {
          "model_module": "@jupyter-widgets/controls",
          "model_name": "ProgressStyleModel",
          "state": {
            "_view_name": "StyleView",
            "_model_name": "ProgressStyleModel",
            "description_width": "initial",
            "_view_module": "@jupyter-widgets/base",
            "_model_module_version": "1.5.0",
            "_view_count": null,
            "_view_module_version": "1.2.0",
            "bar_color": null,
            "_model_module": "@jupyter-widgets/controls"
          }
        },
        "f0017574ff8842ae9ac2f80f0ab72220": {
          "model_module": "@jupyter-widgets/base",
          "model_name": "LayoutModel",
          "state": {
            "_view_name": "LayoutView",
            "grid_template_rows": null,
            "right": null,
            "justify_content": null,
            "_view_module": "@jupyter-widgets/base",
            "overflow": null,
            "_model_module_version": "1.2.0",
            "_view_count": null,
            "flex_flow": null,
            "width": null,
            "min_width": null,
            "border": null,
            "align_items": null,
            "bottom": null,
            "_model_module": "@jupyter-widgets/base",
            "top": null,
            "grid_column": null,
            "overflow_y": null,
            "overflow_x": null,
            "grid_auto_flow": null,
            "grid_area": null,
            "grid_template_columns": null,
            "flex": null,
            "_model_name": "LayoutModel",
            "justify_items": null,
            "grid_row": null,
            "max_height": null,
            "align_content": null,
            "visibility": null,
            "align_self": null,
            "height": null,
            "min_height": null,
            "padding": null,
            "grid_auto_rows": null,
            "grid_gap": null,
            "max_width": null,
            "order": null,
            "_view_module_version": "1.2.0",
            "grid_template_areas": null,
            "object_position": null,
            "object_fit": null,
            "grid_auto_columns": null,
            "margin": null,
            "display": null,
            "left": null
          }
        },
        "a1d2906157264ef9b12d6f01a226018c": {
          "model_module": "@jupyter-widgets/controls",
          "model_name": "DescriptionStyleModel",
          "state": {
            "_view_name": "StyleView",
            "_model_name": "DescriptionStyleModel",
            "description_width": "",
            "_view_module": "@jupyter-widgets/base",
            "_model_module_version": "1.5.0",
            "_view_count": null,
            "_view_module_version": "1.2.0",
            "_model_module": "@jupyter-widgets/controls"
          }
        },
        "cdcdc36b5cc344d0b0696a182944a3b0": {
          "model_module": "@jupyter-widgets/base",
          "model_name": "LayoutModel",
          "state": {
            "_view_name": "LayoutView",
            "grid_template_rows": null,
            "right": null,
            "justify_content": null,
            "_view_module": "@jupyter-widgets/base",
            "overflow": null,
            "_model_module_version": "1.2.0",
            "_view_count": null,
            "flex_flow": null,
            "width": null,
            "min_width": null,
            "border": null,
            "align_items": null,
            "bottom": null,
            "_model_module": "@jupyter-widgets/base",
            "top": null,
            "grid_column": null,
            "overflow_y": null,
            "overflow_x": null,
            "grid_auto_flow": null,
            "grid_area": null,
            "grid_template_columns": null,
            "flex": null,
            "_model_name": "LayoutModel",
            "justify_items": null,
            "grid_row": null,
            "max_height": null,
            "align_content": null,
            "visibility": null,
            "align_self": null,
            "height": null,
            "min_height": null,
            "padding": null,
            "grid_auto_rows": null,
            "grid_gap": null,
            "max_width": null,
            "order": null,
            "_view_module_version": "1.2.0",
            "grid_template_areas": null,
            "object_position": null,
            "object_fit": null,
            "grid_auto_columns": null,
            "margin": null,
            "display": null,
            "left": null
          }
        },
        "6ec4c28e708d4c429dd20bb8027bfbbd": {
          "model_module": "@jupyter-widgets/controls",
          "model_name": "HBoxModel",
          "state": {
            "_view_name": "HBoxView",
            "_dom_classes": [],
            "_model_name": "HBoxModel",
            "_view_module": "@jupyter-widgets/controls",
            "_model_module_version": "1.5.0",
            "_view_count": null,
            "_view_module_version": "1.5.0",
            "box_style": "",
            "layout": "IPY_MODEL_1fea38d5886f498a862e98d993f78a1e",
            "_model_module": "@jupyter-widgets/controls",
            "children": [
              "IPY_MODEL_2f2256f267f54242859783ba018f8234",
              "IPY_MODEL_180aa24a6c124921b2edcc4f8a5c7145"
            ]
          }
        },
        "1fea38d5886f498a862e98d993f78a1e": {
          "model_module": "@jupyter-widgets/base",
          "model_name": "LayoutModel",
          "state": {
            "_view_name": "LayoutView",
            "grid_template_rows": null,
            "right": null,
            "justify_content": null,
            "_view_module": "@jupyter-widgets/base",
            "overflow": null,
            "_model_module_version": "1.2.0",
            "_view_count": null,
            "flex_flow": null,
            "width": null,
            "min_width": null,
            "border": null,
            "align_items": null,
            "bottom": null,
            "_model_module": "@jupyter-widgets/base",
            "top": null,
            "grid_column": null,
            "overflow_y": null,
            "overflow_x": null,
            "grid_auto_flow": null,
            "grid_area": null,
            "grid_template_columns": null,
            "flex": null,
            "_model_name": "LayoutModel",
            "justify_items": null,
            "grid_row": null,
            "max_height": null,
            "align_content": null,
            "visibility": null,
            "align_self": null,
            "height": null,
            "min_height": null,
            "padding": null,
            "grid_auto_rows": null,
            "grid_gap": null,
            "max_width": null,
            "order": null,
            "_view_module_version": "1.2.0",
            "grid_template_areas": null,
            "object_position": null,
            "object_fit": null,
            "grid_auto_columns": null,
            "margin": null,
            "display": null,
            "left": null
          }
        },
        "2f2256f267f54242859783ba018f8234": {
          "model_module": "@jupyter-widgets/controls",
          "model_name": "FloatProgressModel",
          "state": {
            "_view_name": "ProgressView",
            "style": "IPY_MODEL_a440fbb5d49c40b7a7f7698cdecadeb7",
            "_dom_classes": [],
            "description": "100%",
            "_model_name": "FloatProgressModel",
            "bar_style": "success",
            "max": 3965,
            "_view_module": "@jupyter-widgets/controls",
            "_model_module_version": "1.5.0",
            "value": 3965,
            "_view_count": null,
            "_view_module_version": "1.5.0",
            "orientation": "horizontal",
            "min": 0,
            "description_tooltip": null,
            "_model_module": "@jupyter-widgets/controls",
            "layout": "IPY_MODEL_06f27dc814ed488891090b1fbebe7222"
          }
        },
        "180aa24a6c124921b2edcc4f8a5c7145": {
          "model_module": "@jupyter-widgets/controls",
          "model_name": "HTMLModel",
          "state": {
            "_view_name": "HTMLView",
            "style": "IPY_MODEL_fe52be877e1a431b8a497cfefcb89a25",
            "_dom_classes": [],
            "description": "",
            "_model_name": "HTMLModel",
            "placeholder": "​",
            "_view_module": "@jupyter-widgets/controls",
            "_model_module_version": "1.5.0",
            "value": " 3965/3965 [00:40&lt;00:00, 97.86ex/s]",
            "_view_count": null,
            "_view_module_version": "1.5.0",
            "description_tooltip": null,
            "_model_module": "@jupyter-widgets/controls",
            "layout": "IPY_MODEL_eb23309d0447485abf4a4e847fbaed56"
          }
        },
        "a440fbb5d49c40b7a7f7698cdecadeb7": {
          "model_module": "@jupyter-widgets/controls",
          "model_name": "ProgressStyleModel",
          "state": {
            "_view_name": "StyleView",
            "_model_name": "ProgressStyleModel",
            "description_width": "initial",
            "_view_module": "@jupyter-widgets/base",
            "_model_module_version": "1.5.0",
            "_view_count": null,
            "_view_module_version": "1.2.0",
            "bar_color": null,
            "_model_module": "@jupyter-widgets/controls"
          }
        },
        "06f27dc814ed488891090b1fbebe7222": {
          "model_module": "@jupyter-widgets/base",
          "model_name": "LayoutModel",
          "state": {
            "_view_name": "LayoutView",
            "grid_template_rows": null,
            "right": null,
            "justify_content": null,
            "_view_module": "@jupyter-widgets/base",
            "overflow": null,
            "_model_module_version": "1.2.0",
            "_view_count": null,
            "flex_flow": null,
            "width": null,
            "min_width": null,
            "border": null,
            "align_items": null,
            "bottom": null,
            "_model_module": "@jupyter-widgets/base",
            "top": null,
            "grid_column": null,
            "overflow_y": null,
            "overflow_x": null,
            "grid_auto_flow": null,
            "grid_area": null,
            "grid_template_columns": null,
            "flex": null,
            "_model_name": "LayoutModel",
            "justify_items": null,
            "grid_row": null,
            "max_height": null,
            "align_content": null,
            "visibility": null,
            "align_self": null,
            "height": null,
            "min_height": null,
            "padding": null,
            "grid_auto_rows": null,
            "grid_gap": null,
            "max_width": null,
            "order": null,
            "_view_module_version": "1.2.0",
            "grid_template_areas": null,
            "object_position": null,
            "object_fit": null,
            "grid_auto_columns": null,
            "margin": null,
            "display": null,
            "left": null
          }
        },
        "fe52be877e1a431b8a497cfefcb89a25": {
          "model_module": "@jupyter-widgets/controls",
          "model_name": "DescriptionStyleModel",
          "state": {
            "_view_name": "StyleView",
            "_model_name": "DescriptionStyleModel",
            "description_width": "",
            "_view_module": "@jupyter-widgets/base",
            "_model_module_version": "1.5.0",
            "_view_count": null,
            "_view_module_version": "1.2.0",
            "_model_module": "@jupyter-widgets/controls"
          }
        },
        "eb23309d0447485abf4a4e847fbaed56": {
          "model_module": "@jupyter-widgets/base",
          "model_name": "LayoutModel",
          "state": {
            "_view_name": "LayoutView",
            "grid_template_rows": null,
            "right": null,
            "justify_content": null,
            "_view_module": "@jupyter-widgets/base",
            "overflow": null,
            "_model_module_version": "1.2.0",
            "_view_count": null,
            "flex_flow": null,
            "width": null,
            "min_width": null,
            "border": null,
            "align_items": null,
            "bottom": null,
            "_model_module": "@jupyter-widgets/base",
            "top": null,
            "grid_column": null,
            "overflow_y": null,
            "overflow_x": null,
            "grid_auto_flow": null,
            "grid_area": null,
            "grid_template_columns": null,
            "flex": null,
            "_model_name": "LayoutModel",
            "justify_items": null,
            "grid_row": null,
            "max_height": null,
            "align_content": null,
            "visibility": null,
            "align_self": null,
            "height": null,
            "min_height": null,
            "padding": null,
            "grid_auto_rows": null,
            "grid_gap": null,
            "max_width": null,
            "order": null,
            "_view_module_version": "1.2.0",
            "grid_template_areas": null,
            "object_position": null,
            "object_fit": null,
            "grid_auto_columns": null,
            "margin": null,
            "display": null,
            "left": null
          }
        },
        "e1bc7652dcd84d5e90079413d4f87a62": {
          "model_module": "@jupyter-widgets/controls",
          "model_name": "HBoxModel",
          "state": {
            "_view_name": "HBoxView",
            "_dom_classes": [],
            "_model_name": "HBoxModel",
            "_view_module": "@jupyter-widgets/controls",
            "_model_module_version": "1.5.0",
            "_view_count": null,
            "_view_module_version": "1.5.0",
            "box_style": "",
            "layout": "IPY_MODEL_fadfa6368fb74a038372165f1ec1d3d7",
            "_model_module": "@jupyter-widgets/controls",
            "children": [
              "IPY_MODEL_a1b894f6f76441d3baba01f1ba1d1ad8",
              "IPY_MODEL_e132fb223a284aeb81ec07973c824c37"
            ]
          }
        },
        "fadfa6368fb74a038372165f1ec1d3d7": {
          "model_module": "@jupyter-widgets/base",
          "model_name": "LayoutModel",
          "state": {
            "_view_name": "LayoutView",
            "grid_template_rows": null,
            "right": null,
            "justify_content": null,
            "_view_module": "@jupyter-widgets/base",
            "overflow": null,
            "_model_module_version": "1.2.0",
            "_view_count": null,
            "flex_flow": null,
            "width": null,
            "min_width": null,
            "border": null,
            "align_items": null,
            "bottom": null,
            "_model_module": "@jupyter-widgets/base",
            "top": null,
            "grid_column": null,
            "overflow_y": null,
            "overflow_x": null,
            "grid_auto_flow": null,
            "grid_area": null,
            "grid_template_columns": null,
            "flex": null,
            "_model_name": "LayoutModel",
            "justify_items": null,
            "grid_row": null,
            "max_height": null,
            "align_content": null,
            "visibility": null,
            "align_self": null,
            "height": null,
            "min_height": null,
            "padding": null,
            "grid_auto_rows": null,
            "grid_gap": null,
            "max_width": null,
            "order": null,
            "_view_module_version": "1.2.0",
            "grid_template_areas": null,
            "object_position": null,
            "object_fit": null,
            "grid_auto_columns": null,
            "margin": null,
            "display": null,
            "left": null
          }
        },
        "a1b894f6f76441d3baba01f1ba1d1ad8": {
          "model_module": "@jupyter-widgets/controls",
          "model_name": "FloatProgressModel",
          "state": {
            "_view_name": "ProgressView",
            "style": "IPY_MODEL_883a531d0427407c9219444bbb91129b",
            "_dom_classes": [],
            "description": "100%",
            "_model_name": "FloatProgressModel",
            "bar_style": "success",
            "max": 1844,
            "_view_module": "@jupyter-widgets/controls",
            "_model_module_version": "1.5.0",
            "value": 1844,
            "_view_count": null,
            "_view_module_version": "1.5.0",
            "orientation": "horizontal",
            "min": 0,
            "description_tooltip": null,
            "_model_module": "@jupyter-widgets/controls",
            "layout": "IPY_MODEL_e6b6b9ec143743348814cd41ac97fbf2"
          }
        },
        "e132fb223a284aeb81ec07973c824c37": {
          "model_module": "@jupyter-widgets/controls",
          "model_name": "HTMLModel",
          "state": {
            "_view_name": "HTMLView",
            "style": "IPY_MODEL_76d5617d413a4c5ab371594f1b35756c",
            "_dom_classes": [],
            "description": "",
            "_model_name": "HTMLModel",
            "placeholder": "​",
            "_view_module": "@jupyter-widgets/controls",
            "_model_module_version": "1.5.0",
            "value": " 1844/1844 [00:40&lt;00:00, 45.82ex/s]",
            "_view_count": null,
            "_view_module_version": "1.5.0",
            "description_tooltip": null,
            "_model_module": "@jupyter-widgets/controls",
            "layout": "IPY_MODEL_2f8abc1a668645d493fb26674c72e409"
          }
        },
        "883a531d0427407c9219444bbb91129b": {
          "model_module": "@jupyter-widgets/controls",
          "model_name": "ProgressStyleModel",
          "state": {
            "_view_name": "StyleView",
            "_model_name": "ProgressStyleModel",
            "description_width": "initial",
            "_view_module": "@jupyter-widgets/base",
            "_model_module_version": "1.5.0",
            "_view_count": null,
            "_view_module_version": "1.2.0",
            "bar_color": null,
            "_model_module": "@jupyter-widgets/controls"
          }
        },
        "e6b6b9ec143743348814cd41ac97fbf2": {
          "model_module": "@jupyter-widgets/base",
          "model_name": "LayoutModel",
          "state": {
            "_view_name": "LayoutView",
            "grid_template_rows": null,
            "right": null,
            "justify_content": null,
            "_view_module": "@jupyter-widgets/base",
            "overflow": null,
            "_model_module_version": "1.2.0",
            "_view_count": null,
            "flex_flow": null,
            "width": null,
            "min_width": null,
            "border": null,
            "align_items": null,
            "bottom": null,
            "_model_module": "@jupyter-widgets/base",
            "top": null,
            "grid_column": null,
            "overflow_y": null,
            "overflow_x": null,
            "grid_auto_flow": null,
            "grid_area": null,
            "grid_template_columns": null,
            "flex": null,
            "_model_name": "LayoutModel",
            "justify_items": null,
            "grid_row": null,
            "max_height": null,
            "align_content": null,
            "visibility": null,
            "align_self": null,
            "height": null,
            "min_height": null,
            "padding": null,
            "grid_auto_rows": null,
            "grid_gap": null,
            "max_width": null,
            "order": null,
            "_view_module_version": "1.2.0",
            "grid_template_areas": null,
            "object_position": null,
            "object_fit": null,
            "grid_auto_columns": null,
            "margin": null,
            "display": null,
            "left": null
          }
        },
        "76d5617d413a4c5ab371594f1b35756c": {
          "model_module": "@jupyter-widgets/controls",
          "model_name": "DescriptionStyleModel",
          "state": {
            "_view_name": "StyleView",
            "_model_name": "DescriptionStyleModel",
            "description_width": "",
            "_view_module": "@jupyter-widgets/base",
            "_model_module_version": "1.5.0",
            "_view_count": null,
            "_view_module_version": "1.2.0",
            "_model_module": "@jupyter-widgets/controls"
          }
        },
        "2f8abc1a668645d493fb26674c72e409": {
          "model_module": "@jupyter-widgets/base",
          "model_name": "LayoutModel",
          "state": {
            "_view_name": "LayoutView",
            "grid_template_rows": null,
            "right": null,
            "justify_content": null,
            "_view_module": "@jupyter-widgets/base",
            "overflow": null,
            "_model_module_version": "1.2.0",
            "_view_count": null,
            "flex_flow": null,
            "width": null,
            "min_width": null,
            "border": null,
            "align_items": null,
            "bottom": null,
            "_model_module": "@jupyter-widgets/base",
            "top": null,
            "grid_column": null,
            "overflow_y": null,
            "overflow_x": null,
            "grid_auto_flow": null,
            "grid_area": null,
            "grid_template_columns": null,
            "flex": null,
            "_model_name": "LayoutModel",
            "justify_items": null,
            "grid_row": null,
            "max_height": null,
            "align_content": null,
            "visibility": null,
            "align_self": null,
            "height": null,
            "min_height": null,
            "padding": null,
            "grid_auto_rows": null,
            "grid_gap": null,
            "max_width": null,
            "order": null,
            "_view_module_version": "1.2.0",
            "grid_template_areas": null,
            "object_position": null,
            "object_fit": null,
            "grid_auto_columns": null,
            "margin": null,
            "display": null,
            "left": null
          }
        },
        "b57f4fd1390a431f8816822c81a40bd2": {
          "model_module": "@jupyter-widgets/controls",
          "model_name": "HBoxModel",
          "state": {
            "_view_name": "HBoxView",
            "_dom_classes": [],
            "_model_name": "HBoxModel",
            "_view_module": "@jupyter-widgets/controls",
            "_model_module_version": "1.5.0",
            "_view_count": null,
            "_view_module_version": "1.5.0",
            "box_style": "",
            "layout": "IPY_MODEL_02fea0b7629344159102dc6fdb071ee0",
            "_model_module": "@jupyter-widgets/controls",
            "children": [
              "IPY_MODEL_9471a514984248c4928169ec2c77b6e0",
              "IPY_MODEL_cc87ce46146049fea4237da9d2c66841"
            ]
          }
        },
        "02fea0b7629344159102dc6fdb071ee0": {
          "model_module": "@jupyter-widgets/base",
          "model_name": "LayoutModel",
          "state": {
            "_view_name": "LayoutView",
            "grid_template_rows": null,
            "right": null,
            "justify_content": null,
            "_view_module": "@jupyter-widgets/base",
            "overflow": null,
            "_model_module_version": "1.2.0",
            "_view_count": null,
            "flex_flow": null,
            "width": null,
            "min_width": null,
            "border": null,
            "align_items": null,
            "bottom": null,
            "_model_module": "@jupyter-widgets/base",
            "top": null,
            "grid_column": null,
            "overflow_y": null,
            "overflow_x": null,
            "grid_auto_flow": null,
            "grid_area": null,
            "grid_template_columns": null,
            "flex": null,
            "_model_name": "LayoutModel",
            "justify_items": null,
            "grid_row": null,
            "max_height": null,
            "align_content": null,
            "visibility": null,
            "align_self": null,
            "height": null,
            "min_height": null,
            "padding": null,
            "grid_auto_rows": null,
            "grid_gap": null,
            "max_width": null,
            "order": null,
            "_view_module_version": "1.2.0",
            "grid_template_areas": null,
            "object_position": null,
            "object_fit": null,
            "grid_auto_columns": null,
            "margin": null,
            "display": null,
            "left": null
          }
        },
        "9471a514984248c4928169ec2c77b6e0": {
          "model_module": "@jupyter-widgets/controls",
          "model_name": "FloatProgressModel",
          "state": {
            "_view_name": "ProgressView",
            "style": "IPY_MODEL_5a3a6211585f4391b4c954230ac5c64e",
            "_dom_classes": [],
            "description": "100%",
            "_model_name": "FloatProgressModel",
            "bar_style": "success",
            "max": 1,
            "_view_module": "@jupyter-widgets/controls",
            "_model_module_version": "1.5.0",
            "value": 1,
            "_view_count": null,
            "_view_module_version": "1.5.0",
            "orientation": "horizontal",
            "min": 0,
            "description_tooltip": null,
            "_model_module": "@jupyter-widgets/controls",
            "layout": "IPY_MODEL_4eba1988a45d40418b415c0524a7f264"
          }
        },
        "cc87ce46146049fea4237da9d2c66841": {
          "model_module": "@jupyter-widgets/controls",
          "model_name": "HTMLModel",
          "state": {
            "_view_name": "HTMLView",
            "style": "IPY_MODEL_ea5934a3bd9644e995571b3d3d84408c",
            "_dom_classes": [],
            "description": "",
            "_model_name": "HTMLModel",
            "placeholder": "​",
            "_view_module": "@jupyter-widgets/controls",
            "_model_module_version": "1.5.0",
            "value": " 1/1 [00:00&lt;00:00, 17.07ba/s]",
            "_view_count": null,
            "_view_module_version": "1.5.0",
            "description_tooltip": null,
            "_model_module": "@jupyter-widgets/controls",
            "layout": "IPY_MODEL_e0eb36f1ad764eb398ecbce07ea544f3"
          }
        },
        "5a3a6211585f4391b4c954230ac5c64e": {
          "model_module": "@jupyter-widgets/controls",
          "model_name": "ProgressStyleModel",
          "state": {
            "_view_name": "StyleView",
            "_model_name": "ProgressStyleModel",
            "description_width": "initial",
            "_view_module": "@jupyter-widgets/base",
            "_model_module_version": "1.5.0",
            "_view_count": null,
            "_view_module_version": "1.2.0",
            "bar_color": null,
            "_model_module": "@jupyter-widgets/controls"
          }
        },
        "4eba1988a45d40418b415c0524a7f264": {
          "model_module": "@jupyter-widgets/base",
          "model_name": "LayoutModel",
          "state": {
            "_view_name": "LayoutView",
            "grid_template_rows": null,
            "right": null,
            "justify_content": null,
            "_view_module": "@jupyter-widgets/base",
            "overflow": null,
            "_model_module_version": "1.2.0",
            "_view_count": null,
            "flex_flow": null,
            "width": null,
            "min_width": null,
            "border": null,
            "align_items": null,
            "bottom": null,
            "_model_module": "@jupyter-widgets/base",
            "top": null,
            "grid_column": null,
            "overflow_y": null,
            "overflow_x": null,
            "grid_auto_flow": null,
            "grid_area": null,
            "grid_template_columns": null,
            "flex": null,
            "_model_name": "LayoutModel",
            "justify_items": null,
            "grid_row": null,
            "max_height": null,
            "align_content": null,
            "visibility": null,
            "align_self": null,
            "height": null,
            "min_height": null,
            "padding": null,
            "grid_auto_rows": null,
            "grid_gap": null,
            "max_width": null,
            "order": null,
            "_view_module_version": "1.2.0",
            "grid_template_areas": null,
            "object_position": null,
            "object_fit": null,
            "grid_auto_columns": null,
            "margin": null,
            "display": null,
            "left": null
          }
        },
        "ea5934a3bd9644e995571b3d3d84408c": {
          "model_module": "@jupyter-widgets/controls",
          "model_name": "DescriptionStyleModel",
          "state": {
            "_view_name": "StyleView",
            "_model_name": "DescriptionStyleModel",
            "description_width": "",
            "_view_module": "@jupyter-widgets/base",
            "_model_module_version": "1.5.0",
            "_view_count": null,
            "_view_module_version": "1.2.0",
            "_model_module": "@jupyter-widgets/controls"
          }
        },
        "e0eb36f1ad764eb398ecbce07ea544f3": {
          "model_module": "@jupyter-widgets/base",
          "model_name": "LayoutModel",
          "state": {
            "_view_name": "LayoutView",
            "grid_template_rows": null,
            "right": null,
            "justify_content": null,
            "_view_module": "@jupyter-widgets/base",
            "overflow": null,
            "_model_module_version": "1.2.0",
            "_view_count": null,
            "flex_flow": null,
            "width": null,
            "min_width": null,
            "border": null,
            "align_items": null,
            "bottom": null,
            "_model_module": "@jupyter-widgets/base",
            "top": null,
            "grid_column": null,
            "overflow_y": null,
            "overflow_x": null,
            "grid_auto_flow": null,
            "grid_area": null,
            "grid_template_columns": null,
            "flex": null,
            "_model_name": "LayoutModel",
            "justify_items": null,
            "grid_row": null,
            "max_height": null,
            "align_content": null,
            "visibility": null,
            "align_self": null,
            "height": null,
            "min_height": null,
            "padding": null,
            "grid_auto_rows": null,
            "grid_gap": null,
            "max_width": null,
            "order": null,
            "_view_module_version": "1.2.0",
            "grid_template_areas": null,
            "object_position": null,
            "object_fit": null,
            "grid_auto_columns": null,
            "margin": null,
            "display": null,
            "left": null
          }
        },
        "7b14464ef42942a7aa0832db8603751f": {
          "model_module": "@jupyter-widgets/controls",
          "model_name": "HBoxModel",
          "state": {
            "_view_name": "HBoxView",
            "_dom_classes": [],
            "_model_name": "HBoxModel",
            "_view_module": "@jupyter-widgets/controls",
            "_model_module_version": "1.5.0",
            "_view_count": null,
            "_view_module_version": "1.5.0",
            "box_style": "",
            "layout": "IPY_MODEL_03cafa6c2e75433cbf95611fffba0f73",
            "_model_module": "@jupyter-widgets/controls",
            "children": [
              "IPY_MODEL_7760f7bc193441e68c03a1905dce9545",
              "IPY_MODEL_bf5b029fe99d48dba02b987904316377"
            ]
          }
        },
        "03cafa6c2e75433cbf95611fffba0f73": {
          "model_module": "@jupyter-widgets/base",
          "model_name": "LayoutModel",
          "state": {
            "_view_name": "LayoutView",
            "grid_template_rows": null,
            "right": null,
            "justify_content": null,
            "_view_module": "@jupyter-widgets/base",
            "overflow": null,
            "_model_module_version": "1.2.0",
            "_view_count": null,
            "flex_flow": null,
            "width": null,
            "min_width": null,
            "border": null,
            "align_items": null,
            "bottom": null,
            "_model_module": "@jupyter-widgets/base",
            "top": null,
            "grid_column": null,
            "overflow_y": null,
            "overflow_x": null,
            "grid_auto_flow": null,
            "grid_area": null,
            "grid_template_columns": null,
            "flex": null,
            "_model_name": "LayoutModel",
            "justify_items": null,
            "grid_row": null,
            "max_height": null,
            "align_content": null,
            "visibility": null,
            "align_self": null,
            "height": null,
            "min_height": null,
            "padding": null,
            "grid_auto_rows": null,
            "grid_gap": null,
            "max_width": null,
            "order": null,
            "_view_module_version": "1.2.0",
            "grid_template_areas": null,
            "object_position": null,
            "object_fit": null,
            "grid_auto_columns": null,
            "margin": null,
            "display": null,
            "left": null
          }
        },
        "7760f7bc193441e68c03a1905dce9545": {
          "model_module": "@jupyter-widgets/controls",
          "model_name": "FloatProgressModel",
          "state": {
            "_view_name": "ProgressView",
            "style": "IPY_MODEL_bd8749a1763c4da48e99686f8e4f3f9d",
            "_dom_classes": [],
            "description": "100%",
            "_model_name": "FloatProgressModel",
            "bar_style": "success",
            "max": 1,
            "_view_module": "@jupyter-widgets/controls",
            "_model_module_version": "1.5.0",
            "value": 1,
            "_view_count": null,
            "_view_module_version": "1.5.0",
            "orientation": "horizontal",
            "min": 0,
            "description_tooltip": null,
            "_model_module": "@jupyter-widgets/controls",
            "layout": "IPY_MODEL_a3bc1029050640fba1d46d197be75b29"
          }
        },
        "bf5b029fe99d48dba02b987904316377": {
          "model_module": "@jupyter-widgets/controls",
          "model_name": "HTMLModel",
          "state": {
            "_view_name": "HTMLView",
            "style": "IPY_MODEL_dc85fa4e0c3d4b8389abfd3cace717df",
            "_dom_classes": [],
            "description": "",
            "_model_name": "HTMLModel",
            "placeholder": "​",
            "_view_module": "@jupyter-widgets/controls",
            "_model_module_version": "1.5.0",
            "value": " 1/1 [01:06&lt;00:00, 66.23s/ba]",
            "_view_count": null,
            "_view_module_version": "1.5.0",
            "description_tooltip": null,
            "_model_module": "@jupyter-widgets/controls",
            "layout": "IPY_MODEL_bc3c659063a6469e9360d5d31fb3e2fc"
          }
        },
        "bd8749a1763c4da48e99686f8e4f3f9d": {
          "model_module": "@jupyter-widgets/controls",
          "model_name": "ProgressStyleModel",
          "state": {
            "_view_name": "StyleView",
            "_model_name": "ProgressStyleModel",
            "description_width": "initial",
            "_view_module": "@jupyter-widgets/base",
            "_model_module_version": "1.5.0",
            "_view_count": null,
            "_view_module_version": "1.2.0",
            "bar_color": null,
            "_model_module": "@jupyter-widgets/controls"
          }
        },
        "a3bc1029050640fba1d46d197be75b29": {
          "model_module": "@jupyter-widgets/base",
          "model_name": "LayoutModel",
          "state": {
            "_view_name": "LayoutView",
            "grid_template_rows": null,
            "right": null,
            "justify_content": null,
            "_view_module": "@jupyter-widgets/base",
            "overflow": null,
            "_model_module_version": "1.2.0",
            "_view_count": null,
            "flex_flow": null,
            "width": null,
            "min_width": null,
            "border": null,
            "align_items": null,
            "bottom": null,
            "_model_module": "@jupyter-widgets/base",
            "top": null,
            "grid_column": null,
            "overflow_y": null,
            "overflow_x": null,
            "grid_auto_flow": null,
            "grid_area": null,
            "grid_template_columns": null,
            "flex": null,
            "_model_name": "LayoutModel",
            "justify_items": null,
            "grid_row": null,
            "max_height": null,
            "align_content": null,
            "visibility": null,
            "align_self": null,
            "height": null,
            "min_height": null,
            "padding": null,
            "grid_auto_rows": null,
            "grid_gap": null,
            "max_width": null,
            "order": null,
            "_view_module_version": "1.2.0",
            "grid_template_areas": null,
            "object_position": null,
            "object_fit": null,
            "grid_auto_columns": null,
            "margin": null,
            "display": null,
            "left": null
          }
        },
        "dc85fa4e0c3d4b8389abfd3cace717df": {
          "model_module": "@jupyter-widgets/controls",
          "model_name": "DescriptionStyleModel",
          "state": {
            "_view_name": "StyleView",
            "_model_name": "DescriptionStyleModel",
            "description_width": "",
            "_view_module": "@jupyter-widgets/base",
            "_model_module_version": "1.5.0",
            "_view_count": null,
            "_view_module_version": "1.2.0",
            "_model_module": "@jupyter-widgets/controls"
          }
        },
        "bc3c659063a6469e9360d5d31fb3e2fc": {
          "model_module": "@jupyter-widgets/base",
          "model_name": "LayoutModel",
          "state": {
            "_view_name": "LayoutView",
            "grid_template_rows": null,
            "right": null,
            "justify_content": null,
            "_view_module": "@jupyter-widgets/base",
            "overflow": null,
            "_model_module_version": "1.2.0",
            "_view_count": null,
            "flex_flow": null,
            "width": null,
            "min_width": null,
            "border": null,
            "align_items": null,
            "bottom": null,
            "_model_module": "@jupyter-widgets/base",
            "top": null,
            "grid_column": null,
            "overflow_y": null,
            "overflow_x": null,
            "grid_auto_flow": null,
            "grid_area": null,
            "grid_template_columns": null,
            "flex": null,
            "_model_name": "LayoutModel",
            "justify_items": null,
            "grid_row": null,
            "max_height": null,
            "align_content": null,
            "visibility": null,
            "align_self": null,
            "height": null,
            "min_height": null,
            "padding": null,
            "grid_auto_rows": null,
            "grid_gap": null,
            "max_width": null,
            "order": null,
            "_view_module_version": "1.2.0",
            "grid_template_areas": null,
            "object_position": null,
            "object_fit": null,
            "grid_auto_columns": null,
            "margin": null,
            "display": null,
            "left": null
          }
        },
        "64ffdf8ac23b46d887917d788a9882b2": {
          "model_module": "@jupyter-widgets/controls",
          "model_name": "HBoxModel",
          "state": {
            "_view_name": "HBoxView",
            "_dom_classes": [],
            "_model_name": "HBoxModel",
            "_view_module": "@jupyter-widgets/controls",
            "_model_module_version": "1.5.0",
            "_view_count": null,
            "_view_module_version": "1.5.0",
            "box_style": "",
            "layout": "IPY_MODEL_8617f40db2ed4fe89f4ad8dc9bffa055",
            "_model_module": "@jupyter-widgets/controls",
            "children": [
              "IPY_MODEL_0fa732132e6a446b92fa81e8dde195b0",
              "IPY_MODEL_2605b2fe527e42aa812dcc34dc886cc6"
            ]
          }
        },
        "8617f40db2ed4fe89f4ad8dc9bffa055": {
          "model_module": "@jupyter-widgets/base",
          "model_name": "LayoutModel",
          "state": {
            "_view_name": "LayoutView",
            "grid_template_rows": null,
            "right": null,
            "justify_content": null,
            "_view_module": "@jupyter-widgets/base",
            "overflow": null,
            "_model_module_version": "1.2.0",
            "_view_count": null,
            "flex_flow": null,
            "width": null,
            "min_width": null,
            "border": null,
            "align_items": null,
            "bottom": null,
            "_model_module": "@jupyter-widgets/base",
            "top": null,
            "grid_column": null,
            "overflow_y": null,
            "overflow_x": null,
            "grid_auto_flow": null,
            "grid_area": null,
            "grid_template_columns": null,
            "flex": null,
            "_model_name": "LayoutModel",
            "justify_items": null,
            "grid_row": null,
            "max_height": null,
            "align_content": null,
            "visibility": null,
            "align_self": null,
            "height": null,
            "min_height": null,
            "padding": null,
            "grid_auto_rows": null,
            "grid_gap": null,
            "max_width": null,
            "order": null,
            "_view_module_version": "1.2.0",
            "grid_template_areas": null,
            "object_position": null,
            "object_fit": null,
            "grid_auto_columns": null,
            "margin": null,
            "display": null,
            "left": null
          }
        },
        "0fa732132e6a446b92fa81e8dde195b0": {
          "model_module": "@jupyter-widgets/controls",
          "model_name": "FloatProgressModel",
          "state": {
            "_view_name": "ProgressView",
            "style": "IPY_MODEL_3b8f89e0e01a42dea7c89ec73b2915b0",
            "_dom_classes": [],
            "description": "100%",
            "_model_name": "FloatProgressModel",
            "bar_style": "success",
            "max": 3965,
            "_view_module": "@jupyter-widgets/controls",
            "_model_module_version": "1.5.0",
            "value": 3965,
            "_view_count": null,
            "_view_module_version": "1.5.0",
            "orientation": "horizontal",
            "min": 0,
            "description_tooltip": null,
            "_model_module": "@jupyter-widgets/controls",
            "layout": "IPY_MODEL_01a66dc88e1143fc8266e9ecdd9c18f7"
          }
        },
        "2605b2fe527e42aa812dcc34dc886cc6": {
          "model_module": "@jupyter-widgets/controls",
          "model_name": "HTMLModel",
          "state": {
            "_view_name": "HTMLView",
            "style": "IPY_MODEL_70c81081c2f64c0ca80288124baceb5a",
            "_dom_classes": [],
            "description": "",
            "_model_name": "HTMLModel",
            "placeholder": "​",
            "_view_module": "@jupyter-widgets/controls",
            "_model_module_version": "1.5.0",
            "value": " 3965/3965 [03:27&lt;00:00, 19.15ex/s]",
            "_view_count": null,
            "_view_module_version": "1.5.0",
            "description_tooltip": null,
            "_model_module": "@jupyter-widgets/controls",
            "layout": "IPY_MODEL_bfc32c4531d2485da5f9795baf06fbfb"
          }
        },
        "3b8f89e0e01a42dea7c89ec73b2915b0": {
          "model_module": "@jupyter-widgets/controls",
          "model_name": "ProgressStyleModel",
          "state": {
            "_view_name": "StyleView",
            "_model_name": "ProgressStyleModel",
            "description_width": "initial",
            "_view_module": "@jupyter-widgets/base",
            "_model_module_version": "1.5.0",
            "_view_count": null,
            "_view_module_version": "1.2.0",
            "bar_color": null,
            "_model_module": "@jupyter-widgets/controls"
          }
        },
        "01a66dc88e1143fc8266e9ecdd9c18f7": {
          "model_module": "@jupyter-widgets/base",
          "model_name": "LayoutModel",
          "state": {
            "_view_name": "LayoutView",
            "grid_template_rows": null,
            "right": null,
            "justify_content": null,
            "_view_module": "@jupyter-widgets/base",
            "overflow": null,
            "_model_module_version": "1.2.0",
            "_view_count": null,
            "flex_flow": null,
            "width": null,
            "min_width": null,
            "border": null,
            "align_items": null,
            "bottom": null,
            "_model_module": "@jupyter-widgets/base",
            "top": null,
            "grid_column": null,
            "overflow_y": null,
            "overflow_x": null,
            "grid_auto_flow": null,
            "grid_area": null,
            "grid_template_columns": null,
            "flex": null,
            "_model_name": "LayoutModel",
            "justify_items": null,
            "grid_row": null,
            "max_height": null,
            "align_content": null,
            "visibility": null,
            "align_self": null,
            "height": null,
            "min_height": null,
            "padding": null,
            "grid_auto_rows": null,
            "grid_gap": null,
            "max_width": null,
            "order": null,
            "_view_module_version": "1.2.0",
            "grid_template_areas": null,
            "object_position": null,
            "object_fit": null,
            "grid_auto_columns": null,
            "margin": null,
            "display": null,
            "left": null
          }
        },
        "70c81081c2f64c0ca80288124baceb5a": {
          "model_module": "@jupyter-widgets/controls",
          "model_name": "DescriptionStyleModel",
          "state": {
            "_view_name": "StyleView",
            "_model_name": "DescriptionStyleModel",
            "description_width": "",
            "_view_module": "@jupyter-widgets/base",
            "_model_module_version": "1.5.0",
            "_view_count": null,
            "_view_module_version": "1.2.0",
            "_model_module": "@jupyter-widgets/controls"
          }
        },
        "bfc32c4531d2485da5f9795baf06fbfb": {
          "model_module": "@jupyter-widgets/base",
          "model_name": "LayoutModel",
          "state": {
            "_view_name": "LayoutView",
            "grid_template_rows": null,
            "right": null,
            "justify_content": null,
            "_view_module": "@jupyter-widgets/base",
            "overflow": null,
            "_model_module_version": "1.2.0",
            "_view_count": null,
            "flex_flow": null,
            "width": null,
            "min_width": null,
            "border": null,
            "align_items": null,
            "bottom": null,
            "_model_module": "@jupyter-widgets/base",
            "top": null,
            "grid_column": null,
            "overflow_y": null,
            "overflow_x": null,
            "grid_auto_flow": null,
            "grid_area": null,
            "grid_template_columns": null,
            "flex": null,
            "_model_name": "LayoutModel",
            "justify_items": null,
            "grid_row": null,
            "max_height": null,
            "align_content": null,
            "visibility": null,
            "align_self": null,
            "height": null,
            "min_height": null,
            "padding": null,
            "grid_auto_rows": null,
            "grid_gap": null,
            "max_width": null,
            "order": null,
            "_view_module_version": "1.2.0",
            "grid_template_areas": null,
            "object_position": null,
            "object_fit": null,
            "grid_auto_columns": null,
            "margin": null,
            "display": null,
            "left": null
          }
        },
        "ed61316a86924c45a7f44c83e30bc2b4": {
          "model_module": "@jupyter-widgets/controls",
          "model_name": "HBoxModel",
          "state": {
            "_view_name": "HBoxView",
            "_dom_classes": [],
            "_model_name": "HBoxModel",
            "_view_module": "@jupyter-widgets/controls",
            "_model_module_version": "1.5.0",
            "_view_count": null,
            "_view_module_version": "1.5.0",
            "box_style": "",
            "layout": "IPY_MODEL_28e6fab0bf3a4127a3bcab8fb8ccfe39",
            "_model_module": "@jupyter-widgets/controls",
            "children": [
              "IPY_MODEL_f5b9881aa9a44448b4f6714efd306d85",
              "IPY_MODEL_afae3b00bec841a390936f560e9200e0"
            ]
          }
        },
        "28e6fab0bf3a4127a3bcab8fb8ccfe39": {
          "model_module": "@jupyter-widgets/base",
          "model_name": "LayoutModel",
          "state": {
            "_view_name": "LayoutView",
            "grid_template_rows": null,
            "right": null,
            "justify_content": null,
            "_view_module": "@jupyter-widgets/base",
            "overflow": null,
            "_model_module_version": "1.2.0",
            "_view_count": null,
            "flex_flow": null,
            "width": null,
            "min_width": null,
            "border": null,
            "align_items": null,
            "bottom": null,
            "_model_module": "@jupyter-widgets/base",
            "top": null,
            "grid_column": null,
            "overflow_y": null,
            "overflow_x": null,
            "grid_auto_flow": null,
            "grid_area": null,
            "grid_template_columns": null,
            "flex": null,
            "_model_name": "LayoutModel",
            "justify_items": null,
            "grid_row": null,
            "max_height": null,
            "align_content": null,
            "visibility": null,
            "align_self": null,
            "height": null,
            "min_height": null,
            "padding": null,
            "grid_auto_rows": null,
            "grid_gap": null,
            "max_width": null,
            "order": null,
            "_view_module_version": "1.2.0",
            "grid_template_areas": null,
            "object_position": null,
            "object_fit": null,
            "grid_auto_columns": null,
            "margin": null,
            "display": null,
            "left": null
          }
        },
        "f5b9881aa9a44448b4f6714efd306d85": {
          "model_module": "@jupyter-widgets/controls",
          "model_name": "FloatProgressModel",
          "state": {
            "_view_name": "ProgressView",
            "style": "IPY_MODEL_ce4014b830c34c908afc0566aca234cc",
            "_dom_classes": [],
            "description": "100%",
            "_model_name": "FloatProgressModel",
            "bar_style": "success",
            "max": 1844,
            "_view_module": "@jupyter-widgets/controls",
            "_model_module_version": "1.5.0",
            "value": 1844,
            "_view_count": null,
            "_view_module_version": "1.5.0",
            "orientation": "horizontal",
            "min": 0,
            "description_tooltip": null,
            "_model_module": "@jupyter-widgets/controls",
            "layout": "IPY_MODEL_6f1401ef40634a73af4d7b1bc52278d5"
          }
        },
        "afae3b00bec841a390936f560e9200e0": {
          "model_module": "@jupyter-widgets/controls",
          "model_name": "HTMLModel",
          "state": {
            "_view_name": "HTMLView",
            "style": "IPY_MODEL_9fd91cc814ed41b68ee3cb19597fe681",
            "_dom_classes": [],
            "description": "",
            "_model_name": "HTMLModel",
            "placeholder": "​",
            "_view_module": "@jupyter-widgets/controls",
            "_model_module_version": "1.5.0",
            "value": " 1844/1844 [01:12&lt;00:00, 25.32ex/s]",
            "_view_count": null,
            "_view_module_version": "1.5.0",
            "description_tooltip": null,
            "_model_module": "@jupyter-widgets/controls",
            "layout": "IPY_MODEL_2ef68f0f0b544b6ca08575ff0493f1b5"
          }
        },
        "ce4014b830c34c908afc0566aca234cc": {
          "model_module": "@jupyter-widgets/controls",
          "model_name": "ProgressStyleModel",
          "state": {
            "_view_name": "StyleView",
            "_model_name": "ProgressStyleModel",
            "description_width": "initial",
            "_view_module": "@jupyter-widgets/base",
            "_model_module_version": "1.5.0",
            "_view_count": null,
            "_view_module_version": "1.2.0",
            "bar_color": null,
            "_model_module": "@jupyter-widgets/controls"
          }
        },
        "6f1401ef40634a73af4d7b1bc52278d5": {
          "model_module": "@jupyter-widgets/base",
          "model_name": "LayoutModel",
          "state": {
            "_view_name": "LayoutView",
            "grid_template_rows": null,
            "right": null,
            "justify_content": null,
            "_view_module": "@jupyter-widgets/base",
            "overflow": null,
            "_model_module_version": "1.2.0",
            "_view_count": null,
            "flex_flow": null,
            "width": null,
            "min_width": null,
            "border": null,
            "align_items": null,
            "bottom": null,
            "_model_module": "@jupyter-widgets/base",
            "top": null,
            "grid_column": null,
            "overflow_y": null,
            "overflow_x": null,
            "grid_auto_flow": null,
            "grid_area": null,
            "grid_template_columns": null,
            "flex": null,
            "_model_name": "LayoutModel",
            "justify_items": null,
            "grid_row": null,
            "max_height": null,
            "align_content": null,
            "visibility": null,
            "align_self": null,
            "height": null,
            "min_height": null,
            "padding": null,
            "grid_auto_rows": null,
            "grid_gap": null,
            "max_width": null,
            "order": null,
            "_view_module_version": "1.2.0",
            "grid_template_areas": null,
            "object_position": null,
            "object_fit": null,
            "grid_auto_columns": null,
            "margin": null,
            "display": null,
            "left": null
          }
        },
        "9fd91cc814ed41b68ee3cb19597fe681": {
          "model_module": "@jupyter-widgets/controls",
          "model_name": "DescriptionStyleModel",
          "state": {
            "_view_name": "StyleView",
            "_model_name": "DescriptionStyleModel",
            "description_width": "",
            "_view_module": "@jupyter-widgets/base",
            "_model_module_version": "1.5.0",
            "_view_count": null,
            "_view_module_version": "1.2.0",
            "_model_module": "@jupyter-widgets/controls"
          }
        },
        "2ef68f0f0b544b6ca08575ff0493f1b5": {
          "model_module": "@jupyter-widgets/base",
          "model_name": "LayoutModel",
          "state": {
            "_view_name": "LayoutView",
            "grid_template_rows": null,
            "right": null,
            "justify_content": null,
            "_view_module": "@jupyter-widgets/base",
            "overflow": null,
            "_model_module_version": "1.2.0",
            "_view_count": null,
            "flex_flow": null,
            "width": null,
            "min_width": null,
            "border": null,
            "align_items": null,
            "bottom": null,
            "_model_module": "@jupyter-widgets/base",
            "top": null,
            "grid_column": null,
            "overflow_y": null,
            "overflow_x": null,
            "grid_auto_flow": null,
            "grid_area": null,
            "grid_template_columns": null,
            "flex": null,
            "_model_name": "LayoutModel",
            "justify_items": null,
            "grid_row": null,
            "max_height": null,
            "align_content": null,
            "visibility": null,
            "align_self": null,
            "height": null,
            "min_height": null,
            "padding": null,
            "grid_auto_rows": null,
            "grid_gap": null,
            "max_width": null,
            "order": null,
            "_view_module_version": "1.2.0",
            "grid_template_areas": null,
            "object_position": null,
            "object_fit": null,
            "grid_auto_columns": null,
            "margin": null,
            "display": null,
            "left": null
          }
        },
        "413526e161954877860a60b892a0d5cf": {
          "model_module": "@jupyter-widgets/controls",
          "model_name": "HBoxModel",
          "state": {
            "_view_name": "HBoxView",
            "_dom_classes": [],
            "_model_name": "HBoxModel",
            "_view_module": "@jupyter-widgets/controls",
            "_model_module_version": "1.5.0",
            "_view_count": null,
            "_view_module_version": "1.5.0",
            "box_style": "",
            "layout": "IPY_MODEL_742a7288ac4742eea52995dfca60d975",
            "_model_module": "@jupyter-widgets/controls",
            "children": [
              "IPY_MODEL_3124cd8c73674111bf1e27d10aa9b731",
              "IPY_MODEL_f4f8e74b956249d8b57544d05df9c113"
            ]
          }
        },
        "742a7288ac4742eea52995dfca60d975": {
          "model_module": "@jupyter-widgets/base",
          "model_name": "LayoutModel",
          "state": {
            "_view_name": "LayoutView",
            "grid_template_rows": null,
            "right": null,
            "justify_content": null,
            "_view_module": "@jupyter-widgets/base",
            "overflow": null,
            "_model_module_version": "1.2.0",
            "_view_count": null,
            "flex_flow": null,
            "width": null,
            "min_width": null,
            "border": null,
            "align_items": null,
            "bottom": null,
            "_model_module": "@jupyter-widgets/base",
            "top": null,
            "grid_column": null,
            "overflow_y": null,
            "overflow_x": null,
            "grid_auto_flow": null,
            "grid_area": null,
            "grid_template_columns": null,
            "flex": null,
            "_model_name": "LayoutModel",
            "justify_items": null,
            "grid_row": null,
            "max_height": null,
            "align_content": null,
            "visibility": null,
            "align_self": null,
            "height": null,
            "min_height": null,
            "padding": null,
            "grid_auto_rows": null,
            "grid_gap": null,
            "max_width": null,
            "order": null,
            "_view_module_version": "1.2.0",
            "grid_template_areas": null,
            "object_position": null,
            "object_fit": null,
            "grid_auto_columns": null,
            "margin": null,
            "display": null,
            "left": null
          }
        },
        "3124cd8c73674111bf1e27d10aa9b731": {
          "model_module": "@jupyter-widgets/controls",
          "model_name": "FloatProgressModel",
          "state": {
            "_view_name": "ProgressView",
            "style": "IPY_MODEL_59b819df19744fcea5e221a1a11d69c2",
            "_dom_classes": [],
            "description": "#0: 100%",
            "_model_name": "FloatProgressModel",
            "bar_style": "success",
            "max": 992,
            "_view_module": "@jupyter-widgets/controls",
            "_model_module_version": "1.5.0",
            "value": 992,
            "_view_count": null,
            "_view_module_version": "1.5.0",
            "orientation": "horizontal",
            "min": 0,
            "description_tooltip": null,
            "_model_module": "@jupyter-widgets/controls",
            "layout": "IPY_MODEL_6649755dff9a4baf80d166cf2a662196"
          }
        },
        "f4f8e74b956249d8b57544d05df9c113": {
          "model_module": "@jupyter-widgets/controls",
          "model_name": "HTMLModel",
          "state": {
            "_view_name": "HTMLView",
            "style": "IPY_MODEL_0f135d529f4c4b229b6d67719da058e9",
            "_dom_classes": [],
            "description": "",
            "_model_name": "HTMLModel",
            "placeholder": "​",
            "_view_module": "@jupyter-widgets/controls",
            "_model_module_version": "1.5.0",
            "value": " 992/992 [06:10&lt;00:00,  2.68ex/s]",
            "_view_count": null,
            "_view_module_version": "1.5.0",
            "description_tooltip": null,
            "_model_module": "@jupyter-widgets/controls",
            "layout": "IPY_MODEL_bca119aa06144b4b91287c53a9ee7323"
          }
        },
        "59b819df19744fcea5e221a1a11d69c2": {
          "model_module": "@jupyter-widgets/controls",
          "model_name": "ProgressStyleModel",
          "state": {
            "_view_name": "StyleView",
            "_model_name": "ProgressStyleModel",
            "description_width": "initial",
            "_view_module": "@jupyter-widgets/base",
            "_model_module_version": "1.5.0",
            "_view_count": null,
            "_view_module_version": "1.2.0",
            "bar_color": null,
            "_model_module": "@jupyter-widgets/controls"
          }
        },
        "6649755dff9a4baf80d166cf2a662196": {
          "model_module": "@jupyter-widgets/base",
          "model_name": "LayoutModel",
          "state": {
            "_view_name": "LayoutView",
            "grid_template_rows": null,
            "right": null,
            "justify_content": null,
            "_view_module": "@jupyter-widgets/base",
            "overflow": null,
            "_model_module_version": "1.2.0",
            "_view_count": null,
            "flex_flow": null,
            "width": null,
            "min_width": null,
            "border": null,
            "align_items": null,
            "bottom": null,
            "_model_module": "@jupyter-widgets/base",
            "top": null,
            "grid_column": null,
            "overflow_y": null,
            "overflow_x": null,
            "grid_auto_flow": null,
            "grid_area": null,
            "grid_template_columns": null,
            "flex": null,
            "_model_name": "LayoutModel",
            "justify_items": null,
            "grid_row": null,
            "max_height": null,
            "align_content": null,
            "visibility": null,
            "align_self": null,
            "height": null,
            "min_height": null,
            "padding": null,
            "grid_auto_rows": null,
            "grid_gap": null,
            "max_width": null,
            "order": null,
            "_view_module_version": "1.2.0",
            "grid_template_areas": null,
            "object_position": null,
            "object_fit": null,
            "grid_auto_columns": null,
            "margin": null,
            "display": null,
            "left": null
          }
        },
        "0f135d529f4c4b229b6d67719da058e9": {
          "model_module": "@jupyter-widgets/controls",
          "model_name": "DescriptionStyleModel",
          "state": {
            "_view_name": "StyleView",
            "_model_name": "DescriptionStyleModel",
            "description_width": "",
            "_view_module": "@jupyter-widgets/base",
            "_model_module_version": "1.5.0",
            "_view_count": null,
            "_view_module_version": "1.2.0",
            "_model_module": "@jupyter-widgets/controls"
          }
        },
        "bca119aa06144b4b91287c53a9ee7323": {
          "model_module": "@jupyter-widgets/base",
          "model_name": "LayoutModel",
          "state": {
            "_view_name": "LayoutView",
            "grid_template_rows": null,
            "right": null,
            "justify_content": null,
            "_view_module": "@jupyter-widgets/base",
            "overflow": null,
            "_model_module_version": "1.2.0",
            "_view_count": null,
            "flex_flow": null,
            "width": null,
            "min_width": null,
            "border": null,
            "align_items": null,
            "bottom": null,
            "_model_module": "@jupyter-widgets/base",
            "top": null,
            "grid_column": null,
            "overflow_y": null,
            "overflow_x": null,
            "grid_auto_flow": null,
            "grid_area": null,
            "grid_template_columns": null,
            "flex": null,
            "_model_name": "LayoutModel",
            "justify_items": null,
            "grid_row": null,
            "max_height": null,
            "align_content": null,
            "visibility": null,
            "align_self": null,
            "height": null,
            "min_height": null,
            "padding": null,
            "grid_auto_rows": null,
            "grid_gap": null,
            "max_width": null,
            "order": null,
            "_view_module_version": "1.2.0",
            "grid_template_areas": null,
            "object_position": null,
            "object_fit": null,
            "grid_auto_columns": null,
            "margin": null,
            "display": null,
            "left": null
          }
        },
        "cc72b8f6c4a840d8b7a993e61c28b2c5": {
          "model_module": "@jupyter-widgets/controls",
          "model_name": "HBoxModel",
          "state": {
            "_view_name": "HBoxView",
            "_dom_classes": [],
            "_model_name": "HBoxModel",
            "_view_module": "@jupyter-widgets/controls",
            "_model_module_version": "1.5.0",
            "_view_count": null,
            "_view_module_version": "1.5.0",
            "box_style": "",
            "layout": "IPY_MODEL_d1e6f5cdaf60481c8a2d27e93dc96450",
            "_model_module": "@jupyter-widgets/controls",
            "children": [
              "IPY_MODEL_2ce1d0a9d51f4ebfb10b770b454f04c0",
              "IPY_MODEL_9ae63bd2d51d4666bc337535cdb6810e"
            ]
          }
        },
        "d1e6f5cdaf60481c8a2d27e93dc96450": {
          "model_module": "@jupyter-widgets/base",
          "model_name": "LayoutModel",
          "state": {
            "_view_name": "LayoutView",
            "grid_template_rows": null,
            "right": null,
            "justify_content": null,
            "_view_module": "@jupyter-widgets/base",
            "overflow": null,
            "_model_module_version": "1.2.0",
            "_view_count": null,
            "flex_flow": null,
            "width": null,
            "min_width": null,
            "border": null,
            "align_items": null,
            "bottom": null,
            "_model_module": "@jupyter-widgets/base",
            "top": null,
            "grid_column": null,
            "overflow_y": null,
            "overflow_x": null,
            "grid_auto_flow": null,
            "grid_area": null,
            "grid_template_columns": null,
            "flex": null,
            "_model_name": "LayoutModel",
            "justify_items": null,
            "grid_row": null,
            "max_height": null,
            "align_content": null,
            "visibility": null,
            "align_self": null,
            "height": null,
            "min_height": null,
            "padding": null,
            "grid_auto_rows": null,
            "grid_gap": null,
            "max_width": null,
            "order": null,
            "_view_module_version": "1.2.0",
            "grid_template_areas": null,
            "object_position": null,
            "object_fit": null,
            "grid_auto_columns": null,
            "margin": null,
            "display": null,
            "left": null
          }
        },
        "2ce1d0a9d51f4ebfb10b770b454f04c0": {
          "model_module": "@jupyter-widgets/controls",
          "model_name": "FloatProgressModel",
          "state": {
            "_view_name": "ProgressView",
            "style": "IPY_MODEL_b6da70093319462ba0fe0ad2ad4a1812",
            "_dom_classes": [],
            "description": "#1: 100%",
            "_model_name": "FloatProgressModel",
            "bar_style": "success",
            "max": 991,
            "_view_module": "@jupyter-widgets/controls",
            "_model_module_version": "1.5.0",
            "value": 991,
            "_view_count": null,
            "_view_module_version": "1.5.0",
            "orientation": "horizontal",
            "min": 0,
            "description_tooltip": null,
            "_model_module": "@jupyter-widgets/controls",
            "layout": "IPY_MODEL_6a7ae385139e40538c8856f8e9dfeb04"
          }
        },
        "9ae63bd2d51d4666bc337535cdb6810e": {
          "model_module": "@jupyter-widgets/controls",
          "model_name": "HTMLModel",
          "state": {
            "_view_name": "HTMLView",
            "style": "IPY_MODEL_de874224e7264ba192e06019ffe47b3b",
            "_dom_classes": [],
            "description": "",
            "_model_name": "HTMLModel",
            "placeholder": "​",
            "_view_module": "@jupyter-widgets/controls",
            "_model_module_version": "1.5.0",
            "value": " 991/991 [05:53&lt;00:00,  2.80ex/s]",
            "_view_count": null,
            "_view_module_version": "1.5.0",
            "description_tooltip": null,
            "_model_module": "@jupyter-widgets/controls",
            "layout": "IPY_MODEL_83d8961e94004eb8a9a6d33e51f908d8"
          }
        },
        "b6da70093319462ba0fe0ad2ad4a1812": {
          "model_module": "@jupyter-widgets/controls",
          "model_name": "ProgressStyleModel",
          "state": {
            "_view_name": "StyleView",
            "_model_name": "ProgressStyleModel",
            "description_width": "initial",
            "_view_module": "@jupyter-widgets/base",
            "_model_module_version": "1.5.0",
            "_view_count": null,
            "_view_module_version": "1.2.0",
            "bar_color": null,
            "_model_module": "@jupyter-widgets/controls"
          }
        },
        "6a7ae385139e40538c8856f8e9dfeb04": {
          "model_module": "@jupyter-widgets/base",
          "model_name": "LayoutModel",
          "state": {
            "_view_name": "LayoutView",
            "grid_template_rows": null,
            "right": null,
            "justify_content": null,
            "_view_module": "@jupyter-widgets/base",
            "overflow": null,
            "_model_module_version": "1.2.0",
            "_view_count": null,
            "flex_flow": null,
            "width": null,
            "min_width": null,
            "border": null,
            "align_items": null,
            "bottom": null,
            "_model_module": "@jupyter-widgets/base",
            "top": null,
            "grid_column": null,
            "overflow_y": null,
            "overflow_x": null,
            "grid_auto_flow": null,
            "grid_area": null,
            "grid_template_columns": null,
            "flex": null,
            "_model_name": "LayoutModel",
            "justify_items": null,
            "grid_row": null,
            "max_height": null,
            "align_content": null,
            "visibility": null,
            "align_self": null,
            "height": null,
            "min_height": null,
            "padding": null,
            "grid_auto_rows": null,
            "grid_gap": null,
            "max_width": null,
            "order": null,
            "_view_module_version": "1.2.0",
            "grid_template_areas": null,
            "object_position": null,
            "object_fit": null,
            "grid_auto_columns": null,
            "margin": null,
            "display": null,
            "left": null
          }
        },
        "de874224e7264ba192e06019ffe47b3b": {
          "model_module": "@jupyter-widgets/controls",
          "model_name": "DescriptionStyleModel",
          "state": {
            "_view_name": "StyleView",
            "_model_name": "DescriptionStyleModel",
            "description_width": "",
            "_view_module": "@jupyter-widgets/base",
            "_model_module_version": "1.5.0",
            "_view_count": null,
            "_view_module_version": "1.2.0",
            "_model_module": "@jupyter-widgets/controls"
          }
        },
        "83d8961e94004eb8a9a6d33e51f908d8": {
          "model_module": "@jupyter-widgets/base",
          "model_name": "LayoutModel",
          "state": {
            "_view_name": "LayoutView",
            "grid_template_rows": null,
            "right": null,
            "justify_content": null,
            "_view_module": "@jupyter-widgets/base",
            "overflow": null,
            "_model_module_version": "1.2.0",
            "_view_count": null,
            "flex_flow": null,
            "width": null,
            "min_width": null,
            "border": null,
            "align_items": null,
            "bottom": null,
            "_model_module": "@jupyter-widgets/base",
            "top": null,
            "grid_column": null,
            "overflow_y": null,
            "overflow_x": null,
            "grid_auto_flow": null,
            "grid_area": null,
            "grid_template_columns": null,
            "flex": null,
            "_model_name": "LayoutModel",
            "justify_items": null,
            "grid_row": null,
            "max_height": null,
            "align_content": null,
            "visibility": null,
            "align_self": null,
            "height": null,
            "min_height": null,
            "padding": null,
            "grid_auto_rows": null,
            "grid_gap": null,
            "max_width": null,
            "order": null,
            "_view_module_version": "1.2.0",
            "grid_template_areas": null,
            "object_position": null,
            "object_fit": null,
            "grid_auto_columns": null,
            "margin": null,
            "display": null,
            "left": null
          }
        },
        "8663ec211ea94fb6be1f3ae7e57a6dff": {
          "model_module": "@jupyter-widgets/controls",
          "model_name": "HBoxModel",
          "state": {
            "_view_name": "HBoxView",
            "_dom_classes": [],
            "_model_name": "HBoxModel",
            "_view_module": "@jupyter-widgets/controls",
            "_model_module_version": "1.5.0",
            "_view_count": null,
            "_view_module_version": "1.5.0",
            "box_style": "",
            "layout": "IPY_MODEL_e5049ebec06441538fd8a99256947c7b",
            "_model_module": "@jupyter-widgets/controls",
            "children": [
              "IPY_MODEL_c5a07a77835143f9a0fc8373f257890c",
              "IPY_MODEL_6e4a4d9436e842faaafd643e32d2e2fd"
            ]
          }
        },
        "e5049ebec06441538fd8a99256947c7b": {
          "model_module": "@jupyter-widgets/base",
          "model_name": "LayoutModel",
          "state": {
            "_view_name": "LayoutView",
            "grid_template_rows": null,
            "right": null,
            "justify_content": null,
            "_view_module": "@jupyter-widgets/base",
            "overflow": null,
            "_model_module_version": "1.2.0",
            "_view_count": null,
            "flex_flow": null,
            "width": null,
            "min_width": null,
            "border": null,
            "align_items": null,
            "bottom": null,
            "_model_module": "@jupyter-widgets/base",
            "top": null,
            "grid_column": null,
            "overflow_y": null,
            "overflow_x": null,
            "grid_auto_flow": null,
            "grid_area": null,
            "grid_template_columns": null,
            "flex": null,
            "_model_name": "LayoutModel",
            "justify_items": null,
            "grid_row": null,
            "max_height": null,
            "align_content": null,
            "visibility": null,
            "align_self": null,
            "height": null,
            "min_height": null,
            "padding": null,
            "grid_auto_rows": null,
            "grid_gap": null,
            "max_width": null,
            "order": null,
            "_view_module_version": "1.2.0",
            "grid_template_areas": null,
            "object_position": null,
            "object_fit": null,
            "grid_auto_columns": null,
            "margin": null,
            "display": null,
            "left": null
          }
        },
        "c5a07a77835143f9a0fc8373f257890c": {
          "model_module": "@jupyter-widgets/controls",
          "model_name": "FloatProgressModel",
          "state": {
            "_view_name": "ProgressView",
            "style": "IPY_MODEL_d5f1bd8545844c7ea35406ac0e313274",
            "_dom_classes": [],
            "description": "#2: 100%",
            "_model_name": "FloatProgressModel",
            "bar_style": "success",
            "max": 991,
            "_view_module": "@jupyter-widgets/controls",
            "_model_module_version": "1.5.0",
            "value": 991,
            "_view_count": null,
            "_view_module_version": "1.5.0",
            "orientation": "horizontal",
            "min": 0,
            "description_tooltip": null,
            "_model_module": "@jupyter-widgets/controls",
            "layout": "IPY_MODEL_b8bd454bb3334fe8ae3f9ae9a181406d"
          }
        },
        "6e4a4d9436e842faaafd643e32d2e2fd": {
          "model_module": "@jupyter-widgets/controls",
          "model_name": "HTMLModel",
          "state": {
            "_view_name": "HTMLView",
            "style": "IPY_MODEL_d235f9758e3c40c2bc161ed2a7bad48e",
            "_dom_classes": [],
            "description": "",
            "_model_name": "HTMLModel",
            "placeholder": "​",
            "_view_module": "@jupyter-widgets/controls",
            "_model_module_version": "1.5.0",
            "value": " 991/991 [05:59&lt;00:00,  2.76ex/s]",
            "_view_count": null,
            "_view_module_version": "1.5.0",
            "description_tooltip": null,
            "_model_module": "@jupyter-widgets/controls",
            "layout": "IPY_MODEL_a5b90a912fb54bd0baada09421656560"
          }
        },
        "d5f1bd8545844c7ea35406ac0e313274": {
          "model_module": "@jupyter-widgets/controls",
          "model_name": "ProgressStyleModel",
          "state": {
            "_view_name": "StyleView",
            "_model_name": "ProgressStyleModel",
            "description_width": "initial",
            "_view_module": "@jupyter-widgets/base",
            "_model_module_version": "1.5.0",
            "_view_count": null,
            "_view_module_version": "1.2.0",
            "bar_color": null,
            "_model_module": "@jupyter-widgets/controls"
          }
        },
        "b8bd454bb3334fe8ae3f9ae9a181406d": {
          "model_module": "@jupyter-widgets/base",
          "model_name": "LayoutModel",
          "state": {
            "_view_name": "LayoutView",
            "grid_template_rows": null,
            "right": null,
            "justify_content": null,
            "_view_module": "@jupyter-widgets/base",
            "overflow": null,
            "_model_module_version": "1.2.0",
            "_view_count": null,
            "flex_flow": null,
            "width": null,
            "min_width": null,
            "border": null,
            "align_items": null,
            "bottom": null,
            "_model_module": "@jupyter-widgets/base",
            "top": null,
            "grid_column": null,
            "overflow_y": null,
            "overflow_x": null,
            "grid_auto_flow": null,
            "grid_area": null,
            "grid_template_columns": null,
            "flex": null,
            "_model_name": "LayoutModel",
            "justify_items": null,
            "grid_row": null,
            "max_height": null,
            "align_content": null,
            "visibility": null,
            "align_self": null,
            "height": null,
            "min_height": null,
            "padding": null,
            "grid_auto_rows": null,
            "grid_gap": null,
            "max_width": null,
            "order": null,
            "_view_module_version": "1.2.0",
            "grid_template_areas": null,
            "object_position": null,
            "object_fit": null,
            "grid_auto_columns": null,
            "margin": null,
            "display": null,
            "left": null
          }
        },
        "d235f9758e3c40c2bc161ed2a7bad48e": {
          "model_module": "@jupyter-widgets/controls",
          "model_name": "DescriptionStyleModel",
          "state": {
            "_view_name": "StyleView",
            "_model_name": "DescriptionStyleModel",
            "description_width": "",
            "_view_module": "@jupyter-widgets/base",
            "_model_module_version": "1.5.0",
            "_view_count": null,
            "_view_module_version": "1.2.0",
            "_model_module": "@jupyter-widgets/controls"
          }
        },
        "a5b90a912fb54bd0baada09421656560": {
          "model_module": "@jupyter-widgets/base",
          "model_name": "LayoutModel",
          "state": {
            "_view_name": "LayoutView",
            "grid_template_rows": null,
            "right": null,
            "justify_content": null,
            "_view_module": "@jupyter-widgets/base",
            "overflow": null,
            "_model_module_version": "1.2.0",
            "_view_count": null,
            "flex_flow": null,
            "width": null,
            "min_width": null,
            "border": null,
            "align_items": null,
            "bottom": null,
            "_model_module": "@jupyter-widgets/base",
            "top": null,
            "grid_column": null,
            "overflow_y": null,
            "overflow_x": null,
            "grid_auto_flow": null,
            "grid_area": null,
            "grid_template_columns": null,
            "flex": null,
            "_model_name": "LayoutModel",
            "justify_items": null,
            "grid_row": null,
            "max_height": null,
            "align_content": null,
            "visibility": null,
            "align_self": null,
            "height": null,
            "min_height": null,
            "padding": null,
            "grid_auto_rows": null,
            "grid_gap": null,
            "max_width": null,
            "order": null,
            "_view_module_version": "1.2.0",
            "grid_template_areas": null,
            "object_position": null,
            "object_fit": null,
            "grid_auto_columns": null,
            "margin": null,
            "display": null,
            "left": null
          }
        },
        "6f5d635793cb46b98ad0c5872b75c0cd": {
          "model_module": "@jupyter-widgets/controls",
          "model_name": "HBoxModel",
          "state": {
            "_view_name": "HBoxView",
            "_dom_classes": [],
            "_model_name": "HBoxModel",
            "_view_module": "@jupyter-widgets/controls",
            "_model_module_version": "1.5.0",
            "_view_count": null,
            "_view_module_version": "1.5.0",
            "box_style": "",
            "layout": "IPY_MODEL_27ce2db3cc534caa88a03fe54c51a2ba",
            "_model_module": "@jupyter-widgets/controls",
            "children": [
              "IPY_MODEL_67c02ab7200147deacd9bb623ef77c24",
              "IPY_MODEL_f1d741d4693b4a82ae5f53900d9084db"
            ]
          }
        },
        "27ce2db3cc534caa88a03fe54c51a2ba": {
          "model_module": "@jupyter-widgets/base",
          "model_name": "LayoutModel",
          "state": {
            "_view_name": "LayoutView",
            "grid_template_rows": null,
            "right": null,
            "justify_content": null,
            "_view_module": "@jupyter-widgets/base",
            "overflow": null,
            "_model_module_version": "1.2.0",
            "_view_count": null,
            "flex_flow": null,
            "width": null,
            "min_width": null,
            "border": null,
            "align_items": null,
            "bottom": null,
            "_model_module": "@jupyter-widgets/base",
            "top": null,
            "grid_column": null,
            "overflow_y": null,
            "overflow_x": null,
            "grid_auto_flow": null,
            "grid_area": null,
            "grid_template_columns": null,
            "flex": null,
            "_model_name": "LayoutModel",
            "justify_items": null,
            "grid_row": null,
            "max_height": null,
            "align_content": null,
            "visibility": null,
            "align_self": null,
            "height": null,
            "min_height": null,
            "padding": null,
            "grid_auto_rows": null,
            "grid_gap": null,
            "max_width": null,
            "order": null,
            "_view_module_version": "1.2.0",
            "grid_template_areas": null,
            "object_position": null,
            "object_fit": null,
            "grid_auto_columns": null,
            "margin": null,
            "display": null,
            "left": null
          }
        },
        "67c02ab7200147deacd9bb623ef77c24": {
          "model_module": "@jupyter-widgets/controls",
          "model_name": "FloatProgressModel",
          "state": {
            "_view_name": "ProgressView",
            "style": "IPY_MODEL_8479dd02df3e40a1b35b717f60e27798",
            "_dom_classes": [],
            "description": "#3: 100%",
            "_model_name": "FloatProgressModel",
            "bar_style": "success",
            "max": 991,
            "_view_module": "@jupyter-widgets/controls",
            "_model_module_version": "1.5.0",
            "value": 991,
            "_view_count": null,
            "_view_module_version": "1.5.0",
            "orientation": "horizontal",
            "min": 0,
            "description_tooltip": null,
            "_model_module": "@jupyter-widgets/controls",
            "layout": "IPY_MODEL_19b29aaf75954b799249bf3499efd953"
          }
        },
        "f1d741d4693b4a82ae5f53900d9084db": {
          "model_module": "@jupyter-widgets/controls",
          "model_name": "HTMLModel",
          "state": {
            "_view_name": "HTMLView",
            "style": "IPY_MODEL_d1eb5cc067924be99c954af1121f0715",
            "_dom_classes": [],
            "description": "",
            "_model_name": "HTMLModel",
            "placeholder": "​",
            "_view_module": "@jupyter-widgets/controls",
            "_model_module_version": "1.5.0",
            "value": " 991/991 [06:20&lt;00:00,  2.61ex/s]",
            "_view_count": null,
            "_view_module_version": "1.5.0",
            "description_tooltip": null,
            "_model_module": "@jupyter-widgets/controls",
            "layout": "IPY_MODEL_f1e126985da1482db33416b5331f6991"
          }
        },
        "8479dd02df3e40a1b35b717f60e27798": {
          "model_module": "@jupyter-widgets/controls",
          "model_name": "ProgressStyleModel",
          "state": {
            "_view_name": "StyleView",
            "_model_name": "ProgressStyleModel",
            "description_width": "initial",
            "_view_module": "@jupyter-widgets/base",
            "_model_module_version": "1.5.0",
            "_view_count": null,
            "_view_module_version": "1.2.0",
            "bar_color": null,
            "_model_module": "@jupyter-widgets/controls"
          }
        },
        "19b29aaf75954b799249bf3499efd953": {
          "model_module": "@jupyter-widgets/base",
          "model_name": "LayoutModel",
          "state": {
            "_view_name": "LayoutView",
            "grid_template_rows": null,
            "right": null,
            "justify_content": null,
            "_view_module": "@jupyter-widgets/base",
            "overflow": null,
            "_model_module_version": "1.2.0",
            "_view_count": null,
            "flex_flow": null,
            "width": null,
            "min_width": null,
            "border": null,
            "align_items": null,
            "bottom": null,
            "_model_module": "@jupyter-widgets/base",
            "top": null,
            "grid_column": null,
            "overflow_y": null,
            "overflow_x": null,
            "grid_auto_flow": null,
            "grid_area": null,
            "grid_template_columns": null,
            "flex": null,
            "_model_name": "LayoutModel",
            "justify_items": null,
            "grid_row": null,
            "max_height": null,
            "align_content": null,
            "visibility": null,
            "align_self": null,
            "height": null,
            "min_height": null,
            "padding": null,
            "grid_auto_rows": null,
            "grid_gap": null,
            "max_width": null,
            "order": null,
            "_view_module_version": "1.2.0",
            "grid_template_areas": null,
            "object_position": null,
            "object_fit": null,
            "grid_auto_columns": null,
            "margin": null,
            "display": null,
            "left": null
          }
        },
        "d1eb5cc067924be99c954af1121f0715": {
          "model_module": "@jupyter-widgets/controls",
          "model_name": "DescriptionStyleModel",
          "state": {
            "_view_name": "StyleView",
            "_model_name": "DescriptionStyleModel",
            "description_width": "",
            "_view_module": "@jupyter-widgets/base",
            "_model_module_version": "1.5.0",
            "_view_count": null,
            "_view_module_version": "1.2.0",
            "_model_module": "@jupyter-widgets/controls"
          }
        },
        "f1e126985da1482db33416b5331f6991": {
          "model_module": "@jupyter-widgets/base",
          "model_name": "LayoutModel",
          "state": {
            "_view_name": "LayoutView",
            "grid_template_rows": null,
            "right": null,
            "justify_content": null,
            "_view_module": "@jupyter-widgets/base",
            "overflow": null,
            "_model_module_version": "1.2.0",
            "_view_count": null,
            "flex_flow": null,
            "width": null,
            "min_width": null,
            "border": null,
            "align_items": null,
            "bottom": null,
            "_model_module": "@jupyter-widgets/base",
            "top": null,
            "grid_column": null,
            "overflow_y": null,
            "overflow_x": null,
            "grid_auto_flow": null,
            "grid_area": null,
            "grid_template_columns": null,
            "flex": null,
            "_model_name": "LayoutModel",
            "justify_items": null,
            "grid_row": null,
            "max_height": null,
            "align_content": null,
            "visibility": null,
            "align_self": null,
            "height": null,
            "min_height": null,
            "padding": null,
            "grid_auto_rows": null,
            "grid_gap": null,
            "max_width": null,
            "order": null,
            "_view_module_version": "1.2.0",
            "grid_template_areas": null,
            "object_position": null,
            "object_fit": null,
            "grid_auto_columns": null,
            "margin": null,
            "display": null,
            "left": null
          }
        },
        "85613fbf521d4568aa44ebee99ebe6bb": {
          "model_module": "@jupyter-widgets/controls",
          "model_name": "HBoxModel",
          "state": {
            "_view_name": "HBoxView",
            "_dom_classes": [],
            "_model_name": "HBoxModel",
            "_view_module": "@jupyter-widgets/controls",
            "_model_module_version": "1.5.0",
            "_view_count": null,
            "_view_module_version": "1.5.0",
            "box_style": "",
            "layout": "IPY_MODEL_a328fdfcff7e43efb891ab0b97f66a06",
            "_model_module": "@jupyter-widgets/controls",
            "children": [
              "IPY_MODEL_282dab81b1884f2b967005fcfb642c9d",
              "IPY_MODEL_d79a77221abf4b6888962c230e9b922d"
            ]
          }
        },
        "a328fdfcff7e43efb891ab0b97f66a06": {
          "model_module": "@jupyter-widgets/base",
          "model_name": "LayoutModel",
          "state": {
            "_view_name": "LayoutView",
            "grid_template_rows": null,
            "right": null,
            "justify_content": null,
            "_view_module": "@jupyter-widgets/base",
            "overflow": null,
            "_model_module_version": "1.2.0",
            "_view_count": null,
            "flex_flow": null,
            "width": null,
            "min_width": null,
            "border": null,
            "align_items": null,
            "bottom": null,
            "_model_module": "@jupyter-widgets/base",
            "top": null,
            "grid_column": null,
            "overflow_y": null,
            "overflow_x": null,
            "grid_auto_flow": null,
            "grid_area": null,
            "grid_template_columns": null,
            "flex": null,
            "_model_name": "LayoutModel",
            "justify_items": null,
            "grid_row": null,
            "max_height": null,
            "align_content": null,
            "visibility": null,
            "align_self": null,
            "height": null,
            "min_height": null,
            "padding": null,
            "grid_auto_rows": null,
            "grid_gap": null,
            "max_width": null,
            "order": null,
            "_view_module_version": "1.2.0",
            "grid_template_areas": null,
            "object_position": null,
            "object_fit": null,
            "grid_auto_columns": null,
            "margin": null,
            "display": null,
            "left": null
          }
        },
        "282dab81b1884f2b967005fcfb642c9d": {
          "model_module": "@jupyter-widgets/controls",
          "model_name": "FloatProgressModel",
          "state": {
            "_view_name": "ProgressView",
            "style": "IPY_MODEL_62bb5407956e4eb281aa191b0166bf61",
            "_dom_classes": [],
            "description": "#0: 100%",
            "_model_name": "FloatProgressModel",
            "bar_style": "success",
            "max": 461,
            "_view_module": "@jupyter-widgets/controls",
            "_model_module_version": "1.5.0",
            "value": 461,
            "_view_count": null,
            "_view_module_version": "1.5.0",
            "orientation": "horizontal",
            "min": 0,
            "description_tooltip": null,
            "_model_module": "@jupyter-widgets/controls",
            "layout": "IPY_MODEL_d3ace9c6250c44a3a634b562f273b82e"
          }
        },
        "d79a77221abf4b6888962c230e9b922d": {
          "model_module": "@jupyter-widgets/controls",
          "model_name": "HTMLModel",
          "state": {
            "_view_name": "HTMLView",
            "style": "IPY_MODEL_0e7e1e136bb54cceaef0c094b3bb60b3",
            "_dom_classes": [],
            "description": "",
            "_model_name": "HTMLModel",
            "placeholder": "​",
            "_view_module": "@jupyter-widgets/controls",
            "_model_module_version": "1.5.0",
            "value": " 461/461 [03:09&lt;00:00,  2.43ex/s]",
            "_view_count": null,
            "_view_module_version": "1.5.0",
            "description_tooltip": null,
            "_model_module": "@jupyter-widgets/controls",
            "layout": "IPY_MODEL_9109a97422014b1384ffd997493b8232"
          }
        },
        "62bb5407956e4eb281aa191b0166bf61": {
          "model_module": "@jupyter-widgets/controls",
          "model_name": "ProgressStyleModel",
          "state": {
            "_view_name": "StyleView",
            "_model_name": "ProgressStyleModel",
            "description_width": "initial",
            "_view_module": "@jupyter-widgets/base",
            "_model_module_version": "1.5.0",
            "_view_count": null,
            "_view_module_version": "1.2.0",
            "bar_color": null,
            "_model_module": "@jupyter-widgets/controls"
          }
        },
        "d3ace9c6250c44a3a634b562f273b82e": {
          "model_module": "@jupyter-widgets/base",
          "model_name": "LayoutModel",
          "state": {
            "_view_name": "LayoutView",
            "grid_template_rows": null,
            "right": null,
            "justify_content": null,
            "_view_module": "@jupyter-widgets/base",
            "overflow": null,
            "_model_module_version": "1.2.0",
            "_view_count": null,
            "flex_flow": null,
            "width": null,
            "min_width": null,
            "border": null,
            "align_items": null,
            "bottom": null,
            "_model_module": "@jupyter-widgets/base",
            "top": null,
            "grid_column": null,
            "overflow_y": null,
            "overflow_x": null,
            "grid_auto_flow": null,
            "grid_area": null,
            "grid_template_columns": null,
            "flex": null,
            "_model_name": "LayoutModel",
            "justify_items": null,
            "grid_row": null,
            "max_height": null,
            "align_content": null,
            "visibility": null,
            "align_self": null,
            "height": null,
            "min_height": null,
            "padding": null,
            "grid_auto_rows": null,
            "grid_gap": null,
            "max_width": null,
            "order": null,
            "_view_module_version": "1.2.0",
            "grid_template_areas": null,
            "object_position": null,
            "object_fit": null,
            "grid_auto_columns": null,
            "margin": null,
            "display": null,
            "left": null
          }
        },
        "0e7e1e136bb54cceaef0c094b3bb60b3": {
          "model_module": "@jupyter-widgets/controls",
          "model_name": "DescriptionStyleModel",
          "state": {
            "_view_name": "StyleView",
            "_model_name": "DescriptionStyleModel",
            "description_width": "",
            "_view_module": "@jupyter-widgets/base",
            "_model_module_version": "1.5.0",
            "_view_count": null,
            "_view_module_version": "1.2.0",
            "_model_module": "@jupyter-widgets/controls"
          }
        },
        "9109a97422014b1384ffd997493b8232": {
          "model_module": "@jupyter-widgets/base",
          "model_name": "LayoutModel",
          "state": {
            "_view_name": "LayoutView",
            "grid_template_rows": null,
            "right": null,
            "justify_content": null,
            "_view_module": "@jupyter-widgets/base",
            "overflow": null,
            "_model_module_version": "1.2.0",
            "_view_count": null,
            "flex_flow": null,
            "width": null,
            "min_width": null,
            "border": null,
            "align_items": null,
            "bottom": null,
            "_model_module": "@jupyter-widgets/base",
            "top": null,
            "grid_column": null,
            "overflow_y": null,
            "overflow_x": null,
            "grid_auto_flow": null,
            "grid_area": null,
            "grid_template_columns": null,
            "flex": null,
            "_model_name": "LayoutModel",
            "justify_items": null,
            "grid_row": null,
            "max_height": null,
            "align_content": null,
            "visibility": null,
            "align_self": null,
            "height": null,
            "min_height": null,
            "padding": null,
            "grid_auto_rows": null,
            "grid_gap": null,
            "max_width": null,
            "order": null,
            "_view_module_version": "1.2.0",
            "grid_template_areas": null,
            "object_position": null,
            "object_fit": null,
            "grid_auto_columns": null,
            "margin": null,
            "display": null,
            "left": null
          }
        },
        "7b56328b278b45f181b998080811c654": {
          "model_module": "@jupyter-widgets/controls",
          "model_name": "HBoxModel",
          "state": {
            "_view_name": "HBoxView",
            "_dom_classes": [],
            "_model_name": "HBoxModel",
            "_view_module": "@jupyter-widgets/controls",
            "_model_module_version": "1.5.0",
            "_view_count": null,
            "_view_module_version": "1.5.0",
            "box_style": "",
            "layout": "IPY_MODEL_37e7984f62424b9688ca8c01629c65c5",
            "_model_module": "@jupyter-widgets/controls",
            "children": [
              "IPY_MODEL_16e64f64ba06467880781e5fa9569e51",
              "IPY_MODEL_5ab6887a87854c6a9c73915db3dd812c"
            ]
          }
        },
        "37e7984f62424b9688ca8c01629c65c5": {
          "model_module": "@jupyter-widgets/base",
          "model_name": "LayoutModel",
          "state": {
            "_view_name": "LayoutView",
            "grid_template_rows": null,
            "right": null,
            "justify_content": null,
            "_view_module": "@jupyter-widgets/base",
            "overflow": null,
            "_model_module_version": "1.2.0",
            "_view_count": null,
            "flex_flow": null,
            "width": null,
            "min_width": null,
            "border": null,
            "align_items": null,
            "bottom": null,
            "_model_module": "@jupyter-widgets/base",
            "top": null,
            "grid_column": null,
            "overflow_y": null,
            "overflow_x": null,
            "grid_auto_flow": null,
            "grid_area": null,
            "grid_template_columns": null,
            "flex": null,
            "_model_name": "LayoutModel",
            "justify_items": null,
            "grid_row": null,
            "max_height": null,
            "align_content": null,
            "visibility": null,
            "align_self": null,
            "height": null,
            "min_height": null,
            "padding": null,
            "grid_auto_rows": null,
            "grid_gap": null,
            "max_width": null,
            "order": null,
            "_view_module_version": "1.2.0",
            "grid_template_areas": null,
            "object_position": null,
            "object_fit": null,
            "grid_auto_columns": null,
            "margin": null,
            "display": null,
            "left": null
          }
        },
        "16e64f64ba06467880781e5fa9569e51": {
          "model_module": "@jupyter-widgets/controls",
          "model_name": "FloatProgressModel",
          "state": {
            "_view_name": "ProgressView",
            "style": "IPY_MODEL_05fc76950db14f53889ab52b7d22d9de",
            "_dom_classes": [],
            "description": "#3: 100%",
            "_model_name": "FloatProgressModel",
            "bar_style": "success",
            "max": 461,
            "_view_module": "@jupyter-widgets/controls",
            "_model_module_version": "1.5.0",
            "value": 461,
            "_view_count": null,
            "_view_module_version": "1.5.0",
            "orientation": "horizontal",
            "min": 0,
            "description_tooltip": null,
            "_model_module": "@jupyter-widgets/controls",
            "layout": "IPY_MODEL_27c4f3a28613431ca1410ee26c0a7ded"
          }
        },
        "5ab6887a87854c6a9c73915db3dd812c": {
          "model_module": "@jupyter-widgets/controls",
          "model_name": "HTMLModel",
          "state": {
            "_view_name": "HTMLView",
            "style": "IPY_MODEL_608ce666d5dd4fc1a51358415dca3db6",
            "_dom_classes": [],
            "description": "",
            "_model_name": "HTMLModel",
            "placeholder": "​",
            "_view_module": "@jupyter-widgets/controls",
            "_model_module_version": "1.5.0",
            "value": " 461/461 [03:06&lt;00:00,  2.48ex/s]",
            "_view_count": null,
            "_view_module_version": "1.5.0",
            "description_tooltip": null,
            "_model_module": "@jupyter-widgets/controls",
            "layout": "IPY_MODEL_2ec1129d18ce431d902525da48dd3da5"
          }
        },
        "05fc76950db14f53889ab52b7d22d9de": {
          "model_module": "@jupyter-widgets/controls",
          "model_name": "ProgressStyleModel",
          "state": {
            "_view_name": "StyleView",
            "_model_name": "ProgressStyleModel",
            "description_width": "initial",
            "_view_module": "@jupyter-widgets/base",
            "_model_module_version": "1.5.0",
            "_view_count": null,
            "_view_module_version": "1.2.0",
            "bar_color": null,
            "_model_module": "@jupyter-widgets/controls"
          }
        },
        "27c4f3a28613431ca1410ee26c0a7ded": {
          "model_module": "@jupyter-widgets/base",
          "model_name": "LayoutModel",
          "state": {
            "_view_name": "LayoutView",
            "grid_template_rows": null,
            "right": null,
            "justify_content": null,
            "_view_module": "@jupyter-widgets/base",
            "overflow": null,
            "_model_module_version": "1.2.0",
            "_view_count": null,
            "flex_flow": null,
            "width": null,
            "min_width": null,
            "border": null,
            "align_items": null,
            "bottom": null,
            "_model_module": "@jupyter-widgets/base",
            "top": null,
            "grid_column": null,
            "overflow_y": null,
            "overflow_x": null,
            "grid_auto_flow": null,
            "grid_area": null,
            "grid_template_columns": null,
            "flex": null,
            "_model_name": "LayoutModel",
            "justify_items": null,
            "grid_row": null,
            "max_height": null,
            "align_content": null,
            "visibility": null,
            "align_self": null,
            "height": null,
            "min_height": null,
            "padding": null,
            "grid_auto_rows": null,
            "grid_gap": null,
            "max_width": null,
            "order": null,
            "_view_module_version": "1.2.0",
            "grid_template_areas": null,
            "object_position": null,
            "object_fit": null,
            "grid_auto_columns": null,
            "margin": null,
            "display": null,
            "left": null
          }
        },
        "608ce666d5dd4fc1a51358415dca3db6": {
          "model_module": "@jupyter-widgets/controls",
          "model_name": "DescriptionStyleModel",
          "state": {
            "_view_name": "StyleView",
            "_model_name": "DescriptionStyleModel",
            "description_width": "",
            "_view_module": "@jupyter-widgets/base",
            "_model_module_version": "1.5.0",
            "_view_count": null,
            "_view_module_version": "1.2.0",
            "_model_module": "@jupyter-widgets/controls"
          }
        },
        "2ec1129d18ce431d902525da48dd3da5": {
          "model_module": "@jupyter-widgets/base",
          "model_name": "LayoutModel",
          "state": {
            "_view_name": "LayoutView",
            "grid_template_rows": null,
            "right": null,
            "justify_content": null,
            "_view_module": "@jupyter-widgets/base",
            "overflow": null,
            "_model_module_version": "1.2.0",
            "_view_count": null,
            "flex_flow": null,
            "width": null,
            "min_width": null,
            "border": null,
            "align_items": null,
            "bottom": null,
            "_model_module": "@jupyter-widgets/base",
            "top": null,
            "grid_column": null,
            "overflow_y": null,
            "overflow_x": null,
            "grid_auto_flow": null,
            "grid_area": null,
            "grid_template_columns": null,
            "flex": null,
            "_model_name": "LayoutModel",
            "justify_items": null,
            "grid_row": null,
            "max_height": null,
            "align_content": null,
            "visibility": null,
            "align_self": null,
            "height": null,
            "min_height": null,
            "padding": null,
            "grid_auto_rows": null,
            "grid_gap": null,
            "max_width": null,
            "order": null,
            "_view_module_version": "1.2.0",
            "grid_template_areas": null,
            "object_position": null,
            "object_fit": null,
            "grid_auto_columns": null,
            "margin": null,
            "display": null,
            "left": null
          }
        },
        "ceee9e1c6d7c47c5bf148a6dd3f25d0a": {
          "model_module": "@jupyter-widgets/controls",
          "model_name": "HBoxModel",
          "state": {
            "_view_name": "HBoxView",
            "_dom_classes": [],
            "_model_name": "HBoxModel",
            "_view_module": "@jupyter-widgets/controls",
            "_model_module_version": "1.5.0",
            "_view_count": null,
            "_view_module_version": "1.5.0",
            "box_style": "",
            "layout": "IPY_MODEL_20e3298e2063490e847688caf5b42c2d",
            "_model_module": "@jupyter-widgets/controls",
            "children": [
              "IPY_MODEL_769f85b519284ef4a68136d4678bc91e",
              "IPY_MODEL_36708de1ebbd47f3bf2fa7c61c17f452"
            ]
          }
        },
        "20e3298e2063490e847688caf5b42c2d": {
          "model_module": "@jupyter-widgets/base",
          "model_name": "LayoutModel",
          "state": {
            "_view_name": "LayoutView",
            "grid_template_rows": null,
            "right": null,
            "justify_content": null,
            "_view_module": "@jupyter-widgets/base",
            "overflow": null,
            "_model_module_version": "1.2.0",
            "_view_count": null,
            "flex_flow": null,
            "width": null,
            "min_width": null,
            "border": null,
            "align_items": null,
            "bottom": null,
            "_model_module": "@jupyter-widgets/base",
            "top": null,
            "grid_column": null,
            "overflow_y": null,
            "overflow_x": null,
            "grid_auto_flow": null,
            "grid_area": null,
            "grid_template_columns": null,
            "flex": null,
            "_model_name": "LayoutModel",
            "justify_items": null,
            "grid_row": null,
            "max_height": null,
            "align_content": null,
            "visibility": null,
            "align_self": null,
            "height": null,
            "min_height": null,
            "padding": null,
            "grid_auto_rows": null,
            "grid_gap": null,
            "max_width": null,
            "order": null,
            "_view_module_version": "1.2.0",
            "grid_template_areas": null,
            "object_position": null,
            "object_fit": null,
            "grid_auto_columns": null,
            "margin": null,
            "display": null,
            "left": null
          }
        },
        "769f85b519284ef4a68136d4678bc91e": {
          "model_module": "@jupyter-widgets/controls",
          "model_name": "FloatProgressModel",
          "state": {
            "_view_name": "ProgressView",
            "style": "IPY_MODEL_0a6ebd103ea84fc89c54137a683e194b",
            "_dom_classes": [],
            "description": "#1: 100%",
            "_model_name": "FloatProgressModel",
            "bar_style": "success",
            "max": 461,
            "_view_module": "@jupyter-widgets/controls",
            "_model_module_version": "1.5.0",
            "value": 461,
            "_view_count": null,
            "_view_module_version": "1.5.0",
            "orientation": "horizontal",
            "min": 0,
            "description_tooltip": null,
            "_model_module": "@jupyter-widgets/controls",
            "layout": "IPY_MODEL_f0a8ccd2f8884af280573bcddd9b625e"
          }
        },
        "36708de1ebbd47f3bf2fa7c61c17f452": {
          "model_module": "@jupyter-widgets/controls",
          "model_name": "HTMLModel",
          "state": {
            "_view_name": "HTMLView",
            "style": "IPY_MODEL_64f818bd7f6d47ef99f9257cb2c572dc",
            "_dom_classes": [],
            "description": "",
            "_model_name": "HTMLModel",
            "placeholder": "​",
            "_view_module": "@jupyter-widgets/controls",
            "_model_module_version": "1.5.0",
            "value": " 461/461 [03:07&lt;00:00,  2.45ex/s]",
            "_view_count": null,
            "_view_module_version": "1.5.0",
            "description_tooltip": null,
            "_model_module": "@jupyter-widgets/controls",
            "layout": "IPY_MODEL_881673e681c345ec87793ee71f23790f"
          }
        },
        "0a6ebd103ea84fc89c54137a683e194b": {
          "model_module": "@jupyter-widgets/controls",
          "model_name": "ProgressStyleModel",
          "state": {
            "_view_name": "StyleView",
            "_model_name": "ProgressStyleModel",
            "description_width": "initial",
            "_view_module": "@jupyter-widgets/base",
            "_model_module_version": "1.5.0",
            "_view_count": null,
            "_view_module_version": "1.2.0",
            "bar_color": null,
            "_model_module": "@jupyter-widgets/controls"
          }
        },
        "f0a8ccd2f8884af280573bcddd9b625e": {
          "model_module": "@jupyter-widgets/base",
          "model_name": "LayoutModel",
          "state": {
            "_view_name": "LayoutView",
            "grid_template_rows": null,
            "right": null,
            "justify_content": null,
            "_view_module": "@jupyter-widgets/base",
            "overflow": null,
            "_model_module_version": "1.2.0",
            "_view_count": null,
            "flex_flow": null,
            "width": null,
            "min_width": null,
            "border": null,
            "align_items": null,
            "bottom": null,
            "_model_module": "@jupyter-widgets/base",
            "top": null,
            "grid_column": null,
            "overflow_y": null,
            "overflow_x": null,
            "grid_auto_flow": null,
            "grid_area": null,
            "grid_template_columns": null,
            "flex": null,
            "_model_name": "LayoutModel",
            "justify_items": null,
            "grid_row": null,
            "max_height": null,
            "align_content": null,
            "visibility": null,
            "align_self": null,
            "height": null,
            "min_height": null,
            "padding": null,
            "grid_auto_rows": null,
            "grid_gap": null,
            "max_width": null,
            "order": null,
            "_view_module_version": "1.2.0",
            "grid_template_areas": null,
            "object_position": null,
            "object_fit": null,
            "grid_auto_columns": null,
            "margin": null,
            "display": null,
            "left": null
          }
        },
        "64f818bd7f6d47ef99f9257cb2c572dc": {
          "model_module": "@jupyter-widgets/controls",
          "model_name": "DescriptionStyleModel",
          "state": {
            "_view_name": "StyleView",
            "_model_name": "DescriptionStyleModel",
            "description_width": "",
            "_view_module": "@jupyter-widgets/base",
            "_model_module_version": "1.5.0",
            "_view_count": null,
            "_view_module_version": "1.2.0",
            "_model_module": "@jupyter-widgets/controls"
          }
        },
        "881673e681c345ec87793ee71f23790f": {
          "model_module": "@jupyter-widgets/base",
          "model_name": "LayoutModel",
          "state": {
            "_view_name": "LayoutView",
            "grid_template_rows": null,
            "right": null,
            "justify_content": null,
            "_view_module": "@jupyter-widgets/base",
            "overflow": null,
            "_model_module_version": "1.2.0",
            "_view_count": null,
            "flex_flow": null,
            "width": null,
            "min_width": null,
            "border": null,
            "align_items": null,
            "bottom": null,
            "_model_module": "@jupyter-widgets/base",
            "top": null,
            "grid_column": null,
            "overflow_y": null,
            "overflow_x": null,
            "grid_auto_flow": null,
            "grid_area": null,
            "grid_template_columns": null,
            "flex": null,
            "_model_name": "LayoutModel",
            "justify_items": null,
            "grid_row": null,
            "max_height": null,
            "align_content": null,
            "visibility": null,
            "align_self": null,
            "height": null,
            "min_height": null,
            "padding": null,
            "grid_auto_rows": null,
            "grid_gap": null,
            "max_width": null,
            "order": null,
            "_view_module_version": "1.2.0",
            "grid_template_areas": null,
            "object_position": null,
            "object_fit": null,
            "grid_auto_columns": null,
            "margin": null,
            "display": null,
            "left": null
          }
        },
        "e3b9d6c76f534cc3b225333d82c84867": {
          "model_module": "@jupyter-widgets/controls",
          "model_name": "HBoxModel",
          "state": {
            "_view_name": "HBoxView",
            "_dom_classes": [],
            "_model_name": "HBoxModel",
            "_view_module": "@jupyter-widgets/controls",
            "_model_module_version": "1.5.0",
            "_view_count": null,
            "_view_module_version": "1.5.0",
            "box_style": "",
            "layout": "IPY_MODEL_ae34d40ca4c8407789ca16d34735ea36",
            "_model_module": "@jupyter-widgets/controls",
            "children": [
              "IPY_MODEL_0e691e7a34fd4f6ebb3f9590ed11f920",
              "IPY_MODEL_671a372526244652b52a9e9d89a57022"
            ]
          }
        },
        "ae34d40ca4c8407789ca16d34735ea36": {
          "model_module": "@jupyter-widgets/base",
          "model_name": "LayoutModel",
          "state": {
            "_view_name": "LayoutView",
            "grid_template_rows": null,
            "right": null,
            "justify_content": null,
            "_view_module": "@jupyter-widgets/base",
            "overflow": null,
            "_model_module_version": "1.2.0",
            "_view_count": null,
            "flex_flow": null,
            "width": null,
            "min_width": null,
            "border": null,
            "align_items": null,
            "bottom": null,
            "_model_module": "@jupyter-widgets/base",
            "top": null,
            "grid_column": null,
            "overflow_y": null,
            "overflow_x": null,
            "grid_auto_flow": null,
            "grid_area": null,
            "grid_template_columns": null,
            "flex": null,
            "_model_name": "LayoutModel",
            "justify_items": null,
            "grid_row": null,
            "max_height": null,
            "align_content": null,
            "visibility": null,
            "align_self": null,
            "height": null,
            "min_height": null,
            "padding": null,
            "grid_auto_rows": null,
            "grid_gap": null,
            "max_width": null,
            "order": null,
            "_view_module_version": "1.2.0",
            "grid_template_areas": null,
            "object_position": null,
            "object_fit": null,
            "grid_auto_columns": null,
            "margin": null,
            "display": null,
            "left": null
          }
        },
        "0e691e7a34fd4f6ebb3f9590ed11f920": {
          "model_module": "@jupyter-widgets/controls",
          "model_name": "FloatProgressModel",
          "state": {
            "_view_name": "ProgressView",
            "style": "IPY_MODEL_62e0a4b75df742e29cb14c29e3e446ac",
            "_dom_classes": [],
            "description": "#2: 100%",
            "_model_name": "FloatProgressModel",
            "bar_style": "success",
            "max": 461,
            "_view_module": "@jupyter-widgets/controls",
            "_model_module_version": "1.5.0",
            "value": 461,
            "_view_count": null,
            "_view_module_version": "1.5.0",
            "orientation": "horizontal",
            "min": 0,
            "description_tooltip": null,
            "_model_module": "@jupyter-widgets/controls",
            "layout": "IPY_MODEL_3682ef43621f42258e23744d2349345f"
          }
        },
        "671a372526244652b52a9e9d89a57022": {
          "model_module": "@jupyter-widgets/controls",
          "model_name": "HTMLModel",
          "state": {
            "_view_name": "HTMLView",
            "style": "IPY_MODEL_ee58a051430f4387b050d074b443f740",
            "_dom_classes": [],
            "description": "",
            "_model_name": "HTMLModel",
            "placeholder": "​",
            "_view_module": "@jupyter-widgets/controls",
            "_model_module_version": "1.5.0",
            "value": " 461/461 [02:56&lt;00:00,  2.60ex/s]",
            "_view_count": null,
            "_view_module_version": "1.5.0",
            "description_tooltip": null,
            "_model_module": "@jupyter-widgets/controls",
            "layout": "IPY_MODEL_d80c72e3b1fb4d2db03198f1f50b44a5"
          }
        },
        "62e0a4b75df742e29cb14c29e3e446ac": {
          "model_module": "@jupyter-widgets/controls",
          "model_name": "ProgressStyleModel",
          "state": {
            "_view_name": "StyleView",
            "_model_name": "ProgressStyleModel",
            "description_width": "initial",
            "_view_module": "@jupyter-widgets/base",
            "_model_module_version": "1.5.0",
            "_view_count": null,
            "_view_module_version": "1.2.0",
            "bar_color": null,
            "_model_module": "@jupyter-widgets/controls"
          }
        },
        "3682ef43621f42258e23744d2349345f": {
          "model_module": "@jupyter-widgets/base",
          "model_name": "LayoutModel",
          "state": {
            "_view_name": "LayoutView",
            "grid_template_rows": null,
            "right": null,
            "justify_content": null,
            "_view_module": "@jupyter-widgets/base",
            "overflow": null,
            "_model_module_version": "1.2.0",
            "_view_count": null,
            "flex_flow": null,
            "width": null,
            "min_width": null,
            "border": null,
            "align_items": null,
            "bottom": null,
            "_model_module": "@jupyter-widgets/base",
            "top": null,
            "grid_column": null,
            "overflow_y": null,
            "overflow_x": null,
            "grid_auto_flow": null,
            "grid_area": null,
            "grid_template_columns": null,
            "flex": null,
            "_model_name": "LayoutModel",
            "justify_items": null,
            "grid_row": null,
            "max_height": null,
            "align_content": null,
            "visibility": null,
            "align_self": null,
            "height": null,
            "min_height": null,
            "padding": null,
            "grid_auto_rows": null,
            "grid_gap": null,
            "max_width": null,
            "order": null,
            "_view_module_version": "1.2.0",
            "grid_template_areas": null,
            "object_position": null,
            "object_fit": null,
            "grid_auto_columns": null,
            "margin": null,
            "display": null,
            "left": null
          }
        },
        "ee58a051430f4387b050d074b443f740": {
          "model_module": "@jupyter-widgets/controls",
          "model_name": "DescriptionStyleModel",
          "state": {
            "_view_name": "StyleView",
            "_model_name": "DescriptionStyleModel",
            "description_width": "",
            "_view_module": "@jupyter-widgets/base",
            "_model_module_version": "1.5.0",
            "_view_count": null,
            "_view_module_version": "1.2.0",
            "_model_module": "@jupyter-widgets/controls"
          }
        },
        "d80c72e3b1fb4d2db03198f1f50b44a5": {
          "model_module": "@jupyter-widgets/base",
          "model_name": "LayoutModel",
          "state": {
            "_view_name": "LayoutView",
            "grid_template_rows": null,
            "right": null,
            "justify_content": null,
            "_view_module": "@jupyter-widgets/base",
            "overflow": null,
            "_model_module_version": "1.2.0",
            "_view_count": null,
            "flex_flow": null,
            "width": null,
            "min_width": null,
            "border": null,
            "align_items": null,
            "bottom": null,
            "_model_module": "@jupyter-widgets/base",
            "top": null,
            "grid_column": null,
            "overflow_y": null,
            "overflow_x": null,
            "grid_auto_flow": null,
            "grid_area": null,
            "grid_template_columns": null,
            "flex": null,
            "_model_name": "LayoutModel",
            "justify_items": null,
            "grid_row": null,
            "max_height": null,
            "align_content": null,
            "visibility": null,
            "align_self": null,
            "height": null,
            "min_height": null,
            "padding": null,
            "grid_auto_rows": null,
            "grid_gap": null,
            "max_width": null,
            "order": null,
            "_view_module_version": "1.2.0",
            "grid_template_areas": null,
            "object_position": null,
            "object_fit": null,
            "grid_auto_columns": null,
            "margin": null,
            "display": null,
            "left": null
          }
        },
        "712f533e36cc4d06a5fc4e4cad1f9a3d": {
          "model_module": "@jupyter-widgets/controls",
          "model_name": "HBoxModel",
          "state": {
            "_view_name": "HBoxView",
            "_dom_classes": [],
            "_model_name": "HBoxModel",
            "_view_module": "@jupyter-widgets/controls",
            "_model_module_version": "1.5.0",
            "_view_count": null,
            "_view_module_version": "1.5.0",
            "box_style": "",
            "layout": "IPY_MODEL_70322e0bf70b4a5684ae49ee10468f92",
            "_model_module": "@jupyter-widgets/controls",
            "children": [
              "IPY_MODEL_d4007e00d0c141f49e93514f795aab65",
              "IPY_MODEL_30e7cc1bfc2548fb98a2af670d858bf1"
            ]
          }
        },
        "70322e0bf70b4a5684ae49ee10468f92": {
          "model_module": "@jupyter-widgets/base",
          "model_name": "LayoutModel",
          "state": {
            "_view_name": "LayoutView",
            "grid_template_rows": null,
            "right": null,
            "justify_content": null,
            "_view_module": "@jupyter-widgets/base",
            "overflow": null,
            "_model_module_version": "1.2.0",
            "_view_count": null,
            "flex_flow": null,
            "width": null,
            "min_width": null,
            "border": null,
            "align_items": null,
            "bottom": null,
            "_model_module": "@jupyter-widgets/base",
            "top": null,
            "grid_column": null,
            "overflow_y": null,
            "overflow_x": null,
            "grid_auto_flow": null,
            "grid_area": null,
            "grid_template_columns": null,
            "flex": null,
            "_model_name": "LayoutModel",
            "justify_items": null,
            "grid_row": null,
            "max_height": null,
            "align_content": null,
            "visibility": null,
            "align_self": null,
            "height": null,
            "min_height": null,
            "padding": null,
            "grid_auto_rows": null,
            "grid_gap": null,
            "max_width": null,
            "order": null,
            "_view_module_version": "1.2.0",
            "grid_template_areas": null,
            "object_position": null,
            "object_fit": null,
            "grid_auto_columns": null,
            "margin": null,
            "display": null,
            "left": null
          }
        },
        "d4007e00d0c141f49e93514f795aab65": {
          "model_module": "@jupyter-widgets/controls",
          "model_name": "FloatProgressModel",
          "state": {
            "_view_name": "ProgressView",
            "style": "IPY_MODEL_47c4d83880534cb0ba18314b19e53829",
            "_dom_classes": [],
            "description": "#3: 100%",
            "_model_name": "FloatProgressModel",
            "bar_style": "success",
            "max": 124,
            "_view_module": "@jupyter-widgets/controls",
            "_model_module_version": "1.5.0",
            "value": 124,
            "_view_count": null,
            "_view_module_version": "1.5.0",
            "orientation": "horizontal",
            "min": 0,
            "description_tooltip": null,
            "_model_module": "@jupyter-widgets/controls",
            "layout": "IPY_MODEL_381d9a5a96c746238d81cfe0f6aa8674"
          }
        },
        "30e7cc1bfc2548fb98a2af670d858bf1": {
          "model_module": "@jupyter-widgets/controls",
          "model_name": "HTMLModel",
          "state": {
            "_view_name": "HTMLView",
            "style": "IPY_MODEL_624a2e92eb104ff2921d01746c9e7b32",
            "_dom_classes": [],
            "description": "",
            "_model_name": "HTMLModel",
            "placeholder": "​",
            "_view_module": "@jupyter-widgets/controls",
            "_model_module_version": "1.5.0",
            "value": " 124/124 [01:03&lt;00:00,  1.95ba/s]",
            "_view_count": null,
            "_view_module_version": "1.5.0",
            "description_tooltip": null,
            "_model_module": "@jupyter-widgets/controls",
            "layout": "IPY_MODEL_8eee3273c4ae4f5d92cb8b3dd9a405f0"
          }
        },
        "47c4d83880534cb0ba18314b19e53829": {
          "model_module": "@jupyter-widgets/controls",
          "model_name": "ProgressStyleModel",
          "state": {
            "_view_name": "StyleView",
            "_model_name": "ProgressStyleModel",
            "description_width": "initial",
            "_view_module": "@jupyter-widgets/base",
            "_model_module_version": "1.5.0",
            "_view_count": null,
            "_view_module_version": "1.2.0",
            "bar_color": null,
            "_model_module": "@jupyter-widgets/controls"
          }
        },
        "381d9a5a96c746238d81cfe0f6aa8674": {
          "model_module": "@jupyter-widgets/base",
          "model_name": "LayoutModel",
          "state": {
            "_view_name": "LayoutView",
            "grid_template_rows": null,
            "right": null,
            "justify_content": null,
            "_view_module": "@jupyter-widgets/base",
            "overflow": null,
            "_model_module_version": "1.2.0",
            "_view_count": null,
            "flex_flow": null,
            "width": null,
            "min_width": null,
            "border": null,
            "align_items": null,
            "bottom": null,
            "_model_module": "@jupyter-widgets/base",
            "top": null,
            "grid_column": null,
            "overflow_y": null,
            "overflow_x": null,
            "grid_auto_flow": null,
            "grid_area": null,
            "grid_template_columns": null,
            "flex": null,
            "_model_name": "LayoutModel",
            "justify_items": null,
            "grid_row": null,
            "max_height": null,
            "align_content": null,
            "visibility": null,
            "align_self": null,
            "height": null,
            "min_height": null,
            "padding": null,
            "grid_auto_rows": null,
            "grid_gap": null,
            "max_width": null,
            "order": null,
            "_view_module_version": "1.2.0",
            "grid_template_areas": null,
            "object_position": null,
            "object_fit": null,
            "grid_auto_columns": null,
            "margin": null,
            "display": null,
            "left": null
          }
        },
        "624a2e92eb104ff2921d01746c9e7b32": {
          "model_module": "@jupyter-widgets/controls",
          "model_name": "DescriptionStyleModel",
          "state": {
            "_view_name": "StyleView",
            "_model_name": "DescriptionStyleModel",
            "description_width": "",
            "_view_module": "@jupyter-widgets/base",
            "_model_module_version": "1.5.0",
            "_view_count": null,
            "_view_module_version": "1.2.0",
            "_model_module": "@jupyter-widgets/controls"
          }
        },
        "8eee3273c4ae4f5d92cb8b3dd9a405f0": {
          "model_module": "@jupyter-widgets/base",
          "model_name": "LayoutModel",
          "state": {
            "_view_name": "LayoutView",
            "grid_template_rows": null,
            "right": null,
            "justify_content": null,
            "_view_module": "@jupyter-widgets/base",
            "overflow": null,
            "_model_module_version": "1.2.0",
            "_view_count": null,
            "flex_flow": null,
            "width": null,
            "min_width": null,
            "border": null,
            "align_items": null,
            "bottom": null,
            "_model_module": "@jupyter-widgets/base",
            "top": null,
            "grid_column": null,
            "overflow_y": null,
            "overflow_x": null,
            "grid_auto_flow": null,
            "grid_area": null,
            "grid_template_columns": null,
            "flex": null,
            "_model_name": "LayoutModel",
            "justify_items": null,
            "grid_row": null,
            "max_height": null,
            "align_content": null,
            "visibility": null,
            "align_self": null,
            "height": null,
            "min_height": null,
            "padding": null,
            "grid_auto_rows": null,
            "grid_gap": null,
            "max_width": null,
            "order": null,
            "_view_module_version": "1.2.0",
            "grid_template_areas": null,
            "object_position": null,
            "object_fit": null,
            "grid_auto_columns": null,
            "margin": null,
            "display": null,
            "left": null
          }
        },
        "0fa705ffaaa04c639f7450a89bb34f0e": {
          "model_module": "@jupyter-widgets/controls",
          "model_name": "HBoxModel",
          "state": {
            "_view_name": "HBoxView",
            "_dom_classes": [],
            "_model_name": "HBoxModel",
            "_view_module": "@jupyter-widgets/controls",
            "_model_module_version": "1.5.0",
            "_view_count": null,
            "_view_module_version": "1.5.0",
            "box_style": "",
            "layout": "IPY_MODEL_8f23b60263a04cf1a7d738028d0105b6",
            "_model_module": "@jupyter-widgets/controls",
            "children": [
              "IPY_MODEL_35f0a7cc742c4a9cb30d5d3969409244",
              "IPY_MODEL_873e10a5e8af4ff3b02216eb06161c55"
            ]
          }
        },
        "8f23b60263a04cf1a7d738028d0105b6": {
          "model_module": "@jupyter-widgets/base",
          "model_name": "LayoutModel",
          "state": {
            "_view_name": "LayoutView",
            "grid_template_rows": null,
            "right": null,
            "justify_content": null,
            "_view_module": "@jupyter-widgets/base",
            "overflow": null,
            "_model_module_version": "1.2.0",
            "_view_count": null,
            "flex_flow": null,
            "width": null,
            "min_width": null,
            "border": null,
            "align_items": null,
            "bottom": null,
            "_model_module": "@jupyter-widgets/base",
            "top": null,
            "grid_column": null,
            "overflow_y": null,
            "overflow_x": null,
            "grid_auto_flow": null,
            "grid_area": null,
            "grid_template_columns": null,
            "flex": null,
            "_model_name": "LayoutModel",
            "justify_items": null,
            "grid_row": null,
            "max_height": null,
            "align_content": null,
            "visibility": null,
            "align_self": null,
            "height": null,
            "min_height": null,
            "padding": null,
            "grid_auto_rows": null,
            "grid_gap": null,
            "max_width": null,
            "order": null,
            "_view_module_version": "1.2.0",
            "grid_template_areas": null,
            "object_position": null,
            "object_fit": null,
            "grid_auto_columns": null,
            "margin": null,
            "display": null,
            "left": null
          }
        },
        "35f0a7cc742c4a9cb30d5d3969409244": {
          "model_module": "@jupyter-widgets/controls",
          "model_name": "FloatProgressModel",
          "state": {
            "_view_name": "ProgressView",
            "style": "IPY_MODEL_9121d0557c9140e6b3590135f8441edc",
            "_dom_classes": [],
            "description": "#1: 100%",
            "_model_name": "FloatProgressModel",
            "bar_style": "success",
            "max": 124,
            "_view_module": "@jupyter-widgets/controls",
            "_model_module_version": "1.5.0",
            "value": 124,
            "_view_count": null,
            "_view_module_version": "1.5.0",
            "orientation": "horizontal",
            "min": 0,
            "description_tooltip": null,
            "_model_module": "@jupyter-widgets/controls",
            "layout": "IPY_MODEL_ce147af2c38e4b1e8198dce07c0cebf8"
          }
        },
        "873e10a5e8af4ff3b02216eb06161c55": {
          "model_module": "@jupyter-widgets/controls",
          "model_name": "HTMLModel",
          "state": {
            "_view_name": "HTMLView",
            "style": "IPY_MODEL_d419b260afd1423c8c4b0785cbeb21cc",
            "_dom_classes": [],
            "description": "",
            "_model_name": "HTMLModel",
            "placeholder": "​",
            "_view_module": "@jupyter-widgets/controls",
            "_model_module_version": "1.5.0",
            "value": " 124/124 [00:59&lt;00:00,  2.09ba/s]",
            "_view_count": null,
            "_view_module_version": "1.5.0",
            "description_tooltip": null,
            "_model_module": "@jupyter-widgets/controls",
            "layout": "IPY_MODEL_24c55dc4d20b4d288f33cbd4d2bcfab2"
          }
        },
        "9121d0557c9140e6b3590135f8441edc": {
          "model_module": "@jupyter-widgets/controls",
          "model_name": "ProgressStyleModel",
          "state": {
            "_view_name": "StyleView",
            "_model_name": "ProgressStyleModel",
            "description_width": "initial",
            "_view_module": "@jupyter-widgets/base",
            "_model_module_version": "1.5.0",
            "_view_count": null,
            "_view_module_version": "1.2.0",
            "bar_color": null,
            "_model_module": "@jupyter-widgets/controls"
          }
        },
        "ce147af2c38e4b1e8198dce07c0cebf8": {
          "model_module": "@jupyter-widgets/base",
          "model_name": "LayoutModel",
          "state": {
            "_view_name": "LayoutView",
            "grid_template_rows": null,
            "right": null,
            "justify_content": null,
            "_view_module": "@jupyter-widgets/base",
            "overflow": null,
            "_model_module_version": "1.2.0",
            "_view_count": null,
            "flex_flow": null,
            "width": null,
            "min_width": null,
            "border": null,
            "align_items": null,
            "bottom": null,
            "_model_module": "@jupyter-widgets/base",
            "top": null,
            "grid_column": null,
            "overflow_y": null,
            "overflow_x": null,
            "grid_auto_flow": null,
            "grid_area": null,
            "grid_template_columns": null,
            "flex": null,
            "_model_name": "LayoutModel",
            "justify_items": null,
            "grid_row": null,
            "max_height": null,
            "align_content": null,
            "visibility": null,
            "align_self": null,
            "height": null,
            "min_height": null,
            "padding": null,
            "grid_auto_rows": null,
            "grid_gap": null,
            "max_width": null,
            "order": null,
            "_view_module_version": "1.2.0",
            "grid_template_areas": null,
            "object_position": null,
            "object_fit": null,
            "grid_auto_columns": null,
            "margin": null,
            "display": null,
            "left": null
          }
        },
        "d419b260afd1423c8c4b0785cbeb21cc": {
          "model_module": "@jupyter-widgets/controls",
          "model_name": "DescriptionStyleModel",
          "state": {
            "_view_name": "StyleView",
            "_model_name": "DescriptionStyleModel",
            "description_width": "",
            "_view_module": "@jupyter-widgets/base",
            "_model_module_version": "1.5.0",
            "_view_count": null,
            "_view_module_version": "1.2.0",
            "_model_module": "@jupyter-widgets/controls"
          }
        },
        "24c55dc4d20b4d288f33cbd4d2bcfab2": {
          "model_module": "@jupyter-widgets/base",
          "model_name": "LayoutModel",
          "state": {
            "_view_name": "LayoutView",
            "grid_template_rows": null,
            "right": null,
            "justify_content": null,
            "_view_module": "@jupyter-widgets/base",
            "overflow": null,
            "_model_module_version": "1.2.0",
            "_view_count": null,
            "flex_flow": null,
            "width": null,
            "min_width": null,
            "border": null,
            "align_items": null,
            "bottom": null,
            "_model_module": "@jupyter-widgets/base",
            "top": null,
            "grid_column": null,
            "overflow_y": null,
            "overflow_x": null,
            "grid_auto_flow": null,
            "grid_area": null,
            "grid_template_columns": null,
            "flex": null,
            "_model_name": "LayoutModel",
            "justify_items": null,
            "grid_row": null,
            "max_height": null,
            "align_content": null,
            "visibility": null,
            "align_self": null,
            "height": null,
            "min_height": null,
            "padding": null,
            "grid_auto_rows": null,
            "grid_gap": null,
            "max_width": null,
            "order": null,
            "_view_module_version": "1.2.0",
            "grid_template_areas": null,
            "object_position": null,
            "object_fit": null,
            "grid_auto_columns": null,
            "margin": null,
            "display": null,
            "left": null
          }
        },
        "150c8da55e714e2eb74f919c16969ccf": {
          "model_module": "@jupyter-widgets/controls",
          "model_name": "HBoxModel",
          "state": {
            "_view_name": "HBoxView",
            "_dom_classes": [],
            "_model_name": "HBoxModel",
            "_view_module": "@jupyter-widgets/controls",
            "_model_module_version": "1.5.0",
            "_view_count": null,
            "_view_module_version": "1.5.0",
            "box_style": "",
            "layout": "IPY_MODEL_f8cf4723168041c0926841a060cdbe65",
            "_model_module": "@jupyter-widgets/controls",
            "children": [
              "IPY_MODEL_a510386e06184a6fa1ee4f55d2db1ea8",
              "IPY_MODEL_45445805b24945439db08fdb2ecc4cb8"
            ]
          }
        },
        "f8cf4723168041c0926841a060cdbe65": {
          "model_module": "@jupyter-widgets/base",
          "model_name": "LayoutModel",
          "state": {
            "_view_name": "LayoutView",
            "grid_template_rows": null,
            "right": null,
            "justify_content": null,
            "_view_module": "@jupyter-widgets/base",
            "overflow": null,
            "_model_module_version": "1.2.0",
            "_view_count": null,
            "flex_flow": null,
            "width": null,
            "min_width": null,
            "border": null,
            "align_items": null,
            "bottom": null,
            "_model_module": "@jupyter-widgets/base",
            "top": null,
            "grid_column": null,
            "overflow_y": null,
            "overflow_x": null,
            "grid_auto_flow": null,
            "grid_area": null,
            "grid_template_columns": null,
            "flex": null,
            "_model_name": "LayoutModel",
            "justify_items": null,
            "grid_row": null,
            "max_height": null,
            "align_content": null,
            "visibility": null,
            "align_self": null,
            "height": null,
            "min_height": null,
            "padding": null,
            "grid_auto_rows": null,
            "grid_gap": null,
            "max_width": null,
            "order": null,
            "_view_module_version": "1.2.0",
            "grid_template_areas": null,
            "object_position": null,
            "object_fit": null,
            "grid_auto_columns": null,
            "margin": null,
            "display": null,
            "left": null
          }
        },
        "a510386e06184a6fa1ee4f55d2db1ea8": {
          "model_module": "@jupyter-widgets/controls",
          "model_name": "FloatProgressModel",
          "state": {
            "_view_name": "ProgressView",
            "style": "IPY_MODEL_5d56a1b860004d0da470c00e5f3219f1",
            "_dom_classes": [],
            "description": "#0: 100%",
            "_model_name": "FloatProgressModel",
            "bar_style": "success",
            "max": 124,
            "_view_module": "@jupyter-widgets/controls",
            "_model_module_version": "1.5.0",
            "value": 124,
            "_view_count": null,
            "_view_module_version": "1.5.0",
            "orientation": "horizontal",
            "min": 0,
            "description_tooltip": null,
            "_model_module": "@jupyter-widgets/controls",
            "layout": "IPY_MODEL_5f2a56714b2141b38636340573106c50"
          }
        },
        "45445805b24945439db08fdb2ecc4cb8": {
          "model_module": "@jupyter-widgets/controls",
          "model_name": "HTMLModel",
          "state": {
            "_view_name": "HTMLView",
            "style": "IPY_MODEL_3bbd1fe1f6f24a41bbcb7ad5c2bb0bdb",
            "_dom_classes": [],
            "description": "",
            "_model_name": "HTMLModel",
            "placeholder": "​",
            "_view_module": "@jupyter-widgets/controls",
            "_model_module_version": "1.5.0",
            "value": " 124/124 [01:01&lt;00:00,  2.01ba/s]",
            "_view_count": null,
            "_view_module_version": "1.5.0",
            "description_tooltip": null,
            "_model_module": "@jupyter-widgets/controls",
            "layout": "IPY_MODEL_ddd4610d9a33469282e245f5416828cd"
          }
        },
        "5d56a1b860004d0da470c00e5f3219f1": {
          "model_module": "@jupyter-widgets/controls",
          "model_name": "ProgressStyleModel",
          "state": {
            "_view_name": "StyleView",
            "_model_name": "ProgressStyleModel",
            "description_width": "initial",
            "_view_module": "@jupyter-widgets/base",
            "_model_module_version": "1.5.0",
            "_view_count": null,
            "_view_module_version": "1.2.0",
            "bar_color": null,
            "_model_module": "@jupyter-widgets/controls"
          }
        },
        "5f2a56714b2141b38636340573106c50": {
          "model_module": "@jupyter-widgets/base",
          "model_name": "LayoutModel",
          "state": {
            "_view_name": "LayoutView",
            "grid_template_rows": null,
            "right": null,
            "justify_content": null,
            "_view_module": "@jupyter-widgets/base",
            "overflow": null,
            "_model_module_version": "1.2.0",
            "_view_count": null,
            "flex_flow": null,
            "width": null,
            "min_width": null,
            "border": null,
            "align_items": null,
            "bottom": null,
            "_model_module": "@jupyter-widgets/base",
            "top": null,
            "grid_column": null,
            "overflow_y": null,
            "overflow_x": null,
            "grid_auto_flow": null,
            "grid_area": null,
            "grid_template_columns": null,
            "flex": null,
            "_model_name": "LayoutModel",
            "justify_items": null,
            "grid_row": null,
            "max_height": null,
            "align_content": null,
            "visibility": null,
            "align_self": null,
            "height": null,
            "min_height": null,
            "padding": null,
            "grid_auto_rows": null,
            "grid_gap": null,
            "max_width": null,
            "order": null,
            "_view_module_version": "1.2.0",
            "grid_template_areas": null,
            "object_position": null,
            "object_fit": null,
            "grid_auto_columns": null,
            "margin": null,
            "display": null,
            "left": null
          }
        },
        "3bbd1fe1f6f24a41bbcb7ad5c2bb0bdb": {
          "model_module": "@jupyter-widgets/controls",
          "model_name": "DescriptionStyleModel",
          "state": {
            "_view_name": "StyleView",
            "_model_name": "DescriptionStyleModel",
            "description_width": "",
            "_view_module": "@jupyter-widgets/base",
            "_model_module_version": "1.5.0",
            "_view_count": null,
            "_view_module_version": "1.2.0",
            "_model_module": "@jupyter-widgets/controls"
          }
        },
        "ddd4610d9a33469282e245f5416828cd": {
          "model_module": "@jupyter-widgets/base",
          "model_name": "LayoutModel",
          "state": {
            "_view_name": "LayoutView",
            "grid_template_rows": null,
            "right": null,
            "justify_content": null,
            "_view_module": "@jupyter-widgets/base",
            "overflow": null,
            "_model_module_version": "1.2.0",
            "_view_count": null,
            "flex_flow": null,
            "width": null,
            "min_width": null,
            "border": null,
            "align_items": null,
            "bottom": null,
            "_model_module": "@jupyter-widgets/base",
            "top": null,
            "grid_column": null,
            "overflow_y": null,
            "overflow_x": null,
            "grid_auto_flow": null,
            "grid_area": null,
            "grid_template_columns": null,
            "flex": null,
            "_model_name": "LayoutModel",
            "justify_items": null,
            "grid_row": null,
            "max_height": null,
            "align_content": null,
            "visibility": null,
            "align_self": null,
            "height": null,
            "min_height": null,
            "padding": null,
            "grid_auto_rows": null,
            "grid_gap": null,
            "max_width": null,
            "order": null,
            "_view_module_version": "1.2.0",
            "grid_template_areas": null,
            "object_position": null,
            "object_fit": null,
            "grid_auto_columns": null,
            "margin": null,
            "display": null,
            "left": null
          }
        },
        "1ffd09505ca4450aaf81fe927bab09bd": {
          "model_module": "@jupyter-widgets/controls",
          "model_name": "HBoxModel",
          "state": {
            "_view_name": "HBoxView",
            "_dom_classes": [],
            "_model_name": "HBoxModel",
            "_view_module": "@jupyter-widgets/controls",
            "_model_module_version": "1.5.0",
            "_view_count": null,
            "_view_module_version": "1.5.0",
            "box_style": "",
            "layout": "IPY_MODEL_e45deb6be7fb44bb9de9999729e44e5f",
            "_model_module": "@jupyter-widgets/controls",
            "children": [
              "IPY_MODEL_6ac6d9b8dd1f427eaa136eda81783616",
              "IPY_MODEL_be8026bec7ee4c079ee08c21a74d32f6"
            ]
          }
        },
        "e45deb6be7fb44bb9de9999729e44e5f": {
          "model_module": "@jupyter-widgets/base",
          "model_name": "LayoutModel",
          "state": {
            "_view_name": "LayoutView",
            "grid_template_rows": null,
            "right": null,
            "justify_content": null,
            "_view_module": "@jupyter-widgets/base",
            "overflow": null,
            "_model_module_version": "1.2.0",
            "_view_count": null,
            "flex_flow": null,
            "width": null,
            "min_width": null,
            "border": null,
            "align_items": null,
            "bottom": null,
            "_model_module": "@jupyter-widgets/base",
            "top": null,
            "grid_column": null,
            "overflow_y": null,
            "overflow_x": null,
            "grid_auto_flow": null,
            "grid_area": null,
            "grid_template_columns": null,
            "flex": null,
            "_model_name": "LayoutModel",
            "justify_items": null,
            "grid_row": null,
            "max_height": null,
            "align_content": null,
            "visibility": null,
            "align_self": null,
            "height": null,
            "min_height": null,
            "padding": null,
            "grid_auto_rows": null,
            "grid_gap": null,
            "max_width": null,
            "order": null,
            "_view_module_version": "1.2.0",
            "grid_template_areas": null,
            "object_position": null,
            "object_fit": null,
            "grid_auto_columns": null,
            "margin": null,
            "display": null,
            "left": null
          }
        },
        "6ac6d9b8dd1f427eaa136eda81783616": {
          "model_module": "@jupyter-widgets/controls",
          "model_name": "FloatProgressModel",
          "state": {
            "_view_name": "ProgressView",
            "style": "IPY_MODEL_aa24f2ce80a447e687bf9f44446b360e",
            "_dom_classes": [],
            "description": "#2: 100%",
            "_model_name": "FloatProgressModel",
            "bar_style": "success",
            "max": 124,
            "_view_module": "@jupyter-widgets/controls",
            "_model_module_version": "1.5.0",
            "value": 124,
            "_view_count": null,
            "_view_module_version": "1.5.0",
            "orientation": "horizontal",
            "min": 0,
            "description_tooltip": null,
            "_model_module": "@jupyter-widgets/controls",
            "layout": "IPY_MODEL_c095a93e950f4f84a1b1b07c762e2f4a"
          }
        },
        "be8026bec7ee4c079ee08c21a74d32f6": {
          "model_module": "@jupyter-widgets/controls",
          "model_name": "HTMLModel",
          "state": {
            "_view_name": "HTMLView",
            "style": "IPY_MODEL_0706d715cf44458d93fd730b487aa440",
            "_dom_classes": [],
            "description": "",
            "_model_name": "HTMLModel",
            "placeholder": "​",
            "_view_module": "@jupyter-widgets/controls",
            "_model_module_version": "1.5.0",
            "value": " 124/124 [01:00&lt;00:00,  2.06ba/s]",
            "_view_count": null,
            "_view_module_version": "1.5.0",
            "description_tooltip": null,
            "_model_module": "@jupyter-widgets/controls",
            "layout": "IPY_MODEL_8bb44710a0b947728bed57c088274e76"
          }
        },
        "aa24f2ce80a447e687bf9f44446b360e": {
          "model_module": "@jupyter-widgets/controls",
          "model_name": "ProgressStyleModel",
          "state": {
            "_view_name": "StyleView",
            "_model_name": "ProgressStyleModel",
            "description_width": "initial",
            "_view_module": "@jupyter-widgets/base",
            "_model_module_version": "1.5.0",
            "_view_count": null,
            "_view_module_version": "1.2.0",
            "bar_color": null,
            "_model_module": "@jupyter-widgets/controls"
          }
        },
        "c095a93e950f4f84a1b1b07c762e2f4a": {
          "model_module": "@jupyter-widgets/base",
          "model_name": "LayoutModel",
          "state": {
            "_view_name": "LayoutView",
            "grid_template_rows": null,
            "right": null,
            "justify_content": null,
            "_view_module": "@jupyter-widgets/base",
            "overflow": null,
            "_model_module_version": "1.2.0",
            "_view_count": null,
            "flex_flow": null,
            "width": null,
            "min_width": null,
            "border": null,
            "align_items": null,
            "bottom": null,
            "_model_module": "@jupyter-widgets/base",
            "top": null,
            "grid_column": null,
            "overflow_y": null,
            "overflow_x": null,
            "grid_auto_flow": null,
            "grid_area": null,
            "grid_template_columns": null,
            "flex": null,
            "_model_name": "LayoutModel",
            "justify_items": null,
            "grid_row": null,
            "max_height": null,
            "align_content": null,
            "visibility": null,
            "align_self": null,
            "height": null,
            "min_height": null,
            "padding": null,
            "grid_auto_rows": null,
            "grid_gap": null,
            "max_width": null,
            "order": null,
            "_view_module_version": "1.2.0",
            "grid_template_areas": null,
            "object_position": null,
            "object_fit": null,
            "grid_auto_columns": null,
            "margin": null,
            "display": null,
            "left": null
          }
        },
        "0706d715cf44458d93fd730b487aa440": {
          "model_module": "@jupyter-widgets/controls",
          "model_name": "DescriptionStyleModel",
          "state": {
            "_view_name": "StyleView",
            "_model_name": "DescriptionStyleModel",
            "description_width": "",
            "_view_module": "@jupyter-widgets/base",
            "_model_module_version": "1.5.0",
            "_view_count": null,
            "_view_module_version": "1.2.0",
            "_model_module": "@jupyter-widgets/controls"
          }
        },
        "8bb44710a0b947728bed57c088274e76": {
          "model_module": "@jupyter-widgets/base",
          "model_name": "LayoutModel",
          "state": {
            "_view_name": "LayoutView",
            "grid_template_rows": null,
            "right": null,
            "justify_content": null,
            "_view_module": "@jupyter-widgets/base",
            "overflow": null,
            "_model_module_version": "1.2.0",
            "_view_count": null,
            "flex_flow": null,
            "width": null,
            "min_width": null,
            "border": null,
            "align_items": null,
            "bottom": null,
            "_model_module": "@jupyter-widgets/base",
            "top": null,
            "grid_column": null,
            "overflow_y": null,
            "overflow_x": null,
            "grid_auto_flow": null,
            "grid_area": null,
            "grid_template_columns": null,
            "flex": null,
            "_model_name": "LayoutModel",
            "justify_items": null,
            "grid_row": null,
            "max_height": null,
            "align_content": null,
            "visibility": null,
            "align_self": null,
            "height": null,
            "min_height": null,
            "padding": null,
            "grid_auto_rows": null,
            "grid_gap": null,
            "max_width": null,
            "order": null,
            "_view_module_version": "1.2.0",
            "grid_template_areas": null,
            "object_position": null,
            "object_fit": null,
            "grid_auto_columns": null,
            "margin": null,
            "display": null,
            "left": null
          }
        },
        "0af51d011f254baf8a46e65c685ab83c": {
          "model_module": "@jupyter-widgets/controls",
          "model_name": "HBoxModel",
          "state": {
            "_view_name": "HBoxView",
            "_dom_classes": [],
            "_model_name": "HBoxModel",
            "_view_module": "@jupyter-widgets/controls",
            "_model_module_version": "1.5.0",
            "_view_count": null,
            "_view_module_version": "1.5.0",
            "box_style": "",
            "layout": "IPY_MODEL_2ee4ef36cbdf4383b388bd963a1a0a12",
            "_model_module": "@jupyter-widgets/controls",
            "children": [
              "IPY_MODEL_29da30291bd04797935312ea427d88c3",
              "IPY_MODEL_fa7daaffb75c4cecb4757286a3757c2b"
            ]
          }
        },
        "2ee4ef36cbdf4383b388bd963a1a0a12": {
          "model_module": "@jupyter-widgets/base",
          "model_name": "LayoutModel",
          "state": {
            "_view_name": "LayoutView",
            "grid_template_rows": null,
            "right": null,
            "justify_content": null,
            "_view_module": "@jupyter-widgets/base",
            "overflow": null,
            "_model_module_version": "1.2.0",
            "_view_count": null,
            "flex_flow": null,
            "width": null,
            "min_width": null,
            "border": null,
            "align_items": null,
            "bottom": null,
            "_model_module": "@jupyter-widgets/base",
            "top": null,
            "grid_column": null,
            "overflow_y": null,
            "overflow_x": null,
            "grid_auto_flow": null,
            "grid_area": null,
            "grid_template_columns": null,
            "flex": null,
            "_model_name": "LayoutModel",
            "justify_items": null,
            "grid_row": null,
            "max_height": null,
            "align_content": null,
            "visibility": null,
            "align_self": null,
            "height": null,
            "min_height": null,
            "padding": null,
            "grid_auto_rows": null,
            "grid_gap": null,
            "max_width": null,
            "order": null,
            "_view_module_version": "1.2.0",
            "grid_template_areas": null,
            "object_position": null,
            "object_fit": null,
            "grid_auto_columns": null,
            "margin": null,
            "display": null,
            "left": null
          }
        },
        "29da30291bd04797935312ea427d88c3": {
          "model_module": "@jupyter-widgets/controls",
          "model_name": "FloatProgressModel",
          "state": {
            "_view_name": "ProgressView",
            "style": "IPY_MODEL_2b7403f141be4aada0b8faa07cf12ca3",
            "_dom_classes": [],
            "description": "#0: 100%",
            "_model_name": "FloatProgressModel",
            "bar_style": "success",
            "max": 58,
            "_view_module": "@jupyter-widgets/controls",
            "_model_module_version": "1.5.0",
            "value": 58,
            "_view_count": null,
            "_view_module_version": "1.5.0",
            "orientation": "horizontal",
            "min": 0,
            "description_tooltip": null,
            "_model_module": "@jupyter-widgets/controls",
            "layout": "IPY_MODEL_2d8698aa235d49e8907078e20deb1a8b"
          }
        },
        "fa7daaffb75c4cecb4757286a3757c2b": {
          "model_module": "@jupyter-widgets/controls",
          "model_name": "HTMLModel",
          "state": {
            "_view_name": "HTMLView",
            "style": "IPY_MODEL_b7f84e4de69b456cb3b73f6ff0b184f7",
            "_dom_classes": [],
            "description": "",
            "_model_name": "HTMLModel",
            "placeholder": "​",
            "_view_module": "@jupyter-widgets/controls",
            "_model_module_version": "1.5.0",
            "value": " 58/58 [00:31&lt;00:00,  1.82ba/s]",
            "_view_count": null,
            "_view_module_version": "1.5.0",
            "description_tooltip": null,
            "_model_module": "@jupyter-widgets/controls",
            "layout": "IPY_MODEL_c3aa9842e45347c5ba098c618d293c72"
          }
        },
        "2b7403f141be4aada0b8faa07cf12ca3": {
          "model_module": "@jupyter-widgets/controls",
          "model_name": "ProgressStyleModel",
          "state": {
            "_view_name": "StyleView",
            "_model_name": "ProgressStyleModel",
            "description_width": "initial",
            "_view_module": "@jupyter-widgets/base",
            "_model_module_version": "1.5.0",
            "_view_count": null,
            "_view_module_version": "1.2.0",
            "bar_color": null,
            "_model_module": "@jupyter-widgets/controls"
          }
        },
        "2d8698aa235d49e8907078e20deb1a8b": {
          "model_module": "@jupyter-widgets/base",
          "model_name": "LayoutModel",
          "state": {
            "_view_name": "LayoutView",
            "grid_template_rows": null,
            "right": null,
            "justify_content": null,
            "_view_module": "@jupyter-widgets/base",
            "overflow": null,
            "_model_module_version": "1.2.0",
            "_view_count": null,
            "flex_flow": null,
            "width": null,
            "min_width": null,
            "border": null,
            "align_items": null,
            "bottom": null,
            "_model_module": "@jupyter-widgets/base",
            "top": null,
            "grid_column": null,
            "overflow_y": null,
            "overflow_x": null,
            "grid_auto_flow": null,
            "grid_area": null,
            "grid_template_columns": null,
            "flex": null,
            "_model_name": "LayoutModel",
            "justify_items": null,
            "grid_row": null,
            "max_height": null,
            "align_content": null,
            "visibility": null,
            "align_self": null,
            "height": null,
            "min_height": null,
            "padding": null,
            "grid_auto_rows": null,
            "grid_gap": null,
            "max_width": null,
            "order": null,
            "_view_module_version": "1.2.0",
            "grid_template_areas": null,
            "object_position": null,
            "object_fit": null,
            "grid_auto_columns": null,
            "margin": null,
            "display": null,
            "left": null
          }
        },
        "b7f84e4de69b456cb3b73f6ff0b184f7": {
          "model_module": "@jupyter-widgets/controls",
          "model_name": "DescriptionStyleModel",
          "state": {
            "_view_name": "StyleView",
            "_model_name": "DescriptionStyleModel",
            "description_width": "",
            "_view_module": "@jupyter-widgets/base",
            "_model_module_version": "1.5.0",
            "_view_count": null,
            "_view_module_version": "1.2.0",
            "_model_module": "@jupyter-widgets/controls"
          }
        },
        "c3aa9842e45347c5ba098c618d293c72": {
          "model_module": "@jupyter-widgets/base",
          "model_name": "LayoutModel",
          "state": {
            "_view_name": "LayoutView",
            "grid_template_rows": null,
            "right": null,
            "justify_content": null,
            "_view_module": "@jupyter-widgets/base",
            "overflow": null,
            "_model_module_version": "1.2.0",
            "_view_count": null,
            "flex_flow": null,
            "width": null,
            "min_width": null,
            "border": null,
            "align_items": null,
            "bottom": null,
            "_model_module": "@jupyter-widgets/base",
            "top": null,
            "grid_column": null,
            "overflow_y": null,
            "overflow_x": null,
            "grid_auto_flow": null,
            "grid_area": null,
            "grid_template_columns": null,
            "flex": null,
            "_model_name": "LayoutModel",
            "justify_items": null,
            "grid_row": null,
            "max_height": null,
            "align_content": null,
            "visibility": null,
            "align_self": null,
            "height": null,
            "min_height": null,
            "padding": null,
            "grid_auto_rows": null,
            "grid_gap": null,
            "max_width": null,
            "order": null,
            "_view_module_version": "1.2.0",
            "grid_template_areas": null,
            "object_position": null,
            "object_fit": null,
            "grid_auto_columns": null,
            "margin": null,
            "display": null,
            "left": null
          }
        },
        "b09ae72e38064b3dbd46c0aad5ce85dc": {
          "model_module": "@jupyter-widgets/controls",
          "model_name": "HBoxModel",
          "state": {
            "_view_name": "HBoxView",
            "_dom_classes": [],
            "_model_name": "HBoxModel",
            "_view_module": "@jupyter-widgets/controls",
            "_model_module_version": "1.5.0",
            "_view_count": null,
            "_view_module_version": "1.5.0",
            "box_style": "",
            "layout": "IPY_MODEL_fb8719351f154a16a32ce09d5135ffdb",
            "_model_module": "@jupyter-widgets/controls",
            "children": [
              "IPY_MODEL_d69b7c5cd6464af4975d6634b2fcb183",
              "IPY_MODEL_381494d7c3724e63901912dbf5bc9219"
            ]
          }
        },
        "fb8719351f154a16a32ce09d5135ffdb": {
          "model_module": "@jupyter-widgets/base",
          "model_name": "LayoutModel",
          "state": {
            "_view_name": "LayoutView",
            "grid_template_rows": null,
            "right": null,
            "justify_content": null,
            "_view_module": "@jupyter-widgets/base",
            "overflow": null,
            "_model_module_version": "1.2.0",
            "_view_count": null,
            "flex_flow": null,
            "width": null,
            "min_width": null,
            "border": null,
            "align_items": null,
            "bottom": null,
            "_model_module": "@jupyter-widgets/base",
            "top": null,
            "grid_column": null,
            "overflow_y": null,
            "overflow_x": null,
            "grid_auto_flow": null,
            "grid_area": null,
            "grid_template_columns": null,
            "flex": null,
            "_model_name": "LayoutModel",
            "justify_items": null,
            "grid_row": null,
            "max_height": null,
            "align_content": null,
            "visibility": null,
            "align_self": null,
            "height": null,
            "min_height": null,
            "padding": null,
            "grid_auto_rows": null,
            "grid_gap": null,
            "max_width": null,
            "order": null,
            "_view_module_version": "1.2.0",
            "grid_template_areas": null,
            "object_position": null,
            "object_fit": null,
            "grid_auto_columns": null,
            "margin": null,
            "display": null,
            "left": null
          }
        },
        "d69b7c5cd6464af4975d6634b2fcb183": {
          "model_module": "@jupyter-widgets/controls",
          "model_name": "FloatProgressModel",
          "state": {
            "_view_name": "ProgressView",
            "style": "IPY_MODEL_2ccae6c059164f90b2c3c2d27b8301ac",
            "_dom_classes": [],
            "description": "#2: 100%",
            "_model_name": "FloatProgressModel",
            "bar_style": "success",
            "max": 58,
            "_view_module": "@jupyter-widgets/controls",
            "_model_module_version": "1.5.0",
            "value": 58,
            "_view_count": null,
            "_view_module_version": "1.5.0",
            "orientation": "horizontal",
            "min": 0,
            "description_tooltip": null,
            "_model_module": "@jupyter-widgets/controls",
            "layout": "IPY_MODEL_c3db1deb8efd4e89848d8d7ad29023b4"
          }
        },
        "381494d7c3724e63901912dbf5bc9219": {
          "model_module": "@jupyter-widgets/controls",
          "model_name": "HTMLModel",
          "state": {
            "_view_name": "HTMLView",
            "style": "IPY_MODEL_bf57125d0b194152908b2750ca585c48",
            "_dom_classes": [],
            "description": "",
            "_model_name": "HTMLModel",
            "placeholder": "​",
            "_view_module": "@jupyter-widgets/controls",
            "_model_module_version": "1.5.0",
            "value": " 58/58 [00:29&lt;00:00,  1.95ba/s]",
            "_view_count": null,
            "_view_module_version": "1.5.0",
            "description_tooltip": null,
            "_model_module": "@jupyter-widgets/controls",
            "layout": "IPY_MODEL_7246b557497344d187900478b3963ab1"
          }
        },
        "2ccae6c059164f90b2c3c2d27b8301ac": {
          "model_module": "@jupyter-widgets/controls",
          "model_name": "ProgressStyleModel",
          "state": {
            "_view_name": "StyleView",
            "_model_name": "ProgressStyleModel",
            "description_width": "initial",
            "_view_module": "@jupyter-widgets/base",
            "_model_module_version": "1.5.0",
            "_view_count": null,
            "_view_module_version": "1.2.0",
            "bar_color": null,
            "_model_module": "@jupyter-widgets/controls"
          }
        },
        "c3db1deb8efd4e89848d8d7ad29023b4": {
          "model_module": "@jupyter-widgets/base",
          "model_name": "LayoutModel",
          "state": {
            "_view_name": "LayoutView",
            "grid_template_rows": null,
            "right": null,
            "justify_content": null,
            "_view_module": "@jupyter-widgets/base",
            "overflow": null,
            "_model_module_version": "1.2.0",
            "_view_count": null,
            "flex_flow": null,
            "width": null,
            "min_width": null,
            "border": null,
            "align_items": null,
            "bottom": null,
            "_model_module": "@jupyter-widgets/base",
            "top": null,
            "grid_column": null,
            "overflow_y": null,
            "overflow_x": null,
            "grid_auto_flow": null,
            "grid_area": null,
            "grid_template_columns": null,
            "flex": null,
            "_model_name": "LayoutModel",
            "justify_items": null,
            "grid_row": null,
            "max_height": null,
            "align_content": null,
            "visibility": null,
            "align_self": null,
            "height": null,
            "min_height": null,
            "padding": null,
            "grid_auto_rows": null,
            "grid_gap": null,
            "max_width": null,
            "order": null,
            "_view_module_version": "1.2.0",
            "grid_template_areas": null,
            "object_position": null,
            "object_fit": null,
            "grid_auto_columns": null,
            "margin": null,
            "display": null,
            "left": null
          }
        },
        "bf57125d0b194152908b2750ca585c48": {
          "model_module": "@jupyter-widgets/controls",
          "model_name": "DescriptionStyleModel",
          "state": {
            "_view_name": "StyleView",
            "_model_name": "DescriptionStyleModel",
            "description_width": "",
            "_view_module": "@jupyter-widgets/base",
            "_model_module_version": "1.5.0",
            "_view_count": null,
            "_view_module_version": "1.2.0",
            "_model_module": "@jupyter-widgets/controls"
          }
        },
        "7246b557497344d187900478b3963ab1": {
          "model_module": "@jupyter-widgets/base",
          "model_name": "LayoutModel",
          "state": {
            "_view_name": "LayoutView",
            "grid_template_rows": null,
            "right": null,
            "justify_content": null,
            "_view_module": "@jupyter-widgets/base",
            "overflow": null,
            "_model_module_version": "1.2.0",
            "_view_count": null,
            "flex_flow": null,
            "width": null,
            "min_width": null,
            "border": null,
            "align_items": null,
            "bottom": null,
            "_model_module": "@jupyter-widgets/base",
            "top": null,
            "grid_column": null,
            "overflow_y": null,
            "overflow_x": null,
            "grid_auto_flow": null,
            "grid_area": null,
            "grid_template_columns": null,
            "flex": null,
            "_model_name": "LayoutModel",
            "justify_items": null,
            "grid_row": null,
            "max_height": null,
            "align_content": null,
            "visibility": null,
            "align_self": null,
            "height": null,
            "min_height": null,
            "padding": null,
            "grid_auto_rows": null,
            "grid_gap": null,
            "max_width": null,
            "order": null,
            "_view_module_version": "1.2.0",
            "grid_template_areas": null,
            "object_position": null,
            "object_fit": null,
            "grid_auto_columns": null,
            "margin": null,
            "display": null,
            "left": null
          }
        },
        "423e8d8c45914806bda08af5529528d9": {
          "model_module": "@jupyter-widgets/controls",
          "model_name": "HBoxModel",
          "state": {
            "_view_name": "HBoxView",
            "_dom_classes": [],
            "_model_name": "HBoxModel",
            "_view_module": "@jupyter-widgets/controls",
            "_model_module_version": "1.5.0",
            "_view_count": null,
            "_view_module_version": "1.5.0",
            "box_style": "",
            "layout": "IPY_MODEL_035b9a22117048b48899c43c332fc51d",
            "_model_module": "@jupyter-widgets/controls",
            "children": [
              "IPY_MODEL_02634c08f97b420fbcc626f4575197cf",
              "IPY_MODEL_3f258fc9f56b433fbe95760c00c87e88"
            ]
          }
        },
        "035b9a22117048b48899c43c332fc51d": {
          "model_module": "@jupyter-widgets/base",
          "model_name": "LayoutModel",
          "state": {
            "_view_name": "LayoutView",
            "grid_template_rows": null,
            "right": null,
            "justify_content": null,
            "_view_module": "@jupyter-widgets/base",
            "overflow": null,
            "_model_module_version": "1.2.0",
            "_view_count": null,
            "flex_flow": null,
            "width": null,
            "min_width": null,
            "border": null,
            "align_items": null,
            "bottom": null,
            "_model_module": "@jupyter-widgets/base",
            "top": null,
            "grid_column": null,
            "overflow_y": null,
            "overflow_x": null,
            "grid_auto_flow": null,
            "grid_area": null,
            "grid_template_columns": null,
            "flex": null,
            "_model_name": "LayoutModel",
            "justify_items": null,
            "grid_row": null,
            "max_height": null,
            "align_content": null,
            "visibility": null,
            "align_self": null,
            "height": null,
            "min_height": null,
            "padding": null,
            "grid_auto_rows": null,
            "grid_gap": null,
            "max_width": null,
            "order": null,
            "_view_module_version": "1.2.0",
            "grid_template_areas": null,
            "object_position": null,
            "object_fit": null,
            "grid_auto_columns": null,
            "margin": null,
            "display": null,
            "left": null
          }
        },
        "02634c08f97b420fbcc626f4575197cf": {
          "model_module": "@jupyter-widgets/controls",
          "model_name": "FloatProgressModel",
          "state": {
            "_view_name": "ProgressView",
            "style": "IPY_MODEL_e576a5454bbf4b12a4273b6efd92713b",
            "_dom_classes": [],
            "description": "#1: 100%",
            "_model_name": "FloatProgressModel",
            "bar_style": "success",
            "max": 58,
            "_view_module": "@jupyter-widgets/controls",
            "_model_module_version": "1.5.0",
            "value": 58,
            "_view_count": null,
            "_view_module_version": "1.5.0",
            "orientation": "horizontal",
            "min": 0,
            "description_tooltip": null,
            "_model_module": "@jupyter-widgets/controls",
            "layout": "IPY_MODEL_05967650148647ed9e6d97b4a75c86fe"
          }
        },
        "3f258fc9f56b433fbe95760c00c87e88": {
          "model_module": "@jupyter-widgets/controls",
          "model_name": "HTMLModel",
          "state": {
            "_view_name": "HTMLView",
            "style": "IPY_MODEL_28187732863d4a468fe5487633bc6741",
            "_dom_classes": [],
            "description": "",
            "_model_name": "HTMLModel",
            "placeholder": "​",
            "_view_module": "@jupyter-widgets/controls",
            "_model_module_version": "1.5.0",
            "value": " 58/58 [00:31&lt;00:00,  1.85ba/s]",
            "_view_count": null,
            "_view_module_version": "1.5.0",
            "description_tooltip": null,
            "_model_module": "@jupyter-widgets/controls",
            "layout": "IPY_MODEL_ba98dd6392ba40dabb8ea7fbf3fa63a7"
          }
        },
        "e576a5454bbf4b12a4273b6efd92713b": {
          "model_module": "@jupyter-widgets/controls",
          "model_name": "ProgressStyleModel",
          "state": {
            "_view_name": "StyleView",
            "_model_name": "ProgressStyleModel",
            "description_width": "initial",
            "_view_module": "@jupyter-widgets/base",
            "_model_module_version": "1.5.0",
            "_view_count": null,
            "_view_module_version": "1.2.0",
            "bar_color": null,
            "_model_module": "@jupyter-widgets/controls"
          }
        },
        "05967650148647ed9e6d97b4a75c86fe": {
          "model_module": "@jupyter-widgets/base",
          "model_name": "LayoutModel",
          "state": {
            "_view_name": "LayoutView",
            "grid_template_rows": null,
            "right": null,
            "justify_content": null,
            "_view_module": "@jupyter-widgets/base",
            "overflow": null,
            "_model_module_version": "1.2.0",
            "_view_count": null,
            "flex_flow": null,
            "width": null,
            "min_width": null,
            "border": null,
            "align_items": null,
            "bottom": null,
            "_model_module": "@jupyter-widgets/base",
            "top": null,
            "grid_column": null,
            "overflow_y": null,
            "overflow_x": null,
            "grid_auto_flow": null,
            "grid_area": null,
            "grid_template_columns": null,
            "flex": null,
            "_model_name": "LayoutModel",
            "justify_items": null,
            "grid_row": null,
            "max_height": null,
            "align_content": null,
            "visibility": null,
            "align_self": null,
            "height": null,
            "min_height": null,
            "padding": null,
            "grid_auto_rows": null,
            "grid_gap": null,
            "max_width": null,
            "order": null,
            "_view_module_version": "1.2.0",
            "grid_template_areas": null,
            "object_position": null,
            "object_fit": null,
            "grid_auto_columns": null,
            "margin": null,
            "display": null,
            "left": null
          }
        },
        "28187732863d4a468fe5487633bc6741": {
          "model_module": "@jupyter-widgets/controls",
          "model_name": "DescriptionStyleModel",
          "state": {
            "_view_name": "StyleView",
            "_model_name": "DescriptionStyleModel",
            "description_width": "",
            "_view_module": "@jupyter-widgets/base",
            "_model_module_version": "1.5.0",
            "_view_count": null,
            "_view_module_version": "1.2.0",
            "_model_module": "@jupyter-widgets/controls"
          }
        },
        "ba98dd6392ba40dabb8ea7fbf3fa63a7": {
          "model_module": "@jupyter-widgets/base",
          "model_name": "LayoutModel",
          "state": {
            "_view_name": "LayoutView",
            "grid_template_rows": null,
            "right": null,
            "justify_content": null,
            "_view_module": "@jupyter-widgets/base",
            "overflow": null,
            "_model_module_version": "1.2.0",
            "_view_count": null,
            "flex_flow": null,
            "width": null,
            "min_width": null,
            "border": null,
            "align_items": null,
            "bottom": null,
            "_model_module": "@jupyter-widgets/base",
            "top": null,
            "grid_column": null,
            "overflow_y": null,
            "overflow_x": null,
            "grid_auto_flow": null,
            "grid_area": null,
            "grid_template_columns": null,
            "flex": null,
            "_model_name": "LayoutModel",
            "justify_items": null,
            "grid_row": null,
            "max_height": null,
            "align_content": null,
            "visibility": null,
            "align_self": null,
            "height": null,
            "min_height": null,
            "padding": null,
            "grid_auto_rows": null,
            "grid_gap": null,
            "max_width": null,
            "order": null,
            "_view_module_version": "1.2.0",
            "grid_template_areas": null,
            "object_position": null,
            "object_fit": null,
            "grid_auto_columns": null,
            "margin": null,
            "display": null,
            "left": null
          }
        },
        "2af46b6b340c45c39091814ddec13761": {
          "model_module": "@jupyter-widgets/controls",
          "model_name": "HBoxModel",
          "state": {
            "_view_name": "HBoxView",
            "_dom_classes": [],
            "_model_name": "HBoxModel",
            "_view_module": "@jupyter-widgets/controls",
            "_model_module_version": "1.5.0",
            "_view_count": null,
            "_view_module_version": "1.5.0",
            "box_style": "",
            "layout": "IPY_MODEL_4ac4826f3189466987c1f07c7aeceed1",
            "_model_module": "@jupyter-widgets/controls",
            "children": [
              "IPY_MODEL_f20c606569af41ea82cc28c6faf87864",
              "IPY_MODEL_e736d4176c2f4a80b2b06396691a442e"
            ]
          }
        },
        "4ac4826f3189466987c1f07c7aeceed1": {
          "model_module": "@jupyter-widgets/base",
          "model_name": "LayoutModel",
          "state": {
            "_view_name": "LayoutView",
            "grid_template_rows": null,
            "right": null,
            "justify_content": null,
            "_view_module": "@jupyter-widgets/base",
            "overflow": null,
            "_model_module_version": "1.2.0",
            "_view_count": null,
            "flex_flow": null,
            "width": null,
            "min_width": null,
            "border": null,
            "align_items": null,
            "bottom": null,
            "_model_module": "@jupyter-widgets/base",
            "top": null,
            "grid_column": null,
            "overflow_y": null,
            "overflow_x": null,
            "grid_auto_flow": null,
            "grid_area": null,
            "grid_template_columns": null,
            "flex": null,
            "_model_name": "LayoutModel",
            "justify_items": null,
            "grid_row": null,
            "max_height": null,
            "align_content": null,
            "visibility": null,
            "align_self": null,
            "height": null,
            "min_height": null,
            "padding": null,
            "grid_auto_rows": null,
            "grid_gap": null,
            "max_width": null,
            "order": null,
            "_view_module_version": "1.2.0",
            "grid_template_areas": null,
            "object_position": null,
            "object_fit": null,
            "grid_auto_columns": null,
            "margin": null,
            "display": null,
            "left": null
          }
        },
        "f20c606569af41ea82cc28c6faf87864": {
          "model_module": "@jupyter-widgets/controls",
          "model_name": "FloatProgressModel",
          "state": {
            "_view_name": "ProgressView",
            "style": "IPY_MODEL_f34bcb7915f347cd8ebc865d5fcbe4c9",
            "_dom_classes": [],
            "description": "#3: 100%",
            "_model_name": "FloatProgressModel",
            "bar_style": "success",
            "max": 58,
            "_view_module": "@jupyter-widgets/controls",
            "_model_module_version": "1.5.0",
            "value": 58,
            "_view_count": null,
            "_view_module_version": "1.5.0",
            "orientation": "horizontal",
            "min": 0,
            "description_tooltip": null,
            "_model_module": "@jupyter-widgets/controls",
            "layout": "IPY_MODEL_b41cf79a5401441b8831740ba040d36a"
          }
        },
        "e736d4176c2f4a80b2b06396691a442e": {
          "model_module": "@jupyter-widgets/controls",
          "model_name": "HTMLModel",
          "state": {
            "_view_name": "HTMLView",
            "style": "IPY_MODEL_c76f4b0338984193931c10a9e5ca219f",
            "_dom_classes": [],
            "description": "",
            "_model_name": "HTMLModel",
            "placeholder": "​",
            "_view_module": "@jupyter-widgets/controls",
            "_model_module_version": "1.5.0",
            "value": " 58/58 [00:31&lt;00:00,  1.83ba/s]",
            "_view_count": null,
            "_view_module_version": "1.5.0",
            "description_tooltip": null,
            "_model_module": "@jupyter-widgets/controls",
            "layout": "IPY_MODEL_8c45cc3fd6e5460ea5f292005bf555a4"
          }
        },
        "f34bcb7915f347cd8ebc865d5fcbe4c9": {
          "model_module": "@jupyter-widgets/controls",
          "model_name": "ProgressStyleModel",
          "state": {
            "_view_name": "StyleView",
            "_model_name": "ProgressStyleModel",
            "description_width": "initial",
            "_view_module": "@jupyter-widgets/base",
            "_model_module_version": "1.5.0",
            "_view_count": null,
            "_view_module_version": "1.2.0",
            "bar_color": null,
            "_model_module": "@jupyter-widgets/controls"
          }
        },
        "b41cf79a5401441b8831740ba040d36a": {
          "model_module": "@jupyter-widgets/base",
          "model_name": "LayoutModel",
          "state": {
            "_view_name": "LayoutView",
            "grid_template_rows": null,
            "right": null,
            "justify_content": null,
            "_view_module": "@jupyter-widgets/base",
            "overflow": null,
            "_model_module_version": "1.2.0",
            "_view_count": null,
            "flex_flow": null,
            "width": null,
            "min_width": null,
            "border": null,
            "align_items": null,
            "bottom": null,
            "_model_module": "@jupyter-widgets/base",
            "top": null,
            "grid_column": null,
            "overflow_y": null,
            "overflow_x": null,
            "grid_auto_flow": null,
            "grid_area": null,
            "grid_template_columns": null,
            "flex": null,
            "_model_name": "LayoutModel",
            "justify_items": null,
            "grid_row": null,
            "max_height": null,
            "align_content": null,
            "visibility": null,
            "align_self": null,
            "height": null,
            "min_height": null,
            "padding": null,
            "grid_auto_rows": null,
            "grid_gap": null,
            "max_width": null,
            "order": null,
            "_view_module_version": "1.2.0",
            "grid_template_areas": null,
            "object_position": null,
            "object_fit": null,
            "grid_auto_columns": null,
            "margin": null,
            "display": null,
            "left": null
          }
        },
        "c76f4b0338984193931c10a9e5ca219f": {
          "model_module": "@jupyter-widgets/controls",
          "model_name": "DescriptionStyleModel",
          "state": {
            "_view_name": "StyleView",
            "_model_name": "DescriptionStyleModel",
            "description_width": "",
            "_view_module": "@jupyter-widgets/base",
            "_model_module_version": "1.5.0",
            "_view_count": null,
            "_view_module_version": "1.2.0",
            "_model_module": "@jupyter-widgets/controls"
          }
        },
        "8c45cc3fd6e5460ea5f292005bf555a4": {
          "model_module": "@jupyter-widgets/base",
          "model_name": "LayoutModel",
          "state": {
            "_view_name": "LayoutView",
            "grid_template_rows": null,
            "right": null,
            "justify_content": null,
            "_view_module": "@jupyter-widgets/base",
            "overflow": null,
            "_model_module_version": "1.2.0",
            "_view_count": null,
            "flex_flow": null,
            "width": null,
            "min_width": null,
            "border": null,
            "align_items": null,
            "bottom": null,
            "_model_module": "@jupyter-widgets/base",
            "top": null,
            "grid_column": null,
            "overflow_y": null,
            "overflow_x": null,
            "grid_auto_flow": null,
            "grid_area": null,
            "grid_template_columns": null,
            "flex": null,
            "_model_name": "LayoutModel",
            "justify_items": null,
            "grid_row": null,
            "max_height": null,
            "align_content": null,
            "visibility": null,
            "align_self": null,
            "height": null,
            "min_height": null,
            "padding": null,
            "grid_auto_rows": null,
            "grid_gap": null,
            "max_width": null,
            "order": null,
            "_view_module_version": "1.2.0",
            "grid_template_areas": null,
            "object_position": null,
            "object_fit": null,
            "grid_auto_columns": null,
            "margin": null,
            "display": null,
            "left": null
          }
        },
        "c241b1df1dc14ff48c95d667cec7b695": {
          "model_module": "@jupyter-widgets/controls",
          "model_name": "HBoxModel",
          "state": {
            "_view_name": "HBoxView",
            "_dom_classes": [],
            "_model_name": "HBoxModel",
            "_view_module": "@jupyter-widgets/controls",
            "_model_module_version": "1.5.0",
            "_view_count": null,
            "_view_module_version": "1.5.0",
            "box_style": "",
            "layout": "IPY_MODEL_a9ee6d4a9c3844bd85a2c87bdcc12136",
            "_model_module": "@jupyter-widgets/controls",
            "children": [
              "IPY_MODEL_9bb2fbf494c64c1690e03685fbad47de",
              "IPY_MODEL_f9fe5fba22ed4372b02115347b3023f2"
            ]
          }
        },
        "a9ee6d4a9c3844bd85a2c87bdcc12136": {
          "model_module": "@jupyter-widgets/base",
          "model_name": "LayoutModel",
          "state": {
            "_view_name": "LayoutView",
            "grid_template_rows": null,
            "right": null,
            "justify_content": null,
            "_view_module": "@jupyter-widgets/base",
            "overflow": null,
            "_model_module_version": "1.2.0",
            "_view_count": null,
            "flex_flow": null,
            "width": null,
            "min_width": null,
            "border": null,
            "align_items": null,
            "bottom": null,
            "_model_module": "@jupyter-widgets/base",
            "top": null,
            "grid_column": null,
            "overflow_y": null,
            "overflow_x": null,
            "grid_auto_flow": null,
            "grid_area": null,
            "grid_template_columns": null,
            "flex": null,
            "_model_name": "LayoutModel",
            "justify_items": null,
            "grid_row": null,
            "max_height": null,
            "align_content": null,
            "visibility": null,
            "align_self": null,
            "height": null,
            "min_height": null,
            "padding": null,
            "grid_auto_rows": null,
            "grid_gap": null,
            "max_width": null,
            "order": null,
            "_view_module_version": "1.2.0",
            "grid_template_areas": null,
            "object_position": null,
            "object_fit": null,
            "grid_auto_columns": null,
            "margin": null,
            "display": null,
            "left": null
          }
        },
        "9bb2fbf494c64c1690e03685fbad47de": {
          "model_module": "@jupyter-widgets/controls",
          "model_name": "FloatProgressModel",
          "state": {
            "_view_name": "ProgressView",
            "style": "IPY_MODEL_34ae5f87916b4670bda39ad02c51365c",
            "_dom_classes": [],
            "description": "Downloading: ",
            "_model_name": "FloatProgressModel",
            "bar_style": "success",
            "max": 1764,
            "_view_module": "@jupyter-widgets/controls",
            "_model_module_version": "1.5.0",
            "value": 1764,
            "_view_count": null,
            "_view_module_version": "1.5.0",
            "orientation": "horizontal",
            "min": 0,
            "description_tooltip": null,
            "_model_module": "@jupyter-widgets/controls",
            "layout": "IPY_MODEL_aafd4d5992a34951b09e8ac1e62bf3cd"
          }
        },
        "f9fe5fba22ed4372b02115347b3023f2": {
          "model_module": "@jupyter-widgets/controls",
          "model_name": "HTMLModel",
          "state": {
            "_view_name": "HTMLView",
            "style": "IPY_MODEL_2d085b261c4a4cd992628208770df2b7",
            "_dom_classes": [],
            "description": "",
            "_model_name": "HTMLModel",
            "placeholder": "​",
            "_view_module": "@jupyter-widgets/controls",
            "_model_module_version": "1.5.0",
            "value": " 3.90k/? [00:32&lt;00:00, 120B/s]",
            "_view_count": null,
            "_view_module_version": "1.5.0",
            "description_tooltip": null,
            "_model_module": "@jupyter-widgets/controls",
            "layout": "IPY_MODEL_6cddabc85e7443d280818bfe792f86c9"
          }
        },
        "34ae5f87916b4670bda39ad02c51365c": {
          "model_module": "@jupyter-widgets/controls",
          "model_name": "ProgressStyleModel",
          "state": {
            "_view_name": "StyleView",
            "_model_name": "ProgressStyleModel",
            "description_width": "initial",
            "_view_module": "@jupyter-widgets/base",
            "_model_module_version": "1.5.0",
            "_view_count": null,
            "_view_module_version": "1.2.0",
            "bar_color": null,
            "_model_module": "@jupyter-widgets/controls"
          }
        },
        "aafd4d5992a34951b09e8ac1e62bf3cd": {
          "model_module": "@jupyter-widgets/base",
          "model_name": "LayoutModel",
          "state": {
            "_view_name": "LayoutView",
            "grid_template_rows": null,
            "right": null,
            "justify_content": null,
            "_view_module": "@jupyter-widgets/base",
            "overflow": null,
            "_model_module_version": "1.2.0",
            "_view_count": null,
            "flex_flow": null,
            "width": null,
            "min_width": null,
            "border": null,
            "align_items": null,
            "bottom": null,
            "_model_module": "@jupyter-widgets/base",
            "top": null,
            "grid_column": null,
            "overflow_y": null,
            "overflow_x": null,
            "grid_auto_flow": null,
            "grid_area": null,
            "grid_template_columns": null,
            "flex": null,
            "_model_name": "LayoutModel",
            "justify_items": null,
            "grid_row": null,
            "max_height": null,
            "align_content": null,
            "visibility": null,
            "align_self": null,
            "height": null,
            "min_height": null,
            "padding": null,
            "grid_auto_rows": null,
            "grid_gap": null,
            "max_width": null,
            "order": null,
            "_view_module_version": "1.2.0",
            "grid_template_areas": null,
            "object_position": null,
            "object_fit": null,
            "grid_auto_columns": null,
            "margin": null,
            "display": null,
            "left": null
          }
        },
        "2d085b261c4a4cd992628208770df2b7": {
          "model_module": "@jupyter-widgets/controls",
          "model_name": "DescriptionStyleModel",
          "state": {
            "_view_name": "StyleView",
            "_model_name": "DescriptionStyleModel",
            "description_width": "",
            "_view_module": "@jupyter-widgets/base",
            "_model_module_version": "1.5.0",
            "_view_count": null,
            "_view_module_version": "1.2.0",
            "_model_module": "@jupyter-widgets/controls"
          }
        },
        "6cddabc85e7443d280818bfe792f86c9": {
          "model_module": "@jupyter-widgets/base",
          "model_name": "LayoutModel",
          "state": {
            "_view_name": "LayoutView",
            "grid_template_rows": null,
            "right": null,
            "justify_content": null,
            "_view_module": "@jupyter-widgets/base",
            "overflow": null,
            "_model_module_version": "1.2.0",
            "_view_count": null,
            "flex_flow": null,
            "width": null,
            "min_width": null,
            "border": null,
            "align_items": null,
            "bottom": null,
            "_model_module": "@jupyter-widgets/base",
            "top": null,
            "grid_column": null,
            "overflow_y": null,
            "overflow_x": null,
            "grid_auto_flow": null,
            "grid_area": null,
            "grid_template_columns": null,
            "flex": null,
            "_model_name": "LayoutModel",
            "justify_items": null,
            "grid_row": null,
            "max_height": null,
            "align_content": null,
            "visibility": null,
            "align_self": null,
            "height": null,
            "min_height": null,
            "padding": null,
            "grid_auto_rows": null,
            "grid_gap": null,
            "max_width": null,
            "order": null,
            "_view_module_version": "1.2.0",
            "grid_template_areas": null,
            "object_position": null,
            "object_fit": null,
            "grid_auto_columns": null,
            "margin": null,
            "display": null,
            "left": null
          }
        },
        "77812df11600421db22b29d34f462727": {
          "model_module": "@jupyter-widgets/controls",
          "model_name": "HBoxModel",
          "state": {
            "_view_name": "HBoxView",
            "_dom_classes": [],
            "_model_name": "HBoxModel",
            "_view_module": "@jupyter-widgets/controls",
            "_model_module_version": "1.5.0",
            "_view_count": null,
            "_view_module_version": "1.5.0",
            "box_style": "",
            "layout": "IPY_MODEL_9481e0f2b88a4b968b7425cd91b342e1",
            "_model_module": "@jupyter-widgets/controls",
            "children": [
              "IPY_MODEL_b92bb07c36da4c43bbbfa9f028dd8dc3",
              "IPY_MODEL_b1e161798e2e4bd6b69df64bb86c4926"
            ]
          }
        },
        "9481e0f2b88a4b968b7425cd91b342e1": {
          "model_module": "@jupyter-widgets/base",
          "model_name": "LayoutModel",
          "state": {
            "_view_name": "LayoutView",
            "grid_template_rows": null,
            "right": null,
            "justify_content": null,
            "_view_module": "@jupyter-widgets/base",
            "overflow": null,
            "_model_module_version": "1.2.0",
            "_view_count": null,
            "flex_flow": null,
            "width": null,
            "min_width": null,
            "border": null,
            "align_items": null,
            "bottom": null,
            "_model_module": "@jupyter-widgets/base",
            "top": null,
            "grid_column": null,
            "overflow_y": null,
            "overflow_x": null,
            "grid_auto_flow": null,
            "grid_area": null,
            "grid_template_columns": null,
            "flex": null,
            "_model_name": "LayoutModel",
            "justify_items": null,
            "grid_row": null,
            "max_height": null,
            "align_content": null,
            "visibility": null,
            "align_self": null,
            "height": null,
            "min_height": null,
            "padding": null,
            "grid_auto_rows": null,
            "grid_gap": null,
            "max_width": null,
            "order": null,
            "_view_module_version": "1.2.0",
            "grid_template_areas": null,
            "object_position": null,
            "object_fit": null,
            "grid_auto_columns": null,
            "margin": null,
            "display": null,
            "left": null
          }
        },
        "b92bb07c36da4c43bbbfa9f028dd8dc3": {
          "model_module": "@jupyter-widgets/controls",
          "model_name": "FloatProgressModel",
          "state": {
            "_view_name": "ProgressView",
            "style": "IPY_MODEL_5cbf9d4c4e464e478700f51cb258cb73",
            "_dom_classes": [],
            "description": "Downloading: 100%",
            "_model_name": "FloatProgressModel",
            "bar_style": "success",
            "max": 1451,
            "_view_module": "@jupyter-widgets/controls",
            "_model_module_version": "1.5.0",
            "value": 1451,
            "_view_count": null,
            "_view_module_version": "1.5.0",
            "orientation": "horizontal",
            "min": 0,
            "description_tooltip": null,
            "_model_module": "@jupyter-widgets/controls",
            "layout": "IPY_MODEL_534e6838f96a4f069db1c8f982208c5f"
          }
        },
        "b1e161798e2e4bd6b69df64bb86c4926": {
          "model_module": "@jupyter-widgets/controls",
          "model_name": "HTMLModel",
          "state": {
            "_view_name": "HTMLView",
            "style": "IPY_MODEL_3c1a4fc7fcb74354a55b4994e1f3e3a6",
            "_dom_classes": [],
            "description": "",
            "_model_name": "HTMLModel",
            "placeholder": "​",
            "_view_module": "@jupyter-widgets/controls",
            "_model_module_version": "1.5.0",
            "value": " 1.45k/1.45k [00:00&lt;00:00, 3.26kB/s]",
            "_view_count": null,
            "_view_module_version": "1.5.0",
            "description_tooltip": null,
            "_model_module": "@jupyter-widgets/controls",
            "layout": "IPY_MODEL_9b7f62db4d634574bdc68dbe0f077d5c"
          }
        },
        "5cbf9d4c4e464e478700f51cb258cb73": {
          "model_module": "@jupyter-widgets/controls",
          "model_name": "ProgressStyleModel",
          "state": {
            "_view_name": "StyleView",
            "_model_name": "ProgressStyleModel",
            "description_width": "initial",
            "_view_module": "@jupyter-widgets/base",
            "_model_module_version": "1.5.0",
            "_view_count": null,
            "_view_module_version": "1.2.0",
            "bar_color": null,
            "_model_module": "@jupyter-widgets/controls"
          }
        },
        "534e6838f96a4f069db1c8f982208c5f": {
          "model_module": "@jupyter-widgets/base",
          "model_name": "LayoutModel",
          "state": {
            "_view_name": "LayoutView",
            "grid_template_rows": null,
            "right": null,
            "justify_content": null,
            "_view_module": "@jupyter-widgets/base",
            "overflow": null,
            "_model_module_version": "1.2.0",
            "_view_count": null,
            "flex_flow": null,
            "width": null,
            "min_width": null,
            "border": null,
            "align_items": null,
            "bottom": null,
            "_model_module": "@jupyter-widgets/base",
            "top": null,
            "grid_column": null,
            "overflow_y": null,
            "overflow_x": null,
            "grid_auto_flow": null,
            "grid_area": null,
            "grid_template_columns": null,
            "flex": null,
            "_model_name": "LayoutModel",
            "justify_items": null,
            "grid_row": null,
            "max_height": null,
            "align_content": null,
            "visibility": null,
            "align_self": null,
            "height": null,
            "min_height": null,
            "padding": null,
            "grid_auto_rows": null,
            "grid_gap": null,
            "max_width": null,
            "order": null,
            "_view_module_version": "1.2.0",
            "grid_template_areas": null,
            "object_position": null,
            "object_fit": null,
            "grid_auto_columns": null,
            "margin": null,
            "display": null,
            "left": null
          }
        },
        "3c1a4fc7fcb74354a55b4994e1f3e3a6": {
          "model_module": "@jupyter-widgets/controls",
          "model_name": "DescriptionStyleModel",
          "state": {
            "_view_name": "StyleView",
            "_model_name": "DescriptionStyleModel",
            "description_width": "",
            "_view_module": "@jupyter-widgets/base",
            "_model_module_version": "1.5.0",
            "_view_count": null,
            "_view_module_version": "1.2.0",
            "_model_module": "@jupyter-widgets/controls"
          }
        },
        "9b7f62db4d634574bdc68dbe0f077d5c": {
          "model_module": "@jupyter-widgets/base",
          "model_name": "LayoutModel",
          "state": {
            "_view_name": "LayoutView",
            "grid_template_rows": null,
            "right": null,
            "justify_content": null,
            "_view_module": "@jupyter-widgets/base",
            "overflow": null,
            "_model_module_version": "1.2.0",
            "_view_count": null,
            "flex_flow": null,
            "width": null,
            "min_width": null,
            "border": null,
            "align_items": null,
            "bottom": null,
            "_model_module": "@jupyter-widgets/base",
            "top": null,
            "grid_column": null,
            "overflow_y": null,
            "overflow_x": null,
            "grid_auto_flow": null,
            "grid_area": null,
            "grid_template_columns": null,
            "flex": null,
            "_model_name": "LayoutModel",
            "justify_items": null,
            "grid_row": null,
            "max_height": null,
            "align_content": null,
            "visibility": null,
            "align_self": null,
            "height": null,
            "min_height": null,
            "padding": null,
            "grid_auto_rows": null,
            "grid_gap": null,
            "max_width": null,
            "order": null,
            "_view_module_version": "1.2.0",
            "grid_template_areas": null,
            "object_position": null,
            "object_fit": null,
            "grid_auto_columns": null,
            "margin": null,
            "display": null,
            "left": null
          }
        },
        "d6e544b487c84994b5832c16d56e4379": {
          "model_module": "@jupyter-widgets/controls",
          "model_name": "HBoxModel",
          "state": {
            "_view_name": "HBoxView",
            "_dom_classes": [],
            "_model_name": "HBoxModel",
            "_view_module": "@jupyter-widgets/controls",
            "_model_module_version": "1.5.0",
            "_view_count": null,
            "_view_module_version": "1.5.0",
            "box_style": "",
            "layout": "IPY_MODEL_1e66b53ec1034e27a33e82a067755b62",
            "_model_module": "@jupyter-widgets/controls",
            "children": [
              "IPY_MODEL_522bd837e44740d6893ce4838198182c",
              "IPY_MODEL_90bb6f0a4b0f4bc38f844262ae846258"
            ]
          }
        },
        "1e66b53ec1034e27a33e82a067755b62": {
          "model_module": "@jupyter-widgets/base",
          "model_name": "LayoutModel",
          "state": {
            "_view_name": "LayoutView",
            "grid_template_rows": null,
            "right": null,
            "justify_content": null,
            "_view_module": "@jupyter-widgets/base",
            "overflow": null,
            "_model_module_version": "1.2.0",
            "_view_count": null,
            "flex_flow": null,
            "width": null,
            "min_width": null,
            "border": null,
            "align_items": null,
            "bottom": null,
            "_model_module": "@jupyter-widgets/base",
            "top": null,
            "grid_column": null,
            "overflow_y": null,
            "overflow_x": null,
            "grid_auto_flow": null,
            "grid_area": null,
            "grid_template_columns": null,
            "flex": null,
            "_model_name": "LayoutModel",
            "justify_items": null,
            "grid_row": null,
            "max_height": null,
            "align_content": null,
            "visibility": null,
            "align_self": null,
            "height": null,
            "min_height": null,
            "padding": null,
            "grid_auto_rows": null,
            "grid_gap": null,
            "max_width": null,
            "order": null,
            "_view_module_version": "1.2.0",
            "grid_template_areas": null,
            "object_position": null,
            "object_fit": null,
            "grid_auto_columns": null,
            "margin": null,
            "display": null,
            "left": null
          }
        },
        "522bd837e44740d6893ce4838198182c": {
          "model_module": "@jupyter-widgets/controls",
          "model_name": "FloatProgressModel",
          "state": {
            "_view_name": "ProgressView",
            "style": "IPY_MODEL_58fab64e1b754122818eab0b36122651",
            "_dom_classes": [],
            "description": "Downloading: 100%",
            "_model_name": "FloatProgressModel",
            "bar_style": "success",
            "max": 1261920069,
            "_view_module": "@jupyter-widgets/controls",
            "_model_module_version": "1.5.0",
            "value": 1261920069,
            "_view_count": null,
            "_view_module_version": "1.5.0",
            "orientation": "horizontal",
            "min": 0,
            "description_tooltip": null,
            "_model_module": "@jupyter-widgets/controls",
            "layout": "IPY_MODEL_ebe4830a968b4707b0845da033bb07fd"
          }
        },
        "90bb6f0a4b0f4bc38f844262ae846258": {
          "model_module": "@jupyter-widgets/controls",
          "model_name": "HTMLModel",
          "state": {
            "_view_name": "HTMLView",
            "style": "IPY_MODEL_61f4412c2bd74bccb951bcbb8f68ae1d",
            "_dom_classes": [],
            "description": "",
            "_model_name": "HTMLModel",
            "placeholder": "​",
            "_view_module": "@jupyter-widgets/controls",
            "_model_module_version": "1.5.0",
            "value": " 1.26G/1.26G [00:31&lt;00:00, 40.3MB/s]",
            "_view_count": null,
            "_view_module_version": "1.5.0",
            "description_tooltip": null,
            "_model_module": "@jupyter-widgets/controls",
            "layout": "IPY_MODEL_bbd003ce0f97425eb5aedc896d264dca"
          }
        },
        "58fab64e1b754122818eab0b36122651": {
          "model_module": "@jupyter-widgets/controls",
          "model_name": "ProgressStyleModel",
          "state": {
            "_view_name": "StyleView",
            "_model_name": "ProgressStyleModel",
            "description_width": "initial",
            "_view_module": "@jupyter-widgets/base",
            "_model_module_version": "1.5.0",
            "_view_count": null,
            "_view_module_version": "1.2.0",
            "bar_color": null,
            "_model_module": "@jupyter-widgets/controls"
          }
        },
        "ebe4830a968b4707b0845da033bb07fd": {
          "model_module": "@jupyter-widgets/base",
          "model_name": "LayoutModel",
          "state": {
            "_view_name": "LayoutView",
            "grid_template_rows": null,
            "right": null,
            "justify_content": null,
            "_view_module": "@jupyter-widgets/base",
            "overflow": null,
            "_model_module_version": "1.2.0",
            "_view_count": null,
            "flex_flow": null,
            "width": null,
            "min_width": null,
            "border": null,
            "align_items": null,
            "bottom": null,
            "_model_module": "@jupyter-widgets/base",
            "top": null,
            "grid_column": null,
            "overflow_y": null,
            "overflow_x": null,
            "grid_auto_flow": null,
            "grid_area": null,
            "grid_template_columns": null,
            "flex": null,
            "_model_name": "LayoutModel",
            "justify_items": null,
            "grid_row": null,
            "max_height": null,
            "align_content": null,
            "visibility": null,
            "align_self": null,
            "height": null,
            "min_height": null,
            "padding": null,
            "grid_auto_rows": null,
            "grid_gap": null,
            "max_width": null,
            "order": null,
            "_view_module_version": "1.2.0",
            "grid_template_areas": null,
            "object_position": null,
            "object_fit": null,
            "grid_auto_columns": null,
            "margin": null,
            "display": null,
            "left": null
          }
        },
        "61f4412c2bd74bccb951bcbb8f68ae1d": {
          "model_module": "@jupyter-widgets/controls",
          "model_name": "DescriptionStyleModel",
          "state": {
            "_view_name": "StyleView",
            "_model_name": "DescriptionStyleModel",
            "description_width": "",
            "_view_module": "@jupyter-widgets/base",
            "_model_module_version": "1.5.0",
            "_view_count": null,
            "_view_module_version": "1.2.0",
            "_model_module": "@jupyter-widgets/controls"
          }
        },
        "bbd003ce0f97425eb5aedc896d264dca": {
          "model_module": "@jupyter-widgets/base",
          "model_name": "LayoutModel",
          "state": {
            "_view_name": "LayoutView",
            "grid_template_rows": null,
            "right": null,
            "justify_content": null,
            "_view_module": "@jupyter-widgets/base",
            "overflow": null,
            "_model_module_version": "1.2.0",
            "_view_count": null,
            "flex_flow": null,
            "width": null,
            "min_width": null,
            "border": null,
            "align_items": null,
            "bottom": null,
            "_model_module": "@jupyter-widgets/base",
            "top": null,
            "grid_column": null,
            "overflow_y": null,
            "overflow_x": null,
            "grid_auto_flow": null,
            "grid_area": null,
            "grid_template_columns": null,
            "flex": null,
            "_model_name": "LayoutModel",
            "justify_items": null,
            "grid_row": null,
            "max_height": null,
            "align_content": null,
            "visibility": null,
            "align_self": null,
            "height": null,
            "min_height": null,
            "padding": null,
            "grid_auto_rows": null,
            "grid_gap": null,
            "max_width": null,
            "order": null,
            "_view_module_version": "1.2.0",
            "grid_template_areas": null,
            "object_position": null,
            "object_fit": null,
            "grid_auto_columns": null,
            "margin": null,
            "display": null,
            "left": null
          }
        }
      }
    },
    "accelerator": "GPU"
  },
  "cells": [
    {
      "cell_type": "markdown",
      "metadata": {
        "id": "view-in-github",
        "colab_type": "text"
      },
      "source": [
        "<a href=\"https://colab.research.google.com/github/cahya-wirawan/indonesian-speech-recognition/blob/main/Fine_Tuning_XLSR_Wav2Vec2_for_Indonesian_other.ipynb\" target=\"_parent\"><img src=\"https://colab.research.google.com/assets/colab-badge.svg\" alt=\"Open In Colab\"/></a>"
      ]
    },
    {
      "cell_type": "markdown",
      "metadata": {
        "id": "LBSYoWbi-45k"
      },
      "source": [
        "# **Fine-tuning XLSR-Wav2Vec2 for Multi-Lingual ASR with 🤗 Transformers**"
      ]
    },
    {
      "cell_type": "markdown",
      "metadata": {
        "id": "V7YOT2mnUiea"
      },
      "source": [
        "Wav2Vec2 is a pretrained model for Automatic Speech Recognition (ASR) and was released in [September 2020](https://ai.facebook.com/blog/wav2vec-20-learning-the-structure-of-speech-from-raw-audio/) by Alexei Baevski, Michael Auli, and Alex Conneau.  Soon after the superior performance of Wav2Vec2 was demonstrated on the English ASR dataset LibriSpeech, *Facebook AI* presented XLSR-Wav2Vec2 (click [here](https://arxiv.org/abs/2006.13979)). XLSR stands for *cross-lingual  speech representations* and refers to XLSR-Wav2Vec2`s ability to learn speech representations that are useful across multiple languages.\n",
        "\n",
        "Similar to Wav2Vec2, XLSR-Wav2Vec2 learns powerful speech representations from hundreds of thousands of hours of speech in more than 50 languages of unlabeled speech. Similar, to [BERT's masked language modeling](http://jalammar.github.io/illustrated-bert/), the model learns contextualized speech representations by randomly masking feature vectors before passing them to a transformer network.\n",
        "\n",
        "![wav2vec2_structure](https://raw.githubusercontent.com/patrickvonplaten/scientific_images/master/xlsr_wav2vec2.png)\n",
        "\n",
        "The authors show for the first time that massively pretraining an ASR model on cross-lingual unlabeled speech data, followed by language-specific fine-tuning on very little labeled data achieves state-of-the-art results. See Table 1-5 of the official [paper](https://arxiv.org/pdf/2006.13979.pdf)."
      ]
    },
    {
      "cell_type": "markdown",
      "metadata": {
        "id": "nT_QrfWtsxIz"
      },
      "source": [
        "In this notebook, we will give an in-detail explanation of how XLSR-Wav2Vec2's pretrained checkpoint can be fine-tuned on a low-resource ASR dataset of any language. Note that in this notebook, we will fine-tune XLSR-Wav2Vec2 without making use of a language model. It is much simpler and more efficient to use XLSR-Wav2Vec2 without a language model, but better results can be achieved by including a language model. \n",
        "\n",
        "For demonstration purposes, we fine-tune the [wav2vec2-large-xlsr-53](https://huggingface.co/facebook/wav2vec2-large-xlsr-53) on the low resource Turkish ASR dataset of [Common Voice](https://huggingface.co/datasets/common_voice) that contains just ~6h of validated training data."
      ]
    },
    {
      "cell_type": "markdown",
      "metadata": {
        "id": "Gx9OdDYrCtQ1"
      },
      "source": [
        "XLSR-Wav2Vec2 is fine-tuned using Connectionist Temporal Classification (CTC), which is an algorithm that is used to train neural networks for sequence-to-sequence problems and mainly in Automatic Speech Recognition and handwriting recognition. \n",
        "\n",
        "I highly recommend reading the blog post [Sequence Modeling with CTC (2017)](https://distill.pub/2017/ctc/) very well-written blog post by Awni Hannun."
      ]
    },
    {
      "cell_type": "markdown",
      "metadata": {
        "id": "e335hPmdtASZ"
      },
      "source": [
        "Before we start, let's install both `datasets` and `transformers` from master. Also, we need the `torchaudio` and `librosa` package to load audio files and the `jiwer` to evaluate our fine-tuned model using the [word error rate (WER)](https://huggingface.co/metrics/wer) metric ${}^1$."
      ]
    },
    {
      "cell_type": "code",
      "metadata": {
        "id": "c8eh87Hoee5d"
      },
      "source": [
        "%%capture\n",
        "!pip install datasets==1.4.1\n",
        "!pip install transformers==4.4.0\n",
        "!pip install torchaudio\n",
        "!pip install librosa\n",
        "!pip install jiwer"
      ],
      "execution_count": 3,
      "outputs": []
    },
    {
      "cell_type": "code",
      "metadata": {
        "colab": {
          "base_uri": "https://localhost:8080/"
        },
        "id": "HfNT1MUJEKeA",
        "outputId": "750629af-1633-4fd8-a136-ac185de20380"
      },
      "source": [
        "!nvidia-smi"
      ],
      "execution_count": 2,
      "outputs": [
        {
          "output_type": "stream",
          "text": [
            "Fri Mar 19 06:39:01 2021       \n",
            "+-----------------------------------------------------------------------------+\n",
            "| NVIDIA-SMI 460.56       Driver Version: 460.32.03    CUDA Version: 11.2     |\n",
            "|-------------------------------+----------------------+----------------------+\n",
            "| GPU  Name        Persistence-M| Bus-Id        Disp.A | Volatile Uncorr. ECC |\n",
            "| Fan  Temp  Perf  Pwr:Usage/Cap|         Memory-Usage | GPU-Util  Compute M. |\n",
            "|                               |                      |               MIG M. |\n",
            "|===============================+======================+======================|\n",
            "|   0  Tesla P100-PCIE...  Off  | 00000000:00:04.0 Off |                    0 |\n",
            "| N/A   41C    P0    28W / 250W |      0MiB / 16280MiB |      0%      Default |\n",
            "|                               |                      |                  N/A |\n",
            "+-------------------------------+----------------------+----------------------+\n",
            "                                                                               \n",
            "+-----------------------------------------------------------------------------+\n",
            "| Processes:                                                                  |\n",
            "|  GPU   GI   CI        PID   Type   Process name                  GPU Memory |\n",
            "|        ID   ID                                                   Usage      |\n",
            "|=============================================================================|\n",
            "|  No running processes found                                                 |\n",
            "+-----------------------------------------------------------------------------+\n"
          ],
          "name": "stdout"
        }
      ]
    },
    {
      "cell_type": "markdown",
      "metadata": {
        "id": "Mn9swf6EQ9Vd"
      },
      "source": [
        "\n",
        "\n",
        "\n",
        "---\n",
        "\n",
        "${}^1$ In the [paper](https://arxiv.org/pdf/2006.13979.pdf), the model was evaluated using the phoneme error rate (PER), but by far the most common metric in ASR is the word error rate (WER). To keep this notebook as general as possible we decided to evaluate the model using WER."
      ]
    },
    {
      "cell_type": "markdown",
      "metadata": {
        "id": "0mW-C1Nt-j7k"
      },
      "source": [
        "## Prepare Data, Tokenizer, Feature Extractor"
      ]
    },
    {
      "cell_type": "markdown",
      "metadata": {
        "id": "BeBosnY9BH3e"
      },
      "source": [
        "ASR models transcribe speech to text, which means that we both need a feature extractor that processes the speech signal to the model's input format, *e.g.* a feature vector, and a tokenizer that processes the model's output format to text. \n",
        "\n",
        "In 🤗 Transformers, the XLSR-Wav2Vec2 model is thus accompanied by both a tokenizer, called [Wav2Vec2CTCTokenizer](https://huggingface.co/transformers/master/model_doc/wav2vec2.html#wav2vec2ctctokenizer), and a feature extractor, called [Wav2Vec2FeatureExtractor](https://huggingface.co/transformers/master/model_doc/wav2vec2.html#wav2vec2featureextractor).\n",
        "\n",
        "Let's start by creating the tokenizer responsible for decoding the model's predictions."
      ]
    },
    {
      "cell_type": "markdown",
      "metadata": {
        "id": "sEXEWEJGQPqD"
      },
      "source": [
        "### Create Wav2Vec2CTCTokenizer"
      ]
    },
    {
      "cell_type": "markdown",
      "metadata": {
        "id": "tWmMikuNEKl_"
      },
      "source": [
        "The [pretrained Wav2Vec2 checkpoint]( ) maps the speech signal to a sequence of context representations as illustrated in the figure above. A fine-tuned XLSR-Wav2Vec2 checkpoint needs to map this sequence of context representations to its corresponding transcription so that a linear layer has to be added on top of the transformer block (shown in yellow). This linear layer is used to classifies each context representation to a token class analogous how, *e.g.*, after pretraining a linear layer is added on top of BERT's embeddings for further classification - *cf.* with *\"BERT\"* section of this [blog post](https://huggingface.co/blog/warm-starting-encoder-decoder).\n",
        "\n",
        "The output size of this layer corresponds to the number of tokens in the vocabulary, which does **not** depend on XLSR-Wav2Vec2's pretraining task, but only on the labeled dataset used for fine-tuning. So in the first step, we will take a look at Common Voice and define a vocabulary based on the dataset's transcriptions."
      ]
    },
    {
      "cell_type": "markdown",
      "metadata": {
        "id": "idBczw8mWzgt"
      },
      "source": [
        "First, let's go to [Common Voice](https://commonvoice.mozilla.org/en/datasets) and pick a language to fine-tune XLSR-Wav2Vec2 on. For this notebook, we will use Turkish. \n",
        "\n",
        "For each language-specific dataset, you can find a language code corresponding to your chosen language. On [Common Voice](https://commonvoice.mozilla.org/en/datasets), look for the field \"Version\". The language code then corresponds to the prefix before the underscore. For Turkish, *e.g.* the language code is `\"tr\"`.\n",
        "\n",
        "Great, now we can use 🤗 Datasets' simple API to download the data. The dataset name will be `\"common_voice\"`, the config name corresponds to the language code - `\"tr\"` in our case."
      ]
    },
    {
      "cell_type": "markdown",
      "metadata": {
        "id": "bee4g9rpLxll"
      },
      "source": [
        "Common Voice has many different splits including `invalidated`, which refers to data that was not rated as \"clean enough\" to be considered useful. In this notebook, we will only make use of the splits `\"train\"`, `\"validation\"` and `\"test\"`. \n",
        "\n",
        "Because the Turkish dataset is so small, we will merge both the validation and training data into a training dataset and simply use the test data for validation."
      ]
    },
    {
      "cell_type": "code",
      "metadata": {
        "id": "2MMXcWFFgCXU",
        "colab": {
          "base_uri": "https://localhost:8080/",
          "height": 309,
          "referenced_widgets": [
            "982db355f9664331a58dd4a3a9a27c5a",
            "ed658c4d10b64e51afd8a0f690d29e39",
            "c4f063806c4346df8afbab0b6589539b",
            "41eb246752ff48b1882e246c6c9f5a92",
            "fc54d27b996743cdb5c51b754223e0f9",
            "068fd9e0edc64a5bac6bf49b31c91802",
            "f22acdee8ecf4f2498883995ef2ecfbc",
            "00039ca23c3a4f4d8df54506f36cfea2",
            "19ecee93c74c4757a679a086549be6b8",
            "62c49f65530942ed879de86989246203",
            "404b88f7b6d846d6a07189e8ec2db1ac",
            "4c40584509da44b084de9c198c73a0a0",
            "30c865c4802d419b8e46f5fe09933b75",
            "8aba11f6caa349128d09592550ffc8d6",
            "c974154e602c4f4fb3148890b0a89460",
            "8d8ff02e54314d92918b53af359b1acc",
            "939edd477f4745559c7c3027c4e9571c",
            "2fb06b92472546c4afc5ae485b85ff8f",
            "126da43ea65744b3b9cf7265b67a686c",
            "dc89a83a66c0487490cfd97548952a8d",
            "a05d9655890042d1af0f0699e4a24e54",
            "3890545fbe364b4da1303c9d80c27189",
            "f3900583cec04da78ff1f3794b8b434e",
            "e05c03b75d964de0a58bf4628201b6f9",
            "8974b769f3ca48c9999ccf103b740673",
            "33c91f83522d42829c21e1207d70bc99",
            "32a7bf329359423e9e360008085c64ba",
            "ac61a95f02654899b31cf24ca745e543",
            "dfabb843c471489485d3cd4fd38ba934",
            "6ab33eee929b4235b42ffd921e86d4bd",
            "6c1a1fcc66ea4aef91d076941deaf83e",
            "0cba12d1ad7a4daf8bb8c58dbc666d74",
            "198a8ffc54844b618efc353c3dc48933",
            "67f4194a13104960ba1d5466ab2b954b",
            "073652e6daf04d62a3123dfb3f8cbda1",
            "5f80db4f160149f7a533c1361a60d9f1",
            "b4488f24b5e640a9b57290491a32f374",
            "e4407311159f4caaaccef472cbf829a8",
            "2eaaff3e7e2b496ea780e95b4fbda4d4",
            "4aa53a1ba28146c29509e0c2d558b8a7",
            "6b4835c9b3034d9ba2d551ce6a14a9a6",
            "0360bd5943b142d38021f6007f8b7037",
            "8e3c6955292b44fea8a9773330771ba5",
            "b418be330fb740bda61504bf2b3909f1",
            "ceeb8ea47c394120983d53a60c99cb9f",
            "f8cec53c267d4adb8817e1ce63c4d8a5",
            "0722bbb4438c40c59e536402c3eab284",
            "1540121f734f430285d815e9759702d9",
            "b9bb8d4811be484c88cf4c47e383e453",
            "391656ab255242d3a2ab319766adc96c",
            "61c83931bb9b4bfa995696742e9b765c",
            "32a90d0f3a5a404a92eb318b02116500",
            "5a47b674e6414850b4e56b5dbd1deea5",
            "480d1ab39c7e4c89b6c1fcd7d073beae",
            "999440c56beb4a24b5f055b47e00034f",
            "25ecfe61b1b04824a811015b1a932105",
            "5b1ee6f35d25465780f8a8950c1ee399",
            "377e975692dd4292b2db0ab19efcf7f5",
            "ad0abe22895145358426238694191755",
            "49634a81874d40cfb07214560f9434de",
            "fa48caf9024444bd9ec91d768e989fb6",
            "f0017574ff8842ae9ac2f80f0ab72220",
            "a1d2906157264ef9b12d6f01a226018c",
            "cdcdc36b5cc344d0b0696a182944a3b0"
          ]
        },
        "outputId": "104cce56-5d19-49ed-9e87-0756fd4a75a9"
      },
      "source": [
        "from datasets import load_dataset, load_metric\n",
        "\n",
        "common_voice_train = load_dataset(\"common_voice\", \"id\", split=\"train+validation\")\n",
        "common_voice_test = load_dataset(\"common_voice\", \"id\", split=\"test\")"
      ],
      "execution_count": 5,
      "outputs": [
        {
          "output_type": "display_data",
          "data": {
            "application/vnd.jupyter.widget-view+json": {
              "model_id": "982db355f9664331a58dd4a3a9a27c5a",
              "version_minor": 0,
              "version_major": 2
            },
            "text/plain": [
              "HBox(children=(FloatProgress(value=0.0, description='Downloading', max=4323.0, style=ProgressStyle(description…"
            ]
          },
          "metadata": {
            "tags": []
          }
        },
        {
          "output_type": "stream",
          "text": [
            "Couldn't find file locally at common_voice/common_voice.py, or remotely at https://raw.githubusercontent.com/huggingface/datasets/1.4.1/datasets/common_voice/common_voice.py.\n",
            "The file was picked from the master branch on github instead at https://raw.githubusercontent.com/huggingface/datasets/master/datasets/common_voice/common_voice.py.\n"
          ],
          "name": "stderr"
        },
        {
          "output_type": "stream",
          "text": [
            "\n"
          ],
          "name": "stdout"
        },
        {
          "output_type": "display_data",
          "data": {
            "application/vnd.jupyter.widget-view+json": {
              "model_id": "19ecee93c74c4757a679a086549be6b8",
              "version_minor": 0,
              "version_major": 2
            },
            "text/plain": [
              "HBox(children=(FloatProgress(value=0.0, description='Downloading', max=9954.0, style=ProgressStyle(description…"
            ]
          },
          "metadata": {
            "tags": []
          }
        },
        {
          "output_type": "stream",
          "text": [
            "\n",
            "Downloading and preparing dataset common_voice/id (download: 453.87 MiB, generated: 5.20 MiB, post-processed: Unknown size, total: 459.07 MiB) to /root/.cache/huggingface/datasets/common_voice/id/6.1.0/0041e06ab061b91d0a23234a2221e87970a19cf3a81b20901474cffffeb7869f...\n"
          ],
          "name": "stdout"
        },
        {
          "output_type": "display_data",
          "data": {
            "application/vnd.jupyter.widget-view+json": {
              "model_id": "939edd477f4745559c7c3027c4e9571c",
              "version_minor": 0,
              "version_major": 2
            },
            "text/plain": [
              "HBox(children=(FloatProgress(value=0.0, description='Downloading', max=475918233.0, style=ProgressStyle(descri…"
            ]
          },
          "metadata": {
            "tags": []
          }
        },
        {
          "output_type": "stream",
          "text": [
            "\n"
          ],
          "name": "stdout"
        },
        {
          "output_type": "display_data",
          "data": {
            "application/vnd.jupyter.widget-view+json": {
              "model_id": "8974b769f3ca48c9999ccf103b740673",
              "version_minor": 0,
              "version_major": 2
            },
            "text/plain": [
              "HBox(children=(FloatProgress(value=1.0, bar_style='info', max=1.0), HTML(value='')))"
            ]
          },
          "metadata": {
            "tags": []
          }
        },
        {
          "output_type": "stream",
          "text": [
            "\r"
          ],
          "name": "stdout"
        },
        {
          "output_type": "display_data",
          "data": {
            "application/vnd.jupyter.widget-view+json": {
              "model_id": "198a8ffc54844b618efc353c3dc48933",
              "version_minor": 0,
              "version_major": 2
            },
            "text/plain": [
              "HBox(children=(FloatProgress(value=1.0, bar_style='info', max=1.0), HTML(value='')))"
            ]
          },
          "metadata": {
            "tags": []
          }
        },
        {
          "output_type": "stream",
          "text": [
            "\r"
          ],
          "name": "stdout"
        },
        {
          "output_type": "display_data",
          "data": {
            "application/vnd.jupyter.widget-view+json": {
              "model_id": "6b4835c9b3034d9ba2d551ce6a14a9a6",
              "version_minor": 0,
              "version_major": 2
            },
            "text/plain": [
              "HBox(children=(FloatProgress(value=1.0, bar_style='info', max=1.0), HTML(value='')))"
            ]
          },
          "metadata": {
            "tags": []
          }
        },
        {
          "output_type": "stream",
          "text": [
            "\r"
          ],
          "name": "stdout"
        },
        {
          "output_type": "display_data",
          "data": {
            "application/vnd.jupyter.widget-view+json": {
              "model_id": "b9bb8d4811be484c88cf4c47e383e453",
              "version_minor": 0,
              "version_major": 2
            },
            "text/plain": [
              "HBox(children=(FloatProgress(value=1.0, bar_style='info', max=1.0), HTML(value='')))"
            ]
          },
          "metadata": {
            "tags": []
          }
        },
        {
          "output_type": "stream",
          "text": [
            "\r"
          ],
          "name": "stdout"
        },
        {
          "output_type": "display_data",
          "data": {
            "application/vnd.jupyter.widget-view+json": {
              "model_id": "5b1ee6f35d25465780f8a8950c1ee399",
              "version_minor": 0,
              "version_major": 2
            },
            "text/plain": [
              "HBox(children=(FloatProgress(value=1.0, bar_style='info', max=1.0), HTML(value='')))"
            ]
          },
          "metadata": {
            "tags": []
          }
        },
        {
          "output_type": "stream",
          "text": [
            "\rDataset common_voice downloaded and prepared to /root/.cache/huggingface/datasets/common_voice/id/6.1.0/0041e06ab061b91d0a23234a2221e87970a19cf3a81b20901474cffffeb7869f. Subsequent calls will reuse this data.\n"
          ],
          "name": "stdout"
        },
        {
          "output_type": "stream",
          "text": [
            "Couldn't find file locally at common_voice/common_voice.py, or remotely at https://raw.githubusercontent.com/huggingface/datasets/1.4.1/datasets/common_voice/common_voice.py.\n",
            "The file was picked from the master branch on github instead at https://raw.githubusercontent.com/huggingface/datasets/master/datasets/common_voice/common_voice.py.\n",
            "Reusing dataset common_voice (/root/.cache/huggingface/datasets/common_voice/id/6.1.0/0041e06ab061b91d0a23234a2221e87970a19cf3a81b20901474cffffeb7869f)\n"
          ],
          "name": "stderr"
        }
      ]
    },
    {
      "cell_type": "markdown",
      "metadata": {
        "id": "ri5y5N_HMANq"
      },
      "source": [
        "Many ASR datasets only provide the target text, `'sentence'` for each audio file `'path'`. Common Voice actually provides much more information about each audio file, such as the `'accent'`, etc. However, we want to keep the notebook as general as possible, so that we will only consider the transcribed text for fine-tuning.\n",
        "\n"
      ]
    },
    {
      "cell_type": "code",
      "metadata": {
        "id": "kbyq6lDgQc2a"
      },
      "source": [
        "common_voice_train = common_voice_train.remove_columns([\"accent\", \"age\", \"client_id\", \"down_votes\", \"gender\", \"locale\", \"segment\", \"up_votes\"])\n",
        "common_voice_test = common_voice_test.remove_columns([\"accent\", \"age\", \"client_id\", \"down_votes\", \"gender\", \"locale\", \"segment\", \"up_votes\"])"
      ],
      "execution_count": 6,
      "outputs": []
    },
    {
      "cell_type": "markdown",
      "metadata": {
        "id": "Go9Hq4e4NDT9"
      },
      "source": [
        "Let's write a short function to display some random samples of the dataset and run it a couple of times to get a feeling for the transcriptions."
      ]
    },
    {
      "cell_type": "code",
      "metadata": {
        "id": "72737oog2F6U"
      },
      "source": [
        "from datasets import ClassLabel\n",
        "import random\n",
        "import pandas as pd\n",
        "from IPython.display import display, HTML\n",
        "\n",
        "def show_random_elements(dataset, num_examples=10):\n",
        "    assert num_examples <= len(dataset), \"Can't pick more elements than there are in the dataset.\"\n",
        "    picks = []\n",
        "    for _ in range(num_examples):\n",
        "        pick = random.randint(0, len(dataset)-1)\n",
        "        while pick in picks:\n",
        "            pick = random.randint(0, len(dataset)-1)\n",
        "        picks.append(pick)\n",
        "    \n",
        "    df = pd.DataFrame(dataset[picks])\n",
        "    display(HTML(df.to_html()))"
      ],
      "execution_count": 7,
      "outputs": []
    },
    {
      "cell_type": "code",
      "metadata": {
        "colab": {
          "base_uri": "https://localhost:8080/",
          "height": 667
        },
        "id": "K_JUmf3G3b9S",
        "outputId": "6e95efd4-7a22-42da-dd1a-dfb00e69f858"
      },
      "source": [
        "show_random_elements(common_voice_train.remove_columns([\"path\"]), num_examples=20)"
      ],
      "execution_count": 8,
      "outputs": [
        {
          "output_type": "display_data",
          "data": {
            "text/html": [
              "<table border=\"1\" class=\"dataframe\">\n",
              "  <thead>\n",
              "    <tr style=\"text-align: right;\">\n",
              "      <th></th>\n",
              "      <th>sentence</th>\n",
              "    </tr>\n",
              "  </thead>\n",
              "  <tbody>\n",
              "    <tr>\n",
              "      <th>0</th>\n",
              "      <td>Saya tidak begitu suka belajar.</td>\n",
              "    </tr>\n",
              "    <tr>\n",
              "      <th>1</th>\n",
              "      <td>Kejadian itu membuat dia terkenal.</td>\n",
              "    </tr>\n",
              "    <tr>\n",
              "      <th>2</th>\n",
              "      <td>Pak Yamada kuat dan sehat.</td>\n",
              "    </tr>\n",
              "    <tr>\n",
              "      <th>3</th>\n",
              "      <td>Saya tidak begitu suka menulis huruf.</td>\n",
              "    </tr>\n",
              "    <tr>\n",
              "      <th>4</th>\n",
              "      <td>Saya merasa terhormat bisa berjumpa dengan anda.</td>\n",
              "    </tr>\n",
              "    <tr>\n",
              "      <th>5</th>\n",
              "      <td>Tom menyesal telah meninggalkan pekerjaannya.</td>\n",
              "    </tr>\n",
              "    <tr>\n",
              "      <th>6</th>\n",
              "      <td>Di belakang rumah ada mobil.</td>\n",
              "    </tr>\n",
              "    <tr>\n",
              "      <th>7</th>\n",
              "      <td>Biarkan saya pergi ke toko.</td>\n",
              "    </tr>\n",
              "    <tr>\n",
              "      <th>8</th>\n",
              "      <td>Bukan itu yang aku cari.</td>\n",
              "    </tr>\n",
              "    <tr>\n",
              "      <th>9</th>\n",
              "      <td>Berapa harga dasi ini?</td>\n",
              "    </tr>\n",
              "    <tr>\n",
              "      <th>10</th>\n",
              "      <td>Televisi ada di sebelah piano.</td>\n",
              "    </tr>\n",
              "    <tr>\n",
              "      <th>11</th>\n",
              "      <td>Bagaimana wawancara anda telah berjalan?</td>\n",
              "    </tr>\n",
              "    <tr>\n",
              "      <th>12</th>\n",
              "      <td>Dia mengumpulkan pecahan-pecahan piring.</td>\n",
              "    </tr>\n",
              "    <tr>\n",
              "      <th>13</th>\n",
              "      <td>Saya belum bisa bicara Bahasa Indonesia dengan lancar.</td>\n",
              "    </tr>\n",
              "    <tr>\n",
              "      <th>14</th>\n",
              "      <td>Tolong bertanya lewat telepon kalau tidak tahu jalan.</td>\n",
              "    </tr>\n",
              "    <tr>\n",
              "      <th>15</th>\n",
              "      <td>Saya tidak pernah mendengarnya berbahasa Inggeris.</td>\n",
              "    </tr>\n",
              "    <tr>\n",
              "      <th>16</th>\n",
              "      <td>Aku sangat menikmati liburan sekolah ini.</td>\n",
              "    </tr>\n",
              "    <tr>\n",
              "      <th>17</th>\n",
              "      <td>Apakah kamu punya minuman ringan?</td>\n",
              "    </tr>\n",
              "    <tr>\n",
              "      <th>18</th>\n",
              "      <td>Apakah buku ini karangan Kenji?</td>\n",
              "    </tr>\n",
              "    <tr>\n",
              "      <th>19</th>\n",
              "      <td>Burung-burung terbang di langit.</td>\n",
              "    </tr>\n",
              "  </tbody>\n",
              "</table>"
            ],
            "text/plain": [
              "<IPython.core.display.HTML object>"
            ]
          },
          "metadata": {
            "tags": []
          }
        }
      ]
    },
    {
      "cell_type": "markdown",
      "metadata": {
        "id": "fowcOllGNNju"
      },
      "source": [
        "Alright! The transcriptions look fairly clean. Having translated the transcribed sentences (I'm sadly not a native speaker in Turkish), it seems that the language corresponds more to written text than noisy dialogue. This makes sense taking into account that [Common Voice](https://huggingface.co/datasets/common_voice) is a crowd-sourced read speech corpus."
      ]
    },
    {
      "cell_type": "markdown",
      "metadata": {
        "id": "vq7OR50LN49m"
      },
      "source": [
        "We can see that the transcriptions contain some special characters, such as `,.?!;:`. Without a language model, it is much harder to classify speech chunks to such special characters because they don't really correspond to a characteristic sound unit. *E.g.*, the letter `\"s\"` has a more or less clear sound, whereas the special character `\".\"` does not.\n",
        "Also in order to understand the meaning of a speech signal, it is usually not necessary to include special characters in the transcription.\n",
        "\n",
        "In addition, we normalize the text to only have lower case letters and append a word separator token at the end."
      ]
    },
    {
      "cell_type": "code",
      "metadata": {
        "id": "svKzVJ_hQGK6"
      },
      "source": [
        "import re\n",
        "chars_to_ignore_regex = '[\\,\\?\\.\\!\\-\\;\\:\\\"\\“\\%\\‘\\'\\”\\�]'\n",
        "#chars_to_ignore_regex = '[\\,\\?\\.\\!\\-\\;\\:\\\"\\“\\%\\‘\\”\\�]'\n",
        "\n",
        "def remove_special_characters(batch):\n",
        "    batch[\"sentence\"] = re.sub(chars_to_ignore_regex, '', batch[\"sentence\"]).lower() + \" \"\n",
        "    batch[\"sentence\"] = batch[\"sentence\"].replace('！ ', '')\n",
        "    batch[\"sentence\"] = batch[\"sentence\"].replace('，', '')\n",
        "    batch[\"sentence\"] = batch[\"sentence\"].replace('é', 'e')\n",
        "    return batch"
      ],
      "execution_count": 14,
      "outputs": []
    },
    {
      "cell_type": "code",
      "metadata": {
        "colab": {
          "base_uri": "https://localhost:8080/",
          "height": 116,
          "referenced_widgets": [
            "6ec4c28e708d4c429dd20bb8027bfbbd",
            "1fea38d5886f498a862e98d993f78a1e",
            "2f2256f267f54242859783ba018f8234",
            "180aa24a6c124921b2edcc4f8a5c7145",
            "a440fbb5d49c40b7a7f7698cdecadeb7",
            "06f27dc814ed488891090b1fbebe7222",
            "fe52be877e1a431b8a497cfefcb89a25",
            "eb23309d0447485abf4a4e847fbaed56",
            "e1bc7652dcd84d5e90079413d4f87a62",
            "fadfa6368fb74a038372165f1ec1d3d7",
            "a1b894f6f76441d3baba01f1ba1d1ad8",
            "e132fb223a284aeb81ec07973c824c37",
            "883a531d0427407c9219444bbb91129b",
            "e6b6b9ec143743348814cd41ac97fbf2",
            "76d5617d413a4c5ab371594f1b35756c",
            "2f8abc1a668645d493fb26674c72e409"
          ]
        },
        "id": "XIHocAuTQbBR",
        "outputId": "5e5d735b-f6e6-4dc9-bc4f-119d10ff09f6"
      },
      "source": [
        "common_voice_train = common_voice_train.map(remove_special_characters)\n",
        "common_voice_test = common_voice_test.map(remove_special_characters)"
      ],
      "execution_count": 15,
      "outputs": [
        {
          "output_type": "display_data",
          "data": {
            "application/vnd.jupyter.widget-view+json": {
              "model_id": "6ec4c28e708d4c429dd20bb8027bfbbd",
              "version_minor": 0,
              "version_major": 2
            },
            "text/plain": [
              "HBox(children=(FloatProgress(value=0.0, max=3965.0), HTML(value='')))"
            ]
          },
          "metadata": {
            "tags": []
          }
        },
        {
          "output_type": "stream",
          "text": [
            "\n"
          ],
          "name": "stdout"
        },
        {
          "output_type": "display_data",
          "data": {
            "application/vnd.jupyter.widget-view+json": {
              "model_id": "e1bc7652dcd84d5e90079413d4f87a62",
              "version_minor": 0,
              "version_major": 2
            },
            "text/plain": [
              "HBox(children=(FloatProgress(value=0.0, max=1844.0), HTML(value='')))"
            ]
          },
          "metadata": {
            "tags": []
          }
        },
        {
          "output_type": "stream",
          "text": [
            "\n"
          ],
          "name": "stdout"
        }
      ]
    },
    {
      "cell_type": "code",
      "metadata": {
        "colab": {
          "base_uri": "https://localhost:8080/",
          "height": 358
        },
        "id": "RBDRAAYxRE6n",
        "outputId": "174ff55e-6cf2-4e29-f528-f415bc80fc8a"
      },
      "source": [
        "show_random_elements(common_voice_train.remove_columns([\"path\"]))"
      ],
      "execution_count": 16,
      "outputs": [
        {
          "output_type": "display_data",
          "data": {
            "text/html": [
              "<table border=\"1\" class=\"dataframe\">\n",
              "  <thead>\n",
              "    <tr style=\"text-align: right;\">\n",
              "      <th></th>\n",
              "      <th>sentence</th>\n",
              "    </tr>\n",
              "  </thead>\n",
              "  <tbody>\n",
              "    <tr>\n",
              "      <th>0</th>\n",
              "      <td>tom bersiap pergi ke sekolah</td>\n",
              "    </tr>\n",
              "    <tr>\n",
              "      <th>1</th>\n",
              "      <td>kakak perempuanku masih hafal lagulagu avril</td>\n",
              "    </tr>\n",
              "    <tr>\n",
              "      <th>2</th>\n",
              "      <td>saya akan mencari kamar yang lebih murah</td>\n",
              "    </tr>\n",
              "    <tr>\n",
              "      <th>3</th>\n",
              "      <td>ayah saya bekerja di sebuah pabrik</td>\n",
              "    </tr>\n",
              "    <tr>\n",
              "      <th>4</th>\n",
              "      <td>hobiku memancing ikan</td>\n",
              "    </tr>\n",
              "    <tr>\n",
              "      <th>5</th>\n",
              "      <td>tamu itu menyenangkan jika dia bertamu tidak terlalu lama</td>\n",
              "    </tr>\n",
              "    <tr>\n",
              "      <th>6</th>\n",
              "      <td>awas ada lubang di atas jalan</td>\n",
              "    </tr>\n",
              "    <tr>\n",
              "      <th>7</th>\n",
              "      <td>apakah kursi itu kosong</td>\n",
              "    </tr>\n",
              "    <tr>\n",
              "      <th>8</th>\n",
              "      <td>pekerjaan rumah semuanya sudah selesai</td>\n",
              "    </tr>\n",
              "    <tr>\n",
              "      <th>9</th>\n",
              "      <td>sore hari ini ayahku ada waktu luang</td>\n",
              "    </tr>\n",
              "  </tbody>\n",
              "</table>"
            ],
            "text/plain": [
              "<IPython.core.display.HTML object>"
            ]
          },
          "metadata": {
            "tags": []
          }
        }
      ]
    },
    {
      "cell_type": "markdown",
      "metadata": {
        "id": "jwfaptH5RJwA"
      },
      "source": [
        "Good! This looks better. We have removed most special characters from transcriptions and normalized them to lower-case only.\n",
        "\n",
        "In CTC, it is common to classify speech chunks into letters, so we will do the same here. \n",
        "Let's extract all distinct letters of the training and test data and build our vocabulary from this set of letters.\n",
        "\n",
        "We write a mapping function that concatenates all transcriptions into one long transcription and then transforms the string into a set of chars. \n",
        "It is important to pass the argument `batched=True` to the `map(...)` function so that the mapping function has access to all transcriptions at once."
      ]
    },
    {
      "cell_type": "code",
      "metadata": {
        "id": "LwCshNbbeRZR"
      },
      "source": [
        "def extract_all_chars(batch):\n",
        "  all_text = \" \".join(batch[\"sentence\"])\n",
        "  vocab = list(set(all_text))\n",
        "  return {\"vocab\": [vocab], \"all_text\": [all_text]}"
      ],
      "execution_count": 17,
      "outputs": []
    },
    {
      "cell_type": "code",
      "metadata": {
        "colab": {
          "base_uri": "https://localhost:8080/",
          "height": 116,
          "referenced_widgets": [
            "b57f4fd1390a431f8816822c81a40bd2",
            "02fea0b7629344159102dc6fdb071ee0",
            "9471a514984248c4928169ec2c77b6e0",
            "cc87ce46146049fea4237da9d2c66841",
            "5a3a6211585f4391b4c954230ac5c64e",
            "4eba1988a45d40418b415c0524a7f264",
            "ea5934a3bd9644e995571b3d3d84408c",
            "e0eb36f1ad764eb398ecbce07ea544f3",
            "7b14464ef42942a7aa0832db8603751f",
            "03cafa6c2e75433cbf95611fffba0f73",
            "7760f7bc193441e68c03a1905dce9545",
            "bf5b029fe99d48dba02b987904316377",
            "bd8749a1763c4da48e99686f8e4f3f9d",
            "a3bc1029050640fba1d46d197be75b29",
            "dc85fa4e0c3d4b8389abfd3cace717df",
            "bc3c659063a6469e9360d5d31fb3e2fc"
          ]
        },
        "id": "_m6uUjjcfbjH",
        "outputId": "11034298-e67e-4ca7-9069-39083b25b0d1"
      },
      "source": [
        "vocab_train = common_voice_train.map(extract_all_chars, batched=True, batch_size=-1, keep_in_memory=True, remove_columns=common_voice_train.column_names)\n",
        "vocab_test = common_voice_test.map(extract_all_chars, batched=True, batch_size=-1, keep_in_memory=True, remove_columns=common_voice_test.column_names)"
      ],
      "execution_count": 14,
      "outputs": [
        {
          "output_type": "display_data",
          "data": {
            "application/vnd.jupyter.widget-view+json": {
              "model_id": "b57f4fd1390a431f8816822c81a40bd2",
              "version_minor": 0,
              "version_major": 2
            },
            "text/plain": [
              "HBox(children=(FloatProgress(value=0.0, max=1.0), HTML(value='')))"
            ]
          },
          "metadata": {
            "tags": []
          }
        },
        {
          "output_type": "stream",
          "text": [
            "\n"
          ],
          "name": "stdout"
        },
        {
          "output_type": "display_data",
          "data": {
            "application/vnd.jupyter.widget-view+json": {
              "model_id": "7b14464ef42942a7aa0832db8603751f",
              "version_minor": 0,
              "version_major": 2
            },
            "text/plain": [
              "HBox(children=(FloatProgress(value=0.0, max=1.0), HTML(value='')))"
            ]
          },
          "metadata": {
            "tags": []
          }
        },
        {
          "output_type": "stream",
          "text": [
            "\n"
          ],
          "name": "stdout"
        }
      ]
    },
    {
      "cell_type": "markdown",
      "metadata": {
        "id": "7oVgE8RZSJNP"
      },
      "source": [
        "Now, we create the union of all distinct letters in the training dataset and test dataset and convert the resulting list into an enumerated dictionary."
      ]
    },
    {
      "cell_type": "code",
      "metadata": {
        "id": "aQfneNsmlJI0"
      },
      "source": [
        "vocab_list = list(set(vocab_train[\"vocab\"][0]) | set(vocab_test[\"vocab\"][0]))"
      ],
      "execution_count": 15,
      "outputs": []
    },
    {
      "cell_type": "code",
      "metadata": {
        "colab": {
          "base_uri": "https://localhost:8080/"
        },
        "id": "_0kRndSvqaKk",
        "outputId": "7be03ea3-e0fd-49f6-8190-352b5cf08240"
      },
      "source": [
        "vocab_dict = {v: k for k, v in enumerate(vocab_list)}\n",
        "vocab_dict"
      ],
      "execution_count": 16,
      "outputs": [
        {
          "output_type": "execute_result",
          "data": {
            "text/plain": [
              "{' ': 12,\n",
              " 'a': 9,\n",
              " 'b': 18,\n",
              " 'c': 5,\n",
              " 'd': 8,\n",
              " 'e': 24,\n",
              " 'f': 15,\n",
              " 'g': 13,\n",
              " 'h': 19,\n",
              " 'i': 23,\n",
              " 'j': 16,\n",
              " 'k': 4,\n",
              " 'l': 10,\n",
              " 'm': 22,\n",
              " 'n': 11,\n",
              " 'o': 21,\n",
              " 'p': 6,\n",
              " 'r': 25,\n",
              " 's': 14,\n",
              " 't': 20,\n",
              " 'u': 17,\n",
              " 'v': 0,\n",
              " 'w': 2,\n",
              " 'x': 7,\n",
              " 'y': 3,\n",
              " 'z': 1}"
            ]
          },
          "metadata": {
            "tags": []
          },
          "execution_count": 16
        }
      ]
    },
    {
      "cell_type": "markdown",
      "metadata": {
        "id": "JOSzbvs9SXT1"
      },
      "source": [
        "Cool, we see that all letters of the alphabet occur in the dataset (which is not really surprising) and we also extracted the special characters `\" \"` and `'`. Note that we did not exclude those special characters because: \n",
        "\n",
        "- The model has to learn to predict when a word is finished or else the model prediction would always be a sequence of chars which would make it impossible to separate words from each other.\n",
        "- From the transcriptions above it seems that words that include an apostrophe, such as `maktouf'un` do exist in Turkish, so I decided to keep the apostrophe in the dataset. This might be a wrong assumption though.\n",
        "\n",
        "One should always keep in mind that the data-preprocessing is a very important step before training your model. E.g., we don't want our model to differentiate between `a` and `A` just because we forgot to normalize the data. The difference between `a` and `A` does not depend on the \"sound\" of the letter at all, but more on grammatical rules - *e.g.* use a capitalized letter at the beginning of the sentence. So it is sensible to remove the difference between capitalized and non-capitalized letters so that the model has an easier time learning to transcribe speech. \n",
        "\n",
        "It is always advantageous to get help from a native speaker of the language you would like to transcribe to verify whether the assumptions you made are sensible, *e.g.* I should have made sure that keeping `'`, but removing other special characters is a sensible choice for Turkish. "
      ]
    },
    {
      "cell_type": "markdown",
      "metadata": {
        "id": "b1fBRCn-TRaO"
      },
      "source": [
        "To make it clearer that `\" \"` has its own token class, we give it a more visible character `|`. In addition, we also add an \"unknown\" token so that the model can later deal with characters not encountered in Common Voice's training set. \n",
        "\n",
        "Finally, we also add a padding token that corresponds to CTC's \"*blank token*\". The \"blank token\" is a core component of the CTC algorithm. For more information, please take a look at the \"Alignment\" section [here](https://distill.pub/2017/ctc/)."
      ]
    },
    {
      "cell_type": "code",
      "metadata": {
        "id": "npbIbBoLgaFX"
      },
      "source": [
        "vocab_dict[\"|\"] = vocab_dict[\" \"]\n",
        "del vocab_dict[\" \"]"
      ],
      "execution_count": 17,
      "outputs": []
    },
    {
      "cell_type": "code",
      "metadata": {
        "id": "znF0bNunsjbl",
        "colab": {
          "base_uri": "https://localhost:8080/"
        },
        "outputId": "5e904971-d025-4c48-b0a7-8e9156ce30d4"
      },
      "source": [
        "vocab_dict[\"[UNK]\"] = len(vocab_dict)\n",
        "vocab_dict[\"[PAD]\"] = len(vocab_dict)\n",
        "len(vocab_dict)"
      ],
      "execution_count": 18,
      "outputs": [
        {
          "output_type": "execute_result",
          "data": {
            "text/plain": [
              "28"
            ]
          },
          "metadata": {
            "tags": []
          },
          "execution_count": 18
        }
      ]
    },
    {
      "cell_type": "markdown",
      "metadata": {
        "id": "SFPGfet8U5sL"
      },
      "source": [
        "Cool, now our vocabulary is complete and consists of 39 tokens, which means that the linear layer that we will add on top of the pretrained XLSR-Wav2Vec2 checkpoint will have an output dimension of 39."
      ]
    },
    {
      "cell_type": "markdown",
      "metadata": {
        "id": "1CujRgBNVRaD"
      },
      "source": [
        "Let's now save the vocabulary as a json file."
      ]
    },
    {
      "cell_type": "code",
      "metadata": {
        "id": "ehyUoh9vk191"
      },
      "source": [
        "import json\n",
        "with open('vocab.json', 'w') as vocab_file:\n",
        "    json.dump(vocab_dict, vocab_file)"
      ],
      "execution_count": 19,
      "outputs": []
    },
    {
      "cell_type": "markdown",
      "metadata": {
        "id": "SHJDaKlIVVim"
      },
      "source": [
        "In a final step, we use the json file to instantiate an object of the `Wav2Vec2CTCTokenizer` class."
      ]
    },
    {
      "cell_type": "code",
      "metadata": {
        "id": "xriFGEWQkO4M"
      },
      "source": [
        "from transformers import Wav2Vec2CTCTokenizer\n",
        "\n",
        "tokenizer = Wav2Vec2CTCTokenizer(\"./vocab.json\", unk_token=\"[UNK]\", pad_token=\"[PAD]\", word_delimiter_token=\"|\")"
      ],
      "execution_count": 20,
      "outputs": []
    },
    {
      "cell_type": "markdown",
      "metadata": {
        "id": "KvL12DrNV4cx"
      },
      "source": [
        "Next, we will create the feature extractor."
      ]
    },
    {
      "cell_type": "markdown",
      "metadata": {
        "id": "mYcIiR2FQ96i"
      },
      "source": [
        "### Create XLSR-Wav2Vec2 Feature Extractor"
      ]
    },
    {
      "cell_type": "markdown",
      "metadata": {
        "id": "Y6mDEyW719rx"
      },
      "source": [
        "Speech is a continuous signal and to be treated by computers, it first has to be discretized, which is usually called **sampling**. The sampling rate hereby plays an important role in that it defines how many data points of the speech signal are measured per second. Therefore, sampling with a higher sampling rate results in a better approximation of the *real* speech signal but also necessitates more values per second.\n",
        "\n",
        "A pretrained checkpoint expects its input data to have been sampled more or less from the same distribution as the data it was trained on. The same speech signals sampled at two different rates have a very different distribution, *e.g.*, doubling the sampling rate results in data points being twice as long. Thus, \n",
        "before fine-tuning a pretrained checkpoint of an ASR model, it is crucial to verify that the sampling rate of the data that was used to pretrain the model matches the sampling rate of the dataset used to fine-tune the model.\n",
        "\n",
        "XLSR-Wav2Vec2 was pretrained on the audio data of [Babel](https://huggingface.co/datasets/librispeech_asr), \n",
        "[Multilingual LibriSpeech (MLS)](https://ai.facebook.com/blog/a-new-open-data-set-for-multilingual-speech-research/), and [Common Voice](https://huggingface.co/datasets/common_voice). Most of those datasets were sampled at 16kHz, so that Common Voice, sampled at 48kHz, has to be downsampled to 16kHz for training. Therefore, we will have to downsample our fine-tuning data to 16kHz in the following.\n",
        "\n"
      ]
    },
    {
      "cell_type": "markdown",
      "metadata": {
        "id": "KuUbPW7oV-B5"
      },
      "source": [
        "A XLSR-Wav2Vec2 feature extractor object requires the following parameters to be instantiated:\n",
        "\n",
        "- `feature_size`: Speech models take a sequence of feature vectors as an input. While the length of this sequence obviously varies, the feature size should not. In the case of Wav2Vec2, the feature size is 1 because the model was trained on the raw speech signal ${}^2$.\n",
        "- `sampling_rate`: The sampling rate at which the model is trained on.\n",
        "- `padding_value`: For batched inference, shorter inputs need to be padded with a specific value\n",
        "- `do_normalize`: Whether the input should be *zero-mean-unit-variance* normalized or not. Usually, speech models perform better when normalizing the input\n",
        "- `return_attention_mask`: Whether the model should make use of an `attention_mask` for batched inference. In general, XLSR-Wav2Vec2 models should **always** make use of the `attention_mask`."
      ]
    },
    {
      "cell_type": "code",
      "metadata": {
        "id": "kAR0-2KLkopp"
      },
      "source": [
        "from transformers import Wav2Vec2FeatureExtractor\n",
        "\n",
        "feature_extractor = Wav2Vec2FeatureExtractor(feature_size=1, sampling_rate=16000, padding_value=0.0, do_normalize=True, return_attention_mask=True)"
      ],
      "execution_count": 21,
      "outputs": []
    },
    {
      "cell_type": "markdown",
      "metadata": {
        "id": "qUETetgqYC3W"
      },
      "source": [
        "Great, XLSR-Wav2Vec2's feature extraction pipeline is thereby fully defined!\n",
        "\n",
        "To make the usage of XLSR-Wav2Vec2 as user-friendly as possible, the feature extractor and tokenizer are *wrapped* into a single `Wav2Vec2Processor` class so that one only needs a `model` and `processor` object."
      ]
    },
    {
      "cell_type": "code",
      "metadata": {
        "id": "KYZtoW-tlZgl"
      },
      "source": [
        "from transformers import Wav2Vec2Processor\n",
        "\n",
        "processor = Wav2Vec2Processor(feature_extractor=feature_extractor, tokenizer=tokenizer)"
      ],
      "execution_count": 22,
      "outputs": []
    },
    {
      "cell_type": "markdown",
      "metadata": {
        "id": "fTfFDSS0YfMN"
      },
      "source": [
        "If one wants to re-use the just created processor and the fine-tuned model of this notebook, one can mount his/her google drive to the notebook and save all relevant files there. To do so, please uncomment the following lines. \n",
        "\n",
        "We will give the fine-tuned model the name `\"wav2vec2-large-xlsr-turkish-demo\"`."
      ]
    },
    {
      "cell_type": "code",
      "metadata": {
        "id": "yq7Bzuzz4zjQ"
      },
      "source": [
        "# from google.colab import drive\n",
        "# drive.mount('/content/gdrive/')"
      ],
      "execution_count": 18,
      "outputs": []
    },
    {
      "cell_type": "code",
      "metadata": {
        "colab": {
          "base_uri": "https://localhost:8080/"
        },
        "id": "y1LaON1f1xc3",
        "outputId": "76d7363f-386c-497b-fc9c-bbc57b3372b0"
      },
      "source": [
        "from google.colab import drive\n",
        "drive.mount('/content/drive')"
      ],
      "execution_count": 1,
      "outputs": [
        {
          "output_type": "stream",
          "text": [
            "Mounted at /content/drive\n"
          ],
          "name": "stdout"
        }
      ]
    },
    {
      "cell_type": "code",
      "metadata": {
        "id": "Par9rpypPsml"
      },
      "source": [
        "processor.save_pretrained(\"/content/drive/MyDrive/wav2vec2-large-xlsr-indonesian-demo\")"
      ],
      "execution_count": 25,
      "outputs": []
    },
    {
      "cell_type": "markdown",
      "metadata": {
        "id": "DrKnYuvDIoOO"
      },
      "source": [
        "Next, we can prepare the dataset."
      ]
    },
    {
      "cell_type": "markdown",
      "metadata": {
        "id": "YFmShnl7RE35"
      },
      "source": [
        "### Preprocess Data\n",
        "\n",
        "So far, we have not looked at the actual values of the speech signal but just kept the path to its file in the dataset. `XLSR-Wav2Vec2` expects the audio file in the format of a 1-dimensional array, so in the first step, let's load all audio files into the dataset object.\n",
        "\n",
        "Let's first check the serialization format of the downloaded audio files by looking at the first training sample."
      ]
    },
    {
      "cell_type": "code",
      "metadata": {
        "colab": {
          "base_uri": "https://localhost:8080/"
        },
        "id": "TTCS7W6XJ9BG",
        "outputId": "1ba8318e-9f2f-440d-e6cd-748a891214f3"
      },
      "source": [
        "common_voice_train[0]"
      ],
      "execution_count": 26,
      "outputs": [
        {
          "output_type": "execute_result",
          "data": {
            "text/plain": [
              "{'path': '/root/.cache/huggingface/datasets/downloads/extracted/fd8a16a97efd77adba3c26c54d0cfae6c9d9494c1017f8070f3f79db72c4b57c/cv-corpus-6.1-2020-12-11/id/clips/common_voice_id_19192526.mp3',\n",
              " 'sentence': 'kamar adik lakilaki saya lebih sempit daripada kamar saya '}"
            ]
          },
          "metadata": {
            "tags": []
          },
          "execution_count": 26
        }
      ]
    },
    {
      "cell_type": "markdown",
      "metadata": {
        "id": "wSBIGEiaKHMn"
      },
      "source": [
        "Alright, the audio file is saved in the `.mp3` format. The `.mp3` format is usually not the easiest format to deal with. We found that the [`torchaudio`](https://pytorch.org/audio/stable/index.html) library works best for reading in `.mp3` data. \n",
        "\n",
        "An audio file usually stores both its values and the sampling rate with which the speech signal was digitalized. We want to store both in the dataset and write a `map(...)` function accordingly."
      ]
    },
    {
      "cell_type": "code",
      "metadata": {
        "id": "al9Luo4LPpwJ"
      },
      "source": [
        "import torchaudio\n",
        "\n",
        "def speech_file_to_array_fn(batch):\n",
        "    speech_array, sampling_rate = torchaudio.load(batch[\"path\"])\n",
        "    batch[\"speech\"] = speech_array[0].numpy()\n",
        "    batch[\"sampling_rate\"] = sampling_rate\n",
        "    batch[\"target_text\"] = batch[\"sentence\"]\n",
        "    return batch"
      ],
      "execution_count": 18,
      "outputs": []
    },
    {
      "cell_type": "code",
      "metadata": {
        "colab": {
          "base_uri": "https://localhost:8080/",
          "height": 116,
          "referenced_widgets": [
            "64ffdf8ac23b46d887917d788a9882b2",
            "8617f40db2ed4fe89f4ad8dc9bffa055",
            "0fa732132e6a446b92fa81e8dde195b0",
            "2605b2fe527e42aa812dcc34dc886cc6",
            "3b8f89e0e01a42dea7c89ec73b2915b0",
            "01a66dc88e1143fc8266e9ecdd9c18f7",
            "70c81081c2f64c0ca80288124baceb5a",
            "bfc32c4531d2485da5f9795baf06fbfb",
            "ed61316a86924c45a7f44c83e30bc2b4",
            "28e6fab0bf3a4127a3bcab8fb8ccfe39",
            "f5b9881aa9a44448b4f6714efd306d85",
            "afae3b00bec841a390936f560e9200e0",
            "ce4014b830c34c908afc0566aca234cc",
            "6f1401ef40634a73af4d7b1bc52278d5",
            "9fd91cc814ed41b68ee3cb19597fe681",
            "2ef68f0f0b544b6ca08575ff0493f1b5"
          ]
        },
        "id": "afeicUeWlrRL",
        "outputId": "8556b8df-36ca-4ca7-b10f-3b6b819e94c6"
      },
      "source": [
        "common_voice_train = common_voice_train.map(speech_file_to_array_fn, remove_columns=common_voice_train.column_names)\n",
        "common_voice_test = common_voice_test.map(speech_file_to_array_fn, remove_columns=common_voice_test.column_names)"
      ],
      "execution_count": 19,
      "outputs": [
        {
          "output_type": "display_data",
          "data": {
            "application/vnd.jupyter.widget-view+json": {
              "model_id": "64ffdf8ac23b46d887917d788a9882b2",
              "version_minor": 0,
              "version_major": 2
            },
            "text/plain": [
              "HBox(children=(FloatProgress(value=0.0, max=3965.0), HTML(value='')))"
            ]
          },
          "metadata": {
            "tags": []
          }
        },
        {
          "output_type": "stream",
          "text": [
            "\n"
          ],
          "name": "stdout"
        },
        {
          "output_type": "display_data",
          "data": {
            "application/vnd.jupyter.widget-view+json": {
              "model_id": "ed61316a86924c45a7f44c83e30bc2b4",
              "version_minor": 0,
              "version_major": 2
            },
            "text/plain": [
              "HBox(children=(FloatProgress(value=0.0, max=1844.0), HTML(value='')))"
            ]
          },
          "metadata": {
            "tags": []
          }
        },
        {
          "output_type": "stream",
          "text": [
            "\n"
          ],
          "name": "stdout"
        }
      ]
    },
    {
      "cell_type": "markdown",
      "metadata": {
        "id": "ki5sXmzucc9Q"
      },
      "source": [
        "Great, now we've successfully read in all the audio files, but since we know that Common Voice is sampled at 48kHz, we need to resample the audio files to 16kHz. \n",
        "\n",
        "Let's make use of the [`librosa`](https://github.com/librosa/librosa) library to downsample the data."
      ]
    },
    {
      "cell_type": "code",
      "metadata": {
        "id": "6Y6AK3Z-kHwP"
      },
      "source": [
        "import librosa\n",
        "import numpy as np\n",
        "\n",
        "def resample(batch):\n",
        "    batch[\"speech\"] = librosa.resample(np.asarray(batch[\"speech\"]), 48_000, 16_000)\n",
        "    batch[\"sampling_rate\"] = 16_000\n",
        "    return batch"
      ],
      "execution_count": 20,
      "outputs": []
    },
    {
      "cell_type": "code",
      "metadata": {
        "colab": {
          "base_uri": "https://localhost:8080/",
          "height": 449,
          "referenced_widgets": [
            "413526e161954877860a60b892a0d5cf",
            "742a7288ac4742eea52995dfca60d975",
            "3124cd8c73674111bf1e27d10aa9b731",
            "f4f8e74b956249d8b57544d05df9c113",
            "59b819df19744fcea5e221a1a11d69c2",
            "6649755dff9a4baf80d166cf2a662196",
            "0f135d529f4c4b229b6d67719da058e9",
            "bca119aa06144b4b91287c53a9ee7323",
            "cc72b8f6c4a840d8b7a993e61c28b2c5",
            "d1e6f5cdaf60481c8a2d27e93dc96450",
            "2ce1d0a9d51f4ebfb10b770b454f04c0",
            "9ae63bd2d51d4666bc337535cdb6810e",
            "b6da70093319462ba0fe0ad2ad4a1812",
            "6a7ae385139e40538c8856f8e9dfeb04",
            "de874224e7264ba192e06019ffe47b3b",
            "83d8961e94004eb8a9a6d33e51f908d8",
            "8663ec211ea94fb6be1f3ae7e57a6dff",
            "e5049ebec06441538fd8a99256947c7b",
            "c5a07a77835143f9a0fc8373f257890c",
            "6e4a4d9436e842faaafd643e32d2e2fd",
            "d5f1bd8545844c7ea35406ac0e313274",
            "b8bd454bb3334fe8ae3f9ae9a181406d",
            "d235f9758e3c40c2bc161ed2a7bad48e",
            "a5b90a912fb54bd0baada09421656560",
            "6f5d635793cb46b98ad0c5872b75c0cd",
            "27ce2db3cc534caa88a03fe54c51a2ba",
            "67c02ab7200147deacd9bb623ef77c24",
            "f1d741d4693b4a82ae5f53900d9084db",
            "8479dd02df3e40a1b35b717f60e27798",
            "19b29aaf75954b799249bf3499efd953",
            "d1eb5cc067924be99c954af1121f0715",
            "f1e126985da1482db33416b5331f6991",
            "85613fbf521d4568aa44ebee99ebe6bb",
            "a328fdfcff7e43efb891ab0b97f66a06",
            "282dab81b1884f2b967005fcfb642c9d",
            "d79a77221abf4b6888962c230e9b922d",
            "62bb5407956e4eb281aa191b0166bf61",
            "d3ace9c6250c44a3a634b562f273b82e",
            "0e7e1e136bb54cceaef0c094b3bb60b3",
            "9109a97422014b1384ffd997493b8232",
            "7b56328b278b45f181b998080811c654",
            "37e7984f62424b9688ca8c01629c65c5",
            "16e64f64ba06467880781e5fa9569e51",
            "5ab6887a87854c6a9c73915db3dd812c",
            "05fc76950db14f53889ab52b7d22d9de",
            "27c4f3a28613431ca1410ee26c0a7ded",
            "608ce666d5dd4fc1a51358415dca3db6",
            "2ec1129d18ce431d902525da48dd3da5",
            "ceee9e1c6d7c47c5bf148a6dd3f25d0a",
            "20e3298e2063490e847688caf5b42c2d",
            "769f85b519284ef4a68136d4678bc91e",
            "36708de1ebbd47f3bf2fa7c61c17f452",
            "0a6ebd103ea84fc89c54137a683e194b",
            "f0a8ccd2f8884af280573bcddd9b625e",
            "64f818bd7f6d47ef99f9257cb2c572dc",
            "881673e681c345ec87793ee71f23790f",
            "e3b9d6c76f534cc3b225333d82c84867",
            "ae34d40ca4c8407789ca16d34735ea36",
            "0e691e7a34fd4f6ebb3f9590ed11f920",
            "671a372526244652b52a9e9d89a57022",
            "62e0a4b75df742e29cb14c29e3e446ac",
            "3682ef43621f42258e23744d2349345f",
            "ee58a051430f4387b050d074b443f740",
            "d80c72e3b1fb4d2db03198f1f50b44a5"
          ]
        },
        "id": "Ws8DyIL_kjwT",
        "outputId": "43cf5eef-3348-47b9-fb7e-d1db51fa61ac"
      },
      "source": [
        "common_voice_train = common_voice_train.map(resample, num_proc=4)\n",
        "common_voice_test = common_voice_test.map(resample, num_proc=4)"
      ],
      "execution_count": 21,
      "outputs": [
        {
          "output_type": "stream",
          "text": [
            "    "
          ],
          "name": "stdout"
        },
        {
          "output_type": "display_data",
          "data": {
            "application/vnd.jupyter.widget-view+json": {
              "model_id": "413526e161954877860a60b892a0d5cf",
              "version_minor": 0,
              "version_major": 2
            },
            "text/plain": [
              "HBox(children=(FloatProgress(value=0.0, description='#0', max=992.0, style=ProgressStyle(description_width='in…"
            ]
          },
          "metadata": {
            "tags": []
          }
        },
        {
          "output_type": "display_data",
          "data": {
            "application/vnd.jupyter.widget-view+json": {
              "model_id": "cc72b8f6c4a840d8b7a993e61c28b2c5",
              "version_minor": 0,
              "version_major": 2
            },
            "text/plain": [
              "HBox(children=(FloatProgress(value=0.0, description='#1', max=991.0, style=ProgressStyle(description_width='in…"
            ]
          },
          "metadata": {
            "tags": []
          }
        },
        {
          "output_type": "display_data",
          "data": {
            "application/vnd.jupyter.widget-view+json": {
              "model_id": "8663ec211ea94fb6be1f3ae7e57a6dff",
              "version_minor": 0,
              "version_major": 2
            },
            "text/plain": [
              "HBox(children=(FloatProgress(value=0.0, description='#2', max=991.0, style=ProgressStyle(description_width='in…"
            ]
          },
          "metadata": {
            "tags": []
          }
        },
        {
          "output_type": "display_data",
          "data": {
            "application/vnd.jupyter.widget-view+json": {
              "model_id": "6f5d635793cb46b98ad0c5872b75c0cd",
              "version_minor": 0,
              "version_major": 2
            },
            "text/plain": [
              "HBox(children=(FloatProgress(value=0.0, description='#3', max=991.0, style=ProgressStyle(description_width='in…"
            ]
          },
          "metadata": {
            "tags": []
          }
        },
        {
          "output_type": "stream",
          "text": [
            "\n",
            "\n",
            "\n",
            "\n",
            "    "
          ],
          "name": "stdout"
        },
        {
          "output_type": "display_data",
          "data": {
            "application/vnd.jupyter.widget-view+json": {
              "model_id": "85613fbf521d4568aa44ebee99ebe6bb",
              "version_minor": 0,
              "version_major": 2
            },
            "text/plain": [
              "HBox(children=(FloatProgress(value=0.0, description='#0', max=461.0, style=ProgressStyle(description_width='in…"
            ]
          },
          "metadata": {
            "tags": []
          }
        },
        {
          "output_type": "display_data",
          "data": {
            "application/vnd.jupyter.widget-view+json": {
              "model_id": "7b56328b278b45f181b998080811c654",
              "version_minor": 0,
              "version_major": 2
            },
            "text/plain": [
              "HBox(children=(FloatProgress(value=0.0, description='#3', max=461.0, style=ProgressStyle(description_width='in…"
            ]
          },
          "metadata": {
            "tags": []
          }
        },
        {
          "output_type": "display_data",
          "data": {
            "application/vnd.jupyter.widget-view+json": {
              "model_id": "ceee9e1c6d7c47c5bf148a6dd3f25d0a",
              "version_minor": 0,
              "version_major": 2
            },
            "text/plain": [
              "HBox(children=(FloatProgress(value=0.0, description='#1', max=461.0, style=ProgressStyle(description_width='in…"
            ]
          },
          "metadata": {
            "tags": []
          }
        },
        {
          "output_type": "display_data",
          "data": {
            "application/vnd.jupyter.widget-view+json": {
              "model_id": "e3b9d6c76f534cc3b225333d82c84867",
              "version_minor": 0,
              "version_major": 2
            },
            "text/plain": [
              "HBox(children=(FloatProgress(value=0.0, description='#2', max=461.0, style=ProgressStyle(description_width='in…"
            ]
          },
          "metadata": {
            "tags": []
          }
        },
        {
          "output_type": "stream",
          "text": [
            "\n",
            "\n",
            "\n",
            "\n"
          ],
          "name": "stdout"
        }
      ]
    },
    {
      "cell_type": "markdown",
      "metadata": {
        "id": "SOckzFd4Mbzq"
      },
      "source": [
        "This seemed to have worked! Let's listen to a couple of audio files to better understand the dataset and verify that the audio was correctly loaded. \n",
        "\n",
        "**Note**: *You can click the following cell a couple of times to listen to different speech samples.*"
      ]
    },
    {
      "cell_type": "code",
      "metadata": {
        "colab": {
          "base_uri": "https://localhost:8080/",
          "height": 74
        },
        "id": "dueM6U7Ev0OA",
        "outputId": "fd239722-3a70-4d7c-ceea-d24c0418cde5"
      },
      "source": [
        "import IPython.display as ipd\n",
        "import numpy as np\n",
        "import random\n",
        "\n",
        "rand_int = random.randint(0, len(common_voice_train))\n",
        "\n",
        "ipd.Audio(data=np.asarray(common_voice_train[rand_int][\"speech\"]), autoplay=True, rate=16000)"
      ],
      "execution_count": 22,
      "outputs": [
        {
          "output_type": "execute_result",
          "data": {
            "text/html": [
              "\n",
              "                <audio controls=\"controls\" autoplay=\"autoplay\">\n",
              "                    <source src=\"data:audio/wav;base64,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\" type=\"audio/wav\" />\n",
              "                    Your browser does not support the audio element.\n",
              "                </audio>\n",
              "              "
            ],
            "text/plain": [
              "<IPython.lib.display.Audio object>"
            ]
          },
          "metadata": {
            "tags": []
          },
          "execution_count": 22
        }
      ]
    },
    {
      "cell_type": "markdown",
      "metadata": {
        "id": "1MaL9J2dNVtG"
      },
      "source": [
        "It can be heard, that the speakers change along with their speaking rate, accent, and background environment, etc. Overall, the recordings sound acceptably clear though, which is to be expected from a crowd-sourced read speech corpus.\n",
        "\n",
        "Let's do a final check that the data is correctly prepared, by printing the shape of the speech input, its transcription, and the corresponding sampling rate.\n",
        "\n",
        "**Note**: *You can click the following cell a couple of times to verify multiple samples.*"
      ]
    },
    {
      "cell_type": "code",
      "metadata": {
        "colab": {
          "base_uri": "https://localhost:8080/"
        },
        "id": "1Po2g7YPuRTx",
        "outputId": "eaf4de4a-a9e8-435d-96c2-1fa5f5ea3e08"
      },
      "source": [
        "rand_int = random.randint(0, len(common_voice_train))\n",
        "\n",
        "print(\"Target text:\", common_voice_train[rand_int][\"target_text\"])\n",
        "print(\"Input array shape:\", np.asarray(common_voice_train[rand_int][\"speech\"]).shape)\n",
        "print(\"Sampling rate:\", common_voice_train[rand_int][\"sampling_rate\"])"
      ],
      "execution_count": 23,
      "outputs": [
        {
          "output_type": "stream",
          "text": [
            "Target text: tom menerima surat dari mary \n",
            "Input array shape: (52992,)\n",
            "Sampling rate: 16000\n"
          ],
          "name": "stdout"
        }
      ]
    },
    {
      "cell_type": "markdown",
      "metadata": {
        "id": "M9teZcSwOBJ4"
      },
      "source": [
        "Good! Everything looks fine - the data is a 1-dimensional array, the sampling rate always corresponds to 16kHz, and the target text is normalized."
      ]
    },
    {
      "cell_type": "markdown",
      "metadata": {
        "id": "k3Pbn5WvOYZF"
      },
      "source": [
        "Finally, we can process the dataset to the format expected by the model for training. We will again make use of the `map(...)` function.\n",
        "\n",
        "First, we check that the data samples have the same sampling rate of 16kHz.\n",
        "Second, we extract the `input_values` from the loaded audio file. In our case, this includes only normalization, but for other speech models, this step could correspond to extracting, *e.g.* [Log-Mel features](https://en.wikipedia.org/wiki/Mel-frequency_cepstrum). \n",
        "Third, we encode the transcriptions to label ids.\n",
        "\n",
        "**Note**: This mapping function is a good example of how the `Wav2Vec2Processor` class should be used. In \"normal\" context, calling `processor(...)` is redirected to `Wav2Vec2FeatureExtractor`'s call method. When wrapping the processor into the `as_target_processor` context, however, the same method is redirected to `Wav2Vec2CTCTokenizer`'s call method.\n",
        "For more information please check the [docs](https://huggingface.co/transformers/master/model_doc/wav2vec2.html#transformers.Wav2Vec2Processor.__call__)."
      ]
    },
    {
      "cell_type": "code",
      "metadata": {
        "id": "eJY7I0XAwe9p"
      },
      "source": [
        "def prepare_dataset(batch):\n",
        "    # check that all files have the correct sampling rate\n",
        "    assert (\n",
        "        len(set(batch[\"sampling_rate\"])) == 1\n",
        "    ), f\"Make sure all inputs have the same sampling rate of {processor.feature_extractor.sampling_rate}.\"\n",
        "\n",
        "    batch[\"input_values\"] = processor(batch[\"speech\"], sampling_rate=batch[\"sampling_rate\"][0]).input_values\n",
        "    \n",
        "    with processor.as_target_processor():\n",
        "        batch[\"labels\"] = processor(batch[\"target_text\"]).input_ids\n",
        "    return batch"
      ],
      "execution_count": 24,
      "outputs": []
    },
    {
      "cell_type": "code",
      "metadata": {
        "colab": {
          "base_uri": "https://localhost:8080/",
          "height": 504,
          "referenced_widgets": [
            "712f533e36cc4d06a5fc4e4cad1f9a3d",
            "70322e0bf70b4a5684ae49ee10468f92",
            "d4007e00d0c141f49e93514f795aab65",
            "30e7cc1bfc2548fb98a2af670d858bf1",
            "47c4d83880534cb0ba18314b19e53829",
            "381d9a5a96c746238d81cfe0f6aa8674",
            "624a2e92eb104ff2921d01746c9e7b32",
            "8eee3273c4ae4f5d92cb8b3dd9a405f0",
            "0fa705ffaaa04c639f7450a89bb34f0e",
            "8f23b60263a04cf1a7d738028d0105b6",
            "35f0a7cc742c4a9cb30d5d3969409244",
            "873e10a5e8af4ff3b02216eb06161c55",
            "9121d0557c9140e6b3590135f8441edc",
            "ce147af2c38e4b1e8198dce07c0cebf8",
            "d419b260afd1423c8c4b0785cbeb21cc",
            "24c55dc4d20b4d288f33cbd4d2bcfab2",
            "150c8da55e714e2eb74f919c16969ccf",
            "f8cf4723168041c0926841a060cdbe65",
            "a510386e06184a6fa1ee4f55d2db1ea8",
            "45445805b24945439db08fdb2ecc4cb8",
            "5d56a1b860004d0da470c00e5f3219f1",
            "5f2a56714b2141b38636340573106c50",
            "3bbd1fe1f6f24a41bbcb7ad5c2bb0bdb",
            "ddd4610d9a33469282e245f5416828cd",
            "1ffd09505ca4450aaf81fe927bab09bd",
            "e45deb6be7fb44bb9de9999729e44e5f",
            "6ac6d9b8dd1f427eaa136eda81783616",
            "be8026bec7ee4c079ee08c21a74d32f6",
            "aa24f2ce80a447e687bf9f44446b360e",
            "c095a93e950f4f84a1b1b07c762e2f4a",
            "0706d715cf44458d93fd730b487aa440",
            "8bb44710a0b947728bed57c088274e76",
            "0af51d011f254baf8a46e65c685ab83c",
            "2ee4ef36cbdf4383b388bd963a1a0a12",
            "29da30291bd04797935312ea427d88c3",
            "fa7daaffb75c4cecb4757286a3757c2b",
            "2b7403f141be4aada0b8faa07cf12ca3",
            "2d8698aa235d49e8907078e20deb1a8b",
            "b7f84e4de69b456cb3b73f6ff0b184f7",
            "c3aa9842e45347c5ba098c618d293c72",
            "b09ae72e38064b3dbd46c0aad5ce85dc",
            "fb8719351f154a16a32ce09d5135ffdb",
            "d69b7c5cd6464af4975d6634b2fcb183",
            "381494d7c3724e63901912dbf5bc9219",
            "2ccae6c059164f90b2c3c2d27b8301ac",
            "c3db1deb8efd4e89848d8d7ad29023b4",
            "bf57125d0b194152908b2750ca585c48",
            "7246b557497344d187900478b3963ab1",
            "423e8d8c45914806bda08af5529528d9",
            "035b9a22117048b48899c43c332fc51d",
            "02634c08f97b420fbcc626f4575197cf",
            "3f258fc9f56b433fbe95760c00c87e88",
            "e576a5454bbf4b12a4273b6efd92713b",
            "05967650148647ed9e6d97b4a75c86fe",
            "28187732863d4a468fe5487633bc6741",
            "ba98dd6392ba40dabb8ea7fbf3fa63a7",
            "2af46b6b340c45c39091814ddec13761",
            "4ac4826f3189466987c1f07c7aeceed1",
            "f20c606569af41ea82cc28c6faf87864",
            "e736d4176c2f4a80b2b06396691a442e",
            "f34bcb7915f347cd8ebc865d5fcbe4c9",
            "b41cf79a5401441b8831740ba040d36a",
            "c76f4b0338984193931c10a9e5ca219f",
            "8c45cc3fd6e5460ea5f292005bf555a4"
          ]
        },
        "id": "-np9xYK-wl8q",
        "outputId": "83b4f397-d058-4729-d356-ab05d8914249"
      },
      "source": [
        "common_voice_train = common_voice_train.map(prepare_dataset, remove_columns=common_voice_train.column_names, batch_size=8, num_proc=4, batched=True)\n",
        "common_voice_test = common_voice_test.map(prepare_dataset, remove_columns=common_voice_test.column_names, batch_size=8, num_proc=4, batched=True)"
      ],
      "execution_count": 25,
      "outputs": [
        {
          "output_type": "stream",
          "text": [
            "/usr/local/lib/python3.7/dist-packages/numpy/core/_asarray.py:83: VisibleDeprecationWarning: Creating an ndarray from ragged nested sequences (which is a list-or-tuple of lists-or-tuples-or ndarrays with different lengths or shapes) is deprecated. If you meant to do this, you must specify 'dtype=object' when creating the ndarray\n",
            "  return array(a, dtype, copy=False, order=order)\n"
          ],
          "name": "stderr"
        },
        {
          "output_type": "stream",
          "text": [
            "    "
          ],
          "name": "stdout"
        },
        {
          "output_type": "display_data",
          "data": {
            "application/vnd.jupyter.widget-view+json": {
              "model_id": "712f533e36cc4d06a5fc4e4cad1f9a3d",
              "version_minor": 0,
              "version_major": 2
            },
            "text/plain": [
              "HBox(children=(FloatProgress(value=0.0, description='#3', max=124.0, style=ProgressStyle(description_width='in…"
            ]
          },
          "metadata": {
            "tags": []
          }
        },
        {
          "output_type": "display_data",
          "data": {
            "application/vnd.jupyter.widget-view+json": {
              "model_id": "0fa705ffaaa04c639f7450a89bb34f0e",
              "version_minor": 0,
              "version_major": 2
            },
            "text/plain": [
              "HBox(children=(FloatProgress(value=0.0, description='#1', max=124.0, style=ProgressStyle(description_width='in…"
            ]
          },
          "metadata": {
            "tags": []
          }
        },
        {
          "output_type": "display_data",
          "data": {
            "application/vnd.jupyter.widget-view+json": {
              "model_id": "150c8da55e714e2eb74f919c16969ccf",
              "version_minor": 0,
              "version_major": 2
            },
            "text/plain": [
              "HBox(children=(FloatProgress(value=0.0, description='#0', max=124.0, style=ProgressStyle(description_width='in…"
            ]
          },
          "metadata": {
            "tags": []
          }
        },
        {
          "output_type": "display_data",
          "data": {
            "application/vnd.jupyter.widget-view+json": {
              "model_id": "1ffd09505ca4450aaf81fe927bab09bd",
              "version_minor": 0,
              "version_major": 2
            },
            "text/plain": [
              "HBox(children=(FloatProgress(value=0.0, description='#2', max=124.0, style=ProgressStyle(description_width='in…"
            ]
          },
          "metadata": {
            "tags": []
          }
        },
        {
          "output_type": "stream",
          "text": [
            "\n",
            "\n",
            "\n",
            "\n",
            "    "
          ],
          "name": "stdout"
        },
        {
          "output_type": "display_data",
          "data": {
            "application/vnd.jupyter.widget-view+json": {
              "model_id": "0af51d011f254baf8a46e65c685ab83c",
              "version_minor": 0,
              "version_major": 2
            },
            "text/plain": [
              "HBox(children=(FloatProgress(value=0.0, description='#0', max=58.0, style=ProgressStyle(description_width='ini…"
            ]
          },
          "metadata": {
            "tags": []
          }
        },
        {
          "output_type": "display_data",
          "data": {
            "application/vnd.jupyter.widget-view+json": {
              "model_id": "b09ae72e38064b3dbd46c0aad5ce85dc",
              "version_minor": 0,
              "version_major": 2
            },
            "text/plain": [
              "HBox(children=(FloatProgress(value=0.0, description='#2', max=58.0, style=ProgressStyle(description_width='ini…"
            ]
          },
          "metadata": {
            "tags": []
          }
        },
        {
          "output_type": "display_data",
          "data": {
            "application/vnd.jupyter.widget-view+json": {
              "model_id": "423e8d8c45914806bda08af5529528d9",
              "version_minor": 0,
              "version_major": 2
            },
            "text/plain": [
              "HBox(children=(FloatProgress(value=0.0, description='#1', max=58.0, style=ProgressStyle(description_width='ini…"
            ]
          },
          "metadata": {
            "tags": []
          }
        },
        {
          "output_type": "display_data",
          "data": {
            "application/vnd.jupyter.widget-view+json": {
              "model_id": "2af46b6b340c45c39091814ddec13761",
              "version_minor": 0,
              "version_major": 2
            },
            "text/plain": [
              "HBox(children=(FloatProgress(value=0.0, description='#3', max=58.0, style=ProgressStyle(description_width='ini…"
            ]
          },
          "metadata": {
            "tags": []
          }
        },
        {
          "output_type": "stream",
          "text": [
            "\n",
            "\n",
            "\n",
            "\n"
          ],
          "name": "stdout"
        }
      ]
    },
    {
      "cell_type": "markdown",
      "metadata": {
        "id": "gYlQkKVoRUos"
      },
      "source": [
        "## Training\n",
        "\n",
        "The data is processed so that we are ready to start setting up the training pipeline. We will make use of 🤗's [Trainer](https://huggingface.co/transformers/master/main_classes/trainer.html?highlight=trainer) for which we essentially need to do the following:\n",
        "\n",
        "- Define a data collator. In contrast to most NLP models, XLSR-Wav2Vec2 has a much larger input length than output length. *E.g.*, a sample of input length 50000 has an output length of no more than 100. Given the large input sizes, it is much more efficient to pad the training batches dynamically meaning that all training samples should only be padded to the longest sample in their batch and not the overall longest sample. Therefore, fine-tuning XLSR-Wav2Vec2 requires a special padding data collator, which we will define below\n",
        "\n",
        "- Evaluation metric. During training, the model should be evaluated on the word error rate. We should define a `compute_metrics` function accordingly\n",
        "\n",
        "- Load a pretrained checkpoint. We need to load a pretrained checkpoint and configure it correctly for training.\n",
        "\n",
        "- Define the training configuration.\n",
        "\n",
        "After having fine-tuned the model, we will correctly evaluate it on the test data and verify that it has indeed learned to correctly transcribe speech."
      ]
    },
    {
      "cell_type": "markdown",
      "metadata": {
        "id": "Slk403unUS91"
      },
      "source": [
        "### Set-up Trainer\n",
        "\n",
        "Let's start by defining the data collator. The code for the data collator was copied from [this example](https://github.com/huggingface/transformers/blob/9a06b6b11bdfc42eea08fa91d0c737d1863c99e3/examples/research_projects/wav2vec2/run_asr.py#L81).\n",
        "\n",
        "Without going into too many details, in contrast to the common data collators, this data collator treats the `input_values` and `labels` differently and thus applies to separate padding functions on them (again making use of XLSR-Wav2Vec2's context manager). This is necessary because in speech input and output are of different modalities meaning that they should not be treated by the same padding function.\n",
        "Analogous to the common data collators, the padding tokens in the labels with `-100` so that those tokens are **not** taken into account when computing the loss."
      ]
    },
    {
      "cell_type": "code",
      "metadata": {
        "id": "tborvC9hx88e"
      },
      "source": [
        "import torch\n",
        "\n",
        "from dataclasses import dataclass, field\n",
        "from typing import Any, Dict, List, Optional, Union\n",
        "\n",
        "@dataclass\n",
        "class DataCollatorCTCWithPadding:\n",
        "    \"\"\"\n",
        "    Data collator that will dynamically pad the inputs received.\n",
        "    Args:\n",
        "        processor (:class:`~transformers.Wav2Vec2Processor`)\n",
        "            The processor used for proccessing the data.\n",
        "        padding (:obj:`bool`, :obj:`str` or :class:`~transformers.tokenization_utils_base.PaddingStrategy`, `optional`, defaults to :obj:`True`):\n",
        "            Select a strategy to pad the returned sequences (according to the model's padding side and padding index)\n",
        "            among:\n",
        "            * :obj:`True` or :obj:`'longest'`: Pad to the longest sequence in the batch (or no padding if only a single\n",
        "              sequence if provided).\n",
        "            * :obj:`'max_length'`: Pad to a maximum length specified with the argument :obj:`max_length` or to the\n",
        "              maximum acceptable input length for the model if that argument is not provided.\n",
        "            * :obj:`False` or :obj:`'do_not_pad'` (default): No padding (i.e., can output a batch with sequences of\n",
        "              different lengths).\n",
        "        max_length (:obj:`int`, `optional`):\n",
        "            Maximum length of the ``input_values`` of the returned list and optionally padding length (see above).\n",
        "        max_length_labels (:obj:`int`, `optional`):\n",
        "            Maximum length of the ``labels`` returned list and optionally padding length (see above).\n",
        "        pad_to_multiple_of (:obj:`int`, `optional`):\n",
        "            If set will pad the sequence to a multiple of the provided value.\n",
        "            This is especially useful to enable the use of Tensor Cores on NVIDIA hardware with compute capability >=\n",
        "            7.5 (Volta).\n",
        "    \"\"\"\n",
        "\n",
        "    processor: Wav2Vec2Processor\n",
        "    padding: Union[bool, str] = True\n",
        "    max_length: Optional[int] = None\n",
        "    max_length_labels: Optional[int] = None\n",
        "    pad_to_multiple_of: Optional[int] = None\n",
        "    pad_to_multiple_of_labels: Optional[int] = None\n",
        "\n",
        "    def __call__(self, features: List[Dict[str, Union[List[int], torch.Tensor]]]) -> Dict[str, torch.Tensor]:\n",
        "        # split inputs and labels since they have to be of different lenghts and need\n",
        "        # different padding methods\n",
        "        input_features = [{\"input_values\": feature[\"input_values\"]} for feature in features]\n",
        "        label_features = [{\"input_ids\": feature[\"labels\"]} for feature in features]\n",
        "\n",
        "        batch = self.processor.pad(\n",
        "            input_features,\n",
        "            padding=self.padding,\n",
        "            max_length=self.max_length,\n",
        "            pad_to_multiple_of=self.pad_to_multiple_of,\n",
        "            return_tensors=\"pt\",\n",
        "        )\n",
        "        with self.processor.as_target_processor():\n",
        "            labels_batch = self.processor.pad(\n",
        "                label_features,\n",
        "                padding=self.padding,\n",
        "                max_length=self.max_length_labels,\n",
        "                pad_to_multiple_of=self.pad_to_multiple_of_labels,\n",
        "                return_tensors=\"pt\",\n",
        "            )\n",
        "\n",
        "        # replace padding with -100 to ignore loss correctly\n",
        "        labels = labels_batch[\"input_ids\"].masked_fill(labels_batch.attention_mask.ne(1), -100)\n",
        "\n",
        "        batch[\"labels\"] = labels\n",
        "\n",
        "        return batch"
      ],
      "execution_count": 35,
      "outputs": []
    },
    {
      "cell_type": "code",
      "metadata": {
        "id": "lbQf5GuZyQ4_"
      },
      "source": [
        "data_collator = DataCollatorCTCWithPadding(processor=processor, padding=True)"
      ],
      "execution_count": 36,
      "outputs": []
    },
    {
      "cell_type": "markdown",
      "metadata": {
        "id": "xO-Zdj-5cxXp"
      },
      "source": [
        "Next, the evaluation metric is defined. As mentioned earlier, the \n",
        "predominant metric in ASR is the word error rate (WER), hence we will use it in this notebook as well."
      ]
    },
    {
      "cell_type": "code",
      "metadata": {
        "id": "9Xsux2gmyXso",
        "colab": {
          "base_uri": "https://localhost:8080/",
          "height": 66,
          "referenced_widgets": [
            "c241b1df1dc14ff48c95d667cec7b695",
            "a9ee6d4a9c3844bd85a2c87bdcc12136",
            "9bb2fbf494c64c1690e03685fbad47de",
            "f9fe5fba22ed4372b02115347b3023f2",
            "34ae5f87916b4670bda39ad02c51365c",
            "aafd4d5992a34951b09e8ac1e62bf3cd",
            "2d085b261c4a4cd992628208770df2b7",
            "6cddabc85e7443d280818bfe792f86c9"
          ]
        },
        "outputId": "4c1a8868-b253-429d-979d-043bd55bb0ec"
      },
      "source": [
        "wer_metric = load_metric(\"wer\")"
      ],
      "execution_count": 37,
      "outputs": [
        {
          "output_type": "display_data",
          "data": {
            "application/vnd.jupyter.widget-view+json": {
              "model_id": "c241b1df1dc14ff48c95d667cec7b695",
              "version_minor": 0,
              "version_major": 2
            },
            "text/plain": [
              "HBox(children=(FloatProgress(value=0.0, description='Downloading', max=1764.0, style=ProgressStyle(description…"
            ]
          },
          "metadata": {
            "tags": []
          }
        },
        {
          "output_type": "stream",
          "text": [
            "\n"
          ],
          "name": "stdout"
        }
      ]
    },
    {
      "cell_type": "markdown",
      "metadata": {
        "id": "E1qZU5p-deqB"
      },
      "source": [
        "The model will return a sequence of logit vectors:\n",
        "$\\mathbf{y}_1, \\ldots, \\mathbf{y}_m$ with $\\mathbf{y}_1 = f_{\\theta}(x_1, \\ldots, x_n)[0]$ and $n >> m$.\n",
        "\n",
        "A logit vector $\\mathbf{y}_1$ contains the log-odds for each word in the vocabulary we defined earlier, thus $\\text{len}(\\mathbf{y}_i) =$ `config.vocab_size`. We are interested in the most likely prediction of the model and thus take the `argmax(...)` of the logits. Also, we transform the encoded labels back to the original string by replacing `-100` with the `pad_token_id` and decoding the ids while making sure that consecutive tokens are **not** grouped to the same token in CTC style ${}^1$."
      ]
    },
    {
      "cell_type": "code",
      "metadata": {
        "id": "1XZ-kjweyTy_"
      },
      "source": [
        "def compute_metrics(pred):\n",
        "    pred_logits = pred.predictions\n",
        "    pred_ids = np.argmax(pred_logits, axis=-1)\n",
        "\n",
        "    pred.label_ids[pred.label_ids == -100] = processor.tokenizer.pad_token_id\n",
        "\n",
        "    pred_str = processor.batch_decode(pred_ids)\n",
        "    # we do not want to group tokens when computing the metrics\n",
        "    label_str = processor.batch_decode(pred.label_ids, group_tokens=False)\n",
        "\n",
        "    wer = wer_metric.compute(predictions=pred_str, references=label_str)\n",
        "\n",
        "    return {\"wer\": wer}"
      ],
      "execution_count": 38,
      "outputs": []
    },
    {
      "cell_type": "markdown",
      "metadata": {
        "id": "Xmgrx4bRwLIH"
      },
      "source": [
        "Now, we can load the pretrained `XLSR-Wav2Vec2` checkpoint. The tokenizer's `pad_token_id` must be to define the model's `pad_token_id` or in the case of `Wav2Vec2ForCTC` also CTC's *blank token* ${}^2$. To save GPU memory, we enable PyTorch's [gradient checkpointing](https://pytorch.org/docs/stable/checkpoint.html) and also set the loss reduction to \"*mean*\".\n",
        "\n",
        "Because the dataset is quite small (~6h of training data) and because Common Voice is quite noisy, fine-tuning Facebook's [wav2vec2-large-xlsr-53 checkpoint](https://huggingface.co/facebook/wav2vec2-large-xlsr-53) seems to require some hyper-parameter tuning. Therefore, I had to play around a bit with different values for dropout, [SpecAugment](https://arxiv.org/abs/1904.08779)'s masking dropout rate, layer dropout, and the learning rate until training seemed to be stable enough. \n",
        "\n",
        "**Note**: When using this notebook to train XLSR-Wav2Vec2 on another language of Common Voice those hyper-parameter settings might not work very well. Feel free to adapt those depending on your use case. "
      ]
    },
    {
      "cell_type": "code",
      "metadata": {
        "id": "eAKjn5imOzAV"
      },
      "source": [
        "from transformers import Wav2Vec2ForCTC\n"
      ],
      "execution_count": 9,
      "outputs": []
    },
    {
      "cell_type": "code",
      "metadata": {
        "colab": {
          "base_uri": "https://localhost:8080/",
          "height": 171,
          "referenced_widgets": [
            "77812df11600421db22b29d34f462727",
            "9481e0f2b88a4b968b7425cd91b342e1",
            "b92bb07c36da4c43bbbfa9f028dd8dc3",
            "b1e161798e2e4bd6b69df64bb86c4926",
            "5cbf9d4c4e464e478700f51cb258cb73",
            "534e6838f96a4f069db1c8f982208c5f",
            "3c1a4fc7fcb74354a55b4994e1f3e3a6",
            "9b7f62db4d634574bdc68dbe0f077d5c",
            "d6e544b487c84994b5832c16d56e4379",
            "1e66b53ec1034e27a33e82a067755b62",
            "522bd837e44740d6893ce4838198182c",
            "90bb6f0a4b0f4bc38f844262ae846258",
            "58fab64e1b754122818eab0b36122651",
            "ebe4830a968b4707b0845da033bb07fd",
            "61f4412c2bd74bccb951bcbb8f68ae1d",
            "bbd003ce0f97425eb5aedc896d264dca"
          ]
        },
        "id": "e7cqAWIayn6w",
        "outputId": "e2393d2d-1a0a-4a65-db0d-8f5e70ddf3e0"
      },
      "source": [
        "from transformers import Wav2Vec2ForCTC\n",
        "\n",
        "model = Wav2Vec2ForCTC.from_pretrained(\n",
        "    \"facebook/wav2vec2-large-xlsr-53\", \n",
        "    attention_dropout=0.1,\n",
        "    hidden_dropout=0.1,\n",
        "    feat_proj_dropout=0.0,\n",
        "    mask_time_prob=0.05,\n",
        "    layerdrop=0.1,\n",
        "    gradient_checkpointing=True, \n",
        "    ctc_loss_reduction=\"mean\", \n",
        "    pad_token_id=processor.tokenizer.pad_token_id,\n",
        "    vocab_size=len(processor.tokenizer)\n",
        ")"
      ],
      "execution_count": 39,
      "outputs": [
        {
          "output_type": "display_data",
          "data": {
            "application/vnd.jupyter.widget-view+json": {
              "model_id": "77812df11600421db22b29d34f462727",
              "version_minor": 0,
              "version_major": 2
            },
            "text/plain": [
              "HBox(children=(FloatProgress(value=0.0, description='Downloading', max=1451.0, style=ProgressStyle(description…"
            ]
          },
          "metadata": {
            "tags": []
          }
        },
        {
          "output_type": "stream",
          "text": [
            "\n"
          ],
          "name": "stdout"
        },
        {
          "output_type": "display_data",
          "data": {
            "application/vnd.jupyter.widget-view+json": {
              "model_id": "d6e544b487c84994b5832c16d56e4379",
              "version_minor": 0,
              "version_major": 2
            },
            "text/plain": [
              "HBox(children=(FloatProgress(value=0.0, description='Downloading', max=1261920069.0, style=ProgressStyle(descr…"
            ]
          },
          "metadata": {
            "tags": []
          }
        },
        {
          "output_type": "stream",
          "text": [
            "\n"
          ],
          "name": "stdout"
        },
        {
          "output_type": "stream",
          "text": [
            "Some weights of Wav2Vec2ForCTC were not initialized from the model checkpoint at facebook/wav2vec2-large-xlsr-53 and are newly initialized: ['lm_head.weight', 'lm_head.bias']\n",
            "You should probably TRAIN this model on a down-stream task to be able to use it for predictions and inference.\n"
          ],
          "name": "stderr"
        }
      ]
    },
    {
      "cell_type": "markdown",
      "metadata": {
        "id": "1DwR3XLSzGDD"
      },
      "source": [
        "The first component of XLSR-Wav2Vec2 consists of a stack of CNN layers that are used to extract acoustically meaningful - but contextually independent - features from the raw speech signal. This part of the model has already been sufficiently trained during pretraining and as stated in the [paper](https://arxiv.org/pdf/2006.13979.pdf) does not need to be fine-tuned anymore. \n",
        "Thus, we can set the `requires_grad` to `False` for all parameters of the *feature extraction* part."
      ]
    },
    {
      "cell_type": "code",
      "metadata": {
        "id": "oGI8zObtZ3V0"
      },
      "source": [
        "model.freeze_feature_extractor()"
      ],
      "execution_count": 40,
      "outputs": []
    },
    {
      "cell_type": "markdown",
      "metadata": {
        "id": "lD4aGhQM0K-D"
      },
      "source": [
        "In a final step, we define all parameters related to training. \n",
        "To give more explanation on some of the parameters:\n",
        "- `group_by_length` makes training more efficient by grouping training samples of similar input length into one batch. This can significantly speed up training time by heavily reducing the overall number of useless padding tokens that are passed through the model\n",
        "- `learning_rate` and `weight_decay` were heuristically tuned until fine-tuning has become stable. Note that those parameters strongly depend on the Common Voice dataset and might be suboptimal for other speech datasets.\n",
        "\n",
        "For more explanations on other parameters, one can take a look at the [docs](https://huggingface.co/transformers/master/main_classes/trainer.html?highlight=trainer#trainingarguments).\n",
        "\n",
        "**Note**: If one wants to save the trained models in his/her google drive the commented-out `output_dir` can be used instead."
      ]
    },
    {
      "cell_type": "markdown",
      "metadata": {
        "id": "W6LMm-7wGau7"
      },
      "source": [
        ""
      ]
    },
    {
      "cell_type": "code",
      "metadata": {
        "id": "KbeKSV7uzGPP"
      },
      "source": [
        "from transformers import TrainingArguments\n",
        "\n",
        "training_args = TrainingArguments(\n",
        "  output_dir=\"/content/drive/MyDrive/wav2vec2-large-xlsr-indonesian-demo\",\n",
        "  # output_dir=\"./wav2vec2-large-xlsr-turkish-demo\",\n",
        "  group_by_length=True,\n",
        "  per_device_train_batch_size=16,\n",
        "  gradient_accumulation_steps=2,\n",
        "  evaluation_strategy=\"steps\",\n",
        "  num_train_epochs=30,\n",
        "  fp16=True,\n",
        "  save_steps=400,\n",
        "  eval_steps=400,\n",
        "  logging_steps=400,\n",
        "  learning_rate=3e-4,\n",
        "  warmup_steps=500,\n",
        "  save_total_limit=2,\n",
        ")"
      ],
      "execution_count": 41,
      "outputs": []
    },
    {
      "cell_type": "markdown",
      "metadata": {
        "id": "OsW-WZcL1ZtN"
      },
      "source": [
        "Now, all instances can be passed to Trainer and we are ready to start training!"
      ]
    },
    {
      "cell_type": "code",
      "metadata": {
        "id": "rY7vBmFCPFgC"
      },
      "source": [
        "from transformers import Trainer\n",
        "\n",
        "trainer = Trainer(\n",
        "    model=model,\n",
        "    data_collator=data_collator,\n",
        "    args=training_args,\n",
        "    compute_metrics=compute_metrics,\n",
        "    train_dataset=common_voice_train,\n",
        "    eval_dataset=common_voice_test,\n",
        "    tokenizer=processor.feature_extractor,\n",
        ")"
      ],
      "execution_count": 42,
      "outputs": []
    },
    {
      "cell_type": "markdown",
      "metadata": {
        "id": "UoXBx1JAA0DX"
      },
      "source": [
        "\n",
        "\n",
        "---\n",
        "\n",
        "${}^1$ To allow models to become independent of the speaker rate, in CTC, consecutive tokens that are identical are simply grouped as a single token. However, the encoded labels should not be grouped when decoding since they don't correspond to the predicted tokens of the model, which is why the `group_tokens=False` parameter has to be passed. If we wouldn't pass this parameter a word like `\"hello\"` would incorrectly be encoded, and decoded as `\"helo\"`.\n",
        "\n",
        "${}^2$ The blank token allows the model to predict a word, such as `\"hello\"` by forcing it to insert the blank token between the two l's. A CTC-conform prediction of `\"hello\"` of our model would be `[PAD] [PAD] \"h\" \"e\" \"e\" \"l\" \"l\" [PAD] \"l\" \"o\" \"o\" [PAD]`."
      ]
    },
    {
      "cell_type": "markdown",
      "metadata": {
        "id": "rpvZHM1xReIW"
      },
      "source": [
        "### Training"
      ]
    },
    {
      "cell_type": "markdown",
      "metadata": {
        "id": "j-3oKSzZ1hGq"
      },
      "source": [
        "Training will take between 180 and 240 minutes depending on the GPU allocated to this notebook. While the trained model yields somewhat satisfying results on *Common Voice*'s test data of Turkish, it is by no means an optimally fine-tuned model. The purpose of this notebook is to demonstrate how XLSR-Wav2Vec2's [checkpoint](https://huggingface.co/facebook/wav2vec2-large-xlsr-53) can be fine-tuned on a low-resource ASR dataset.\n",
        "\n",
        "In case you want to use this google colab to fine-tune your model, you should make sure that your training doesn't stop due to inactivity. A simple hack to prevent this is to paste the following code into the console of this tab (*right mouse click -> inspect -> Console tab and insert code*)."
      ]
    },
    {
      "cell_type": "markdown",
      "metadata": {
        "id": "VYYAvgkW4P0m"
      },
      "source": [
        "```javascript\n",
        "function ConnectButton(){\n",
        "    console.log(\"Connect pushed\"); \n",
        "    document.querySelector(\"#top-toolbar > colab-connect-button\").shadowRoot.querySelector(\"#connect\").click() \n",
        "}\n",
        "setInterval(ConnectButton,60000);\n",
        "```"
      ]
    },
    {
      "cell_type": "code",
      "metadata": {
        "id": "_UEjJqGsQw24",
        "colab": {
          "base_uri": "https://localhost:8080/",
          "height": 426
        },
        "outputId": "75f9d3b6-905e-4fe2-efa3-469cfbf96774"
      },
      "source": [
        "trainer.train()"
      ],
      "execution_count": 43,
      "outputs": [
        {
          "output_type": "stream",
          "text": [
            "/usr/local/lib/python3.7/dist-packages/torch/optim/lr_scheduler.py:134: UserWarning: Detected call of `lr_scheduler.step()` before `optimizer.step()`. In PyTorch 1.1.0 and later, you should call them in the opposite order: `optimizer.step()` before `lr_scheduler.step()`.  Failure to do this will result in PyTorch skipping the first value of the learning rate schedule. See more details at https://pytorch.org/docs/stable/optim.html#how-to-adjust-learning-rate\n",
            "  \"https://pytorch.org/docs/stable/optim.html#how-to-adjust-learning-rate\", UserWarning)\n"
          ],
          "name": "stderr"
        },
        {
          "output_type": "display_data",
          "data": {
            "text/html": [
              "\n",
              "    <div>\n",
              "        <style>\n",
              "            /* Turns off some styling */\n",
              "            progress {\n",
              "                /* gets rid of default border in Firefox and Opera. */\n",
              "                border: none;\n",
              "                /* Needs to be in here for Safari polyfill so background images work as expected. */\n",
              "                background-size: auto;\n",
              "            }\n",
              "        </style>\n",
              "      \n",
              "      <progress value='3720' max='3720' style='width:300px; height:20px; vertical-align: middle;'></progress>\n",
              "      [3720/3720 5:31:19, Epoch 30/30]\n",
              "    </div>\n",
              "    <table border=\"1\" class=\"dataframe\">\n",
              "  <thead>\n",
              "    <tr style=\"text-align: left;\">\n",
              "      <th>Step</th>\n",
              "      <th>Training Loss</th>\n",
              "      <th>Validation Loss</th>\n",
              "      <th>Wer</th>\n",
              "      <th>Runtime</th>\n",
              "      <th>Samples Per Second</th>\n",
              "    </tr>\n",
              "  </thead>\n",
              "  <tbody>\n",
              "    <tr>\n",
              "      <td>400</td>\n",
              "      <td>4.679700</td>\n",
              "      <td>2.664672</td>\n",
              "      <td>1.000000</td>\n",
              "      <td>210.501900</td>\n",
              "      <td>8.760000</td>\n",
              "    </tr>\n",
              "    <tr>\n",
              "      <td>800</td>\n",
              "      <td>0.805100</td>\n",
              "      <td>0.447360</td>\n",
              "      <td>0.545683</td>\n",
              "      <td>213.244200</td>\n",
              "      <td>8.647000</td>\n",
              "    </tr>\n",
              "    <tr>\n",
              "      <td>1200</td>\n",
              "      <td>0.222800</td>\n",
              "      <td>0.412693</td>\n",
              "      <td>0.485829</td>\n",
              "      <td>210.718400</td>\n",
              "      <td>8.751000</td>\n",
              "    </tr>\n",
              "    <tr>\n",
              "      <td>1600</td>\n",
              "      <td>0.145600</td>\n",
              "      <td>0.417399</td>\n",
              "      <td>0.452825</td>\n",
              "      <td>214.008700</td>\n",
              "      <td>8.616000</td>\n",
              "    </tr>\n",
              "    <tr>\n",
              "      <td>2000</td>\n",
              "      <td>0.103100</td>\n",
              "      <td>0.421151</td>\n",
              "      <td>0.453291</td>\n",
              "      <td>212.262200</td>\n",
              "      <td>8.687000</td>\n",
              "    </tr>\n",
              "    <tr>\n",
              "      <td>2400</td>\n",
              "      <td>0.083000</td>\n",
              "      <td>0.443355</td>\n",
              "      <td>0.435111</td>\n",
              "      <td>211.684700</td>\n",
              "      <td>8.711000</td>\n",
              "    </tr>\n",
              "    <tr>\n",
              "      <td>2800</td>\n",
              "      <td>0.067000</td>\n",
              "      <td>0.452811</td>\n",
              "      <td>0.425788</td>\n",
              "      <td>212.813900</td>\n",
              "      <td>8.665000</td>\n",
              "    </tr>\n",
              "    <tr>\n",
              "      <td>3200</td>\n",
              "      <td>0.060900</td>\n",
              "      <td>0.467621</td>\n",
              "      <td>0.422618</td>\n",
              "      <td>202.040200</td>\n",
              "      <td>9.127000</td>\n",
              "    </tr>\n",
              "    <tr>\n",
              "      <td>3600</td>\n",
              "      <td>0.053600</td>\n",
              "      <td>0.457512</td>\n",
              "      <td>0.419914</td>\n",
              "      <td>205.249400</td>\n",
              "      <td>8.984000</td>\n",
              "    </tr>\n",
              "  </tbody>\n",
              "</table><p>"
            ],
            "text/plain": [
              "<IPython.core.display.HTML object>"
            ]
          },
          "metadata": {
            "tags": []
          }
        },
        {
          "output_type": "execute_result",
          "data": {
            "text/plain": [
              "TrainOutput(global_step=3720, training_loss=0.67040643717653, metrics={'train_runtime': 19889.1399, 'train_samples_per_second': 0.187, 'total_flos': 1.3695812364637118e+19, 'epoch': 30.0, 'init_mem_cpu_alloc_delta': 341906, 'init_mem_gpu_alloc_delta': 1261870080, 'init_mem_cpu_peaked_delta': 18306, 'init_mem_gpu_peaked_delta': 0, 'train_mem_cpu_alloc_delta': 1265746, 'train_mem_gpu_alloc_delta': 3783668224, 'train_mem_cpu_peaked_delta': 114308063, 'train_mem_gpu_peaked_delta': 3358008832})"
            ]
          },
          "metadata": {
            "tags": []
          },
          "execution_count": 43
        }
      ]
    },
    {
      "cell_type": "markdown",
      "metadata": {
        "id": "RHIVc44_fY2N"
      },
      "source": [
        "The training loss goes down and we can see that the WER on the test set also improves nicely. Because this notebook is just for demonstration purposes, we can stop here.\n",
        "\n",
        "The resulting model of this notebook has been saved to [`patrickvonplaten/wav2vec2-large-xlsr-turkish-demo`](https://huggingface.co/patrickvonplaten/wav2vec2-large-xlsr-turkish-demo)\n",
        "\n",
        "As a final check, let's load the model and verify that it indeed has learned to transcribe Turkish speech.\n",
        "\n",
        "Let's first load the pretrained checkpoint."
      ]
    },
    {
      "cell_type": "code",
      "metadata": {
        "id": "1xHheh_lPF5x"
      },
      "source": [
        "from transformers import Wav2Vec2ForCTC, Wav2Vec2Processor"
      ],
      "execution_count": 10,
      "outputs": []
    },
    {
      "cell_type": "code",
      "metadata": {
        "colab": {
          "base_uri": "https://localhost:8080/"
        },
        "id": "J8E8pxJ9hgZS",
        "outputId": "0ffaa1d2-e893-448c-cdd6-09b4f7144a5a"
      },
      "source": [
        "# model = Wav2Vec2ForCTC.from_pretrained(\"patrickvonplaten/wav2vec2-large-xlsr-turkish-demo\").to(\"cuda\")\n",
        "# processor = Wav2Vec2Processor.from_pretrained(\"patrickvonplaten/wav2vec2-large-xlsr-turkish-demo\")\n",
        "\n",
        "model = Wav2Vec2ForCTC.from_pretrained(\"/content/drive/MyDrive/wav2vec2-large-xlsr-indonesian-demo/checkpoint-3600\").to(\"cuda\")\n",
        "processor = Wav2Vec2Processor.from_pretrained(\"/content/drive/MyDrive/wav2vec2-large-xlsr-indonesian-demo\")"
      ],
      "execution_count": 12,
      "outputs": [
        {
          "output_type": "stream",
          "text": [
            "Special tokens have been added in the vocabulary, make sure the associated word embedding are fine-tuned or trained.\n"
          ],
          "name": "stderr"
        }
      ]
    },
    {
      "cell_type": "markdown",
      "metadata": {
        "id": "QsfGCQYSvY8C"
      },
      "source": [
        "Now, we will just take the first example of the test set, run it through the model and take the `argmax(...)` of the logits to retrieve the predicted token ids."
      ]
    },
    {
      "cell_type": "code",
      "metadata": {
        "colab": {
          "base_uri": "https://localhost:8080/",
          "height": 455
        },
        "id": "EA6fxk-jiHby",
        "outputId": "14c5033a-717c-4d22-df0f-67a01bf89e6d"
      },
      "source": [
        "input_dict = processor(common_voice_test[\"input_values\"][0], return_tensors=\"pt\", padding=True)\n",
        "\n",
        "logits = model(input_dict.input_values.to(\"cuda\")).logits\n",
        "\n",
        "pred_ids = torch.argmax(logits, dim=-1)[0]"
      ],
      "execution_count": 13,
      "outputs": [
        {
          "output_type": "error",
          "ename": "KeyError",
          "evalue": "ignored",
          "traceback": [
            "\u001b[0;31m---------------------------------------------------------------------------\u001b[0m",
            "\u001b[0;31mKeyError\u001b[0m                                  Traceback (most recent call last)",
            "\u001b[0;32m<ipython-input-13-426c99bb9caa>\u001b[0m in \u001b[0;36m<module>\u001b[0;34m()\u001b[0m\n\u001b[0;32m----> 1\u001b[0;31m \u001b[0minput_dict\u001b[0m \u001b[0;34m=\u001b[0m \u001b[0mprocessor\u001b[0m\u001b[0;34m(\u001b[0m\u001b[0mcommon_voice_test\u001b[0m\u001b[0;34m[\u001b[0m\u001b[0;34m\"input_values\"\u001b[0m\u001b[0;34m]\u001b[0m\u001b[0;34m[\u001b[0m\u001b[0;36m0\u001b[0m\u001b[0;34m]\u001b[0m\u001b[0;34m,\u001b[0m \u001b[0mreturn_tensors\u001b[0m\u001b[0;34m=\u001b[0m\u001b[0;34m\"pt\"\u001b[0m\u001b[0;34m,\u001b[0m \u001b[0mpadding\u001b[0m\u001b[0;34m=\u001b[0m\u001b[0;32mTrue\u001b[0m\u001b[0;34m)\u001b[0m\u001b[0;34m\u001b[0m\u001b[0;34m\u001b[0m\u001b[0m\n\u001b[0m\u001b[1;32m      2\u001b[0m \u001b[0;34m\u001b[0m\u001b[0m\n\u001b[1;32m      3\u001b[0m \u001b[0mlogits\u001b[0m \u001b[0;34m=\u001b[0m \u001b[0mmodel\u001b[0m\u001b[0;34m(\u001b[0m\u001b[0minput_dict\u001b[0m\u001b[0;34m.\u001b[0m\u001b[0minput_values\u001b[0m\u001b[0;34m.\u001b[0m\u001b[0mto\u001b[0m\u001b[0;34m(\u001b[0m\u001b[0;34m\"cuda\"\u001b[0m\u001b[0;34m)\u001b[0m\u001b[0;34m)\u001b[0m\u001b[0;34m.\u001b[0m\u001b[0mlogits\u001b[0m\u001b[0;34m\u001b[0m\u001b[0;34m\u001b[0m\u001b[0m\n\u001b[1;32m      4\u001b[0m \u001b[0;34m\u001b[0m\u001b[0m\n\u001b[1;32m      5\u001b[0m \u001b[0mpred_ids\u001b[0m \u001b[0;34m=\u001b[0m \u001b[0mtorch\u001b[0m\u001b[0;34m.\u001b[0m\u001b[0margmax\u001b[0m\u001b[0;34m(\u001b[0m\u001b[0mlogits\u001b[0m\u001b[0;34m,\u001b[0m \u001b[0mdim\u001b[0m\u001b[0;34m=\u001b[0m\u001b[0;34m-\u001b[0m\u001b[0;36m1\u001b[0m\u001b[0;34m)\u001b[0m\u001b[0;34m[\u001b[0m\u001b[0;36m0\u001b[0m\u001b[0;34m]\u001b[0m\u001b[0;34m\u001b[0m\u001b[0;34m\u001b[0m\u001b[0m\n",
            "\u001b[0;32m/usr/local/lib/python3.7/dist-packages/datasets/arrow_dataset.py\u001b[0m in \u001b[0;36m__getitem__\u001b[0;34m(self, key)\u001b[0m\n\u001b[1;32m   1128\u001b[0m             \u001b[0mformat_columns\u001b[0m\u001b[0;34m=\u001b[0m\u001b[0mself\u001b[0m\u001b[0;34m.\u001b[0m\u001b[0m_format_columns\u001b[0m\u001b[0;34m,\u001b[0m\u001b[0;34m\u001b[0m\u001b[0;34m\u001b[0m\u001b[0m\n\u001b[1;32m   1129\u001b[0m             \u001b[0moutput_all_columns\u001b[0m\u001b[0;34m=\u001b[0m\u001b[0mself\u001b[0m\u001b[0;34m.\u001b[0m\u001b[0m_output_all_columns\u001b[0m\u001b[0;34m,\u001b[0m\u001b[0;34m\u001b[0m\u001b[0;34m\u001b[0m\u001b[0m\n\u001b[0;32m-> 1130\u001b[0;31m             \u001b[0mformat_kwargs\u001b[0m\u001b[0;34m=\u001b[0m\u001b[0mself\u001b[0m\u001b[0;34m.\u001b[0m\u001b[0m_format_kwargs\u001b[0m\u001b[0;34m,\u001b[0m\u001b[0;34m\u001b[0m\u001b[0;34m\u001b[0m\u001b[0m\n\u001b[0m\u001b[1;32m   1131\u001b[0m         )\n\u001b[1;32m   1132\u001b[0m \u001b[0;34m\u001b[0m\u001b[0m\n",
            "\u001b[0;32m/usr/local/lib/python3.7/dist-packages/datasets/arrow_dataset.py\u001b[0m in \u001b[0;36m_getitem\u001b[0;34m(self, key, format_type, format_columns, output_all_columns, format_kwargs)\u001b[0m\n\u001b[1;32m   1112\u001b[0m         \u001b[0mformatter\u001b[0m \u001b[0;34m=\u001b[0m \u001b[0mget_formatter\u001b[0m\u001b[0;34m(\u001b[0m\u001b[0mformat_type\u001b[0m\u001b[0;34m,\u001b[0m \u001b[0;34m**\u001b[0m\u001b[0mformat_kwargs\u001b[0m\u001b[0;34m)\u001b[0m\u001b[0;34m\u001b[0m\u001b[0;34m\u001b[0m\u001b[0m\n\u001b[1;32m   1113\u001b[0m         pa_subtable = query_table(\n\u001b[0;32m-> 1114\u001b[0;31m             \u001b[0mself\u001b[0m\u001b[0;34m.\u001b[0m\u001b[0m_data\u001b[0m\u001b[0;34m,\u001b[0m \u001b[0mkey\u001b[0m\u001b[0;34m,\u001b[0m \u001b[0mindices\u001b[0m\u001b[0;34m=\u001b[0m\u001b[0mself\u001b[0m\u001b[0;34m.\u001b[0m\u001b[0m_indices\u001b[0m\u001b[0;34m.\u001b[0m\u001b[0mcolumn\u001b[0m\u001b[0;34m(\u001b[0m\u001b[0;36m0\u001b[0m\u001b[0;34m)\u001b[0m \u001b[0;32mif\u001b[0m \u001b[0mself\u001b[0m\u001b[0;34m.\u001b[0m\u001b[0m_indices\u001b[0m \u001b[0;32mis\u001b[0m \u001b[0;32mnot\u001b[0m \u001b[0;32mNone\u001b[0m \u001b[0;32melse\u001b[0m \u001b[0;32mNone\u001b[0m\u001b[0;34m\u001b[0m\u001b[0;34m\u001b[0m\u001b[0m\n\u001b[0m\u001b[1;32m   1115\u001b[0m         )\n\u001b[1;32m   1116\u001b[0m         formatted_output = format_table(\n",
            "\u001b[0;32m/usr/local/lib/python3.7/dist-packages/datasets/formatting/formatting.py\u001b[0m in \u001b[0;36mquery_table\u001b[0;34m(pa_table, key, indices)\u001b[0m\n\u001b[1;32m    328\u001b[0m         \u001b[0m_raise_bad_key_type\u001b[0m\u001b[0;34m(\u001b[0m\u001b[0mkey\u001b[0m\u001b[0;34m)\u001b[0m\u001b[0;34m\u001b[0m\u001b[0;34m\u001b[0m\u001b[0m\n\u001b[1;32m    329\u001b[0m     \u001b[0;32mif\u001b[0m \u001b[0misinstance\u001b[0m\u001b[0;34m(\u001b[0m\u001b[0mkey\u001b[0m\u001b[0;34m,\u001b[0m \u001b[0mstr\u001b[0m\u001b[0;34m)\u001b[0m\u001b[0;34m:\u001b[0m\u001b[0;34m\u001b[0m\u001b[0;34m\u001b[0m\u001b[0m\n\u001b[0;32m--> 330\u001b[0;31m         \u001b[0m_check_valid_column_key\u001b[0m\u001b[0;34m(\u001b[0m\u001b[0mkey\u001b[0m\u001b[0;34m,\u001b[0m \u001b[0mpa_table\u001b[0m\u001b[0;34m.\u001b[0m\u001b[0mcolumn_names\u001b[0m\u001b[0;34m)\u001b[0m\u001b[0;34m\u001b[0m\u001b[0;34m\u001b[0m\u001b[0m\n\u001b[0m\u001b[1;32m    331\u001b[0m     \u001b[0;32melse\u001b[0m\u001b[0;34m:\u001b[0m\u001b[0;34m\u001b[0m\u001b[0;34m\u001b[0m\u001b[0m\n\u001b[1;32m    332\u001b[0m         \u001b[0msize\u001b[0m \u001b[0;34m=\u001b[0m \u001b[0mlen\u001b[0m\u001b[0;34m(\u001b[0m\u001b[0mindices\u001b[0m\u001b[0;34m)\u001b[0m \u001b[0;32mif\u001b[0m \u001b[0mindices\u001b[0m \u001b[0;32mis\u001b[0m \u001b[0;32mnot\u001b[0m \u001b[0;32mNone\u001b[0m \u001b[0;32melse\u001b[0m \u001b[0mpa_table\u001b[0m\u001b[0;34m.\u001b[0m\u001b[0mnum_rows\u001b[0m\u001b[0;34m\u001b[0m\u001b[0;34m\u001b[0m\u001b[0m\n",
            "\u001b[0;32m/usr/local/lib/python3.7/dist-packages/datasets/formatting/formatting.py\u001b[0m in \u001b[0;36m_check_valid_column_key\u001b[0;34m(key, columns)\u001b[0m\n\u001b[1;32m    271\u001b[0m \u001b[0;32mdef\u001b[0m \u001b[0m_check_valid_column_key\u001b[0m\u001b[0;34m(\u001b[0m\u001b[0mkey\u001b[0m\u001b[0;34m:\u001b[0m \u001b[0mstr\u001b[0m\u001b[0;34m,\u001b[0m \u001b[0mcolumns\u001b[0m\u001b[0;34m:\u001b[0m \u001b[0mList\u001b[0m\u001b[0;34m[\u001b[0m\u001b[0mstr\u001b[0m\u001b[0;34m]\u001b[0m\u001b[0;34m)\u001b[0m \u001b[0;34m->\u001b[0m \u001b[0;32mNone\u001b[0m\u001b[0;34m:\u001b[0m\u001b[0;34m\u001b[0m\u001b[0;34m\u001b[0m\u001b[0m\n\u001b[1;32m    272\u001b[0m     \u001b[0;32mif\u001b[0m \u001b[0mkey\u001b[0m \u001b[0;32mnot\u001b[0m \u001b[0;32min\u001b[0m \u001b[0mcolumns\u001b[0m\u001b[0;34m:\u001b[0m\u001b[0;34m\u001b[0m\u001b[0;34m\u001b[0m\u001b[0m\n\u001b[0;32m--> 273\u001b[0;31m         \u001b[0;32mraise\u001b[0m \u001b[0mKeyError\u001b[0m\u001b[0;34m(\u001b[0m\u001b[0;34m\"Column {} not in the dataset. Current columns in the dataset: {}\"\u001b[0m\u001b[0;34m.\u001b[0m\u001b[0mformat\u001b[0m\u001b[0;34m(\u001b[0m\u001b[0mkey\u001b[0m\u001b[0;34m,\u001b[0m \u001b[0mcolumns\u001b[0m\u001b[0;34m)\u001b[0m\u001b[0;34m)\u001b[0m\u001b[0;34m\u001b[0m\u001b[0;34m\u001b[0m\u001b[0m\n\u001b[0m\u001b[1;32m    274\u001b[0m \u001b[0;34m\u001b[0m\u001b[0m\n\u001b[1;32m    275\u001b[0m \u001b[0;34m\u001b[0m\u001b[0m\n",
            "\u001b[0;31mKeyError\u001b[0m: \"Column input_values not in the dataset. Current columns in the dataset: ['path', 'sentence']\""
          ]
        }
      ]
    },
    {
      "cell_type": "markdown",
      "metadata": {
        "id": "1JDyVCMDvlYd"
      },
      "source": [
        "We adapted `common_voice_test` quite a bit so that the dataset instance does not contain the original sentence label anymore. Thus, we re-use the original dataset to get the label of the first example."
      ]
    },
    {
      "cell_type": "code",
      "metadata": {
        "id": "8dPE2GRIgtx-"
      },
      "source": [
        "common_voice_test_transcription = load_dataset(\"common_voice\", \"id\", data_dir=\"./cv-corpus-6.1-2020-12-11\", split=\"test\")"
      ],
      "execution_count": null,
      "outputs": []
    },
    {
      "cell_type": "markdown",
      "metadata": {
        "id": "ApS3MmN4v5P7"
      },
      "source": [
        "Finally, we can decode the example."
      ]
    },
    {
      "cell_type": "code",
      "metadata": {
        "id": "Phqxa1O1jMDk"
      },
      "source": [
        "print(\"Prediction:\")\n",
        "print(processor.decode(pred_ids))\n",
        "\n",
        "print(\"\\nReference:\")\n",
        "print(common_voice_test_transcription[\"sentence\"][0].lower())\n"
      ],
      "execution_count": null,
      "outputs": []
    },
    {
      "cell_type": "markdown",
      "metadata": {
        "id": "4n_8vhzUv7aw"
      },
      "source": [
        "Alright! The transcription can definitely be recognized from our prediction, but it is far from being perfect. Training the model a bit longer, spending more time on the data preprocessing, and especially using a language model for decoding would certainly improve the model's overall performance. \n",
        "\n",
        "For a demonstration model on a low-resource language, the results are acceptable, however 🤗."
      ]
    }
  ]
}