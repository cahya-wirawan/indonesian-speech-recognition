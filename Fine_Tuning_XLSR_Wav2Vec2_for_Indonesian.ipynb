{
  "nbformat": 4,
  "nbformat_minor": 0,
  "metadata": {
    "colab": {
      "name": "Fine-Tune XLSR-Wav2Vec2 on Turkish ASR with 🤗 Transformers.ipynb",
      "provenance": [],
      "collapsed_sections": [],
      "toc_visible": true,
      "machine_shape": "hm",
      "include_colab_link": true
    },
    "kernelspec": {
      "name": "python3",
      "display_name": "Python 3"
    },
    "widgets": {
      "application/vnd.jupyter.widget-state+json": {
        "982db355f9664331a58dd4a3a9a27c5a": {
          "model_module": "@jupyter-widgets/controls",
          "model_name": "HBoxModel",
          "state": {
            "_view_name": "HBoxView",
            "_dom_classes": [],
            "_model_name": "HBoxModel",
            "_view_module": "@jupyter-widgets/controls",
            "_model_module_version": "1.5.0",
            "_view_count": null,
            "_view_module_version": "1.5.0",
            "box_style": "",
            "layout": "IPY_MODEL_ed658c4d10b64e51afd8a0f690d29e39",
            "_model_module": "@jupyter-widgets/controls",
            "children": [
              "IPY_MODEL_c4f063806c4346df8afbab0b6589539b",
              "IPY_MODEL_41eb246752ff48b1882e246c6c9f5a92"
            ]
          }
        },
        "ed658c4d10b64e51afd8a0f690d29e39": {
          "model_module": "@jupyter-widgets/base",
          "model_name": "LayoutModel",
          "state": {
            "_view_name": "LayoutView",
            "grid_template_rows": null,
            "right": null,
            "justify_content": null,
            "_view_module": "@jupyter-widgets/base",
            "overflow": null,
            "_model_module_version": "1.2.0",
            "_view_count": null,
            "flex_flow": null,
            "width": null,
            "min_width": null,
            "border": null,
            "align_items": null,
            "bottom": null,
            "_model_module": "@jupyter-widgets/base",
            "top": null,
            "grid_column": null,
            "overflow_y": null,
            "overflow_x": null,
            "grid_auto_flow": null,
            "grid_area": null,
            "grid_template_columns": null,
            "flex": null,
            "_model_name": "LayoutModel",
            "justify_items": null,
            "grid_row": null,
            "max_height": null,
            "align_content": null,
            "visibility": null,
            "align_self": null,
            "height": null,
            "min_height": null,
            "padding": null,
            "grid_auto_rows": null,
            "grid_gap": null,
            "max_width": null,
            "order": null,
            "_view_module_version": "1.2.0",
            "grid_template_areas": null,
            "object_position": null,
            "object_fit": null,
            "grid_auto_columns": null,
            "margin": null,
            "display": null,
            "left": null
          }
        },
        "c4f063806c4346df8afbab0b6589539b": {
          "model_module": "@jupyter-widgets/controls",
          "model_name": "FloatProgressModel",
          "state": {
            "_view_name": "ProgressView",
            "style": "IPY_MODEL_fc54d27b996743cdb5c51b754223e0f9",
            "_dom_classes": [],
            "description": "Downloading: ",
            "_model_name": "FloatProgressModel",
            "bar_style": "success",
            "max": 4323,
            "_view_module": "@jupyter-widgets/controls",
            "_model_module_version": "1.5.0",
            "value": 4323,
            "_view_count": null,
            "_view_module_version": "1.5.0",
            "orientation": "horizontal",
            "min": 0,
            "description_tooltip": null,
            "_model_module": "@jupyter-widgets/controls",
            "layout": "IPY_MODEL_068fd9e0edc64a5bac6bf49b31c91802"
          }
        },
        "41eb246752ff48b1882e246c6c9f5a92": {
          "model_module": "@jupyter-widgets/controls",
          "model_name": "HTMLModel",
          "state": {
            "_view_name": "HTMLView",
            "style": "IPY_MODEL_f22acdee8ecf4f2498883995ef2ecfbc",
            "_dom_classes": [],
            "description": "",
            "_model_name": "HTMLModel",
            "placeholder": "​",
            "_view_module": "@jupyter-widgets/controls",
            "_model_module_version": "1.5.0",
            "value": " 22.0k/? [00:00&lt;00:00, 66.5kB/s]",
            "_view_count": null,
            "_view_module_version": "1.5.0",
            "description_tooltip": null,
            "_model_module": "@jupyter-widgets/controls",
            "layout": "IPY_MODEL_00039ca23c3a4f4d8df54506f36cfea2"
          }
        },
        "fc54d27b996743cdb5c51b754223e0f9": {
          "model_module": "@jupyter-widgets/controls",
          "model_name": "ProgressStyleModel",
          "state": {
            "_view_name": "StyleView",
            "_model_name": "ProgressStyleModel",
            "description_width": "initial",
            "_view_module": "@jupyter-widgets/base",
            "_model_module_version": "1.5.0",
            "_view_count": null,
            "_view_module_version": "1.2.0",
            "bar_color": null,
            "_model_module": "@jupyter-widgets/controls"
          }
        },
        "068fd9e0edc64a5bac6bf49b31c91802": {
          "model_module": "@jupyter-widgets/base",
          "model_name": "LayoutModel",
          "state": {
            "_view_name": "LayoutView",
            "grid_template_rows": null,
            "right": null,
            "justify_content": null,
            "_view_module": "@jupyter-widgets/base",
            "overflow": null,
            "_model_module_version": "1.2.0",
            "_view_count": null,
            "flex_flow": null,
            "width": null,
            "min_width": null,
            "border": null,
            "align_items": null,
            "bottom": null,
            "_model_module": "@jupyter-widgets/base",
            "top": null,
            "grid_column": null,
            "overflow_y": null,
            "overflow_x": null,
            "grid_auto_flow": null,
            "grid_area": null,
            "grid_template_columns": null,
            "flex": null,
            "_model_name": "LayoutModel",
            "justify_items": null,
            "grid_row": null,
            "max_height": null,
            "align_content": null,
            "visibility": null,
            "align_self": null,
            "height": null,
            "min_height": null,
            "padding": null,
            "grid_auto_rows": null,
            "grid_gap": null,
            "max_width": null,
            "order": null,
            "_view_module_version": "1.2.0",
            "grid_template_areas": null,
            "object_position": null,
            "object_fit": null,
            "grid_auto_columns": null,
            "margin": null,
            "display": null,
            "left": null
          }
        },
        "f22acdee8ecf4f2498883995ef2ecfbc": {
          "model_module": "@jupyter-widgets/controls",
          "model_name": "DescriptionStyleModel",
          "state": {
            "_view_name": "StyleView",
            "_model_name": "DescriptionStyleModel",
            "description_width": "",
            "_view_module": "@jupyter-widgets/base",
            "_model_module_version": "1.5.0",
            "_view_count": null,
            "_view_module_version": "1.2.0",
            "_model_module": "@jupyter-widgets/controls"
          }
        },
        "00039ca23c3a4f4d8df54506f36cfea2": {
          "model_module": "@jupyter-widgets/base",
          "model_name": "LayoutModel",
          "state": {
            "_view_name": "LayoutView",
            "grid_template_rows": null,
            "right": null,
            "justify_content": null,
            "_view_module": "@jupyter-widgets/base",
            "overflow": null,
            "_model_module_version": "1.2.0",
            "_view_count": null,
            "flex_flow": null,
            "width": null,
            "min_width": null,
            "border": null,
            "align_items": null,
            "bottom": null,
            "_model_module": "@jupyter-widgets/base",
            "top": null,
            "grid_column": null,
            "overflow_y": null,
            "overflow_x": null,
            "grid_auto_flow": null,
            "grid_area": null,
            "grid_template_columns": null,
            "flex": null,
            "_model_name": "LayoutModel",
            "justify_items": null,
            "grid_row": null,
            "max_height": null,
            "align_content": null,
            "visibility": null,
            "align_self": null,
            "height": null,
            "min_height": null,
            "padding": null,
            "grid_auto_rows": null,
            "grid_gap": null,
            "max_width": null,
            "order": null,
            "_view_module_version": "1.2.0",
            "grid_template_areas": null,
            "object_position": null,
            "object_fit": null,
            "grid_auto_columns": null,
            "margin": null,
            "display": null,
            "left": null
          }
        },
        "19ecee93c74c4757a679a086549be6b8": {
          "model_module": "@jupyter-widgets/controls",
          "model_name": "HBoxModel",
          "state": {
            "_view_name": "HBoxView",
            "_dom_classes": [],
            "_model_name": "HBoxModel",
            "_view_module": "@jupyter-widgets/controls",
            "_model_module_version": "1.5.0",
            "_view_count": null,
            "_view_module_version": "1.5.0",
            "box_style": "",
            "layout": "IPY_MODEL_62c49f65530942ed879de86989246203",
            "_model_module": "@jupyter-widgets/controls",
            "children": [
              "IPY_MODEL_404b88f7b6d846d6a07189e8ec2db1ac",
              "IPY_MODEL_4c40584509da44b084de9c198c73a0a0"
            ]
          }
        },
        "62c49f65530942ed879de86989246203": {
          "model_module": "@jupyter-widgets/base",
          "model_name": "LayoutModel",
          "state": {
            "_view_name": "LayoutView",
            "grid_template_rows": null,
            "right": null,
            "justify_content": null,
            "_view_module": "@jupyter-widgets/base",
            "overflow": null,
            "_model_module_version": "1.2.0",
            "_view_count": null,
            "flex_flow": null,
            "width": null,
            "min_width": null,
            "border": null,
            "align_items": null,
            "bottom": null,
            "_model_module": "@jupyter-widgets/base",
            "top": null,
            "grid_column": null,
            "overflow_y": null,
            "overflow_x": null,
            "grid_auto_flow": null,
            "grid_area": null,
            "grid_template_columns": null,
            "flex": null,
            "_model_name": "LayoutModel",
            "justify_items": null,
            "grid_row": null,
            "max_height": null,
            "align_content": null,
            "visibility": null,
            "align_self": null,
            "height": null,
            "min_height": null,
            "padding": null,
            "grid_auto_rows": null,
            "grid_gap": null,
            "max_width": null,
            "order": null,
            "_view_module_version": "1.2.0",
            "grid_template_areas": null,
            "object_position": null,
            "object_fit": null,
            "grid_auto_columns": null,
            "margin": null,
            "display": null,
            "left": null
          }
        },
        "404b88f7b6d846d6a07189e8ec2db1ac": {
          "model_module": "@jupyter-widgets/controls",
          "model_name": "FloatProgressModel",
          "state": {
            "_view_name": "ProgressView",
            "style": "IPY_MODEL_30c865c4802d419b8e46f5fe09933b75",
            "_dom_classes": [],
            "description": "Downloading: ",
            "_model_name": "FloatProgressModel",
            "bar_style": "success",
            "max": 9954,
            "_view_module": "@jupyter-widgets/controls",
            "_model_module_version": "1.5.0",
            "value": 9954,
            "_view_count": null,
            "_view_module_version": "1.5.0",
            "orientation": "horizontal",
            "min": 0,
            "description_tooltip": null,
            "_model_module": "@jupyter-widgets/controls",
            "layout": "IPY_MODEL_8aba11f6caa349128d09592550ffc8d6"
          }
        },
        "4c40584509da44b084de9c198c73a0a0": {
          "model_module": "@jupyter-widgets/controls",
          "model_name": "HTMLModel",
          "state": {
            "_view_name": "HTMLView",
            "style": "IPY_MODEL_c974154e602c4f4fb3148890b0a89460",
            "_dom_classes": [],
            "description": "",
            "_model_name": "HTMLModel",
            "placeholder": "​",
            "_view_module": "@jupyter-widgets/controls",
            "_model_module_version": "1.5.0",
            "value": " 153k/? [00:00&lt;00:00, 1.99MB/s]",
            "_view_count": null,
            "_view_module_version": "1.5.0",
            "description_tooltip": null,
            "_model_module": "@jupyter-widgets/controls",
            "layout": "IPY_MODEL_8d8ff02e54314d92918b53af359b1acc"
          }
        },
        "30c865c4802d419b8e46f5fe09933b75": {
          "model_module": "@jupyter-widgets/controls",
          "model_name": "ProgressStyleModel",
          "state": {
            "_view_name": "StyleView",
            "_model_name": "ProgressStyleModel",
            "description_width": "initial",
            "_view_module": "@jupyter-widgets/base",
            "_model_module_version": "1.5.0",
            "_view_count": null,
            "_view_module_version": "1.2.0",
            "bar_color": null,
            "_model_module": "@jupyter-widgets/controls"
          }
        },
        "8aba11f6caa349128d09592550ffc8d6": {
          "model_module": "@jupyter-widgets/base",
          "model_name": "LayoutModel",
          "state": {
            "_view_name": "LayoutView",
            "grid_template_rows": null,
            "right": null,
            "justify_content": null,
            "_view_module": "@jupyter-widgets/base",
            "overflow": null,
            "_model_module_version": "1.2.0",
            "_view_count": null,
            "flex_flow": null,
            "width": null,
            "min_width": null,
            "border": null,
            "align_items": null,
            "bottom": null,
            "_model_module": "@jupyter-widgets/base",
            "top": null,
            "grid_column": null,
            "overflow_y": null,
            "overflow_x": null,
            "grid_auto_flow": null,
            "grid_area": null,
            "grid_template_columns": null,
            "flex": null,
            "_model_name": "LayoutModel",
            "justify_items": null,
            "grid_row": null,
            "max_height": null,
            "align_content": null,
            "visibility": null,
            "align_self": null,
            "height": null,
            "min_height": null,
            "padding": null,
            "grid_auto_rows": null,
            "grid_gap": null,
            "max_width": null,
            "order": null,
            "_view_module_version": "1.2.0",
            "grid_template_areas": null,
            "object_position": null,
            "object_fit": null,
            "grid_auto_columns": null,
            "margin": null,
            "display": null,
            "left": null
          }
        },
        "c974154e602c4f4fb3148890b0a89460": {
          "model_module": "@jupyter-widgets/controls",
          "model_name": "DescriptionStyleModel",
          "state": {
            "_view_name": "StyleView",
            "_model_name": "DescriptionStyleModel",
            "description_width": "",
            "_view_module": "@jupyter-widgets/base",
            "_model_module_version": "1.5.0",
            "_view_count": null,
            "_view_module_version": "1.2.0",
            "_model_module": "@jupyter-widgets/controls"
          }
        },
        "8d8ff02e54314d92918b53af359b1acc": {
          "model_module": "@jupyter-widgets/base",
          "model_name": "LayoutModel",
          "state": {
            "_view_name": "LayoutView",
            "grid_template_rows": null,
            "right": null,
            "justify_content": null,
            "_view_module": "@jupyter-widgets/base",
            "overflow": null,
            "_model_module_version": "1.2.0",
            "_view_count": null,
            "flex_flow": null,
            "width": null,
            "min_width": null,
            "border": null,
            "align_items": null,
            "bottom": null,
            "_model_module": "@jupyter-widgets/base",
            "top": null,
            "grid_column": null,
            "overflow_y": null,
            "overflow_x": null,
            "grid_auto_flow": null,
            "grid_area": null,
            "grid_template_columns": null,
            "flex": null,
            "_model_name": "LayoutModel",
            "justify_items": null,
            "grid_row": null,
            "max_height": null,
            "align_content": null,
            "visibility": null,
            "align_self": null,
            "height": null,
            "min_height": null,
            "padding": null,
            "grid_auto_rows": null,
            "grid_gap": null,
            "max_width": null,
            "order": null,
            "_view_module_version": "1.2.0",
            "grid_template_areas": null,
            "object_position": null,
            "object_fit": null,
            "grid_auto_columns": null,
            "margin": null,
            "display": null,
            "left": null
          }
        },
        "939edd477f4745559c7c3027c4e9571c": {
          "model_module": "@jupyter-widgets/controls",
          "model_name": "HBoxModel",
          "state": {
            "_view_name": "HBoxView",
            "_dom_classes": [],
            "_model_name": "HBoxModel",
            "_view_module": "@jupyter-widgets/controls",
            "_model_module_version": "1.5.0",
            "_view_count": null,
            "_view_module_version": "1.5.0",
            "box_style": "",
            "layout": "IPY_MODEL_2fb06b92472546c4afc5ae485b85ff8f",
            "_model_module": "@jupyter-widgets/controls",
            "children": [
              "IPY_MODEL_126da43ea65744b3b9cf7265b67a686c",
              "IPY_MODEL_dc89a83a66c0487490cfd97548952a8d"
            ]
          }
        },
        "2fb06b92472546c4afc5ae485b85ff8f": {
          "model_module": "@jupyter-widgets/base",
          "model_name": "LayoutModel",
          "state": {
            "_view_name": "LayoutView",
            "grid_template_rows": null,
            "right": null,
            "justify_content": null,
            "_view_module": "@jupyter-widgets/base",
            "overflow": null,
            "_model_module_version": "1.2.0",
            "_view_count": null,
            "flex_flow": null,
            "width": null,
            "min_width": null,
            "border": null,
            "align_items": null,
            "bottom": null,
            "_model_module": "@jupyter-widgets/base",
            "top": null,
            "grid_column": null,
            "overflow_y": null,
            "overflow_x": null,
            "grid_auto_flow": null,
            "grid_area": null,
            "grid_template_columns": null,
            "flex": null,
            "_model_name": "LayoutModel",
            "justify_items": null,
            "grid_row": null,
            "max_height": null,
            "align_content": null,
            "visibility": null,
            "align_self": null,
            "height": null,
            "min_height": null,
            "padding": null,
            "grid_auto_rows": null,
            "grid_gap": null,
            "max_width": null,
            "order": null,
            "_view_module_version": "1.2.0",
            "grid_template_areas": null,
            "object_position": null,
            "object_fit": null,
            "grid_auto_columns": null,
            "margin": null,
            "display": null,
            "left": null
          }
        },
        "126da43ea65744b3b9cf7265b67a686c": {
          "model_module": "@jupyter-widgets/controls",
          "model_name": "FloatProgressModel",
          "state": {
            "_view_name": "ProgressView",
            "style": "IPY_MODEL_a05d9655890042d1af0f0699e4a24e54",
            "_dom_classes": [],
            "description": "Downloading: 100%",
            "_model_name": "FloatProgressModel",
            "bar_style": "success",
            "max": 475918233,
            "_view_module": "@jupyter-widgets/controls",
            "_model_module_version": "1.5.0",
            "value": 475918233,
            "_view_count": null,
            "_view_module_version": "1.5.0",
            "orientation": "horizontal",
            "min": 0,
            "description_tooltip": null,
            "_model_module": "@jupyter-widgets/controls",
            "layout": "IPY_MODEL_3890545fbe364b4da1303c9d80c27189"
          }
        },
        "dc89a83a66c0487490cfd97548952a8d": {
          "model_module": "@jupyter-widgets/controls",
          "model_name": "HTMLModel",
          "state": {
            "_view_name": "HTMLView",
            "style": "IPY_MODEL_f3900583cec04da78ff1f3794b8b434e",
            "_dom_classes": [],
            "description": "",
            "_model_name": "HTMLModel",
            "placeholder": "​",
            "_view_module": "@jupyter-widgets/controls",
            "_model_module_version": "1.5.0",
            "value": " 476M/476M [00:17&lt;00:00, 27.3MB/s]",
            "_view_count": null,
            "_view_module_version": "1.5.0",
            "description_tooltip": null,
            "_model_module": "@jupyter-widgets/controls",
            "layout": "IPY_MODEL_e05c03b75d964de0a58bf4628201b6f9"
          }
        },
        "a05d9655890042d1af0f0699e4a24e54": {
          "model_module": "@jupyter-widgets/controls",
          "model_name": "ProgressStyleModel",
          "state": {
            "_view_name": "StyleView",
            "_model_name": "ProgressStyleModel",
            "description_width": "initial",
            "_view_module": "@jupyter-widgets/base",
            "_model_module_version": "1.5.0",
            "_view_count": null,
            "_view_module_version": "1.2.0",
            "bar_color": null,
            "_model_module": "@jupyter-widgets/controls"
          }
        },
        "3890545fbe364b4da1303c9d80c27189": {
          "model_module": "@jupyter-widgets/base",
          "model_name": "LayoutModel",
          "state": {
            "_view_name": "LayoutView",
            "grid_template_rows": null,
            "right": null,
            "justify_content": null,
            "_view_module": "@jupyter-widgets/base",
            "overflow": null,
            "_model_module_version": "1.2.0",
            "_view_count": null,
            "flex_flow": null,
            "width": null,
            "min_width": null,
            "border": null,
            "align_items": null,
            "bottom": null,
            "_model_module": "@jupyter-widgets/base",
            "top": null,
            "grid_column": null,
            "overflow_y": null,
            "overflow_x": null,
            "grid_auto_flow": null,
            "grid_area": null,
            "grid_template_columns": null,
            "flex": null,
            "_model_name": "LayoutModel",
            "justify_items": null,
            "grid_row": null,
            "max_height": null,
            "align_content": null,
            "visibility": null,
            "align_self": null,
            "height": null,
            "min_height": null,
            "padding": null,
            "grid_auto_rows": null,
            "grid_gap": null,
            "max_width": null,
            "order": null,
            "_view_module_version": "1.2.0",
            "grid_template_areas": null,
            "object_position": null,
            "object_fit": null,
            "grid_auto_columns": null,
            "margin": null,
            "display": null,
            "left": null
          }
        },
        "f3900583cec04da78ff1f3794b8b434e": {
          "model_module": "@jupyter-widgets/controls",
          "model_name": "DescriptionStyleModel",
          "state": {
            "_view_name": "StyleView",
            "_model_name": "DescriptionStyleModel",
            "description_width": "",
            "_view_module": "@jupyter-widgets/base",
            "_model_module_version": "1.5.0",
            "_view_count": null,
            "_view_module_version": "1.2.0",
            "_model_module": "@jupyter-widgets/controls"
          }
        },
        "e05c03b75d964de0a58bf4628201b6f9": {
          "model_module": "@jupyter-widgets/base",
          "model_name": "LayoutModel",
          "state": {
            "_view_name": "LayoutView",
            "grid_template_rows": null,
            "right": null,
            "justify_content": null,
            "_view_module": "@jupyter-widgets/base",
            "overflow": null,
            "_model_module_version": "1.2.0",
            "_view_count": null,
            "flex_flow": null,
            "width": null,
            "min_width": null,
            "border": null,
            "align_items": null,
            "bottom": null,
            "_model_module": "@jupyter-widgets/base",
            "top": null,
            "grid_column": null,
            "overflow_y": null,
            "overflow_x": null,
            "grid_auto_flow": null,
            "grid_area": null,
            "grid_template_columns": null,
            "flex": null,
            "_model_name": "LayoutModel",
            "justify_items": null,
            "grid_row": null,
            "max_height": null,
            "align_content": null,
            "visibility": null,
            "align_self": null,
            "height": null,
            "min_height": null,
            "padding": null,
            "grid_auto_rows": null,
            "grid_gap": null,
            "max_width": null,
            "order": null,
            "_view_module_version": "1.2.0",
            "grid_template_areas": null,
            "object_position": null,
            "object_fit": null,
            "grid_auto_columns": null,
            "margin": null,
            "display": null,
            "left": null
          }
        },
        "8974b769f3ca48c9999ccf103b740673": {
          "model_module": "@jupyter-widgets/controls",
          "model_name": "HBoxModel",
          "state": {
            "_view_name": "HBoxView",
            "_dom_classes": [],
            "_model_name": "HBoxModel",
            "_view_module": "@jupyter-widgets/controls",
            "_model_module_version": "1.5.0",
            "_view_count": null,
            "_view_module_version": "1.5.0",
            "box_style": "",
            "layout": "IPY_MODEL_33c91f83522d42829c21e1207d70bc99",
            "_model_module": "@jupyter-widgets/controls",
            "children": [
              "IPY_MODEL_32a7bf329359423e9e360008085c64ba",
              "IPY_MODEL_ac61a95f02654899b31cf24ca745e543"
            ]
          }
        },
        "33c91f83522d42829c21e1207d70bc99": {
          "model_module": "@jupyter-widgets/base",
          "model_name": "LayoutModel",
          "state": {
            "_view_name": "LayoutView",
            "grid_template_rows": null,
            "right": null,
            "justify_content": null,
            "_view_module": "@jupyter-widgets/base",
            "overflow": null,
            "_model_module_version": "1.2.0",
            "_view_count": null,
            "flex_flow": null,
            "width": null,
            "min_width": null,
            "border": null,
            "align_items": null,
            "bottom": null,
            "_model_module": "@jupyter-widgets/base",
            "top": null,
            "grid_column": null,
            "overflow_y": null,
            "overflow_x": null,
            "grid_auto_flow": null,
            "grid_area": null,
            "grid_template_columns": null,
            "flex": null,
            "_model_name": "LayoutModel",
            "justify_items": null,
            "grid_row": null,
            "max_height": null,
            "align_content": null,
            "visibility": null,
            "align_self": null,
            "height": null,
            "min_height": null,
            "padding": null,
            "grid_auto_rows": null,
            "grid_gap": null,
            "max_width": null,
            "order": null,
            "_view_module_version": "1.2.0",
            "grid_template_areas": null,
            "object_position": null,
            "object_fit": null,
            "grid_auto_columns": null,
            "margin": null,
            "display": null,
            "left": null
          }
        },
        "32a7bf329359423e9e360008085c64ba": {
          "model_module": "@jupyter-widgets/controls",
          "model_name": "FloatProgressModel",
          "state": {
            "_view_name": "ProgressView",
            "style": "IPY_MODEL_dfabb843c471489485d3cd4fd38ba934",
            "_dom_classes": [],
            "description": "",
            "_model_name": "FloatProgressModel",
            "bar_style": "info",
            "max": 1,
            "_view_module": "@jupyter-widgets/controls",
            "_model_module_version": "1.5.0",
            "value": 1,
            "_view_count": null,
            "_view_module_version": "1.5.0",
            "orientation": "horizontal",
            "min": 0,
            "description_tooltip": null,
            "_model_module": "@jupyter-widgets/controls",
            "layout": "IPY_MODEL_6ab33eee929b4235b42ffd921e86d4bd"
          }
        },
        "ac61a95f02654899b31cf24ca745e543": {
          "model_module": "@jupyter-widgets/controls",
          "model_name": "HTMLModel",
          "state": {
            "_view_name": "HTMLView",
            "style": "IPY_MODEL_6c1a1fcc66ea4aef91d076941deaf83e",
            "_dom_classes": [],
            "description": "",
            "_model_name": "HTMLModel",
            "placeholder": "​",
            "_view_module": "@jupyter-widgets/controls",
            "_model_module_version": "1.5.0",
            "value": " 2130/0 [00:05&lt;00:00,  3.63s/ examples]",
            "_view_count": null,
            "_view_module_version": "1.5.0",
            "description_tooltip": null,
            "_model_module": "@jupyter-widgets/controls",
            "layout": "IPY_MODEL_0cba12d1ad7a4daf8bb8c58dbc666d74"
          }
        },
        "dfabb843c471489485d3cd4fd38ba934": {
          "model_module": "@jupyter-widgets/controls",
          "model_name": "ProgressStyleModel",
          "state": {
            "_view_name": "StyleView",
            "_model_name": "ProgressStyleModel",
            "description_width": "initial",
            "_view_module": "@jupyter-widgets/base",
            "_model_module_version": "1.5.0",
            "_view_count": null,
            "_view_module_version": "1.2.0",
            "bar_color": null,
            "_model_module": "@jupyter-widgets/controls"
          }
        },
        "6ab33eee929b4235b42ffd921e86d4bd": {
          "model_module": "@jupyter-widgets/base",
          "model_name": "LayoutModel",
          "state": {
            "_view_name": "LayoutView",
            "grid_template_rows": null,
            "right": null,
            "justify_content": null,
            "_view_module": "@jupyter-widgets/base",
            "overflow": null,
            "_model_module_version": "1.2.0",
            "_view_count": null,
            "flex_flow": null,
            "width": null,
            "min_width": null,
            "border": null,
            "align_items": null,
            "bottom": null,
            "_model_module": "@jupyter-widgets/base",
            "top": null,
            "grid_column": null,
            "overflow_y": null,
            "overflow_x": null,
            "grid_auto_flow": null,
            "grid_area": null,
            "grid_template_columns": null,
            "flex": null,
            "_model_name": "LayoutModel",
            "justify_items": null,
            "grid_row": null,
            "max_height": null,
            "align_content": null,
            "visibility": null,
            "align_self": null,
            "height": null,
            "min_height": null,
            "padding": null,
            "grid_auto_rows": null,
            "grid_gap": null,
            "max_width": null,
            "order": null,
            "_view_module_version": "1.2.0",
            "grid_template_areas": null,
            "object_position": null,
            "object_fit": null,
            "grid_auto_columns": null,
            "margin": null,
            "display": null,
            "left": null
          }
        },
        "6c1a1fcc66ea4aef91d076941deaf83e": {
          "model_module": "@jupyter-widgets/controls",
          "model_name": "DescriptionStyleModel",
          "state": {
            "_view_name": "StyleView",
            "_model_name": "DescriptionStyleModel",
            "description_width": "",
            "_view_module": "@jupyter-widgets/base",
            "_model_module_version": "1.5.0",
            "_view_count": null,
            "_view_module_version": "1.2.0",
            "_model_module": "@jupyter-widgets/controls"
          }
        },
        "0cba12d1ad7a4daf8bb8c58dbc666d74": {
          "model_module": "@jupyter-widgets/base",
          "model_name": "LayoutModel",
          "state": {
            "_view_name": "LayoutView",
            "grid_template_rows": null,
            "right": null,
            "justify_content": null,
            "_view_module": "@jupyter-widgets/base",
            "overflow": null,
            "_model_module_version": "1.2.0",
            "_view_count": null,
            "flex_flow": null,
            "width": null,
            "min_width": null,
            "border": null,
            "align_items": null,
            "bottom": null,
            "_model_module": "@jupyter-widgets/base",
            "top": null,
            "grid_column": null,
            "overflow_y": null,
            "overflow_x": null,
            "grid_auto_flow": null,
            "grid_area": null,
            "grid_template_columns": null,
            "flex": null,
            "_model_name": "LayoutModel",
            "justify_items": null,
            "grid_row": null,
            "max_height": null,
            "align_content": null,
            "visibility": null,
            "align_self": null,
            "height": null,
            "min_height": null,
            "padding": null,
            "grid_auto_rows": null,
            "grid_gap": null,
            "max_width": null,
            "order": null,
            "_view_module_version": "1.2.0",
            "grid_template_areas": null,
            "object_position": null,
            "object_fit": null,
            "grid_auto_columns": null,
            "margin": null,
            "display": null,
            "left": null
          }
        },
        "198a8ffc54844b618efc353c3dc48933": {
          "model_module": "@jupyter-widgets/controls",
          "model_name": "HBoxModel",
          "state": {
            "_view_name": "HBoxView",
            "_dom_classes": [],
            "_model_name": "HBoxModel",
            "_view_module": "@jupyter-widgets/controls",
            "_model_module_version": "1.5.0",
            "_view_count": null,
            "_view_module_version": "1.5.0",
            "box_style": "",
            "layout": "IPY_MODEL_67f4194a13104960ba1d5466ab2b954b",
            "_model_module": "@jupyter-widgets/controls",
            "children": [
              "IPY_MODEL_073652e6daf04d62a3123dfb3f8cbda1",
              "IPY_MODEL_5f80db4f160149f7a533c1361a60d9f1"
            ]
          }
        },
        "67f4194a13104960ba1d5466ab2b954b": {
          "model_module": "@jupyter-widgets/base",
          "model_name": "LayoutModel",
          "state": {
            "_view_name": "LayoutView",
            "grid_template_rows": null,
            "right": null,
            "justify_content": null,
            "_view_module": "@jupyter-widgets/base",
            "overflow": null,
            "_model_module_version": "1.2.0",
            "_view_count": null,
            "flex_flow": null,
            "width": null,
            "min_width": null,
            "border": null,
            "align_items": null,
            "bottom": null,
            "_model_module": "@jupyter-widgets/base",
            "top": null,
            "grid_column": null,
            "overflow_y": null,
            "overflow_x": null,
            "grid_auto_flow": null,
            "grid_area": null,
            "grid_template_columns": null,
            "flex": null,
            "_model_name": "LayoutModel",
            "justify_items": null,
            "grid_row": null,
            "max_height": null,
            "align_content": null,
            "visibility": null,
            "align_self": null,
            "height": null,
            "min_height": null,
            "padding": null,
            "grid_auto_rows": null,
            "grid_gap": null,
            "max_width": null,
            "order": null,
            "_view_module_version": "1.2.0",
            "grid_template_areas": null,
            "object_position": null,
            "object_fit": null,
            "grid_auto_columns": null,
            "margin": null,
            "display": null,
            "left": null
          }
        },
        "073652e6daf04d62a3123dfb3f8cbda1": {
          "model_module": "@jupyter-widgets/controls",
          "model_name": "FloatProgressModel",
          "state": {
            "_view_name": "ProgressView",
            "style": "IPY_MODEL_b4488f24b5e640a9b57290491a32f374",
            "_dom_classes": [],
            "description": "",
            "_model_name": "FloatProgressModel",
            "bar_style": "info",
            "max": 1,
            "_view_module": "@jupyter-widgets/controls",
            "_model_module_version": "1.5.0",
            "value": 1,
            "_view_count": null,
            "_view_module_version": "1.5.0",
            "orientation": "horizontal",
            "min": 0,
            "description_tooltip": null,
            "_model_module": "@jupyter-widgets/controls",
            "layout": "IPY_MODEL_e4407311159f4caaaccef472cbf829a8"
          }
        },
        "5f80db4f160149f7a533c1361a60d9f1": {
          "model_module": "@jupyter-widgets/controls",
          "model_name": "HTMLModel",
          "state": {
            "_view_name": "HTMLView",
            "style": "IPY_MODEL_2eaaff3e7e2b496ea780e95b4fbda4d4",
            "_dom_classes": [],
            "description": "",
            "_model_name": "HTMLModel",
            "placeholder": "​",
            "_view_module": "@jupyter-widgets/controls",
            "_model_module_version": "1.5.0",
            "value": " 1844/0 [00:00&lt;00:00, 9614.12 examples/s]",
            "_view_count": null,
            "_view_module_version": "1.5.0",
            "description_tooltip": null,
            "_model_module": "@jupyter-widgets/controls",
            "layout": "IPY_MODEL_4aa53a1ba28146c29509e0c2d558b8a7"
          }
        },
        "b4488f24b5e640a9b57290491a32f374": {
          "model_module": "@jupyter-widgets/controls",
          "model_name": "ProgressStyleModel",
          "state": {
            "_view_name": "StyleView",
            "_model_name": "ProgressStyleModel",
            "description_width": "initial",
            "_view_module": "@jupyter-widgets/base",
            "_model_module_version": "1.5.0",
            "_view_count": null,
            "_view_module_version": "1.2.0",
            "bar_color": null,
            "_model_module": "@jupyter-widgets/controls"
          }
        },
        "e4407311159f4caaaccef472cbf829a8": {
          "model_module": "@jupyter-widgets/base",
          "model_name": "LayoutModel",
          "state": {
            "_view_name": "LayoutView",
            "grid_template_rows": null,
            "right": null,
            "justify_content": null,
            "_view_module": "@jupyter-widgets/base",
            "overflow": null,
            "_model_module_version": "1.2.0",
            "_view_count": null,
            "flex_flow": null,
            "width": null,
            "min_width": null,
            "border": null,
            "align_items": null,
            "bottom": null,
            "_model_module": "@jupyter-widgets/base",
            "top": null,
            "grid_column": null,
            "overflow_y": null,
            "overflow_x": null,
            "grid_auto_flow": null,
            "grid_area": null,
            "grid_template_columns": null,
            "flex": null,
            "_model_name": "LayoutModel",
            "justify_items": null,
            "grid_row": null,
            "max_height": null,
            "align_content": null,
            "visibility": null,
            "align_self": null,
            "height": null,
            "min_height": null,
            "padding": null,
            "grid_auto_rows": null,
            "grid_gap": null,
            "max_width": null,
            "order": null,
            "_view_module_version": "1.2.0",
            "grid_template_areas": null,
            "object_position": null,
            "object_fit": null,
            "grid_auto_columns": null,
            "margin": null,
            "display": null,
            "left": null
          }
        },
        "2eaaff3e7e2b496ea780e95b4fbda4d4": {
          "model_module": "@jupyter-widgets/controls",
          "model_name": "DescriptionStyleModel",
          "state": {
            "_view_name": "StyleView",
            "_model_name": "DescriptionStyleModel",
            "description_width": "",
            "_view_module": "@jupyter-widgets/base",
            "_model_module_version": "1.5.0",
            "_view_count": null,
            "_view_module_version": "1.2.0",
            "_model_module": "@jupyter-widgets/controls"
          }
        },
        "4aa53a1ba28146c29509e0c2d558b8a7": {
          "model_module": "@jupyter-widgets/base",
          "model_name": "LayoutModel",
          "state": {
            "_view_name": "LayoutView",
            "grid_template_rows": null,
            "right": null,
            "justify_content": null,
            "_view_module": "@jupyter-widgets/base",
            "overflow": null,
            "_model_module_version": "1.2.0",
            "_view_count": null,
            "flex_flow": null,
            "width": null,
            "min_width": null,
            "border": null,
            "align_items": null,
            "bottom": null,
            "_model_module": "@jupyter-widgets/base",
            "top": null,
            "grid_column": null,
            "overflow_y": null,
            "overflow_x": null,
            "grid_auto_flow": null,
            "grid_area": null,
            "grid_template_columns": null,
            "flex": null,
            "_model_name": "LayoutModel",
            "justify_items": null,
            "grid_row": null,
            "max_height": null,
            "align_content": null,
            "visibility": null,
            "align_self": null,
            "height": null,
            "min_height": null,
            "padding": null,
            "grid_auto_rows": null,
            "grid_gap": null,
            "max_width": null,
            "order": null,
            "_view_module_version": "1.2.0",
            "grid_template_areas": null,
            "object_position": null,
            "object_fit": null,
            "grid_auto_columns": null,
            "margin": null,
            "display": null,
            "left": null
          }
        },
        "6b4835c9b3034d9ba2d551ce6a14a9a6": {
          "model_module": "@jupyter-widgets/controls",
          "model_name": "HBoxModel",
          "state": {
            "_view_name": "HBoxView",
            "_dom_classes": [],
            "_model_name": "HBoxModel",
            "_view_module": "@jupyter-widgets/controls",
            "_model_module_version": "1.5.0",
            "_view_count": null,
            "_view_module_version": "1.5.0",
            "box_style": "",
            "layout": "IPY_MODEL_0360bd5943b142d38021f6007f8b7037",
            "_model_module": "@jupyter-widgets/controls",
            "children": [
              "IPY_MODEL_8e3c6955292b44fea8a9773330771ba5",
              "IPY_MODEL_b418be330fb740bda61504bf2b3909f1"
            ]
          }
        },
        "0360bd5943b142d38021f6007f8b7037": {
          "model_module": "@jupyter-widgets/base",
          "model_name": "LayoutModel",
          "state": {
            "_view_name": "LayoutView",
            "grid_template_rows": null,
            "right": null,
            "justify_content": null,
            "_view_module": "@jupyter-widgets/base",
            "overflow": null,
            "_model_module_version": "1.2.0",
            "_view_count": null,
            "flex_flow": null,
            "width": null,
            "min_width": null,
            "border": null,
            "align_items": null,
            "bottom": null,
            "_model_module": "@jupyter-widgets/base",
            "top": null,
            "grid_column": null,
            "overflow_y": null,
            "overflow_x": null,
            "grid_auto_flow": null,
            "grid_area": null,
            "grid_template_columns": null,
            "flex": null,
            "_model_name": "LayoutModel",
            "justify_items": null,
            "grid_row": null,
            "max_height": null,
            "align_content": null,
            "visibility": null,
            "align_self": null,
            "height": null,
            "min_height": null,
            "padding": null,
            "grid_auto_rows": null,
            "grid_gap": null,
            "max_width": null,
            "order": null,
            "_view_module_version": "1.2.0",
            "grid_template_areas": null,
            "object_position": null,
            "object_fit": null,
            "grid_auto_columns": null,
            "margin": null,
            "display": null,
            "left": null
          }
        },
        "8e3c6955292b44fea8a9773330771ba5": {
          "model_module": "@jupyter-widgets/controls",
          "model_name": "FloatProgressModel",
          "state": {
            "_view_name": "ProgressView",
            "style": "IPY_MODEL_ceeb8ea47c394120983d53a60c99cb9f",
            "_dom_classes": [],
            "description": "",
            "_model_name": "FloatProgressModel",
            "bar_style": "info",
            "max": 1,
            "_view_module": "@jupyter-widgets/controls",
            "_model_module_version": "1.5.0",
            "value": 1,
            "_view_count": null,
            "_view_module_version": "1.5.0",
            "orientation": "horizontal",
            "min": 0,
            "description_tooltip": null,
            "_model_module": "@jupyter-widgets/controls",
            "layout": "IPY_MODEL_f8cec53c267d4adb8817e1ce63c4d8a5"
          }
        },
        "b418be330fb740bda61504bf2b3909f1": {
          "model_module": "@jupyter-widgets/controls",
          "model_name": "HTMLModel",
          "state": {
            "_view_name": "HTMLView",
            "style": "IPY_MODEL_0722bbb4438c40c59e536402c3eab284",
            "_dom_classes": [],
            "description": "",
            "_model_name": "HTMLModel",
            "placeholder": "​",
            "_view_module": "@jupyter-widgets/controls",
            "_model_module_version": "1.5.0",
            "value": " 1835/0 [00:00&lt;00:00, 9287.99 examples/s]",
            "_view_count": null,
            "_view_module_version": "1.5.0",
            "description_tooltip": null,
            "_model_module": "@jupyter-widgets/controls",
            "layout": "IPY_MODEL_1540121f734f430285d815e9759702d9"
          }
        },
        "ceeb8ea47c394120983d53a60c99cb9f": {
          "model_module": "@jupyter-widgets/controls",
          "model_name": "ProgressStyleModel",
          "state": {
            "_view_name": "StyleView",
            "_model_name": "ProgressStyleModel",
            "description_width": "initial",
            "_view_module": "@jupyter-widgets/base",
            "_model_module_version": "1.5.0",
            "_view_count": null,
            "_view_module_version": "1.2.0",
            "bar_color": null,
            "_model_module": "@jupyter-widgets/controls"
          }
        },
        "f8cec53c267d4adb8817e1ce63c4d8a5": {
          "model_module": "@jupyter-widgets/base",
          "model_name": "LayoutModel",
          "state": {
            "_view_name": "LayoutView",
            "grid_template_rows": null,
            "right": null,
            "justify_content": null,
            "_view_module": "@jupyter-widgets/base",
            "overflow": null,
            "_model_module_version": "1.2.0",
            "_view_count": null,
            "flex_flow": null,
            "width": null,
            "min_width": null,
            "border": null,
            "align_items": null,
            "bottom": null,
            "_model_module": "@jupyter-widgets/base",
            "top": null,
            "grid_column": null,
            "overflow_y": null,
            "overflow_x": null,
            "grid_auto_flow": null,
            "grid_area": null,
            "grid_template_columns": null,
            "flex": null,
            "_model_name": "LayoutModel",
            "justify_items": null,
            "grid_row": null,
            "max_height": null,
            "align_content": null,
            "visibility": null,
            "align_self": null,
            "height": null,
            "min_height": null,
            "padding": null,
            "grid_auto_rows": null,
            "grid_gap": null,
            "max_width": null,
            "order": null,
            "_view_module_version": "1.2.0",
            "grid_template_areas": null,
            "object_position": null,
            "object_fit": null,
            "grid_auto_columns": null,
            "margin": null,
            "display": null,
            "left": null
          }
        },
        "0722bbb4438c40c59e536402c3eab284": {
          "model_module": "@jupyter-widgets/controls",
          "model_name": "DescriptionStyleModel",
          "state": {
            "_view_name": "StyleView",
            "_model_name": "DescriptionStyleModel",
            "description_width": "",
            "_view_module": "@jupyter-widgets/base",
            "_model_module_version": "1.5.0",
            "_view_count": null,
            "_view_module_version": "1.2.0",
            "_model_module": "@jupyter-widgets/controls"
          }
        },
        "1540121f734f430285d815e9759702d9": {
          "model_module": "@jupyter-widgets/base",
          "model_name": "LayoutModel",
          "state": {
            "_view_name": "LayoutView",
            "grid_template_rows": null,
            "right": null,
            "justify_content": null,
            "_view_module": "@jupyter-widgets/base",
            "overflow": null,
            "_model_module_version": "1.2.0",
            "_view_count": null,
            "flex_flow": null,
            "width": null,
            "min_width": null,
            "border": null,
            "align_items": null,
            "bottom": null,
            "_model_module": "@jupyter-widgets/base",
            "top": null,
            "grid_column": null,
            "overflow_y": null,
            "overflow_x": null,
            "grid_auto_flow": null,
            "grid_area": null,
            "grid_template_columns": null,
            "flex": null,
            "_model_name": "LayoutModel",
            "justify_items": null,
            "grid_row": null,
            "max_height": null,
            "align_content": null,
            "visibility": null,
            "align_self": null,
            "height": null,
            "min_height": null,
            "padding": null,
            "grid_auto_rows": null,
            "grid_gap": null,
            "max_width": null,
            "order": null,
            "_view_module_version": "1.2.0",
            "grid_template_areas": null,
            "object_position": null,
            "object_fit": null,
            "grid_auto_columns": null,
            "margin": null,
            "display": null,
            "left": null
          }
        },
        "b9bb8d4811be484c88cf4c47e383e453": {
          "model_module": "@jupyter-widgets/controls",
          "model_name": "HBoxModel",
          "state": {
            "_view_name": "HBoxView",
            "_dom_classes": [],
            "_model_name": "HBoxModel",
            "_view_module": "@jupyter-widgets/controls",
            "_model_module_version": "1.5.0",
            "_view_count": null,
            "_view_module_version": "1.5.0",
            "box_style": "",
            "layout": "IPY_MODEL_391656ab255242d3a2ab319766adc96c",
            "_model_module": "@jupyter-widgets/controls",
            "children": [
              "IPY_MODEL_61c83931bb9b4bfa995696742e9b765c",
              "IPY_MODEL_32a90d0f3a5a404a92eb318b02116500"
            ]
          }
        },
        "391656ab255242d3a2ab319766adc96c": {
          "model_module": "@jupyter-widgets/base",
          "model_name": "LayoutModel",
          "state": {
            "_view_name": "LayoutView",
            "grid_template_rows": null,
            "right": null,
            "justify_content": null,
            "_view_module": "@jupyter-widgets/base",
            "overflow": null,
            "_model_module_version": "1.2.0",
            "_view_count": null,
            "flex_flow": null,
            "width": null,
            "min_width": null,
            "border": null,
            "align_items": null,
            "bottom": null,
            "_model_module": "@jupyter-widgets/base",
            "top": null,
            "grid_column": null,
            "overflow_y": null,
            "overflow_x": null,
            "grid_auto_flow": null,
            "grid_area": null,
            "grid_template_columns": null,
            "flex": null,
            "_model_name": "LayoutModel",
            "justify_items": null,
            "grid_row": null,
            "max_height": null,
            "align_content": null,
            "visibility": null,
            "align_self": null,
            "height": null,
            "min_height": null,
            "padding": null,
            "grid_auto_rows": null,
            "grid_gap": null,
            "max_width": null,
            "order": null,
            "_view_module_version": "1.2.0",
            "grid_template_areas": null,
            "object_position": null,
            "object_fit": null,
            "grid_auto_columns": null,
            "margin": null,
            "display": null,
            "left": null
          }
        },
        "61c83931bb9b4bfa995696742e9b765c": {
          "model_module": "@jupyter-widgets/controls",
          "model_name": "FloatProgressModel",
          "state": {
            "_view_name": "ProgressView",
            "style": "IPY_MODEL_5a47b674e6414850b4e56b5dbd1deea5",
            "_dom_classes": [],
            "description": "",
            "_model_name": "FloatProgressModel",
            "bar_style": "info",
            "max": 1,
            "_view_module": "@jupyter-widgets/controls",
            "_model_module_version": "1.5.0",
            "value": 1,
            "_view_count": null,
            "_view_module_version": "1.5.0",
            "orientation": "horizontal",
            "min": 0,
            "description_tooltip": null,
            "_model_module": "@jupyter-widgets/controls",
            "layout": "IPY_MODEL_480d1ab39c7e4c89b6c1fcd7d073beae"
          }
        },
        "32a90d0f3a5a404a92eb318b02116500": {
          "model_module": "@jupyter-widgets/controls",
          "model_name": "HTMLModel",
          "state": {
            "_view_name": "HTMLView",
            "style": "IPY_MODEL_999440c56beb4a24b5f055b47e00034f",
            "_dom_classes": [],
            "description": "",
            "_model_name": "HTMLModel",
            "placeholder": "​",
            "_view_module": "@jupyter-widgets/controls",
            "_model_module_version": "1.5.0",
            "value": " 6782/0 [00:00&lt;00:00, 12340.32 examples/s]",
            "_view_count": null,
            "_view_module_version": "1.5.0",
            "description_tooltip": null,
            "_model_module": "@jupyter-widgets/controls",
            "layout": "IPY_MODEL_25ecfe61b1b04824a811015b1a932105"
          }
        },
        "5a47b674e6414850b4e56b5dbd1deea5": {
          "model_module": "@jupyter-widgets/controls",
          "model_name": "ProgressStyleModel",
          "state": {
            "_view_name": "StyleView",
            "_model_name": "ProgressStyleModel",
            "description_width": "initial",
            "_view_module": "@jupyter-widgets/base",
            "_model_module_version": "1.5.0",
            "_view_count": null,
            "_view_module_version": "1.2.0",
            "bar_color": null,
            "_model_module": "@jupyter-widgets/controls"
          }
        },
        "480d1ab39c7e4c89b6c1fcd7d073beae": {
          "model_module": "@jupyter-widgets/base",
          "model_name": "LayoutModel",
          "state": {
            "_view_name": "LayoutView",
            "grid_template_rows": null,
            "right": null,
            "justify_content": null,
            "_view_module": "@jupyter-widgets/base",
            "overflow": null,
            "_model_module_version": "1.2.0",
            "_view_count": null,
            "flex_flow": null,
            "width": null,
            "min_width": null,
            "border": null,
            "align_items": null,
            "bottom": null,
            "_model_module": "@jupyter-widgets/base",
            "top": null,
            "grid_column": null,
            "overflow_y": null,
            "overflow_x": null,
            "grid_auto_flow": null,
            "grid_area": null,
            "grid_template_columns": null,
            "flex": null,
            "_model_name": "LayoutModel",
            "justify_items": null,
            "grid_row": null,
            "max_height": null,
            "align_content": null,
            "visibility": null,
            "align_self": null,
            "height": null,
            "min_height": null,
            "padding": null,
            "grid_auto_rows": null,
            "grid_gap": null,
            "max_width": null,
            "order": null,
            "_view_module_version": "1.2.0",
            "grid_template_areas": null,
            "object_position": null,
            "object_fit": null,
            "grid_auto_columns": null,
            "margin": null,
            "display": null,
            "left": null
          }
        },
        "999440c56beb4a24b5f055b47e00034f": {
          "model_module": "@jupyter-widgets/controls",
          "model_name": "DescriptionStyleModel",
          "state": {
            "_view_name": "StyleView",
            "_model_name": "DescriptionStyleModel",
            "description_width": "",
            "_view_module": "@jupyter-widgets/base",
            "_model_module_version": "1.5.0",
            "_view_count": null,
            "_view_module_version": "1.2.0",
            "_model_module": "@jupyter-widgets/controls"
          }
        },
        "25ecfe61b1b04824a811015b1a932105": {
          "model_module": "@jupyter-widgets/base",
          "model_name": "LayoutModel",
          "state": {
            "_view_name": "LayoutView",
            "grid_template_rows": null,
            "right": null,
            "justify_content": null,
            "_view_module": "@jupyter-widgets/base",
            "overflow": null,
            "_model_module_version": "1.2.0",
            "_view_count": null,
            "flex_flow": null,
            "width": null,
            "min_width": null,
            "border": null,
            "align_items": null,
            "bottom": null,
            "_model_module": "@jupyter-widgets/base",
            "top": null,
            "grid_column": null,
            "overflow_y": null,
            "overflow_x": null,
            "grid_auto_flow": null,
            "grid_area": null,
            "grid_template_columns": null,
            "flex": null,
            "_model_name": "LayoutModel",
            "justify_items": null,
            "grid_row": null,
            "max_height": null,
            "align_content": null,
            "visibility": null,
            "align_self": null,
            "height": null,
            "min_height": null,
            "padding": null,
            "grid_auto_rows": null,
            "grid_gap": null,
            "max_width": null,
            "order": null,
            "_view_module_version": "1.2.0",
            "grid_template_areas": null,
            "object_position": null,
            "object_fit": null,
            "grid_auto_columns": null,
            "margin": null,
            "display": null,
            "left": null
          }
        },
        "5b1ee6f35d25465780f8a8950c1ee399": {
          "model_module": "@jupyter-widgets/controls",
          "model_name": "HBoxModel",
          "state": {
            "_view_name": "HBoxView",
            "_dom_classes": [],
            "_model_name": "HBoxModel",
            "_view_module": "@jupyter-widgets/controls",
            "_model_module_version": "1.5.0",
            "_view_count": null,
            "_view_module_version": "1.5.0",
            "box_style": "",
            "layout": "IPY_MODEL_377e975692dd4292b2db0ab19efcf7f5",
            "_model_module": "@jupyter-widgets/controls",
            "children": [
              "IPY_MODEL_ad0abe22895145358426238694191755",
              "IPY_MODEL_49634a81874d40cfb07214560f9434de"
            ]
          }
        },
        "377e975692dd4292b2db0ab19efcf7f5": {
          "model_module": "@jupyter-widgets/base",
          "model_name": "LayoutModel",
          "state": {
            "_view_name": "LayoutView",
            "grid_template_rows": null,
            "right": null,
            "justify_content": null,
            "_view_module": "@jupyter-widgets/base",
            "overflow": null,
            "_model_module_version": "1.2.0",
            "_view_count": null,
            "flex_flow": null,
            "width": null,
            "min_width": null,
            "border": null,
            "align_items": null,
            "bottom": null,
            "_model_module": "@jupyter-widgets/base",
            "top": null,
            "grid_column": null,
            "overflow_y": null,
            "overflow_x": null,
            "grid_auto_flow": null,
            "grid_area": null,
            "grid_template_columns": null,
            "flex": null,
            "_model_name": "LayoutModel",
            "justify_items": null,
            "grid_row": null,
            "max_height": null,
            "align_content": null,
            "visibility": null,
            "align_self": null,
            "height": null,
            "min_height": null,
            "padding": null,
            "grid_auto_rows": null,
            "grid_gap": null,
            "max_width": null,
            "order": null,
            "_view_module_version": "1.2.0",
            "grid_template_areas": null,
            "object_position": null,
            "object_fit": null,
            "grid_auto_columns": null,
            "margin": null,
            "display": null,
            "left": null
          }
        },
        "ad0abe22895145358426238694191755": {
          "model_module": "@jupyter-widgets/controls",
          "model_name": "FloatProgressModel",
          "state": {
            "_view_name": "ProgressView",
            "style": "IPY_MODEL_fa48caf9024444bd9ec91d768e989fb6",
            "_dom_classes": [],
            "description": "",
            "_model_name": "FloatProgressModel",
            "bar_style": "info",
            "max": 1,
            "_view_module": "@jupyter-widgets/controls",
            "_model_module_version": "1.5.0",
            "value": 1,
            "_view_count": null,
            "_view_module_version": "1.5.0",
            "orientation": "horizontal",
            "min": 0,
            "description_tooltip": null,
            "_model_module": "@jupyter-widgets/controls",
            "layout": "IPY_MODEL_f0017574ff8842ae9ac2f80f0ab72220"
          }
        },
        "49634a81874d40cfb07214560f9434de": {
          "model_module": "@jupyter-widgets/controls",
          "model_name": "HTMLModel",
          "state": {
            "_view_name": "HTMLView",
            "style": "IPY_MODEL_a1d2906157264ef9b12d6f01a226018c",
            "_dom_classes": [],
            "description": "",
            "_model_name": "HTMLModel",
            "placeholder": "​",
            "_view_module": "@jupyter-widgets/controls",
            "_model_module_version": "1.5.0",
            "value": " 470/0 [00:00&lt;00:00, 7236.97 examples/s]",
            "_view_count": null,
            "_view_module_version": "1.5.0",
            "description_tooltip": null,
            "_model_module": "@jupyter-widgets/controls",
            "layout": "IPY_MODEL_cdcdc36b5cc344d0b0696a182944a3b0"
          }
        },
        "fa48caf9024444bd9ec91d768e989fb6": {
          "model_module": "@jupyter-widgets/controls",
          "model_name": "ProgressStyleModel",
          "state": {
            "_view_name": "StyleView",
            "_model_name": "ProgressStyleModel",
            "description_width": "initial",
            "_view_module": "@jupyter-widgets/base",
            "_model_module_version": "1.5.0",
            "_view_count": null,
            "_view_module_version": "1.2.0",
            "bar_color": null,
            "_model_module": "@jupyter-widgets/controls"
          }
        },
        "f0017574ff8842ae9ac2f80f0ab72220": {
          "model_module": "@jupyter-widgets/base",
          "model_name": "LayoutModel",
          "state": {
            "_view_name": "LayoutView",
            "grid_template_rows": null,
            "right": null,
            "justify_content": null,
            "_view_module": "@jupyter-widgets/base",
            "overflow": null,
            "_model_module_version": "1.2.0",
            "_view_count": null,
            "flex_flow": null,
            "width": null,
            "min_width": null,
            "border": null,
            "align_items": null,
            "bottom": null,
            "_model_module": "@jupyter-widgets/base",
            "top": null,
            "grid_column": null,
            "overflow_y": null,
            "overflow_x": null,
            "grid_auto_flow": null,
            "grid_area": null,
            "grid_template_columns": null,
            "flex": null,
            "_model_name": "LayoutModel",
            "justify_items": null,
            "grid_row": null,
            "max_height": null,
            "align_content": null,
            "visibility": null,
            "align_self": null,
            "height": null,
            "min_height": null,
            "padding": null,
            "grid_auto_rows": null,
            "grid_gap": null,
            "max_width": null,
            "order": null,
            "_view_module_version": "1.2.0",
            "grid_template_areas": null,
            "object_position": null,
            "object_fit": null,
            "grid_auto_columns": null,
            "margin": null,
            "display": null,
            "left": null
          }
        },
        "a1d2906157264ef9b12d6f01a226018c": {
          "model_module": "@jupyter-widgets/controls",
          "model_name": "DescriptionStyleModel",
          "state": {
            "_view_name": "StyleView",
            "_model_name": "DescriptionStyleModel",
            "description_width": "",
            "_view_module": "@jupyter-widgets/base",
            "_model_module_version": "1.5.0",
            "_view_count": null,
            "_view_module_version": "1.2.0",
            "_model_module": "@jupyter-widgets/controls"
          }
        },
        "cdcdc36b5cc344d0b0696a182944a3b0": {
          "model_module": "@jupyter-widgets/base",
          "model_name": "LayoutModel",
          "state": {
            "_view_name": "LayoutView",
            "grid_template_rows": null,
            "right": null,
            "justify_content": null,
            "_view_module": "@jupyter-widgets/base",
            "overflow": null,
            "_model_module_version": "1.2.0",
            "_view_count": null,
            "flex_flow": null,
            "width": null,
            "min_width": null,
            "border": null,
            "align_items": null,
            "bottom": null,
            "_model_module": "@jupyter-widgets/base",
            "top": null,
            "grid_column": null,
            "overflow_y": null,
            "overflow_x": null,
            "grid_auto_flow": null,
            "grid_area": null,
            "grid_template_columns": null,
            "flex": null,
            "_model_name": "LayoutModel",
            "justify_items": null,
            "grid_row": null,
            "max_height": null,
            "align_content": null,
            "visibility": null,
            "align_self": null,
            "height": null,
            "min_height": null,
            "padding": null,
            "grid_auto_rows": null,
            "grid_gap": null,
            "max_width": null,
            "order": null,
            "_view_module_version": "1.2.0",
            "grid_template_areas": null,
            "object_position": null,
            "object_fit": null,
            "grid_auto_columns": null,
            "margin": null,
            "display": null,
            "left": null
          }
        },
        "6ec4c28e708d4c429dd20bb8027bfbbd": {
          "model_module": "@jupyter-widgets/controls",
          "model_name": "HBoxModel",
          "state": {
            "_view_name": "HBoxView",
            "_dom_classes": [],
            "_model_name": "HBoxModel",
            "_view_module": "@jupyter-widgets/controls",
            "_model_module_version": "1.5.0",
            "_view_count": null,
            "_view_module_version": "1.5.0",
            "box_style": "",
            "layout": "IPY_MODEL_1fea38d5886f498a862e98d993f78a1e",
            "_model_module": "@jupyter-widgets/controls",
            "children": [
              "IPY_MODEL_2f2256f267f54242859783ba018f8234",
              "IPY_MODEL_180aa24a6c124921b2edcc4f8a5c7145"
            ]
          }
        },
        "1fea38d5886f498a862e98d993f78a1e": {
          "model_module": "@jupyter-widgets/base",
          "model_name": "LayoutModel",
          "state": {
            "_view_name": "LayoutView",
            "grid_template_rows": null,
            "right": null,
            "justify_content": null,
            "_view_module": "@jupyter-widgets/base",
            "overflow": null,
            "_model_module_version": "1.2.0",
            "_view_count": null,
            "flex_flow": null,
            "width": null,
            "min_width": null,
            "border": null,
            "align_items": null,
            "bottom": null,
            "_model_module": "@jupyter-widgets/base",
            "top": null,
            "grid_column": null,
            "overflow_y": null,
            "overflow_x": null,
            "grid_auto_flow": null,
            "grid_area": null,
            "grid_template_columns": null,
            "flex": null,
            "_model_name": "LayoutModel",
            "justify_items": null,
            "grid_row": null,
            "max_height": null,
            "align_content": null,
            "visibility": null,
            "align_self": null,
            "height": null,
            "min_height": null,
            "padding": null,
            "grid_auto_rows": null,
            "grid_gap": null,
            "max_width": null,
            "order": null,
            "_view_module_version": "1.2.0",
            "grid_template_areas": null,
            "object_position": null,
            "object_fit": null,
            "grid_auto_columns": null,
            "margin": null,
            "display": null,
            "left": null
          }
        },
        "2f2256f267f54242859783ba018f8234": {
          "model_module": "@jupyter-widgets/controls",
          "model_name": "FloatProgressModel",
          "state": {
            "_view_name": "ProgressView",
            "style": "IPY_MODEL_a440fbb5d49c40b7a7f7698cdecadeb7",
            "_dom_classes": [],
            "description": "100%",
            "_model_name": "FloatProgressModel",
            "bar_style": "success",
            "max": 3965,
            "_view_module": "@jupyter-widgets/controls",
            "_model_module_version": "1.5.0",
            "value": 3965,
            "_view_count": null,
            "_view_module_version": "1.5.0",
            "orientation": "horizontal",
            "min": 0,
            "description_tooltip": null,
            "_model_module": "@jupyter-widgets/controls",
            "layout": "IPY_MODEL_06f27dc814ed488891090b1fbebe7222"
          }
        },
        "180aa24a6c124921b2edcc4f8a5c7145": {
          "model_module": "@jupyter-widgets/controls",
          "model_name": "HTMLModel",
          "state": {
            "_view_name": "HTMLView",
            "style": "IPY_MODEL_fe52be877e1a431b8a497cfefcb89a25",
            "_dom_classes": [],
            "description": "",
            "_model_name": "HTMLModel",
            "placeholder": "​",
            "_view_module": "@jupyter-widgets/controls",
            "_model_module_version": "1.5.0",
            "value": " 3965/3965 [00:40&lt;00:00, 97.86ex/s]",
            "_view_count": null,
            "_view_module_version": "1.5.0",
            "description_tooltip": null,
            "_model_module": "@jupyter-widgets/controls",
            "layout": "IPY_MODEL_eb23309d0447485abf4a4e847fbaed56"
          }
        },
        "a440fbb5d49c40b7a7f7698cdecadeb7": {
          "model_module": "@jupyter-widgets/controls",
          "model_name": "ProgressStyleModel",
          "state": {
            "_view_name": "StyleView",
            "_model_name": "ProgressStyleModel",
            "description_width": "initial",
            "_view_module": "@jupyter-widgets/base",
            "_model_module_version": "1.5.0",
            "_view_count": null,
            "_view_module_version": "1.2.0",
            "bar_color": null,
            "_model_module": "@jupyter-widgets/controls"
          }
        },
        "06f27dc814ed488891090b1fbebe7222": {
          "model_module": "@jupyter-widgets/base",
          "model_name": "LayoutModel",
          "state": {
            "_view_name": "LayoutView",
            "grid_template_rows": null,
            "right": null,
            "justify_content": null,
            "_view_module": "@jupyter-widgets/base",
            "overflow": null,
            "_model_module_version": "1.2.0",
            "_view_count": null,
            "flex_flow": null,
            "width": null,
            "min_width": null,
            "border": null,
            "align_items": null,
            "bottom": null,
            "_model_module": "@jupyter-widgets/base",
            "top": null,
            "grid_column": null,
            "overflow_y": null,
            "overflow_x": null,
            "grid_auto_flow": null,
            "grid_area": null,
            "grid_template_columns": null,
            "flex": null,
            "_model_name": "LayoutModel",
            "justify_items": null,
            "grid_row": null,
            "max_height": null,
            "align_content": null,
            "visibility": null,
            "align_self": null,
            "height": null,
            "min_height": null,
            "padding": null,
            "grid_auto_rows": null,
            "grid_gap": null,
            "max_width": null,
            "order": null,
            "_view_module_version": "1.2.0",
            "grid_template_areas": null,
            "object_position": null,
            "object_fit": null,
            "grid_auto_columns": null,
            "margin": null,
            "display": null,
            "left": null
          }
        },
        "fe52be877e1a431b8a497cfefcb89a25": {
          "model_module": "@jupyter-widgets/controls",
          "model_name": "DescriptionStyleModel",
          "state": {
            "_view_name": "StyleView",
            "_model_name": "DescriptionStyleModel",
            "description_width": "",
            "_view_module": "@jupyter-widgets/base",
            "_model_module_version": "1.5.0",
            "_view_count": null,
            "_view_module_version": "1.2.0",
            "_model_module": "@jupyter-widgets/controls"
          }
        },
        "eb23309d0447485abf4a4e847fbaed56": {
          "model_module": "@jupyter-widgets/base",
          "model_name": "LayoutModel",
          "state": {
            "_view_name": "LayoutView",
            "grid_template_rows": null,
            "right": null,
            "justify_content": null,
            "_view_module": "@jupyter-widgets/base",
            "overflow": null,
            "_model_module_version": "1.2.0",
            "_view_count": null,
            "flex_flow": null,
            "width": null,
            "min_width": null,
            "border": null,
            "align_items": null,
            "bottom": null,
            "_model_module": "@jupyter-widgets/base",
            "top": null,
            "grid_column": null,
            "overflow_y": null,
            "overflow_x": null,
            "grid_auto_flow": null,
            "grid_area": null,
            "grid_template_columns": null,
            "flex": null,
            "_model_name": "LayoutModel",
            "justify_items": null,
            "grid_row": null,
            "max_height": null,
            "align_content": null,
            "visibility": null,
            "align_self": null,
            "height": null,
            "min_height": null,
            "padding": null,
            "grid_auto_rows": null,
            "grid_gap": null,
            "max_width": null,
            "order": null,
            "_view_module_version": "1.2.0",
            "grid_template_areas": null,
            "object_position": null,
            "object_fit": null,
            "grid_auto_columns": null,
            "margin": null,
            "display": null,
            "left": null
          }
        },
        "e1bc7652dcd84d5e90079413d4f87a62": {
          "model_module": "@jupyter-widgets/controls",
          "model_name": "HBoxModel",
          "state": {
            "_view_name": "HBoxView",
            "_dom_classes": [],
            "_model_name": "HBoxModel",
            "_view_module": "@jupyter-widgets/controls",
            "_model_module_version": "1.5.0",
            "_view_count": null,
            "_view_module_version": "1.5.0",
            "box_style": "",
            "layout": "IPY_MODEL_fadfa6368fb74a038372165f1ec1d3d7",
            "_model_module": "@jupyter-widgets/controls",
            "children": [
              "IPY_MODEL_a1b894f6f76441d3baba01f1ba1d1ad8",
              "IPY_MODEL_e132fb223a284aeb81ec07973c824c37"
            ]
          }
        },
        "fadfa6368fb74a038372165f1ec1d3d7": {
          "model_module": "@jupyter-widgets/base",
          "model_name": "LayoutModel",
          "state": {
            "_view_name": "LayoutView",
            "grid_template_rows": null,
            "right": null,
            "justify_content": null,
            "_view_module": "@jupyter-widgets/base",
            "overflow": null,
            "_model_module_version": "1.2.0",
            "_view_count": null,
            "flex_flow": null,
            "width": null,
            "min_width": null,
            "border": null,
            "align_items": null,
            "bottom": null,
            "_model_module": "@jupyter-widgets/base",
            "top": null,
            "grid_column": null,
            "overflow_y": null,
            "overflow_x": null,
            "grid_auto_flow": null,
            "grid_area": null,
            "grid_template_columns": null,
            "flex": null,
            "_model_name": "LayoutModel",
            "justify_items": null,
            "grid_row": null,
            "max_height": null,
            "align_content": null,
            "visibility": null,
            "align_self": null,
            "height": null,
            "min_height": null,
            "padding": null,
            "grid_auto_rows": null,
            "grid_gap": null,
            "max_width": null,
            "order": null,
            "_view_module_version": "1.2.0",
            "grid_template_areas": null,
            "object_position": null,
            "object_fit": null,
            "grid_auto_columns": null,
            "margin": null,
            "display": null,
            "left": null
          }
        },
        "a1b894f6f76441d3baba01f1ba1d1ad8": {
          "model_module": "@jupyter-widgets/controls",
          "model_name": "FloatProgressModel",
          "state": {
            "_view_name": "ProgressView",
            "style": "IPY_MODEL_883a531d0427407c9219444bbb91129b",
            "_dom_classes": [],
            "description": "100%",
            "_model_name": "FloatProgressModel",
            "bar_style": "success",
            "max": 1844,
            "_view_module": "@jupyter-widgets/controls",
            "_model_module_version": "1.5.0",
            "value": 1844,
            "_view_count": null,
            "_view_module_version": "1.5.0",
            "orientation": "horizontal",
            "min": 0,
            "description_tooltip": null,
            "_model_module": "@jupyter-widgets/controls",
            "layout": "IPY_MODEL_e6b6b9ec143743348814cd41ac97fbf2"
          }
        },
        "e132fb223a284aeb81ec07973c824c37": {
          "model_module": "@jupyter-widgets/controls",
          "model_name": "HTMLModel",
          "state": {
            "_view_name": "HTMLView",
            "style": "IPY_MODEL_76d5617d413a4c5ab371594f1b35756c",
            "_dom_classes": [],
            "description": "",
            "_model_name": "HTMLModel",
            "placeholder": "​",
            "_view_module": "@jupyter-widgets/controls",
            "_model_module_version": "1.5.0",
            "value": " 1844/1844 [00:40&lt;00:00, 45.82ex/s]",
            "_view_count": null,
            "_view_module_version": "1.5.0",
            "description_tooltip": null,
            "_model_module": "@jupyter-widgets/controls",
            "layout": "IPY_MODEL_2f8abc1a668645d493fb26674c72e409"
          }
        },
        "883a531d0427407c9219444bbb91129b": {
          "model_module": "@jupyter-widgets/controls",
          "model_name": "ProgressStyleModel",
          "state": {
            "_view_name": "StyleView",
            "_model_name": "ProgressStyleModel",
            "description_width": "initial",
            "_view_module": "@jupyter-widgets/base",
            "_model_module_version": "1.5.0",
            "_view_count": null,
            "_view_module_version": "1.2.0",
            "bar_color": null,
            "_model_module": "@jupyter-widgets/controls"
          }
        },
        "e6b6b9ec143743348814cd41ac97fbf2": {
          "model_module": "@jupyter-widgets/base",
          "model_name": "LayoutModel",
          "state": {
            "_view_name": "LayoutView",
            "grid_template_rows": null,
            "right": null,
            "justify_content": null,
            "_view_module": "@jupyter-widgets/base",
            "overflow": null,
            "_model_module_version": "1.2.0",
            "_view_count": null,
            "flex_flow": null,
            "width": null,
            "min_width": null,
            "border": null,
            "align_items": null,
            "bottom": null,
            "_model_module": "@jupyter-widgets/base",
            "top": null,
            "grid_column": null,
            "overflow_y": null,
            "overflow_x": null,
            "grid_auto_flow": null,
            "grid_area": null,
            "grid_template_columns": null,
            "flex": null,
            "_model_name": "LayoutModel",
            "justify_items": null,
            "grid_row": null,
            "max_height": null,
            "align_content": null,
            "visibility": null,
            "align_self": null,
            "height": null,
            "min_height": null,
            "padding": null,
            "grid_auto_rows": null,
            "grid_gap": null,
            "max_width": null,
            "order": null,
            "_view_module_version": "1.2.0",
            "grid_template_areas": null,
            "object_position": null,
            "object_fit": null,
            "grid_auto_columns": null,
            "margin": null,
            "display": null,
            "left": null
          }
        },
        "76d5617d413a4c5ab371594f1b35756c": {
          "model_module": "@jupyter-widgets/controls",
          "model_name": "DescriptionStyleModel",
          "state": {
            "_view_name": "StyleView",
            "_model_name": "DescriptionStyleModel",
            "description_width": "",
            "_view_module": "@jupyter-widgets/base",
            "_model_module_version": "1.5.0",
            "_view_count": null,
            "_view_module_version": "1.2.0",
            "_model_module": "@jupyter-widgets/controls"
          }
        },
        "2f8abc1a668645d493fb26674c72e409": {
          "model_module": "@jupyter-widgets/base",
          "model_name": "LayoutModel",
          "state": {
            "_view_name": "LayoutView",
            "grid_template_rows": null,
            "right": null,
            "justify_content": null,
            "_view_module": "@jupyter-widgets/base",
            "overflow": null,
            "_model_module_version": "1.2.0",
            "_view_count": null,
            "flex_flow": null,
            "width": null,
            "min_width": null,
            "border": null,
            "align_items": null,
            "bottom": null,
            "_model_module": "@jupyter-widgets/base",
            "top": null,
            "grid_column": null,
            "overflow_y": null,
            "overflow_x": null,
            "grid_auto_flow": null,
            "grid_area": null,
            "grid_template_columns": null,
            "flex": null,
            "_model_name": "LayoutModel",
            "justify_items": null,
            "grid_row": null,
            "max_height": null,
            "align_content": null,
            "visibility": null,
            "align_self": null,
            "height": null,
            "min_height": null,
            "padding": null,
            "grid_auto_rows": null,
            "grid_gap": null,
            "max_width": null,
            "order": null,
            "_view_module_version": "1.2.0",
            "grid_template_areas": null,
            "object_position": null,
            "object_fit": null,
            "grid_auto_columns": null,
            "margin": null,
            "display": null,
            "left": null
          }
        },
        "b57f4fd1390a431f8816822c81a40bd2": {
          "model_module": "@jupyter-widgets/controls",
          "model_name": "HBoxModel",
          "state": {
            "_view_name": "HBoxView",
            "_dom_classes": [],
            "_model_name": "HBoxModel",
            "_view_module": "@jupyter-widgets/controls",
            "_model_module_version": "1.5.0",
            "_view_count": null,
            "_view_module_version": "1.5.0",
            "box_style": "",
            "layout": "IPY_MODEL_02fea0b7629344159102dc6fdb071ee0",
            "_model_module": "@jupyter-widgets/controls",
            "children": [
              "IPY_MODEL_9471a514984248c4928169ec2c77b6e0",
              "IPY_MODEL_cc87ce46146049fea4237da9d2c66841"
            ]
          }
        },
        "02fea0b7629344159102dc6fdb071ee0": {
          "model_module": "@jupyter-widgets/base",
          "model_name": "LayoutModel",
          "state": {
            "_view_name": "LayoutView",
            "grid_template_rows": null,
            "right": null,
            "justify_content": null,
            "_view_module": "@jupyter-widgets/base",
            "overflow": null,
            "_model_module_version": "1.2.0",
            "_view_count": null,
            "flex_flow": null,
            "width": null,
            "min_width": null,
            "border": null,
            "align_items": null,
            "bottom": null,
            "_model_module": "@jupyter-widgets/base",
            "top": null,
            "grid_column": null,
            "overflow_y": null,
            "overflow_x": null,
            "grid_auto_flow": null,
            "grid_area": null,
            "grid_template_columns": null,
            "flex": null,
            "_model_name": "LayoutModel",
            "justify_items": null,
            "grid_row": null,
            "max_height": null,
            "align_content": null,
            "visibility": null,
            "align_self": null,
            "height": null,
            "min_height": null,
            "padding": null,
            "grid_auto_rows": null,
            "grid_gap": null,
            "max_width": null,
            "order": null,
            "_view_module_version": "1.2.0",
            "grid_template_areas": null,
            "object_position": null,
            "object_fit": null,
            "grid_auto_columns": null,
            "margin": null,
            "display": null,
            "left": null
          }
        },
        "9471a514984248c4928169ec2c77b6e0": {
          "model_module": "@jupyter-widgets/controls",
          "model_name": "FloatProgressModel",
          "state": {
            "_view_name": "ProgressView",
            "style": "IPY_MODEL_5a3a6211585f4391b4c954230ac5c64e",
            "_dom_classes": [],
            "description": "100%",
            "_model_name": "FloatProgressModel",
            "bar_style": "success",
            "max": 1,
            "_view_module": "@jupyter-widgets/controls",
            "_model_module_version": "1.5.0",
            "value": 1,
            "_view_count": null,
            "_view_module_version": "1.5.0",
            "orientation": "horizontal",
            "min": 0,
            "description_tooltip": null,
            "_model_module": "@jupyter-widgets/controls",
            "layout": "IPY_MODEL_4eba1988a45d40418b415c0524a7f264"
          }
        },
        "cc87ce46146049fea4237da9d2c66841": {
          "model_module": "@jupyter-widgets/controls",
          "model_name": "HTMLModel",
          "state": {
            "_view_name": "HTMLView",
            "style": "IPY_MODEL_ea5934a3bd9644e995571b3d3d84408c",
            "_dom_classes": [],
            "description": "",
            "_model_name": "HTMLModel",
            "placeholder": "​",
            "_view_module": "@jupyter-widgets/controls",
            "_model_module_version": "1.5.0",
            "value": " 1/1 [00:00&lt;00:00, 17.07ba/s]",
            "_view_count": null,
            "_view_module_version": "1.5.0",
            "description_tooltip": null,
            "_model_module": "@jupyter-widgets/controls",
            "layout": "IPY_MODEL_e0eb36f1ad764eb398ecbce07ea544f3"
          }
        },
        "5a3a6211585f4391b4c954230ac5c64e": {
          "model_module": "@jupyter-widgets/controls",
          "model_name": "ProgressStyleModel",
          "state": {
            "_view_name": "StyleView",
            "_model_name": "ProgressStyleModel",
            "description_width": "initial",
            "_view_module": "@jupyter-widgets/base",
            "_model_module_version": "1.5.0",
            "_view_count": null,
            "_view_module_version": "1.2.0",
            "bar_color": null,
            "_model_module": "@jupyter-widgets/controls"
          }
        },
        "4eba1988a45d40418b415c0524a7f264": {
          "model_module": "@jupyter-widgets/base",
          "model_name": "LayoutModel",
          "state": {
            "_view_name": "LayoutView",
            "grid_template_rows": null,
            "right": null,
            "justify_content": null,
            "_view_module": "@jupyter-widgets/base",
            "overflow": null,
            "_model_module_version": "1.2.0",
            "_view_count": null,
            "flex_flow": null,
            "width": null,
            "min_width": null,
            "border": null,
            "align_items": null,
            "bottom": null,
            "_model_module": "@jupyter-widgets/base",
            "top": null,
            "grid_column": null,
            "overflow_y": null,
            "overflow_x": null,
            "grid_auto_flow": null,
            "grid_area": null,
            "grid_template_columns": null,
            "flex": null,
            "_model_name": "LayoutModel",
            "justify_items": null,
            "grid_row": null,
            "max_height": null,
            "align_content": null,
            "visibility": null,
            "align_self": null,
            "height": null,
            "min_height": null,
            "padding": null,
            "grid_auto_rows": null,
            "grid_gap": null,
            "max_width": null,
            "order": null,
            "_view_module_version": "1.2.0",
            "grid_template_areas": null,
            "object_position": null,
            "object_fit": null,
            "grid_auto_columns": null,
            "margin": null,
            "display": null,
            "left": null
          }
        },
        "ea5934a3bd9644e995571b3d3d84408c": {
          "model_module": "@jupyter-widgets/controls",
          "model_name": "DescriptionStyleModel",
          "state": {
            "_view_name": "StyleView",
            "_model_name": "DescriptionStyleModel",
            "description_width": "",
            "_view_module": "@jupyter-widgets/base",
            "_model_module_version": "1.5.0",
            "_view_count": null,
            "_view_module_version": "1.2.0",
            "_model_module": "@jupyter-widgets/controls"
          }
        },
        "e0eb36f1ad764eb398ecbce07ea544f3": {
          "model_module": "@jupyter-widgets/base",
          "model_name": "LayoutModel",
          "state": {
            "_view_name": "LayoutView",
            "grid_template_rows": null,
            "right": null,
            "justify_content": null,
            "_view_module": "@jupyter-widgets/base",
            "overflow": null,
            "_model_module_version": "1.2.0",
            "_view_count": null,
            "flex_flow": null,
            "width": null,
            "min_width": null,
            "border": null,
            "align_items": null,
            "bottom": null,
            "_model_module": "@jupyter-widgets/base",
            "top": null,
            "grid_column": null,
            "overflow_y": null,
            "overflow_x": null,
            "grid_auto_flow": null,
            "grid_area": null,
            "grid_template_columns": null,
            "flex": null,
            "_model_name": "LayoutModel",
            "justify_items": null,
            "grid_row": null,
            "max_height": null,
            "align_content": null,
            "visibility": null,
            "align_self": null,
            "height": null,
            "min_height": null,
            "padding": null,
            "grid_auto_rows": null,
            "grid_gap": null,
            "max_width": null,
            "order": null,
            "_view_module_version": "1.2.0",
            "grid_template_areas": null,
            "object_position": null,
            "object_fit": null,
            "grid_auto_columns": null,
            "margin": null,
            "display": null,
            "left": null
          }
        },
        "7b14464ef42942a7aa0832db8603751f": {
          "model_module": "@jupyter-widgets/controls",
          "model_name": "HBoxModel",
          "state": {
            "_view_name": "HBoxView",
            "_dom_classes": [],
            "_model_name": "HBoxModel",
            "_view_module": "@jupyter-widgets/controls",
            "_model_module_version": "1.5.0",
            "_view_count": null,
            "_view_module_version": "1.5.0",
            "box_style": "",
            "layout": "IPY_MODEL_03cafa6c2e75433cbf95611fffba0f73",
            "_model_module": "@jupyter-widgets/controls",
            "children": [
              "IPY_MODEL_7760f7bc193441e68c03a1905dce9545",
              "IPY_MODEL_bf5b029fe99d48dba02b987904316377"
            ]
          }
        },
        "03cafa6c2e75433cbf95611fffba0f73": {
          "model_module": "@jupyter-widgets/base",
          "model_name": "LayoutModel",
          "state": {
            "_view_name": "LayoutView",
            "grid_template_rows": null,
            "right": null,
            "justify_content": null,
            "_view_module": "@jupyter-widgets/base",
            "overflow": null,
            "_model_module_version": "1.2.0",
            "_view_count": null,
            "flex_flow": null,
            "width": null,
            "min_width": null,
            "border": null,
            "align_items": null,
            "bottom": null,
            "_model_module": "@jupyter-widgets/base",
            "top": null,
            "grid_column": null,
            "overflow_y": null,
            "overflow_x": null,
            "grid_auto_flow": null,
            "grid_area": null,
            "grid_template_columns": null,
            "flex": null,
            "_model_name": "LayoutModel",
            "justify_items": null,
            "grid_row": null,
            "max_height": null,
            "align_content": null,
            "visibility": null,
            "align_self": null,
            "height": null,
            "min_height": null,
            "padding": null,
            "grid_auto_rows": null,
            "grid_gap": null,
            "max_width": null,
            "order": null,
            "_view_module_version": "1.2.0",
            "grid_template_areas": null,
            "object_position": null,
            "object_fit": null,
            "grid_auto_columns": null,
            "margin": null,
            "display": null,
            "left": null
          }
        },
        "7760f7bc193441e68c03a1905dce9545": {
          "model_module": "@jupyter-widgets/controls",
          "model_name": "FloatProgressModel",
          "state": {
            "_view_name": "ProgressView",
            "style": "IPY_MODEL_bd8749a1763c4da48e99686f8e4f3f9d",
            "_dom_classes": [],
            "description": "100%",
            "_model_name": "FloatProgressModel",
            "bar_style": "success",
            "max": 1,
            "_view_module": "@jupyter-widgets/controls",
            "_model_module_version": "1.5.0",
            "value": 1,
            "_view_count": null,
            "_view_module_version": "1.5.0",
            "orientation": "horizontal",
            "min": 0,
            "description_tooltip": null,
            "_model_module": "@jupyter-widgets/controls",
            "layout": "IPY_MODEL_a3bc1029050640fba1d46d197be75b29"
          }
        },
        "bf5b029fe99d48dba02b987904316377": {
          "model_module": "@jupyter-widgets/controls",
          "model_name": "HTMLModel",
          "state": {
            "_view_name": "HTMLView",
            "style": "IPY_MODEL_dc85fa4e0c3d4b8389abfd3cace717df",
            "_dom_classes": [],
            "description": "",
            "_model_name": "HTMLModel",
            "placeholder": "​",
            "_view_module": "@jupyter-widgets/controls",
            "_model_module_version": "1.5.0",
            "value": " 1/1 [01:06&lt;00:00, 66.23s/ba]",
            "_view_count": null,
            "_view_module_version": "1.5.0",
            "description_tooltip": null,
            "_model_module": "@jupyter-widgets/controls",
            "layout": "IPY_MODEL_bc3c659063a6469e9360d5d31fb3e2fc"
          }
        },
        "bd8749a1763c4da48e99686f8e4f3f9d": {
          "model_module": "@jupyter-widgets/controls",
          "model_name": "ProgressStyleModel",
          "state": {
            "_view_name": "StyleView",
            "_model_name": "ProgressStyleModel",
            "description_width": "initial",
            "_view_module": "@jupyter-widgets/base",
            "_model_module_version": "1.5.0",
            "_view_count": null,
            "_view_module_version": "1.2.0",
            "bar_color": null,
            "_model_module": "@jupyter-widgets/controls"
          }
        },
        "a3bc1029050640fba1d46d197be75b29": {
          "model_module": "@jupyter-widgets/base",
          "model_name": "LayoutModel",
          "state": {
            "_view_name": "LayoutView",
            "grid_template_rows": null,
            "right": null,
            "justify_content": null,
            "_view_module": "@jupyter-widgets/base",
            "overflow": null,
            "_model_module_version": "1.2.0",
            "_view_count": null,
            "flex_flow": null,
            "width": null,
            "min_width": null,
            "border": null,
            "align_items": null,
            "bottom": null,
            "_model_module": "@jupyter-widgets/base",
            "top": null,
            "grid_column": null,
            "overflow_y": null,
            "overflow_x": null,
            "grid_auto_flow": null,
            "grid_area": null,
            "grid_template_columns": null,
            "flex": null,
            "_model_name": "LayoutModel",
            "justify_items": null,
            "grid_row": null,
            "max_height": null,
            "align_content": null,
            "visibility": null,
            "align_self": null,
            "height": null,
            "min_height": null,
            "padding": null,
            "grid_auto_rows": null,
            "grid_gap": null,
            "max_width": null,
            "order": null,
            "_view_module_version": "1.2.0",
            "grid_template_areas": null,
            "object_position": null,
            "object_fit": null,
            "grid_auto_columns": null,
            "margin": null,
            "display": null,
            "left": null
          }
        },
        "dc85fa4e0c3d4b8389abfd3cace717df": {
          "model_module": "@jupyter-widgets/controls",
          "model_name": "DescriptionStyleModel",
          "state": {
            "_view_name": "StyleView",
            "_model_name": "DescriptionStyleModel",
            "description_width": "",
            "_view_module": "@jupyter-widgets/base",
            "_model_module_version": "1.5.0",
            "_view_count": null,
            "_view_module_version": "1.2.0",
            "_model_module": "@jupyter-widgets/controls"
          }
        },
        "bc3c659063a6469e9360d5d31fb3e2fc": {
          "model_module": "@jupyter-widgets/base",
          "model_name": "LayoutModel",
          "state": {
            "_view_name": "LayoutView",
            "grid_template_rows": null,
            "right": null,
            "justify_content": null,
            "_view_module": "@jupyter-widgets/base",
            "overflow": null,
            "_model_module_version": "1.2.0",
            "_view_count": null,
            "flex_flow": null,
            "width": null,
            "min_width": null,
            "border": null,
            "align_items": null,
            "bottom": null,
            "_model_module": "@jupyter-widgets/base",
            "top": null,
            "grid_column": null,
            "overflow_y": null,
            "overflow_x": null,
            "grid_auto_flow": null,
            "grid_area": null,
            "grid_template_columns": null,
            "flex": null,
            "_model_name": "LayoutModel",
            "justify_items": null,
            "grid_row": null,
            "max_height": null,
            "align_content": null,
            "visibility": null,
            "align_self": null,
            "height": null,
            "min_height": null,
            "padding": null,
            "grid_auto_rows": null,
            "grid_gap": null,
            "max_width": null,
            "order": null,
            "_view_module_version": "1.2.0",
            "grid_template_areas": null,
            "object_position": null,
            "object_fit": null,
            "grid_auto_columns": null,
            "margin": null,
            "display": null,
            "left": null
          }
        },
        "64ffdf8ac23b46d887917d788a9882b2": {
          "model_module": "@jupyter-widgets/controls",
          "model_name": "HBoxModel",
          "state": {
            "_view_name": "HBoxView",
            "_dom_classes": [],
            "_model_name": "HBoxModel",
            "_view_module": "@jupyter-widgets/controls",
            "_model_module_version": "1.5.0",
            "_view_count": null,
            "_view_module_version": "1.5.0",
            "box_style": "",
            "layout": "IPY_MODEL_8617f40db2ed4fe89f4ad8dc9bffa055",
            "_model_module": "@jupyter-widgets/controls",
            "children": [
              "IPY_MODEL_0fa732132e6a446b92fa81e8dde195b0",
              "IPY_MODEL_2605b2fe527e42aa812dcc34dc886cc6"
            ]
          }
        },
        "8617f40db2ed4fe89f4ad8dc9bffa055": {
          "model_module": "@jupyter-widgets/base",
          "model_name": "LayoutModel",
          "state": {
            "_view_name": "LayoutView",
            "grid_template_rows": null,
            "right": null,
            "justify_content": null,
            "_view_module": "@jupyter-widgets/base",
            "overflow": null,
            "_model_module_version": "1.2.0",
            "_view_count": null,
            "flex_flow": null,
            "width": null,
            "min_width": null,
            "border": null,
            "align_items": null,
            "bottom": null,
            "_model_module": "@jupyter-widgets/base",
            "top": null,
            "grid_column": null,
            "overflow_y": null,
            "overflow_x": null,
            "grid_auto_flow": null,
            "grid_area": null,
            "grid_template_columns": null,
            "flex": null,
            "_model_name": "LayoutModel",
            "justify_items": null,
            "grid_row": null,
            "max_height": null,
            "align_content": null,
            "visibility": null,
            "align_self": null,
            "height": null,
            "min_height": null,
            "padding": null,
            "grid_auto_rows": null,
            "grid_gap": null,
            "max_width": null,
            "order": null,
            "_view_module_version": "1.2.0",
            "grid_template_areas": null,
            "object_position": null,
            "object_fit": null,
            "grid_auto_columns": null,
            "margin": null,
            "display": null,
            "left": null
          }
        },
        "0fa732132e6a446b92fa81e8dde195b0": {
          "model_module": "@jupyter-widgets/controls",
          "model_name": "FloatProgressModel",
          "state": {
            "_view_name": "ProgressView",
            "style": "IPY_MODEL_3b8f89e0e01a42dea7c89ec73b2915b0",
            "_dom_classes": [],
            "description": "100%",
            "_model_name": "FloatProgressModel",
            "bar_style": "success",
            "max": 3965,
            "_view_module": "@jupyter-widgets/controls",
            "_model_module_version": "1.5.0",
            "value": 3965,
            "_view_count": null,
            "_view_module_version": "1.5.0",
            "orientation": "horizontal",
            "min": 0,
            "description_tooltip": null,
            "_model_module": "@jupyter-widgets/controls",
            "layout": "IPY_MODEL_01a66dc88e1143fc8266e9ecdd9c18f7"
          }
        },
        "2605b2fe527e42aa812dcc34dc886cc6": {
          "model_module": "@jupyter-widgets/controls",
          "model_name": "HTMLModel",
          "state": {
            "_view_name": "HTMLView",
            "style": "IPY_MODEL_70c81081c2f64c0ca80288124baceb5a",
            "_dom_classes": [],
            "description": "",
            "_model_name": "HTMLModel",
            "placeholder": "​",
            "_view_module": "@jupyter-widgets/controls",
            "_model_module_version": "1.5.0",
            "value": " 3965/3965 [01:48&lt;00:00, 36.48ex/s]",
            "_view_count": null,
            "_view_module_version": "1.5.0",
            "description_tooltip": null,
            "_model_module": "@jupyter-widgets/controls",
            "layout": "IPY_MODEL_bfc32c4531d2485da5f9795baf06fbfb"
          }
        },
        "3b8f89e0e01a42dea7c89ec73b2915b0": {
          "model_module": "@jupyter-widgets/controls",
          "model_name": "ProgressStyleModel",
          "state": {
            "_view_name": "StyleView",
            "_model_name": "ProgressStyleModel",
            "description_width": "initial",
            "_view_module": "@jupyter-widgets/base",
            "_model_module_version": "1.5.0",
            "_view_count": null,
            "_view_module_version": "1.2.0",
            "bar_color": null,
            "_model_module": "@jupyter-widgets/controls"
          }
        },
        "01a66dc88e1143fc8266e9ecdd9c18f7": {
          "model_module": "@jupyter-widgets/base",
          "model_name": "LayoutModel",
          "state": {
            "_view_name": "LayoutView",
            "grid_template_rows": null,
            "right": null,
            "justify_content": null,
            "_view_module": "@jupyter-widgets/base",
            "overflow": null,
            "_model_module_version": "1.2.0",
            "_view_count": null,
            "flex_flow": null,
            "width": null,
            "min_width": null,
            "border": null,
            "align_items": null,
            "bottom": null,
            "_model_module": "@jupyter-widgets/base",
            "top": null,
            "grid_column": null,
            "overflow_y": null,
            "overflow_x": null,
            "grid_auto_flow": null,
            "grid_area": null,
            "grid_template_columns": null,
            "flex": null,
            "_model_name": "LayoutModel",
            "justify_items": null,
            "grid_row": null,
            "max_height": null,
            "align_content": null,
            "visibility": null,
            "align_self": null,
            "height": null,
            "min_height": null,
            "padding": null,
            "grid_auto_rows": null,
            "grid_gap": null,
            "max_width": null,
            "order": null,
            "_view_module_version": "1.2.0",
            "grid_template_areas": null,
            "object_position": null,
            "object_fit": null,
            "grid_auto_columns": null,
            "margin": null,
            "display": null,
            "left": null
          }
        },
        "70c81081c2f64c0ca80288124baceb5a": {
          "model_module": "@jupyter-widgets/controls",
          "model_name": "DescriptionStyleModel",
          "state": {
            "_view_name": "StyleView",
            "_model_name": "DescriptionStyleModel",
            "description_width": "",
            "_view_module": "@jupyter-widgets/base",
            "_model_module_version": "1.5.0",
            "_view_count": null,
            "_view_module_version": "1.2.0",
            "_model_module": "@jupyter-widgets/controls"
          }
        },
        "bfc32c4531d2485da5f9795baf06fbfb": {
          "model_module": "@jupyter-widgets/base",
          "model_name": "LayoutModel",
          "state": {
            "_view_name": "LayoutView",
            "grid_template_rows": null,
            "right": null,
            "justify_content": null,
            "_view_module": "@jupyter-widgets/base",
            "overflow": null,
            "_model_module_version": "1.2.0",
            "_view_count": null,
            "flex_flow": null,
            "width": null,
            "min_width": null,
            "border": null,
            "align_items": null,
            "bottom": null,
            "_model_module": "@jupyter-widgets/base",
            "top": null,
            "grid_column": null,
            "overflow_y": null,
            "overflow_x": null,
            "grid_auto_flow": null,
            "grid_area": null,
            "grid_template_columns": null,
            "flex": null,
            "_model_name": "LayoutModel",
            "justify_items": null,
            "grid_row": null,
            "max_height": null,
            "align_content": null,
            "visibility": null,
            "align_self": null,
            "height": null,
            "min_height": null,
            "padding": null,
            "grid_auto_rows": null,
            "grid_gap": null,
            "max_width": null,
            "order": null,
            "_view_module_version": "1.2.0",
            "grid_template_areas": null,
            "object_position": null,
            "object_fit": null,
            "grid_auto_columns": null,
            "margin": null,
            "display": null,
            "left": null
          }
        },
        "ed61316a86924c45a7f44c83e30bc2b4": {
          "model_module": "@jupyter-widgets/controls",
          "model_name": "HBoxModel",
          "state": {
            "_view_name": "HBoxView",
            "_dom_classes": [],
            "_model_name": "HBoxModel",
            "_view_module": "@jupyter-widgets/controls",
            "_model_module_version": "1.5.0",
            "_view_count": null,
            "_view_module_version": "1.5.0",
            "box_style": "",
            "layout": "IPY_MODEL_28e6fab0bf3a4127a3bcab8fb8ccfe39",
            "_model_module": "@jupyter-widgets/controls",
            "children": [
              "IPY_MODEL_f5b9881aa9a44448b4f6714efd306d85",
              "IPY_MODEL_afae3b00bec841a390936f560e9200e0"
            ]
          }
        },
        "28e6fab0bf3a4127a3bcab8fb8ccfe39": {
          "model_module": "@jupyter-widgets/base",
          "model_name": "LayoutModel",
          "state": {
            "_view_name": "LayoutView",
            "grid_template_rows": null,
            "right": null,
            "justify_content": null,
            "_view_module": "@jupyter-widgets/base",
            "overflow": null,
            "_model_module_version": "1.2.0",
            "_view_count": null,
            "flex_flow": null,
            "width": null,
            "min_width": null,
            "border": null,
            "align_items": null,
            "bottom": null,
            "_model_module": "@jupyter-widgets/base",
            "top": null,
            "grid_column": null,
            "overflow_y": null,
            "overflow_x": null,
            "grid_auto_flow": null,
            "grid_area": null,
            "grid_template_columns": null,
            "flex": null,
            "_model_name": "LayoutModel",
            "justify_items": null,
            "grid_row": null,
            "max_height": null,
            "align_content": null,
            "visibility": null,
            "align_self": null,
            "height": null,
            "min_height": null,
            "padding": null,
            "grid_auto_rows": null,
            "grid_gap": null,
            "max_width": null,
            "order": null,
            "_view_module_version": "1.2.0",
            "grid_template_areas": null,
            "object_position": null,
            "object_fit": null,
            "grid_auto_columns": null,
            "margin": null,
            "display": null,
            "left": null
          }
        },
        "f5b9881aa9a44448b4f6714efd306d85": {
          "model_module": "@jupyter-widgets/controls",
          "model_name": "FloatProgressModel",
          "state": {
            "_view_name": "ProgressView",
            "style": "IPY_MODEL_ce4014b830c34c908afc0566aca234cc",
            "_dom_classes": [],
            "description": " 54%",
            "_model_name": "FloatProgressModel",
            "bar_style": "",
            "max": 1844,
            "_view_module": "@jupyter-widgets/controls",
            "_model_module_version": "1.5.0",
            "value": 996,
            "_view_count": null,
            "_view_module_version": "1.5.0",
            "orientation": "horizontal",
            "min": 0,
            "description_tooltip": null,
            "_model_module": "@jupyter-widgets/controls",
            "layout": "IPY_MODEL_6f1401ef40634a73af4d7b1bc52278d5"
          }
        },
        "afae3b00bec841a390936f560e9200e0": {
          "model_module": "@jupyter-widgets/controls",
          "model_name": "HTMLModel",
          "state": {
            "_view_name": "HTMLView",
            "style": "IPY_MODEL_9fd91cc814ed41b68ee3cb19597fe681",
            "_dom_classes": [],
            "description": "",
            "_model_name": "HTMLModel",
            "placeholder": "​",
            "_view_module": "@jupyter-widgets/controls",
            "_model_module_version": "1.5.0",
            "value": " 996/1844 [00:15&lt;00:12, 68.13ex/s]",
            "_view_count": null,
            "_view_module_version": "1.5.0",
            "description_tooltip": null,
            "_model_module": "@jupyter-widgets/controls",
            "layout": "IPY_MODEL_2ef68f0f0b544b6ca08575ff0493f1b5"
          }
        },
        "ce4014b830c34c908afc0566aca234cc": {
          "model_module": "@jupyter-widgets/controls",
          "model_name": "ProgressStyleModel",
          "state": {
            "_view_name": "StyleView",
            "_model_name": "ProgressStyleModel",
            "description_width": "initial",
            "_view_module": "@jupyter-widgets/base",
            "_model_module_version": "1.5.0",
            "_view_count": null,
            "_view_module_version": "1.2.0",
            "bar_color": null,
            "_model_module": "@jupyter-widgets/controls"
          }
        },
        "6f1401ef40634a73af4d7b1bc52278d5": {
          "model_module": "@jupyter-widgets/base",
          "model_name": "LayoutModel",
          "state": {
            "_view_name": "LayoutView",
            "grid_template_rows": null,
            "right": null,
            "justify_content": null,
            "_view_module": "@jupyter-widgets/base",
            "overflow": null,
            "_model_module_version": "1.2.0",
            "_view_count": null,
            "flex_flow": null,
            "width": null,
            "min_width": null,
            "border": null,
            "align_items": null,
            "bottom": null,
            "_model_module": "@jupyter-widgets/base",
            "top": null,
            "grid_column": null,
            "overflow_y": null,
            "overflow_x": null,
            "grid_auto_flow": null,
            "grid_area": null,
            "grid_template_columns": null,
            "flex": null,
            "_model_name": "LayoutModel",
            "justify_items": null,
            "grid_row": null,
            "max_height": null,
            "align_content": null,
            "visibility": null,
            "align_self": null,
            "height": null,
            "min_height": null,
            "padding": null,
            "grid_auto_rows": null,
            "grid_gap": null,
            "max_width": null,
            "order": null,
            "_view_module_version": "1.2.0",
            "grid_template_areas": null,
            "object_position": null,
            "object_fit": null,
            "grid_auto_columns": null,
            "margin": null,
            "display": null,
            "left": null
          }
        },
        "9fd91cc814ed41b68ee3cb19597fe681": {
          "model_module": "@jupyter-widgets/controls",
          "model_name": "DescriptionStyleModel",
          "state": {
            "_view_name": "StyleView",
            "_model_name": "DescriptionStyleModel",
            "description_width": "",
            "_view_module": "@jupyter-widgets/base",
            "_model_module_version": "1.5.0",
            "_view_count": null,
            "_view_module_version": "1.2.0",
            "_model_module": "@jupyter-widgets/controls"
          }
        },
        "2ef68f0f0b544b6ca08575ff0493f1b5": {
          "model_module": "@jupyter-widgets/base",
          "model_name": "LayoutModel",
          "state": {
            "_view_name": "LayoutView",
            "grid_template_rows": null,
            "right": null,
            "justify_content": null,
            "_view_module": "@jupyter-widgets/base",
            "overflow": null,
            "_model_module_version": "1.2.0",
            "_view_count": null,
            "flex_flow": null,
            "width": null,
            "min_width": null,
            "border": null,
            "align_items": null,
            "bottom": null,
            "_model_module": "@jupyter-widgets/base",
            "top": null,
            "grid_column": null,
            "overflow_y": null,
            "overflow_x": null,
            "grid_auto_flow": null,
            "grid_area": null,
            "grid_template_columns": null,
            "flex": null,
            "_model_name": "LayoutModel",
            "justify_items": null,
            "grid_row": null,
            "max_height": null,
            "align_content": null,
            "visibility": null,
            "align_self": null,
            "height": null,
            "min_height": null,
            "padding": null,
            "grid_auto_rows": null,
            "grid_gap": null,
            "max_width": null,
            "order": null,
            "_view_module_version": "1.2.0",
            "grid_template_areas": null,
            "object_position": null,
            "object_fit": null,
            "grid_auto_columns": null,
            "margin": null,
            "display": null,
            "left": null
          }
        },
        "b2500433b2cf40b9bbd43a6b5d0181c7": {
          "model_module": "@jupyter-widgets/controls",
          "model_name": "HBoxModel",
          "state": {
            "_view_name": "HBoxView",
            "_dom_classes": [],
            "_model_name": "HBoxModel",
            "_view_module": "@jupyter-widgets/controls",
            "_model_module_version": "1.5.0",
            "_view_count": null,
            "_view_module_version": "1.5.0",
            "box_style": "",
            "layout": "IPY_MODEL_4c85ebcf926a483ca84008e47a926877",
            "_model_module": "@jupyter-widgets/controls",
            "children": [
              "IPY_MODEL_c3e30f5ea6664da49239f561e3b1cd28",
              "IPY_MODEL_137f53efda4b40af8294521253a2d0fa"
            ]
          }
        },
        "4c85ebcf926a483ca84008e47a926877": {
          "model_module": "@jupyter-widgets/base",
          "model_name": "LayoutModel",
          "state": {
            "_view_name": "LayoutView",
            "grid_template_rows": null,
            "right": null,
            "justify_content": null,
            "_view_module": "@jupyter-widgets/base",
            "overflow": null,
            "_model_module_version": "1.2.0",
            "_view_count": null,
            "flex_flow": null,
            "width": null,
            "min_width": null,
            "border": null,
            "align_items": null,
            "bottom": null,
            "_model_module": "@jupyter-widgets/base",
            "top": null,
            "grid_column": null,
            "overflow_y": null,
            "overflow_x": null,
            "grid_auto_flow": null,
            "grid_area": null,
            "grid_template_columns": null,
            "flex": null,
            "_model_name": "LayoutModel",
            "justify_items": null,
            "grid_row": null,
            "max_height": null,
            "align_content": null,
            "visibility": null,
            "align_self": null,
            "height": null,
            "min_height": null,
            "padding": null,
            "grid_auto_rows": null,
            "grid_gap": null,
            "max_width": null,
            "order": null,
            "_view_module_version": "1.2.0",
            "grid_template_areas": null,
            "object_position": null,
            "object_fit": null,
            "grid_auto_columns": null,
            "margin": null,
            "display": null,
            "left": null
          }
        },
        "c3e30f5ea6664da49239f561e3b1cd28": {
          "model_module": "@jupyter-widgets/controls",
          "model_name": "FloatProgressModel",
          "state": {
            "_view_name": "ProgressView",
            "style": "IPY_MODEL_42233356d3ce4c8f977473586b97bec9",
            "_dom_classes": [],
            "description": "#0: 100%",
            "_model_name": "FloatProgressModel",
            "bar_style": "success",
            "max": 124,
            "_view_module": "@jupyter-widgets/controls",
            "_model_module_version": "1.5.0",
            "value": 124,
            "_view_count": null,
            "_view_module_version": "1.5.0",
            "orientation": "horizontal",
            "min": 0,
            "description_tooltip": null,
            "_model_module": "@jupyter-widgets/controls",
            "layout": "IPY_MODEL_442b68a86a94401fad8a9de17a076190"
          }
        },
        "137f53efda4b40af8294521253a2d0fa": {
          "model_module": "@jupyter-widgets/controls",
          "model_name": "HTMLModel",
          "state": {
            "_view_name": "HTMLView",
            "style": "IPY_MODEL_5a797a493fb746888918f9a72fac24a9",
            "_dom_classes": [],
            "description": "",
            "_model_name": "HTMLModel",
            "placeholder": "​",
            "_view_module": "@jupyter-widgets/controls",
            "_model_module_version": "1.5.0",
            "value": " 124/124 [01:02&lt;00:00,  1.97ba/s]",
            "_view_count": null,
            "_view_module_version": "1.5.0",
            "description_tooltip": null,
            "_model_module": "@jupyter-widgets/controls",
            "layout": "IPY_MODEL_85ee2e08493949eb9dfc18d81e06ed2d"
          }
        },
        "42233356d3ce4c8f977473586b97bec9": {
          "model_module": "@jupyter-widgets/controls",
          "model_name": "ProgressStyleModel",
          "state": {
            "_view_name": "StyleView",
            "_model_name": "ProgressStyleModel",
            "description_width": "initial",
            "_view_module": "@jupyter-widgets/base",
            "_model_module_version": "1.5.0",
            "_view_count": null,
            "_view_module_version": "1.2.0",
            "bar_color": null,
            "_model_module": "@jupyter-widgets/controls"
          }
        },
        "442b68a86a94401fad8a9de17a076190": {
          "model_module": "@jupyter-widgets/base",
          "model_name": "LayoutModel",
          "state": {
            "_view_name": "LayoutView",
            "grid_template_rows": null,
            "right": null,
            "justify_content": null,
            "_view_module": "@jupyter-widgets/base",
            "overflow": null,
            "_model_module_version": "1.2.0",
            "_view_count": null,
            "flex_flow": null,
            "width": null,
            "min_width": null,
            "border": null,
            "align_items": null,
            "bottom": null,
            "_model_module": "@jupyter-widgets/base",
            "top": null,
            "grid_column": null,
            "overflow_y": null,
            "overflow_x": null,
            "grid_auto_flow": null,
            "grid_area": null,
            "grid_template_columns": null,
            "flex": null,
            "_model_name": "LayoutModel",
            "justify_items": null,
            "grid_row": null,
            "max_height": null,
            "align_content": null,
            "visibility": null,
            "align_self": null,
            "height": null,
            "min_height": null,
            "padding": null,
            "grid_auto_rows": null,
            "grid_gap": null,
            "max_width": null,
            "order": null,
            "_view_module_version": "1.2.0",
            "grid_template_areas": null,
            "object_position": null,
            "object_fit": null,
            "grid_auto_columns": null,
            "margin": null,
            "display": null,
            "left": null
          }
        },
        "5a797a493fb746888918f9a72fac24a9": {
          "model_module": "@jupyter-widgets/controls",
          "model_name": "DescriptionStyleModel",
          "state": {
            "_view_name": "StyleView",
            "_model_name": "DescriptionStyleModel",
            "description_width": "",
            "_view_module": "@jupyter-widgets/base",
            "_model_module_version": "1.5.0",
            "_view_count": null,
            "_view_module_version": "1.2.0",
            "_model_module": "@jupyter-widgets/controls"
          }
        },
        "85ee2e08493949eb9dfc18d81e06ed2d": {
          "model_module": "@jupyter-widgets/base",
          "model_name": "LayoutModel",
          "state": {
            "_view_name": "LayoutView",
            "grid_template_rows": null,
            "right": null,
            "justify_content": null,
            "_view_module": "@jupyter-widgets/base",
            "overflow": null,
            "_model_module_version": "1.2.0",
            "_view_count": null,
            "flex_flow": null,
            "width": null,
            "min_width": null,
            "border": null,
            "align_items": null,
            "bottom": null,
            "_model_module": "@jupyter-widgets/base",
            "top": null,
            "grid_column": null,
            "overflow_y": null,
            "overflow_x": null,
            "grid_auto_flow": null,
            "grid_area": null,
            "grid_template_columns": null,
            "flex": null,
            "_model_name": "LayoutModel",
            "justify_items": null,
            "grid_row": null,
            "max_height": null,
            "align_content": null,
            "visibility": null,
            "align_self": null,
            "height": null,
            "min_height": null,
            "padding": null,
            "grid_auto_rows": null,
            "grid_gap": null,
            "max_width": null,
            "order": null,
            "_view_module_version": "1.2.0",
            "grid_template_areas": null,
            "object_position": null,
            "object_fit": null,
            "grid_auto_columns": null,
            "margin": null,
            "display": null,
            "left": null
          }
        },
        "d49027079cd1477ca31551f70902ae64": {
          "model_module": "@jupyter-widgets/controls",
          "model_name": "HBoxModel",
          "state": {
            "_view_name": "HBoxView",
            "_dom_classes": [],
            "_model_name": "HBoxModel",
            "_view_module": "@jupyter-widgets/controls",
            "_model_module_version": "1.5.0",
            "_view_count": null,
            "_view_module_version": "1.5.0",
            "box_style": "",
            "layout": "IPY_MODEL_7104cb34fcbc422c839bdee2f7c7c54b",
            "_model_module": "@jupyter-widgets/controls",
            "children": [
              "IPY_MODEL_b8dc971d243f4de4891ac5304afab77d",
              "IPY_MODEL_705d8be1ccf349e1a3495a1a7405fb86"
            ]
          }
        },
        "7104cb34fcbc422c839bdee2f7c7c54b": {
          "model_module": "@jupyter-widgets/base",
          "model_name": "LayoutModel",
          "state": {
            "_view_name": "LayoutView",
            "grid_template_rows": null,
            "right": null,
            "justify_content": null,
            "_view_module": "@jupyter-widgets/base",
            "overflow": null,
            "_model_module_version": "1.2.0",
            "_view_count": null,
            "flex_flow": null,
            "width": null,
            "min_width": null,
            "border": null,
            "align_items": null,
            "bottom": null,
            "_model_module": "@jupyter-widgets/base",
            "top": null,
            "grid_column": null,
            "overflow_y": null,
            "overflow_x": null,
            "grid_auto_flow": null,
            "grid_area": null,
            "grid_template_columns": null,
            "flex": null,
            "_model_name": "LayoutModel",
            "justify_items": null,
            "grid_row": null,
            "max_height": null,
            "align_content": null,
            "visibility": null,
            "align_self": null,
            "height": null,
            "min_height": null,
            "padding": null,
            "grid_auto_rows": null,
            "grid_gap": null,
            "max_width": null,
            "order": null,
            "_view_module_version": "1.2.0",
            "grid_template_areas": null,
            "object_position": null,
            "object_fit": null,
            "grid_auto_columns": null,
            "margin": null,
            "display": null,
            "left": null
          }
        },
        "b8dc971d243f4de4891ac5304afab77d": {
          "model_module": "@jupyter-widgets/controls",
          "model_name": "FloatProgressModel",
          "state": {
            "_view_name": "ProgressView",
            "style": "IPY_MODEL_ae74507217824cfc9bc599d9a42d926e",
            "_dom_classes": [],
            "description": "#3: 100%",
            "_model_name": "FloatProgressModel",
            "bar_style": "success",
            "max": 124,
            "_view_module": "@jupyter-widgets/controls",
            "_model_module_version": "1.5.0",
            "value": 124,
            "_view_count": null,
            "_view_module_version": "1.5.0",
            "orientation": "horizontal",
            "min": 0,
            "description_tooltip": null,
            "_model_module": "@jupyter-widgets/controls",
            "layout": "IPY_MODEL_eeacafda462b44d4839b5c479d7d0c09"
          }
        },
        "705d8be1ccf349e1a3495a1a7405fb86": {
          "model_module": "@jupyter-widgets/controls",
          "model_name": "HTMLModel",
          "state": {
            "_view_name": "HTMLView",
            "style": "IPY_MODEL_30bb2dfda3e44f73b32464f4cb34c3a7",
            "_dom_classes": [],
            "description": "",
            "_model_name": "HTMLModel",
            "placeholder": "​",
            "_view_module": "@jupyter-widgets/controls",
            "_model_module_version": "1.5.0",
            "value": " 124/124 [01:04&lt;00:00,  1.92ba/s]",
            "_view_count": null,
            "_view_module_version": "1.5.0",
            "description_tooltip": null,
            "_model_module": "@jupyter-widgets/controls",
            "layout": "IPY_MODEL_917d56baf5a04732bab9125dda01cc41"
          }
        },
        "ae74507217824cfc9bc599d9a42d926e": {
          "model_module": "@jupyter-widgets/controls",
          "model_name": "ProgressStyleModel",
          "state": {
            "_view_name": "StyleView",
            "_model_name": "ProgressStyleModel",
            "description_width": "initial",
            "_view_module": "@jupyter-widgets/base",
            "_model_module_version": "1.5.0",
            "_view_count": null,
            "_view_module_version": "1.2.0",
            "bar_color": null,
            "_model_module": "@jupyter-widgets/controls"
          }
        },
        "eeacafda462b44d4839b5c479d7d0c09": {
          "model_module": "@jupyter-widgets/base",
          "model_name": "LayoutModel",
          "state": {
            "_view_name": "LayoutView",
            "grid_template_rows": null,
            "right": null,
            "justify_content": null,
            "_view_module": "@jupyter-widgets/base",
            "overflow": null,
            "_model_module_version": "1.2.0",
            "_view_count": null,
            "flex_flow": null,
            "width": null,
            "min_width": null,
            "border": null,
            "align_items": null,
            "bottom": null,
            "_model_module": "@jupyter-widgets/base",
            "top": null,
            "grid_column": null,
            "overflow_y": null,
            "overflow_x": null,
            "grid_auto_flow": null,
            "grid_area": null,
            "grid_template_columns": null,
            "flex": null,
            "_model_name": "LayoutModel",
            "justify_items": null,
            "grid_row": null,
            "max_height": null,
            "align_content": null,
            "visibility": null,
            "align_self": null,
            "height": null,
            "min_height": null,
            "padding": null,
            "grid_auto_rows": null,
            "grid_gap": null,
            "max_width": null,
            "order": null,
            "_view_module_version": "1.2.0",
            "grid_template_areas": null,
            "object_position": null,
            "object_fit": null,
            "grid_auto_columns": null,
            "margin": null,
            "display": null,
            "left": null
          }
        },
        "30bb2dfda3e44f73b32464f4cb34c3a7": {
          "model_module": "@jupyter-widgets/controls",
          "model_name": "DescriptionStyleModel",
          "state": {
            "_view_name": "StyleView",
            "_model_name": "DescriptionStyleModel",
            "description_width": "",
            "_view_module": "@jupyter-widgets/base",
            "_model_module_version": "1.5.0",
            "_view_count": null,
            "_view_module_version": "1.2.0",
            "_model_module": "@jupyter-widgets/controls"
          }
        },
        "917d56baf5a04732bab9125dda01cc41": {
          "model_module": "@jupyter-widgets/base",
          "model_name": "LayoutModel",
          "state": {
            "_view_name": "LayoutView",
            "grid_template_rows": null,
            "right": null,
            "justify_content": null,
            "_view_module": "@jupyter-widgets/base",
            "overflow": null,
            "_model_module_version": "1.2.0",
            "_view_count": null,
            "flex_flow": null,
            "width": null,
            "min_width": null,
            "border": null,
            "align_items": null,
            "bottom": null,
            "_model_module": "@jupyter-widgets/base",
            "top": null,
            "grid_column": null,
            "overflow_y": null,
            "overflow_x": null,
            "grid_auto_flow": null,
            "grid_area": null,
            "grid_template_columns": null,
            "flex": null,
            "_model_name": "LayoutModel",
            "justify_items": null,
            "grid_row": null,
            "max_height": null,
            "align_content": null,
            "visibility": null,
            "align_self": null,
            "height": null,
            "min_height": null,
            "padding": null,
            "grid_auto_rows": null,
            "grid_gap": null,
            "max_width": null,
            "order": null,
            "_view_module_version": "1.2.0",
            "grid_template_areas": null,
            "object_position": null,
            "object_fit": null,
            "grid_auto_columns": null,
            "margin": null,
            "display": null,
            "left": null
          }
        },
        "4726263d31d24b67b254c48f128ffd38": {
          "model_module": "@jupyter-widgets/controls",
          "model_name": "HBoxModel",
          "state": {
            "_view_name": "HBoxView",
            "_dom_classes": [],
            "_model_name": "HBoxModel",
            "_view_module": "@jupyter-widgets/controls",
            "_model_module_version": "1.5.0",
            "_view_count": null,
            "_view_module_version": "1.5.0",
            "box_style": "",
            "layout": "IPY_MODEL_e1f4f87abd6f419aae66e15da868febd",
            "_model_module": "@jupyter-widgets/controls",
            "children": [
              "IPY_MODEL_7e17874d8baf45d099acdba6c8c183e6",
              "IPY_MODEL_fece00a9a90041b8aa964f2b55c05dd4"
            ]
          }
        },
        "e1f4f87abd6f419aae66e15da868febd": {
          "model_module": "@jupyter-widgets/base",
          "model_name": "LayoutModel",
          "state": {
            "_view_name": "LayoutView",
            "grid_template_rows": null,
            "right": null,
            "justify_content": null,
            "_view_module": "@jupyter-widgets/base",
            "overflow": null,
            "_model_module_version": "1.2.0",
            "_view_count": null,
            "flex_flow": null,
            "width": null,
            "min_width": null,
            "border": null,
            "align_items": null,
            "bottom": null,
            "_model_module": "@jupyter-widgets/base",
            "top": null,
            "grid_column": null,
            "overflow_y": null,
            "overflow_x": null,
            "grid_auto_flow": null,
            "grid_area": null,
            "grid_template_columns": null,
            "flex": null,
            "_model_name": "LayoutModel",
            "justify_items": null,
            "grid_row": null,
            "max_height": null,
            "align_content": null,
            "visibility": null,
            "align_self": null,
            "height": null,
            "min_height": null,
            "padding": null,
            "grid_auto_rows": null,
            "grid_gap": null,
            "max_width": null,
            "order": null,
            "_view_module_version": "1.2.0",
            "grid_template_areas": null,
            "object_position": null,
            "object_fit": null,
            "grid_auto_columns": null,
            "margin": null,
            "display": null,
            "left": null
          }
        },
        "7e17874d8baf45d099acdba6c8c183e6": {
          "model_module": "@jupyter-widgets/controls",
          "model_name": "FloatProgressModel",
          "state": {
            "_view_name": "ProgressView",
            "style": "IPY_MODEL_188a72ddc89948cdab487c2c80e01424",
            "_dom_classes": [],
            "description": "#2: 100%",
            "_model_name": "FloatProgressModel",
            "bar_style": "success",
            "max": 124,
            "_view_module": "@jupyter-widgets/controls",
            "_model_module_version": "1.5.0",
            "value": 124,
            "_view_count": null,
            "_view_module_version": "1.5.0",
            "orientation": "horizontal",
            "min": 0,
            "description_tooltip": null,
            "_model_module": "@jupyter-widgets/controls",
            "layout": "IPY_MODEL_2f5c906c21fe4eac8dd1289a6e85f1f1"
          }
        },
        "fece00a9a90041b8aa964f2b55c05dd4": {
          "model_module": "@jupyter-widgets/controls",
          "model_name": "HTMLModel",
          "state": {
            "_view_name": "HTMLView",
            "style": "IPY_MODEL_891eb255a31d498786b05b691ba605a8",
            "_dom_classes": [],
            "description": "",
            "_model_name": "HTMLModel",
            "placeholder": "​",
            "_view_module": "@jupyter-widgets/controls",
            "_model_module_version": "1.5.0",
            "value": " 124/124 [01:01&lt;00:00,  2.03ba/s]",
            "_view_count": null,
            "_view_module_version": "1.5.0",
            "description_tooltip": null,
            "_model_module": "@jupyter-widgets/controls",
            "layout": "IPY_MODEL_70128e09d78140b18459f4de6b7bb830"
          }
        },
        "188a72ddc89948cdab487c2c80e01424": {
          "model_module": "@jupyter-widgets/controls",
          "model_name": "ProgressStyleModel",
          "state": {
            "_view_name": "StyleView",
            "_model_name": "ProgressStyleModel",
            "description_width": "initial",
            "_view_module": "@jupyter-widgets/base",
            "_model_module_version": "1.5.0",
            "_view_count": null,
            "_view_module_version": "1.2.0",
            "bar_color": null,
            "_model_module": "@jupyter-widgets/controls"
          }
        },
        "2f5c906c21fe4eac8dd1289a6e85f1f1": {
          "model_module": "@jupyter-widgets/base",
          "model_name": "LayoutModel",
          "state": {
            "_view_name": "LayoutView",
            "grid_template_rows": null,
            "right": null,
            "justify_content": null,
            "_view_module": "@jupyter-widgets/base",
            "overflow": null,
            "_model_module_version": "1.2.0",
            "_view_count": null,
            "flex_flow": null,
            "width": null,
            "min_width": null,
            "border": null,
            "align_items": null,
            "bottom": null,
            "_model_module": "@jupyter-widgets/base",
            "top": null,
            "grid_column": null,
            "overflow_y": null,
            "overflow_x": null,
            "grid_auto_flow": null,
            "grid_area": null,
            "grid_template_columns": null,
            "flex": null,
            "_model_name": "LayoutModel",
            "justify_items": null,
            "grid_row": null,
            "max_height": null,
            "align_content": null,
            "visibility": null,
            "align_self": null,
            "height": null,
            "min_height": null,
            "padding": null,
            "grid_auto_rows": null,
            "grid_gap": null,
            "max_width": null,
            "order": null,
            "_view_module_version": "1.2.0",
            "grid_template_areas": null,
            "object_position": null,
            "object_fit": null,
            "grid_auto_columns": null,
            "margin": null,
            "display": null,
            "left": null
          }
        },
        "891eb255a31d498786b05b691ba605a8": {
          "model_module": "@jupyter-widgets/controls",
          "model_name": "DescriptionStyleModel",
          "state": {
            "_view_name": "StyleView",
            "_model_name": "DescriptionStyleModel",
            "description_width": "",
            "_view_module": "@jupyter-widgets/base",
            "_model_module_version": "1.5.0",
            "_view_count": null,
            "_view_module_version": "1.2.0",
            "_model_module": "@jupyter-widgets/controls"
          }
        },
        "70128e09d78140b18459f4de6b7bb830": {
          "model_module": "@jupyter-widgets/base",
          "model_name": "LayoutModel",
          "state": {
            "_view_name": "LayoutView",
            "grid_template_rows": null,
            "right": null,
            "justify_content": null,
            "_view_module": "@jupyter-widgets/base",
            "overflow": null,
            "_model_module_version": "1.2.0",
            "_view_count": null,
            "flex_flow": null,
            "width": null,
            "min_width": null,
            "border": null,
            "align_items": null,
            "bottom": null,
            "_model_module": "@jupyter-widgets/base",
            "top": null,
            "grid_column": null,
            "overflow_y": null,
            "overflow_x": null,
            "grid_auto_flow": null,
            "grid_area": null,
            "grid_template_columns": null,
            "flex": null,
            "_model_name": "LayoutModel",
            "justify_items": null,
            "grid_row": null,
            "max_height": null,
            "align_content": null,
            "visibility": null,
            "align_self": null,
            "height": null,
            "min_height": null,
            "padding": null,
            "grid_auto_rows": null,
            "grid_gap": null,
            "max_width": null,
            "order": null,
            "_view_module_version": "1.2.0",
            "grid_template_areas": null,
            "object_position": null,
            "object_fit": null,
            "grid_auto_columns": null,
            "margin": null,
            "display": null,
            "left": null
          }
        },
        "13b5f6d7a8ed4e8ba560feaef9257cb3": {
          "model_module": "@jupyter-widgets/controls",
          "model_name": "HBoxModel",
          "state": {
            "_view_name": "HBoxView",
            "_dom_classes": [],
            "_model_name": "HBoxModel",
            "_view_module": "@jupyter-widgets/controls",
            "_model_module_version": "1.5.0",
            "_view_count": null,
            "_view_module_version": "1.5.0",
            "box_style": "",
            "layout": "IPY_MODEL_f6463a45418e4c588335203ef65af942",
            "_model_module": "@jupyter-widgets/controls",
            "children": [
              "IPY_MODEL_217ed7da95a04e86a8fc17fa1bc44fbe",
              "IPY_MODEL_424a2801eab9461ab5fce875ba282ffe"
            ]
          }
        },
        "f6463a45418e4c588335203ef65af942": {
          "model_module": "@jupyter-widgets/base",
          "model_name": "LayoutModel",
          "state": {
            "_view_name": "LayoutView",
            "grid_template_rows": null,
            "right": null,
            "justify_content": null,
            "_view_module": "@jupyter-widgets/base",
            "overflow": null,
            "_model_module_version": "1.2.0",
            "_view_count": null,
            "flex_flow": null,
            "width": null,
            "min_width": null,
            "border": null,
            "align_items": null,
            "bottom": null,
            "_model_module": "@jupyter-widgets/base",
            "top": null,
            "grid_column": null,
            "overflow_y": null,
            "overflow_x": null,
            "grid_auto_flow": null,
            "grid_area": null,
            "grid_template_columns": null,
            "flex": null,
            "_model_name": "LayoutModel",
            "justify_items": null,
            "grid_row": null,
            "max_height": null,
            "align_content": null,
            "visibility": null,
            "align_self": null,
            "height": null,
            "min_height": null,
            "padding": null,
            "grid_auto_rows": null,
            "grid_gap": null,
            "max_width": null,
            "order": null,
            "_view_module_version": "1.2.0",
            "grid_template_areas": null,
            "object_position": null,
            "object_fit": null,
            "grid_auto_columns": null,
            "margin": null,
            "display": null,
            "left": null
          }
        },
        "217ed7da95a04e86a8fc17fa1bc44fbe": {
          "model_module": "@jupyter-widgets/controls",
          "model_name": "FloatProgressModel",
          "state": {
            "_view_name": "ProgressView",
            "style": "IPY_MODEL_1440874225274969aa76ca8dddf0dc11",
            "_dom_classes": [],
            "description": "#1: 100%",
            "_model_name": "FloatProgressModel",
            "bar_style": "success",
            "max": 124,
            "_view_module": "@jupyter-widgets/controls",
            "_model_module_version": "1.5.0",
            "value": 124,
            "_view_count": null,
            "_view_module_version": "1.5.0",
            "orientation": "horizontal",
            "min": 0,
            "description_tooltip": null,
            "_model_module": "@jupyter-widgets/controls",
            "layout": "IPY_MODEL_d48b2f53dfa144b992a90f759e326b5d"
          }
        },
        "424a2801eab9461ab5fce875ba282ffe": {
          "model_module": "@jupyter-widgets/controls",
          "model_name": "HTMLModel",
          "state": {
            "_view_name": "HTMLView",
            "style": "IPY_MODEL_229ec99e9e4d499788f4031693781119",
            "_dom_classes": [],
            "description": "",
            "_model_name": "HTMLModel",
            "placeholder": "​",
            "_view_module": "@jupyter-widgets/controls",
            "_model_module_version": "1.5.0",
            "value": " 124/124 [01:00&lt;00:00,  2.05ba/s]",
            "_view_count": null,
            "_view_module_version": "1.5.0",
            "description_tooltip": null,
            "_model_module": "@jupyter-widgets/controls",
            "layout": "IPY_MODEL_21ae57d249ce4891b3ff6c27c22d5800"
          }
        },
        "1440874225274969aa76ca8dddf0dc11": {
          "model_module": "@jupyter-widgets/controls",
          "model_name": "ProgressStyleModel",
          "state": {
            "_view_name": "StyleView",
            "_model_name": "ProgressStyleModel",
            "description_width": "initial",
            "_view_module": "@jupyter-widgets/base",
            "_model_module_version": "1.5.0",
            "_view_count": null,
            "_view_module_version": "1.2.0",
            "bar_color": null,
            "_model_module": "@jupyter-widgets/controls"
          }
        },
        "d48b2f53dfa144b992a90f759e326b5d": {
          "model_module": "@jupyter-widgets/base",
          "model_name": "LayoutModel",
          "state": {
            "_view_name": "LayoutView",
            "grid_template_rows": null,
            "right": null,
            "justify_content": null,
            "_view_module": "@jupyter-widgets/base",
            "overflow": null,
            "_model_module_version": "1.2.0",
            "_view_count": null,
            "flex_flow": null,
            "width": null,
            "min_width": null,
            "border": null,
            "align_items": null,
            "bottom": null,
            "_model_module": "@jupyter-widgets/base",
            "top": null,
            "grid_column": null,
            "overflow_y": null,
            "overflow_x": null,
            "grid_auto_flow": null,
            "grid_area": null,
            "grid_template_columns": null,
            "flex": null,
            "_model_name": "LayoutModel",
            "justify_items": null,
            "grid_row": null,
            "max_height": null,
            "align_content": null,
            "visibility": null,
            "align_self": null,
            "height": null,
            "min_height": null,
            "padding": null,
            "grid_auto_rows": null,
            "grid_gap": null,
            "max_width": null,
            "order": null,
            "_view_module_version": "1.2.0",
            "grid_template_areas": null,
            "object_position": null,
            "object_fit": null,
            "grid_auto_columns": null,
            "margin": null,
            "display": null,
            "left": null
          }
        },
        "229ec99e9e4d499788f4031693781119": {
          "model_module": "@jupyter-widgets/controls",
          "model_name": "DescriptionStyleModel",
          "state": {
            "_view_name": "StyleView",
            "_model_name": "DescriptionStyleModel",
            "description_width": "",
            "_view_module": "@jupyter-widgets/base",
            "_model_module_version": "1.5.0",
            "_view_count": null,
            "_view_module_version": "1.2.0",
            "_model_module": "@jupyter-widgets/controls"
          }
        },
        "21ae57d249ce4891b3ff6c27c22d5800": {
          "model_module": "@jupyter-widgets/base",
          "model_name": "LayoutModel",
          "state": {
            "_view_name": "LayoutView",
            "grid_template_rows": null,
            "right": null,
            "justify_content": null,
            "_view_module": "@jupyter-widgets/base",
            "overflow": null,
            "_model_module_version": "1.2.0",
            "_view_count": null,
            "flex_flow": null,
            "width": null,
            "min_width": null,
            "border": null,
            "align_items": null,
            "bottom": null,
            "_model_module": "@jupyter-widgets/base",
            "top": null,
            "grid_column": null,
            "overflow_y": null,
            "overflow_x": null,
            "grid_auto_flow": null,
            "grid_area": null,
            "grid_template_columns": null,
            "flex": null,
            "_model_name": "LayoutModel",
            "justify_items": null,
            "grid_row": null,
            "max_height": null,
            "align_content": null,
            "visibility": null,
            "align_self": null,
            "height": null,
            "min_height": null,
            "padding": null,
            "grid_auto_rows": null,
            "grid_gap": null,
            "max_width": null,
            "order": null,
            "_view_module_version": "1.2.0",
            "grid_template_areas": null,
            "object_position": null,
            "object_fit": null,
            "grid_auto_columns": null,
            "margin": null,
            "display": null,
            "left": null
          }
        },
        "7d808f96315a4c31a8ae9ed75bbf154e": {
          "model_module": "@jupyter-widgets/controls",
          "model_name": "HBoxModel",
          "state": {
            "_view_name": "HBoxView",
            "_dom_classes": [],
            "_model_name": "HBoxModel",
            "_view_module": "@jupyter-widgets/controls",
            "_model_module_version": "1.5.0",
            "_view_count": null,
            "_view_module_version": "1.5.0",
            "box_style": "",
            "layout": "IPY_MODEL_92c76b5992a445de8370114e189a4671",
            "_model_module": "@jupyter-widgets/controls",
            "children": [
              "IPY_MODEL_9dc5b488fb0a4e979b6d7f21a75f431a",
              "IPY_MODEL_7731aa630aed4ca8be3b5fc3160d2cea"
            ]
          }
        },
        "92c76b5992a445de8370114e189a4671": {
          "model_module": "@jupyter-widgets/base",
          "model_name": "LayoutModel",
          "state": {
            "_view_name": "LayoutView",
            "grid_template_rows": null,
            "right": null,
            "justify_content": null,
            "_view_module": "@jupyter-widgets/base",
            "overflow": null,
            "_model_module_version": "1.2.0",
            "_view_count": null,
            "flex_flow": null,
            "width": null,
            "min_width": null,
            "border": null,
            "align_items": null,
            "bottom": null,
            "_model_module": "@jupyter-widgets/base",
            "top": null,
            "grid_column": null,
            "overflow_y": null,
            "overflow_x": null,
            "grid_auto_flow": null,
            "grid_area": null,
            "grid_template_columns": null,
            "flex": null,
            "_model_name": "LayoutModel",
            "justify_items": null,
            "grid_row": null,
            "max_height": null,
            "align_content": null,
            "visibility": null,
            "align_self": null,
            "height": null,
            "min_height": null,
            "padding": null,
            "grid_auto_rows": null,
            "grid_gap": null,
            "max_width": null,
            "order": null,
            "_view_module_version": "1.2.0",
            "grid_template_areas": null,
            "object_position": null,
            "object_fit": null,
            "grid_auto_columns": null,
            "margin": null,
            "display": null,
            "left": null
          }
        },
        "9dc5b488fb0a4e979b6d7f21a75f431a": {
          "model_module": "@jupyter-widgets/controls",
          "model_name": "FloatProgressModel",
          "state": {
            "_view_name": "ProgressView",
            "style": "IPY_MODEL_3dc5e9ce08b6413c823467b30dcafaaa",
            "_dom_classes": [],
            "description": "#3: 100%",
            "_model_name": "FloatProgressModel",
            "bar_style": "success",
            "max": 58,
            "_view_module": "@jupyter-widgets/controls",
            "_model_module_version": "1.5.0",
            "value": 58,
            "_view_count": null,
            "_view_module_version": "1.5.0",
            "orientation": "horizontal",
            "min": 0,
            "description_tooltip": null,
            "_model_module": "@jupyter-widgets/controls",
            "layout": "IPY_MODEL_e2fbd22f549047b882f9ca2c40531ed6"
          }
        },
        "7731aa630aed4ca8be3b5fc3160d2cea": {
          "model_module": "@jupyter-widgets/controls",
          "model_name": "HTMLModel",
          "state": {
            "_view_name": "HTMLView",
            "style": "IPY_MODEL_563b82c6c35b414f8b68e5a0322e87e2",
            "_dom_classes": [],
            "description": "",
            "_model_name": "HTMLModel",
            "placeholder": "​",
            "_view_module": "@jupyter-widgets/controls",
            "_model_module_version": "1.5.0",
            "value": " 58/58 [00:32&lt;00:00,  1.81ba/s]",
            "_view_count": null,
            "_view_module_version": "1.5.0",
            "description_tooltip": null,
            "_model_module": "@jupyter-widgets/controls",
            "layout": "IPY_MODEL_159b316af2d940d0b683741e04bb76db"
          }
        },
        "3dc5e9ce08b6413c823467b30dcafaaa": {
          "model_module": "@jupyter-widgets/controls",
          "model_name": "ProgressStyleModel",
          "state": {
            "_view_name": "StyleView",
            "_model_name": "ProgressStyleModel",
            "description_width": "initial",
            "_view_module": "@jupyter-widgets/base",
            "_model_module_version": "1.5.0",
            "_view_count": null,
            "_view_module_version": "1.2.0",
            "bar_color": null,
            "_model_module": "@jupyter-widgets/controls"
          }
        },
        "e2fbd22f549047b882f9ca2c40531ed6": {
          "model_module": "@jupyter-widgets/base",
          "model_name": "LayoutModel",
          "state": {
            "_view_name": "LayoutView",
            "grid_template_rows": null,
            "right": null,
            "justify_content": null,
            "_view_module": "@jupyter-widgets/base",
            "overflow": null,
            "_model_module_version": "1.2.0",
            "_view_count": null,
            "flex_flow": null,
            "width": null,
            "min_width": null,
            "border": null,
            "align_items": null,
            "bottom": null,
            "_model_module": "@jupyter-widgets/base",
            "top": null,
            "grid_column": null,
            "overflow_y": null,
            "overflow_x": null,
            "grid_auto_flow": null,
            "grid_area": null,
            "grid_template_columns": null,
            "flex": null,
            "_model_name": "LayoutModel",
            "justify_items": null,
            "grid_row": null,
            "max_height": null,
            "align_content": null,
            "visibility": null,
            "align_self": null,
            "height": null,
            "min_height": null,
            "padding": null,
            "grid_auto_rows": null,
            "grid_gap": null,
            "max_width": null,
            "order": null,
            "_view_module_version": "1.2.0",
            "grid_template_areas": null,
            "object_position": null,
            "object_fit": null,
            "grid_auto_columns": null,
            "margin": null,
            "display": null,
            "left": null
          }
        },
        "563b82c6c35b414f8b68e5a0322e87e2": {
          "model_module": "@jupyter-widgets/controls",
          "model_name": "DescriptionStyleModel",
          "state": {
            "_view_name": "StyleView",
            "_model_name": "DescriptionStyleModel",
            "description_width": "",
            "_view_module": "@jupyter-widgets/base",
            "_model_module_version": "1.5.0",
            "_view_count": null,
            "_view_module_version": "1.2.0",
            "_model_module": "@jupyter-widgets/controls"
          }
        },
        "159b316af2d940d0b683741e04bb76db": {
          "model_module": "@jupyter-widgets/base",
          "model_name": "LayoutModel",
          "state": {
            "_view_name": "LayoutView",
            "grid_template_rows": null,
            "right": null,
            "justify_content": null,
            "_view_module": "@jupyter-widgets/base",
            "overflow": null,
            "_model_module_version": "1.2.0",
            "_view_count": null,
            "flex_flow": null,
            "width": null,
            "min_width": null,
            "border": null,
            "align_items": null,
            "bottom": null,
            "_model_module": "@jupyter-widgets/base",
            "top": null,
            "grid_column": null,
            "overflow_y": null,
            "overflow_x": null,
            "grid_auto_flow": null,
            "grid_area": null,
            "grid_template_columns": null,
            "flex": null,
            "_model_name": "LayoutModel",
            "justify_items": null,
            "grid_row": null,
            "max_height": null,
            "align_content": null,
            "visibility": null,
            "align_self": null,
            "height": null,
            "min_height": null,
            "padding": null,
            "grid_auto_rows": null,
            "grid_gap": null,
            "max_width": null,
            "order": null,
            "_view_module_version": "1.2.0",
            "grid_template_areas": null,
            "object_position": null,
            "object_fit": null,
            "grid_auto_columns": null,
            "margin": null,
            "display": null,
            "left": null
          }
        },
        "5cc169f860184bcfb7766d127238de09": {
          "model_module": "@jupyter-widgets/controls",
          "model_name": "HBoxModel",
          "state": {
            "_view_name": "HBoxView",
            "_dom_classes": [],
            "_model_name": "HBoxModel",
            "_view_module": "@jupyter-widgets/controls",
            "_model_module_version": "1.5.0",
            "_view_count": null,
            "_view_module_version": "1.5.0",
            "box_style": "",
            "layout": "IPY_MODEL_a779e5ffd0294c56bb3f682fb0a2eda6",
            "_model_module": "@jupyter-widgets/controls",
            "children": [
              "IPY_MODEL_a6fc853b52bb4af6a33880ea4e5605de",
              "IPY_MODEL_f14db590657243d8aef4bc63cf5873a4"
            ]
          }
        },
        "a779e5ffd0294c56bb3f682fb0a2eda6": {
          "model_module": "@jupyter-widgets/base",
          "model_name": "LayoutModel",
          "state": {
            "_view_name": "LayoutView",
            "grid_template_rows": null,
            "right": null,
            "justify_content": null,
            "_view_module": "@jupyter-widgets/base",
            "overflow": null,
            "_model_module_version": "1.2.0",
            "_view_count": null,
            "flex_flow": null,
            "width": null,
            "min_width": null,
            "border": null,
            "align_items": null,
            "bottom": null,
            "_model_module": "@jupyter-widgets/base",
            "top": null,
            "grid_column": null,
            "overflow_y": null,
            "overflow_x": null,
            "grid_auto_flow": null,
            "grid_area": null,
            "grid_template_columns": null,
            "flex": null,
            "_model_name": "LayoutModel",
            "justify_items": null,
            "grid_row": null,
            "max_height": null,
            "align_content": null,
            "visibility": null,
            "align_self": null,
            "height": null,
            "min_height": null,
            "padding": null,
            "grid_auto_rows": null,
            "grid_gap": null,
            "max_width": null,
            "order": null,
            "_view_module_version": "1.2.0",
            "grid_template_areas": null,
            "object_position": null,
            "object_fit": null,
            "grid_auto_columns": null,
            "margin": null,
            "display": null,
            "left": null
          }
        },
        "a6fc853b52bb4af6a33880ea4e5605de": {
          "model_module": "@jupyter-widgets/controls",
          "model_name": "FloatProgressModel",
          "state": {
            "_view_name": "ProgressView",
            "style": "IPY_MODEL_7f718348e8fc486d8688a10f1affe288",
            "_dom_classes": [],
            "description": "#0: 100%",
            "_model_name": "FloatProgressModel",
            "bar_style": "success",
            "max": 58,
            "_view_module": "@jupyter-widgets/controls",
            "_model_module_version": "1.5.0",
            "value": 58,
            "_view_count": null,
            "_view_module_version": "1.5.0",
            "orientation": "horizontal",
            "min": 0,
            "description_tooltip": null,
            "_model_module": "@jupyter-widgets/controls",
            "layout": "IPY_MODEL_493c2fba677e46e79e8a31bd3ecdc9e6"
          }
        },
        "f14db590657243d8aef4bc63cf5873a4": {
          "model_module": "@jupyter-widgets/controls",
          "model_name": "HTMLModel",
          "state": {
            "_view_name": "HTMLView",
            "style": "IPY_MODEL_42d49008d468457eab9dcc42cfa28092",
            "_dom_classes": [],
            "description": "",
            "_model_name": "HTMLModel",
            "placeholder": "​",
            "_view_module": "@jupyter-widgets/controls",
            "_model_module_version": "1.5.0",
            "value": " 58/58 [00:32&lt;00:00,  1.79ba/s]",
            "_view_count": null,
            "_view_module_version": "1.5.0",
            "description_tooltip": null,
            "_model_module": "@jupyter-widgets/controls",
            "layout": "IPY_MODEL_faa9fc6846af412db95986b38c794a5a"
          }
        },
        "7f718348e8fc486d8688a10f1affe288": {
          "model_module": "@jupyter-widgets/controls",
          "model_name": "ProgressStyleModel",
          "state": {
            "_view_name": "StyleView",
            "_model_name": "ProgressStyleModel",
            "description_width": "initial",
            "_view_module": "@jupyter-widgets/base",
            "_model_module_version": "1.5.0",
            "_view_count": null,
            "_view_module_version": "1.2.0",
            "bar_color": null,
            "_model_module": "@jupyter-widgets/controls"
          }
        },
        "493c2fba677e46e79e8a31bd3ecdc9e6": {
          "model_module": "@jupyter-widgets/base",
          "model_name": "LayoutModel",
          "state": {
            "_view_name": "LayoutView",
            "grid_template_rows": null,
            "right": null,
            "justify_content": null,
            "_view_module": "@jupyter-widgets/base",
            "overflow": null,
            "_model_module_version": "1.2.0",
            "_view_count": null,
            "flex_flow": null,
            "width": null,
            "min_width": null,
            "border": null,
            "align_items": null,
            "bottom": null,
            "_model_module": "@jupyter-widgets/base",
            "top": null,
            "grid_column": null,
            "overflow_y": null,
            "overflow_x": null,
            "grid_auto_flow": null,
            "grid_area": null,
            "grid_template_columns": null,
            "flex": null,
            "_model_name": "LayoutModel",
            "justify_items": null,
            "grid_row": null,
            "max_height": null,
            "align_content": null,
            "visibility": null,
            "align_self": null,
            "height": null,
            "min_height": null,
            "padding": null,
            "grid_auto_rows": null,
            "grid_gap": null,
            "max_width": null,
            "order": null,
            "_view_module_version": "1.2.0",
            "grid_template_areas": null,
            "object_position": null,
            "object_fit": null,
            "grid_auto_columns": null,
            "margin": null,
            "display": null,
            "left": null
          }
        },
        "42d49008d468457eab9dcc42cfa28092": {
          "model_module": "@jupyter-widgets/controls",
          "model_name": "DescriptionStyleModel",
          "state": {
            "_view_name": "StyleView",
            "_model_name": "DescriptionStyleModel",
            "description_width": "",
            "_view_module": "@jupyter-widgets/base",
            "_model_module_version": "1.5.0",
            "_view_count": null,
            "_view_module_version": "1.2.0",
            "_model_module": "@jupyter-widgets/controls"
          }
        },
        "faa9fc6846af412db95986b38c794a5a": {
          "model_module": "@jupyter-widgets/base",
          "model_name": "LayoutModel",
          "state": {
            "_view_name": "LayoutView",
            "grid_template_rows": null,
            "right": null,
            "justify_content": null,
            "_view_module": "@jupyter-widgets/base",
            "overflow": null,
            "_model_module_version": "1.2.0",
            "_view_count": null,
            "flex_flow": null,
            "width": null,
            "min_width": null,
            "border": null,
            "align_items": null,
            "bottom": null,
            "_model_module": "@jupyter-widgets/base",
            "top": null,
            "grid_column": null,
            "overflow_y": null,
            "overflow_x": null,
            "grid_auto_flow": null,
            "grid_area": null,
            "grid_template_columns": null,
            "flex": null,
            "_model_name": "LayoutModel",
            "justify_items": null,
            "grid_row": null,
            "max_height": null,
            "align_content": null,
            "visibility": null,
            "align_self": null,
            "height": null,
            "min_height": null,
            "padding": null,
            "grid_auto_rows": null,
            "grid_gap": null,
            "max_width": null,
            "order": null,
            "_view_module_version": "1.2.0",
            "grid_template_areas": null,
            "object_position": null,
            "object_fit": null,
            "grid_auto_columns": null,
            "margin": null,
            "display": null,
            "left": null
          }
        },
        "0ed9825441a54e659ff8cf5807e7b185": {
          "model_module": "@jupyter-widgets/controls",
          "model_name": "HBoxModel",
          "state": {
            "_view_name": "HBoxView",
            "_dom_classes": [],
            "_model_name": "HBoxModel",
            "_view_module": "@jupyter-widgets/controls",
            "_model_module_version": "1.5.0",
            "_view_count": null,
            "_view_module_version": "1.5.0",
            "box_style": "",
            "layout": "IPY_MODEL_b1777204775949849e7c1ba0778c659b",
            "_model_module": "@jupyter-widgets/controls",
            "children": [
              "IPY_MODEL_a9d64540c0e4407daed6ded875df1f78",
              "IPY_MODEL_fa64eb1926ec4751814db7438dc1cd7c"
            ]
          }
        },
        "b1777204775949849e7c1ba0778c659b": {
          "model_module": "@jupyter-widgets/base",
          "model_name": "LayoutModel",
          "state": {
            "_view_name": "LayoutView",
            "grid_template_rows": null,
            "right": null,
            "justify_content": null,
            "_view_module": "@jupyter-widgets/base",
            "overflow": null,
            "_model_module_version": "1.2.0",
            "_view_count": null,
            "flex_flow": null,
            "width": null,
            "min_width": null,
            "border": null,
            "align_items": null,
            "bottom": null,
            "_model_module": "@jupyter-widgets/base",
            "top": null,
            "grid_column": null,
            "overflow_y": null,
            "overflow_x": null,
            "grid_auto_flow": null,
            "grid_area": null,
            "grid_template_columns": null,
            "flex": null,
            "_model_name": "LayoutModel",
            "justify_items": null,
            "grid_row": null,
            "max_height": null,
            "align_content": null,
            "visibility": null,
            "align_self": null,
            "height": null,
            "min_height": null,
            "padding": null,
            "grid_auto_rows": null,
            "grid_gap": null,
            "max_width": null,
            "order": null,
            "_view_module_version": "1.2.0",
            "grid_template_areas": null,
            "object_position": null,
            "object_fit": null,
            "grid_auto_columns": null,
            "margin": null,
            "display": null,
            "left": null
          }
        },
        "a9d64540c0e4407daed6ded875df1f78": {
          "model_module": "@jupyter-widgets/controls",
          "model_name": "FloatProgressModel",
          "state": {
            "_view_name": "ProgressView",
            "style": "IPY_MODEL_f60a22ce7b964eb5a9dbcecf6101eed2",
            "_dom_classes": [],
            "description": "#2: 100%",
            "_model_name": "FloatProgressModel",
            "bar_style": "success",
            "max": 58,
            "_view_module": "@jupyter-widgets/controls",
            "_model_module_version": "1.5.0",
            "value": 58,
            "_view_count": null,
            "_view_module_version": "1.5.0",
            "orientation": "horizontal",
            "min": 0,
            "description_tooltip": null,
            "_model_module": "@jupyter-widgets/controls",
            "layout": "IPY_MODEL_da150de103d24ceb8a3db31ba8b86a15"
          }
        },
        "fa64eb1926ec4751814db7438dc1cd7c": {
          "model_module": "@jupyter-widgets/controls",
          "model_name": "HTMLModel",
          "state": {
            "_view_name": "HTMLView",
            "style": "IPY_MODEL_0d61b07b0b7f419e8f0074bd2b5f20b1",
            "_dom_classes": [],
            "description": "",
            "_model_name": "HTMLModel",
            "placeholder": "​",
            "_view_module": "@jupyter-widgets/controls",
            "_model_module_version": "1.5.0",
            "value": " 58/58 [00:30&lt;00:00,  1.91ba/s]",
            "_view_count": null,
            "_view_module_version": "1.5.0",
            "description_tooltip": null,
            "_model_module": "@jupyter-widgets/controls",
            "layout": "IPY_MODEL_b7e51cbb42ce40b2af18006cb69ee72d"
          }
        },
        "f60a22ce7b964eb5a9dbcecf6101eed2": {
          "model_module": "@jupyter-widgets/controls",
          "model_name": "ProgressStyleModel",
          "state": {
            "_view_name": "StyleView",
            "_model_name": "ProgressStyleModel",
            "description_width": "initial",
            "_view_module": "@jupyter-widgets/base",
            "_model_module_version": "1.5.0",
            "_view_count": null,
            "_view_module_version": "1.2.0",
            "bar_color": null,
            "_model_module": "@jupyter-widgets/controls"
          }
        },
        "da150de103d24ceb8a3db31ba8b86a15": {
          "model_module": "@jupyter-widgets/base",
          "model_name": "LayoutModel",
          "state": {
            "_view_name": "LayoutView",
            "grid_template_rows": null,
            "right": null,
            "justify_content": null,
            "_view_module": "@jupyter-widgets/base",
            "overflow": null,
            "_model_module_version": "1.2.0",
            "_view_count": null,
            "flex_flow": null,
            "width": null,
            "min_width": null,
            "border": null,
            "align_items": null,
            "bottom": null,
            "_model_module": "@jupyter-widgets/base",
            "top": null,
            "grid_column": null,
            "overflow_y": null,
            "overflow_x": null,
            "grid_auto_flow": null,
            "grid_area": null,
            "grid_template_columns": null,
            "flex": null,
            "_model_name": "LayoutModel",
            "justify_items": null,
            "grid_row": null,
            "max_height": null,
            "align_content": null,
            "visibility": null,
            "align_self": null,
            "height": null,
            "min_height": null,
            "padding": null,
            "grid_auto_rows": null,
            "grid_gap": null,
            "max_width": null,
            "order": null,
            "_view_module_version": "1.2.0",
            "grid_template_areas": null,
            "object_position": null,
            "object_fit": null,
            "grid_auto_columns": null,
            "margin": null,
            "display": null,
            "left": null
          }
        },
        "0d61b07b0b7f419e8f0074bd2b5f20b1": {
          "model_module": "@jupyter-widgets/controls",
          "model_name": "DescriptionStyleModel",
          "state": {
            "_view_name": "StyleView",
            "_model_name": "DescriptionStyleModel",
            "description_width": "",
            "_view_module": "@jupyter-widgets/base",
            "_model_module_version": "1.5.0",
            "_view_count": null,
            "_view_module_version": "1.2.0",
            "_model_module": "@jupyter-widgets/controls"
          }
        },
        "b7e51cbb42ce40b2af18006cb69ee72d": {
          "model_module": "@jupyter-widgets/base",
          "model_name": "LayoutModel",
          "state": {
            "_view_name": "LayoutView",
            "grid_template_rows": null,
            "right": null,
            "justify_content": null,
            "_view_module": "@jupyter-widgets/base",
            "overflow": null,
            "_model_module_version": "1.2.0",
            "_view_count": null,
            "flex_flow": null,
            "width": null,
            "min_width": null,
            "border": null,
            "align_items": null,
            "bottom": null,
            "_model_module": "@jupyter-widgets/base",
            "top": null,
            "grid_column": null,
            "overflow_y": null,
            "overflow_x": null,
            "grid_auto_flow": null,
            "grid_area": null,
            "grid_template_columns": null,
            "flex": null,
            "_model_name": "LayoutModel",
            "justify_items": null,
            "grid_row": null,
            "max_height": null,
            "align_content": null,
            "visibility": null,
            "align_self": null,
            "height": null,
            "min_height": null,
            "padding": null,
            "grid_auto_rows": null,
            "grid_gap": null,
            "max_width": null,
            "order": null,
            "_view_module_version": "1.2.0",
            "grid_template_areas": null,
            "object_position": null,
            "object_fit": null,
            "grid_auto_columns": null,
            "margin": null,
            "display": null,
            "left": null
          }
        },
        "78fc36d27c8742adb43cdd0227054284": {
          "model_module": "@jupyter-widgets/controls",
          "model_name": "HBoxModel",
          "state": {
            "_view_name": "HBoxView",
            "_dom_classes": [],
            "_model_name": "HBoxModel",
            "_view_module": "@jupyter-widgets/controls",
            "_model_module_version": "1.5.0",
            "_view_count": null,
            "_view_module_version": "1.5.0",
            "box_style": "",
            "layout": "IPY_MODEL_4e77dff32bf444239283a0c2e5f4925d",
            "_model_module": "@jupyter-widgets/controls",
            "children": [
              "IPY_MODEL_4caa12db8d714ef6b54c93e871df26aa",
              "IPY_MODEL_6d3e670a17fc48e7aa9ac7230817b877"
            ]
          }
        },
        "4e77dff32bf444239283a0c2e5f4925d": {
          "model_module": "@jupyter-widgets/base",
          "model_name": "LayoutModel",
          "state": {
            "_view_name": "LayoutView",
            "grid_template_rows": null,
            "right": null,
            "justify_content": null,
            "_view_module": "@jupyter-widgets/base",
            "overflow": null,
            "_model_module_version": "1.2.0",
            "_view_count": null,
            "flex_flow": null,
            "width": null,
            "min_width": null,
            "border": null,
            "align_items": null,
            "bottom": null,
            "_model_module": "@jupyter-widgets/base",
            "top": null,
            "grid_column": null,
            "overflow_y": null,
            "overflow_x": null,
            "grid_auto_flow": null,
            "grid_area": null,
            "grid_template_columns": null,
            "flex": null,
            "_model_name": "LayoutModel",
            "justify_items": null,
            "grid_row": null,
            "max_height": null,
            "align_content": null,
            "visibility": null,
            "align_self": null,
            "height": null,
            "min_height": null,
            "padding": null,
            "grid_auto_rows": null,
            "grid_gap": null,
            "max_width": null,
            "order": null,
            "_view_module_version": "1.2.0",
            "grid_template_areas": null,
            "object_position": null,
            "object_fit": null,
            "grid_auto_columns": null,
            "margin": null,
            "display": null,
            "left": null
          }
        },
        "4caa12db8d714ef6b54c93e871df26aa": {
          "model_module": "@jupyter-widgets/controls",
          "model_name": "FloatProgressModel",
          "state": {
            "_view_name": "ProgressView",
            "style": "IPY_MODEL_c824cb78ca814ea182157da5b68a7ad4",
            "_dom_classes": [],
            "description": "#1: 100%",
            "_model_name": "FloatProgressModel",
            "bar_style": "success",
            "max": 58,
            "_view_module": "@jupyter-widgets/controls",
            "_model_module_version": "1.5.0",
            "value": 58,
            "_view_count": null,
            "_view_module_version": "1.5.0",
            "orientation": "horizontal",
            "min": 0,
            "description_tooltip": null,
            "_model_module": "@jupyter-widgets/controls",
            "layout": "IPY_MODEL_950432ddd6db477cbb27375d0b23bfd8"
          }
        },
        "6d3e670a17fc48e7aa9ac7230817b877": {
          "model_module": "@jupyter-widgets/controls",
          "model_name": "HTMLModel",
          "state": {
            "_view_name": "HTMLView",
            "style": "IPY_MODEL_829c193bac2b4dab9477f3f4b0a4adcc",
            "_dom_classes": [],
            "description": "",
            "_model_name": "HTMLModel",
            "placeholder": "​",
            "_view_module": "@jupyter-widgets/controls",
            "_model_module_version": "1.5.0",
            "value": " 58/58 [00:32&lt;00:00,  1.80ba/s]",
            "_view_count": null,
            "_view_module_version": "1.5.0",
            "description_tooltip": null,
            "_model_module": "@jupyter-widgets/controls",
            "layout": "IPY_MODEL_ec8b5fa451754e448b31ded4ca9acfc6"
          }
        },
        "c824cb78ca814ea182157da5b68a7ad4": {
          "model_module": "@jupyter-widgets/controls",
          "model_name": "ProgressStyleModel",
          "state": {
            "_view_name": "StyleView",
            "_model_name": "ProgressStyleModel",
            "description_width": "initial",
            "_view_module": "@jupyter-widgets/base",
            "_model_module_version": "1.5.0",
            "_view_count": null,
            "_view_module_version": "1.2.0",
            "bar_color": null,
            "_model_module": "@jupyter-widgets/controls"
          }
        },
        "950432ddd6db477cbb27375d0b23bfd8": {
          "model_module": "@jupyter-widgets/base",
          "model_name": "LayoutModel",
          "state": {
            "_view_name": "LayoutView",
            "grid_template_rows": null,
            "right": null,
            "justify_content": null,
            "_view_module": "@jupyter-widgets/base",
            "overflow": null,
            "_model_module_version": "1.2.0",
            "_view_count": null,
            "flex_flow": null,
            "width": null,
            "min_width": null,
            "border": null,
            "align_items": null,
            "bottom": null,
            "_model_module": "@jupyter-widgets/base",
            "top": null,
            "grid_column": null,
            "overflow_y": null,
            "overflow_x": null,
            "grid_auto_flow": null,
            "grid_area": null,
            "grid_template_columns": null,
            "flex": null,
            "_model_name": "LayoutModel",
            "justify_items": null,
            "grid_row": null,
            "max_height": null,
            "align_content": null,
            "visibility": null,
            "align_self": null,
            "height": null,
            "min_height": null,
            "padding": null,
            "grid_auto_rows": null,
            "grid_gap": null,
            "max_width": null,
            "order": null,
            "_view_module_version": "1.2.0",
            "grid_template_areas": null,
            "object_position": null,
            "object_fit": null,
            "grid_auto_columns": null,
            "margin": null,
            "display": null,
            "left": null
          }
        },
        "829c193bac2b4dab9477f3f4b0a4adcc": {
          "model_module": "@jupyter-widgets/controls",
          "model_name": "DescriptionStyleModel",
          "state": {
            "_view_name": "StyleView",
            "_model_name": "DescriptionStyleModel",
            "description_width": "",
            "_view_module": "@jupyter-widgets/base",
            "_model_module_version": "1.5.0",
            "_view_count": null,
            "_view_module_version": "1.2.0",
            "_model_module": "@jupyter-widgets/controls"
          }
        },
        "ec8b5fa451754e448b31ded4ca9acfc6": {
          "model_module": "@jupyter-widgets/base",
          "model_name": "LayoutModel",
          "state": {
            "_view_name": "LayoutView",
            "grid_template_rows": null,
            "right": null,
            "justify_content": null,
            "_view_module": "@jupyter-widgets/base",
            "overflow": null,
            "_model_module_version": "1.2.0",
            "_view_count": null,
            "flex_flow": null,
            "width": null,
            "min_width": null,
            "border": null,
            "align_items": null,
            "bottom": null,
            "_model_module": "@jupyter-widgets/base",
            "top": null,
            "grid_column": null,
            "overflow_y": null,
            "overflow_x": null,
            "grid_auto_flow": null,
            "grid_area": null,
            "grid_template_columns": null,
            "flex": null,
            "_model_name": "LayoutModel",
            "justify_items": null,
            "grid_row": null,
            "max_height": null,
            "align_content": null,
            "visibility": null,
            "align_self": null,
            "height": null,
            "min_height": null,
            "padding": null,
            "grid_auto_rows": null,
            "grid_gap": null,
            "max_width": null,
            "order": null,
            "_view_module_version": "1.2.0",
            "grid_template_areas": null,
            "object_position": null,
            "object_fit": null,
            "grid_auto_columns": null,
            "margin": null,
            "display": null,
            "left": null
          }
        },
        "c241b1df1dc14ff48c95d667cec7b695": {
          "model_module": "@jupyter-widgets/controls",
          "model_name": "HBoxModel",
          "state": {
            "_view_name": "HBoxView",
            "_dom_classes": [],
            "_model_name": "HBoxModel",
            "_view_module": "@jupyter-widgets/controls",
            "_model_module_version": "1.5.0",
            "_view_count": null,
            "_view_module_version": "1.5.0",
            "box_style": "",
            "layout": "IPY_MODEL_a9ee6d4a9c3844bd85a2c87bdcc12136",
            "_model_module": "@jupyter-widgets/controls",
            "children": [
              "IPY_MODEL_9bb2fbf494c64c1690e03685fbad47de",
              "IPY_MODEL_f9fe5fba22ed4372b02115347b3023f2"
            ]
          }
        },
        "a9ee6d4a9c3844bd85a2c87bdcc12136": {
          "model_module": "@jupyter-widgets/base",
          "model_name": "LayoutModel",
          "state": {
            "_view_name": "LayoutView",
            "grid_template_rows": null,
            "right": null,
            "justify_content": null,
            "_view_module": "@jupyter-widgets/base",
            "overflow": null,
            "_model_module_version": "1.2.0",
            "_view_count": null,
            "flex_flow": null,
            "width": null,
            "min_width": null,
            "border": null,
            "align_items": null,
            "bottom": null,
            "_model_module": "@jupyter-widgets/base",
            "top": null,
            "grid_column": null,
            "overflow_y": null,
            "overflow_x": null,
            "grid_auto_flow": null,
            "grid_area": null,
            "grid_template_columns": null,
            "flex": null,
            "_model_name": "LayoutModel",
            "justify_items": null,
            "grid_row": null,
            "max_height": null,
            "align_content": null,
            "visibility": null,
            "align_self": null,
            "height": null,
            "min_height": null,
            "padding": null,
            "grid_auto_rows": null,
            "grid_gap": null,
            "max_width": null,
            "order": null,
            "_view_module_version": "1.2.0",
            "grid_template_areas": null,
            "object_position": null,
            "object_fit": null,
            "grid_auto_columns": null,
            "margin": null,
            "display": null,
            "left": null
          }
        },
        "9bb2fbf494c64c1690e03685fbad47de": {
          "model_module": "@jupyter-widgets/controls",
          "model_name": "FloatProgressModel",
          "state": {
            "_view_name": "ProgressView",
            "style": "IPY_MODEL_34ae5f87916b4670bda39ad02c51365c",
            "_dom_classes": [],
            "description": "Downloading: ",
            "_model_name": "FloatProgressModel",
            "bar_style": "success",
            "max": 1764,
            "_view_module": "@jupyter-widgets/controls",
            "_model_module_version": "1.5.0",
            "value": 1764,
            "_view_count": null,
            "_view_module_version": "1.5.0",
            "orientation": "horizontal",
            "min": 0,
            "description_tooltip": null,
            "_model_module": "@jupyter-widgets/controls",
            "layout": "IPY_MODEL_aafd4d5992a34951b09e8ac1e62bf3cd"
          }
        },
        "f9fe5fba22ed4372b02115347b3023f2": {
          "model_module": "@jupyter-widgets/controls",
          "model_name": "HTMLModel",
          "state": {
            "_view_name": "HTMLView",
            "style": "IPY_MODEL_2d085b261c4a4cd992628208770df2b7",
            "_dom_classes": [],
            "description": "",
            "_model_name": "HTMLModel",
            "placeholder": "​",
            "_view_module": "@jupyter-widgets/controls",
            "_model_module_version": "1.5.0",
            "value": " 3.90k/? [00:32&lt;00:00, 120B/s]",
            "_view_count": null,
            "_view_module_version": "1.5.0",
            "description_tooltip": null,
            "_model_module": "@jupyter-widgets/controls",
            "layout": "IPY_MODEL_6cddabc85e7443d280818bfe792f86c9"
          }
        },
        "34ae5f87916b4670bda39ad02c51365c": {
          "model_module": "@jupyter-widgets/controls",
          "model_name": "ProgressStyleModel",
          "state": {
            "_view_name": "StyleView",
            "_model_name": "ProgressStyleModel",
            "description_width": "initial",
            "_view_module": "@jupyter-widgets/base",
            "_model_module_version": "1.5.0",
            "_view_count": null,
            "_view_module_version": "1.2.0",
            "bar_color": null,
            "_model_module": "@jupyter-widgets/controls"
          }
        },
        "aafd4d5992a34951b09e8ac1e62bf3cd": {
          "model_module": "@jupyter-widgets/base",
          "model_name": "LayoutModel",
          "state": {
            "_view_name": "LayoutView",
            "grid_template_rows": null,
            "right": null,
            "justify_content": null,
            "_view_module": "@jupyter-widgets/base",
            "overflow": null,
            "_model_module_version": "1.2.0",
            "_view_count": null,
            "flex_flow": null,
            "width": null,
            "min_width": null,
            "border": null,
            "align_items": null,
            "bottom": null,
            "_model_module": "@jupyter-widgets/base",
            "top": null,
            "grid_column": null,
            "overflow_y": null,
            "overflow_x": null,
            "grid_auto_flow": null,
            "grid_area": null,
            "grid_template_columns": null,
            "flex": null,
            "_model_name": "LayoutModel",
            "justify_items": null,
            "grid_row": null,
            "max_height": null,
            "align_content": null,
            "visibility": null,
            "align_self": null,
            "height": null,
            "min_height": null,
            "padding": null,
            "grid_auto_rows": null,
            "grid_gap": null,
            "max_width": null,
            "order": null,
            "_view_module_version": "1.2.0",
            "grid_template_areas": null,
            "object_position": null,
            "object_fit": null,
            "grid_auto_columns": null,
            "margin": null,
            "display": null,
            "left": null
          }
        },
        "2d085b261c4a4cd992628208770df2b7": {
          "model_module": "@jupyter-widgets/controls",
          "model_name": "DescriptionStyleModel",
          "state": {
            "_view_name": "StyleView",
            "_model_name": "DescriptionStyleModel",
            "description_width": "",
            "_view_module": "@jupyter-widgets/base",
            "_model_module_version": "1.5.0",
            "_view_count": null,
            "_view_module_version": "1.2.0",
            "_model_module": "@jupyter-widgets/controls"
          }
        },
        "6cddabc85e7443d280818bfe792f86c9": {
          "model_module": "@jupyter-widgets/base",
          "model_name": "LayoutModel",
          "state": {
            "_view_name": "LayoutView",
            "grid_template_rows": null,
            "right": null,
            "justify_content": null,
            "_view_module": "@jupyter-widgets/base",
            "overflow": null,
            "_model_module_version": "1.2.0",
            "_view_count": null,
            "flex_flow": null,
            "width": null,
            "min_width": null,
            "border": null,
            "align_items": null,
            "bottom": null,
            "_model_module": "@jupyter-widgets/base",
            "top": null,
            "grid_column": null,
            "overflow_y": null,
            "overflow_x": null,
            "grid_auto_flow": null,
            "grid_area": null,
            "grid_template_columns": null,
            "flex": null,
            "_model_name": "LayoutModel",
            "justify_items": null,
            "grid_row": null,
            "max_height": null,
            "align_content": null,
            "visibility": null,
            "align_self": null,
            "height": null,
            "min_height": null,
            "padding": null,
            "grid_auto_rows": null,
            "grid_gap": null,
            "max_width": null,
            "order": null,
            "_view_module_version": "1.2.0",
            "grid_template_areas": null,
            "object_position": null,
            "object_fit": null,
            "grid_auto_columns": null,
            "margin": null,
            "display": null,
            "left": null
          }
        },
        "77812df11600421db22b29d34f462727": {
          "model_module": "@jupyter-widgets/controls",
          "model_name": "HBoxModel",
          "state": {
            "_view_name": "HBoxView",
            "_dom_classes": [],
            "_model_name": "HBoxModel",
            "_view_module": "@jupyter-widgets/controls",
            "_model_module_version": "1.5.0",
            "_view_count": null,
            "_view_module_version": "1.5.0",
            "box_style": "",
            "layout": "IPY_MODEL_9481e0f2b88a4b968b7425cd91b342e1",
            "_model_module": "@jupyter-widgets/controls",
            "children": [
              "IPY_MODEL_b92bb07c36da4c43bbbfa9f028dd8dc3",
              "IPY_MODEL_b1e161798e2e4bd6b69df64bb86c4926"
            ]
          }
        },
        "9481e0f2b88a4b968b7425cd91b342e1": {
          "model_module": "@jupyter-widgets/base",
          "model_name": "LayoutModel",
          "state": {
            "_view_name": "LayoutView",
            "grid_template_rows": null,
            "right": null,
            "justify_content": null,
            "_view_module": "@jupyter-widgets/base",
            "overflow": null,
            "_model_module_version": "1.2.0",
            "_view_count": null,
            "flex_flow": null,
            "width": null,
            "min_width": null,
            "border": null,
            "align_items": null,
            "bottom": null,
            "_model_module": "@jupyter-widgets/base",
            "top": null,
            "grid_column": null,
            "overflow_y": null,
            "overflow_x": null,
            "grid_auto_flow": null,
            "grid_area": null,
            "grid_template_columns": null,
            "flex": null,
            "_model_name": "LayoutModel",
            "justify_items": null,
            "grid_row": null,
            "max_height": null,
            "align_content": null,
            "visibility": null,
            "align_self": null,
            "height": null,
            "min_height": null,
            "padding": null,
            "grid_auto_rows": null,
            "grid_gap": null,
            "max_width": null,
            "order": null,
            "_view_module_version": "1.2.0",
            "grid_template_areas": null,
            "object_position": null,
            "object_fit": null,
            "grid_auto_columns": null,
            "margin": null,
            "display": null,
            "left": null
          }
        },
        "b92bb07c36da4c43bbbfa9f028dd8dc3": {
          "model_module": "@jupyter-widgets/controls",
          "model_name": "FloatProgressModel",
          "state": {
            "_view_name": "ProgressView",
            "style": "IPY_MODEL_5cbf9d4c4e464e478700f51cb258cb73",
            "_dom_classes": [],
            "description": "Downloading: 100%",
            "_model_name": "FloatProgressModel",
            "bar_style": "success",
            "max": 1451,
            "_view_module": "@jupyter-widgets/controls",
            "_model_module_version": "1.5.0",
            "value": 1451,
            "_view_count": null,
            "_view_module_version": "1.5.0",
            "orientation": "horizontal",
            "min": 0,
            "description_tooltip": null,
            "_model_module": "@jupyter-widgets/controls",
            "layout": "IPY_MODEL_534e6838f96a4f069db1c8f982208c5f"
          }
        },
        "b1e161798e2e4bd6b69df64bb86c4926": {
          "model_module": "@jupyter-widgets/controls",
          "model_name": "HTMLModel",
          "state": {
            "_view_name": "HTMLView",
            "style": "IPY_MODEL_3c1a4fc7fcb74354a55b4994e1f3e3a6",
            "_dom_classes": [],
            "description": "",
            "_model_name": "HTMLModel",
            "placeholder": "​",
            "_view_module": "@jupyter-widgets/controls",
            "_model_module_version": "1.5.0",
            "value": " 1.45k/1.45k [00:00&lt;00:00, 3.26kB/s]",
            "_view_count": null,
            "_view_module_version": "1.5.0",
            "description_tooltip": null,
            "_model_module": "@jupyter-widgets/controls",
            "layout": "IPY_MODEL_9b7f62db4d634574bdc68dbe0f077d5c"
          }
        },
        "5cbf9d4c4e464e478700f51cb258cb73": {
          "model_module": "@jupyter-widgets/controls",
          "model_name": "ProgressStyleModel",
          "state": {
            "_view_name": "StyleView",
            "_model_name": "ProgressStyleModel",
            "description_width": "initial",
            "_view_module": "@jupyter-widgets/base",
            "_model_module_version": "1.5.0",
            "_view_count": null,
            "_view_module_version": "1.2.0",
            "bar_color": null,
            "_model_module": "@jupyter-widgets/controls"
          }
        },
        "534e6838f96a4f069db1c8f982208c5f": {
          "model_module": "@jupyter-widgets/base",
          "model_name": "LayoutModel",
          "state": {
            "_view_name": "LayoutView",
            "grid_template_rows": null,
            "right": null,
            "justify_content": null,
            "_view_module": "@jupyter-widgets/base",
            "overflow": null,
            "_model_module_version": "1.2.0",
            "_view_count": null,
            "flex_flow": null,
            "width": null,
            "min_width": null,
            "border": null,
            "align_items": null,
            "bottom": null,
            "_model_module": "@jupyter-widgets/base",
            "top": null,
            "grid_column": null,
            "overflow_y": null,
            "overflow_x": null,
            "grid_auto_flow": null,
            "grid_area": null,
            "grid_template_columns": null,
            "flex": null,
            "_model_name": "LayoutModel",
            "justify_items": null,
            "grid_row": null,
            "max_height": null,
            "align_content": null,
            "visibility": null,
            "align_self": null,
            "height": null,
            "min_height": null,
            "padding": null,
            "grid_auto_rows": null,
            "grid_gap": null,
            "max_width": null,
            "order": null,
            "_view_module_version": "1.2.0",
            "grid_template_areas": null,
            "object_position": null,
            "object_fit": null,
            "grid_auto_columns": null,
            "margin": null,
            "display": null,
            "left": null
          }
        },
        "3c1a4fc7fcb74354a55b4994e1f3e3a6": {
          "model_module": "@jupyter-widgets/controls",
          "model_name": "DescriptionStyleModel",
          "state": {
            "_view_name": "StyleView",
            "_model_name": "DescriptionStyleModel",
            "description_width": "",
            "_view_module": "@jupyter-widgets/base",
            "_model_module_version": "1.5.0",
            "_view_count": null,
            "_view_module_version": "1.2.0",
            "_model_module": "@jupyter-widgets/controls"
          }
        },
        "9b7f62db4d634574bdc68dbe0f077d5c": {
          "model_module": "@jupyter-widgets/base",
          "model_name": "LayoutModel",
          "state": {
            "_view_name": "LayoutView",
            "grid_template_rows": null,
            "right": null,
            "justify_content": null,
            "_view_module": "@jupyter-widgets/base",
            "overflow": null,
            "_model_module_version": "1.2.0",
            "_view_count": null,
            "flex_flow": null,
            "width": null,
            "min_width": null,
            "border": null,
            "align_items": null,
            "bottom": null,
            "_model_module": "@jupyter-widgets/base",
            "top": null,
            "grid_column": null,
            "overflow_y": null,
            "overflow_x": null,
            "grid_auto_flow": null,
            "grid_area": null,
            "grid_template_columns": null,
            "flex": null,
            "_model_name": "LayoutModel",
            "justify_items": null,
            "grid_row": null,
            "max_height": null,
            "align_content": null,
            "visibility": null,
            "align_self": null,
            "height": null,
            "min_height": null,
            "padding": null,
            "grid_auto_rows": null,
            "grid_gap": null,
            "max_width": null,
            "order": null,
            "_view_module_version": "1.2.0",
            "grid_template_areas": null,
            "object_position": null,
            "object_fit": null,
            "grid_auto_columns": null,
            "margin": null,
            "display": null,
            "left": null
          }
        },
        "d6e544b487c84994b5832c16d56e4379": {
          "model_module": "@jupyter-widgets/controls",
          "model_name": "HBoxModel",
          "state": {
            "_view_name": "HBoxView",
            "_dom_classes": [],
            "_model_name": "HBoxModel",
            "_view_module": "@jupyter-widgets/controls",
            "_model_module_version": "1.5.0",
            "_view_count": null,
            "_view_module_version": "1.5.0",
            "box_style": "",
            "layout": "IPY_MODEL_1e66b53ec1034e27a33e82a067755b62",
            "_model_module": "@jupyter-widgets/controls",
            "children": [
              "IPY_MODEL_522bd837e44740d6893ce4838198182c",
              "IPY_MODEL_90bb6f0a4b0f4bc38f844262ae846258"
            ]
          }
        },
        "1e66b53ec1034e27a33e82a067755b62": {
          "model_module": "@jupyter-widgets/base",
          "model_name": "LayoutModel",
          "state": {
            "_view_name": "LayoutView",
            "grid_template_rows": null,
            "right": null,
            "justify_content": null,
            "_view_module": "@jupyter-widgets/base",
            "overflow": null,
            "_model_module_version": "1.2.0",
            "_view_count": null,
            "flex_flow": null,
            "width": null,
            "min_width": null,
            "border": null,
            "align_items": null,
            "bottom": null,
            "_model_module": "@jupyter-widgets/base",
            "top": null,
            "grid_column": null,
            "overflow_y": null,
            "overflow_x": null,
            "grid_auto_flow": null,
            "grid_area": null,
            "grid_template_columns": null,
            "flex": null,
            "_model_name": "LayoutModel",
            "justify_items": null,
            "grid_row": null,
            "max_height": null,
            "align_content": null,
            "visibility": null,
            "align_self": null,
            "height": null,
            "min_height": null,
            "padding": null,
            "grid_auto_rows": null,
            "grid_gap": null,
            "max_width": null,
            "order": null,
            "_view_module_version": "1.2.0",
            "grid_template_areas": null,
            "object_position": null,
            "object_fit": null,
            "grid_auto_columns": null,
            "margin": null,
            "display": null,
            "left": null
          }
        },
        "522bd837e44740d6893ce4838198182c": {
          "model_module": "@jupyter-widgets/controls",
          "model_name": "FloatProgressModel",
          "state": {
            "_view_name": "ProgressView",
            "style": "IPY_MODEL_58fab64e1b754122818eab0b36122651",
            "_dom_classes": [],
            "description": "Downloading: 100%",
            "_model_name": "FloatProgressModel",
            "bar_style": "success",
            "max": 1261920069,
            "_view_module": "@jupyter-widgets/controls",
            "_model_module_version": "1.5.0",
            "value": 1261920069,
            "_view_count": null,
            "_view_module_version": "1.5.0",
            "orientation": "horizontal",
            "min": 0,
            "description_tooltip": null,
            "_model_module": "@jupyter-widgets/controls",
            "layout": "IPY_MODEL_ebe4830a968b4707b0845da033bb07fd"
          }
        },
        "90bb6f0a4b0f4bc38f844262ae846258": {
          "model_module": "@jupyter-widgets/controls",
          "model_name": "HTMLModel",
          "state": {
            "_view_name": "HTMLView",
            "style": "IPY_MODEL_61f4412c2bd74bccb951bcbb8f68ae1d",
            "_dom_classes": [],
            "description": "",
            "_model_name": "HTMLModel",
            "placeholder": "​",
            "_view_module": "@jupyter-widgets/controls",
            "_model_module_version": "1.5.0",
            "value": " 1.26G/1.26G [00:31&lt;00:00, 40.3MB/s]",
            "_view_count": null,
            "_view_module_version": "1.5.0",
            "description_tooltip": null,
            "_model_module": "@jupyter-widgets/controls",
            "layout": "IPY_MODEL_bbd003ce0f97425eb5aedc896d264dca"
          }
        },
        "58fab64e1b754122818eab0b36122651": {
          "model_module": "@jupyter-widgets/controls",
          "model_name": "ProgressStyleModel",
          "state": {
            "_view_name": "StyleView",
            "_model_name": "ProgressStyleModel",
            "description_width": "initial",
            "_view_module": "@jupyter-widgets/base",
            "_model_module_version": "1.5.0",
            "_view_count": null,
            "_view_module_version": "1.2.0",
            "bar_color": null,
            "_model_module": "@jupyter-widgets/controls"
          }
        },
        "ebe4830a968b4707b0845da033bb07fd": {
          "model_module": "@jupyter-widgets/base",
          "model_name": "LayoutModel",
          "state": {
            "_view_name": "LayoutView",
            "grid_template_rows": null,
            "right": null,
            "justify_content": null,
            "_view_module": "@jupyter-widgets/base",
            "overflow": null,
            "_model_module_version": "1.2.0",
            "_view_count": null,
            "flex_flow": null,
            "width": null,
            "min_width": null,
            "border": null,
            "align_items": null,
            "bottom": null,
            "_model_module": "@jupyter-widgets/base",
            "top": null,
            "grid_column": null,
            "overflow_y": null,
            "overflow_x": null,
            "grid_auto_flow": null,
            "grid_area": null,
            "grid_template_columns": null,
            "flex": null,
            "_model_name": "LayoutModel",
            "justify_items": null,
            "grid_row": null,
            "max_height": null,
            "align_content": null,
            "visibility": null,
            "align_self": null,
            "height": null,
            "min_height": null,
            "padding": null,
            "grid_auto_rows": null,
            "grid_gap": null,
            "max_width": null,
            "order": null,
            "_view_module_version": "1.2.0",
            "grid_template_areas": null,
            "object_position": null,
            "object_fit": null,
            "grid_auto_columns": null,
            "margin": null,
            "display": null,
            "left": null
          }
        },
        "61f4412c2bd74bccb951bcbb8f68ae1d": {
          "model_module": "@jupyter-widgets/controls",
          "model_name": "DescriptionStyleModel",
          "state": {
            "_view_name": "StyleView",
            "_model_name": "DescriptionStyleModel",
            "description_width": "",
            "_view_module": "@jupyter-widgets/base",
            "_model_module_version": "1.5.0",
            "_view_count": null,
            "_view_module_version": "1.2.0",
            "_model_module": "@jupyter-widgets/controls"
          }
        },
        "bbd003ce0f97425eb5aedc896d264dca": {
          "model_module": "@jupyter-widgets/base",
          "model_name": "LayoutModel",
          "state": {
            "_view_name": "LayoutView",
            "grid_template_rows": null,
            "right": null,
            "justify_content": null,
            "_view_module": "@jupyter-widgets/base",
            "overflow": null,
            "_model_module_version": "1.2.0",
            "_view_count": null,
            "flex_flow": null,
            "width": null,
            "min_width": null,
            "border": null,
            "align_items": null,
            "bottom": null,
            "_model_module": "@jupyter-widgets/base",
            "top": null,
            "grid_column": null,
            "overflow_y": null,
            "overflow_x": null,
            "grid_auto_flow": null,
            "grid_area": null,
            "grid_template_columns": null,
            "flex": null,
            "_model_name": "LayoutModel",
            "justify_items": null,
            "grid_row": null,
            "max_height": null,
            "align_content": null,
            "visibility": null,
            "align_self": null,
            "height": null,
            "min_height": null,
            "padding": null,
            "grid_auto_rows": null,
            "grid_gap": null,
            "max_width": null,
            "order": null,
            "_view_module_version": "1.2.0",
            "grid_template_areas": null,
            "object_position": null,
            "object_fit": null,
            "grid_auto_columns": null,
            "margin": null,
            "display": null,
            "left": null
          }
        }
      }
    },
    "accelerator": "GPU"
  },
  "cells": [
    {
      "cell_type": "markdown",
      "metadata": {
        "id": "view-in-github",
        "colab_type": "text"
      },
      "source": [
        "<a href=\"https://colab.research.google.com/github/cahya-wirawan/indonesian-speech-recognition/blob/main/Fine_Tuning_XLSR_Wav2Vec2_for_Indonesian.ipynb\" target=\"_parent\"><img src=\"https://colab.research.google.com/assets/colab-badge.svg\" alt=\"Open In Colab\"/></a>"
      ]
    },
    {
      "cell_type": "markdown",
      "metadata": {
        "id": "LBSYoWbi-45k"
      },
      "source": [
        "# **Fine-tuning XLSR-Wav2Vec2 for Multi-Lingual ASR with 🤗 Transformers**"
      ]
    },
    {
      "cell_type": "markdown",
      "metadata": {
        "id": "V7YOT2mnUiea"
      },
      "source": [
        "Wav2Vec2 is a pretrained model for Automatic Speech Recognition (ASR) and was released in [September 2020](https://ai.facebook.com/blog/wav2vec-20-learning-the-structure-of-speech-from-raw-audio/) by Alexei Baevski, Michael Auli, and Alex Conneau.  Soon after the superior performance of Wav2Vec2 was demonstrated on the English ASR dataset LibriSpeech, *Facebook AI* presented XLSR-Wav2Vec2 (click [here](https://arxiv.org/abs/2006.13979)). XLSR stands for *cross-lingual  speech representations* and refers to XLSR-Wav2Vec2`s ability to learn speech representations that are useful across multiple languages.\n",
        "\n",
        "Similar to Wav2Vec2, XLSR-Wav2Vec2 learns powerful speech representations from hundreds of thousands of hours of speech in more than 50 languages of unlabeled speech. Similar, to [BERT's masked language modeling](http://jalammar.github.io/illustrated-bert/), the model learns contextualized speech representations by randomly masking feature vectors before passing them to a transformer network.\n",
        "\n",
        "![wav2vec2_structure](https://raw.githubusercontent.com/patrickvonplaten/scientific_images/master/xlsr_wav2vec2.png)\n",
        "\n",
        "The authors show for the first time that massively pretraining an ASR model on cross-lingual unlabeled speech data, followed by language-specific fine-tuning on very little labeled data achieves state-of-the-art results. See Table 1-5 of the official [paper](https://arxiv.org/pdf/2006.13979.pdf)."
      ]
    },
    {
      "cell_type": "markdown",
      "metadata": {
        "id": "nT_QrfWtsxIz"
      },
      "source": [
        "In this notebook, we will give an in-detail explanation of how XLSR-Wav2Vec2's pretrained checkpoint can be fine-tuned on a low-resource ASR dataset of any language. Note that in this notebook, we will fine-tune XLSR-Wav2Vec2 without making use of a language model. It is much simpler and more efficient to use XLSR-Wav2Vec2 without a language model, but better results can be achieved by including a language model. \n",
        "\n",
        "For demonstration purposes, we fine-tune the [wav2vec2-large-xlsr-53](https://huggingface.co/facebook/wav2vec2-large-xlsr-53) on the low resource Turkish ASR dataset of [Common Voice](https://huggingface.co/datasets/common_voice) that contains just ~6h of validated training data."
      ]
    },
    {
      "cell_type": "markdown",
      "metadata": {
        "id": "Gx9OdDYrCtQ1"
      },
      "source": [
        "XLSR-Wav2Vec2 is fine-tuned using Connectionist Temporal Classification (CTC), which is an algorithm that is used to train neural networks for sequence-to-sequence problems and mainly in Automatic Speech Recognition and handwriting recognition. \n",
        "\n",
        "I highly recommend reading the blog post [Sequence Modeling with CTC (2017)](https://distill.pub/2017/ctc/) very well-written blog post by Awni Hannun."
      ]
    },
    {
      "cell_type": "markdown",
      "metadata": {
        "id": "e335hPmdtASZ"
      },
      "source": [
        "Before we start, let's install both `datasets` and `transformers` from master. Also, we need the `torchaudio` and `librosa` package to load audio files and the `jiwer` to evaluate our fine-tuned model using the [word error rate (WER)](https://huggingface.co/metrics/wer) metric ${}^1$."
      ]
    },
    {
      "cell_type": "code",
      "metadata": {
        "id": "c8eh87Hoee5d"
      },
      "source": [
        "%%capture\n",
        "!pip install datasets==1.4.1\n",
        "!pip install transformers==4.4.0\n",
        "!pip install torchaudio\n",
        "!pip install librosa\n",
        "!pip install jiwer"
      ],
      "execution_count": 3,
      "outputs": []
    },
    {
      "cell_type": "code",
      "metadata": {
        "id": "HfNT1MUJEKeA",
        "outputId": "750629af-1633-4fd8-a136-ac185de20380",
        "colab": {
          "base_uri": "https://localhost:8080/"
        }
      },
      "source": [
        "!nvidia-smi"
      ],
      "execution_count": 2,
      "outputs": [
        {
          "output_type": "stream",
          "text": [
            "Fri Mar 19 06:39:01 2021       \n",
            "+-----------------------------------------------------------------------------+\n",
            "| NVIDIA-SMI 460.56       Driver Version: 460.32.03    CUDA Version: 11.2     |\n",
            "|-------------------------------+----------------------+----------------------+\n",
            "| GPU  Name        Persistence-M| Bus-Id        Disp.A | Volatile Uncorr. ECC |\n",
            "| Fan  Temp  Perf  Pwr:Usage/Cap|         Memory-Usage | GPU-Util  Compute M. |\n",
            "|                               |                      |               MIG M. |\n",
            "|===============================+======================+======================|\n",
            "|   0  Tesla P100-PCIE...  Off  | 00000000:00:04.0 Off |                    0 |\n",
            "| N/A   41C    P0    28W / 250W |      0MiB / 16280MiB |      0%      Default |\n",
            "|                               |                      |                  N/A |\n",
            "+-------------------------------+----------------------+----------------------+\n",
            "                                                                               \n",
            "+-----------------------------------------------------------------------------+\n",
            "| Processes:                                                                  |\n",
            "|  GPU   GI   CI        PID   Type   Process name                  GPU Memory |\n",
            "|        ID   ID                                                   Usage      |\n",
            "|=============================================================================|\n",
            "|  No running processes found                                                 |\n",
            "+-----------------------------------------------------------------------------+\n"
          ],
          "name": "stdout"
        }
      ]
    },
    {
      "cell_type": "markdown",
      "metadata": {
        "id": "Mn9swf6EQ9Vd"
      },
      "source": [
        "\n",
        "\n",
        "\n",
        "---\n",
        "\n",
        "${}^1$ In the [paper](https://arxiv.org/pdf/2006.13979.pdf), the model was evaluated using the phoneme error rate (PER), but by far the most common metric in ASR is the word error rate (WER). To keep this notebook as general as possible we decided to evaluate the model using WER."
      ]
    },
    {
      "cell_type": "markdown",
      "metadata": {
        "id": "0mW-C1Nt-j7k"
      },
      "source": [
        "## Prepare Data, Tokenizer, Feature Extractor"
      ]
    },
    {
      "cell_type": "markdown",
      "metadata": {
        "id": "BeBosnY9BH3e"
      },
      "source": [
        "ASR models transcribe speech to text, which means that we both need a feature extractor that processes the speech signal to the model's input format, *e.g.* a feature vector, and a tokenizer that processes the model's output format to text. \n",
        "\n",
        "In 🤗 Transformers, the XLSR-Wav2Vec2 model is thus accompanied by both a tokenizer, called [Wav2Vec2CTCTokenizer](https://huggingface.co/transformers/master/model_doc/wav2vec2.html#wav2vec2ctctokenizer), and a feature extractor, called [Wav2Vec2FeatureExtractor](https://huggingface.co/transformers/master/model_doc/wav2vec2.html#wav2vec2featureextractor).\n",
        "\n",
        "Let's start by creating the tokenizer responsible for decoding the model's predictions."
      ]
    },
    {
      "cell_type": "markdown",
      "metadata": {
        "id": "sEXEWEJGQPqD"
      },
      "source": [
        "### Create Wav2Vec2CTCTokenizer"
      ]
    },
    {
      "cell_type": "markdown",
      "metadata": {
        "id": "tWmMikuNEKl_"
      },
      "source": [
        "The [pretrained Wav2Vec2 checkpoint]( ) maps the speech signal to a sequence of context representations as illustrated in the figure above. A fine-tuned XLSR-Wav2Vec2 checkpoint needs to map this sequence of context representations to its corresponding transcription so that a linear layer has to be added on top of the transformer block (shown in yellow). This linear layer is used to classifies each context representation to a token class analogous how, *e.g.*, after pretraining a linear layer is added on top of BERT's embeddings for further classification - *cf.* with *\"BERT\"* section of this [blog post](https://huggingface.co/blog/warm-starting-encoder-decoder).\n",
        "\n",
        "The output size of this layer corresponds to the number of tokens in the vocabulary, which does **not** depend on XLSR-Wav2Vec2's pretraining task, but only on the labeled dataset used for fine-tuning. So in the first step, we will take a look at Common Voice and define a vocabulary based on the dataset's transcriptions."
      ]
    },
    {
      "cell_type": "markdown",
      "metadata": {
        "id": "idBczw8mWzgt"
      },
      "source": [
        "First, let's go to [Common Voice](https://commonvoice.mozilla.org/en/datasets) and pick a language to fine-tune XLSR-Wav2Vec2 on. For this notebook, we will use Turkish. \n",
        "\n",
        "For each language-specific dataset, you can find a language code corresponding to your chosen language. On [Common Voice](https://commonvoice.mozilla.org/en/datasets), look for the field \"Version\". The language code then corresponds to the prefix before the underscore. For Turkish, *e.g.* the language code is `\"tr\"`.\n",
        "\n",
        "Great, now we can use 🤗 Datasets' simple API to download the data. The dataset name will be `\"common_voice\"`, the config name corresponds to the language code - `\"tr\"` in our case."
      ]
    },
    {
      "cell_type": "markdown",
      "metadata": {
        "id": "bee4g9rpLxll"
      },
      "source": [
        "Common Voice has many different splits including `invalidated`, which refers to data that was not rated as \"clean enough\" to be considered useful. In this notebook, we will only make use of the splits `\"train\"`, `\"validation\"` and `\"test\"`. \n",
        "\n",
        "Because the Turkish dataset is so small, we will merge both the validation and training data into a training dataset and simply use the test data for validation."
      ]
    },
    {
      "cell_type": "code",
      "metadata": {
        "id": "2MMXcWFFgCXU",
        "colab": {
          "base_uri": "https://localhost:8080/",
          "height": 309,
          "referenced_widgets": [
            "982db355f9664331a58dd4a3a9a27c5a",
            "ed658c4d10b64e51afd8a0f690d29e39",
            "c4f063806c4346df8afbab0b6589539b",
            "41eb246752ff48b1882e246c6c9f5a92",
            "fc54d27b996743cdb5c51b754223e0f9",
            "068fd9e0edc64a5bac6bf49b31c91802",
            "f22acdee8ecf4f2498883995ef2ecfbc",
            "00039ca23c3a4f4d8df54506f36cfea2",
            "19ecee93c74c4757a679a086549be6b8",
            "62c49f65530942ed879de86989246203",
            "404b88f7b6d846d6a07189e8ec2db1ac",
            "4c40584509da44b084de9c198c73a0a0",
            "30c865c4802d419b8e46f5fe09933b75",
            "8aba11f6caa349128d09592550ffc8d6",
            "c974154e602c4f4fb3148890b0a89460",
            "8d8ff02e54314d92918b53af359b1acc",
            "939edd477f4745559c7c3027c4e9571c",
            "2fb06b92472546c4afc5ae485b85ff8f",
            "126da43ea65744b3b9cf7265b67a686c",
            "dc89a83a66c0487490cfd97548952a8d",
            "a05d9655890042d1af0f0699e4a24e54",
            "3890545fbe364b4da1303c9d80c27189",
            "f3900583cec04da78ff1f3794b8b434e",
            "e05c03b75d964de0a58bf4628201b6f9",
            "8974b769f3ca48c9999ccf103b740673",
            "33c91f83522d42829c21e1207d70bc99",
            "32a7bf329359423e9e360008085c64ba",
            "ac61a95f02654899b31cf24ca745e543",
            "dfabb843c471489485d3cd4fd38ba934",
            "6ab33eee929b4235b42ffd921e86d4bd",
            "6c1a1fcc66ea4aef91d076941deaf83e",
            "0cba12d1ad7a4daf8bb8c58dbc666d74",
            "198a8ffc54844b618efc353c3dc48933",
            "67f4194a13104960ba1d5466ab2b954b",
            "073652e6daf04d62a3123dfb3f8cbda1",
            "5f80db4f160149f7a533c1361a60d9f1",
            "b4488f24b5e640a9b57290491a32f374",
            "e4407311159f4caaaccef472cbf829a8",
            "2eaaff3e7e2b496ea780e95b4fbda4d4",
            "4aa53a1ba28146c29509e0c2d558b8a7",
            "6b4835c9b3034d9ba2d551ce6a14a9a6",
            "0360bd5943b142d38021f6007f8b7037",
            "8e3c6955292b44fea8a9773330771ba5",
            "b418be330fb740bda61504bf2b3909f1",
            "ceeb8ea47c394120983d53a60c99cb9f",
            "f8cec53c267d4adb8817e1ce63c4d8a5",
            "0722bbb4438c40c59e536402c3eab284",
            "1540121f734f430285d815e9759702d9",
            "b9bb8d4811be484c88cf4c47e383e453",
            "391656ab255242d3a2ab319766adc96c",
            "61c83931bb9b4bfa995696742e9b765c",
            "32a90d0f3a5a404a92eb318b02116500",
            "5a47b674e6414850b4e56b5dbd1deea5",
            "480d1ab39c7e4c89b6c1fcd7d073beae",
            "999440c56beb4a24b5f055b47e00034f",
            "25ecfe61b1b04824a811015b1a932105",
            "5b1ee6f35d25465780f8a8950c1ee399",
            "377e975692dd4292b2db0ab19efcf7f5",
            "ad0abe22895145358426238694191755",
            "49634a81874d40cfb07214560f9434de",
            "fa48caf9024444bd9ec91d768e989fb6",
            "f0017574ff8842ae9ac2f80f0ab72220",
            "a1d2906157264ef9b12d6f01a226018c",
            "cdcdc36b5cc344d0b0696a182944a3b0"
          ]
        },
        "outputId": "104cce56-5d19-49ed-9e87-0756fd4a75a9"
      },
      "source": [
        "from datasets import load_dataset, load_metric\n",
        "\n",
        "common_voice_train = load_dataset(\"common_voice\", \"id\", split=\"train+validation\")\n",
        "common_voice_test = load_dataset(\"common_voice\", \"id\", split=\"test\")"
      ],
      "execution_count": 5,
      "outputs": [
        {
          "output_type": "display_data",
          "data": {
            "application/vnd.jupyter.widget-view+json": {
              "model_id": "982db355f9664331a58dd4a3a9a27c5a",
              "version_minor": 0,
              "version_major": 2
            },
            "text/plain": [
              "HBox(children=(FloatProgress(value=0.0, description='Downloading', max=4323.0, style=ProgressStyle(description…"
            ]
          },
          "metadata": {
            "tags": []
          }
        },
        {
          "output_type": "stream",
          "text": [
            "Couldn't find file locally at common_voice/common_voice.py, or remotely at https://raw.githubusercontent.com/huggingface/datasets/1.4.1/datasets/common_voice/common_voice.py.\n",
            "The file was picked from the master branch on github instead at https://raw.githubusercontent.com/huggingface/datasets/master/datasets/common_voice/common_voice.py.\n"
          ],
          "name": "stderr"
        },
        {
          "output_type": "stream",
          "text": [
            "\n"
          ],
          "name": "stdout"
        },
        {
          "output_type": "display_data",
          "data": {
            "application/vnd.jupyter.widget-view+json": {
              "model_id": "19ecee93c74c4757a679a086549be6b8",
              "version_minor": 0,
              "version_major": 2
            },
            "text/plain": [
              "HBox(children=(FloatProgress(value=0.0, description='Downloading', max=9954.0, style=ProgressStyle(description…"
            ]
          },
          "metadata": {
            "tags": []
          }
        },
        {
          "output_type": "stream",
          "text": [
            "\n",
            "Downloading and preparing dataset common_voice/id (download: 453.87 MiB, generated: 5.20 MiB, post-processed: Unknown size, total: 459.07 MiB) to /root/.cache/huggingface/datasets/common_voice/id/6.1.0/0041e06ab061b91d0a23234a2221e87970a19cf3a81b20901474cffffeb7869f...\n"
          ],
          "name": "stdout"
        },
        {
          "output_type": "display_data",
          "data": {
            "application/vnd.jupyter.widget-view+json": {
              "model_id": "939edd477f4745559c7c3027c4e9571c",
              "version_minor": 0,
              "version_major": 2
            },
            "text/plain": [
              "HBox(children=(FloatProgress(value=0.0, description='Downloading', max=475918233.0, style=ProgressStyle(descri…"
            ]
          },
          "metadata": {
            "tags": []
          }
        },
        {
          "output_type": "stream",
          "text": [
            "\n"
          ],
          "name": "stdout"
        },
        {
          "output_type": "display_data",
          "data": {
            "application/vnd.jupyter.widget-view+json": {
              "model_id": "8974b769f3ca48c9999ccf103b740673",
              "version_minor": 0,
              "version_major": 2
            },
            "text/plain": [
              "HBox(children=(FloatProgress(value=1.0, bar_style='info', max=1.0), HTML(value='')))"
            ]
          },
          "metadata": {
            "tags": []
          }
        },
        {
          "output_type": "stream",
          "text": [
            "\r"
          ],
          "name": "stdout"
        },
        {
          "output_type": "display_data",
          "data": {
            "application/vnd.jupyter.widget-view+json": {
              "model_id": "198a8ffc54844b618efc353c3dc48933",
              "version_minor": 0,
              "version_major": 2
            },
            "text/plain": [
              "HBox(children=(FloatProgress(value=1.0, bar_style='info', max=1.0), HTML(value='')))"
            ]
          },
          "metadata": {
            "tags": []
          }
        },
        {
          "output_type": "stream",
          "text": [
            "\r"
          ],
          "name": "stdout"
        },
        {
          "output_type": "display_data",
          "data": {
            "application/vnd.jupyter.widget-view+json": {
              "model_id": "6b4835c9b3034d9ba2d551ce6a14a9a6",
              "version_minor": 0,
              "version_major": 2
            },
            "text/plain": [
              "HBox(children=(FloatProgress(value=1.0, bar_style='info', max=1.0), HTML(value='')))"
            ]
          },
          "metadata": {
            "tags": []
          }
        },
        {
          "output_type": "stream",
          "text": [
            "\r"
          ],
          "name": "stdout"
        },
        {
          "output_type": "display_data",
          "data": {
            "application/vnd.jupyter.widget-view+json": {
              "model_id": "b9bb8d4811be484c88cf4c47e383e453",
              "version_minor": 0,
              "version_major": 2
            },
            "text/plain": [
              "HBox(children=(FloatProgress(value=1.0, bar_style='info', max=1.0), HTML(value='')))"
            ]
          },
          "metadata": {
            "tags": []
          }
        },
        {
          "output_type": "stream",
          "text": [
            "\r"
          ],
          "name": "stdout"
        },
        {
          "output_type": "display_data",
          "data": {
            "application/vnd.jupyter.widget-view+json": {
              "model_id": "5b1ee6f35d25465780f8a8950c1ee399",
              "version_minor": 0,
              "version_major": 2
            },
            "text/plain": [
              "HBox(children=(FloatProgress(value=1.0, bar_style='info', max=1.0), HTML(value='')))"
            ]
          },
          "metadata": {
            "tags": []
          }
        },
        {
          "output_type": "stream",
          "text": [
            "\rDataset common_voice downloaded and prepared to /root/.cache/huggingface/datasets/common_voice/id/6.1.0/0041e06ab061b91d0a23234a2221e87970a19cf3a81b20901474cffffeb7869f. Subsequent calls will reuse this data.\n"
          ],
          "name": "stdout"
        },
        {
          "output_type": "stream",
          "text": [
            "Couldn't find file locally at common_voice/common_voice.py, or remotely at https://raw.githubusercontent.com/huggingface/datasets/1.4.1/datasets/common_voice/common_voice.py.\n",
            "The file was picked from the master branch on github instead at https://raw.githubusercontent.com/huggingface/datasets/master/datasets/common_voice/common_voice.py.\n",
            "Reusing dataset common_voice (/root/.cache/huggingface/datasets/common_voice/id/6.1.0/0041e06ab061b91d0a23234a2221e87970a19cf3a81b20901474cffffeb7869f)\n"
          ],
          "name": "stderr"
        }
      ]
    },
    {
      "cell_type": "markdown",
      "metadata": {
        "id": "ri5y5N_HMANq"
      },
      "source": [
        "Many ASR datasets only provide the target text, `'sentence'` for each audio file `'path'`. Common Voice actually provides much more information about each audio file, such as the `'accent'`, etc. However, we want to keep the notebook as general as possible, so that we will only consider the transcribed text for fine-tuning.\n",
        "\n"
      ]
    },
    {
      "cell_type": "code",
      "metadata": {
        "id": "kbyq6lDgQc2a"
      },
      "source": [
        "common_voice_train = common_voice_train.remove_columns([\"accent\", \"age\", \"client_id\", \"down_votes\", \"gender\", \"locale\", \"segment\", \"up_votes\"])\n",
        "common_voice_test = common_voice_test.remove_columns([\"accent\", \"age\", \"client_id\", \"down_votes\", \"gender\", \"locale\", \"segment\", \"up_votes\"])"
      ],
      "execution_count": 6,
      "outputs": []
    },
    {
      "cell_type": "markdown",
      "metadata": {
        "id": "Go9Hq4e4NDT9"
      },
      "source": [
        "Let's write a short function to display some random samples of the dataset and run it a couple of times to get a feeling for the transcriptions."
      ]
    },
    {
      "cell_type": "code",
      "metadata": {
        "id": "72737oog2F6U"
      },
      "source": [
        "from datasets import ClassLabel\n",
        "import random\n",
        "import pandas as pd\n",
        "from IPython.display import display, HTML\n",
        "\n",
        "def show_random_elements(dataset, num_examples=10):\n",
        "    assert num_examples <= len(dataset), \"Can't pick more elements than there are in the dataset.\"\n",
        "    picks = []\n",
        "    for _ in range(num_examples):\n",
        "        pick = random.randint(0, len(dataset)-1)\n",
        "        while pick in picks:\n",
        "            pick = random.randint(0, len(dataset)-1)\n",
        "        picks.append(pick)\n",
        "    \n",
        "    df = pd.DataFrame(dataset[picks])\n",
        "    display(HTML(df.to_html()))"
      ],
      "execution_count": 7,
      "outputs": []
    },
    {
      "cell_type": "code",
      "metadata": {
        "colab": {
          "base_uri": "https://localhost:8080/",
          "height": 667
        },
        "id": "K_JUmf3G3b9S",
        "outputId": "6e95efd4-7a22-42da-dd1a-dfb00e69f858"
      },
      "source": [
        "show_random_elements(common_voice_train.remove_columns([\"path\"]), num_examples=20)"
      ],
      "execution_count": 8,
      "outputs": [
        {
          "output_type": "display_data",
          "data": {
            "text/html": [
              "<table border=\"1\" class=\"dataframe\">\n",
              "  <thead>\n",
              "    <tr style=\"text-align: right;\">\n",
              "      <th></th>\n",
              "      <th>sentence</th>\n",
              "    </tr>\n",
              "  </thead>\n",
              "  <tbody>\n",
              "    <tr>\n",
              "      <th>0</th>\n",
              "      <td>Saya tidak begitu suka belajar.</td>\n",
              "    </tr>\n",
              "    <tr>\n",
              "      <th>1</th>\n",
              "      <td>Kejadian itu membuat dia terkenal.</td>\n",
              "    </tr>\n",
              "    <tr>\n",
              "      <th>2</th>\n",
              "      <td>Pak Yamada kuat dan sehat.</td>\n",
              "    </tr>\n",
              "    <tr>\n",
              "      <th>3</th>\n",
              "      <td>Saya tidak begitu suka menulis huruf.</td>\n",
              "    </tr>\n",
              "    <tr>\n",
              "      <th>4</th>\n",
              "      <td>Saya merasa terhormat bisa berjumpa dengan anda.</td>\n",
              "    </tr>\n",
              "    <tr>\n",
              "      <th>5</th>\n",
              "      <td>Tom menyesal telah meninggalkan pekerjaannya.</td>\n",
              "    </tr>\n",
              "    <tr>\n",
              "      <th>6</th>\n",
              "      <td>Di belakang rumah ada mobil.</td>\n",
              "    </tr>\n",
              "    <tr>\n",
              "      <th>7</th>\n",
              "      <td>Biarkan saya pergi ke toko.</td>\n",
              "    </tr>\n",
              "    <tr>\n",
              "      <th>8</th>\n",
              "      <td>Bukan itu yang aku cari.</td>\n",
              "    </tr>\n",
              "    <tr>\n",
              "      <th>9</th>\n",
              "      <td>Berapa harga dasi ini?</td>\n",
              "    </tr>\n",
              "    <tr>\n",
              "      <th>10</th>\n",
              "      <td>Televisi ada di sebelah piano.</td>\n",
              "    </tr>\n",
              "    <tr>\n",
              "      <th>11</th>\n",
              "      <td>Bagaimana wawancara anda telah berjalan?</td>\n",
              "    </tr>\n",
              "    <tr>\n",
              "      <th>12</th>\n",
              "      <td>Dia mengumpulkan pecahan-pecahan piring.</td>\n",
              "    </tr>\n",
              "    <tr>\n",
              "      <th>13</th>\n",
              "      <td>Saya belum bisa bicara Bahasa Indonesia dengan lancar.</td>\n",
              "    </tr>\n",
              "    <tr>\n",
              "      <th>14</th>\n",
              "      <td>Tolong bertanya lewat telepon kalau tidak tahu jalan.</td>\n",
              "    </tr>\n",
              "    <tr>\n",
              "      <th>15</th>\n",
              "      <td>Saya tidak pernah mendengarnya berbahasa Inggeris.</td>\n",
              "    </tr>\n",
              "    <tr>\n",
              "      <th>16</th>\n",
              "      <td>Aku sangat menikmati liburan sekolah ini.</td>\n",
              "    </tr>\n",
              "    <tr>\n",
              "      <th>17</th>\n",
              "      <td>Apakah kamu punya minuman ringan?</td>\n",
              "    </tr>\n",
              "    <tr>\n",
              "      <th>18</th>\n",
              "      <td>Apakah buku ini karangan Kenji?</td>\n",
              "    </tr>\n",
              "    <tr>\n",
              "      <th>19</th>\n",
              "      <td>Burung-burung terbang di langit.</td>\n",
              "    </tr>\n",
              "  </tbody>\n",
              "</table>"
            ],
            "text/plain": [
              "<IPython.core.display.HTML object>"
            ]
          },
          "metadata": {
            "tags": []
          }
        }
      ]
    },
    {
      "cell_type": "markdown",
      "metadata": {
        "id": "fowcOllGNNju"
      },
      "source": [
        "Alright! The transcriptions look fairly clean. Having translated the transcribed sentences (I'm sadly not a native speaker in Turkish), it seems that the language corresponds more to written text than noisy dialogue. This makes sense taking into account that [Common Voice](https://huggingface.co/datasets/common_voice) is a crowd-sourced read speech corpus."
      ]
    },
    {
      "cell_type": "markdown",
      "metadata": {
        "id": "vq7OR50LN49m"
      },
      "source": [
        "We can see that the transcriptions contain some special characters, such as `,.?!;:`. Without a language model, it is much harder to classify speech chunks to such special characters because they don't really correspond to a characteristic sound unit. *E.g.*, the letter `\"s\"` has a more or less clear sound, whereas the special character `\".\"` does not.\n",
        "Also in order to understand the meaning of a speech signal, it is usually not necessary to include special characters in the transcription.\n",
        "\n",
        "In addition, we normalize the text to only have lower case letters and append a word separator token at the end."
      ]
    },
    {
      "cell_type": "code",
      "metadata": {
        "id": "svKzVJ_hQGK6"
      },
      "source": [
        "import re\n",
        "chars_to_ignore_regex = '[\\,\\?\\.\\!\\-\\;\\:\\\"\\“\\%\\‘\\'\\”\\�]'\n",
        "#chars_to_ignore_regex = '[\\,\\?\\.\\!\\-\\;\\:\\\"\\“\\%\\‘\\”\\�]'\n",
        "\n",
        "def remove_special_characters(batch):\n",
        "    batch[\"sentence\"] = re.sub(chars_to_ignore_regex, '', batch[\"sentence\"]).lower() + \" \"\n",
        "    batch[\"sentence\"] = batch[\"sentence\"].replace('！ ', '')\n",
        "    batch[\"sentence\"] = batch[\"sentence\"].replace('，', '')\n",
        "    batch[\"sentence\"] = batch[\"sentence\"].replace('é', 'e')\n",
        "    return batch"
      ],
      "execution_count": 14,
      "outputs": []
    },
    {
      "cell_type": "code",
      "metadata": {
        "colab": {
          "base_uri": "https://localhost:8080/",
          "height": 116,
          "referenced_widgets": [
            "6ec4c28e708d4c429dd20bb8027bfbbd",
            "1fea38d5886f498a862e98d993f78a1e",
            "2f2256f267f54242859783ba018f8234",
            "180aa24a6c124921b2edcc4f8a5c7145",
            "a440fbb5d49c40b7a7f7698cdecadeb7",
            "06f27dc814ed488891090b1fbebe7222",
            "fe52be877e1a431b8a497cfefcb89a25",
            "eb23309d0447485abf4a4e847fbaed56",
            "e1bc7652dcd84d5e90079413d4f87a62",
            "fadfa6368fb74a038372165f1ec1d3d7",
            "a1b894f6f76441d3baba01f1ba1d1ad8",
            "e132fb223a284aeb81ec07973c824c37",
            "883a531d0427407c9219444bbb91129b",
            "e6b6b9ec143743348814cd41ac97fbf2",
            "76d5617d413a4c5ab371594f1b35756c",
            "2f8abc1a668645d493fb26674c72e409"
          ]
        },
        "id": "XIHocAuTQbBR",
        "outputId": "5e5d735b-f6e6-4dc9-bc4f-119d10ff09f6"
      },
      "source": [
        "common_voice_train = common_voice_train.map(remove_special_characters)\n",
        "common_voice_test = common_voice_test.map(remove_special_characters)"
      ],
      "execution_count": 15,
      "outputs": [
        {
          "output_type": "display_data",
          "data": {
            "application/vnd.jupyter.widget-view+json": {
              "model_id": "6ec4c28e708d4c429dd20bb8027bfbbd",
              "version_minor": 0,
              "version_major": 2
            },
            "text/plain": [
              "HBox(children=(FloatProgress(value=0.0, max=3965.0), HTML(value='')))"
            ]
          },
          "metadata": {
            "tags": []
          }
        },
        {
          "output_type": "stream",
          "text": [
            "\n"
          ],
          "name": "stdout"
        },
        {
          "output_type": "display_data",
          "data": {
            "application/vnd.jupyter.widget-view+json": {
              "model_id": "e1bc7652dcd84d5e90079413d4f87a62",
              "version_minor": 0,
              "version_major": 2
            },
            "text/plain": [
              "HBox(children=(FloatProgress(value=0.0, max=1844.0), HTML(value='')))"
            ]
          },
          "metadata": {
            "tags": []
          }
        },
        {
          "output_type": "stream",
          "text": [
            "\n"
          ],
          "name": "stdout"
        }
      ]
    },
    {
      "cell_type": "code",
      "metadata": {
        "colab": {
          "base_uri": "https://localhost:8080/",
          "height": 358
        },
        "id": "RBDRAAYxRE6n",
        "outputId": "174ff55e-6cf2-4e29-f528-f415bc80fc8a"
      },
      "source": [
        "show_random_elements(common_voice_train.remove_columns([\"path\"]))"
      ],
      "execution_count": 16,
      "outputs": [
        {
          "output_type": "display_data",
          "data": {
            "text/html": [
              "<table border=\"1\" class=\"dataframe\">\n",
              "  <thead>\n",
              "    <tr style=\"text-align: right;\">\n",
              "      <th></th>\n",
              "      <th>sentence</th>\n",
              "    </tr>\n",
              "  </thead>\n",
              "  <tbody>\n",
              "    <tr>\n",
              "      <th>0</th>\n",
              "      <td>tom bersiap pergi ke sekolah</td>\n",
              "    </tr>\n",
              "    <tr>\n",
              "      <th>1</th>\n",
              "      <td>kakak perempuanku masih hafal lagulagu avril</td>\n",
              "    </tr>\n",
              "    <tr>\n",
              "      <th>2</th>\n",
              "      <td>saya akan mencari kamar yang lebih murah</td>\n",
              "    </tr>\n",
              "    <tr>\n",
              "      <th>3</th>\n",
              "      <td>ayah saya bekerja di sebuah pabrik</td>\n",
              "    </tr>\n",
              "    <tr>\n",
              "      <th>4</th>\n",
              "      <td>hobiku memancing ikan</td>\n",
              "    </tr>\n",
              "    <tr>\n",
              "      <th>5</th>\n",
              "      <td>tamu itu menyenangkan jika dia bertamu tidak terlalu lama</td>\n",
              "    </tr>\n",
              "    <tr>\n",
              "      <th>6</th>\n",
              "      <td>awas ada lubang di atas jalan</td>\n",
              "    </tr>\n",
              "    <tr>\n",
              "      <th>7</th>\n",
              "      <td>apakah kursi itu kosong</td>\n",
              "    </tr>\n",
              "    <tr>\n",
              "      <th>8</th>\n",
              "      <td>pekerjaan rumah semuanya sudah selesai</td>\n",
              "    </tr>\n",
              "    <tr>\n",
              "      <th>9</th>\n",
              "      <td>sore hari ini ayahku ada waktu luang</td>\n",
              "    </tr>\n",
              "  </tbody>\n",
              "</table>"
            ],
            "text/plain": [
              "<IPython.core.display.HTML object>"
            ]
          },
          "metadata": {
            "tags": []
          }
        }
      ]
    },
    {
      "cell_type": "markdown",
      "metadata": {
        "id": "jwfaptH5RJwA"
      },
      "source": [
        "Good! This looks better. We have removed most special characters from transcriptions and normalized them to lower-case only.\n",
        "\n",
        "In CTC, it is common to classify speech chunks into letters, so we will do the same here. \n",
        "Let's extract all distinct letters of the training and test data and build our vocabulary from this set of letters.\n",
        "\n",
        "We write a mapping function that concatenates all transcriptions into one long transcription and then transforms the string into a set of chars. \n",
        "It is important to pass the argument `batched=True` to the `map(...)` function so that the mapping function has access to all transcriptions at once."
      ]
    },
    {
      "cell_type": "code",
      "metadata": {
        "id": "LwCshNbbeRZR"
      },
      "source": [
        "def extract_all_chars(batch):\n",
        "  all_text = \" \".join(batch[\"sentence\"])\n",
        "  vocab = list(set(all_text))\n",
        "  return {\"vocab\": [vocab], \"all_text\": [all_text]}"
      ],
      "execution_count": 17,
      "outputs": []
    },
    {
      "cell_type": "code",
      "metadata": {
        "colab": {
          "base_uri": "https://localhost:8080/",
          "height": 116,
          "referenced_widgets": [
            "b57f4fd1390a431f8816822c81a40bd2",
            "02fea0b7629344159102dc6fdb071ee0",
            "9471a514984248c4928169ec2c77b6e0",
            "cc87ce46146049fea4237da9d2c66841",
            "5a3a6211585f4391b4c954230ac5c64e",
            "4eba1988a45d40418b415c0524a7f264",
            "ea5934a3bd9644e995571b3d3d84408c",
            "e0eb36f1ad764eb398ecbce07ea544f3",
            "7b14464ef42942a7aa0832db8603751f",
            "03cafa6c2e75433cbf95611fffba0f73",
            "7760f7bc193441e68c03a1905dce9545",
            "bf5b029fe99d48dba02b987904316377",
            "bd8749a1763c4da48e99686f8e4f3f9d",
            "a3bc1029050640fba1d46d197be75b29",
            "dc85fa4e0c3d4b8389abfd3cace717df",
            "bc3c659063a6469e9360d5d31fb3e2fc"
          ]
        },
        "id": "_m6uUjjcfbjH",
        "outputId": "11034298-e67e-4ca7-9069-39083b25b0d1"
      },
      "source": [
        "vocab_train = common_voice_train.map(extract_all_chars, batched=True, batch_size=-1, keep_in_memory=True, remove_columns=common_voice_train.column_names)\n",
        "vocab_test = common_voice_test.map(extract_all_chars, batched=True, batch_size=-1, keep_in_memory=True, remove_columns=common_voice_test.column_names)"
      ],
      "execution_count": 14,
      "outputs": [
        {
          "output_type": "display_data",
          "data": {
            "application/vnd.jupyter.widget-view+json": {
              "model_id": "b57f4fd1390a431f8816822c81a40bd2",
              "version_minor": 0,
              "version_major": 2
            },
            "text/plain": [
              "HBox(children=(FloatProgress(value=0.0, max=1.0), HTML(value='')))"
            ]
          },
          "metadata": {
            "tags": []
          }
        },
        {
          "output_type": "stream",
          "text": [
            "\n"
          ],
          "name": "stdout"
        },
        {
          "output_type": "display_data",
          "data": {
            "application/vnd.jupyter.widget-view+json": {
              "model_id": "7b14464ef42942a7aa0832db8603751f",
              "version_minor": 0,
              "version_major": 2
            },
            "text/plain": [
              "HBox(children=(FloatProgress(value=0.0, max=1.0), HTML(value='')))"
            ]
          },
          "metadata": {
            "tags": []
          }
        },
        {
          "output_type": "stream",
          "text": [
            "\n"
          ],
          "name": "stdout"
        }
      ]
    },
    {
      "cell_type": "markdown",
      "metadata": {
        "id": "7oVgE8RZSJNP"
      },
      "source": [
        "Now, we create the union of all distinct letters in the training dataset and test dataset and convert the resulting list into an enumerated dictionary."
      ]
    },
    {
      "cell_type": "code",
      "metadata": {
        "id": "aQfneNsmlJI0"
      },
      "source": [
        "vocab_list = list(set(vocab_train[\"vocab\"][0]) | set(vocab_test[\"vocab\"][0]))"
      ],
      "execution_count": 15,
      "outputs": []
    },
    {
      "cell_type": "code",
      "metadata": {
        "colab": {
          "base_uri": "https://localhost:8080/"
        },
        "id": "_0kRndSvqaKk",
        "outputId": "7be03ea3-e0fd-49f6-8190-352b5cf08240"
      },
      "source": [
        "vocab_dict = {v: k for k, v in enumerate(vocab_list)}\n",
        "vocab_dict"
      ],
      "execution_count": 16,
      "outputs": [
        {
          "output_type": "execute_result",
          "data": {
            "text/plain": [
              "{' ': 12,\n",
              " 'a': 9,\n",
              " 'b': 18,\n",
              " 'c': 5,\n",
              " 'd': 8,\n",
              " 'e': 24,\n",
              " 'f': 15,\n",
              " 'g': 13,\n",
              " 'h': 19,\n",
              " 'i': 23,\n",
              " 'j': 16,\n",
              " 'k': 4,\n",
              " 'l': 10,\n",
              " 'm': 22,\n",
              " 'n': 11,\n",
              " 'o': 21,\n",
              " 'p': 6,\n",
              " 'r': 25,\n",
              " 's': 14,\n",
              " 't': 20,\n",
              " 'u': 17,\n",
              " 'v': 0,\n",
              " 'w': 2,\n",
              " 'x': 7,\n",
              " 'y': 3,\n",
              " 'z': 1}"
            ]
          },
          "metadata": {
            "tags": []
          },
          "execution_count": 16
        }
      ]
    },
    {
      "cell_type": "markdown",
      "metadata": {
        "id": "JOSzbvs9SXT1"
      },
      "source": [
        "Cool, we see that all letters of the alphabet occur in the dataset (which is not really surprising) and we also extracted the special characters `\" \"` and `'`. Note that we did not exclude those special characters because: \n",
        "\n",
        "- The model has to learn to predict when a word is finished or else the model prediction would always be a sequence of chars which would make it impossible to separate words from each other.\n",
        "- From the transcriptions above it seems that words that include an apostrophe, such as `maktouf'un` do exist in Turkish, so I decided to keep the apostrophe in the dataset. This might be a wrong assumption though.\n",
        "\n",
        "One should always keep in mind that the data-preprocessing is a very important step before training your model. E.g., we don't want our model to differentiate between `a` and `A` just because we forgot to normalize the data. The difference between `a` and `A` does not depend on the \"sound\" of the letter at all, but more on grammatical rules - *e.g.* use a capitalized letter at the beginning of the sentence. So it is sensible to remove the difference between capitalized and non-capitalized letters so that the model has an easier time learning to transcribe speech. \n",
        "\n",
        "It is always advantageous to get help from a native speaker of the language you would like to transcribe to verify whether the assumptions you made are sensible, *e.g.* I should have made sure that keeping `'`, but removing other special characters is a sensible choice for Turkish. "
      ]
    },
    {
      "cell_type": "markdown",
      "metadata": {
        "id": "b1fBRCn-TRaO"
      },
      "source": [
        "To make it clearer that `\" \"` has its own token class, we give it a more visible character `|`. In addition, we also add an \"unknown\" token so that the model can later deal with characters not encountered in Common Voice's training set. \n",
        "\n",
        "Finally, we also add a padding token that corresponds to CTC's \"*blank token*\". The \"blank token\" is a core component of the CTC algorithm. For more information, please take a look at the \"Alignment\" section [here](https://distill.pub/2017/ctc/)."
      ]
    },
    {
      "cell_type": "code",
      "metadata": {
        "id": "npbIbBoLgaFX"
      },
      "source": [
        "vocab_dict[\"|\"] = vocab_dict[\" \"]\n",
        "del vocab_dict[\" \"]"
      ],
      "execution_count": 17,
      "outputs": []
    },
    {
      "cell_type": "code",
      "metadata": {
        "id": "znF0bNunsjbl",
        "colab": {
          "base_uri": "https://localhost:8080/"
        },
        "outputId": "5e904971-d025-4c48-b0a7-8e9156ce30d4"
      },
      "source": [
        "vocab_dict[\"[UNK]\"] = len(vocab_dict)\n",
        "vocab_dict[\"[PAD]\"] = len(vocab_dict)\n",
        "len(vocab_dict)"
      ],
      "execution_count": 18,
      "outputs": [
        {
          "output_type": "execute_result",
          "data": {
            "text/plain": [
              "28"
            ]
          },
          "metadata": {
            "tags": []
          },
          "execution_count": 18
        }
      ]
    },
    {
      "cell_type": "markdown",
      "metadata": {
        "id": "SFPGfet8U5sL"
      },
      "source": [
        "Cool, now our vocabulary is complete and consists of 39 tokens, which means that the linear layer that we will add on top of the pretrained XLSR-Wav2Vec2 checkpoint will have an output dimension of 39."
      ]
    },
    {
      "cell_type": "markdown",
      "metadata": {
        "id": "1CujRgBNVRaD"
      },
      "source": [
        "Let's now save the vocabulary as a json file."
      ]
    },
    {
      "cell_type": "code",
      "metadata": {
        "id": "ehyUoh9vk191"
      },
      "source": [
        "import json\n",
        "with open('vocab.json', 'w') as vocab_file:\n",
        "    json.dump(vocab_dict, vocab_file)"
      ],
      "execution_count": 19,
      "outputs": []
    },
    {
      "cell_type": "markdown",
      "metadata": {
        "id": "SHJDaKlIVVim"
      },
      "source": [
        "In a final step, we use the json file to instantiate an object of the `Wav2Vec2CTCTokenizer` class."
      ]
    },
    {
      "cell_type": "code",
      "metadata": {
        "id": "xriFGEWQkO4M"
      },
      "source": [
        "from transformers import Wav2Vec2CTCTokenizer\n",
        "\n",
        "tokenizer = Wav2Vec2CTCTokenizer(\"./vocab.json\", unk_token=\"[UNK]\", pad_token=\"[PAD]\", word_delimiter_token=\"|\")"
      ],
      "execution_count": 20,
      "outputs": []
    },
    {
      "cell_type": "markdown",
      "metadata": {
        "id": "KvL12DrNV4cx"
      },
      "source": [
        "Next, we will create the feature extractor."
      ]
    },
    {
      "cell_type": "markdown",
      "metadata": {
        "id": "mYcIiR2FQ96i"
      },
      "source": [
        "### Create XLSR-Wav2Vec2 Feature Extractor"
      ]
    },
    {
      "cell_type": "markdown",
      "metadata": {
        "id": "Y6mDEyW719rx"
      },
      "source": [
        "Speech is a continuous signal and to be treated by computers, it first has to be discretized, which is usually called **sampling**. The sampling rate hereby plays an important role in that it defines how many data points of the speech signal are measured per second. Therefore, sampling with a higher sampling rate results in a better approximation of the *real* speech signal but also necessitates more values per second.\n",
        "\n",
        "A pretrained checkpoint expects its input data to have been sampled more or less from the same distribution as the data it was trained on. The same speech signals sampled at two different rates have a very different distribution, *e.g.*, doubling the sampling rate results in data points being twice as long. Thus, \n",
        "before fine-tuning a pretrained checkpoint of an ASR model, it is crucial to verify that the sampling rate of the data that was used to pretrain the model matches the sampling rate of the dataset used to fine-tune the model.\n",
        "\n",
        "XLSR-Wav2Vec2 was pretrained on the audio data of [Babel](https://huggingface.co/datasets/librispeech_asr), \n",
        "[Multilingual LibriSpeech (MLS)](https://ai.facebook.com/blog/a-new-open-data-set-for-multilingual-speech-research/), and [Common Voice](https://huggingface.co/datasets/common_voice). Most of those datasets were sampled at 16kHz, so that Common Voice, sampled at 48kHz, has to be downsampled to 16kHz for training. Therefore, we will have to downsample our fine-tuning data to 16kHz in the following.\n",
        "\n"
      ]
    },
    {
      "cell_type": "markdown",
      "metadata": {
        "id": "KuUbPW7oV-B5"
      },
      "source": [
        "A XLSR-Wav2Vec2 feature extractor object requires the following parameters to be instantiated:\n",
        "\n",
        "- `feature_size`: Speech models take a sequence of feature vectors as an input. While the length of this sequence obviously varies, the feature size should not. In the case of Wav2Vec2, the feature size is 1 because the model was trained on the raw speech signal ${}^2$.\n",
        "- `sampling_rate`: The sampling rate at which the model is trained on.\n",
        "- `padding_value`: For batched inference, shorter inputs need to be padded with a specific value\n",
        "- `do_normalize`: Whether the input should be *zero-mean-unit-variance* normalized or not. Usually, speech models perform better when normalizing the input\n",
        "- `return_attention_mask`: Whether the model should make use of an `attention_mask` for batched inference. In general, XLSR-Wav2Vec2 models should **always** make use of the `attention_mask`."
      ]
    },
    {
      "cell_type": "code",
      "metadata": {
        "id": "kAR0-2KLkopp"
      },
      "source": [
        "from transformers import Wav2Vec2FeatureExtractor\n",
        "\n",
        "feature_extractor = Wav2Vec2FeatureExtractor(feature_size=1, sampling_rate=16000, padding_value=0.0, do_normalize=True, return_attention_mask=True)"
      ],
      "execution_count": 21,
      "outputs": []
    },
    {
      "cell_type": "markdown",
      "metadata": {
        "id": "qUETetgqYC3W"
      },
      "source": [
        "Great, XLSR-Wav2Vec2's feature extraction pipeline is thereby fully defined!\n",
        "\n",
        "To make the usage of XLSR-Wav2Vec2 as user-friendly as possible, the feature extractor and tokenizer are *wrapped* into a single `Wav2Vec2Processor` class so that one only needs a `model` and `processor` object."
      ]
    },
    {
      "cell_type": "code",
      "metadata": {
        "id": "KYZtoW-tlZgl"
      },
      "source": [
        "from transformers import Wav2Vec2Processor\n",
        "\n",
        "processor = Wav2Vec2Processor(feature_extractor=feature_extractor, tokenizer=tokenizer)"
      ],
      "execution_count": 22,
      "outputs": []
    },
    {
      "cell_type": "markdown",
      "metadata": {
        "id": "fTfFDSS0YfMN"
      },
      "source": [
        "If one wants to re-use the just created processor and the fine-tuned model of this notebook, one can mount his/her google drive to the notebook and save all relevant files there. To do so, please uncomment the following lines. \n",
        "\n",
        "We will give the fine-tuned model the name `\"wav2vec2-large-xlsr-turkish-demo\"`."
      ]
    },
    {
      "cell_type": "code",
      "metadata": {
        "id": "yq7Bzuzz4zjQ"
      },
      "source": [
        "# from google.colab import drive\n",
        "# drive.mount('/content/gdrive/')"
      ],
      "execution_count": 18,
      "outputs": []
    },
    {
      "cell_type": "code",
      "metadata": {
        "id": "y1LaON1f1xc3",
        "outputId": "76d7363f-386c-497b-fc9c-bbc57b3372b0",
        "colab": {
          "base_uri": "https://localhost:8080/"
        }
      },
      "source": [
        "from google.colab import drive\n",
        "drive.mount('/content/drive')"
      ],
      "execution_count": 1,
      "outputs": [
        {
          "output_type": "stream",
          "text": [
            "Mounted at /content/drive\n"
          ],
          "name": "stdout"
        }
      ]
    },
    {
      "cell_type": "code",
      "metadata": {
        "id": "Par9rpypPsml"
      },
      "source": [
        "processor.save_pretrained(\"/content/drive/MyDrive/wav2vec2-large-xlsr-indonesian-demo\")"
      ],
      "execution_count": 25,
      "outputs": []
    },
    {
      "cell_type": "markdown",
      "metadata": {
        "id": "DrKnYuvDIoOO"
      },
      "source": [
        "Next, we can prepare the dataset."
      ]
    },
    {
      "cell_type": "markdown",
      "metadata": {
        "id": "YFmShnl7RE35"
      },
      "source": [
        "### Preprocess Data\n",
        "\n",
        "So far, we have not looked at the actual values of the speech signal but just kept the path to its file in the dataset. `XLSR-Wav2Vec2` expects the audio file in the format of a 1-dimensional array, so in the first step, let's load all audio files into the dataset object.\n",
        "\n",
        "Let's first check the serialization format of the downloaded audio files by looking at the first training sample."
      ]
    },
    {
      "cell_type": "code",
      "metadata": {
        "colab": {
          "base_uri": "https://localhost:8080/"
        },
        "id": "TTCS7W6XJ9BG",
        "outputId": "1ba8318e-9f2f-440d-e6cd-748a891214f3"
      },
      "source": [
        "common_voice_train[0]"
      ],
      "execution_count": 26,
      "outputs": [
        {
          "output_type": "execute_result",
          "data": {
            "text/plain": [
              "{'path': '/root/.cache/huggingface/datasets/downloads/extracted/fd8a16a97efd77adba3c26c54d0cfae6c9d9494c1017f8070f3f79db72c4b57c/cv-corpus-6.1-2020-12-11/id/clips/common_voice_id_19192526.mp3',\n",
              " 'sentence': 'kamar adik lakilaki saya lebih sempit daripada kamar saya '}"
            ]
          },
          "metadata": {
            "tags": []
          },
          "execution_count": 26
        }
      ]
    },
    {
      "cell_type": "markdown",
      "metadata": {
        "id": "wSBIGEiaKHMn"
      },
      "source": [
        "Alright, the audio file is saved in the `.mp3` format. The `.mp3` format is usually not the easiest format to deal with. We found that the [`torchaudio`](https://pytorch.org/audio/stable/index.html) library works best for reading in `.mp3` data. \n",
        "\n",
        "An audio file usually stores both its values and the sampling rate with which the speech signal was digitalized. We want to store both in the dataset and write a `map(...)` function accordingly."
      ]
    },
    {
      "cell_type": "code",
      "metadata": {
        "id": "al9Luo4LPpwJ"
      },
      "source": [
        "import torchaudio\n",
        "\n",
        "def speech_file_to_array_fn(batch):\n",
        "    speech_array, sampling_rate = torchaudio.load(batch[\"path\"])\n",
        "    batch[\"speech\"] = speech_array[0].numpy()\n",
        "    batch[\"sampling_rate\"] = sampling_rate\n",
        "    batch[\"target_text\"] = batch[\"sentence\"]\n",
        "    return batch"
      ],
      "execution_count": 18,
      "outputs": []
    },
    {
      "cell_type": "code",
      "metadata": {
        "colab": {
          "base_uri": "https://localhost:8080/",
          "height": 98,
          "referenced_widgets": [
            "64ffdf8ac23b46d887917d788a9882b2",
            "8617f40db2ed4fe89f4ad8dc9bffa055",
            "0fa732132e6a446b92fa81e8dde195b0",
            "2605b2fe527e42aa812dcc34dc886cc6",
            "3b8f89e0e01a42dea7c89ec73b2915b0",
            "01a66dc88e1143fc8266e9ecdd9c18f7",
            "70c81081c2f64c0ca80288124baceb5a",
            "bfc32c4531d2485da5f9795baf06fbfb",
            "ed61316a86924c45a7f44c83e30bc2b4",
            "28e6fab0bf3a4127a3bcab8fb8ccfe39",
            "f5b9881aa9a44448b4f6714efd306d85",
            "afae3b00bec841a390936f560e9200e0",
            "ce4014b830c34c908afc0566aca234cc",
            "6f1401ef40634a73af4d7b1bc52278d5",
            "9fd91cc814ed41b68ee3cb19597fe681",
            "2ef68f0f0b544b6ca08575ff0493f1b5"
          ]
        },
        "id": "afeicUeWlrRL",
        "outputId": "8556b8df-36ca-4ca7-b10f-3b6b819e94c6"
      },
      "source": [
        "common_voice_train = common_voice_train.map(speech_file_to_array_fn, remove_columns=common_voice_train.column_names)\n",
        "common_voice_test = common_voice_test.map(speech_file_to_array_fn, remove_columns=common_voice_test.column_names)"
      ],
      "execution_count": null,
      "outputs": [
        {
          "output_type": "display_data",
          "data": {
            "application/vnd.jupyter.widget-view+json": {
              "model_id": "64ffdf8ac23b46d887917d788a9882b2",
              "version_minor": 0,
              "version_major": 2
            },
            "text/plain": [
              "HBox(children=(FloatProgress(value=0.0, max=3965.0), HTML(value='')))"
            ]
          },
          "metadata": {
            "tags": []
          }
        },
        {
          "output_type": "stream",
          "text": [
            "\n"
          ],
          "name": "stdout"
        },
        {
          "output_type": "display_data",
          "data": {
            "application/vnd.jupyter.widget-view+json": {
              "model_id": "ed61316a86924c45a7f44c83e30bc2b4",
              "version_minor": 0,
              "version_major": 2
            },
            "text/plain": [
              "HBox(children=(FloatProgress(value=0.0, max=1844.0), HTML(value='')))"
            ]
          },
          "metadata": {
            "tags": []
          }
        }
      ]
    },
    {
      "cell_type": "markdown",
      "metadata": {
        "id": "ki5sXmzucc9Q"
      },
      "source": [
        "Great, now we've successfully read in all the audio files, but since we know that Common Voice is sampled at 48kHz, we need to resample the audio files to 16kHz. \n",
        "\n",
        "Let's make use of the [`librosa`](https://github.com/librosa/librosa) library to downsample the data."
      ]
    },
    {
      "cell_type": "code",
      "metadata": {
        "id": "6Y6AK3Z-kHwP"
      },
      "source": [
        "import librosa\n",
        "import numpy as np\n",
        "\n",
        "def resample(batch):\n",
        "    batch[\"speech\"] = librosa.resample(np.asarray(batch[\"speech\"]), 48_000, 16_000)\n",
        "    batch[\"sampling_rate\"] = 16_000\n",
        "    return batch"
      ],
      "execution_count": null,
      "outputs": []
    },
    {
      "cell_type": "code",
      "metadata": {
        "id": "Ws8DyIL_kjwT"
      },
      "source": [
        "common_voice_train = common_voice_train.map(resample, num_proc=4)\n",
        "common_voice_test = common_voice_test.map(resample, num_proc=4)"
      ],
      "execution_count": null,
      "outputs": []
    },
    {
      "cell_type": "markdown",
      "metadata": {
        "id": "SOckzFd4Mbzq"
      },
      "source": [
        "This seemed to have worked! Let's listen to a couple of audio files to better understand the dataset and verify that the audio was correctly loaded. \n",
        "\n",
        "**Note**: *You can click the following cell a couple of times to listen to different speech samples.*"
      ]
    },
    {
      "cell_type": "code",
      "metadata": {
        "colab": {
          "base_uri": "https://localhost:8080/",
          "height": 74
        },
        "id": "dueM6U7Ev0OA",
        "outputId": "05805eab-9558-4f41-9057-ef93159bbff1"
      },
      "source": [
        "import IPython.display as ipd\n",
        "import numpy as np\n",
        "import random\n",
        "\n",
        "rand_int = random.randint(0, len(common_voice_train))\n",
        "\n",
        "ipd.Audio(data=np.asarray(common_voice_train[rand_int][\"speech\"]), autoplay=True, rate=16000)"
      ],
      "execution_count": 31,
      "outputs": [
        {
          "output_type": "execute_result",
          "data": {
            "text/html": [
              "\n",
              "                <audio controls=\"controls\" autoplay=\"autoplay\">\n",
              "                    <source src=\"data:audio/wav;base64,UklGRiTEAgBXQVZFZm10IBAAAAABAAEAgD4AAAB9AAACABAAZGF0YQDEAgAAAAAAAAAAAAAAAAAAAAAAAAAAAAAAAAAAAAAAAAAAAAAAAAAAAAAAAAAAAAAAAAAAAAAAAAAAAAAAAAAAAAAAAAAAAAAAAAAAAAAAAAAAAAAAAAAAAAAAAAAAAAAAAAAAAAAAAAAAAAAAAAAAAAAAAAAAAAAAAAAAAAAAAAAAAAAAAAAAAAAAAAAAAAAAAAAAAAAAAAAAAAAAAAAAAAAAAAAAAAAAAAAAAAAAAAAAAAAAAAAAAAAAAAAAAAAAAAAAAAAAAAAAAAAAAAAAAAAAAAAAAAAAAAAAAAAAAAAAAAAAAAAAAAAAAAAAAAAAAAAAAAAAAAAAAAAAAAAAAAAAAAAAAAAAAAAAAAAAAAAAAAAAAAAAAAAAAAAAAAAAAAAAAAAAAAAAAAAAAAAAAAAAAAAAAAAAAAAAAAAAAAAAAAAAAAAAAAAAAAAAAAAAAAAAAAAAAAAAAAAAAAAAAAAAAAAAAAAAAAAAAAAAAAAAAAAAAAAAAAAAAAAAAAAAAAAAAAAAAAAAAAAAAAAAAAAAAAAAAAAAAAAAAAAAAAAAAAAAAAAAAAAAAAAAAAAAAAAAAAAAAAAAAAAAAAAAAAAAAAAAAAAAAAAAAAAAAAAAAAAAAAAAAAAAAAAAAAAAAAAAAAAAAAAAAAAAAAAAAAAAAAAAAAAAAAAAAAAAAAAAAAAAAAAAAAAAAAAAAAAAAAAAAAAAAAAAAAAAAAAAAAAAAAAAAAAAAAAAAAAAAAAAAAAAAAAAAAAAAAAAAAAAAAAAAAAAAAAAAAAAAAAAAAAAAAAAAAAAAAAAAAAAAAAAAAAAAAAAAAAAAAAAAAAAAAAAAAAAAAAAAAAAAAAAAAAAAAAAAAAAAAAAAAAAAAAAAAAAAAAAAAAAAAAAAAAAAAAAAAAAAAAAAAAAAAD//wAAAAAAAAEAAQABAAAAAAAAAP///v/9//3///8AAAAA///9//z///8CAAUABgAEAAEA///9////AQAFAAcABwAEAAEAAQADAAUABgACAP//+//5//n/+f/7//v/AAAFAAsADwAMAAcABQAFAAMA/f/2/+7/8v/4////CAADAAYADQAbABQADgALAP//+//1//n/9P/8//r///8QABMAFwAQAAgA+v8CAAwABwAOAAIA+P/0//H/7v/1//r/BAAgAAoA/P/t/97/5//8/xcACAAYAAwACgAPAPL/5//e/+v//v8IABEAIAAKAPr/AwAAABUAGwAHABEA7v/y/+D/8f+//3UA6gCt/gD9Rfzo/Nn+mQCaATMBbABNAEYBMgOSBC4EBQLV/pH87fvh/G7+Ff8J/03+Df7M/uT/fAFrAgkDUgPWAgICMABu/gP9z/xY/mYAtwJxA34CaAAq/if93fyx/Zf+Ov/B/97/dgDSAFEBTwI4A1AERATBAg4A6fwf+yn79/wg/0wANQAR/0f+h/7U/7IB9QJsA9wC6gEFAc3/m/41/Yb8Lv0U/5AB9wLFAsAAJ/5H/PX7gf2v/70BiQLyAZoASf85/3AAkwJABF8EuwLQ/wP9Yvuz+479wv9aAbIB/gDg/yD/Nf8jAK8BRgNSBA4ELwIV/8L76/mQ+nn9/QBEA0sDNgGj/uf8xvwJ/tr/igF4AqICBgK+AB7/AP5R/j0A+AJ8BHoD1f9R+7n4a/kh/Z8BVgQYBIIBrf6k/Qn/rQH3A8EE0gPSAZz/v/1a/Iz7l/uv/Nb+aQE/A0gDQwFK/hL8NfwX/0cDpAYFByEEdv9/+8f6dv2zAasEfgRLAQX9QvoQ+hv8v/63AKABtwHIAcoBjgHPACUAiwAKAvEDhASXAnT+Afqv94L41/uh/yIC3QIqAvwA8v9F/2r/4ACbA2oGaQc0BdP/v/mw9rv4yf7+BC4HzwMb/Y33y/b8+hgBSQUtBfIBEf8E//MBbAW5BgoFrQF//9z/WwFZAeX9MPjO8zX0W/oNAy0JPgkmBFL+i/yTAHEH6AsGCnAClflA9DP1rPoqACACIQAu/Vj8nf7vAaMCev+R+lv4zfvJA78LGg5dCfoASvtV/HgCfQhsCPIAIPZn7lLuyPRa/T8D8gS4BIMFRQiOCrMJRwWH/z38MP1PAB8BBP0L9kTxcvP3/GgIgA40CwwB+fZe80n4dgGKCHkJfQWVAXMBeAWXCWIJngNR+7j1NPVp+Br7E/oJ9hzz4PXG/ukJiRHKEYgLcQPF/g3/eAEMAr/+PPlf9RD28/oYABcCqgAs/gr+MgGCBccG4QJo/Pv3IfquAtYMIxKFDo0EBfqw9Dv2W/s3/2f+SPqm9oX2LfpD/zYDAwVkBvkI5QtrDC4IUADb+Dn2PfpxAQ8GCQQ5/ID0nPK3+OYC+QmCCVwCqfof+IP8pQRKCk0K0AVFAcf/6ACgAUT+qPfV8WfxgvdLAH8GPAb5ACL8b/xIAmcJowyMCYMC6PyW/KkApASFBL3/sfle96P6vQBiBA4CnfsL9mH2nv0aB30MCwouAgL7ofkQ/7sG6QniBGT6hfEQ8If2OwC5BuYGeANAAQEDCAfCCJUEZ/s981TyM/r1BQ4OMw2BBAz7rPdz/NsE9AnXBlb8N/GZ7G7xCfzVBa0JygZOATH+3f8TBIwG4QTH/776D/lW+yz/UwEzAboANQJYBsYKDwzCB+P+p/Xh7yXwyPWa/RQEHwd9B4sG0QWeBVcFKQSPAUX+Z/o+9wr2BPfs+Wb9ygAkA9QDZANnAoUB4QB/AIEAygCiAR8DngShBa4FBAUfBG0DOwMmArP+fPiN8V/tNu4s9LH82QRlCiANBA7NDRoNwAr3BQX/mvfa8gnyjPTg92v5/vhR+BH6bv8DB7cN9Q+wDE0GDwFSANkDmQjhCVAFHf3H9VnzpvUi+g39zPvM9wv0SvQp+YYAlQeRC+4MDg2mDY4OCQ1HB2H9APN47CPsM/Fz92r7tvsR+rf53vxRBEgN3xN4Fa8RWgs7BUcB2f8rAOQAB/9z+YzxAOtd6bftoPbQ/ncCiQEh/5H/UgSgDGcUqhcOFbMNBQWx/bj5//e39avxv+yQ6vjsxPMM/VcFeAqSC90KrgsZD9kTQRYXExYKoP5Z9Z/wJ/Ct8EfvY+yI6oXsl/J8++QE2AvLD3MRAhJKEokS4RHLDSYG1/0E+EP1ovR79Gby3e4T7XHwqfhHAo0KAA8ED0cM0wlbCbsJeAlKB+sCKf3a9zP0dPF37yHvZPEJ9sL7HwGXBP8FJQeWCXcNoxGJE9oQRwme/xP4v/WX+cv/UgEP+qHuNOh169L3EwcTEB0NTwKK+mL7qgPiDY4S8guE/AXwtu749+wEQQ3fCnv9me8s7Mf04wK7DXIQ0gkS/+H4j/tVBLQLkA0cCQ0BOfv3+Y37sfre9W7xsfGB+AsB5wU+BQ4Brf5mAPIFhwocCU8C7vn/9Pr15v0JCfQOSQthAXv5X/da+1kDYAhjBSP8tfTx8/73LP9bBw0MMQoEBZsBmQBJ/yf8jPhb9Wb0cvec+5n8kfoN++QBggukEdgRMAwnAtv4BPa/+nwCbAjlCTcEiPhs73rxQv0bCu4PrQvI/6vy8u1G9QQDkQ+nFMIP/wJN9VLvLvNX+1MBQgKN/oT4u/OM86L5JwQxD/sWlRd7ECUFBPz3+U78Kv8EAF/9KPa47CPqx/LtAl4StRlEFHgCFvFj7WL4FAfPELwSXwlQ+ULt8uwz9A38ggSwCNUDVfpN9mn5XP5dBsUQZRY8EUMG+fx99mj2j/5QCD8JfP/w8UTni+Ue8A0EwBadHgQZwAez803oX+qd9q4F6w/7D84GUfzo9vv1E/rBAxILDQhV/Wfyw+pE6evzmAcaFboWaBOWDXkDYPuB/WcETAaPAi77duzN2xHbGu77B0cbTyO9HJsHmvMD79j4vAYeEk4UGgYY75rfuuJy8/8HTxeKF4gJGPZm6efodPVLCqka3R3QEmYCrfXZ88f8HAYBCDkA+fKu4xrbt+M0/PEYgyuaLD8a+/5e7eztzvhkAvIHMwXG9k/jn9gE3bPtbAc0IQEtuiTPE44EF/ls80z2XP9YA6X/W/jJ8mTya/nuBc4Lnwdt/TD29vQH+BgDkhGNHOkb2Q/n/iPwAez18EL64/7D/Rf7gPaV8frsc+9q/CkPnx7/IgEcZA11/oH0APIh9dj6ZgBvAYH7RvQ59t8BPg5uDz8EdfLw4VXfne6tCJwdRCV/HmUL8fYX76H8QhCBF7cM7vN/2EXFP8cK3Qz6BRMRIwon3BwSEGkM0xJCGGAX7xBJA0nyMeT/4IXlW+6k+RX/sfmS6xnmIPKJCkIkZDKsL4AaFgDy7eXpBPQpApgM/geA8RjXJMfczAXmjQbQIqIv6CsbHdcNXwXbAgUHWgqdB+n5z+UB3JDdJuxsAbkUhhwpD5v7lOyU6iT2Hgp9Hf0aCAZb63bbE97F71wPgygJLsge3AVH74jgQuax+QYMvA62Akj3x+/f80IDJBVhHo0YXwtP+tfqc+Sb7m8G6RmVHC8LMu811mHOit/N/yke7ipTI9AKLevI10XdN/mPGJ8qZyiQEkvzbdzd3D7uCgRzEvkRdQNg7QvlzPIxCtQc1iK2G0YG0uyk3cbfCu8kAecRRhT/BLzyYuuz9fgERxBsFi8SZQbi+F7xzu+v8hD+FwyUFCMRawm9BiwFAAUeAwL/j/Z265/oiO2d+rcJvxWqGeUNZ/4+8lXv/vOR+Hr9EfvB8/PrnOlk8Cf9gxC4HtshFhjLCHD/Ifgg9TH1Evnh/scBEQTqAVv98Pgw+5sD/AbTBfEBmP7T+iD41PwCBx0RLRYoFiAMDPvd7l3rre4t70nthO227Evv9vl9C1Yduyi2KpAivxNLBZIB8QREBkUE5Pqr70fke9pA2nLgku1Z/LYG2Aq/CX8LShBRF+QYUBWfEGYHcP9C9tXuuegx38XXA9H/0NHcRvd7GGgtXDKFKQ0erBVuEVIUCBVREG0FL/Ug5BfWKNQ03hzr0fI89Hj1XPnQAnEQ4x1hKXcshiYzF38B9/Lt8Eb8EAsfEHMHR/GY1rLA4LuzzezwcRhHMmI4UC2iHygawRy8IYQgixfyAhjnjcspuDGzWbuEzhXiovMEBpUcbTKCO485hC2mHecLnPoe7wjm3eWC7RL4Hf+G/UP56vL57Kvpm+3n+VIJQRfJGwUahxfaF4occR8RHbUSdQA868HWT8bGv/nGUdnS7zwGgBzWLlQ5+zkNMSUhWg7G/O/rQNz/0ATRjd4E9J4JfBU0Fa4M8gEI+TL1ffhU/oUBUf5u+CX1bfmCB74ZPSYGIqwQjPe93djL08XKzy/hsPUrCEUWaiIWK50y3DAHJpkTMv0+6XTXfc+zzovYh+vQ/y4S8BoIIFUg+Rt+EykGYfrV8BjvcPPu+68GiQ8OFZUQywNC9IvocObo6wLzZver+JX7+wI3D6Agbi6GM7YpIBOc+Bff3dLN0CnW8t2f5434XQiIGTIlZSsFKxMevAvg8SDd3dM62jPu2gDQEqgc/R9nHH8P4ACp8UDoHuKx3OnYbtn05cb8EBkYMkJALkHmNMUf/QYa8ULijtdLzlXGP8K7ydHepf6YIWs9kk2ITVI7xBtX+xzloNw83p3iG+bO543sK/a1Ad8LhRMjGKET0QWL8orkLOT37t8A2A58FVwXyReWGCAVBA5sAv3zt+MZ03TKucvr2IHtEwKRFpcn5zSuOwc32CgmE0v8VOjY1wjOFc3R1nLlEvSaATgMSxZZG20ZohJZCJ8CAgEs/5X7vfiz/eUI5hXtHIUZtw56/czrDdxw0YHTEuEj9ogJqBXvHFcgKCJMIa0dxBmuFOQMKP6i6EnSKcIpwZfNAePD/VEVsCYtK9IjDRmzDl4JLQSj/nX4QfS397r8YAJDA50BiQAX+hDwTOKA2UzaJ+U/97wIIBmoJfgv4TFRKfAabQrL/trzY+mt3Z/T/c40z3jWrOCU9PoQUDEpTnxY6k/jNN0Q8OyR0n7Kt9Aq4uXx6vqt/XP7I/7pAj8HEgkaB58EPP7M9WXwVfJ//XcN7RyGIwsgmRayB7733ub02svb3uFC6HbpLuZi6LL0BQzdJHo2RzuPNAImXA0a9MTe2NIW09XXweLb7nf7ZQcDDEoKYQOQ/uz+/wOGCIwJfQyAD0YU1hlBHs4hNx35DRz3vd1ly6bH7s9R3cHpL/WVBAoVtCE4KwYyOjUCNLYq4Bc4/FndFcZ0uUy4LcT53MP6dBSSJJknQCPvF/oKqwCa92j1evkeAzAMgBGYE24RBw04Ax74hevn3L/PX8TPwnnP7erIENI0h0vGT2NF/zQqIjsP5P0463TYgsR0uR684ccX4jkB2R+0NIA7djwvMRQgwAwV+zztH+E04fnnuvPcAJILeRZxFtgR6wjs9srjdc+MxWrITdcu9UAVhzOVRYpJwkE9K78Txfku5gfcYtJ3zlPGIcK2xbnRWe+yEMww6UUJTHNE1CuYD6L0tuHk2Yrb4OfB8Uf4g/0S/lD9UfpY+7T9zfl69TjwhfAw+s8OGS+CSIpSBkcTJ178gdISviy84sdQ2Snlme7+8of7AQvjG7IuhToaPZQyjBtzAqDrLt8X3I3dl+II5pDqnO5t9Gb+vQboDxkUFxO0DZ0F7wTzBgAMpQ9jEO4O0wQk/MrxUuVH2vrPLs8v1LDlIwRPIpA5JT5nNGEhyAn/+jnzTvDm7T/r5+p06LHqLfG5+tsGhw9JGUgeGh0dF5YJgPqz62Hnne7y+5cLWBG5Dh8FtPtz+sn83QMuBCD5ZOrk2bjVwuHS+8geWTceQPI2/R+ZBFHs0uHI3ujheecG6b3pweaE68D4tQfHGCIj9iZiIewUFwrc/+74Y/VN87vs3eGD20/amuI18QkAYRDTGEEcLR2oFW0NBAU/AHsA1gHpBykM9wz/B6b7/+3W4cXeY+FT59PxCvyaCnsZpSWiLUgppB/hEpwDBPmD86by9uzh4TXX/c/K1qPpQgVFHfomCSvTJ9Uh9xm5EAcIDvZh46PTVctR0vXl4gSJHegpZCruHXwNQPgh59Xc+tZR2zfkG/IiA6IU6iVNL80x6inuGA4F5+0y24DOvctl05PcLOqs+mkO3iItMoE8Pji+J/4Sof3S6oHbQtcq2d/dzOdW9ZwIoBqiKRsyWSqDFsv8U+Rz0nfKvdH85Dv/+xusMt09YzpLKm0SVfha5APXXdBSzT/L4c7o17vtWQ5SLZdFe05uRvgueRBS9Z/dn8t4v7+5G7qrxIHfcgXWLRRNJFuCUhUzqAki4j7EnbcovWTOi+Vy/JERJyW7NBpA3UGyNfgbXfnI1oS9BbbXv1rWiPLEDUQjjjDrOp1AhTw3L1gY6/mq2h3D2rm3vY7LDeR6AL8ZOi9dP2RFGz07KaYLkunsyhW3w7LyuqfREvPiF1g4dEkzSjs58Brc+GHa3cWJvW3C3c5N34XzywrVI2I4LUKfO24ltQgZ7szYUs5K0CfYjOE26mL0I/97D0Mps0ASTAlF0ywoBejXd7a1qMi0s9SJ/h8jvjVUOnM0aSsPIYgVwQgi9sbhFdADyCvP6eTnA6ce2ywtLv4jJBQCBfL4ze+m6VPpbukf5uDlKeoX8y7/MA+1HUEiECDNFKgAYOkM2ZrV4djK4mruH/jsATQNHBqWIOkgixphCkv2WOT63FTgF+uv+6cHWQ0LEZYU5RcSFaEPlgee+8bySu9l9Gn9HQiSEI4Oawh7AdUAWwc1EZEcax6pGNoKlPXa4ETTh9SC3+HyfApyHIglciNzHOQQFQK8+GzyKu1u6OHlt+mz7RbyZvi8+lL6MPio+UX/QQZ8EEkXQhi9D1IAJPCX3yLXndY74QX29wqtHcEmkSSFFgUDIvXy677pEe619qX9RwCBB+kPoBW1GaQaRRnfEWoJGgWs/nz2seug4ZTey+Jx8zANBycvNY8ywijOGMkF0PYe79Hoxdtm0sPRtdgI6rsFsSQ6NhQ3pythFRX4X9r3x9bBccN4zzXnNAQHG7ErjDf2MnMf6gl+9VnfT8sNxqjL9dSz503/1BS9IwQt/zJmMhAt8iHOEhb/U+Khxfu2JLvKzJDt5RqfQXFVdVdjS9gw9Q3m71bcvNBMyVPLLN1S9PAFKhmUL/o3PyxMIAkXNwBl6VPjoeFV1z7TS+JC8Yf7HQ1QH/IjTxo/D2sDTPJw4sfaJ9k71jXWjuOi+uEOHyAqLxMwaR7yBTTxHN/J0mDTgt2W6Sf2/AP1Ef4dhyGaHjEcRRcHDJD/+Prm9ajqZ+cY8dz9bQfgFR8lJSMyE6QGRAJk/dH5aQH6CH/+Ge6H65nxUPnzCqsnmjZEK7oXdgLN5ujPY85k23flY+zu9Wj9qv14ANgLKRikHb4crBioCz/3vOYv35DbptdZ2pHjvevj8s79/gwfGukgxCMCI4kZzght+NDtO+WM3gLnvvvbC9wS9BhzGzIOuPwp90n3GvUr+ToG6QyhCmQM0RTSF+oTtBLVEmgP3AYA/VTzIOXy1Q7Qhdiw6Zr/1htuMwM1CCUsFjcLm/739eX0U+2o2jzN7Mxa1sjpmQlYJ7cuTiIGDxz7iukd4RbkaOtu8BX0PfsIAjoI9BGMG4MeaxYBCkH9vO2B3y3WqNS+3LftXwO2F2gozzFIMfErNSXQGQwL6/2p7/rZCcetxtLTJ+fTBVArq0E+Qu86kikICIjpYuFJ4YLdLOYl+Gf//f4dByoPrQkfCNQOegwuAgD8CPeG6ZXcBdlN2xHpngTxH6wwNzUZKl0Q+vTQ4oTW5M6kz5/UjNla47T8gyK+QkdQ50uXNjELptx/xiTERMRozpnpcPl4+R8JOyYdNZQ4uUJaPW4ZN/if5P7KZ7TrufvQvuRuAWIp3z96QFk9ADKgFhD9yfI559nUP8xuy7jL5dvQBNIurkfwVHNOeimw9//Tzr2vsjvBWt608zMDkRj0Kp0tDS7ILFwbngJg8gbnLdaizETVctzV2jTmNQXiIcoxNEJlSIcr6QA56W3Y075KuKLRj+XE7QIJgC9YQclFpkglL0r71NLdvVqxpbje2cr3MwwiJEwv0ie+JRgv5Sm3FxMQvwQP6N/OtMODuya7ktRN/8IjgD6fTWxINDL8FfX9n+1d5yToIeUp3MTVj9sZ6Yn7RxnjNYE6ySnEGnMFJd7px5bTwd9L4AX2JBplINYYDyGQHQcAQ/Bb+bP2vez988vzod+B18DfnuXu+IclaUJgPoc6my6mA4XbatQQ0EnBnc1j7nD86wMYIII6FDphMrooSwzE51DSW81HzyDfO/wVFFgh3iQCHcoNSwRjB5MKAwk7C7cJ7PQU1w7MPtJm2NbvJR3oN8gwKyoHLH0T4e9f6sXttNuizpTb+uPE5Ir8iB42K8spfydMFan3k+No0zTL/d4EAJYPfRcBJ8oeV/ka58jseeis6MwK2SvBInAPHgxB+xPbT9Ht4jn0jQWgIUgz7C6XH64I/uof1pjT8NrT8GsWfTDxLnolrh0mBuvmJtzV4tfl6+cr+HMMkRJvEksW3xPv/x7oUePg62j2OwgYH1oqLiDuCffvcNhz0EDVPd8A9FwLXRDDCRgQAxVNBbz+2w1JD4H+wP7TB2H63+sP84b2FOxZ7Wv5tvpd/I8KfReoID4q3ilZGSEC9OUxxkW7aMrK4D0AhyvOSUpJZDvYKmwMF+kH1N3L8MnezynhQ/k0DZYUmRMsFaQTAQ2QEfcguyVdG00O/vgx2gLGuMEDxcjR0ul/AGsTwSojOYo2dC2qG3z8Vd+E1JrVNeEr/SsWUB79Hq0WfP8p6cbgFduj2IznUfqCBXMWgihwKR4jiyUMH8wJpf0s+fnqcNxN3mzlG+h77qf2m/sy/Yn+3AeCHSg0EztyNq0nSQL20v6yCap/uLjeIg+eNSdOjFBUMlwK7Ov4y0qyn7iO0zvnigCEJaA1XS9pKkoexQJA9Z38lvvr944CnQbt9Srnw+Pt2jLU1N358JEHph8XNjREUUECKEgDquc104rHFdmK/NIT+iB3K1we8fd73DvQgMB8wfbhpgc4I9g/UlPFSNUsWA9i8K/X/M5j0tTcOe0T+IL7cwEcBY0AYfzv/kMAugGcDHcZYSLmJkcgRw7y99TgeM1eyybdl/RIEDAupThtKfUN++rMxWm07cGa4OcLGD0VWbxWCEORH8Dus8zDxKnEXs6A6+8GMA3ADpsSnAfm9FHuQfGL9Kz9YhDDIcEqDSpkHWAIje8K2KfKe8zY3bn4lxHPH/0hZBhp/2fkP9324yPtCQIjI9Y1ezFnKbkblf4F49rYVtW01lHpbgAQCoAN+BGMDOD+dfzZAvUClQJRC2QUmRKpDtYRSQ9M/t3qg9+K127Tp+IEARoXnCKKKwIn9gpk7I3f69lC2djrFAzEIWMn0SdFHe4A0+GY00/W695f7MgAjhRTG9gV/A+dCoH/fPOA8Gz0DPfG/FwKlRVvFREMPACp9XzsiOd465v6EA09GKYfBSTKGjQDI+1H4eDXqtXQ5zcHqR57J3gqfyVVETD3Suhm5mLnHOyO+lMKJg1TBcX///sr8xzsW/H9/hYJJg/dFQ4Y2hB+A2/2hux/5NHhu+n3+1sQtRx0IEIb2wlW8ULdsNVr2t3rlgYLH+8tujCFJmoR2PnZ6GDgsOEy7aD+Gw3QD/YJPgQb/jHzDey09FECMAjMDqwZaRr5C5D/7PnA7oTkPelt+HcD8AeVDBoNLwZV/Rf2z+5V5tbkeOzm9XYBNROdJEIoESAcFd8ES/FP5ifnAenU5/TrRPUM/HP9xP4vBkEPLBRkGDohsCY8HccMAf2O6GrUVdHo4f70JwRLFcMiMiRRGhYN9ABk82zn3uQ47wP+PAqVGN0h+RfhAbLzcO/26Y3pSPUHARkD8gExBQEGaf9X+Vz5b/p79nH3qAN3CkoCE/fV8ezqxeQF70oCLxCxGvsgfBoHCUn6a+5c4v/en+Nf6xb4mQiFEwsW+BijGp0Y4BcaFlwPsgXr+03uguDM3uroCvitB9MUGB4fIgwgMBjqDqQEnPaZ7HrpK+XB4vLswP/bDGYW+CHqJCUdrxFIAR3qeNa/z2fNgMza1FLmgfo3DA8ccCdeKnYmHh7LETP+PuhD2tjSNs0+zu3c2/O7Ca8aHCF9HHMTpQiW/Rn48vnf+z3/LwoAEY0OIxI3HsggrBWoDUEH7fZK5SfcFthX1WLcN/KLDTIl6zZXRlFOnkNvK2kTjPvl3bzEELqEtz29p9Ki8E8JYBtpKN0rjCcSHhEMNff75hTY7Mufzl7h3PZPDognxDDHJY0U+QG+6MTPQ8Mqv3TANst33zj6+hbHMjdLfVtlWjtI0jF8FknwRsyct76r9Kcou63f9QFUJL1I/VpEUyVDgjAQFCn6eu966bDiBuWP8av8MAXfEL8Z2hlKEXwBO+433VzSV8370GbeU+8aAvMZNDGAO745LjTPJGsE+94jwxCuiZ1/nTyxy8uK50IJBitsPtJB+j3uM78epwEd6BbYWdB400LkKvymEAsfnifbJEEXvgb79pnpJeJm4SblXPHfCJsiCzgESiJUt1BtQ+ovPhTD9BrYUb+0riCsQbWByhTxyhzDOuFMzlY8TUwy9RdN/+Lio8/vy9zKCMzk18/nE/azBZ0PDwv9AVP64+qX2kDXQNoN3jbsNgEMDlMXIiapL+0qfx9vEHT5h999y6O/k7p+vhfQl+zYCKIgwToBUgNXYEznPEIkvALl6nrhZNuX3ObrMf3KB3ERdBeHFpwX9Ri4D/MCKf0c9tHsnu8w/L8FXxGUI/gtVyrhIQsXYgXl7fPUqr5QsRmv+7cRzo3sBQpSI7k1uzhMLiEhxxHP/0zx/uRC1n7Nvs9z0zbZh+m7/B0IbBB3FcUOsQP+/Rv4dvFq87v7VwQkElEjuCxaL3UwNSihFLv/MeyL2unR+dO12vXmB/o8DXEfRDL0P/tES0URPvopdRCr+N3jjNcn1/XbHOKB7M71efni/VAEjwZfBvwG4QHu9ufvX++j8lD7mgZJDdEPlQ6zBZ/3NuvN30fTqMppxuXECssZ2x3wmQaKHJsrlDK9NCgwPSTBF1sNMv/v7tLiNNpb1fLYO+XQ9PgEyBOuHdghbSHCHW0agBoaG2oagxpuGmIX9RIWEG8MWAYC/8f26O3k5Y7hyeEa5rDsBfSa/LcF9A5cGcMk8izrLUkmTxW6/eXkCtA2wlm9KcGayfrTPd9+6vn1ggLGDtkX+xu+GmUV4Q2KBrMANv3S++X54vby81vy7PKb9Sj5Jvui+tP3X/Wf9sD8ygdLF+co8zZtPqM//znALXwdHQvJ9orjv9Tcy0vLKtTN44H2MgpkGqYiyiRMJBYh5xsqF5UQ9AU9+Wfs6OAL2tfa8OBs6V3yYPcC9rPwqup/5Bjg79+F5Obtf/sZDLYd/yxyNPQwoCPgDXXzJ9xyzlvKJc5u2GHlA/IZ/s8JQBXvIYwuqDaDODY0DilGGBUIOvwa9PnwAPRm+zMDegnSDeEOawvaAtT21Oqa4jvhH+mO+QsOZiG6LiMzgy0dH+ILi/gL6OjZ0M2mxT/D48V/zSrbouwH/qEMchf1HOgcmRkFFFUMeAIq9xnsoOQo5EPqGvVQAjUO5hN8ELwF9PeL6yPkMOUY72T+gw8PIWIxEzzIPo46ZTAlIKUL/Pac5Y/aptbt2F7fAOhJ8aD6Ogb6E18guyiCLKkp7RwcCUj1u+Yb3/XeWOWp7dvzufbz9rH0IPCy6v3l/eKg4cvig+iP9HoF3hZRJKcqTCnCIGYTawQ+9iXqZeAL2iPXjdeD3EHoQfrKDaweWSpJMNUwBy2NJtYeKhfTDiIFSfty8wPvaO+79dD+LgUeBvICHv2L9UbvIe6D8978aQeiET4auB8oITMfpxiEC3r4t+Ok0WbESL79wNPLidr26Oz1gQE7DEsWnx8aJqImESCaEzgEKPVE6XPisuHR5a/rDvKr+RUCUgl1Dl0Q+Ax+BUf+dPrb+wAF0RS4JfUyoTnXNlQqShntByf3C+lN4HLclNuT3gHmgPDK/DMK9BYiIPUkCCadIzAdhhJcBJLzSuJX1FDNpc552K7oa/m0BOwHzwLH9hvpvd/V3N7gn+xu/VQNzRmDIj0lfCBvFk0JGvl46N/b+9QE0ynWBt/r6+D6IQuWHIgtKTtQQ4RDpTkYJr8NKPZK4+LYtdmQ5H/0jwWkFJkehSFOHgUXWwz0/xf12u4c7sbyCf0NC/QYXiLvJMAf6hJqACfra9e8yIfAE792xbXTBeam+SwOGCGnLCgvritHIrsRK/1t6vza4M5myVrMsdUy43D05QUaEkgWqxJGCUD9YfPM7rzxLP7DEWclXDPTOmo6vjCGIKsO5/xh68rdcdae0zjUNdto6pP+yBNoJ043TkByQNM3zCfAE7P/EfBU57rlEOr18Rf7dwIXBSUBvvhD8KTpUuR44IngYOSH6RLwn/lwBTkRuRw6JsAoqyC8Dz76f+PXz0vD08A6yaLZTuxF/EgItw6CDlMKfgbHAykB2AEcB6kMUg6vDckNdg2UDKQNSxEAFIYTWBD1CKj8FO8z5hflsuw8/M4Ohh/QK5swNSpxGwUMlP/69lD0wPfc+9v9vP/tAFP/Kvzs+3b/VQSyB5AHCgSt/cr1I+395SbjPOVh64XyqPdw+Bz1IvCF677nQ+XN56vw1fvMBF8L6xCYFHIW3xaLFU8SZA50CdwAavRv5rPa8NMl02PX29+17SD/xw93HKQlri2oNVY80T4RPfo3hi/kIwgVhQOg8fPjyNsL1k/Ris8T0mnX4N6B5xHxU/5OECQiUS78NJk2ljKYKYQcYwx0/BDxH+n84FfXLM4SyNrF1cc7zXfXDOg9/FkOCxrBHugd2BqlFrIQ1wqnB3AHowfdBZgAWfnD8xDxsu+D7x3zcfpOA+QK+A3zCzAIzQVwBNEEEAjODa4Uihl7GAwQDASh+LHvterS6ubv5/iXBGMOHBIIEZsNHQg1AuX9JvqQ98b3PfgR9a7uUucv4C3cst1s5Efvkf6ED+EbeSGFIHkZnQ+xBzECxv0l/Az9Cf5l/Zf62fXi8GvuYe4q8K70rvy3BlkRrhrkHqIeSB2nG1UZfxciFlYUgBKMDe0CZfRu5gbcAtYk1sTbn+XP8kkBhAspDnwM6Ae1AdL70/Zx8zv0v/nP/rAAmP+J/Jb4svRB8XXtq+s17WzvGO+e7EPqcupa8IL6/AVDEm8fIirlLWAqvCCWFG0JowDO+b71hvfl/skJXBR0G2geFR4NGycTAwij/Wz2hfMJ9OP17fjn/0AJ4hFlGAobIRq2FgQR3QcD/EPx0erA5x3m5uYq6SPtpPNk+cP77vs6+xz47PIi7OzkMeEy45fq/vOP/TsGSgz7DfEJkgGK9uTsxOYp4zLj4OfO8Ej8OwhMELMT0BRIE2MQYgwLB6sB8fyj+Az1fvMt9tr/gA2oG0QouS5JLlMoNByBC9j7q+8m6bnpT+7E9ikCPQ4BGVwfth+UG7oU8Aq8Af35YPRG9Bf3aPrW/W0ABQIpBPsE+wGk/Jr0OuvU4fPYg9O9043ZKOSP8eT9wQn7E3IZ0BmqE1gHcfe/54fZzc+NzabSnd4Q7G/3rf5FAdAAz/7u/E/7NP0tAsgI9xB7GFQfWiXfKcUqQih1IrcasBMXCwMCufnh8tzvHvKk+WAGKBgVKh85KkCWO/YuVBwYCJz3J+1C6SjtQ/WI/CoCWANbAtIAxf1f+775Vfj393D4+/W38pXvKOtv6R/ptuqh78X1EPty/Gr31eyP4QbXntFf1P3cBOxB/WcLcBQgF/UTBg58BtH9t/aZ8PLsout06yDtIvAi9Vr7aQKhCNYOgBR8FxIZyxbTEp8OTwuTC/cNRxP5GOkcLB1UGIcPWgTm+gX0qfH183D59AH1Ct4TSBu+H18hVx9uGL8OJgMg9kzsMOUN4cfgVuI95YHpaO4U8yD5pf31AKMD2QE8/5X7Hfdx9fr1xvdC+4L/HQG8AYL/Dfnz8Wvp8eEc3jre2eNQ7/z9Cw4PHYcmdyuoK+8meiBlGWoRXAkDAnj5bfEL67fnSulp7kj3sADYCIMOsRC6D9gLtAhpBr4GXAolDzUUXRfwF9kS2whd+3brbN6A1WLSKNZU3/frD/rKBr0P7xUgGfEZIxkKFRkOywUx+3TwUuiH4RzgfuSM6yH1cf4ABkwLYg5rDYwJvwRe/7j9ZP4QAiwJwQ9oFa0WZBHSBgr6qe1s5NngmOGi58vxuvw5BxIPMRSQFwYYhBauE48OkAltBJH9UPV77HDkHd6J3DffVeYw8ij/8ApMEdkR1g1eB5MCkwB/A88JfRFyGNEZYBVNDCoAV/SY673mBuZT6lTxovjU/7MDSgUtBwwISAsXEeEXLR/0IqkhmRl6DCn+nPJm7FfrBvHk97b9IgIdAK36cPRm7yTuUfFC+FYAcAi4DT4PDAyKBET9CPbZ8Avwy/Bo82D39/lC+j/4/vTi8ULxj/Pq9y/+SQQrCU0LngplCNwEcQKVADz+r/tK+fX3hvdB+Yf8xADKBRYL8w9LEsoUChdsF5EY9RcuFT0SVw5tCt8FcAGS/vP7BvvL+uH5dvh69tv0+PFP8SjzYfb5/ggINBAYF7gYXBYuDzwEIvi57FPkIeCX34vgYeNH5h/oKOs97iXywvh2AIoHMA3qD3cOlwrmBB/+qvg79cv1S/iR+1//If+G/RH6+PTD8lTygfftAPYLSRgpIRMnRShaJR8fphV4DfQEn/7g+qf2ofRU8ojwuPBx8a/1vfyJBXIPzhc2HQQfsR73GsQVbhFgC3AH1wMI/yL7IvSd7e7mfd9o243YKtqM35jnB/IT+28ErgqwDn8RNw+4DPQH9//V+FHvMuYr4KLck9244S/pFPJY+sICBQhDC1UOuA8qESASXRFUD1kMmgjiA+j/DP3E+sD6ufuO/AD+5v4wAFYB0wLiBsILPRNDHH4jHihuJ/QhShfhCeb9g/MK7lbtRO9q8kn0DPaw9if3FfsjAOIGmA+OFY4YmheGERAJVP8d9r/vrez57K7v3/KU9Ifzh/As7APog+d16p3xWvz2BVwNsQ+xCxsE6fkm8DDpGOYO54DpDu1I8FPxTfNs9mj6DwK9C7sVGh/+JGYmfiLcGnoR3gY//xX7zPnK/AsArQKDAxYBef7k+tn50PzYAToKvRFyF/QZvRijFmAS1Q9WDmAMkgtyCBMEVP4V+FTzCe8y7n7vofGo9QL5Pvu8+wn7TPkG9s/0KPTh8/71Yfd4+Bz5X/kR+pL6a/xz/tT/MAAB//X7GPeW8v/uSu0j7mLx0PSg9wr6qflB+cD5mPtFALMGew5gFCEZaBtPGvQY5hTJEAwNlwiTBjkEdAKLASL/J/34+jL6Iftr/oMFgwtkEioXEBeUFoURXQy8B1cC4wCj/sH9xPyc+Wj2kPFW7tXqA+p87I/u3vMW+NX6s/1T/ur+ov4L/i7+ef4ZAJ8BtwLEAuoAgP5z+u325/TT8431sveE+Q/6avl1+Ar3i/ds+OX60P6PAmcGjAiGCpcLJA2mDjQPjRDXD6wPOA5vCmgHAwOk/xz9q/ro+HP3QPeK9qT2vvc3+av9qwLYBzwNmg/fEFQPGQs+B+kCMAEIAboBYgIlAUX/JfpV9RnxRu4g8fH1Af1QAyMGQwblAnP+Fvri9x/4WfrE/Uz/Iv+c/W76qvda9k72wvnY/z8HFA8mFCcWZBTHD2oJwAKH/TD5Mfew9aPzofF67ojr3ek+6QbrJ/BJ96gAsglOELAUKhZlFu8UPhM3EC8M3QgtA7f+6/kN9QfzTPDW7gbuh+4X8mv4UwEaCQUQOhSqFDwUIBEzDcYKIAifBuYE+AGJ/1j94PyP/MP8xv29/lYCLwX6B0wKcQocCxMJhgVXAB76ovWw8Y/vJ+2a62nrduu97Y7v2fH59Wj6CgDPBcMJ2Aw7D2MPvg3OCYMDJ/169yTx9er05UziJuO15qXpley07qrxXPgeAUUKYBSFHBoinCTOITUdgBj/FBARQAplAc73s/NX83v0A/bd87/z9PVj+sYCLAxhF/4goiZCJ7UjgSF8Hg0aSBPLB1//1PpG9xb0Iuxy43ne993+4V/nmO499X38vwKIBAEIrwpeDIAMhgW0/Gz23/TN9V701u6q5cHeiNvz26jhLuq/8+j7Of/L/7kCsAnDEb8VJBPCDKUIvQdJBm0CvPtI9tL0tPSR9K31WvoTA74LZQ8REAUSMxhmIBAinByXFPMOsA20Cy4Fo/y++LX4BPpb+036vP0WBYQJCAv+CXoMaxWxHcIdzRROCp4Cu/4f+1/y9eoJ6GHnm+iA5wrn6+rc8FD1bvYz+cn+igYYDA8JnwPY/kf6q/UO7X/lbuSV6MrtE+9L7s/w0PdJ/kkBKwTtCXkU6h2vHRwXbw8TCKoBdPj97dXqs+1R72LsheWw453t5vzMBwIN/hJ9HZEqXDErLZUnkCXCI7obGQlz9o7vIfNB9KfpNNuY1CvdhO1B9pT53f+zDYofhSmtKeYmbijcK3Up3yAaFeoM5weE/lfwAeGM1kLSItF60a7R8tQt2+vgjeeN7tP0RPtrAXcIpxNMIEsnFidZIOUWqxH+DfsGVP4/9aztA+jf3hzSoMhGxpHLgtQK3WbnGvUCBbkTNx8aKn40JjxtPuA6fTWoMTMtAiLmEBb9wekC3oLXVNPR0cbON84k1b7iJPQpA7UNWBeXJbE1az8zQptAgT9eP4E4/Sd8E28EUfwt9P7lCtKzwzvCJMiQzXfM9sgrzjHdJe6S+j0AywR6EBMgPyymMVcvFyrVIuMXzQ32Bdj9nPOM5AXS3cPzu+q18rI1tFS80cyf3Tvtaf7JD94iDzVwQe1IFE4JUStQ+0n4OxomsQxF9enjZdUExlG5b7SOufXDn81M10zme/5+Gp4x7kEDTttW+FnmVXZMm0CAMgsh/wxD+PPnSNzM0QjLdsitybnOYdXh3u7qmfVr/B8BFAdYDkEU3BNED7IONhG4ElMQewfg+9fyyu9H8arxWe6s5r7cH9Ud0UHPrM9W1Hzdxef97tP02PxMBu4QHhtnIacjViVDKGsqRioGI0gRYvxe7wTu/u766BfgW99A7Dn83QBy/Pn8KQx8I1YxcDHZLmsvJjHbLvIjBxU7CgwFIwLO/RP30fBJ75bx5fKW8Zju1+/E+S8FaghUAeL6Lv/uBl8Gk/l/7KjuSfvFBKEBkvIq58bqS/X697TyUO7u6+rpBeYE31rbr9745K7nkeKd3zTr7vvzAaUBdgZAD/AZrCPbI/Ue6x39G5gS5wKa+Sz/fgNP+aPrIenw9DgE4QcpAEn+mw48KPs28DMGLf0ruixsK2si5BN8DaQMDAZK/JzyYutd68fqhuUL5ivs7PJf+2f+Wfp2++cBNQQ6Aev4IPHI9gsEbgnHBsD8/uzD5QLqsu1U7kbuyOj83SbXK9c92WPbJN3e3/XlJ+6P+0IMmhDdCr0P0B2vJVkp5yivHOcTHxgoF9kKsft280z3ffdQ7LnqW/isAk8G8QWe/94Dcxk8KiMtHioVJkglbSSnHVAYHRcpEdIJsQa7ABT3Xu8c6OPgDOCB5CblKOE53bnc4uNQ8f/55fYR8er0hAUgGuYiAyGTH7gZ9Q2jA/73U/A39QTyFdrXxEm9UbynwULIa83515jnTf3gFwgkKSRkMhNHNE7qS1dC/THgJ9cmjR9TB47krM7307raGM2TwtPPl+Vz9BwAfQk6EY8gNzTEPjA96Dk+PPM2JSDQCs8GXwFX73rkyN780oTPz9Sk1UXWBd8C68jv3uuz6vz5AQ+0EqMGQfco894FsxlNFnYJ7wRXCGIP0AxL+dTsmfnEBsj7ouYw28TZo9v23tzjU+Ur6FX3fgqyEcoQ1h69OOBCbkANO/8wFS47NPsy2x4y/rbjQN8F5pjYZcK/wobN+9Q73fvmN/Fg/OINuCBUKrstvTO4Ok4xNiGyI+0hAAvq+BDw8OBW1IrUY9CVxCrFk9Ds2ZHamNe35Ev+eg+UE0wN/AntGnszVDXBJIEcFxqcF1oY9AvX9kv0ivmy77bjQuIl30jXb9VV4MPy0fvc/WcFjQeAB9obzzRdM9woZixaLiIs+CznJJgTawGl+BD9Dfi63MfEDMwa3ffa5tPxzmTQweLH940HJw3SCbESJSU0LT8oxCZ+KF8fWRvzF54Bau5T58vh/NxH1/PR+Mr5xZbHZ8/a4U3whfDr8Or9/x3LOIM0MirgLWo0GzrNPRYwixVuD6ITpwCs6H7eH9WcyaHFg8ta0cjV9eOX9Tf4Jfi1EOgsuy+MMipE3kk4Qb08uTHZGhUOcQx+B9rwQsqIukDI1s+fxvq377GQvJ/WO+8Q+NH+/gn5GpcuZzPrNDc62DetNN8xtikhF0MAWvC74Y3cut3Ezpy6g7Pnu67MktvJ49fgM+V3BfgsOTu7MHIwTEJMTAVPN0ujNccgwh1rGy0HQe123dvOLcITxRbMv8TPvVbOuOQ27QL36QQfDOkU5yslRbxFvDTiLKws5Ce6IckbWgi87FTdjdjz17TRasGbuHq8RsV8z2XYSN+/6Nb7/w/YG4UhSiQ7LnA4yzf4NjUyLyRBGSMVEw4z/EHqMOD92MbVctRj0nfP1s9N3ajxSgHJBZME6RBmKaNBI0veORYq0jEzO4I24iTLCs71F+8C603iithiySLDJ8xDzazPc93M5LPsM/+xDssTeRm4Ih0nSicSIr0cihohD2kD7v5I9kzrZuLj2LzPhdNo4BjfR9rW4HPqtfecBU4LZwjdCgIaUyU8J9EgSBl6G/4Y4BVLF1UGlPM6+ecC2Ptu7u3nnudN8XX8Xftq+mL67f1TDUQPmgmvF/AiPRjaDHsRnhaxE4MSQw1bA0T5cvPx97Hy6Odl8Gb0IuOr2UnlW+yW63v5AAHU8vXrA/jPCY0OLwevAPv6jP4sC+IOCgCG7wr3x/7M9lX6p/zU8LfvRfsTA2gFKwh0A7f5F/8bD2sb5RYeBYsDgwnbB1QMYAwVAXT7PAOWC0wGxAFzAuUCXQ4zFRwN8AOo/p0K5xptEcb7uvPe+hoCbwTc/KjmIt958GUBXQLs8NnjQOuV+V8GuwliANLzbfP3BGQK+Pp89Hf19vSb9230bu1S7S7snOq089v59/dn+vP4rPipCDwWTxPGDP0I7QwoHG8hTRQSClkKoBGOFvIKpfty+dsB0grjB2b7Muwo6uIB6hL5Cx3+KPP8+9oTiSDqHEkRtAgNCQUVMiC/FywHS/gY8un5gvq/9EnqEtIOyfTdKvSx7FrVstQ45Nn3+wo1Bmn09vQUDJghxhiw/oT22QE8CYkF/vlz5Onbm+yN9kfw2uZU49TuPf0LBS4MVA+nDdgRxR1VJTsmrCRXIWQcFRQfGLcjMxbJAL/8qAFEC3cM5/7P7Wzo1P0yFdsLWvBp67gAww35EFINd/r0+PMO5hggDgj+b/qn/8cCRwJ0+q7w+uX14X3o2+JP3A7hLd1s2Nnb/+Aq6iP2dfjA81j9vAgcCX0N6QuaBwEP4RCMCHX5w+2+9mwD+/5l7CHiU+wD/E8N+RLtBbkCzA82Iwkz+i86H3UWACNiLWYjOBbRBVL7AwMvBlj/2fSK7Tjz7PlO/HcBwQbjAST+sQ0aFwUQnw2RCJP+w/77CPoHbe/m3dHjAe4Y71Xjidu33nTgielw8xvpueAC8loETwFO+R331/msARcEAgk4CSPzDe54BMMIB/lO9NL7rvlD9O7+jATs/G7+5wWCCfIICg0zGSMYvg/XGZIjQhryFqUdTxg2E5gZyBRdA7z9sQT8Bsz9wu9q6RTw9/uNAOH5Ce767Cv+qQ3HEMMOtgb1/ssHGhnhGq8NLv2J8L7zbf1s+JztlePF1SbV/uOr6pLmluBv2mLh3fc0CHoGC/wE/DYKnBOXEAIOWg6BBq4AXgmCBSTyvvGF+nP3DPPG8dHvyvGL/28OOA61BM4CGRPTIf0fYR+LGXcPdBblHH4WDQtmBHgFDf249CP4+v8aBKb1munV7+T4YAhrEW0E3fLD9E0M6BXUDMEIGgTw/5//vgUFCU/4BfS8AmL+Tew65lDx9vZh8sD08+1o4S7oi/nnAXf4+++g990AIQbcBecB9AC1BD8M/QgxAOb+4P5rAu3/M/ZO98L82//z/hD7oPwdAeAJGxEtDiUILAcgDgkRsg9uD7MGoQFWAcP6zvbV9ln9Zf518gHuIfLZ/g0MfwkvAAH6cAZoG74bBA/EAQQEwxAtEHkKKQGN+QT6uPc++xX/af1n/4j6gvKY8cT+ShHoC7P9GfZm8eD6bwbCCH/9mufO52L7Pv8O8Wrr1PbV/Wb+rPlV7lXzjQSFD24LoPTX7hQGgBTqDbz+ofYh/5kOcBGSBAz8bftj/a0FiwZ0/FT2tPS/8yDxgPQyASkDEPhc9Nf+uwuJEVMVqhR7DsAVfSUdJF8SyQYIDWAVeBMQCBjzHOVA7BT9iwSm9zPo6Olf8lb+Eg6yER0Ggf4sCFcThRIYC7wAePqG9lr15/kN7kjZXtrv5uvq2OXF4unmnOsi9Pv/JQR4AYEHfxc2F2oLtg3ME40T+hHgDtUFQvkT+IX84Pbm8cTzUe7c4h3noPUB+hT6Yfl4+IoAWBK7IHYaGQ4LFJMk1TCzMRokrg5QC6Ecjx2LEDcHT/eV6fnrjPiY+YLsXuqp7SPqCe/sA4wPJAHt/YgLKwwVDVMRrQxjAC30bfWj9mPuGueD3ILQjs412TDhjN984KDeaOC28rgEMw8VEyESvhECELUYEizLL5UdqgnKAuIDcwijDZICrOnO3DDkzfIi9uHuXet56/XweAHKE3MVqgsEErsgVCVELf82YDCsHuAWEx8ZJbUfjBY3BV7r1eLK9mn/JOqT3b3ehNu04M/v7/QR8hL8hgaL/4H4wgE6FX4Y2wpNAhD1YumY9cj9t+ka2F3Zxtek02naqOJf5sHoQezb8z/62gYmHawjfxhCFGwcCyhALnokIhOrCtQGSwjBB+L4su1Y75bwt+vk5dXoivYm/v3/0AcBBAAFuh3rJiQg/yPYKDYlPB4FHyEjhRmuDjAQEgb37/rvCPbX5lfgs+Wj4PTdsODR4r7h5uMc9fsBLv97/NT8ofmgBboeyhbt/YP4OPP57xz8RAAK7BXWgtYS4+TmpOc87p/qDuU8+qcT2xEUEVQfaSBDHxoudjWlLaknmCFlFVMLNQ5JF5QK1vAI51Dk0eZs9l78t/CM7CvvwPa7CMER2RZqGlMUQBQUGUUh6ylnHmIJkwdDDJUEp/9h9xzh0doO6ZXr6t6u0jLQ29iq4gXqQ+zn6InstfrGAqj/MwTOCugKMBBrDjEALfy2BEEEUfvc9jjx8+kr64Hxm/OU9kP7E/2r/8oGgxYAIcgcSRs0IRUmLCybLt0dAgvCDsQXpxGIA2v2YutS6gLy9PW78sDqVOmJ9IX8Dvx8AUMGdQXdC0ERqg+zC7IF0AX4DFoNJAOH+VTy9u7S9FX52/H/5Bren+D06YPu1ue64FDjX+3p9nv8MPnF85/5IwjTFOYT+w3WDDgL0g2mEpoTGQ/FBjoC1Pw1+PkAygcE/xL62f+hASwCcw1hEkYKKQ8WGwYadRGBDVQPPgx5CeQOlgzX+cHu6/Z/+Rf3cACFADDwhu/g+n/75P3HBjkIy/2D9eb5j/0l+1L9CgNd+/HuZ/VN+LbtH/d6B8n/EPK47ejuPfQ7+8L+Hvfc6cPmkvHT+Jb2xvff9tX4hwRvCYYImAl8C60SGR1uHkEWnw85EEAVjBYIFDMSoQyHAygBkQR0BxwKxwaP/Wv3JvoEA8EEPf2P94H4Qvoy+7b9n/yw+mf//gON/+X8mwaXDgMKMQN9AWX+T/1cBG8GTPgI50LmVOzt7U/xK/Dr53fi4Oec8zH5g/xKADP95vnE/N3/+wNKCLMB2/W796/+X/xK/IL86fkH/aQCagx/DwwIcAoBDwcMTxIcIdUe3QsaAoECVgZpEd0ZmhJh/xX1fP0WBiwMchUmEcwBxfhK+Iz8vgLICVQIOvuG7s/pKe8c/GIGtgQc/BP4jvg+/FwFfggFAyYE0QQB++byfvPp9IbyL/WG9xLvw+fn59/piezz9U8BaPuE60TnVO369vgAgwJ19+vr2+yg+A0Iug0lBnEF1Q1kEDEVIiMfJdYXGhiRIFEW8gykGLYZHALp9uj+7P2Q+3gFrwOb8K/v5AUgEL8IQQc1C+IGkgZLEUUPFAAS/mUEzf9y+Fz4UPfI8QDvgvQG+9T3zvQe+EP0pu/L+lUHoQKO9+j0o/dm+bv9pgTC/xrzj/XB/mf5//Ab9Jv3kPOR76Dtpue24qjqYfUv8+HuffPi+lADBAw5ErwZwB/cIcgnBiwZJ44l9yfNH4sTAQ/7DK4GWvyi8VXqSunn74D4Z/dW7Tjq2fRXBL0OqBFCDqIGPAT2DOsVGxIVBwUC0P7E93T3h/0+93LqkO5z96/xWe4v98312epB8/MEMP9d8rX52f4E9dX4ZAecAeP0B/zFAwX4XvBx+23/lfXF9Df3U+2n6B3zE/p893L2pPoAACYDuAh2FBkc5xx3IAcl6SN+Ik8m7CafHf8SuA/3DOkFvgAp+pzvueug8FX1//WK82TxUvPk9zj/RgneDNoG4QDb/3ICCge/CS4HW/4m9Cf04/s2+p/z4vYb+N7wi/Nh+jHzhu6c+NH8vfWU9Eb5FvkQ9ar1mfpY+kj6RgMKBMz0z/CD/bcDlARzBiv+RfIB9ZEBkQiaBdYAwwK7BcUGjw70FCQPgA/6G38d9RWuFioVwAtdDAIV7BGYBY78ffUp8a32HwD5/Yrx2+pN7x/4xf9MA67+oPjS/QUH7QbZA5gCXf00/H0DFAPd+xL9pv1W9WHzLPtzAO0Ayv2a9Yntu+02+O0BMPz37XPpQOt165ry2/p899f0Z/nm+vn8QgQGCo8NDQ+SDcoPoxG+CoEH3wqoC6IQZxLbAxr4Ov1YB1YQGxRfCln/yQE6CrAQaxBjCN4EmQafA4kA9v+G+2D4J/z9/Kz4+/dP+EP2Q/Y2+k8BzAQ2/lP37Pfm+ogApQZ4AcL2Pfja/+YAVgAlAFf+CQHYBQgEWP0q+mz8AP1x+W/0Uu9x63bq/+on6MTmHO0C8RbwQfTd+90CwwqiEE8Q1RHKGykjTSCrF6wRoBGBEnkTzw/yAQz39PeV+rv6t/13ADj81vXI9aP9MAbyCbELggXB9074mwbtCLEBnP5g+afzhPjKAOL/a/vv+wH+qv1G/sUCAgTV/nf9dv2u+pX+uQJJ/LL19vZZ+FD7OARsBEf66/fU++D8fv6gAtAA5vUh713v7u6N8Rb5A/vB8vzutPbk/o4H0BPOGAYTHhGiGFYcdxtGH+MdGBBcBeYE+gJA/Iz6nPyf9g3ufPGV+bT55PseBpwG/P5PBHYNHgr2BB8FWgJm/d79pv2s9Tnw+vJG9zL5xPks+Qr3ifqHA0oGUAVDBsICSv3cAEMGzwA7/Dj8I/Vq8b35dv7Y+HP0svRX9J731wCDAm34+/I1+bP9/vx/AA8CR/wX/YgFlQZ2BCQMEBaWFegP4A2ED5oS8xTVFLcNlwA4+/z+cv1/9zL2WfbW8/vwzPD084D6TAExBVgFwwEcAW4H0Q6fDmsH9ANFBDYAjPxo/Y/6rfMD9AT5LPUc8CL2Mvt796L5cwJ1AwMCgAbeBf//wQMrC/YHJQDQ/UL8HPqD/LT7lvSB85P5Evsm+Ab3z/cI/IEElApdCEMEqQUrCVAMARFXEjUNkQkOCGADwgI/CLUH4wBG/Qb7Z/eI+av/Vf8G+jn4Vfp8+3j7t/2gAIn++/uv/wgCN/+2/yoDDwIDADMCdgVVBJj/xv6eAI7/NADyAm/+lfc4+f77Cvse/er+Zfuv+WT9OgD3ACMDdgMZAEf/6gJcBNkAV/zQ+b/5VfsZ/BD67fcz+AX6jf1WAi8E3QOLB6kLyAkyCTYPbhC/CWsHOggFA0j+qf9C/pb4/Pcm+476Mffv94f9IgHpAhoG/gV5Am4EaAk+CMoElwIT/4v8nvzG+xH4x/RQ9pT6Vfur+g/+mgC3/1cDuAmjCewGpwcDBpH/R/31ACIBFfv39bT0jfMt8+n3Mf0N/Cj6gf0TAEH/+wHlBnQHGAVMA6EB5f5C/QP/0AHAAJ/+rv+W/3r+gAJXCIIKfgthCiYFkwE3A/YGFgm5BNv7JPYK9V33//w0AYL+rPqh+9P+WQOACbQNzQrwAc/+RQS6BuID6wC1+nfxT/OQ/rL+c/Zz9dP4aftXAScINQbk/oH/nAftCp0GwgIF/6v4Afmy/6j+WPbK8ULxMfM++W7/sQAb/Pj4VP61BvQK9gvWCQQDSP9UBG8IdQW9AWAA/v6h/OP8n/8lAK0AoQOQBHEACf6pAyIKngmJBQ0DwwCx/ab/lQTIAX75Lviq/Gf7APoFAfEEBv+o/QUFugW5AkgIFwoDACX6FP+wAR7+D/13+3b0KfIg+oAAbf5Z/Uv+OfyA/lUFugdqBuwD/f5Q+y79ZP8y/Uv59/RB8bTym/kd/eL5tfn0/vICVQeaDAoM7gdkCWEORQ09B44EvAL5/ZH8IP5y+q31c/ix++X59fqr/ysCRgPSBkIKKAiQB5cNWw4qB+ADwgQ2AVD+wwDo/Tv26vVM+zb9V/yI/hD/APuv/BwEmQWEAp8Bmv0k+Jz7/gDI/pv6N/gg9gf4yf5QAhoAKv6YAIgD6ALUA6MDwv30+03+o/rl9MD0x/TA84b4uvv3+En6NgGQCF0NNhFyEycQ2A3yEKES7Q0eByMCSPpC8wb0B/bD81vwqO9D8U72mP82B6oKGQqbCIcNDBXnFlYUYg/kB0oCgAGJAc392/Rt7abuA/Jh8un0Kvhs90/5/QCxBSAF6gMXBPgEBQUxBRAEUv5J+Ab4kfq++3L8tfke9In1cPwHAIsClAP8/jH8LgDWAlP/FfyU/af9pvrm+wz/lP0//z8J5QwjBq8FdgteDa8O8hANDXwCVP7gAYj/j/h/9Sf1l/Nb9C/6Pf2++8j9iQUhDG8OQRF3EuMN0AkGC5kMdggZAIn5mfWE8kTyBPNl7z7ss/DP96z7M/2u/oMBGwbeCg0MBQnCAu/91//SAAD8Mfdw9aLz++/68Yn4b/n293D9VwSuAX4A3wgzC8wGIgm7DR8JKgB5/sUAP/6i/AAB3wB1+qD6vAESBagETgUbBlYGswUDBiAIrAaaAmgBSAFLAF7+YPtf+v37lP2v/8cDxQTy/yz+jwIfBsoFrATmA/z+YvmD+mL9d/u7+bD73/mD9WH3GPtl+4X9yAEtAUj/EwMBBYUALP9qAuj/wfnY+Wb6LfZz9h/9zv/E+zn7FQAnAeYANwUTCdsJKgvqCuQH/QeGB0MEJQXoBA/+gfns/L/+FfoT+Xz+HwGv/nQCogkVBbT/pAXhCRIGqgZWDPkHU/6s/Y4A5/27+ST6hviW8m70lPwq/0z9qf3r/db5ZPn3/gMB8ACkAzAEzf7o+gr9Mf42/RT9rvw0+1X50fj6+rz+Y/8d/vH/+wGT/5P8JQEXBX7+JfvcAqYFIP92AqELngW0/vMFxAnsAeX/MwgoCBYClAeGDc4EO/wAALUAtvps/nUE0/2i9u36dwBs/34AeATbAVX+CAM8ByoEWgIOBMICegDGARACzvye99T2xvX88g3zC/Z2+L77T/94/1D/AABE/v79YwMyB4sEtAQZCTcHIAEHAAcAivlk9A75Zv3A+ib7owDw//n7CwAhBEACdQPuBiUGHgS+BeIHVAfQBp0G3AQzAtoBUwJmADf/3P2H+3P9DQK/Acn+0ABoAer7/fm5/Q3+2vof/g0ENQJx/cb9ugDz/x7/JQKhAUP9sf3qATUC3f87/wv+WfyS+6T6Efp6+O71z/b4+tr9c/7x/90CYATqA8wD5QSZAzEBbQOLBmcGCAYLBUUBPP4Y/Rb6Avly/F3+H/6K/1sCIwPjAokGkgpYBiX/6QDgBLYDcgWkCIUFUf8V/Vj+Ef6P+/v5A/xO/vX+pwCLAUsB3//e/RYABQIv/YX5sv1f/+n6/PzsAtX+N/dz+u8Ac/3I+RAAgwTL/4L+rgTfBID/ewD8A0oBA/11/Fz7Dvqf/Pr+Iv9a/5T/Hf95/s8AZgQrBHgC6wO5BpAGEgalBgYEYgCY/z0BMAJT/0v8VP1j/wj/Vv/vABb/wPwKAAAGyQbMAU//EAD3/Fn69QB6BzgCv/tc/U/9cvdE9sP9KgK4/sj/RweBB1z/KPwB/xv+P/s+/X4BpgAL/Dj9NgFh/u74wfiH+378kv6DA/gGTQYSA5wBoQKDBOMFdgS7Ar4Bn/5B/Br/tQEO/UX5nv3SAQ4A0/2c/zQAg/62AUEH6QbFAsoCYwW/A9r/of38/XEAqALNAmcAE/4k/Zj93v/g/3L8RPuq/7ADuwFr/7X+pvq59rn6YwG0/4f86P9NAbv9uv1/AjEDzgByBMYK4AnhAev8Xf5EAIP/4fta+Qf6Zfm9+TIABAPz9qDshviGC7sNGQSkAQsGbgZuCHcPzw2OAKT5MwDHBRIDfPz/9ZLzJ/bq+tP8F/vr+YL6ifxzAHIFnwaaBNAGMwpCCY8GhgPp/or87QCABFAASvrC+bT89/tN+tL7dvqu9gz7UQZLCRADpgCQA+UDAgA7/7ACEQI//zYDGgj+AQ/5dvsNAg0BH/0q/80C/v8h/U0AkAA6+jf4w/wY/jf+cgLbAqf9xP3xAwEElv54ADsH6AZ4An4DpgPR+6v3HPzg/GX4JfnX/CX7ZvpO/5gAoPsh/FMGWgzwCJAIhAzACPsAWAPSCKICxfeA9qP7kfrk9Wn4avwb+CX1jP6ZCIUHCQSPBjwJIQdfB48MXgxxBa0CbgNj/tz3FvcV9vrxa/Jj+Mj7m/ul/aX/Lf3j/CcDiQfSBlYIqQslCmMGqwRLAYj7nvk0/Fb8uPne+Wr6EPj/99D7Xvw4+T/6e/8DAyEE+AT8BIkDAQPnA9cEIgatBs0EJQOjBFQFVQJhAIMAaP7e+3v97/5G+4T4c/oT+3T5Gft8/s/+Yv8tBJUIsQizCLEL+QyNCfsFuQQGBAUDVQDP/Nr6f/eX8ZXwkvTK8qftSPHO+v/+KP8UBM0J0QdnBZ4K+A2yCJcF7Qd2Bv8Biv9u/Nr2+fL88vLzYPQv9Xb2k/eF+k4AQQQ3BZcGkQiuCuoMbgydCPkGqAgtCEwF3QMCAnD85vdR+Un7YPkD+UD9LwGDAer/o/62/p7/+v9SAa8FPQmWB5wE0QWtBQ//Tfug/0MCgv8OAFYDd/8R99PzQfWO9Rr2NvoG/vf+LP8s/w3+zPxC/av/KARnCJAJcQnRCOUEKf6z+jr74fks+En6U/ud91f2Mfo++zn5fPsdAqcHpgpaDfQOog3AC9ULNAzyClEIxgMj/0L9ovrl9YD0VPaS9qz2i/mK+yD7w/wtAW8FpAnIDvIPWQvMCUIL/QWe/hsA/QGX+m/3HP1h+arrcemx8jzzE/AV+TEC9f3P+d7/ZgIK/TX+ZgepDMcLvwuSC1QGKP89+tP5f/2J/33+xP8/AVf6I/Gb8ev1YfYv+jQFagubBpsDRAdbB6cEIgkCEbYSgBMYFvYQIgYdAPj8ffcf+L//LP4e9T70EPYT7u7oG/Ql/1P/5gPqD/QQgwZ9BC0JxQZ4BMEKhg9iCp8BEPpf8hDrA+ah50zwY/eL+Cb5RvvB+IzzHPc6AuUHIgg2D3sXsRDtA6sBtgHy+YT2rf8oBm8AmPqj/Ib7c/IS8Rb7qwGmAuUGGQzBCjsGzAOPA0gFbwf5CFcKtAuFCUEC5P3l/p79ovmb+8wB5AB3+0T7Bf4G/Kb4qvyEArUBFv9+AYgE8AAQ/Z4AZAUcA+n+vgACAYf6/fW79hb3ivU49zr7Ev2m/Nn6OPp/+w39Sv4jARQHtQrnCb4JWgraBnEBEAGQAfv9tPxD//P+u/ul+wb9JfrB93/7cv+3/ysD4gqyDAYKdQ2bET8NPAeBCD0JmQKQAGMFnwJG+RT4+vpI9GXuqvPQ92X1oPiGAzwFe/6gAB8H1gPa/bYD/As2CD0CowSNBdH5ue7t8o/4E/QD8mT77QBO+DjzP/oK/XT2EfgjBT8KwgbDCIUMmQex/x8BBwYNBLsBHQX9BmECs/89Aar+0fqO/MEAAwGw/lj/iADO/0MAuwO5B7kInQgwCCYHPwbwAlcAyAIpBjQF/wJWBPsBt/jl8a7yIfX08jX0iPzaAMr9lvvb/if/nvr7+zEEFAkwBq8FXAnDBa388/iS+y/6EvUI99P7dvmi8/v0d/qp+uL6TgE6CJ4IYAYgCHgJJggWCEkJagp1CqMIlQT6AJf/QPyN+Nr5if6C/zD82P27Acf/FP3q/xoFewUtBHgF5AYTBiQCggFTBYMH0gUOAwIEAQKE+Jzx2fQx+QH1a/UZ/1IBX/kh9TX43PUJ8AL2DwP9B/gGVgyuENkIMAFFAVUAP/sp+sAAhgNZ/rn6wftb+dTwt++h9wv8Lfvg/eoIiQ0ZB18GRQ23DWIGmwjsEPEMJAPcAcQFUwAM+Kf6hv0q+t74tfy1/EP3zvf1+zL98v6iBJYJTwhRCcAM/QhXAmsA3AE+/3P85v/NAQH+W/kv+XD4yvMG89f0A/bJ9w/7vv6b/68ALwNLBWEGwgaJB5sEgwCoAV4EdwTrAmoEfgcrBKT8EPjF9VjwvOyC80b8fgCyA9EHEAoGBaL/rv8mAcgCYQcDEOgT/BE6DgIHaf2P84Pw8/Fr8Qb0J/sWAIH9dfuJ/UP8IPp9/cQF2gkJCdcLig6RCz4GqgP+AuUALf/I/fj7Wvr490/2xvWA97f6oPuD/esAUAKjAMX++wD7A6kFXgaFCE8MdgosBQUCwQEMANb5+Pdv+w37bfVG9L752/kd9wT7VAEkAjT/ZgHyAzgB6wCvBJIHUAiPCoQKeQTr/6v8/fc09Bj1XPnV+sP96wGQAUb+2Psd+zb5gvoA/54CHgijDUQQ6w4XDJsIaAIL/tD8/fu5+wz+6AADAGf/zP8I+x31cPW9+IX5OPxnBSoMxwtHDBMPZgutAOf7hv0j/HL6Zv3iAeEALv0i/FT6VfaZ8+71dPpn/voBvQMGBWwEwQFMAP//J//t/UL/uQGjAQ4A+/6G/cr62/ra/dr9Pf2Q/14A4P61/0gCOgGx/4sDLweUBaIE+gcpB68BBQJvBAgB4v3sAPcCxf9E/7cCwQLY/9AA/QLrALn/PwJ2A0oDTAUGBuwDmQKjAEv8pfkw+5T7qfqR/rIDUgJK/nD/Yf6R9jD0Uvna+h35Sv5cBZED4/60//0AGPyz+Jn8If9g/e/9PgHmAHr8Ivmo+Nn4ofed9wT71f7JAKwCDQbZCMEIRgi+CYYJ7wbSBb4FkQS6A6UDpwBG/Hf7vfvo+F73YvwDAEL+fwFcCVwK6gWHB64M/gpdB+4JlQyTB9MBBwKvAKz6Z/bz9Wr2gfVA9O70Cvdj93L20fmE/+4A1AAGBW0K3giHBIYFgAWg/3f8eQCNAPX5FPhl+u34vPT49Mr3efZq9T35LP6c/9P/NALaBDkHHQgzCLgJPQrtCE4IbApnC3kHFgSLBIUDn/0A+gj8jPuY+AT6wf72/1r9k/66AscDkgPqBtkLag3eDVUPmg81DE8FCgDj/aD7cvik9u32mPXx8cvwEfMz81DxW/SF+uX8I/5pAnwGCAfaBUcGXwb0A14BIADR/qH7nPhW9rH08/PT8SvxVvNX9WH2Jfli/kkBSQOwBvQJoAuhCzENpA15C7wJvwgXB+gDywG6/x79yvuF+0b8jvxo/rMAgP8I/ycC9ASABbIHqwo3CkAIpAeTCHgG/gD7/6EBcf9k/df+7f7p+/T5BPqH+Qn3DvXm91P7gvq8+qP9Xf61/L39egEQAnoAVQHUAxUEMAIPAtwBrf6h+6f7Yfvj9971LfY69jH4mPvK/Vn/SAHIAvYElgi6CrQLlww9Df8NfAwUCdgG7wSEAHP83fvY+QH3svcI+hT8tfyN/XoAhQP2BLQHTAzhC4EJsQpSCvwHLwYrBBsBx/yv+Pz2Y/Z48+fxP/Rq9cP1QPhg+nz6vPpO/ZkAkQGLAZkCGgObAdUAYAKYAXn+Af7o/lz9/Prq+pz6cvmI+S/62von+r/5/vtu/tH+GP8yAZUCigQTCVkNQg/mDc8LUQoRCH8FGgTzA5YBz/41/mT8f/l795b2hvax9/f5bfxBAPYDKwdMCxENMQzWChQJrAc5BuIDNwHo/iD8QPlu9130u/BS74fvsvHl9HX3Zvp4/rYCagUEBwUI5gcxB3wGyAYSB0UGIAUqAyYAkfxW+qz5xvik+FX5Efoj+6/8If6B/10C7QTzBRIHFwiqCO4ICQo4CzIKiwi4CLsJLAgkBWUDhQB+/PH5S/iZ9vD1LPfn+Pf5Yvpf+7r9a//RAEkDbgX+B9YK7wvgC6YKagcDBIQB/Pw29470nvP/8YnwI/Fb8+LzEPRl9qX47fmx/TIEOQjTCZsMew+kD9kMmwnzBTsBff1B+5n5rfdP9oX2uvZZ9aDzyPRW+K377f4fAo8FGgl7C/QMgQ1TDFUKOAlGB38DbQAj/mz8HftE+B728/ZM9yb2v/bt9zb4SvrS/ZIAJwJFA1EGnQmRCGEG0QZaBiMEIANKAi4A7f6V/nf96fp99xD2YvZu9kT2M/Z99+/6iv/LAhcFOghwCssKcgqxCl8KoQnlCj0LjghyBTQDagAd/Dz3MPMo8vvyEPQI9836Nf7OAcsEsgbpB7QI9ArnDnEP6AxFDXoN6AjwA0sAr/rB9EryIvLP8IHvI/IJ92n53/qL/lUBDQMvBigIgwh+CgINfAwXCrIHbwM+/o/7Avo59kLzAfUy95/25/Zv+Zn7pvxY/mMAKAHPAogGLgh6BrYFGAaXBP0DHwUkBDUCuQH5APT9ofq8+X36h/qw+fH5+fmY+Sb73vs5+i36tfwY/zcCfwavCNEJ2AsiDO0ITQV8AzABuv1a++D5C/cd9cn1WPR+8I7wnPS29sH4wP6HBNcHNwzbEIkQ1A1WDfsLfgeLApr/Q/1j+yn6Tfd985PxevJx8/70Vfl//e4AzAW8Cn4MJw0YD7EO0At5CQUI4gUHAyIB3v5E+//4R/ki+aj3nPiS+7L8/PxK/pD/QQFqBAEHlQasBdoGSQcEBlIF/ATSAvAAYAKgAo7/uf1q/fj68fds+KT4SPbu9gL6pPr0+lj/AwQgBK4ERAgnCi4JGQkUCgYI/AUcBpwDx/4n+1v5vvYy9Hvz9/Kd8yX2NvvL/yEB1wJ1BfkHOwnvCc0KGAp9CHoGawV+AzL/V/x8+n73QfR28xn1gvUK9fn2LPvk/f39af9TAlADGAS6BVYGegWMBZsHCgfBBNECjv85/Nb6uvu4+Z/2ufdF+b/4C/iw+i38F/s6/pQCXQQmBhUKVQvFCFkJugorCbEGWwUFBDIAc/3K/Ff6qvaJ9Rj3iffR9+D5uft//t8ByAPfBLoFewcJCeUJfgoGCpYIzwVEBMoCkf48++n5vfg79oX1KvhE+VP5RPp6+3T87/0eAWED8gQ5ByUJ3ApRC4EK8wfuBHME4AI9/2r9Jf0l+574Jvkr+HL1m/aH+cP6JPvA/rQDogX1BoAJggt5CsAJnAqtCAMG0wR3A0AARPxE+S/3K/fn9hT1wPSA9tT4ZvpZ/E//WAFoAkEEVQdrCKMGVAa/BvAEgQKeANb+1/xj+1T5TPe694j3LPbQ9fj23Pj5+fn7UP7X/8cBBQWTB8wGSAf+CKgHCgcTCDkGVALiAYYCbP+e/J37rvmX9yP4j/py+q36f/7qAFUBjgTxCPAHaQZiCrcLhghZCFYK1gbzAPoAwwCH+8H3E/h29+j0UPY8+cb4+Phl/Bv/uf9nAg0FxAMuBCgIAwk4Bg8FggW3A/sALgDq/rL76/hX+R/6c/hb+F75WPlM+i79uP91ACUCJwTPBYMHlgjKCaEJ1Qg5COsGfgWOA1YAQvyK+jr6XPie92L4fvgE+V/7ov0e/kX/iAGiA6wG+wg7CCUHSghcCHYEVAF7AAb9VfjO94D5HfeZ9C734/iJ9o/2mvrY+7P6k/22ARID3QQgBw8H8ASoBFMFzQJHAO//2v7b/DT9Tf6w++v45Pms+sv5FPoT/Jf9K//XAnYGNgfNBkQJdgsCCYQHUAnbB68DHgPjA7MBuv6G/az85PlE+LT5rPqN+rn7sf0yAFgEJQfCBm0GngcbCAsHxgWwBNQCNgFPAYEAq/3X+jH4XfZN9tH1pfS09qf6JPxn/iIDuQS+A50EcQZjBg4FsAYICOAESQOGBVoE8/3l+uD60vbL9HP4jPo5+H/5HACgAUABogSOBcoDUgWiCQEKAgi+CA8JTAfeBKICBQDF+lL3xPjj96z0I/Wo+QL6T/cx/OQArP53/C0DXQa1/0sEwApqAkEALQk6BGH7sAAg/4rz8fS3+tL1JfN6+E75Sfgi/gUArPsM/ccBewD2/4YFXAdWBQ4Juws6B2YEsASc/yb62vzg/B75bPtY/zT9v/u4/lj+dfq9+nD+MwDyAvgG1wpCC5MK9wsCCj4FIwH9/nn+hv5o/WH+0P7w+kX6jfyg+R/1i/l//K34DP8RCc8GQAVEDJwLOwWsBj8G6AAuAPoBjQFgAKoAFwH+/BP6hf7D+7H1pPnx/Nf7+v9aBUUF7wWvCUUI2gTsB+UFagHS/wEE0gaoAP4DzQM//Uz86fsi+K3z3/c9+Kb2jf9tBOYBdASEBsgEUQXmBOIBzwGPBXoDWwOeBu0AqPwa/0/77/Nc9+v3avGr9Zf+9/3L/GcExwT6AEsFfQcCBDgCXQRFBRgDWwPrBQMBbvzQ/Eb7Svfg9r/39fAy+iQBafrEAbcFmgL5AVcFPgIa/P//vP9J/k0DJAZKBSwBAwFlAl/5pPWH9pz1lvS69if/Xv6VASYGG//6/RgAzv7x/DT/YAULCF0KvgrrB5EHtQJm/WL9Kvv5+Pb4Jf05AcMBDQNLA5wBDP3SAU4FqP7JByESxAxTC0QT2RAMBkcHLAYs+nf9dAO6+gj9TAEi/UD9NPwk+fj3rfmA/Kf9nAOCCJQGIgrhCyUJkAV0ARABZ/3s/RX/w/cW+G772vUK85T2pPfd9Oj2GPoo+UQAywQjAFEBmQNuBOkFDQl1CiAHWgluB6gC1gaHAqX5Vvyq//79cPzM/er9M/zs/Yv7Evqj/yoChwI0B6sKnwzsD0QNPQq1CoEIzgN4ANf+U/5q+4j3tPc385fsrO6t8Srxv/Q09aDxSfZP//r+Vf56BMoBmwDABGkAUP2//p34IPQ29Fruiu3J8rzwdu2K8xDzVu6I9XP5S/fe/WUE7QBQATsFSAVpCWMQBA+SCtIKgQmZCbYKVwTr/k4AMv+L/pr+Nf0U/nj/AgOpAy8GGAqDCC4MAg8rD6gTkBXVFqcXVRJ/CzkHcAWXAeT61PfZ9OrwevDp72vvMPJw8s7uWex57bLydvo8A0wGNQSiBLAF5wdpC84HnwDr/yECBP5b91P5tPyy+ff0w/Ka9WX6xv5+/7/7yvzGACUDUA0MGlUekSJ5KTgsrSx0KVglkyZNJT0eTxXAD1UJTQAH+3nt+d6O3cnd6N2f4EXpvPZxA6sPNxZ2Gr0d3hslF1ENmAF3+dbzb+tr357WTdJ30mPWatdg0j7JWcKvwtXDFcJYxxLUqt3q5unwc/iYAw8MvQQk+Fn39Pw1BSMPmw4DCJj/dPLZ79T79wYlCV0H+wD59YLxLPDi7ifriOP2303p9wjXNz1g3nDua19YDDvAH9MOtgHT9mjwn+r16mHzhwB7CtkG1/Yl5c/cst907q8GTBpTInQiMR9iGusWFhaLEP0D//U/7H7p0erM7O3qTeEk1KzN+tLf3sjrnvV2+6QB2QgBDRcOGxCODt0EIfuk97P5GQDTB+wI1v/J9Pvtju2h8j/3o/jA9wr4ZvzWA4wKeg1NDh4LcQPZ/cr5DPdT9733Zfgx+/n/egNcB8MK2gUi/Yz3MfPC8NDzB/oC/SD7xvcb+Fn8ZwBXAyoE9wGS//gArwNIAU774PJo5fjXndMr2dLmzwg4PXRlmnEqal1XnTr6G1EEx/Hx4zDbA9q/46nzvATmDvYJNvo87I7mfOYJ8E4Eshd/JV8vAjVXNNcr/Bp+AlDq6ti+0LjT4N3X6dLz7/n2/PL+qQGeA5sCiv6Q+7n+MAZED/AXuxlvD+b9x+5f5OreGt8O40/oWe2N9PH91gWmCJEFBwDN+b32CPkB/cQA3QJoAsb+SPrX93n1vPOR8bDu7u+L9YP82wCxAp8DTAL5/nX5yfQB8gTwT/FM9Mn4CQCKBpEIDwiKCHkG5AIAAzADlgDd/aT8OvvB+En19exf4sjcN92K5AH7kyZWVXFvJHAcYAhKijAoFaH6TeQD1L3If8q82+Dy9AU6C6QE/foC9K3zUvrwBv8T3h63KVsyHDe7M2ckpgzF8aLaVcwRyN7M1tZx4prtt/c7AQcKVBB+D74Gy/3e+4QAxAjRERIV3Q5iAwf4jO4I5jzgZN5b3ybkrO0G+7YG2Qv/CzEIkgHl+hX3Tffn+PH6qvwt/U3+jv/o/zn+0Pk69m31ePfT+6r/LAHRAMkA2v9++wr20PGD8IjyyPZL/bUD9AdwC1AO9A3ICgQIEgXfAIP88fjd9vP1YPRc7xzndt6v2i7f+erWB/M38WG2cdpq0FncQ3cpwAug7IjTtcFyucDEbN7/+YUNpxI8DosHvwICAbQEKgzqENwXKiR+Lzs0jix7GE799uHEzdrDPsNLyDrTY+Q597IJJxrVI/cirBh/CrL/hPwt/h8CjQb9BoMCxPvb9B3tKOU74ILfZuTX7Zf4yANEDYkSQhJ/DdAGDP+b+Eb1AvRB9Bz2DPqz/g8BmwAb/wr+hf20/Zb+5/0J/Bv8QPyB+u337fQI86Xy/PJX9Rf7hQFgBc8I4wv6C1sKAAcaAQH8I/m69tX1mPZO9QvyeO605yne5dgX3L3p2QmPOZdh8XC2aTZZY0ciL9sN6urnzhC6c7Hivlvbw/hwC18Qmg8oDa0KJgplC3wLlQoSERwfaCy8Mb4pFxdk/n/kJNHFx5bFscdL0BTgCfWyC2weDSk4KGIdLA+iBGP/DPx4+jn6A/uw/Bb8QvmN9ADu4+et5GTn8+7398D/QQWoCuwO0w8bDdwGQv+B+Rr3VPfv+N76oPxp/mwAqQGeAesAef8g/tH8ufo2+f73mPZg9sH2DvjM+qL9qf9sAYgEzwfBCikNHwzyCMAFHgIX/pz6Wvjq9TH0uPL88Gjwjuzl5MndZ9s84eP1hSASUXhuZW+VXvhNPjvnHb73p9Iotq2kTKpVxrXnHgG/DBoSZhXxFeoU8xEtDjIJ4gpuGG0pnDQPMWgfowam7AHYissNxpvDmsav1Gbt1ArgIg4wUDFSKN4a/A1RBCz8A/U68ZvxivUz+SP6Vfdj8KnpzObk6LnuO/Vy+8wBGAkeEHATCRHBCQwB7vl69d/z2vNY9BL2yvn8/tgDdQbQBYsCef5d+0z5/vbE9D/z2vIU9N72Avug/iwAYAF3BHkISAsXDJ0K5QYkAiv/Lv2M+Yb1uPLS8dTxXfIQ9NjzQu+f5jrfWd+/6PcDRDIqXktxx2g5V75I8DQKFBLqV8UlrEOiDrKN0630mAlQEvgY4B6TIKIc3hRlDIgGoQv0GvQpfy5rI8kOwvjM5KnUx8kQwxfAocbK2vr4cRa2Kd8xkzAgKPobmQ+iAyT3ge176uHt5/Ps9xX4rfQo7xvrzuvS7xn0Nffx+xcFxg6LFQ4XvxLvCiYB1flq9hX0bfEz71DxzPe6/8cGTAkKB4gClf62/G/6jvbT8vvwVPJP9qP7KQCuAXMBZAJqBaAI0wlhCKcFYAJ//kn8uvr/9tDy0/CT8eryafN88nbvqOpS48Dd7d7F6NkFqzaqYotyZGdQVkVJgzSoD7PjvL+Dp3ag5LMx15/30AodEzobiCMdJWUe6xP4CboEpQpgGv8p8y25IVUNlvnM5xHYAsxhwqC9DMY43tf+0BpHKyUyNzGAKTEdSg8eAMLwWeb64/Xo6/BQ9hj3hvTu8Arvx/Cl9Ir37vgX/dUGmxGsF8EWbhBnB0L90PXK8qfwve297Afx1/n9An0JfQtSCZkFfwJ0AC/9APiy80ryfPT4+NH8C/8IAFsA/AFzBdQI2AlVBzcEjwGg/g79gvqX9mzzcvL59Mj25/Z59aPxR+x440/ddt0K6CwMwELLbaF3M2h6WKxKzjCEBunXgLPemyCaGLQi2nz6Vwx9FUognSk0KoQh6xSNCcIEVgx7HEkp/yduGAMFlvP34nXUYMlxwEG+08qx5h0INSJPMcQ33DVkLOwd6gya+jrqcuCl31LnV/Gb9sL2QvU29LfzXPMd9Oz1Bvjq/QkJxxNjGDsWshD5CFb/ifYt8Ofrmuhx6MvuMvm8AlIIdwnLB8MEJgHi/IP30vFh7kHvmfOf+IX8Ov/5APkCwQU/COoJnAh5BMABTgCA/m78Efmm9TD0OPUT9zb3f/a09JLx5uut42XgaeRN9jogZlIvb+ZqCljHS7o/fCRM+WvOla+5ny+oKMbg59v/2QvXFfMi+ip1J1gcIRDBBpAGohIqIz8qtCCGDrz+/vAK4TnRKsQkvOq/8NLz8DAP3CMNL8ozWDGNJy4ZGAjD9ZDmQ99i4snrefIA9Df0m/UI94n2T/QM80T1XvrJAt8NeRb1GC4VLQ4BBsj8D/Q37ero/+bV6fjypf2dBakJWApACekG+QJV/QL3ofFT74bwCfPH9ZP45vqe/eYBLAY3CLcH0ARlAmcC/QDo/dT60Pas86zyBPQJ9nP2avWg8uzugujo4SzhPOkCCKc8K2gScx5kjVVOTbw5eRIG40690aX6ofK2KtjW9RkHgRGlHr4qnixoI8wWLQogA/IJKhvHKC8m2RbPBhz6AuwG2x3L672BuWDE6N2u/WkXgCdzME00ITFtJQsVwwFr7lThf9+85iDtg+5t74Dy5/WT9472AvT/8r72pv82CugTpxlAGSYUWAyNA9T4ue3/5VXiaeRj7Or3HQN5CoMO9A9YD9cMAQee/ln2NfFh8PXxwfQ99//4w/zpARsG4Qc1B0YFbwL9ANv/qP0c+8z2jfNo8onyFvNr8Y3vae717L7or+JY4G3mhALBNfNjunI5ZbhVlU4UP+MZg+lJwTin+J/OsKjQoe5rAAkL/RgkKL4sJyXiGKkLjQNxCIUZJSlVKHwZvwkv/rLwyN4SzVO+xrc7vyjW5fbmE5YmbzL7OYQ6ojBZHrwIZvSy5QDhVeWQ6gLsfOz+7pvy5/T680bwqewd7X72MAb6Ev8YPhkNFgARWQlN/vrwL+Xi3g3hrup49df9CwStCJYMyw6/DR4JNgFP+c31k/Zu9yP21vSD9bb4wv0QAoAEDgUbBF0DJATbBC4Cdvzq9lX0MPRR9Of0wvRQ86nxk+8w61vkFuBo5HH8XCsUWixu5Gb3WpBVsEilJ9D4Fc47sF6jA61tx/njMPcgBE4TXiKMKDwjehhfDDoDHQWAE2gj4iWSGs4NiwRy+ErmUNMBxCW7dL3QzpPrGgjTG5YofzJAN+kyhyWhEi7+Fe1o5THngeuA7AHs8+2C8Z30SPW58qXtD+o175D9LQ1yFnAZJxowGdEUaQs+/p3vNOI13PXgW+sQ9P/5bADkB6QN/Q7nC7kF9P3h9yX2A/f99hj1zPMg9iL7Y/+iATcCRwE4ACoBYAOXA87/IvrV93L5Jfp++Bv2OPOM73Xrj+Zw4OjbzN989+0laFYIbvZpr1/cW4JRBzI/A7HWOLa3phuth8TY3szwF/0rDVYf4SgkJqgcmxC1BmMHkRQoJF0odx/nFPgNTgOI8Lzafsc+uYq0AsD62f31BQsNHFQsSTfiN0ctDxtQBlPz1ue85s3q1uy+7M/u8fOZ+MX4rvSG7pToQeib8fEA3Q7rF5AdoCEtIuIbTA/S/qrsLN4I2bvcSuS17Av2UADNCQsQdBHbDdEGVf9Q+qP49vd89WXyGvKP9AD3iPis+Zf6LvwZ/+YBBAMpAlb//fuZ+u76p/r6+BX2qPHQ6zrly95e2a/XROOkBiA6wWI4b3pqymekZQ9SJSik903POLMPp+CuNMUi3MnrOfroDfQfxiblIvEYFw2eBsMLrRkwJdIlbx9AGuUU3wjg9QPgjcqFuRy0cb/o1TLsuv/FFJkp3za/ODIxSSN8EIj9cfLI7wDuc+qS6SXtCfFH8d7uw+uw5hvh3eHg6xr6hAbND2wY0yAMJSQidxgNCXf31Ont4t7gMOG14wLq7fNo/pYGxQoKCtMFjwHd//v/pP5T+zv5x/nM+2D+OgAQAJj+gv3G/QT/uv/3/k399ft9+6r6Tvj79MfwE+u95L3eftmP17XfAPs/KXNXuW9HclFwf3ApZvtFfhfa6iPIGbIercq4ccp610TibfOSCFIWShjJEqwK2wQ/B3cTkCKrKj4q9SdQJiEgYxFe+3bhRsgBtxG0FL4VzQbdwPATCR8gGi8iNO8wCicEGaAMUwWc/xL49fFK8bDztvPz76HqeuRB3SHYntlY4dPqh/QpAQYROh9pJzkp8SQKGqcK7Psf8VfpRuOt4M7jVet487n5iP3S/jb+yf1N/8AB8AL7AuwDgAb4CNUIlQVMAbf9jvqg96X1n/QU9Nf0bvj9/bQBNgEN/uD5yfOu6n3foNRNza7PX+SnC+01nFHzXaNmmG8+bttYjjQ5DvPsGNMJxYjF4M7m17Tfjeyr/pcN5RKSDwgIfwCf/A//1QbjDkYUwxm2IQMpTSpQIkoRvfpX5JfTBcpCxV3Eecmo1cnm+fh4CKES8xXJE94Q6A9zDjIKQwU5A78EYQfsCMEI0gVg/3T38vAM7A7nH+J04JzkaO0Y+JAC5ArTD8AR5xHXEL8NGQivARr9Rfuu+yH99v32/Fz6svcY9rv0efJG8AfwC/If9WX4ufup/nIASgEaAvEC1gJFATj/ef7C/9kBGgMHA/MB5f9b/Aj3qPDE6mvn0el99PcETRQtHkYlPS69NwI7rjSlKA4cNxAeBbP8bfga9gfzz/DV8qj4GP7p/57+X/y9+bH2b/SH8/LyW/JS8633E//LBpoMKxDPEbER8g/TDPgIxgRGABT8Evmp97f3dPgX+XD5PvlU+Bz35vV59IbyR/Dy7obvi/Em9EX3HftX//sCZwXOBiIH9wWvAzsBAf/a/Nj6o/mH+cz53vkC+mf6wvri+hX7xvvC/Jv9gf7B/xMBFAK7AigDTAMJA7ICogJzAqwBuQA/ADYAPwBGAHYAxwAEAT0BsgE8AlMCzQEzARgBZwHGAUICOQO0BDgGEQfQBsgFggQGAz8Bbf/l/df8JPyt+5z70/vS+4b7fftO/An+SwD2Ai0GsQn1DIoPFxGPERwR1w/vDaQLKgn1BnwFxwSVBIgEQgSyAwMDagIQArcB7AC5/5H+3P28/cb9ef3W/AX8CfsF+g35Gfge9xL2F/Vo9A70B/SA9IH1qPaD9wv4mPhk+UD64fow+yD73vr1+rb71vzL/XD+Hv8IAM8APQG1AVQClQIbAigBUADH/zz/of4t/t/9xf1R/ub/PAJiBLAFlAazB+wIsAmLCVUIWgYWBAwCigAp/0/9Iftw+Qj50/nx+uD7svyG/X7+k/+CABoBLwHbAMAASwEdAqwC8gI4A38DawPaAiMCewHGABUA1P9EAB8B6gGxArUDmgTCBEIEjQPeAj8CmwH0AFkAn//T/m/+gv6n/pX+av6G/g7/vf9kAO4AJAELAeYA5gAlAXoBqgH1AX0C+QI+AykDxAJbAvYBiAEtAcQAKAB1/6/+3P3q/L37vPpq+rT6Yvta/JL9E/+UALYBfwLmAssCZAIGAtgBqAEeAVoAyf9u/wj/hP7//bj9wv0D/ob+N//H/yUAewDfAEEBcAGCAZ0BmwFpARoBswBFAMv/MP+U/g/+sP2W/ab9qf2u/bD9iv1V/T79X/2m/fP9a/4s//P/ewDEAN4A1gCcACkAwf+S/4L/f/+X/8L/5f/z/wAAEgAXAB4AQwCDANIAJgFxAZ4BrAHPAR4CXAJsAnsCnAKsAnwCIALJAWAB1gBrAEkAYgCJAKoA9gBvAcQB5AH6AQwCBwLvAcoBrAGIAUgBGwEFAeIA2wD1AA0BLAEpAQQB8AC7AGkAUQAvANv/k/9h/17/XP/5/pb+Uv7N/WP9SP06/VT9eP2I/c/9/f3d/fH9+v3T/fz9//3H/eb97v0X/qn+y/4M//D/bwDyAKIBsAHkAewBKgEuAUsBhwBYADUA8/9EAJv/1/4J/zz+nP0N/vP9dv5T/2z/awA7AdsAFwEKAZkA9wDPALMASgERAfsAPAGoAF4AKQCZ/97/NgBhACUBiAGhAe4BsAFUAQkBdABJAFUALQBKAFAACQDP/2P/Av8H/wv/P//n/3AA1wAtAQ0BtgA6AIL/QP9A/0L////BACcB1QH7Ab4BtAH8AJcA3wB5AKoATwH9ABMB0wCZ/zr/av5L/cT97/09/pT/tP8PAPAALwAOAHoAwv8lALEAVAACAecA2f/h/wD/3/05/uT98f09/3n/AwDkACsADwAoAAX/O//C/3//nwAxAdsAeQG3AHr/fv94/vr91/7d/rr/4ACkABUBEgHj/7z/e/8k//z/awDgANUBwQFTAfcAFQB//07/Tv8BAPYAkwEOAkYCwgH1AEkAhf87/3r/0P+rAD4BGgENATkAD/+m/gn+Bv79/qX/rQCEAWYBZQGiAHD/J//E/s7+sf9GABABoAFOAecACgD5/n/+Vf7S/uT/9wD6AX8CdALgAeMABgBK/xz/mf8jAPkAdAEaAbcAoP8x/oH9zvzP/M79nP7i//QA5wAJAa0Ar/+J/4n/2v/8AL4BkQI6A3MCgwGfAA3/LP4W/jT+DP/t/4AAIwHXAN3/Uf+U/vr9df4//0AAdwHmAQcCwQFMABb/Uv5k/Yv9SP72/iAAkQBoAFAAUP91/jj+6f24/gMA7gA/AtsChgIEAt8A6f9X/9H+eP+YAEMBIAJ4AusB7gCI/5/+Q/7x/b3+PAAMAaAB3wFAATgAB/9n/pn+2/7P/3sBaQLHAtgCCQLFAGf/T/4s/pD+RP96AGABfQEfARkA0/77/Wf9qv0U/2IAqAH8AhcDigKrARQAG/+E/hz+Hf8BAGMAUAHsAKX/7v6B/Xb8zPxW/dD+yAASAlMDVwMSAmwBNQC5/hT/yP8gABMBwAGxAakA9/4Q/g/91fub/E3+TP++AIUCKgOIAo8B1gDj//j+Yf+7AHYB4QGfAjICaQD9/s79lPxP/DH9wf4qADEBMQIlAv4AMABi/3X+kf5z/2sAWgEGAiICKAGa/3r+Yv2V/Cz9iv7y/2EBaQLCAiAC1ADp/0b/4P5b/1kAWAEMAhgCrQHOAGf/DP6Q/QH+tv7u/84B/gIhA8gC/gG/ACH/fv4y/13/2v9HAUEBdAAIAOv+3f1I/Uz9kf6H/8UAGANbA5wC9gKOAW3/Cv+1/oH+6/6R/5gADQDE/vv+8P0K/MP8+f1L/uz/RwKPA6IDXwMOA4YBkP9o/5X/rv4x/6sALwBb/6f/4P4i/av8gf0p/sz+FAFrA0kDDwO/A18CCQCh/9H/D/+6/vH/kQBX/w3/rv+B/l/9+v2E/sj+z//PAUAD8AITA1kDXgHL/7H/uf4X/pj+Hf+Y/3T/QP96/5X+uf1d/qX+8P6OAOoBzgKvA1cDigK2AdH/o/6Y/uX9+/0Q/4r/EgArAMT/2P/i/kP+1P9lAI0AtwLlA1EDIQPuAq4BVv/2/W7+zP3//Az/qAC1/6j/1wAEAN79RP4kAMb/6f/VAjAEwgL/AX0C+QBF/bD8IP5+/Fv81P/nAPH/MQCiAIT/Pv2H/bj/Zf80ABoE1wQTAxYDNgIB/6j8rPxE/b/8iP3NAJsB6P+gACYBav7V/H/+w/+J/x4BZAQIBQgDOgLUAWL++foJ/Kf9MP31/lgCsAIHAXsAaQC0/s78Vv4BAQ0BLQJIBf4EaQJcASEAbv0u+537wf2E/uP/cAMQBKEB0gACAEb95/us/U0A7wHcA0YGxQUxAr3/LP4T+6L57Psy/lT/pQEEBK4DWAGt/9H+4fzy++T+zAGsAscEaga0BEYBaP6Q/D36UPmN/On/JQENA6cESwMeAFr+8P2P/Jv87/+sApUDcgSxBMsC6P4s/JD7XvqD+gL+6ABYAuQD7ANDAr//Q/2J/ED8wvwtAPoC5wNNBZQEFQER/rn7Evog+v77dv9IAkQDYQQ9BOwAC/42/Uv8XvzU/uIB3ANWBOoDwgLO/4T8YvtE+537Bv5GAYIDowRVBAID8QBN/hL9Y/1K/pIAEwNcBLQERwOTAAb+wPvp+uX7x/2aAE0DfwTQBP8DdwEd/4n9X/z7/KX+sABZA2gEEgQ0A10AbP3V++z6+ftr/gABxwPyBFMEFQN4AIf9B/zM+wf9fv8xAkoEpARmA1gBjv4i/DL7mPsT/V3/5gGZA94DHANIAfr+Kf1D/OD8RP4eAKYCgwP3AjICZf+c/G37ofot/Nf+CAEFBJkEBQM/Aoj/fPxP/FD8N/2q/y8B5QKbAwECOwHY/yX91/xY/bn91P/AAf8CsgOZAv0AV/8s/UD8E/1a/mAA1gKxA2gDfwIyAEv+b/0t/WT+w//vAKcC6gImAtABWwCv/kj+FP7V/l0ASgG8AlMD4wH6AJL/Pv36/Hz9mf5iAfICzANqBFwCIwAj/3f9Nv3M/rn/FgFpAsoBgQG8AKL+uP6u/hL+/P/EACIBkwL/AZEBzwDt/oL+y/17/bL+hv+FAF8BnQFRARsAKP+A/hX+cP4n/+b/KQA2ACMAs/99/zL/Iv9S/z//1P8sABMAWQD7/4b/Dv94/nD+EP58/qL/QgB8AQkCuwFXAff/Mv8n/+L+SP8fAGUA+f/k/0f/ev7w/gP/IQCjAXwBewJiAvIA3QDC/zf/ff8f/x8APADm/5kAtP9Q/7z/a/8pALAACAECArcBUQE/Adr/ov64/rH+Iv+jAG0BFQJOAgcBngCk/+X9T/6b/gL/hQBHAb4BeQHGADcAvf/r//z/5ABdAcsAewGuAJz/zv9y/lP+ff7b/Sz/X//y/78BVgH9AVQC4wAWARwAPf8TAFj/hP8NACb/Bv+L/gn+UP5z/kD/YgAVAaUBHgLFAQoBSAAC/3T+1v3c/Uj/f/+bAHcBhgB6ACX/Gv4D/lj9p/6N/1gAnQEGAdQAs/9k/tH+lf6U/zoBxAFtAhQCAgEpAOb+zP3Z/dT9E/5t/9n/iwAMAXoAEAGkAJwAfQH9ANYB3QE7AZIB0v++/gL+j/w7/aP9fP5MAK8AnQErAqkBCwKWAbEAkADP/0z/Qf8//6z/wP8DAB8A3f/U/yv/d//f/6L/FwGlAWIBygHjAAYAXv+i/rj+Wf9fAAABAwIpAhgB0AB7/4P+Uv7//ST/jv+pAIgBvABLAcP/4v6g/4v+ZQBcAXcBhQPeAQcBCACw/Jz8ePt++4D+y/7AAK0ClAFBAvABbwAxAfkANgBgAQIBxf9MAM/+J/2k/TD8mvyc/mf+uwAkAqMBCwPcAc4ArADn/jH/Av/3/h0Apv9NABUARv+6/7D+9/5n/0T/gwCoACUBbgEpAS8BhgB/AHX/Xv9U/1T+cQAsABQBiQN/AeIC5gEJ/30AyP3H/SP/cv2Z/3j/VP9ZAAr/7v/B/14AJAKRAkcErQM9A38Co/8D//L8OfwZ/Yb8F/8RAGYAyAGxAFoBsQCHAO0BmgBVAocB0f89AR79/vzJ/c/66f6Z/7//EQREAskCiQOIAHwAtv/a/tT+Nf9L/s/8G/5c+xH8fP9e/aYCrwQnA6EI2gT7AtUDaPxa/Nz6yfdl+2P6Uvxk/wf/RgK3AlgDvgRiA58E2wNwAkgCfv8h/lX8Xvrl+pn6W/v9/I/+7gDeApkECQULBe4DigGXANb9+vs2/Az7+Pze/tH/qAKxAtwCFwMFAtYCZwIVA9oDBALsAVr/T/xU++P3Lvjf+Zb6AQDlA8IHZwz3C0wMUQofBecCJ/4k+of4z/T09Pr1yvVB+ej7uf63AzcHQwvqDl4Piw55C5MF1v8g+uL0YfJU8ajy6/ZF+7MA/gWLCMEJ4gg7Bs8D3AAa/sr8lfuP+tr6S/sR/Iz9Zf7i/+IBKgPWBM0FRwW3A+wAFf7N+1L6o/ku+Xz5H/oN+8v8uP2g/kYAiAHJBKwITgu4DUMM6gjOBJv90vfa8R3txewr7fDxK/ix/T4FVAmrDb8QNQ8gD+wKWAW+AWv6Tfa18+XwJvR09y78DQMnBvoJLAuZCBYHigG6/OP6WPf6+Kr7hvwdAbsCMQTXBy0IkggGCDgGugRvA2gCRf96/Ar5kPV69ln3MfnT/OL+yQHrA3MFCwYyBXAFDwSQBRUI3QcFC8kJ9wUlBKz8pPio9eHvtfE48jv0vPuE/h0EqAgABzEIWQakArkC1f9K/dz7sfdl9Zzz8fFN8qT00vdd+kX9SP54/5H/0fwF+2T3s/ax+Uj9gQYJDbcR6xf2FWUUfA9uA+H7QPAK5+zkhuIh6MHvIPerAWcJ/hCbFmgXRhVCD48HuP6J9l3xGu8g8ZrzEfdk/qYFeAyrDlUIWf5R8GTjnt8x4urq0/LF+TAIoBqAMP0+LUGSPbcx2yZOHroUVA7dA9r5lPYt9tj6o/vq9QDvVuTz3LrX09OF1A7VHdz268sBWRrjKqEzwTZSMtEpKh2vEAMI/P5C+or6P//0B5EMzA5jDIcCZvah5x7cHdThyhPFhsFJxOfO19p16uX5owmlGu8lwS7RMs0vSyeHFiYGh/q/8GPr8uar5TXoOeh46ZToZ+XX4sDefeAO5fjqdvWnAFIPBhtTH5YgXR2ZGvsWGA8ZCK0AC/zP+1f8GABjAZD92vhQ8h/uD+og49Dd4tRzymDIGdhw/vUlYzqGQAhJVWC2dhN281/bPlkhLgtW+QrwSedS3XvVWdTx4OrtZPMo70vj1diyzxrOoNSu22nikesOAX4jvUIjVoRbTFa+S6A41yIsDk35lub81mHR4dat3xPnEOxz7kHvreuO5djgj9mp04XSqNo97Jz8cwvrGUIo9TMJN8YyCCihFikCo++E5YngPNp41dXUKN0w50rsKvAg8GTwYu9679z0NfgC+2n+IwXWD/IWyhh0F/ISWA2GB0gBN/0x+Ebyn+/C8KDzu/Tx8y/0Gvbi9MHwD+yC6BLmJuQr5I3gX9i60ZLfXAvlO4NVAFN0T6BhcXnFePxXCCsqBPXp3tnh0fTQ780jytzSyOiWAMALbQVj/B72BvG/71zyJ/he+xcBcxJuMF9Lp1G4SVM7qCmIEoL14dklxFKysqjzrzbDN9sp7TH5SQa3ENIUvhLxDYkIEAKN/NkAcwveE/kUkBB7D0YNOAbK+X3qUtxx0ZzN5dK53iXpGfJi/AUIOREeEQUKrgJ0/Fb3mvZO+sD/wwIPA2EH+Q1SEMsK+f/F9vzxLPGx8Abx7vNT+WIAowfpCz0MxQn6A+8B1gCb+4H2a+8E6VPmDOS+43rirtoD1A7UiuHnAygs4UeOUQhVe2OIdbRzvVUgK1sEy+eQ1H/JVMSmwEbAbspQ4kv6aQdDCCsDPP5C+hH83ARaEaYWyhrxJhg6oEqcSd45USBnBLrqPdbzxRS43a/Js17GjeBO+tkKIRYgHJ0eDB0+F1sSsQrWAQv9RAG7CfEPtgtnAgn6IvHj6izhvNXYy3HJkNOt5wf8dwkhE0sZeB1CHJIVfw7aBKr5g/KH8EbxFPFN8Hjvr+/Y8WzzHPN18G7xxvZ++18BOAcMDB4RqhT3Fd4QQQn1ARP6h/SQ8CLxlvFU8PvxfPWl84fsLuFh1pnRZ9a19lknH1ADXkphwm1sfP9/5FikHv7rTckruGGtw65dtH688c4w8WYS3iFvHhoTNwvaAyEGKBBYGn0bFxs4Kj0+OEYvOAgaj/jX2onAsa6fpiOm97FYxn3nIw9UK0o5yTxwOlMx4SHHEIcBQ/EJ5RXn7/GD+138C/YJ7zvqZeX83f3VsdRs3lnuQgK7Fm0mIyvfJnoflxMlBW/1DelS4j3ewOCb6gfzqfV/+Hz9RgBsADMA2f8J/Dj49/pv/3MAQgGZA1kEugNDAbb8YvgX9Tj0PvSb9YP6lf50/dP6HPl285DlvNDkvnS7EMuC8X8oXlZ/Z7Nm+WhqcUxu9UkyEJHcxbtlrlqvVL2Az77dxuwiB2YgnibgHPwLXQDy+Qf9+Aw7HXIiZiJbK2o2mTV+IfoBP+AJxHO0e6+xtArB99bX8tcRuS9HPkA8NS+sH5IPQP/98r/rhOYN5Pbs/vvBBOQBdvdM7ALjvN+a42zoy+pk8u4B1hTAIvol1yCiFAcHSfrq7bPkH+BA4UToYPOE/U4FGgkOCUcHcAM9AJD8BfeS8wP3EP8YBDMDYgEOA8cCcf/f/Wv+f/5s/qoBTQZMCNoHoQSp+jTw1+tI5SnYuMd6v8rE7dcmBD8/sWkdcyBsoWpwaWVW6iox9sTI+a3Xqfe1EMqS3Jrpi/YyDKogUiMnFs4HbgPEBeUOGSGGMu006izaKKwkxRXm+EvZgsEwsneuCblKzszlKf0KFEorejxHPPst9hn1CDz8iPET7Njr++vA7aH3BQFa/bvwleiy5SPiW+IF6932j/+JCooYyB8rHT8VZwmT+WPsZebH46PiCOlm9Zb98QH+B+MLPAjOAST+Kfpz9Zf0jffJ+gX8lv0b/9T9Gfyp/AsASwNPBQsHjQcECG4I5AZ6AYf5+PLN7ETnAeQh3tLSTM4f2qnylxjkSMhuJXRUZcFcB1gsQlwV+OQSvwmrOqxzvKfRBeLy7vf9fQ92HMIfoxduCacDKwoMF/Qk0C/HL8YlrR34Fu8EGuXkxxm4AbL9tZLIBeTY/dkTtSZgNEo4pTAmIfgODP+29dTyxPFK8e/wIvFw81r1WvMP7QnnR+be6gzy5v3vChMQ3hA5FFsWmg6OAEX2Re4C5gDlYe3K9AT4I/5WBsIIVAa0BMICSP4d+6z7RvuW96r1+/ZU98v2ePgJ+1X8rAHLCnkPWg+6DSgKVgKM+hj3D/MS7droSeZn5I/j4eGH3/Di6+8xCQgxQlr9bwptyV0jTjM+ZCIn+F7PmLbesC+43cvk5KPz3/oOCIYXfxrXFHoQZg5fDq4UfyOeL5QukiNgF7cJsvlw55jRZb+9ud/BftAK46b6dhH5HwkprTBRLkMgaQ9JAT72B/CA7/vvh+4q7YLv1PKZ89nyXvFI8G3zH/s3A0kJWwt5Cw8LOgm+BOn8vvPa63XpSewr8l74qf2gAjsF4gddCwUKfAKy/PH7J/uY+Qn59/cg9Yb1zPt9AaUDNQbSCDsHYwXdBz8IlwIl/en6tfYY8SDuWuuH5bbfCd+o3YDcDuUL+3MhNE1Da3Fw/2NcVYtGXi6VBrzcwL5ZscG0KcVH3cXx3v4cClEVFxvcGUgTEwvXCFYOwxouKaAwgCqDG3AKQviz5hvT6sBVuVDAZdH85pf/aBVAI5kq8y6iK7ceBhAZAcbyQuzG7enu+exA7PTuNvEC8Zbxo/KL8nv0HfzQBWoLagyCC4oJFAdXBRABp/ek7YTp3evY8Or1I/nx+0YBLQcCCVAFnv89+7D4GPcz9kr2VPZo9qn4//wlAWYDRwQmBaoE9gQwB/EGSgOs/1f+MPqU8vTs7+kA5vfgXN7h3a3jZvOKECM5El6ob0hnk1SRRTk1Ehfo7abLubixtxLEcdl67ub5xgGMDOAWxxg3FSIQhAymDuEXWyVULaUqYR0ADHH7suvC2gLJsb4Xwf7OI+ML+voOAR5QJjspzil1JEoXGwfB+ZfxJ++V8O/xDvEq73bwefOK9P7zG/QQ9ZP5wQPqDL0QUQ80C3UGtQFs/WH2Se2l6Kjq8e+N9qT9ogLaA94D1gQHBN/+BfkB96r2TPVk9Bn20vdi+Cv67/xnAMkEEwiIBzAGvQWIBH0BNvzN9r7xQO4m7IzqxObL4KbcYt1X5SfyLQ3IOMRf/m7DZpBXGkgkNS0Xqu+BzH63bbUfwpfYgfBI/3EGJA6VFlca2BgXEzwNgQwyFQIkpi26KgIdswv690XlNtd0yyPDC8MzzwLlVP0DEs0fgSVtJaQiaRw2Ep4GPv0m+In36PcU94zzwe2b6gnr/Ox972DzKvfl+8AD3Qs7ENMOQgqRBA7/B/uZ+Bb1aPBm78ryC/g5/VcBGwONA8MDzwPrAgUAJP3W+lj4IPYq9Qj02vJJ9AX44vzlAOkDPAaFBrMFEgW8AqX9a/hs8znu3+ox6wzsSukI5HbhjOX58dcQ+D+xZlxxB2QzU2hExTArEpfrT8iLsjuzRMXx3TDySfzWAWQIpg9IFNMVbhNSEXMUAh8qLIMx/ikRGFMDt+6B3p/SVsiKwVTDkdLo6dYBCxULItUnlycWJJwctREWBfX68/V79IHzhfID8APswOqP7KPuBPBa8kL1SfpwA14OGxUcFKQO5wat/i74jvN77/jsSe668/76EgB0ATAA6/4R/28APwAT/b/5zvcH94z2f/ah9kH34vi0+8z/SwNsBR8G/QWoBe4EBAMl/j32Gu8J7Abs5uu+6dTkpN/+4brtgwdZMzBeBXCwZa5TC0a6NuIdPvr01Xy8dbgex/XcePBR+vn94AI9ClkQ5xMZEl0PDxM6HcEpTzDIK/oaqQRw8Gfiq9f5y6TDicN6z4TkrvzMEfEfTCYSJ/MjPhuGEPEFbvzK9u72zvh59+/xmOkT5PLjFOj+7CrxS/Wm+ywEKwyjESoRKwyxBcAAqv0V+sH1hfIS8zv3qfzM/2cAC/+k+wL5EfqX+x76WfmO+Qn6Afwn/ib+J/yD+yH8jvys/Rz/+f73/b/+FQAkAOn/lPyB9nry1O+o6z7mnuCz27jc/OcrBhg22WBqcC5kilHeQVAxoxhM9nzU4r2SvMnLkuIi9wcAWwCXAfcGsAsGDdkJSAmqEEseMC0tNuAxlh6IBk3xxOHF1XLMT8fHyNbUdem7/3sQBBokHOsa0BieFIIOwAYpANb9NQB+AU/+2/a77OLkouMo51Prsu9Q9In7UwS6DBwSVRB2CaEC7/4K/WD7GvlY9qL0zfWb+VT8z/xv/Yz9X/z7/BL+kvwN+8z6Tfry+p/7y/qk+ST5X/p1/Kn/lAIFAywDegQ5BJ4B3P3m9+DxF+8A727ttemG5OLdh9wU5IX9ZCzJWsZweGmfWOpHKzQoHDP8wdtXxH3AWs1S4JLz9P0N/33/5gTrCU0LiwkSCpYQ4huXKsM1NzTYIr0MZPgC5nfV/ceFwNDBnc4B5Ef80w71F9oXFhXtE+0QtQxfCIkEjwLZA9QE/QC492buh+np6JPqs+yB7+zxw/Zg/zQJ4Q/QD2gLNQbHAbP+Wvz9+QX4c/aJ9wL7s/ww+6P4Cfca9+36Yf8UAHr/gP+w/rT8+fqN+TD4cfiz+u794ABnAXb/2P7PADYCDQKf/1H6ffRg8JPsLOcN4uXbFNbM2FvmOAJ3L4Zc1W/LZqxVPkeANggeQP3Z28fE/8I70/bn6vhG/x/9i/tz/o0CZAavCNcLrhVZJBUz8Dq2NI8gJQnl9Tnnb9nay5PF1siE0y7jdvQoAhwKsg0vEfYUFRWuEk8POwyPDNEPIA8MBn320OYW3K/Y+9vL4XTnSu5u+HcCMQpYDeoKDQXVAE0CKgW9BDMAxvoD+NP60f/hAJz8Ifh/+P/52PuX/4gCrQHmAM4CugOUAAX7fvmi+un6KPxI/gz+Xfxi/NP89vvG+YD5yfn+99/05/B461vjo9pG1uvclvADGdxMWm55cX5hKlDuPWYpiQ5p7VbRJsfg0HTfOO8s+Rv3B/Ou9kT9Yv/I/c78xwSIFtos7jv2PRM0kCCZCJTyKOKP0ybI28O1yrTaget2+CcBjAVBCc0PHRUQFiATQhD5D70RSRIWD/QHmfwS70HlpuHu3xLfCeBR5EnsRvmIBlQJZQUDBbwI8QrhC2oLhQe2AnH9kvgs9dnxeu4r7uzxaPep+tf6fft/+xf8ff8iA5YEUQO//6H8cfwt+9/4cviT+h3+7AGvBTwFXQDe/FT7TfUi7JvlYd6f1hTYGumhDR8+AWZrcqpkRFNIRNIvZBGk71XVQsqm0kzkv/SG/Nn5qfNZ8UHyUfLk8cL0Cf6vDTUi8jK0OTk0zyVjFO4CIvMz4hPRNcasyNbV+uRm8JL3Qv0XA5cHzwj3CKkJ2QvlD3IWpRoKFngLAQDx9bPvb++07ovn4ODm4uPqFfNt+in/zf8UADkDnQelCtoIiQQPBKEH1wkpBon/evgY8hjw4vLi9ELzzvN592v6sfz4/uL/v/0H+137Bv6d/5j9DPjf9Fr4K/17/9wAHwOwAl/96fZ07qDiS9WXz7zV6ugrEAhCNmhLcChjlVaKTrI/Ex9B+f/dU9Oy1yflHPUE+h3yXepK7D/w+eto5VjmCvJHBr4e5jShP5o69SwgH3YRLQH87X7baNAm0RPb+uXn6mHr1+5G93D+6ABB/wz9pP4RBsQTQyFbJuQf0RJqB0wAPvr78AznuuDK3wTlq+zQ8Wby+vGE9QL8xALdBjcHAgfWCEMNBREGEZYLSgIv/LT56/Yn8UvqVufs6H7v2PaO+oj8VP6c/4X+Qfx4+rn37PUz+C78ov3U/DT97P2K/If61vYq8Cblodim0nvYx/NfIkVQuWioZldbYVNYSgkz1w6a8DXiaOL56QD1K/4J/P7xJes17A7tweVh3Jfd8+2TBFEYVSZZLzMyAi5BJlodehAT/QjqweHE5cHrt+xy6jHoGufW5unmBubA5SbpC/Lc/b0ItBBCFVgXqxgHG5wcnhd9CfX5GPEq8L/y1PNT863xSvB98IzxKPKE8Erva/N+/hwKyg/yEfgQiQ25CVoGDQMl/U/2l/OF9YL3ofYN9Wf1tvYY+Mb4MvgQ9D3ubOzV7gT08vhr/AD+rvzE+ZP1O/B76G7eVNnb34L2lxqOP/hUFVUzT1ZOeUwgOnUYcvsW72zwxfW2/d0GKglpAAT3NPUP8jHkBdLszMTamfL6B7sVTh6QJMcoSyicJE4e/hF6Aun2mPXS+Rn7pvhs9nH37ve687roTNvN0U3Q1Ndc5WDzE/11BBYNqhYlHBobaROvCD0BBwB1ApQBff0++rv39PRq8yLzwvCS64PoAuyo9Cz8OwGEBX0IPgusCyUJ1wQlACP+Hv/bAXAEbQUjBF0Bb/+C/NP2SfBN68Tqlu2g8Sj1jvXG9GL0z/MH8r/sSOUa3M/VjdhI6fQLZja3VnJeWlduU0NT50irLB0OcvsI+Kf7Vv9NAXoAMvtF8AnpSOnC6VHfqc9Sz/rhT/l2CNcSTh+GK38y5jEOLEAgURAWA4793ABqBLECqf3q+qP52fIv56nby9Qa0RLSOton5uDw4fec/20LFhkvIcIcChBUBs4EfQYuBQQC5f/T/RT6R/Zt8nXsnOYh5XTpk+819Dj3Z/kD+zj9NwAfAX4BtQEWAcIA6gChAtACGAHYAHICRgPw/6L4ku5A6ELpOO3P8Hfz3vfb+tD3APKQ7FLmQd+v2pfb3uQ7/a0kDkx8XhhbKVdlW+5cJUqMJywKTfwm+fv2zfh9/RT9SvHq5NPj8uNW2pfJUMXS1Lzs5AH9D1UaBCPBKqkvYzAeK4QeiBAMB6QFlAfKBAP/4Po1+bL1lO164rrXvs96zFPSsN+a7k76IAHtCOkTKB4mIRMa7Q96CfQI/winBfz/pvoz+Df2XPOG7qbonuOt4UXlTuxV8zL4mvxgACsCVQGi/o77HPfU9KL3u/zz/7IAegGfAgYCIv8E/Pr3e/La73PymPcV+gL4vfXk9RD2efPF7cflp90e2BLZU+cdB1UxNVXqY05izGCGYudbwUI9ItIKawEq/q77Zf2b/gf4+ugi3rbdddyM0KPBOMIO1JPqTPxrCxsc0ygFL2gx+jG3K7AamQkjA68FzwV9/3b5zvdD92PzCu3W5LTbRNQY0djUbd606ij3XAMQEisiNyycKcwd1xB/CNMFcQX3BBgD8AC6/+/9SPiT7nzjFdzo3C7kE+y070fxEPRk9yH5z/ja+HP4gfcD+QP+yAO8BW4E5gIRAk4APfxD93Xyk/B68jD2Ffhf9l/z3+9s7KfoB+bP4mfdh9dF1njeA/KfFH0+f2AYbEJp0mllbbRknkUIIh0KNQBm/Jv8XwN8Bkv+Ae5u4+TgP9oKy9u9Y8Je11HvQwLJEEceuScqLSwxYzJUK7UaPAw0B70HvwSF/Rv4X/UV8qLrQuN32TzPOcjwx/7OQtpU5gzy6f1OCzwYth8aHiEXPhFFDpUN6QzTCnwESfwy+Lv4UvfA7jjkSt5g4G3obvJi+o7+igEEBL8DBv9G+cP2y/fh+q7/oQWYCTQIMgN3/lb6o/T/7UTrH+7Q8zf4gflt9y/yUuw+5wDjad3G1k3TbNNh1oLdU/TuH3RPGmtDbHNog2zCbq1d7DtHH+gPlAjNADn+pAK9Anb3++Yo3zXcptKvwWi2Qr5G1kz0+w5BIxMxkTfyOUY5xzPqJW4URQs3DVQRpAzqARX5XvST7oTkV9nhzhPG8b9AwUzLjtkr50vzGgF4EF4dRiK7HRcU6gpABaQCcQLvAvoBuv9I/iH+tvsD9a7so+eH6IXtyvGC8qvxBfO29mj5xPiC9RTzlfQw+tj/1wKSBDQHVQnAB1YCT/vg9X/zkfSd9xD6lPpH+Hnzy+xH5qzhZ9we1cHN/Mxh1xvv6BWYQf9hPmwma2lrS2ngWb06dRvaBaL8DPtJ/lUE7wSl/LnucuWD4PbXdsuGwyLI8NWK58r6aw25HLwlmSvgMN0yPSvXGSMLZAdMCicI3v9n+S74HfhD9JztY+Uk3FHU/tGx1vTeYefA70/5uQRCDy0UaxH2C0QJWwj+Bj8H+Qk2ClIF6P/F/M73LO8G50Hkfuc/78z2eviv9AvxOvFM8rHx0PAu82T6RgPiCOQJCQqkCoUJVwevBooFVv9m9sPwSe8U7sDraeqw6sXs5O677ZLnqt4415XRYdAq2sr25SP/TzRqzm4sbEBqV2FRR04iVgcH/Vv89vzgAtkMDgyi+yLoLOCB3GLT9cnIyUzTDd+b7Mz8rgwZGKwdMSJsJ5gpFiNvFjcN9gnECZ8IKAYuA6UAQf+o+trw2+Q220TVfNK402HXWd6o6879EA4DF5YZDBfSEJMK9wdHCpQOpg/1CpkE4AHn/tL1senD4R7gtuFl5fvoMetI7b/vvvJ790j/KQThAR7+HgAEB7UM4g9QEGIPIQ6ZCRT/ZfKw7LvtgPAv88n1LfeR9VLzBu8A6gznmONS3OTTY9YI5S7/jSQlTFNlb2hWZhpmb198R/Mk+Aie+qb5Fvyz/zUEiQR7+2Ltduej5d7cgs6Mxt/K7tRe5K74lw31HG4jDCY+JxEnBB8SEnwNfRQqHMoYpg/RBrn9J/Os54Dcm9FwyuPHD8lRz4rYl+Dn5x32pQr7GX0dwhnVFsoWWxm2HI8evRw2Fl8MewI9+ibyj+mj4tzeNN143v7ipuhy7erzyv28Br8JkAV7/Uz2SvTd97D9NQQdCk0M6AeZ//z2B+2K40Lgkebp7zL1nPWz8+Hy9/LS8t/vz+vW6JPjA90a3rXzsRzOR/FigmimZrdnm2YIVy08ESf1GuQRZghdBdIHmgS8+JbqeuPS3pTUkcQ/txm2m75Dzm3k2P+zF4AjqyprM584MjAuICUY1RkaHvEdMhiADEj9qO8w4hjTbMM6tw+ye7aqxSzZcuxG/48QMxzWIJ8hkh1BFaoPYBEfFIcRPQ3GCdYC6fc17w3q8ePK3q/fwuN95mrrZ/WI/v8CDAdODKINGgh4/uH1pPP095L7Tvqk+A759/Z28ovwvPB88EHyjveu+hj6W/k7+FT11/Ln8a/seuL12DnRyMq6y/3gOwx8PvJiU3ALcxd3s3i2azxSSjpyJz0XjglzAzMCCP3f8qDn7N8p1zHIgbWtqPGrPb0t2PH4ChloLUgypDSJOXs4bCwRH1EYGhQTEoERGwz7/ajuNuW83b7Vhc0WxsTDGMyH3MXsC/x+CWQQNBPkGOAbmhJDBzEIow+EEEcM/AfRAOv2SfBl7njuD/Cr8N3sNui56GLrJOsL65DvMvbH+k78/fkx9MvuCu3L7SDwdvUg/T4DlgYaCQwMDg2pCfYCxf2U/AL7efWk7wLvAvBd7XDqJeo55V3WWcmJzdvkKQl6M3NYuGpvbAVraWiJWvU/aCa4FlcO/QdzA8IBzv5M9KviqdUI1SzX1dAdynjRK+OX8tYAJhMRI+cmRSKvHmUf6CCwHJwRFAgbCYwNwAkKAHT6p/iR80XrE+Pd2yLVktBT0Q7ahugP9Jj5VgDvCjUQuglM/+/5qPod/6wFpwuYDo0P6A75CrYCofhG8CjsMewh78/09fvf/1f8IfXz8OXvte3J6pPs0vRm/9AGLAkVCS8INAW+/lH4V/bY97P4YPdE9bfyRO926rfkV+Gn43rpguxd65bqpOpp6nrwXApcNH1XkmPsYUFl12nfYH1H8yzwGHQIQP5k/1cIbgveBDD5NuwH32PREMS8uhe9J8xq4Kv2ug1cHYQeDxl/GBoaiRgmFwkZJBo9GkodPx9bGSsMW/xz7dbiQdtr0EbF6MU301jfteUp7aT0QPco+isDZQrcCqMLZhHNFnUXchN3CbT9M/hx+Cr1je3N6Lfn/uZA53ToFOeA5VPpO/Gd96r70wAnBhwJsgmECXkKbAybDMMIgwTMAVf+6fjY8hXuQ+v76UDnFePL4wjrPu/Z61DqIu7g7APk2t0v4Bjq7wKgLTNXDGoOaXJmCGUUXPFHUDB4HnQWCBd6Gv4b+hVaBu/xZeDQ1KXLjcPOwDfGe9HL3lruIABdEPsaiR9lIVMiESObIYkamBKtE9sbrRzdEV4F8fhR5ufS4slmx9fCdMKFzPfYVOEJ6in0bvxIBm0UwB5MIAwephqzFI4P7AwGBZD3/vCI8wny/ema5R/nuugh68/wPvSY8vHwHfMF9jf4Pvr5+s/8AgEwA+QAY//DAV8BFvvo9gL50Phn8hPwMfZ3+xb74vseAB7/KvY57QToyON/39bb+tde1RHchfWYIINMU2YNbA5rGWxda51gQUuRNFAnYSOoIOAeHx3FEFr1D9opzNDCubVSrgS1nsPr00noXwBMFBsdTByGGuMcAiFCIuEg6CFIJL8iXxwBE2AGZ/QX4RnUQ89zz9nPCM9x0ZPcsOsA843yIPPt97r+zQeoEQMUwQ4FC1kL2grjBGn7y/SH81HzqPGX8yn5BfvC+bb7dfyr9KXrJulE6A/olOsL75fv/PFG+NX66fkK/IH+Gf/nA1UNEhK1EAMQ/Q7ZBir61/FY7irrDull6BzmIOPR4KfaOs42xqLL2tnQ9QIo7ludcdhrNWceZx1dWUtqOjYqTB1/Gj8chRlBEWgBKuvG1/jNvMduv5q+xMrf3CPu3f3eC7gTABQTEUMQbRFFFLYbmiNnI+gc4RdYE4wK6/8Q997ud+lb6QvpGuN/3FXe0ebF6zHrduqq7D3wePRi/MkFWAqDCjgMJg7qDY8NOQrZA8z/YAC6AjgCF/6z94ryMvLe8QTqp+Bm4J3k5uUU6LbvHPdV+bP6Zv6TAfsBUALUA0MFiQeKDGMOwgfq/QL1wO3/6ODnQ+o27SHudOzv6KDloONg4Zfeqt5/6MUFszEpVCVfH1+OYD9cxE/OP4ktjR2LFQ8VsxiJHlkbEgc07cLeAderyMLBo8rY1QXiyvQABgsM7gt0CQEDYf7/A4oRoxsyIXslVCRDH4oZnxB3BD75WPKo7//v+e+P7cHpueV/477fBtlB143eZOl69HYCKw9xEoAOvwvvCsAHQwQ/BQ8HCQaxB4AKyQc4/8Dznexv69nr9eyW7avrfusN8nP2EPPH7/7xn/Yz95P5XwC+AVH/v//yAnUCaP7l+5n54/cn857tp+5G8cXuA+r96NjpXOnd5p3jduDR3UnkvPiMGZdB1Vx+YRBfi1zfVIpH6zZYK+so2CvOLj8sOienG1UBtuKo0a7Lg8QNw9LLRdhM41jtcPY3+HL3LPna++UBggsgGS4ntDAANdwwbijJHkISVQUU+TfybvIt9g32IvDI6N3ec9QuzUTLkM3/0wHjKfVIAQAHyAajBEYERAb/BygGjQegDIIP6A4sDNAFjvqS8Bnuvu/v7XvqNOvp7d7skunw5+3pa+uR7Ffz3vvUAmkHKAlyCKgFowKZAND/GwB1ADz+SvpO9hzwdOko6JDnV+Pc4e7k3+VG36jXc9jZ4/gADi9kV8toOmlwZeJdpVTZSr1AlDlyOGE/aUD6OdAtwRTJ87TXBsnlv5i75MIR0sPdCOHd5GPoVukH6R/oDO7E/KESZCYuMIwz9zKHLIcezRDDCnIH0gID/zD/ef709Rzpfdyy0d7IYcVpx0PNdNk96sj6fgOrAWD9ifvg+7D8Wf2MAY4JwhBzE3oSyA0GBQ/5K+/Z7TnwKPDE7nTwevMz8h3tjOgk5vjlu+zS97z/7wNFBqIH2ATH/138+fkE+WL5mPm+9nj0WvPH703tn+so6pDnL+Y35m3i8dzh2zjlKvvsIclJ4FvbWX5SXk26RjpBMUA3QbpBZkR4RllAVjSsIWEGUut/2l/Uo9F60jHZft+w3zTc79rQ2ULZ2N1/5z71jQchHHQoeifBIR4dIBnkFCQU7haOFo8UZxC6BtX4zep53s7RXMi3x1DPCti73i/nJ/HE9lTzkOr651nvQvk1AlEMbRdDHMsYORNBDGYEz/zW+fj8NgKiBlIF/v7P9Tns6eQQ4VDgH+AR5dTuG/Wh9fPzz/N89Hf0t/VW+iYBMQb+BU0A9Psw/fj8VvnT9zz6SPkv8w/tqOgV5EDe7OCA73cOqTQMS01M50SbQrs+6jynQO9FiUzyUGpUAE+nQUUwOhcB+yXjk9gm1+TZh95x30rdEdQBxyS+Nb36xfbTGeVQ+OgL2BqdHmQa2hNsEOoTRRpIIPckFCfAIjMXLQni+nHt2OIi3sbccN0T4jvmJuQq4W7gaNvB1cHWluFM7+j5pgXnDscPZApJB6IH/AeBCqANRhEFE60QigseAsf4k+4c5ZDireNL48Hgb+LZ5rrm4+Ty5VzqyPEm+5kEJwrsDdAOLAosAxj9L/yX+dD3G/qU+dz0++6B6LfdhdNP0FvaiPNbF+o1z0GjP7c53jLzMIk7zUeNUe9atGMLY5hTpT3wJpQQsvvw7ZDqeO+m8knwRury35vRSMT0vqrDWc893VfsmvpiBRQKSwfyAvz/TP6BBPEQlR0CJZskex+3FO4GGPub9G/x5fJc+HL6SfpZ9XPr/97k1WnXRt3v5VTzl/7gAHz/Nf2v90L0dvbF/EEC0gfRDaYMKQYBAKr3IO4l6onsDvGs9OT1QPVv8l/wE/Dz7nvwxPSw+Hz9kwNbBe0Bzf6h/cv5K/Oj8SDz8fLu82z3TveD8irt2eaE4rXiZ+sM/UsXJi8INWQuqiVxIUYgDCjTONlH5U6QTvVKpUA5MjEilhdJFXAT1xDjED8RnQuF/h7wkeUr3CjWLthK4NTnbew47Hjon+RJ4rHk4eo69B7+QwbdDvYTahAeCNAB+/1X/C4BoAqIEBoPbQmT/730Nu7Z6f7niez99bT9vwFRAZ/6mO8V6Kjniepd8gX+5APzATP9+vjK9IHwze5X7/DyjPgI/b79O/yq+Vf01+/m7TnvEvLU8zX1bvQr9H30ifAF7THtEO6G7a3tM/Df81/39PhA+q76f/uL+oj1evMT9t7/AhX/LJs2gi9tItsZoRkUIfwws0JZT0lQ9UYDPa02ai00IfYc9h5IHzcbwRcIFMoKCP3r71bmVuLc4qvkWelJ7pbvv+tZ5sHiUeEr4mLn3u4s9cT7dQH1Aon+b/jx9AT1eveg/DoCCgV1BBsAt/vB+AX3dPWA8yf0Zfgs/Zr+q/vQ9WPwle0N7u3xJPYg+FT3ePXP9e/33fe39Tf1QfY4+AD5m/jv+L34Yvmm+vH6ofgz9EPx9PBr8fnwxvB78bnyafTu9ETze/Eo70zt6+0r8Sz2S/sFAPAAlv3O+Ln1IvjpA6gXoCiLLk4q1SE+HOsduid8NQZAwEGJObAw8S00Lh4t2SmqJUEfwxarD6UMrAwPDB8IqwKV/X35gPVB8XLuQ+2t7sbxCPTC86zw9Ovi5wfnjehC6x3vbfJm9bf3Kfdp9LPxvPC88RX1jPtAA04HMAYhA7r+7vmy95f5/f86BqUGgwBE+C3zVfEN8vPz6fRD9CPyFvGk8QvyhPEY70TsxOzC8O/00fY69q70BvRo87rxN/Gy8mD0CPWb9dj2Lfao8gnwhPHa9fj5YfsW+iT4YPc9+Cr70/90A6oF6QbvBggGyweKD3UaVSHrHhYXKw9iDdUXqyosOsM4FCXGEGIMABnVKe0x3i+OJ2YdshU9FOwW4xcbFfAQnA8DEP0NTwju/wf4SfOE8pH0c/X785vxfO7j6Qfki+BJ4k/m3ujS6c3qIOwn7CrqH+jK54ToJezw8tX5H/1O+rz1LPSF9uX78gFoBacEQQJMAS0CWwR4BgIIiwcRA4P+8vyc/hUBegC6/YD5WPSw8HLwDPN49OvyhfD47RzrfOi66B7txvFO833xIO+c7eXuqfNz+bL9xvxj+er3Vvmy/YEC6gUCCAsIMgYKA5cAjAMeDakX3hvBGKMRKQtpCS8RlCIiMQsxaCNuF4YZhCLCJ/knAScvJ4UkQyGCIjojih34EjoMdA2aEDkPDAvMCOwGBQOM/bD4EvbK8jjvwu6k8OXz9fT78N3o8N4q2bva1OC+5VTlZeHf3oDgleRm56HmG+SD5BzqB/S6/osFaAZpAr3+6v8rBB8IGAvHDh4RSw9yCecCJQD8/mn9bfuR+Aj2K/PC8PfxNPOn8aru2us26groOegi7p/2d/oW9xvxFu6G7/LyAve8+qX7BfnR9PHylvVb+swAewamBn4BZvqU+Jf+DgilE6EfUSX8H1sSegg8DiMgxjBwNUYteyN6I9sqnS8hK7ohBB6FIbElhCbwJfIkGiF1GTsSMQ8mDCoGJgTrCdYQmA4jAoT1Q+365gviSOL06HLuD+zj4+bbVtdI1PPSpNUu2sHdgeDg47bnDuoz6knqSetl7PbudfU3/9wH9Ar8B20DgAFFAjQFAgm0C0INywwDC8wJ/AZsAkv/Pv8vAKD9Hvh79QP3CfcX87ru7OtC6SzljOJT5tLrN+yu6BTlOeQO5Vvnke2a8wvz0e407qHzT/rl/pIDcge5BokCTAJjCmEWpR6/H64aCxXkF80mjzcBOl8stB8OJFUyIDq3N5sy2DFFMr0v/ysEJv8cbRf/GEkfOiGAGXEO1QSM/BX2d/Rq+LH8kvqz80Xt0elK55/krOPW4h3iteIw5W7nr+Wn4G7dct0t3vPdg96Q4c7lFunb6CboxOhC6jfuQfMH+dz/6wRPBxwIGwjACgURyRYvGFUUdA6NDMgOTQ9KDM4GMwGJ/A/2XO9Z7CrrOulr5kvjcOFM3tnZK9pJ3uXh0+JG4ijkJOZI5qro6e0182r1OvbH+d78e/25/ikEYwwaE8AYgx6KIPIbehoVJ0c5ZkBSOY8yQTlKQg9BtzpHN+03FzcDMmItXSobJMQbMxUwD3YIrQIZABUBdf/P+WX18PF97fnpCexL82D4v/X471bsoOvk7EPtSexF66/pJekf6dblD+H32+faCd974yLlbeJO31jgAOYK7B/u6u5z9H/86wD+/zYA1gUjDFsNjAniCGQM/A9SEO4L5QVLAez+9v/EAXz+UfjG813y6vK48UPtnOmJ5yTnduhJ51Tl6uOn4h3jY+TL47zh/N9O4nvq+vFl9fH2g/cC+YT+IAk8Gg8ooydbIUUkGDbUSKJKF0F4PxdJjVD8TE1F6UPjRMg9/DAXKV8osieqHp4RZAm/BiIGvADH9yXy9PBj8xz1+fKz78brLumx6gzthe2q7Irr7OsU6lDh59qh3TPkyefI4DzY2dl13bHfrOCU3zTivObm6bnuffDG7nfzo/yRAq8BfvpO+VACjwj+COEFvgPOBCsCMv4u/f3/zgO4A5UAIfz59o30I/a/+G74mPM27lDs9+ys65zoPOJZ3VbfmuLP5CDiv9yP3KTh4+i476bxl/Lx9+r+swftElgeCSf+KAgnoy18PM5KPVGGTYhIJ0pmT1lQgU0LSoZINUTZOWAwWCzZKE8g4hVxDioMugjv/i3zve4N8ZvxxO0R56fi/uLH49HkP+YH48rhKeKD4dTineG74H3jDufC5krhztuo3+PoSevK523m1+od8DbwPO2p7p/zy/m2/t/+yPzE++D8Tv9eAVQCsgITAfT/ggD0AYYBif+r/mP7K/kS+3r/RgCb+wD3U/Wt9IHwN++V8v/yku3R5AviSOY+6F3kl95j3WTe5eCU5ojrT+9Y7aXsevKr+osJJBl1IX4g+B0SJ+E4pEbaTJNQGFIiU+BVdlZlVlhWcFMeTSFCfjmWN7Ez2Sf4FwILAQWKA6L+3PMW63/pu+Yj3kfXCtkK4OHh6txf2SnZ2tlU3xbk1+F83+7eEuFW5LDjjOT65djlv+VE5Gzkiebz67LuDe7r8P3z9vR/9O/4pP+sACr/Cv8YAUQDqAXkBjQBl/p6/IoDfgJ5+DX2wPr4/db7wfYO9a/03fWV9GjxjPAm9cr4gu+k4s3e5+PA6VDoIOF62sDZr97q4HjiiOcT6pjmKuap9qgOXBllFjoVURpyJ0g+t1F8VLdM7E7tWrZedVh9WOpfEl9/Tig6rTRrOaE2RyMdDekGFwhl/mLwgu0r7RHkltl52EDf2uDX3hfjweDR1s/VauHL7fHscuSY31zkWOyj7ZXoc+JD5Vvs/OxE6xzuLPIc75XqoOrN7M7z1vxDA1cABfZq8l30A/cY/M4EPwfd/cvzOvF69XT3iPig/FT8HvqQ+Ev3rfl5/MX9Ef6F/qAATQF9/IP3o/ZU8WHqnep57rfrNOFJ1hXQP9Pw28niX+HD2iDbb+Q38oYCHQ6LCjYHshsgOqJHsUPVRKlTtlrCVShXhmW4cvdtcFsqSVtAnD5PP5s8izL3IkYOUf6t9eztIuoJ6uLmB9+c1YHPac6YzbfMP9Hm2BndmNxX2XzYn9t038HhAuUM7G7z8Pe79xj0hPI2+FD+Tf9QATkDywS2BdkDbQH2/kj9MPyV+b73WPpB/uv7gPFX58Tjaea07ZPz9vGs7jDtjumh6I7ubPhzADX/fPZr89/3f/8HCCMGEf1f+Yj4WvXx77HpJOfE6kjtHOrn48Ddk9u92qXbA+n8AC0Q/Qiu+a77YRWvL14z8S1UOUdPrlIwSORN2WF2aZNaOUf/R7FV2lh2UMVCjjL7Iq0Wlw1yCRcJZQIo9IPk+NbRzCfLq9I91PvKxrxTuKDGW9DRzinLXMmL0FjZOdyx4CDsQPSZ9Lj1Wf7uCvYPLQxpCWYLJxChFL0WCxYIDjIFEwKy/iL+oQNYA1/6P+1e5uDsyu0+6U/nc+AQ2sDceOGr4MXe8eA94yzeddzm4tDow+sa7Ybv9+4N7BfyQPte+MH0xvyIBDcAK/gz+7QGLgY4/uAEuBPVGyIUQgS8BWEctivoJ6MgwyNGMI00FS+8ND5Ee0q+SY9FDD/0QfpNLFK2R7053i7VJLIe8x75HUQZfw0N/CnpZds/3rfo7+gd2FHK7MY3xP/KFdIyz+fFQ71JxMTTH9if2FDd3dpR1EXXkefR+U38L/Ob83D7XQHYB70NMw9WDOALDwrpD7MdvR3vFAAO1QtcCtgFYgXBBCX6iOtu5pHnOORT2/rTw9It0l/PxsiXy/nXMtnX1znac9lh1pPZTO4c/IX9NfgV99MJu/+lBG4ijxipFaQjOyziLxM1aiqwHQ9CN05JMvA+PEnwO745GDrUOqRDIEo8Nh4oozCbLkkozCd2H0wVxAlX9634GA64FOD7o+QE6ZXwTPG18eH18Pom8A/i3OQE7nvvX+MQ2uLc/NrW2kffhdwA0DfBfMpM2YfXrNdd16LWUt1x6krx4/MR+8P3Cfv+C7YXbh1bHKUcCR6PIEcihx1IHPQfORv9DO0JyQto/wD0je2U6jHodNkJ1YDgxuGiziPBpMqf0j3Lx75lwXnQBdfl1GjQztC22w7kGfM9Bz4FRvvUEJg7RUzOPmYw9jfeVrBzaW+PYfJjvGCHUe1NIVwwXlZI6isPHWMfISCuFs8KwPhv5b3bKN+T6bjq4+Kw2PfQbtL73rHu/PMW60LnOu/g9Vv4d/rb+0P3xe8O7sP1MPia7T7rR/LH7+HlmeIz6wbyhuxB5PjpcvYW+OTzNPDI9Ij1u+xH8Hv8gQM9BMYBU/vO8a3vL/ugDewWcQzh/RP/gQtjEyAOQAkyC8IHpQCH/jcEHAKJ8LvfydV81Q7WaM+/y5/JRsI+tt+3Xse61YPkOuWF2InWqvf7J4M6nDAkIkwlIkJTZ+9y5WX0Wq1ZylsqX8Vk+mLqUz4/FTKsLg0sWSPfFmAKVgHP+DXuVeZd4+XhUtwp1+TVF9Vx0n3P6c8S0/PUkNOv0+/Ydtx22xrceONe69/t/PDs920AhgNh/G34PAg+HS0f8A64ADgBoAbbBp4J8g3hAmbtkebL7+f0NfX4713kBOBD5bbut/Un+bb1iu0L7m/61gfmCSMGyQKF/+z/aAXUB6ABVvrz8hTmsN4v4tjpQesG2yHJL8MWzsja2+jV+pbxo9ez1z8HnTmOQekh4geGHtVQ3GqLWzRJGk6RXV9f3VWWUIRUVFnbVJBB5CsDJcUpvCqmHqUMFvpR76npFeno5jbdJdJoyAjD1L6+vz7FY8WwvpK02K/quPPGudGy09TO/8um1HDo+PeeAVwHdwTVApgOWx9/JxImXR6zF2gb1yB6HoQY0haOElYHV/y8+XL93fnu71jpcOdF3hLWtNin35vgpNna1TbWPtsW4Evl6+w+7fTo4+l78Mzyd+kv5pjzawGt+l7pvepW89P3svlLB0skmCrYCNTsGRMkWLFtWkIeDFIQBEhGaX9RUzIPM9lC8kDpKnQgOTNDR8A4BxYrBlwT9CIbH24VFhTQEUgE3vig/HYG4AyhCzAG5/eS4QHYeuaU/Dv1tc9Is2O3Xc6N18fM5b7CuH+7v8FCzxXfU+eG5hfizea39BgF7g8aEvkMXgqbEeobYiT5JmYilhn1E7sTBRckGXkSBAZK+YDyXPB06S/fPdey0qbMeshrxTK/vL5Nw/LHyMV7vf66mr9DxarLYNgP4qze79zi4lDpCvHrAawhAzdCJ00GAAx3Q5Jv5WBDLYUWOzLGVGdTzzcbJCglaC2xJBYNjwBoDWEeoRaE+WnlWOtI+1MCBQGZ+2/wH+XQ52L6UwvhCsP+yvj/+az4N/WP+sEGfgrB/KHn3OGp7aT5JPvd9uPvuuac4YrpZv7wCmf+Cei44q7w2/6sAAP43+6Y7P7u4fPQ+bj7lfhU9xf8XQFnA90EAgkGD6QPpQfMAOUB/AOFARz9L/wG+zbzI+d94kHrRfCR5oXYAtJ30NPSPdp44KLhR9syzYzEdtOH+9snGi7RBPvjJgISRvVqhFIHIbMUNTXAVGVTKj7PL6YwDS9yHSQNlxTCJwEoAA4/8+zv4/xTBZcBF/t69AjqtOCu40PvVveF9cnuiurq5cbfteCM8dED9gWV+NTsfe+Y+oUFgA3SEHALTAA4/PAEkBGNFX0NKQGe9Rjx2PUG/ocAePdG6ufiAuZ07o30kPYL8v/qwugQ7cr2Ff/b/5v4tPH/8Ljye/SV9SP4Cfto943uBOoF7/D14PeR9rnwVOlj55HvT/ns+Wfxe+OF3Sfr9A/uNf0x2ACZ4bQGKUv8ZWw+MgaZAN4qTEfPOhAhGh+aMt00RRgkAUcTeTc8Q7sp8QOP9XkCFxg7I2kZ7P545lrhderj8sLzkOuR4SLW+8k3xrDN1d1K7J7uweIS2Z3k4vlIBiEJ5wqtDm4O5gwYEcwZ/x3RGRAS9wRY9yj2RQAuCnIItPkV6jvkTOuF+vQGlAhT/nvxXuu/8Br/xwRw/EXt0uH64NfnRfCK8I7pfuAd4F/qr/C08eLxzfD17qHu0PLs9jb7gfl06+HhcPCdJZ9ZEk4WB4HZUAqnYJ93GDXr6NjssSe5RNMnpvts9tgRPSBEDJLwYfUvF08zNylvBeD0ggK3Gn0s8iwVHaYH4/rn+jMBuwOH+8bwq+hw4JPWldH82CTosO5m5kTbQdor5YL1vgKZA9X2ZO4l+HMI7xCFDUcHzQMV/x38IwJRDLIP1Q0nCqsERgLqBk0RtRkuGo0TcwuvBt0Brv/TAFb/6fjS7PDgSt3m4QDmheKz3dXYYNJy1Nzbvt7G3cLew98+3NvfgOUB47LhZviDObZtD1FKCC/04S82dF10kC849g0EoC4mOJoaEfzd/4UW6Bh4+3DhQui3CWMlcRsn+fTjy+zWBekaFR3rCVryWOdm7HD5nv6z+Lvu1+fl5zjud/aI+2sCLAkgCIUABvydAY0MoRS0FMELBgF9+sX5NPsk+O71ivYq9dvtv+SK5CHsNfTg8zXr1Obz67P4mAPrCGIKXgZpAtACngdQDOgL0AV9/RT1Se827pPvf++L7XHrMeYx303fa+i08Wzv7+S14OPcaNdj2ub+oD8LXf4y1OzR5fopYGfMW+caTfiwEB00LTWBFNwAFBJqLwMuHgiU8hkGTyz8OjMjIQKK9ID//RI9I3Ij5Qvw7Sbdb99M6RTm1tZkzInOTdfV36/nJO+k9o/99P9B/2YBbgvHHIcpyiaLFYoCsfi++CX+MAEJ/178j/gb8xHsa+b16MzwIvba8yrvcvHY+sEB2/2C8m/sJPAo+CL+6v1z90Hsb+Hn3kLkvetk8XzwgOxm56fl+ura9X7/1/w6+CHxReMZ2mnsvS0ab3hqVSCv5ij+Dz0FVxouEPqB+uodjSyZC47hsuD4CHIpXR27AkP+PhZ6MpoykhubCEgLFB25LgAx8Bz6/XblOeHs7Wb0SegT1fDM4tZM6Qn2k/d884vun+1i8w/+5grxFIsawxbWBnfxxuMx6R35uQSWBIT7evRT71TrtevD8goAOQoGCrYAbfhM+i0CVgeOA+f5dvWz9m33NvMe6qThI99T4m/k6eLd3nfa9Niy2afaXN7C55Dui+4M6BzZus693XwVmFx7d0hNZg1Y/+ogbTwvNMwcRx3WLNUm7gAh3IPfmAg3L9csjAkS7jr0vBHHJhghpw28AUUEVhG1GtkWrQa28tblGuIh45rjmOcC8Tj7LgGp/qv5t/vkBAsL5Qr1CSAOJBepGVYO2fh66DPodfRWAe8BO/gQ7V7nL+go7Hfxc/aj+4T8tfTN63DshvePAkgDU/pf8a/uJfGv9yz+tv2y98bzPPTp9eXzYPEp8zX35vhW94f20/Ka7kXpTtwBzZ/O/f07S/92QFbMC0vpUQImKTIuphowGaonLyc2B/vhKN2T/KchjCerE98F0g7fIoMmExe8CcsMtRneIIAeYhYcDR78SeChykrLvOD89tz7vPAz5p7otPQrAUQEkv45/sQJURgRHPcOuPqf7qvu9PQx+m399/6p/2392vWJ8nf4dQQRDZkLiAT2/BH5Y/nP/O7+4vmP8LXqr+vv72Txle8L7qHsTuvm6cnoQerZ7Qvwn/De8fb1Wfc+84jrRN/G12PezgcmSU1wm1zMIjsAqgXGGrMfaRacFzIemBp0BVTrJt+26En9lAh3ClIM6BING5EZJA9BBgADMQFgA7gMvBVjEX/3ItRfw0XSNe42AKUAe/m8+zQJcRQsFK4MhwdlCqQS0RUjEh0Kav0X8Wzo0uah65D0dvvQ+bT0L/HB8SX0w/XT+H7+WQLMAKj9UP0k/uj7pfZr8u307P0YBQAE6/wC9wf3DPoy+jT2kPMn9Rb4M/r++Af07u6/6+/hLtIczmvxOTlVcLRmPSis9VPuLQEzDjIOXRT7H/Mgow1n8DfdUuL3/N8YYyYZJ1gkHii4LAclaBE0/CPzcPtPC8QRfQb07CDRQMNUybnb5O2A9f71RvmVAo8MoBAiC9IAU/5nCFwXRByrERgAT/TT7xntye0u88z8qgZLCW8Djvvy97H6YQHUBNkDiQIiAAH9AfjN8FbrWul77Qn24Pwg/D31ae7o6YDnpeUv6SfxBfh5/BH+VPyz9hjxVeg/3tngrAMJQxJyoWikM54FLPbc/MwBw/+RBZoTjhvFD6HyaNZE1DDpBQLDEU8XnR2GKM4s1CDJCn/2EvFW+0kKrRFuC8r6Jujl3X3eqeew8kz4Yv1mCOYV8BqdErcCj/bf9GD8BgnFEcAOTQOO9lfrx+P14VXpMveaAt4FuwHZ+gf2U/fb/M4A5wCp/jj+/P8AAID7U/Vf80739v1XAs4CJQA4+mDzdO8R7u3ucvHo9jb9R/4Q+A7ucN8zzY7GsOE+IgVg3mxqRbgUPvxW+LD2KvKN+8AWXTAwMlwWePBa3pnppAEZFIYfoynzNZw7UDCaFir4YOKU3r/qyfpSBKsBfPIX4f7WndQ92JffeO1GA1ca5CVLIlgVSgX0+/b7MAPUDLESmxH2CrT/iPFG6PnnCvC7/C0HJgtECGUDVf85+432AvL68e31tvoe/Oj3QfET67Loq+oH70TzrfWo9tb02++26mDouuuD87D77P5E/cj2X+mI3IHelAPIQeluA2ulQiIdeAmGAHrze+rs9lgQeiE/GlP+VeM63T3re/sIBKkHFhF4I+ouhyieEXf2SuT34V/tt/3XC9gPuAm8/xL3L/Il7znvQPfXB+EYQyCEG7YNlv1L8VrsYu1O8bz1nvqr/Qf6svHh6aTo5e/p+0oG8QpECyQKQAcKAp/6YPTl8r31PPo6/Jv9sP91ALf+vPpl9hH0YPYQ+7n8NPla8b3sXe4i8lPzAPO48Arkm9RI1HT66DyFa2JmnjxoF1gCr/Uo5y/gWfATC+EaFxS5/Y/szvC4AzkQvhG+EakcezQ4Rn9DkykHBHvlGdo54Pfs6/gg/LT2Fu/A6O/ir9v2103gGfWwC1caYR8yHFIRwgBK8gLtsPOTAZEOohQhEAIEHfl/+KEAdwgpCtYH7gXJBAwCWPyp8lnoTeOK49LlHerD8IL2XvhT9RHy0/KQ95H+5AKgAS78xff79av12fjv+Q32a+rR2czPttsZDYFO43TCZos6HBTu+mHq3+BL6wUI8R8HImUOYPaC7kX7SAqgB/78Dv9SFbAvozaxJ3UKL+zB2B7V5dyU6RX5qgTmBfP9PfUc85X0tfW0+LsANw+XINgqmCaNFC39Kuyq5wvvDvv4BS4IAwDp9JXtGu7t8f/1o/rV/mUA2v98/5P+8vmH8p/skOzb8sX8zge/DMcJOgO1/dL63Pt2/o7/V/4j+sL1PvEz7oPpyeMT28XOPMcX0v8BwUSVbiFm+T+MHPwBG+5R4q3poQDYFEsbwBF2AQL5v/1YBFkBLf1TBMQaKzN8O78yQByP/Xvg/tAQ1Pnmp/5YClsGsfty9RP2vfVL7+TqavMGCccgnyliHCUD3esR37/e7ee79iYGRRCFEckJCv7b9jz5sP/7A+kFJQfICUYKbwUS/ezzCux56G7qCfEe+mD+R/uo9ZLxZfDs8Uz1pfiN+vf6L/nI9rDxLu166pPfMNGlzcvpzCTrXRRzO1ylNBIP2PEv3bfVR+YqAQYTuhXMDsgHwgTlBQME6f5i/p8JJiI+Ni46Iy2uESnvt9NuzkfcCvKmAbEGfwWFAer+G/oo8PnoA+9QAcQTXh6cH5IXBwdn803m6uO062n6MQg8Ds4N3whtAuP9nPoA9w30a/X0+wIDdQQRAGb4ye6X5VTjLulY9G4A7watBWwA8vzy+Rf2rvTv9iv6+/os+en1zfGa7J3gfs9QxefbNBrxWaJyzVylNXQRgvSl3ozVzuRN/94T5hq+FHIMKgruCygIx/6l+QoBShhhMEA64zABFezwqtTNzDzYT+0P/ZYDbAdWClkIL/7A8D7nhueT8lUE6RZ9IXseIA40+BXnJeBo5HHwfQAzDwgWERJ9CRgDW/9Y/Uf7svkY/PUDvAycDtMEA/TI5j7jXejW8vn8xQDZ/vz7tPnB9KbtyOrT7FvwOfH076fuJe7x6wThxdHSy0LpAChYXxduFVbEM4kTuPeZ31jVL+PN+ysReBojGBcTKBLFEoELSv6M9On6yhRIMAg7Ky0jDf7od9Ll0XvfXO7w9kz/6ArcEjEPpgE38hrotugj9HEFzBSjHDEbzQ8A/sHtXuf16orzq/6uCJINAgyGCfUIEQUX+zTw7O0t9t8A+Qb5Bbb9HfFk5wXmwuvc9OH8MgExAi8BB//E+4v3CPHG6qjq2u8o9bD1OfTl7M/bUMr+zIf4aDcjYWlhiEW1Iw0EKusc2D3VseYzANIV3B1OGmYWDRmGGPgKC/pw9I4EwSJ+OSg6YCMZATfif9Ij0pvbr+mq9nkCuAzMEZkOFgS29vfrterf9f8I7Bl/IHMbuQ34/Djv+Oh66170wv4jBuAI3giFCLoHgQKc+G7vTu4U91ABbgcxB+P/gfTR61Tqs+5M9RL7IgBZBAIF3wAD+n308PAK7QDpx+fb6XTs/+x04//SZckJ3LwRMkscZTJY1zuPHncDteg71PDXk+5EB6kV6RcVFccViBqyFhIH9vUE9HgJkCUiNf0u1RVl9jbeF9Xl12LhT+xD94UCMwztEr0RpgUm9efrYfCs/2sRUBwZHaMUHgaB973s+uju7lX8CQdRCYgIVwkpC4IJHgH09Lvr6uxI+O4E8wnrBXb9rvN07JjrDvDT9dj69gApBn4FZQCR+z/5a/Sx7EDncOcP6o/rAeoJ4KLSF88M6xkj2FShYgFPUzGWEiz30N5S023dIPICBl4QcBEUEWIW3Rv5E70BnPFf9GsOGyy6OZEtqBDm8szetdZ82M3hEO0W+EIDXA2hE0gR0gWc+EzxgfTY/+AMzhM3EtsJkP0M8qPq9eoe80v/YAg4C2MKDQnCCcYJ1gNk+KTugO6K9m4APQYlBc//w/nO9djz8/Sv+Xr/xAQABzQFj/8t+GfyQ+y05L3ekeDH5Xno7eX93ErTU9bV+YgxNlpCXfNHsi6BErr0X9u51fzjlPeIB9oPgxOwFlsbsBuiEe4BufQs+WUR0SvtNY4nUAqp7fvbLNV11nndvecX9VQEYRAsFecPvwBR8YjsWPUdA5UNPRJ/EacLx//x8qvrnOsp88kAWAxfDgkL7AqkDEQKngBE9PPtr/GK/boIogunBVf+kvmT9aj0LPga/MD97P44/+z9bvsN96bx5usL5YHfTeAI5s/rduxR4qPVddXo7gUgyFB6ZBFWsTtOH40BpuUg1u3b7u3t/yALSRB/EpQWax3EGqgKH/em8coDlSD+M4IvaBcq+gDlCNvx2CHeMujw8+b+swnsEqgUVQmP+FjuJu/29Z39xgR0CpEOmQw1AnPyjud26UL1JQF4BzUK1AsDDgUQuQsp/Znts+kN9CADLw0cEGgNnwZs/IDyT+zL7B71l/9ZBRADTPyx9ezvYexT6Z3mAOZv6RnwhvPN8B7l99am0LPe/gifOyBajFhBRZssZQ/K7+bVodGE4CP2xglmFGcXuhgeHX0ajwqU9WHrBfuSGcQy/TeiKDQPkfia6/zjzuHb5PfsnPmfB6gTIRmrEX/9ielP4d3kh+2/98oD0A/VFIcOxQDx8v7sHvLh/JkEnga6CCIQUxjjFwoMyvvs8XbzOfy1A7UF2wJE/jr6PPUq8H3unPEi98r74fyp+s73yvUX9BjyffBx8Gr0dfgM+WX1V+314IXQcMWLy5nulSPqTBRZh0s+NSwamfo73E/OyNiA7hsFLRTzGu0d8yBQIDESj/oW6A7v6w6SLhw6JjDeHDAJhPfg5knbhNkD3jvlCPDi/dgJaQvz/rjtjOVl64D5WgmCF58iiic8IogTXwIB9lDwWu/Z8GH0ffp1BXUSUhkIFIIDRfN07sj0GP3oADcAD/0L/Bf7ZPf+9I71S/qcAPgE6AWkBQoFcQB7+kfyNeuw6wXxEvdh9vrtGOKY2YfRC8TYvQjO/vzJNcNXG1reSpw3KBwD+G3VoMiK2L30rg2jGq0ecCEJJGwe/gqk8uvjDu1JCogpyjpwNvAieAtW96zmyNt92L3bc+U39OIFYBMREygFA/ao8VX46QD4BCwHKA1vEjQPfQF68JHm7+QT52TqHvO2BLwbEC4eMXEj/AoW9BzqEez08I7yXvSZ+q8CawaYAw3/CvtV+Gz3lfkH/wQFawe8Ann38ejF3VLbDOJt6+3xpPO28rLyJ/Oq79bh+9Gg0mfzKirhV/9nCVtwPjQXYOrbw421a8Z95hgEuBYYIYYoKS6cLaUeEgPO6HXkFvxDHc8y6zJCJDARIADU8ZXmOOKE5WXvt/vaBmEORQ6/BIL1vejf5GzqVPbtA1oQCBgxGJkPigHh9ov0yvYa9jbyb/J7/T4OsBhSFaoGmPaT77byX/cD+E/16fNb9Ar0dvLc8iv3+v2aBkoMuQopBPr+Hf6O/bD5qvMh8YL0hft8AakA//kt9dj1VPW27X3it9jWza3CE8eY7C4oTldrZGNW/T18Hvb3p9SGxrvS6usxAp0OHhfQIlowfzStJL0FAuvv6HH/9BqlKHUkXxmoEEYLNgOf9SHnc+Bt55b2MgU5DssQ1wzdAnb3pPB+8MPzMvnFAi8MhwwGAYjzwu/F9Kz35vLG7VrynAI6FVcdXxfxCpcBsf3i+2H5Ffc196r4wfj49SLyl/CF8tT1qPdc+F/6+v/JBxYLVwVz+pnyX/CU8K/x/vQb+/n/dAEmAloDrgKJ/0X8hfhu8XnmpNpn0FjLWdSp9cgmPE/QXptYfkWLJj3/e9vkyu/QMONo9RUAiwYXEo4kGTH0J8ELJPA16qT8vhflKjkuSCbMGcwL1vr/6BDdqdrl3x/pp/UvBA4PcxFjDXIHRgJG/iz9cgA1BlMJ4gW4/cn2nfXc9+z2ovDA6Urp3fKmAZQL7QoHA6P6BvVf8pbyUfXQ+Av84gBKBvsHHAbYBNMEXwFJ+UPy0PHN9rv7mP5e/1r9Mvpr+TP88v70/sv92v6wAq0GiAh0B2MDo/29+Ez2DvZe9p32m/S+7A3d6s3M0jf29igmTslZpFSxRuAr6gIN3IXKKM8m237jKevn+pETqigMLJ8av/5p6YTnv/mRE/MkGSZ1Hd0Urg0ZAi3wjt4S1ufZQeYA9hIFHxB1FAERggeG/aT4kPks/KH9QP5D/rX81/rn+5T+2Pyu81PpKejj8+UEQBCcETgN8gk0CTgHowED+/z2qvYQ+C75QvsPACIGvgm3CLMEigHdAKUAk/7X+on3vPZ4+GL73P5pAkUEHgNhABj/8P9FADH+5Pv0+0b9Nv5n/4YBowJIAdj+0fz5+g76zvqJ+GTrL9fN0FroEhNNNoNFTUbIPFMjMvvp17fMNtbv4cPmcey7/R0Z/C9GNNEieQO65S/YWN/S8gkF0A1xEL0TBhf3E1oIqfms72fs3evv7Kjyuf1BCW4PuA2CB5oCEgJNBMsEDgFE+9b30Ph+/sUGzgsXCLb9XfbX+FIBsAZjBRcCMQJ8Bb4HWwbqAtUA4ABb//T5ffS19J/6ZwAoAQj+0vtE/AP9rPvC+G32Zfaw+Er9gAPyB+YGLQF0+9v4PPnD+vj89//XAkkEkARcBDMDRgDe+zX3OPMQ8cby+vk8BLMLiAyqCacH/QWXAbf7Rvee8XXmEdw64/cA3iNkNxs62jQlJ5AKO+YG0GXSKt+S5BbkSewnA/Id6CyPKQ8YagBO7bzoI/XCCXoYShofFUQSRhExC/r9QvCQ6dfpuutP7tP1BAPjDnUQrgbw+pz3nPx4ATAAGfuK+JP7MgI7CcoOahDpCw0DDvzh+8sA3gNaAS/9evzG/t7/F/6n+xb7Nvuf+FvzAfAj80f8ZAVBCfkIcwh7CFsHJAQm//b4O/LL7Y7v6PZl/t4BjAHr/zb+oPt2+Kr3OPr3/ID99Py0/iUDnQZaBiIE5wI5AxQFLQjGC5oOrQ7pC4YIqAUlAir9Mfc68SztqOxW8SH7dgU+C5UMRAwaCp0E0fx69QbuxOMI2zfguPcGFbwo0C9AL5om0hBJ8yzg+eAD6r7r9uez7TYDjRszJiIh1RP0AmrxqObf6sL7cwt4D6YMdw17EjwTpgqo/YT05fC77vfsNO+a92QCcQj4Bbr/zf02ApkGvwPd+gL0kPQN+tL/YgSHB98H8gSdAXsB1gObBDgCmP9w/xQBrALpA/IFrwe+BZv+yvUz8azzZPq4/04BcQEWA4AGWgkzCf4FPQF//F/5Gvlp+yL/EgIgAg8A9/1y/Kf6jPi995L5yPty+6D6Uv0tA6MHtwZGAez7oflP+sP86f7m/q39G/3s/Q0ApALjBNoFWQSyAJz9qvwX/Vf+u/8tAGn/qf65/1oC+AOvAgAA7P3N/Oz8SP6d/9v+ZfzD+4r/1QWACpoMHw3lCiIEs/sp9571zO/W4/vc1Oc5Ac8ZPyh7LngtMyD8Bt/vqumB8JPz6uxC6WD2MRDbJBkpzCCgEzgEbfSz6rztUfpRBEwFSwM2BoQMsA3rBRn77PMp8GbtT+2y8xYAQAsvDkYKnQb6BgQItwNm+T7v0+pI7BLxdPeh/qAEigZyBFQCvQKKAxsBkfuk9wX5lv1mANr/n/71/vn+oftI9vzzSvcd/dMA7QE2A4kFbAbeA0f/d/vD+Hj1+fFO8Uj10/vrADYDzgTiBtUHeAYcBJ0CpgFW/xX8CfuQ/YEB6wOrAx8CdAFgAjIElAVRBewDSQOCBEgHKApHC+0JugbqAhgAIv9h/5z/Cf9G/h//HgLUBZAIbQlnCPsF1AIDAEj+AP13+wH6QfmW+Rb7bv0BANwBaQJBAv0BVwFLAJf/tf8tANf/Of4z/OT6+Pp7/GP+Xf8d/1r+EP7A/gAA/QDkAGf/iv3u/Nr9Av/x/mb9ivuM+nn6zPo6+8z7gfy4/Az8t/tO/VQAkALNAqUCCwR6BX8D6f1t+PL1D/UU87zxAvbVANEMVBTkFpYWmxKFCBj7HvJ58Yr0LPWJ9CP5kQT7D0QUjxGjDNUH8wFi++/34/km/jMA8v/rAGYEXAfKBqIDrQDX/gb94Pr7+ZH72f7lAZ4DnQTuBWQHVgeFBMz/ffsF+Qr4WPiQ+k3+hAEOAwAEmAXcBooFrQEL/rP88fz9/G38R/wG/ZH92vx6+zL76fxu/+gAIAF6AcEC2wMQAzgADP0M+xP6UPmg+PX49frX/VYAGQJYA+YDdAM0AuUA5v/f/p39rvyj/HX95/56AJcB4wGiAZwBDAJiAi4CwAGjAd4BHwIkAtwBNwE1ACX/Wf7w/Qv+qP6X/5kAWgG3AdMB+AEgAtUB3QDw/+H/VABaALb/L/9R/6v/qf+N//L/tABMAbkBSwLUAr0C5gHlACMAiv8J/7j+uv4R/5D/AQBxAPAAOwEOAZIAXgCeAK0AOwDJ/+H/OwAAAPb+2P2I/eH9Fv4r/sr+HgB3Ae0BkwEIAY8AEABE/zH+bP17/TX+PP82ALsA1ADSALgAWAC6/2n/y/9OAEQAAwAsAIgAjADR/6f+7v28/aj9x/2L/uz/JAGGAWMBTwEuAdAATQCT/6j++/3f/V3+Af9D/2n/AADTADEB2gB2AMQAIgGIAJP/XP/Q/yYA3P9f/4P/SgD/AEABTAF9AbYBfQHgAFIACgAbAE4ATwBSAMEAXAGCAeMA4f87/9/+V/4L/nD+ef/PAM4BTAK0AuMCUgL0AEn/Mv4H/g3+Ff67/vv/WgEqAgMCuAHPAUIBvP9A/r79c/55/9P/IgATAd4BzwHvAPr/0P+2/8b+7P00/nP/pQD6AOcAOwFRAX0Ajf///sz+vv5g/i7+vf5//wEAagCEAF0AUAAyABwABgCV/zn/Mf8J/9b+Bf+J/xgAYABOAIQADAFBARcB0gCXAGwA+/80/6L+Z/5D/jf+R/65/rL/rQBbAbgB1wHdAZYBvgC9/wn/sv6s/qb+pP5B/2wASAFzAUEBKAEoAY0AmP8O/6z+WP44/k/+1/7X/9AAjgFBAm8CIgLMAS8BVAAv//f9kP30/Vj+5v4KAD0BKQKVAlkCCwKtAbsAaP83/mv9Uv26/UD+S/+CAFUBQAIKA/cCagK5AZgAX/9m/p/9eP3e/VH+Fv8iAB8BQAImA1QDGwNWAtIAUf8V/s380ft8+9T78/yG/lQAdwJfBFsFbQW2BEgDUQES/wj9uPs0+277gPxR/lkAAgIoA6YDQwNHAtAACf+l/dT8d/zy/EL+yv9nAcgChgPRAzEDtQFNANz+S/1r/C38SPxA/aP+BQCnAc0CWwOsAzMDEgLlAGv/2f3h/B387fvi/B3+nP9nAcIC4AOZBDIEKAPiAQoAIf6D/DX7+vqK+0v8+P0bAL0BPANzBPcExASRA/EBrQA9/6399fy+/M38c/0c/uP+AADNAFoB0wHhAagBTwGtAFQAPACv/0H/PP87/1r/gv+9/x0AdQCqAMAAtACRAIoAYgApAAkAuv+X/5z/fP9u/0X/Qf+X/6//sf9AANsAIAGCAasBuAHkAVkBjAAIABX/Fv67/XX9W/3C/TH+Kf+PAEQB6QG8AtMClgI1AjIBTwDN//f+WP4r/v/9SP7Q/ir/6v+oAN4ALQFvAT0B4wBXAK//M/+l/vz91f0f/m7+Bv/0/x8BLwLEAkYDjgMfAy0CFgH7/7r+bv2G/C78C/xD/Cv9Qf5y/7sAuwGcAjgDSwMgA7gCzwHZAAkADv9d/gD+rv3Y/Vf+4P6x/14AqAAvAY8BNAHcAJUAFQCS//3+ov63/rT+sf5a/x8AgQAJAcEBVwKHAlECDAKqAbYAaf92/qX9v/wZ/BD8v/yo/cn+UwDjASED8QNGBAYEaANqAiEBwP80/i39zfye/OH8pP2o/sf/7QDkAacCJQMUA8ECFwLrAOH/Gf8w/mr9Gf01/cn9Tv69/sH/0gBoAc4BKwJZAksC6QE7AaAA1P/s/oL+Pf7q/fP9ZP78/rn/bQATAcIB9AHTAZsBDgFXAIb/zv5D/uX9yf0I/rH+e/99AGIB8wGHAr4CkgILAiIBOwBD/zD+Vf0A/eH85Pxr/S3+If8sAAUBCwLDAtQC+QLoAjACQAFUAJL/8P5E/rr91v1Z/q3+UP8PAIsAFQFmAYQBZwHtAGAA+P93/7f+af5j/m/+uf4F/6P/RQDSAHMB2gEqAjMCJQLcATgBnADD/wT/P/6I/Vb9Mv1p/ef9i/5f/yEAAgGqARsCQgIfAhUCnQH5AHkA9/+d/1T/Uv+J/7L/4P8uAH0AcAAwAPb/lP8l/7P+RP4i/iP+Ov6o/kH/5P+ZAGYBEQKPAt4CzgKtAk8CnwHaAP7/Pf92/tj9ZP0Z/Tv9bf3i/Xb+KP8AAJAANQGpAfwBIQLiAcsBdwEQAb4AXwAaALn/m/+L/2n/Zf9B/1j/Yf88/yz/Gf8j/yL/I/8y/3H/2P8YAH4A3gApAXcBkwGeAYMBTwEFAaMAQACu/zz/6P6a/nv+V/5r/q3+4v4p/4D/7P8rAFAAjgDIAPwACAEhAUABJgEbAf0AywCbADMA2f+U/0P/6v6n/p7+lP6W/rL+3f45/4H/1P85AHsAwAAGAT0BVgFrAW8BTAEqAeAAkQA8AMz/d/8h/9T+qP6s/sb+1v4c/17/p//+/ykAZACTAK0AtwDBANcAzgDTANcAxgC8AJMAfABgAB0A5f+o/2z/J//4/uL+xv7B/tT+/f4x/3f/3f88AKAA/ABFAX4BggFzAVcBDgGuAEIA1v9x/yr/7f7S/uP+4/4K/1H/ef+j/97/FwA0ADUAOABEAFAAQQBKAGcAZABwAIcAkACIAHUAZwBFAAkAwv+K/2b/MP8O/xL/LP9Y/4L/zP8eAFsAjgDDAOcA2wDLALEAgABHAA8A6f+9/5//k/+Q/6H/pf+s/7z/yv/Z/+P/+v8KACQAPwBPAGQAXwBYAFMAOAAkABYAAADq/9X/yP/C/83/4f/0//z/+//7//H/5f/Y/8r/v/+9/8//6/8PADgAWQBxAHsAfQBxAFYAPgAUAOP/uf+g/5D/jf+h/7v/1//w/wkAJwAxADcAQgAwAA8A+f/s//T/AAAFABUANQBCAEoAYABgAEoAKwAAANT/qf+M/4v/j/+Q/57/uP/S//L/FAAtAEYATQBCAEIAPAAzADMAKAASAAQA+//0//H/4f/c/+P/4v/r//j/AwATABkADwAHAAAA8f/1//f/5P/j/+v/+P8OAB4ALwA+AEAAOQA5AC4AFwALAOz/0P/I/8P/zP/c/9v/3f/z//r/AAAIAAYADQAWABEADwANAAUAEQAcABYAGwAaABAAEgAHAPn/9f/q/+j/8f/3//v/BwAMAAYACAAGAAwAEQAAAPz/CQAJAAkAEAAOABEAEQALABIAEwALAAgA/f/k/9T/yf/E/8z/1P/Q/9b/6//9/x4AOAA8ADkAHwALABAAEgARAAgA9//1/wIACAAOABsAFgAOAA4A///3//z/+v/9//r/7v/v//X/+f8HAAkAAwAHAAUA//8GAAoAAQABAPb/6//z//T/8f/u/+L/2f/d/+D/5v/4/wAACAAUABYAJQArACEAIwAhABMADgAMAAsAGAAdAA8ABgAAAPr//f/2/+n/2v/S/9T/3f/n//X/CgARABAAGQAfACMAKAAdABEABgD7//3////1//D/8//s/+3/8v/x//b/7//l/+H/4f/s//3/BAANABYAGAAjADQANAAvAC0AJQAbAA8ACgAJAAoABwD///f/8P/y//j/7f/o/+r/5//r//D/+v8GAA8AEgAOABIAFgAYABIAAgD6//P/9P8AAP3/AAAEAP7//f/6//H/7v/v/+v/7v/0//n/BAAQABUAFwAVAA4ACwANAAoABQABAP3//P////3//v8AAAMACQAGAAQABQD///f/+f/5//P/9v/8//z//v8EAAsACwAJAAoABQD///3////6//T/8v/1/wMADwASABcAGAAXABIABQD+//z/9//y//H/9P/7/wkAEwAZABgADgAJAAcAAAD2/+r/5f/i/+T/5//r//T/9v/8//3//v8FAAYACAAMAAoAAAADAAcAAAAGAAoACQAOAA0ACwAKAAIA/v/9////AAAAAAAAAwAGAAUAAwAEAAMABAAGAAUABQACAP///P/6//r//f8CAAAA/P/2//L/9v/5//n/+f/4//n///8CAAIAAQAAAP7/+v/9/wQABwAJAA0ADgAPAA8ADQAJAAkACwAIAAMAAwACAAIA/f/8/wAABAAKAAsACQAIAAUABQADAP3//P8BAAUAAwABAAUACgAQABMADgAOAAkAAQD+//b/8//s/+n/6//r/+//9P/6/wAAAwAHAAsACgAGAAYABAABAAEAAQAEAAMAAgAHAAgABgACAP3/+//2//X/9f/1//n/+f/6//f/9//7//v/+v/9/wIABQAAAP7//v/9//3//v8AAAIAAwD///7//v/7//3///8AAAAAAgAEAAYADAAPABAADwAIAAcACQALAAsACwAQABUAFAARAA0ACwAHAAQAAgD7//r//v8AAAYABQADAAIA//8AAP//AAAEAAEAAgADAP///P/8//3//v/+//3////8//z/AQAAAP//AQABAAEABAAFAAEA///8//3/AQACAAEAAgABAAEAAAACAAQABAACAP7/+//9//z/+v/1/+7/7v/t/+3/8f/1//f/+/8AAAAAAwAKAAsACQAKAAwACAAFAAYABQADAAAAAAABAAQABwAHAAMA/f/9//z//v8DAAIAAQACAAAAAAAAAAEAAwADAAYABgAFAAYABQAGAAgACQAHAAYABwAGAAMA///+//7//P/8//j/9f/1//T/9P/2//3/AgAFAAoADQAOAA4ADwAMAAsACwALAAkACAAJAAYAAgABAAYABAD9//f/9v/2//b/+f/7//7/BAAEAAMABQADAAIAAQD///3/AAABAAAA/v/6//n/9v/z//X/9f/5////AwAKAA4ADQALAAYABAABAP7/+v/6//3//f///wAAAwAHAAcAAwAAAAAA/P/5//v//v/+//z/AQAFAAQACAAOAA0ACQAIAAgABgAEAAkACwAHAAMAAwAAAPn/+P/3//P/8P/t/+3/6//v//j//f8BAAYADAAOAA8AEwAQAA0ACQAEAAAA/v/9//v/+f/5//3/AAD+//v/+//8//r//f////z/AAAGAAcACgANABUAEwAMAAoACgAHAAAA///+//v/9v/6//7/+v/2//n/+v/3//3/BQAGAAQACQAJAAIA/v8CAAMA//8EAAgABAACAAYABwD+//v/AAABAAEABQAJAAMAAAAGAAcAAQABAAYAAAD8/wAAAQD6//f/+//6//b/+v////3/+//9//7/9//4//z/+P/1//f/AQAGAAMACgAOAAgABAANAA8ABAADAAgAAgD3//z/BgAAAPr/BAAHAPj/9v8DAAAA9v8AAAgAAQD9/woADgD8//3/DAAJAP7/CAAPAAAA+f8JAAoA+P/7/woAAgD3/wAACQD///j/BQAFAPn//P8IAAEA9//+/wUAAQD9/wYABQD6//7/CgAJAAIABQAGAP3/9v8BAAkA/v/6/wYABQD2//T////7//D//f8EAPT/7////wAA9v/8/wwABAD3/wYADgD3//D/AAACAPP/+P8JAAMA+v8JABQABgAHABgAEwADAAQADAD///b/AAAEAPn/+f8IAAcA/f8BAA0AAwD6/wMAAwD0//P//v////n/AwAIAPr/+P8IAA0AAwAHABMADQACAAYABwD6//T//f8AAPb/9P/7//f/8v/7/wEA+//4/wAABwABAPz/BAAHAAAAAAAKAAYA/f8DAA4ACwACAAgADAAAAP7/CAAFAPb//P8IAAIA+f8CAAgA/f/9/wwABwD2//z/CAD7//L/BAAJAPv/BAAYAAoA9/8IABIA+f/0/wsACADv//j/CwD6/+3/AgALAPf/9P8EAPz/6//4/wYA+P/y/wEABQD3//n/BAD9//b//f8CAPr/+v8CAAIA/v8CAAgAAwAFAAkACQAFAAcACQADAAEAAAD+//v/+v/5//n//f/8//j///8CAP3//v8HAAQA+v8AAAwAAwD5/wcADwD9//v/EAAMAPb//f8JAPf/6/8AAAYA9f/4/woAAgDx/wEADAD8//z/EQAOAP3/BQAOAP//+f8IAAcA/P8HABIABAAAAA8ADAAAAAYADQAAAPr/CAAGAPj//P8HAAEA+f8BAAcA/f/9/wYAAAD8/wIABAD9//z/AwABAP3/BgAKAAIAAwAIAP3/9/8GAAcA+v/7/wAA9P/q//j/+v/x//n/BgD9/+7//P8AAO7/8v8GAAAA9f8FAAsA+P/7/xEADAAAABEAFQD7//j/DwAHAPP/BQATAP3/8v8JAAkA7v/3/wwA/f/s/wAACADy//X/CwAFAPP///8LAPr/8v8GAAcA+f8HABUACAAAAAsACAD9/wgAFAAGAPv/BgAEAPT/+v8HAP7/+P8EAAUA9v/2/wUAAAD5/wQACAAAAAIABwD///v/AwAEAPz/AQAEAPb/+f8IAAIA+f8IABEAAAD9/wsABQD2/wAACgD8//T/BAADAPP//v8OAAIA+v8FAAcA9v/3/wQA+//y/wMADAD9//z/DQAGAPj/BgASAP//9v8GAAUA8f/5/wwAAADx/wMACwDz//H/BgAAAPH///8LAPr/9f8HAAIA8f/9/wkA+//4/woABgD2/wEADwAAAPr/DQAIAPX//f8OAAAA9P8IAAsA+f/+/w0AAADy////BAD0//f/BwAAAPT/AwAJAPv/AQATAAoAAAAPABEA/v8DABgADAD+/w0AEQD6//r/CgAAAPD///8GAPL/8v8EAP3/7v/9/wcA8v/z/wcA/f/u/wEADAD4//3/FQAHAPL/AwAOAPX/9P8MAAEA6////xEA+P/v/woABwDu//3/DwD2/+r/AQACAOn/9P8LAPn/6/8FAAoA8//8/xQABQD4/w8AFQD5//3/GgAKAPX/CQAVAPz/+v8UAA0A9v8IABYA/f/2/wwACAD0/wIAEAD///z/DwALAPj/BAAOAPv//P8PAAUA8/8CAA4A+f/6/w8ABQDv//7/DQD1/+3/AgAAAOz/+P8FAPX/7v8AAAAA8P/9/wcA+f/5/wsACAD4/wQADgAAAPz/DQAIAPX/AQAPAP7/8P8CAAEA6v/v//3/9P/r//7/AADx//f/BwAAAPr/CgAOAAIABwAWAAsAAwATABUABwAKABgADAABAA4AEgABAAEADgAEAPf//v8DAPf/9/8BAPr/9v/9//3/9P/0//n/8//y//n/9//0//z/AgD7//r/BQAEAPv/AQAIAPz/+P8FAAYA+v/8/wYA/v/3/wAAAgD5//f/AAD8//b//v8DAP3//f8DAAAA//8GAAYA+/8AAA0ACAADAA0AEAADAAIADQALAAMACAAPAAgAAgAHAAgABAACAAQABAACAAIAAAACAAUAAAD9/wMAAQD5////BgABAPv/AQACAPn/+/8CAP//+P8AAAQA/f/6//7/+f/x//n/AAD5//n/BAAAAPf//f8CAPf/9f8BAP//9f/9/wkA/P/1/wUABwD4//v/CAAAAPb/AwAKAPn/+f8LAAUA+P8AAAoAAAAAAA4ABQD5/wMACwAAAAEADwAIAPr/BQAKAPr/+/8NAAgA+v8FAA4A///9/woABgD5////CgAAAPn/AgABAPf//P8DAPv/9v//////9/8AAAcA///5/wEAAQD7/wAABAD///z/BQAGAPz//f8BAPz/9v/7//7//P8BAAUA/f/4//z/+//5/wAAAQD5//n//f/4//f/BAAHAPj/+/8HAAMA+/8BAAcAAAAAAAsACwAAAAUADgAFAAEACAAHAP3/AQAIAAAA+/8GAAkA/f/9/wUAAAD5/wIACAD///3/CAAFAPv/AAALAAQA+v8CAAkA/f/8/wkABQD1//n/BwD///j/BQAFAPP/9P8GAAIA+f8EAAcA+f/5/wsABwD5/wQADgD+//z/DQAIAPn/AgAOAP3/9P8FAAAA6v/1/wcA+P/t/wIAAwDt//b/BQD3/+r/AQAIAPT/9/8IAP7/8f8FAA4A+v/8/xMACgD//xIAGwAAAP//GAAPAPn/CAATAPn/+f8TAAoA9/8LABQA+f/2/xEABwDv/wAACQDy//H/DAAFAPH/BAAOAPP/8v8MAAMA7P/+/wwA8v/w/w0AAQDn//r/CwDz/+//CgABAOr//v8MAO7/6P8DAP3/4v/1/wQA5//k/wkABQDm//j/EgD4//D/FwAVAPD//v8dAAQA9v8YABoA+f8GACcAEwABAB0AHwD//wYAHgAIAPf/EgAYAPn//f8YAAYA9v8QABMA9v/+/xkAAwDt/wUADADw//P/DAD9/+n/AgALAO7/7f8GAPz/6P/8/wcA8f/v/wUA/f/q//3/BQDs/+3/BwAAAO3//v8GAO3/7f8GAPr/5f/5/wMA8f/y/wgAAADu/wAADgD9//3/FAAMAPX/BQASAPf/9P8OAAcA8/8GABkABQADAB0AFgACABUAIwAKAAcAIgAYAAAAEgAjAAcAAAAbABUA+v8HABkA+//u/wkAAgDh/+z/AgDt/+L//P/2/9n/5P/3/+X/2v/3//b/3f/p//3/6//f//b/+//k/+//CQD+//L/CQAVAAIABgAaAA8AAQASABgAAAD//xEACAD7/wkAEgAEAAUAEQAGAPv/BAAGAPf/9/8EAP//9v8BAAQA+P/5/wQA/P/2/wcADQAAAAIAEAAHAP7/CwASAAgADQAbABQACgAVABoADAAMABgADAABAAsAEAAAAPr/BwAEAPn/AAAFAPr/9P/+//r/7f/y//f/6//o//H/8P/n//D/+P/s/+7//P/7//P//P8JAAAA/P8HAAcA+P/9/wkAAAD5/wUACwD9//7/CAD+//L//P8AAPD/7//9//j/7P/4/wAA9//3/wgABgD8/wUADgABAP7/CwAIAPz/AwAMAAUABQAVABQACgASABoAEwARABwAHQATABQAGAALAAMADQALAAAABQALAAEA+/8CAP3/8f/0//r/7//q//b/9v/q/+3/+f/y/+3//P8AAPX/+P8BAPz/9P/9/wAA8//y//z/+f/2/wAABAD+//7/BAABAPn/AQAFAPv/+v8CAP3/8P/2//3/9P/z/wAAAAD3//7/BwD+//v/BgAHAP//AwAMAAUAAAAOABAACQARABwAFAAPABoAGwATABMAGAAQAAkADgAMAAIAAQAKAAUA//8CAAIA+f/3//3/9v/v//b/9v/r/+r/8//v/+n/9P/5//H/8f/8//b/7P/4//7/8P/w//z/9v/r//f/AAD0//f/CQAHAAAACgATAAkABwAUABIABgANABcACwAGABEAEQAEAAYAEQAGAP//CwANAAAAAAAKAAMA+/8EAAoAAAADAA0ABwABAAYACAD+//v/BAACAPr///8BAPb/8v/5//X/8P/7/wEA+f/3//v/9P/q/+7/8//s/+v/+P/6//T/+P/8//X/9P///wAA/P8DAAoAAwD+/wMAAwD9/wIACgAFAAUAEgAOAAUABwALAAUAAwAOABAACAALAA8ABgD//wEAAgD8//3/BQACAPv//v/7//D/6f/s/+n/5P/t//L/8v/z//T/8//u//X//v///wUADwAQAAkACAAIAAAA//8DAAcABAAJAA0ABAAAAAUABgACAAQACgAJAAoADwAOAAwADAAOABAAEgAaACIAIwAjACgAJwAjAB8AHQAaABwAIgAgAB0AGwAUAAcAAAADAAMABQANABAACgAEAAAA9//u/+3/7f/r/+v/6//j/9f/0f/M/8j/yv/N/9H/1v/c/97/2//b/97/3f/e/+T/7P/x//j/AgAGAAkADQANAAoACgATAB0AIQAiACIAGgAPAAsACAAKABIAGQAcAB8AJAAjACAAIwAnACoAMgA8ADwANAAuACIAEwALAAUA/P/4//v/+P/x/+n/5P/c/9L/z//L/8X/w//C/73/tf+y/67/p/+l/6n/sP+9/8z/1P/Z/93/3//c/9z/6P/y//z/CwAdACkAMAA/AE8AXwB5AJcArgC/AM4A1gDUANIA0QDQAM0AzwDOAMMAtACmAJMAegBqAGEAUgBGAEQANwAeAAcA7//L/6X/h/9o/0v/PP81/yb/Ff8L/wD/8f7o/uX+4f7g/uD+3P7U/s7+zf7O/tb+6/4G/yL/RP9m/4D/mv+5/9X/8P8TADgAVgBwAIwAnQCmALYAywDfAPUADAEiATIBRAFWAWYBcgF3AXUBdAF4AXUBYQFIAS0BCQHmAM4AugClAJkAkgCEAG8AWAA7ABEA6//H/5v/cP9M/yb/AP/g/sn+sP6f/qL+qv6w/rr+x/7M/sb+yP7H/rb+rv63/r7+v/7N/uT+6v72/hX/Nv9a/4//1f8TAEcAfACgAK4AuAC/ALoArgCyAMAA1AD6ACYBUAF7AawB2gH0AQECAALnAb0BhQFGAQYBzACmAIcAbQBjAF8AWABQAEgALwAFAN//uv+Q/2f/PP8O/93+rf5//lT+Nf4o/iT+JP4u/j7+Vf50/pf+tP7L/t7+5P7d/tL+wf6t/qf+tP7V/gr/Vv+1/xMAagC9APsAGwEtATsBNAEkASEBIAEfATIBVAF1AZUBuQHdAfcBBQIOAgsC8wHZAbwBiAFUATMBCQHWALUAnQByAEQAIwAAANX/vf+1/6T/j/+H/3v/Uf8f//z+xv56/kX+H/71/eP98f0F/iX+XP6b/tT+Bf8r/0T/S/9E/z//Of8t/yr/Ov9R/3X/sf/3/0cAoADtACwBYgGHAaIBrgGeAYgBfAFjAUsBQgEwAR4BJgEyATMBOwFKAVcBaQF6AYUBgwFcARoB0wBnAN7/Yv/y/o/+X/5R/lD+dP6u/uT+Gv88/zj/If/m/oD+FP6b/Rb9wfyb/Iv8rfz2/Ez9xv1J/qv+AP9G/3L/m/+n/4T/c/9//4P/kP+y/8//AgBaAKwA/wBwAeMBXQLmAlYDtgMJBCIEHgQNBLgDUAMOA8ECfQKAAp0CyAIqA58DAgRRBGYEPwT2A2kDqwL4ATEBYwDa/3X/D//j/uL+4/4K/zz/O/8b/+f+kf4t/qr9C/2I/BL8nftU+xX7yPrB+u369/oR+1j7lfvd+z78kPzW/Aj9Iv08/Sz96PzD/LH8kfzC/ET9vv1p/l7/MwDuAK4BNQKKAtIC2gKoAmkCEwLRAcgB0QEVAqkCOwPgA7gEYQXOBTsGcgZtBlwG+gVPBc0EYQTtA5oDQAPjAs4CygKtAq8CrgKXAqcCoAJWAhMCtwEgAYoAyP/I/vP9PP16/AL80Puo+8/7SPzF/Ez9vP31/TL+O/7P/VP90fwT/JT7ZfsU+/36dvsY/Nz85v3l/sr/rwBwAe8BGwLuAa4BaAHrAIIAUAAPAAEATwB5AJAABQGXAQkCkgIcA3QDrAO8A3kDuQKEATkA7v5x/Sz8ePsJ+/X6kft0/EL9I/7j/kH/Yv8v/4H+hP1e/D37RPpe+cD4uvgw+Rr6jPsh/aL+PwCpAXUC0wLaAnUC+AGSARsBuAChAM0APgHYAXQCSQNpBJEFtgbJB5YIQQnOCcIJ/wjTB1EGuQRpAzACHwHKABoBrgGhAskDxQSlBUwGZQboBb8E8gLtALv+T/wp+oj4ePd293P4vflT+zj9vv7Y/7EAvQDw/9v+ff3P+yL6lPh19yr3f/dB+Ej5QvqQ+3H99f7P/70ArQFMArwCgAJLAe3/xv6p/Z78jvvf+jX7RfzT/e7/xQExA9kE3QVgBT4EkgL3/139CPt6+IP2qfWp9fj2S/nB+8r+KAK1BLYG0gfJBrMEpwLP//j8dPt5+j76pPs0/S7+tv+1AecDhQZBCIwI2whMCVIJXAmzCOkGkAXcBMQD7QLKAusC1QNdBVEG+AbVB2IInwh0CB8H+wTNAkoAbf2a+tz33/WS9bb2v/iR+8b+xQEfBGwFnAXlBGwDcAE+/+L8cPpg+F/3dvcG+Pr4cfrf+z395P7s/+H/1P+y/8f+2P0R/er7WfvK+zP8lfxM/f39zv5//3n/qP+CAAEBSgF9AUQAHP5v/EP6Tvcw9cXzqfIZ8870mvb2+Ar8Rv+ZAjYFkAZ2B7wH6waxBcwDIQFk/6z+t/1Q/Qj+x/7q/ysCXAS+BecG0QcrCBgIiwflBlIHHAn1CsgL0gvCC+wLQAx0DFsMAAxtC8sKHwrxCAAHuwRrAvX/bv3n+mL4ifYK9mP2HPeV+IP6dPzk/vMA9wAuADMAo/+x/Xr7HPma9tP0vPM38+fzjfWC97L54fvC/RP/m/8uAFgB5gGqAQwCvgKiAnICxALeAscCFANgAzYD6wKAAp0B2gALAVUBXgDB/qz9tfw4+4n51Pdj9iX22PYc9xf3CPjA+fT6VfuN+5v72fp1+SP4+PYq9k/2I/c0+PP5Ovwv/hgAVALNA28E/QWICAEK/wknChkLwAtgCwELUgwvD1QRVBGkEFcRuRKWEh4RXxCZEEMQ6Q6DDZYMogvzCRQHLwNt/838F/vq+XL5mfk9+kn75vs4+7L5U/gC9/f0sPKG8SXxnPBk8D3wYO9W75vwz/BA8PnwGPIe8730ffWg9ZT3Jvrb+7P+7gLQBqoJnQq1CmQMmA3+C0cKiQl9CHQINAm5CHsI/QiUB9QEsgJ7ALn+rf4U/zn/2v8nASMDfwSrA1ACvAFNABT+7PvW+MT1LvSD8q/wffD38PLwK/Gb8WTyA/Ra9c31M/ZF9xz6gf4gAicFtQmCDuoQ8hAuEC8QmRDUDpoKQAccBxsJNApjCU0JzwqbC5oLlAu1ChgKgQrbCZ4IzAh3CUMKYQs7CzgKJgk9BuYBCv4v+uX28/QB88nxK/L48YLxhPJq8yD0pPVk9T/zu/IM9A/2ivjI+bP69P39AHAByQF2AuwBcgBT/TD5bveg97/32/hO+hX7uv26AX4DfQMkA88BaQDu/w0A/wB9AZIADQEIA0QC4P5G/Lj6c/m+95P0LfKS8tHyoPE38kP1evgU++38bP3H/CD8lPw5/sr/3P9e/+AB0weIDLQO2REfFR4U3g5TCqYL7hAIEcAKPQjmDLcRMBMtE0ITDRRTFA8TRxKbEisS/BDcDk0KhAUFBMIEkARPAiL/avz8+Ab0O/FE8kbyCe8e7XPvKvNB9KnyA/Iy85DyqO907pTv8fAl84L28vg7+p/7E/2N/ob/1P40/n3/BgBs/rb99f4tAGMAUQBHAg4HwQr2CloKKQr9CJ8GQQMSACn/H/+//Zj8ifwG/Ib61vep9CzzvPKx8VzxovHp8FfwnvAX8WnytPPZ8y/03/MB8gPymfSA9i/3c/d2+M77T/+aAtUJQRG3EO8KvgfACo8TkBp8GAMTGROCGTAiGyZUIrQesR96H9ocXByVHfIcfxjbEQ0OCA6pDTkMbgtKCpcHpwMXAMb+YP4x/DT4m/NQ8FPwrfHC8CXtfugL5Tfj4eBV39Xh1+Wm54HoMequ7JHuUe5U7rjwVPJN84H3Ovxf/eb86fwR/k8A6wAKAYQEIwcNBbgDkQTxAn0A1wCkAv0D9QNDBFwIXQx0ChgHfwYcBFn/cv0R/7EACf8r+jP3Cfh098/zBfGu707uK+7c8Kv1ofnE+ab3offl+ev8XAPDDd4TxA58BMEB7goRFvsVzgt/BREKGhNkGF4XChOYEKwQWRD+D24R7ROCFs4X/xVMEwgTihP7EXgOzAm8BUYEIAT/AgkARPo68xLvDe7c7X3uQO+D7tTsBOsb6nbsz/D+8h/zNvQI9+P6yv4kAf8ANP5C+h/5Svx0//f/8AA1A+sDdAPOA5MEKAWmBGICwADEAOIANwIBBKcBC/yr+BH5Bfs6+zj4afT+7yXqf+dg6SHpSeTO32ffbOI45VLmL+iY6avnE+YX6U3vyfWr+bj5Rvn2+pr+mgUFD1oU4hB0CPsFDxEeIg8piiIRG6sdISjtMEIzQDLBMbox2TAIL10tYiweKwco8iKCHdgZdBcHFEAPfgkgAjH6O/Wx9fv4tPci78DmU+Xr517oPuV94TLfAt1J26bcWt/638Leldzd2gbc2t/U5IPodeaj4c7jnOwf8yX1hfY6+vH/CgXjClkTSBh8FfUQZA6ADG0NgRFEExMQuQqPB7gIBAoZB+cCnADC/pz9jP6P/3f/ov5S/P35sPkL+hT6DvnD9Gzw2PFG9mT3g/Ta7/jrP+vS73j7kgixCWT8Z/Ft90QJMxRZDl0D2gOfD4Mb3iBqID4fIiAWIIocFxgAF3IaPB1sGX8RKgv+BosEUgWWB5kGtADu+rz8vAMnBa//D/tM+Zz4wPlj+6/6wfbv8BXuk+9s76PsauzD7A7r/+yR9PP7Pf7d+RzzdfHk8yH2Pvl3/Cz9if04AGAE0wfcB9wFWgYUCHAHMQbIBf4DDwA7+ub0ovNA9UP2T/ae9n32PvUG82bxCfLB8vfwh+6Q7tjw6fLf8WruC+yS6wPrP+ql6obqJurr7df7oBJWI4gffw2ZA+APsSpQO8cyxR6iF+Qg0yvYLLskTB8eIYUi1iDzIU0laiWZIDgYWA/CB4MBu//eBDoIxwHU9hjxCfR/+QX3les74lrihelH8dvyyOzo5PvgneGO5EHm/+Zh6s3vVPSn99X7QgELBi8G1AAN/CX9mALUBqkFdgCb+zn4O/fs+CP7ZPzd/DH95v4iAjoEMAW8BfcCOv4e/VH+T/7C/LT5cPb587DwXe0C7T7s0+ig5wPq0ux97sTtW+xm7U3uMO0S7Tfun+wg6v7tQ//zHO8ySiwBEf8AqRE4NmtIWjbJGY0SeCD2LNQpeBsHEo4SYBSMFFIXZh3iIockLyHKGoQSaQsxC44QORHyBp72hur26SnuYep13h7VwtaX4p3vpvTo8kLxMvJE9ML05/FW72XxuvWy+cr8Fv8LAR8C7//h+Xr0NvTd+GX9CP4//PH6ePqV+nr6O/mJ+Mb4ivi1+KT6v/zp/fv93Ptl+Hb1cfMv8knxHu8q64PnFOXk4kTgCN8f4jHpsPCN9m77Cv9vAjEGoQhGCNQEnv7p9rzw9vF2BWYnhjrXJ4kDJvtsH5VMxFH7MOwXeh8GNak/JDnUK6MiDBxVFRQTExabF+8VNRHsCNYA9Pu++l3/ngSu/9rxUOTl3jfl8uzm5RzUYMkozR3bJehW7b/wXvXm9H7yVPT59TX1CvMY7hnruO6J9KP9Nwn0CMH7H/VL/moNdhb7FC8QNA9+DrULnwqVCRgFIf/I+af39/nZ/Lb8ZPh/71DnsuV46NLq/ekV5+XmzumP6pHoq+Vb4sHhDeRr5WDnCOxm7zTwyPAk8uDze/N/7u3mc+PA8pcaRj3wNZUNn/VTD/hFD2DlRJkclhXDLZxFTEnTPCYwHiqRJlcj/yKsJuUpBSVFGJILAQKP+4D79AAZBCT+//Dx6XLybf8K/3nvLt2r1r3fWOtN7rrt8+3K65Dqde4788X1J/bJ8q7vrfNi++QBEQgmCZ3/jvRw9H795wV7B9MEawMPA3oBDAAV/oT6gvjn97P2v/Yn+H/45vd38mrmhNwi2pHagtof2lza/97h5Vbp3+rq7d7xaPbW+V35E/hr+Pb3IvbI9GDzU++853HgbuAx8IwW6EIiTrItfwrZD408O2M/VyIn/AsUG683akZBQrs1LS6BK80npifhLREylyx+HBEIhvi27znq/ugN6s7l/9pE0sXVEOXY8BTrztk6z1fVEuZH8jvyEOzP5qvj9ePy6MHua/GY8LfuE/HB+oAGJg1jD1IO8AfVAZYFFA+PE78S7BBGDx8Pyg/GDpMOoRAcENcLEAnSCeULugz6CLf+E/IV6rfoEOlv5YneVtk02LPZrd3H40zp4Ouu65vrse6P83v14PP172LpwN+i00DH4r+txVrjdhaaO/kuBgN48tAZilY2aiVCixBHCzcrCUa4R2I6SC/dKpYnRCWcKQQyAjWCLQ0ejQ6tAl/5afaw/M0Aife65pHdLeZT+Av9LuvE1XbTVeZ5/I0DafzD9IH0A/mj/EP93Pvi9gTvf+v87jr1pvq0/e//jwICAbn93QLRDQIV1hazEpoKFQehB5EGjwWPAxX9effs9nn3dPdu9ZLuFeXh3LTWzdRa1xTYF9Wz0QPPQc6z0XvXDd5o49jhN9504yXudPUC+S74IfPg7HviA9bO01/m2BCeQP1LEyX4+ccBYj1TcUJnazJ1EyAmgk2pYhlabUbeOGgwTiuIK8ktXyyTJCcXbQxwBpX9U/Su9Bb9QwAh9nDkFN3P6IL2IvCV1/rCwcV23kb0T/Uh67/ku+b17n31f/T17ZDl0t/y4T7pLO+W8QHwY+5H8jL5YP66BCYMWBBPEhsRVQ3dDDoOowxfC4AJnAOJ/tP8ofzW+Vby4Ore54Xm6+O947/ocu/V8Dfty+lF6KXqOO7b7Ozo6OaN52XtevQl9q72V/WQ7E3jmtxQ1xfeWfokKhBYrVl7KdoDxBpfV0Z2SVSZFaT86RmoQ1hWFk0qN28nciTCJworris9JJcSbACu+Db1EO8h7vX2awHMAnL2oeLq3PXsUfVm41PH0rTluwTbBPSS9UXrbeP85pLyu/bk7tDjO9xB3bnnYPXVAgYPuhQqER4MOw2MEHISkxLFCrL9FPk8/tkFGgzmDQ8M1wgEB9QG4gOM/mH5AvOI7MXqF+p06YPtkvAU7xLsiOhN5qXjr9zB16DXLdeA2fPee+GL43zoM+g23JPM6cF7v+TJJORREuFMnHDsXCEpShNyNgZoFGUcKkbyjOhPCzk5akjqOVIqJiEXIwovUjlTPXs0VR6MDeILAQ9IEQ4TSREWDcAG/vUW5G3l0+5m6vDZJsgBxJDbrfunCNEFXPxl8obxqPNU7w7oyd8P3DDlzvc7CV4TuBVGDSkAIvnm9L/yMfO97kvmWOKU5k/v7vRC86zwRvIj9Y73Sfde9N30HPlN9i7vEu/z7dLqA+0F7KbkKN8C3MLakt9v5efo6uup7sn19P88BI4CbAEJ/krzCebO3tDjyvegG2hJiG5DbjhEDxuhG7k9J0/ZMGb9p+LZ8xkb3TUBN/smFxZqDsgOShTYG3Ib8RLFDPkKlgw9EO8Q0ArFAHv1fuEuykLEds6k1W3Rhcduw1TRrfFJDtsT6wZ/9m3umu/V8qry9e0j5/rnpfYCCTMWuRoiE5cF0/mv8tbzUPzMA+cEJgEQ/lUALAYpCxMMVwhrAlv9KPwtADQI2Q7VDGgETP7V+3L7TPpT9ZXqjNtf1JjW0NzN6J3yne+J5fzjLes98Uv03PTe7dbeW89QwsTF8+I4DCM5S2JVc9Vb3yxRDV8SaygYJJL7otQ71nT8KCq9RgFEiy2nF8ILeA6mGTcfVRzyFxwW2hqFJMwqfyYzFGX80+Z+08bJ6s6p2P7d5OFH5EXpDv4KGPEdlg4f+BvmNeF46RT2D/7y/jD9YwC4CncUMRRWCcT8o/F66ebotu2F9W/9KQF4/9X8yvo++Er4Qfc39RL1rPUh+aMAYAegBjwB+vt99nDs/d9R2uvYOdd+2CXbEtyS4yrxCfmU90bxCu497/XyQvfN+IDwS98V0AjNkuRQDu01CFp2dsh2m1PMJfkHbgeUEx8LY+953ZrrMhR+PTlOdkFBJvoMhQSsDVMZ8R1KHLkWDhKEFOMaGxqHDR34Vd8GzPXDPcej0Kra2uRd7RHxtPQlAaMOLA7uAYDyPOVs4yLvePwXAgcBlP3Z/JkCzwZ8AjT68vKy7t/vsvjKA30MEhEfDyIJ7AK/AA4CTv8O+kT7uwBIBbMKWA1jCbEE8v549ljvUOhr5MnlceYi5yLrcOw/7GDxZ/Xa8+fuvOrq6pbtjO8r8ODqq9rXx4C9g81k/DcwQ1eAcOZ1tF5INhgQYfx//a/6aOd21QLdnQGBLWxGuj9bIp0ENfo7BYsVIh8uIdUfcCHlJbopOSVpEmb3r9yWyI3AF8dM1FjgoOys9x7/pAIYBvwM9Qwy/y3tr+K/5UT10AVkCuIEoPvV9JL2Dfwb/cX3CvJE8r74WAN6Dl4SZQ7aBrj5Ou3p6hTucPCW85/2Wfq6/9AClAYWC58IRf/t8zzscezG7/PvXe1u6zrt2PBA7kHpOOoT7F3rJusN7dLv+fK79Kzw5uFNzV/Co9Ax/aoyWFlgbr5zzmP0PjMTKPNw6cjngN4Y1e7bx/m2IVo8dT00Jy0J2fin+xMJkBeeIXgmmSh3J6Aj3RxJC/PwINfuxGjAvMkz26TrwPfAAWQIPQidAqv/f/8P+xnyPutE7on6CQsSFvMSFgYC+ezz+fg/AewC2P7n/dkBEwc/C58KSwMt+pXwmub249Pq/fQU/8cF6gWBAywCWgHBAhoCNPtf8zTvF++P8cXzUvFp7A/pI+d05KfhG+Rk6SHuAvJR9YH4tfim9mbzveg61QnHY9Hv+3M152Apc8FxmV+qPGoP3OlR3F7e5d+64TDqhQBmIvM6Wjw5J40HQvMK+N4KRhx9KWIvGy+/KSQgTRM7AafoE8/HwmfGZNcM7wEAgQbaBtwEiQA3+XHykfL89pH26PKf9owAWApaDuME0PTc6HDltO7I/8MKTw2gDCYJ6QXjARn6A/Kp6zPmkOQL62b3twM7CwMMXwjOAm39TPsh/Cb9GPxm+H72HfiA+hn8kvlr8xru0Owd7hDxafcW/Dr9lv2j/bn9bfzn9rbwF+pl25PMZdLI+Qo132PBc3drVFbDNhMPlemF2dPbVOAi5fzsB/+mG4Iz6zWpIBX+N+XX6Mj+hBTPIzoq6SXNGt8MR/7P72Xd6MhDwIzHYdqt9BgI+Q2+CmADhfza9Wbv4O3t8tH3LvlU+yMBMQiECiQDIPZW7THuBfreCpEWGRoFGOcS9wwlB7wApfla88Hv0vDn97oBnAiaC3kL6wfJAln9yfnL+yYAiwCo/QL80vyq/lT+zPnC9ITxkPBJ9KD5C/y3+3T4ePRl88Hz/vJo78/q6eVa3ArOcMlE6NQmKl/JdRhtxlVvOAcUO+xf1u/Wqdt14STpYfXEDPgnGTRcJs4EiuVO4n353xRpKOox3i77IEcP9P4c8fTjE9Uayu/O0eNc/gMRFRPYC6YHOQduAhj6CPdz+xACAANo/7UA/QYAC0YIo/+u96z4ngLqDk8ZyBqGE2sLggR1APr+bfx++RX6ofrd+Ln5Q/w1/aD8r/rP95T2qPWs9S38LQT5BKEAb/xU+dH2q/Ae5xji9+Q37Zn1JPmP96/z++5R7KjrMOrh5xnmEuVY3ifOa8Im2FQVH1e+eSR49GJkRr8izvcC2OjSLNvS42Lrc/RwBy4kEzjHNKkbSPtP7dn6OBRfKJwwRC1TI6cXgQqs+/Dry9yD0XXQ2t+c+mYQHxbmDhkGcwJr/9342PVN+jcA+QJOADz9Xv/9AAT8jvLe6Vvoe/IHA+cRuRifFQAN6gNc/RP5wfTq7gjqyOmi7aXySff1+cv5jvd48+/wB/Xd+xQAvgG6/1n7Gvcu8zTxx/H18bXxEPTF+E/9MQD1/3f8XvjR9Fjzc/Tj9ev1h/WK8ovmmdcG2DD6wDUiZYFyCWnnWLhA3Ry19TXdVNr83zXmAe7Y+WIO4ShUOdAu2Ax174PtbACRFbMk3Co6KOsdtguU+g3tbdxSy2HDC8yO44L9dQy7Dh8Is/5a+LLyB+yT6dHtKvWF+aX3R/f0/UADRv+Q9Ajs+OxR99gGARUYG7cWWAw8BIYBYv8I+oX12PO28+r2mP2fA5sGzAbUA8D/xf6wABMEGgjxB1sCWPww+Z358vyW/WL5efXX82j1d/oI/qT8F/kp9c3w+e4o8Njxu/PZ8uHpuNndynHP3vjYN31lwnDfZAZOXy5DBmPe4shHyWbT6OB6707/zRYUMqo84SmmA3rn2Oiv/s0XWiq5Mckt1yFDD8/6/eir1yTHnsExz03qage+GjgfVRkWD8cEjfwr9ovzI/gRAl0JxAmECIMJdgiNACvz7Oia6dz0CAj2GjYhYhlhDcMEwf5z9/buaenB6HTtPvYaAG4H3whLBDX7SvJg7kzuNfE39yH7uPi48Qnsq+ug7Vbu9uzb6oTrnfFv+uMA4wKxAZz/TvsI9+n02fIM8eXuwej72j7ObdaaASlA0mzOdoFqllYVOzoVKuw309fR6NvE6Fb0uwEwGnQ2TkAqL6QO/PRm8x0FRBk+JQklcBwqEoQGvPgE6nrancqxxH/PZ+UR/kEO0hAYC1UFrQHK/VH5SvdX+7H/6Pxz96P3D/xv/Sz5pfCO6qLr7vMqBnMaOiCpFswL7wZUBWABH/oU9ZjzGPTP98P+iQVtCksLeASZ+5P44fkD/RT/5vxq+MX09PK/8rL0ffc2+uz5Cveb9yz79v5I/xn9m/mc80XvTu4o8OXw6u1k5AfTKsP/xK/rNiw4X21vC2g8WTw/FhVh5U7KMMy61/Ti7Oxl+0kW/zQPQaYuLQny6C/l4PkVEX4hDSq6Khci5BGkAMHxA+JT0CbJ8tPS6f8BYBTLHJMb+RPyCKL9XPZD9M73Y/1v/kv8r/8bCpAQagxY/+bxIe3+8SABdxPGGT4Sswl0BAD+4fbC8V7xVPOj8srxbvW5+6MAvQLZ/pX2lfHn8ur4dfxF+BXzkfL38WztFOmx6bLtge+f75jzUvpDAFUCOwDz/S76pfWR9D32UvUw7yrmkNo20MTRpO8iKMhatG/0bNRfgEYfHrHw69IK0DTZF+PC7sP+0RcKNedD2zbFFBf0oOpW9loFrBJHH0skQR1RD1UB8fPm4TbNtsKAydHbjvInB/4T5xk9F3YMJf9w8xnuIvG19vn2tfX/+tIFQAzwBqv6VPFx74DzGP55DFwUehE5CvQFDwWiAWL6m/Re8cjubO+c9nUBJQptDoQOPAvsBcD+Jvl09zj2t/Ri9f334PmQ+vD5GPnZ+In4gvku/d0CnwWvA9UAPvxI9u/ylvIL8zHw0Oin3aPTR9Ig5HoPoUHkYb5oFV/tSNEjifYG01nJmM9w2E3it+96B6UnLT/XO0QfiPwT6frrsPpyCjAXDR7KG5wSmAfU+u3qytlPzQ/Nrtqu8JYG3xTqG24dFRaqBpr4dfYs/pEDRwDc+1H/jAc4DSQMWQSY+abx7e/J9a8BDwt1DS0O9w8ZD98ItwDQ+YTxcOii5LPpf/On+18BFAbDBsEB8/qg9XLyQe5c6cbp5e869IX28foL/qv8A/j39JP14fc1+Vj6dP2d/Qv6tviL+VD4IvS17srnSt6p1KHZi/6NNYFfmnA5cHthCD77CkjfFdJh26rk5+i57ff8FhxOPSFI0jPDDbTwZ+ya9iECQA/GHJQicBwKD0sClfRV4jHQ9sZ1ymLX5OrLAA8TnhybGu4OJQFw+Zb2afKU60flTOaD8dYBqA5FEsAM8gEd+NXyV/Rz+qz+iQLkCSARWxPlDzUJ2wCY9RXpE+QA66f3PQXKEIsVIxLICacBsvxA+K7wr+qC7Jfy9ffs+9X9df1x+0z53vej96n5Df3C/sz8Lfn29xP5WPik8iDppt4q01TJncoT5hEZYEn1ZWpvZmc1SJ8XA+sZ2CTbs9po1VLbWvLgEyM0n0WPP88l5wep+Gn5cf63BCkPBRq7HjsdBBoDE9YCO+xg2XzRD9Jy2lLstQMNGBsiOiF7Gn4TNgpO+i7nGNiE1CHgt/MXBEcMpg1SCXIAxPUw7gjupu+H7+PxEvmnASQFUgLS/FP2su0b51ToF+7x8xX78wEBBfkDdwHT/iD7QPXD7ZjpGOml62byAvyEBPgI6gp+CuUH6gPs/zH9hf3x/pAA0AQlCY8JsgQJ+7zqWNlEz0fZAP5eK0NPjmWpbQNfLDoOD570wPAE6mnXO82i2xj+NCQvPW5A/zDMFwkAP/H+6r3rk/LW+/EDHgmhDJkMkwaM+nPrld5A1SfR69Yz5tn2QAEoBW4ILQ7bEXkLWPzn6+rgE+CE52PzHwBhClQOiQ2ZC48JUAiPBSgAZfsS+c74kfuMAZYI3QyADAMKtgcPA/P8+/sV/1QBiwN/BkgIQQelATf4Su4n5X7f0t/b40PqwfNV/VQDkgPU/2/9mfk68RHo+uKq42rnveoT7JTroeTU2LzRFtaU6u4Hpia1RMBZeFi6PR0cJgmoCmgKs/km6APna/ucGWExOjprNpEqKBx9ElwNeAt1DCEN2gy9DBMPixP4FZcUsQ+lB3n6I+y75V3o4Oxq7iDwKfeXBOMSjRhOEsICMfA64w3dtdv13+3obvJD+fj99AKOB/gGRv638Ljh3dZS1Z7bAudH8lf7kALqBvkG2gR8A0AAUPrQ8xzvkO6g8hr55/2z/o/9Lf3T/d79Pv0o/c78+PoB+Z344fsCA9kJvAyaCo8GtQNKAz8AA/hh8H/pnORE5Fft+ADpGpU4+VCHWJFFoCbBFaAaJyL1E034lubK68D/ZhMqHokfEhsQEs0IDAL7/Wn7ZPjp9PTzh/Y0+6kBLQkgDVkIIfnW5Vzbt9tw3dHbr9rt3cjnUfawAkoJxAmTBbAAxPy9+Sf4Svhf+TH7f/07AOgF8AxfEQsQzghSAfD+cgBqAfsByAKCBHwHbgrEDokT3BPbDbYEqvtY9ZXydfII9Xn3KPh1+fj7Kf6k/mL6aPFt6b/lN+UY53Pr/u5q79PsuOkl6FborumY6VvnzOHK257XP9jA4GzymxATMqxCJjdTIrgd9Cw8OWUqZwrd8rHymAJ8FEAgIyYjKEMkZCHkITohixwrFPMLQQebB1kKCRERGu4dMRvFEPkBTvfJ8qHu6OfQ4Jvb09zG5aHxO/3KBd8IxgeqBIoCfP9h+Yfw9efS41Dk1epT9A/8k//L/iL7e/f19jP3WfVy8UPtnusZ7xT3qAATCDIKdQdZAzQAJv6b/Mj4V/H36ZXld+aw7KjzYvgT/DoBYwUpBowDqv6/+frzl+6j6xDqCOxs87v8HgCS+3L1/O9z7sfxkf0dFvsvlzXZI4AWzh84NoQ+/CzrE3YJ+A8pGJsbbhn3FbIT2BDYEFMV0hu5HGMYCBH/BlD/x/m19Xv0XPVa9GPxMO9n7TvtKuz65h7i0OGx5GfrnvVK/Kr9qP2/+p33lPmP+4X7O/rg90j3evqIAXoGiwdRBYABMP/H/rgAbgBj/mH8D/wf/q//1gOaCYMNGA2wCY8FJAGc/GX07+vn5nbkVeVY6mryofdb+H/4Mfiz+Gv5cvbi8rzxTPDu7sLu5+y764fuB/DU7I7o4eNq4LvivO02BKUfgyuDH9gSjhquNt1NKEeSL64d8htWIm0l+yEvG7EXNBX4FjAfqSdxK0Yo2R+vEzkHAQAw/fv6RPkL9cvtX+ui7B3tSvBF8sPwXu9W7y/yW/ZO9Lvn1dod1nXamuVr7gfzQ/nZ+zr61PvA/UoALQDk+U70ffOX9pT5dvpn+GX0dPN0+A//yASICNQHeQaiBEP/avj99Yz2pPYX+Qz7YP1bAdsBNf6n+Gn0XfH97gvwrvSq+y0A7P1L+Yr2FvZi9THzBfA87FLqVeZM4bLkOvR0DF0kGyySH3YaPy3hSt1cg08nL+AarBoEHhMdFRgnEMIOXhBGEV8ZgyEpIyUjMh3jEBgDYvZ58EDutegW3urV09f736Xqg/AH8L/u3+ym6qjonOj55W/gEt+B4fXoKfW5/WIAGwR6CLYJLgsaDUoMVwhyAMj46fkyAYcFUwSdAUkB1wOoB3MJ3Qn+CMkDbf4q/Ef6m/jq95z5E/wy/Gr88v2d/g3/lPqQ8BfqKOI73TbjRuku8Of1jfXc9nn4sfXv847zj+9a6ADgkdpy3EXsBAZ2G5AhvRR+CysZhjYeTcJIjjPGJC4mZi7uLzEonhnVC28HnwwaFvEfkSL0HMoXeBNgDKEC7/k/8xjvr+tP5SnkrulH8MP1avWM8sLwJe8i73HwKfDn653odOvL8/r8GP6h/FYBAAeiC74LZAW2/1L7wvOy7l7w//PJ+xoE5gYFB+oDsgCfAV4Bovs/9ZzwjO0L7bDrL+ud7pfy+fNo8yL28PmZ+ir45O7Y5BPfkd2y4jnptu/89e352v35AP0BvACg+wf2HfB96gPq8u2D/AUSxSAZIlsaAhtHKCU88UaxPSowoys5MTI9ZkKDN4sl7xh6E7ASyRVxEWIIqweOBa4EEAUQ/uP1fe+86gjniOb651/qDPB/9C73Mfo4+Tf13PCk6fHimuGa5gzvqPm7/2r9H/5QAOIAGQRtBKH+gPl69nzztPbx+of7e/7qAZsDswOKA10CnACv/ST1TO7w6xLr9Oyy7LfqAO0E8yT4Bfse+tn0MPBZ7AXnrOQc6DvtE/IW9bn21fZg9wX5iPYf+Mj6gvqS/Lb7bvl8+Ij+IwrzFcsbuRfiGOAiezIDPpY77TOQLRcthjIiOTw6xjPWKZEhLyHGIeQaFgyy/f33DvrXAEUD4v/W9+fsB+dQ5UblTOZk6DPs1/GX9tX3Dfky+u/0heq847viEeuD+ucDywXLA679APox+5j5/vZs9JTwNPJi9mz5F/1J/XP6ofg890X4VPwI/xT/Qfy492H1wfSn9NPz/fHS8lX0yvXm+Pb5Cfiw9cPw4Ouw7Gnv0/VH/bf+BP4p/J36SPuw+Wv2A/c5+u7+dAM6BngI1AlSDWcRyBXZF14W6xgEHjImvC2xLIUp0CgBKJwpmSwyKZEkLCM/IS0iuSFYGTIOvwPK+Z30UfM28HfsreeM4vzgXuJJ5ETm3OiP6yXvzvFX8VTwau546vbpDuwl75L4VQKtBwwMSwyQBocBLP3A92n2zfV59db5mv8oA/oF4wadA4wBagA0/Wv8K/zu+Gj5V/xV/Lb7z/nd9mn1a/XC9DbzKfL18bXx+PJF9G3y9fKN9br4Ffs8+2r6xveh+MX3wPR99ejzcvPD9ij7NAAIBecI2AqHDX4POxAkErITpRVUGO4auB0WIiEklCL/IR4fkRylHUgdLxzvHNkbhRguF5cRjAhaAv/42vH473brYekN6hDqxOuw7v3xVfLB8jHz6e+973Hvpeyc7pfxsvMq+WUA4QZ8DZoRHw9UC+8G8/7w+U75Afpr/TgDeAjUDZwQwQ2sCCkBGvmk8z/xTPOu+OL7PPyZ/ev7Mfii9LnvxOwW7NLt1vD69B741Pfc+LP5r/lM+vH5c/qt+9z7V/tg+kz4s/Yc9d/0ifiy+qz8IQHIAv4CsARDBDAD3ASfBQ0G7wk+DbcNVQ8VDwMN8wwNDIQMYg5gEAMU5BZGGYQaNxhPFYIRlAm+BAsCI/wa/A7+ef2WAiIGNwTUBAUDBP65+9f5Z/jH9yT5rPrm+yAAVQEbAngEnwMCA8gCRwCw+9D4Vvbw88X1hPiE/P4A9QI2A4sBDf/I+tr18/Jp8gv04PWz+H370vl/9r/zRO9i7FTrrep67Tnxz/Mb9xL7Wv0e/nz/cP+VALcCxQHZAz4GiAPXAzgGmQYkCloLxglWDfcMlwoODEsKzQmgCpoKkAzFDjAPpAyrCnkIqQTvAUYBfgE+AlUF5QZxCH4JZAYOBJQBZP15+tf5cPeX9eD2cfae+Er8HP0x/v//cf/J/BP7m/g995T2Qvf1+gL+GAKxBBIF+gTGAl4AAf8L/vj9pv+AAH4ClwTkBAcGmQR7A8wCbwGSAsMCDgMZBcEFoAQWBNkC1gAv/3T86fpC+s35UfpA+6L7KPzR/Rf+4v92AkIDQwbfB2YGFQaBBBsC8QFDAJ0AIwS5BN8FWwebBmQEOAG2/oD9E/7n/W/+TQAYAcIAuf17+8n5Ivae8xjypPGs8hj03fRo9uD3dvYq9l31ufLN8onyk/Jv9M30xfSU9cb2C/hO+0X/YAKMBQIG5gZZBr4C9wIhA2gE6QjOCyMPvxK4E5ERSg9pDXMLBwvzCjYM4g0ZD3IP3w1NDG4JDwbIA7wCKwNXA+cDrwMeArsAG/0M+Ej1PPNj8RHyw/OG9dH3pfga9wv2V/Yk9sH2ifjv+eP6f/tF+7H6NPqV+R368/v7/okCaQU9B4QHuAYWBVEEfgTnBX8IxAoGDX4M0ws6C70IUwcmBRIFagV4BN4FdgX2BKIFmwMZAT0B5f/R/F79gfy8+rz7Ufot+OT3Mfee9bH1ivfV9yD5fvu3+jX6Ifup+nb6ivx8/rn+1ABHASX/uv/+/mb9Mf5z/0QAIwEMAWv/s//n/kL9Vf5t/oz+Yf+f/t782fy+/AP7ufuF/D38AP2S/XP9F/6f/+7/OgEcA6wDIQVLBkcG1gYuB7kFJQVqBfoEKgZ6BwUJzAvoDMcMcQwrC3gJwge9BVgEwASqBUUFJwTkA+cC4v/1/ZT86fq++2H8p/v5+jj60PgO9UzzsvJW8Drx5/I385j09fXU9WH1u/VE9DXz2/P081X1IffE+Fr6VPxP/6gAnAL9BUMIwwpBDfcNqw29DqgO+wzsDcEOEw+wEOgQVxD4D0sO4wtxCuUIFwiSCL8HfgeEBwAFHQJH/677XPmH9zb20vay9un2Z/e39bz0zfQE9BTzB/Qn9WL16vb99jb29fbF9r31MvYQ+MX5c/z2/mL/yf8XAHn/Hf88AF4BFgGnAbsBnf9p/zUA5v8KAnIFEgd8CBcKvQndCM8IiAerBgkHYwfUBuIFGQZcBSgFOQbNBosIqAm0CF8HSAbCAzwB+QATAKX/q/8F/qz9N/6A/sz/BwEfAUIAvf1K+r/4YPjg+HP7PP1r/Y38L/k49VbzCPOE9C34Qvss/dT9wvvl+Eb28POX8q/yw/NW9Mn0afVR9Tn0+PS49pP3X/s4/+gAUANHBSUGfQe3CZIKhQvvDPcMrw3pDx0TsBXTF90XchSbEU0PiQ0JD0gSrxO9E94R/QveBWoBWv69/en/lALbA5cEsgJP/mr55/R48UTwt/GQ8vjyNPII7xXsu+qG6/HtevJL9kT3MPhn9zj1mvRf9Vr21/fD+cH5q/lv+uL6nvxx/3YCngRKBn8H7QauBtkH8QkiDcIQCBJiEOIOpwwTCikKlQudDLwOZhCPDiwMLgk0BNUAM/9W/Vn82/xh/Iv6fvhR9vL0zfRp9pf3wve/+Hn48feq+ND4JPgO+E33CfX39Cv2S/fZ+fX7xvvA+ln6M/nu+RL9+/59AGQBn/9r/GP6lfgh+Dj6rfyO/+cB2gKSAjEBmv/z/sP/uwEBBQkIkAmWCW4HKAU6BfYGIQq3Du8R6RJGE0ERHg3vCt4J2gixCkEM5wrvCScIKgS+AWAByAD+Ad8ESQVjBKQDTwGt/4z/jv6Y/Ej7evl39jX1OvQm8wz0ifUW9kr2P/YN9C7x9+/37r/vW/OJ9r/49fiZ9ljzq/Gu8mH2rPwSAtEF7gZ+BDACywBEADYC3AX/CJwL2A05DaIL5wpcCU0J9gv8DewPwBLbEZQOHgwjCLADNQMgAhn/MQBVAKz+WQAiAWH+mv0k/fD4MPjz+bL41PrM/Yr7pfnc+A71nPKb9G301PVH+8P8a/wC/ev5gvWY9bH1zfVN+rT9qP6zAG4Amv1f/cb98f18AdAE9Ab2CeQK2givBnQE6gDEAEEC7QLKBawHRQeoBucFvQNGAiMDDwPRA+wFigW4BKUDTQGY/rf9D/67/WoAOwIGAh4DogIfAQwBEwKJAbcBsgKiAOf/2P8b/oD+zv8aANcAoQEMAOT+yv4N/aX85fyj+3H7z/o3+Kv2mPXv9F/2z/ik+jn8sP1n/R/9S/17/DD96P6p/5MAxwEIAQ0AUwFXAO//8gLKA2oF6QhtCRcJfwqTCUAHBwj3BlEFaAcJCDQHrgg3CfUGZwaJBbMC8gJ1BCsEpwTjBIQBBf7S+xX4Jvbl9mL3wvct+Sz5QPfa9pj1H/ST9Ar1yPXp9k73Ivap9GHzpvHf8ZTzg/YC+8v+PgI9BNgEugRtBIsE/wQvB/YIIQppCzwKhggoB4kFlAVkB+YJFQy1DSgNfwqXB4EEBAIJAWsBgQIAA40DmQIIAIL++vxS/GT9Y//LAAQCmgKoALT9BPts+If2N/fA+Pv58vxf/7b/yf+9/4X95fvd/D38vPya/gn+Jvws+x75TPY0+L76qvxhAdUDTQNVA9QCpABIAEkCHQLBApgDdwBf/bL7GPrx+f78Rv9U/6EADf8Z/Ez89/zn/l0CTwWpBBQD8QA2/db9kQD1BEsLOhDMEjUSLBBWDB8K3AlrCnYN7g1eDWwKrwQ8AKX8Wfsm/Hf/wQBWAWcBlvyN+fP2R/P68QfymfDi7l3vMex16kPsOewV777zWvae98P5mvlT+Dn61vow/Hn/6gCDAcYBSAHgALECrgXACNsM3w62DrQNVwpFB7kG0AfNCtgPHxT4FKUU8xGtDI0K1wpEDCYQ4RNGE/UOJgnk/zb3RvOe8Azw1PH88APtv+hz5DThRON86dTvHfe6+7D7HvoU93L1jPYF+oP+RQK6BAoEmQMEA4wDAwjuC/8P7BLoEeINIQhaAjD9HvxR/YD+hQDE/2b9V/o498/1VfYz+MH6Zv31/W/+cf6X/Yb9av4b/zYAwAPHBt8JPQ0MDmgNEQxCCmwHTQV4BRgFEwY2B6kFQgIl/q/50PTD89T0jfYo+6L+V//+/jr9Aft3+tj76fwK/6kBDQK5AnwB0/6f/SX8jfpp+Ej07O2o5zTjZ9+i35ziI+Wk6aTsde7C8dL3ogGlDZoaDSTTKNAp6ia6IyMhQiAmIuIiyiIZIBMZBxBEB03/yPkx+sX87/9jBOgEZf+5+Djwj+eb5ODl/Oe+7HryN/Ut+XH+CwP3CDUQBRTFFDwTcg73CSgI0gcrCIAJ2AhbB9AD7P2J96fxFe507C7tCu0B7HjqKuYY437i5eRI7P71yv7jAen+jPat7KbnjuiD8dX/dA+gHCgiQB/EFmEMyAKJ/Yv63/Wj8JrpcuDM2K3U5tFP0SbTgdH4zpPPvtPa3Sztvv4UDzchlDOnQ29RxlqIYAtkzGe4adZnv16lTUk1CxsTBv756fZn+UH84fhx8BjjytWmy7vIaMvH0ELYo9zu3qfe593B3kjkKu/O/i0Psh1RJ34tRjEGMvgxvSwWJpMegBZkDRMECvrD7obm/d+02i7Xe9Un0orPLtAg04rbNuiE9EL8hP4o/OX2wvRd+KP/iQntFOIc9B4THdsYARNhEMIRwhBvDRYHQfoC6XrZVckXu6qyZawBqGimJqpMsJa9LNB84h35iBJPLlxICl1AahhwiXKdc3Vy9W31YodRzTupJE8U9QivArn8lfOc5k/YN818wzi+nLzIvmXCgski0RbXPt1a5BrsMPVsA6AR7R6NKm0yiDWuOT0+Ej20NwEwbSXnGlIT/Qgt/BPxNuju34vcIt3p2lvYp9dp1yLZht4S40njBOT75AbmY+3u+b8GiBIuHeohZCNmJN8idiBQHZkYCBF3Bz37l+0l4LHSGci9wCO4erDXqaCjdKQXrMG5iMsm4S71TQkIIos4Y01JX1JrLnGnddV16m7dYXhQ+TwFKJ4WTgnp/vvyT+Zt1krGtbw6uZW4k7ywwhvFPsu80uTYV+Dp63H2TQPlFEMjrDE+QKdJxk3UUCpOo0cTQAMzCiM9F84M5AEo+Rjshty/0SzL08b+yFjNV8/b06HYb9tQ4O3lm+iZ72b7JAWVDUQWWhsLHvMhhSHxHMoX6BELC7sEP/168Vzk+Ng1ziHEfryMtaGvXqz1rrm2aMZY3EDwxQEXEwMnhzvSUE1ju24hc3ZxsmqSXzBR/EA2L3YcTQ4kA7D5f/Fm6XTfE9e90izNMMn4yC3JEsibyzvS59iW4mntf/YR/5QKihbAI+8w1DiJOvU5+zcaNIUvYiffG1oP3ANt+KLuJuU/2pDQ8sn+xirGEcgdzInR39V72v/gjud+7x35cQAOBmAQah0CJ/EvmDYbNRIwISkbHowSdQvYAuf0Qeh43WHRR8e7wU29XLdws1u2872FzCnfy/AyAYIVmC0mRMlb5Wylc0t1QnUnbm9ihVWgQlktbhqWCCv4N+/p5ZXYb82gx5/Cgb4Mu+ezNa8AsrW8XsjY1abjhe4j+aEG+hQLIrMxlTzNPSI95UAuQFY6QjPXJnkWLAn4/oby+Oj/4VTa1tQT1GvT2NOF2G3c9d724rPn7OoS8Pr1PvxVA0EIugxVFuAibCspMM0vRyoOIs4bcBXgCcn42uYD2RTOj8f8wN23QK4Apzel6bE2y8bdlOle+qoU6zH6TVJhLGkVa0RokGQcYCdY6EnTOV8mSBNiCHIBUPfK6yjj49jz0RrQR8xTwY64sLcYuvK/1Mpz2KPkbfMmAMYLvh0NMmo75T3WRYtKd0jCRelBVjVlJvsaeg7h/9Xyi+qE5UjhTds01+3VwNS91KHWVNbK1H/WLNkT3ybspPeQ+iv/jQrQFNsdNyd8KI8gmhlUFkcQ7AZR+q3oUtZCyq3C1LnwssOs/KT6pIm4EtOL48bwPQXPIAo+glrda7Jv722va8VmuFyGUT9EzDSuIgUTvAdZ/mvzEuZ52/7VCNUJ0uXNpMunyavFf8a60GPaPuC/6p360gTfD2gmRj2lRo9KjU9gTypNEkkuOoUjIRNFAxjuGeA03S/aF9Si06PXNNq+2VvbFd4x26rU89D30ETUzt1q5pnsYvirBEUJORHfIKAjZRgxE38VzRLwDdcJ4P3s7bTjstv9z03H+r2ErPahqq4vyGPcB+6JATQY9DPUUgpqT3EJbrxmf161UU9CBzQUKNAbXg47BjkGDwkqAbXxRegI5mregtFGy57HO8Euv1LJb9a34IzsE/oyBmITjiSlMq07kUEVQztBV0PVQs8zqCAtFkEMKfsT7ufniOAy1+PRtdCC0P3OvMvsy0vRO9Vu0fHNKtLu2fffxenK+f4Fug1uGXsncyujJ/gkEyNeHkEVHgY586vl7NoZzszE38P2vwC0oLGBw1TdSO1t+FIKbSL0OTtQrGKAaMFlAmNTYlFfnlfESI83KimUF6QE+flh9T/q094a29nY7dObz7HKlsHTu7a8L8JbySzRXtl15sr5HA5YJBg790tJVDRZH1mlUlBG2DFEGyAMkgBo8KLkCuEA3oPbKt8G4+TgBNuG0XTIRsZYyZvKAM7d16PlNfbvBgAT3htvJIQmtyHFHZcZrA9FBLT6xu/R5NLdX9nY1eHSec3QxKC7erZXvPfPpeR68ZX/qxhfN5FRjWQtb4pwe2eJW1lU3UuyOU4iNA9nA1UBcwNDALH4DvI86b7fKt2C2wvSQsbTwMC+YcBjyXvXsuau9foFSRrmMaxBvEVxRR1EtD5hNgku4yTKGoIOrQN8/e/3Se7Q5ubmeujM5g7gz9Zi0JvNiMkqyNTQ6NuB4W7oMfYpAzgJ3woxDgkTUBOcDs0Ksgb+/RP3J/JP6K/eqdvP1mHLY8LDu5q1rrfixWXbQPIUBG8QwCVsRblesGpHcEVvtmbrXapTO0ZCOBspIRXGBjUGYwf/AJf2Se1T5GTfW9602j7R88Zuw2bI38+o1JfdAe8IAQYNMRtYLo869zr7OG85GzVyKlgcyQ3nA7n+8/c98izzpfG86PjjDuWG3wTTjslFxmHG6sZ3yBrRs9/k6if11wayFy0d2B1zH7Mc+xS8Dt4KfARS+dDucey460jiKNef0p/Lo7spsFqzC8RP3AryvQLkFkgz/01SYkpwrXKBaOVaeVAKRUE1cSLLEv4Gc/0D+hr+0P9L9x3rIOHH2dLSEsuIw26+3LuAvorMveCi7+j8oBJyKcE27D4BRqRFPD3DM0oraSFcFaYI0/5O+yr6zPUQ8GntOeyu50Hh091W2X/PCMlNzI3RtNQP3jbt6fj9AYoO2hqcHq0bYxdzE6gPIQqcAwj+4Pb56hTi9eBq3jrVkcxdx4++S7b/unHQdeteAD8PqiD4OvlXIGwYcKVoFlxrTMQ7ky5+I8UTVwN7+u/4yfnO/W3/8/T54aLTIM0xyHDCdby5umjAdc764af3Yg2/ITM08UEtS4JPbktuP9YzqCu9IvsY7RA/CsgEWgCS+QDznvAv7QXkGtwo18TOWMYgxs3KLM+X2XnpYfX3++oD+guWD/UPkA1NCSYGfwWsAmf+XPy9+Ljvzege6cPk/NbKyqTEp7laqqeoab7m4QgCxBfGKQ5DG18Fcn92O25aXGpGhzR4JhgaoBDxCyAHzf/C/PYAhwMZ+B7igc5hwxa9qbi4trq4f8FO0tbpcgNlGkcrzzY+P5dCRT7WNioxGCq4IL0a1hlXGC4UcA/wCPj++/Rn7OPhtdWfy8fF9sMGx6nNcNab4k7wgfsyA7kHXgeXA6wDIwnvDI0LiQlUClwKaQiZBdEAkffk6tXeBdR1yTW/V7aErYupZ7T30hb8eR63MphA6lRda4t19m2bXhxPWj64L58nVyTaHlQWngyXBdkC4/468lbdocc7tSCsb674tfC7jcYV22Xy7wa8GE8oSjGkMoAv7CyTLUQucCtaJ8UmvCYxIjEaShJdCF34gubG2nrUSs2qxgfHms3K1Q7di+NM6gHyQfjh+Xr5yPik+Mn7NASXDZQSKxQHFZEUZhGkDDsGHfzk7NrdA9TXzcHGpL+huZ21orqfzUHtqw6wJngxADzBUQZns2knXPtN20FOOFsxuSstJfMctxEZBLj67/PU6KvWC8VouBazPLbxvNrDvcxc3DTw0gKND3UZ+SMVLEcvyi+hMNAvUy7fLdwtLiuPJI8Z+gxpAgL4Huw94H7WoM7WzAHSb9lE3lrgxuLt5drqUfCF9AX28/WK+bIDOA+hFkgaZRlXE+kLFQZh/5H3WO/84w3Xa8+9zIDIc8Sovv21k7ZWy+jvIBL6KA44HkkVX4lvBm4KXnFNYz/vNSYw0iyOKKkfuBF2AnT2VevD3mvNu7t2rzSv5riTw73Om9qa6P75/guhGHsiLyt2LsAtCjG/OM86xzV7L/MoYCBBFjoKtPx87sjgHtcw057QbMwGybrKy9I13Iji6OTE6B3wvfcF/30D+wKVAx4KDxErFiEZixYCDoEGygHg+T/xhek93krRx8y2y4vGdr82tmyzwr/b3msF5iTUOrdLHV/lcd52n2dNVGxHi0A/PPo1cy/cKA4fKw9W/t/thdzoycS6E7Lzrgm1Wb91yy/bP+v39kn/nwalDgEaBSapLUkwfTMoOdU8hzu3MwEmdxcjC9QAnvbj6aTcqNIczY7MSs3FyknKQtA32BDdneHT6XLy3PnGAH4EjQUiCagOqhUOHTMemheaEJMOdgqHAR73Benm1sLL8cpCyOS+qLCgqou3E9Zo+04Yiyg4MqJCj1neZd1bPUl1Ps5AjksqTXtCJjWLJ+IWQQfx9m7g6McOufW2P7p7wQLIwsvV05ziJvBd+OH8OwDZB+AXWSzMOIc7YD0YQYtCpT1WMFQdBAyBAOP5GvQB7H7imNpw2EvbINsc1TLQxNL12KnceuJ2697xvva9/EsC1gWMCIULeQ58DjMKEgW4AvoCqQGj+Trr49sa0sfNhcm4wbKzs62OvHraZfu2FDQjWyo8N3pM8VhmUchC2zsGQUlOXlVCTgk9ISwiIIUTmAEb68XR5cDkvxTF78lfzDXNpdAJ2Wrl3++V9Or34gC4Ev0ncDUlOag5nToFPe87oDLTI48V9QzgCfIGxv2E7xHk4eCo4A3cNNXszxHOqtBI1vPbf+BL533w8fdD/tMCawSWBxoMcwsGBmUCTwK2ApMCIf5L8UvhXNgQ1ozR5MYjuImzBcBV2YL2TAs3GWoknTFuQwpNiUUoOSQ0ijoJSSlRDEw6P+UyiCv5IloSgvrS4aHUZdL90MXPL80OyfrKadMW3CPh2OKm5lvw4ABKE0QfPyPZJE0ogCw9LyUt2CWXHocc1B3eG2UT7QX095bwK+/Q6vPhlNrC173YPdsF3BndY+Fk6Lfv9fQH+CH66P2/AwMIJgkdCb4J/grQCVIE3/o88CPpZubx4rjbzdHCyzTPSdq56az3VARoDxgXHx92JPEgZBrcGCAdyydkMUc0SzPlLyUsYCdCHnwSiAeTAJL9FvlB9LbxNO+p7SruS+7R7e/sSezR7RnxhPYz/T0CeQZmCn8MdA1jDD0JrQf8CFYK0Qg5Ba0Bef0e+vX4rfaM8/nx/fHU8p3yOvC27d3tN/EG9Vf3pfnm+zL+iQEZBN4FHgdhBzcI3gcSBZEBhP5g/FD7ofql+XD3A/TC8YnwiPDm8U30rfen+nD9bf95/xH/wP8JASkEXQhsCs8K8wo9C6gKkgg8B/YHkwkBC8EKgQjlBXID8ACc/37/rP7+/bL+5/8xAI4AwwLHBYwIiApGDIoMOQp7B1gFRAQWBNUDuAPcA7IDNgMBAhwAnf43/bb7Tftb+rj4R/g2+Bb5TPo2+039IP/t/6cALQBR/6X/vP+A/43/RP/h/sn+qf5v/oH9hvwr/OL6Pfnw96D28vW59Vr2EfiG+Zb60Pv4/M/9Df7r/dX9fv3H/N78Ef5Q/2cAXQHTAhEEdQPhAdX/YP1S+8X5SPm9+fr5yvqf/B3+if8oAeYBSwOuBb8GpgflCPMJAwuEC+EM4Q6HD9UPbBDqD94OqQ3WC1QKsggYB3AGTAXlAwwD4gFjAfoAwf+7/7r/rf4w/vr9j/3i/FH8b/wT/Pz6n/qu+hf6Mfkj+H73I/cv9qX1G/U69N/zrvNA9KH1+vaQ+G76ivzu/kcAxwCMAc0BzwGFAr0DJAW1BgUIZQlMCosJKgi4BXMC9v9i/VX7bvpZ+fj4r/lV+lD7kfw2/ZL9Tf2K/Cn8avr1+JL5B/qA+zT+6wDXA4MF1gXaBQAFywMjA3MCLQKKAiMDcwTABW4GmQd1CMMIfwlgCZgIkAcWBmIFvQQCBGUEmwR1BEkEdwPOAsIBpv/n/bD8Mftn+vX5gfmK+df40fiL+WL5vflm+un6EPzG/EP9Y/6n/rH+Yf9p/+j/RgGJATICDAMsAtoBawFdAC4AWP8N/6n/tf5H/gX/Ff+A/y8AsgCeAcYB/wDHALP/A/5X/aH8G/3e/dv9C/+6/wj/av7C/Wj9H/1w/JX8J/3P/OX81f1T/kD/ZQDRAbkDZQTRBAsFgARXBPQD3QOnBMEEzAQmBcYEOgQ7AxkCzQEzAR8ANQBCAIf/Lf+k/p7+hP6L/b/9+v2k/Tv+kv4S/9P/qf/R/10AKgB+/0b/Of8w/+f+jf4S/+P+ZP4C/4L/6/9nAMgAagFsAQUBBgExATkBEgFzAeMBIgI0AgoChgKdAi0CKwIOAm0BXABd/5D+y/0S/cj8YP2s/Xf9sf3W/Y795fwD/ZD9fP3n/Z/+Tv9+/3b/HwC3AF8B3AHuAVACEwJwAWABFAHsAN4ArwBMAa8BFwFOAe0BXQE2AUgBCgE/ASQAdP8/AK7/0f8KAVUB4wHbAUIBPQFpAF//VP8M//n+9f7d/RH+TP7j/Jv94v4s/xwALwCyALQA8f4N/5H/z/4l/9f/MAC9AHMAfAB0AWMBZQHcAWcBOAHY/xr+YP6B/cz8wf2i/vj/TQBFAGYB8wDH/yMAZgAIAOr//f9AAHkABgCiAJABXwERAgICagGTATsAI/9p/yH/F/+v/wYAvgDQAPX//QAwAWj/LgBHABv/nf+l/vf+/f+//gUADwFGACkBtQC8/zYAw/7Y/Qf/Rv4s/hb/tv4xAF4A0f9BAp4B4AAVAr4AsACIAG//nACJAKz/HAGiAfUArAG4AWwB/AEeAZIAiwDk/j/++f3m/bH+if5N/xUAzf+8/1r/dP+7/wL/Kf9tAN//7/6f/xX/lv54/4z/rQB0AeIAXQH1AEMA3v8//87/ZgB9ALMAHwEBASYArP8yAL0Awf9YANsBlABrAKIA/f+JAID/vv88ASIAJgC5AAoAAQDm/7L/jwDNAPL/VQBPAIH/hv+b/t/+eP9U/nX/NgC5/08A9P81ACwAJf/i/x0AI/+6/0UAiP8CAF0A0v9sAGgAfAD5ADcAMQCA/zj+Hf6y/ZX9K/6a/6oA6wDrAfABCwGEAAMAav/e/lT/0f8oAIwAogDEAfwBCgJuAykDswLvAQgA6P54/Z/8Cv0X/rf/BQEJAgADlQMDAoYAwAAT/+/9Vf7+/Yb+qP4f//EAawECAjEDGANhAiQBRP/x/Rv9D/wh/A39W/7X//H/RgFcAssAqABSAPb+bv5C/fX8xP0d/rH+hgBTApYC9ALhAv8BKQFg/wb+kP0p/bb8Sv17/2YAZQEkA5ID2QOaAtgAMgB//tX88fxY/mn/lQCtAr8DNQQ3BFYDzALAASIArv6m/QT9GPxf/M/9df+SAeMCoAPyA48C5/86/gz9O/up+9/83P1XACABoQFIAwcDdQJ5AswBuAA8/5D9E/1X/RX9iP5LAcoC5QNnBEUExQIdAO/+gP1O/Pb8sv3C/jAAowF7AtECEwNbAj4Bo/9H/lD96fvf+1H8D/3A/vL/rwETA/4CkwKjAVEAav7V/D/8DfzJ/BT+4f/nAScDewOuA+EDmQFF/wn/Sf0e/OP8A/0N/gAAQwFRAlcDzgNSA8EBWgDu/0b+iPwz/QL+sP4ZACoCDATRA3UDFgMpAW7/7v3i/FP9Rf6p/iYAbwKWAvEC4APUA/YDpgKDAUsBG/81/V39cf5X/7oAMgNiBBwELwODAUH/X/08/Ob6Jvv4+8L7vvyt/bL+PQBeAAIB0QFrAJb+Jv6k/TT8jfyT/n7/SgACAqcCGAJMAq0BWACqAJH/0f1A/lv+qf66/9EAegIAA4ECbwKQAe3/7P9kAKT/UQAeAbMA0gCOACsBwAEcAZcBZAHn/zz+zPw+/I77Gfxe/moAXAEjAtQCkQGxAAEAn/4m/yL/0P6T/+v/kwDmAI0BigNoBEwD1gJsAlv/6fxB/F37IvzE/Tr/YwHsAhQDDgJcAaYA4P66/Tj9Pf1T/Qf9Pf5MAFIBBgLlA94EGwOHARsA//0f/Lb6e/tJ/bD+qAAlA2QFrgXPBDkE9wLzABH+Ovxe/Db8OPxM/vUBvwNfBAwGzAXeA2YBkP71/Bn7ePmu+Sr7tvwH/mcAmgLkA+8D7wIqAiwAY/1c+536FPs3+8f88f/YAR8DIgS4BBwEbAKmAPX+sP1I/Bn8B/37/RoA+AFSA/EEJAU8BPQCcwGU/+/9XP0r/b39gP5q//QA9wF4AoYCQgLhAVIAuP67/cb8hPyp/KL9jv9UAS8C0gJvA2UC+wD2/63+h/4Z/rj93/66/4QATwFFAvwC2QJKAh8BPwAY/5r9Qf3E/cz+fP+SAGMCeAL/AYMB2ABGAPP+Hf4r/hz+P/08/dz+5v+iALABkgL5AogB1f8R/8/9QfzV+xD9d/6y/90AfQIjBIkDeQKrAo4BCv+G/U39/PzR/LD9V/+vAfICNwNSBIMExAKhAD7/Q/6Q/Gb77fs9/YH+Xv89AV8DpQPqApwC8wHI/8L9jfwA/EL86/vc/Lb/1QBqAf0C1wNvAykCqADG/wv/Nf2o/Fb+Pf+d/9MAbwJVA8QCUAKkAloC8wDw/x0AqP+1/n7+K/8yAGkAnABnAcsBFwH//yIASwBe/zP/0v/j/2X/Av+a/nn+gv4P/tr+PgAyAIMAPgEwAQ0B3ACSAE8Atv+y/jr+9/1f/e394P7N/6MB3wJpA8kDEAN1Afv/lv70/Gb8vvze/LD9MP+KAIwBtQLRA9IDOwPdAc7/Hf4N/EX6TPpG+5H8yv6GAawDHgWGBRYFagRyAvP/YP7K/HT7RPvo+2H9vv8CAuUDIQYNB/IFwQTbAsP/8fzv+tn55fn5+rb8Xf9JAhcEWgUiBrUF2AP/AJT+Qvzx+cT4Jvm7+of8Mf9yAqIErwWuBfcENwOUABD+UfyB+3n6sPoD/Qb/uQACAyYF9gWmBdoEWQNXAaH+WfyR+y77cPvn/A3/DwFqAqUDbgQBBL8CiQF0AKH+Cv2k/HT8evwX/Vr+3P8qAUUC4QI3A7ACVQFmAFL/9v0z/U39nP3d/dH+/v//ANUBbAIaAykDnQL+AfkAuf98/p79WP2X/Sb+y/4ZAD4BdQHXAQ8CxAFKAaMA2P/y/j3+QP23/BH9UP0y/rX/VgG3Al0DvQOEA7QCTgG2/8T+2P38/Jz8Iv08/g7/VwAsAsIDSAT1A+YD5gKBAGb+Ef0T/EX7Uvuc/Kf+bQDAAaAD7AR8BI8DhQLKAEP+/fvC+hn6BPrc+vr8o//NAdADfQUNBi8FnQPTAVr/9Pxl+/H6cPs//B7+2QAQA6YE3AVFBloFsgOmASP/1PwI+zj6j/qr+5b9AgCJAmkERwVbBWsEzAK5AH3+vPyE+wD7TPtw/Ar+pf9yAQADDgRVBH8DMQKLAJr+rfxz+2H7/PtQ/RH/8gCwAqcDLwQuBHcDLAKwAJ7/Sv4L/Zj8zvyQ/W/+2v90AXICCAP1AlsCLQG9/7j+9P2W/V79lv1u/ir/3v9/AF4BKwI9AjoC3QEiAUIAPP+t/lT+Qf6a/j////9WALMAGwFTAUoB/gARAekAXgAUAMH/Wv/o/s7+Bf8k/13/lv8bAJoAyAAJAQQBCwHkAEQAof/p/mX+4P2B/ab9D/78/vT//AAZArgC8wKkAhcCHwGi/2P+dv0c/Q79b/3G/k8ApwGwAqMDHgRfA1QCOwGt/8X9TPzy+/T7Vvx4/VX/kAETAwgEgwQ+BCADBgEk/6P9I/xF+1/7cPzA/UT/NAH/Aj8EigRMBH0DnQFv/2j9C/xq+1f7e/xd/lYAKgKhA70E5QQbBMACNQGn/7z9Kfxs+4r7S/xV/Tv/ZwELAw0EXARIBCIDKgFw//b9rfyD+2X7Y/yA/cv+YgBGAnsDvAPJA00DSwKUAL/+nf2S/OD77PsU/dn+FACDAS4DSARBBHQD5QLHAQAAXP5W/dT8NPxU/GP9t/4lAE8BoQK/A+oDUANAAjYBvv/9/df8W/x2/LH8kP0//8AAAAL3Ar8D8QMoAxkC4QCK/wv+tfxV/IH8Av0R/r3/lAHQArIDJQT9Ax0DcgEAAML+df1X/MT7VPxL/Uf+rP9jAfECmgPCA4EDgwL0AAb/lf2A/Kr7r/t6/Pn9Z//QAIIChQPQA4cD5AL1AU0Aif49/Zr8OPwd/DH9+P6/ADICZwOJBIkEfAMYAogA9/5L/UP8DPxB/Af9P/7W/1MBVAIeA5IDYAM+AsEAfv/8/Zb8xPvz+/z8Bv5i/w0BjQJTAzsD7QJOAlgBJwDz/iH+h/1Z/aX9Xf50/6MAHwJCA6IDjQPwAjACAgF1/1T+wP2V/XH9ov1i/mD/WADtAJEBKAI1AsgB3AALADb/I/51/Sz9WP3C/Wb+af87APcArgEaAhACmgErAZ0A1f/c/vT9tv2s/bP9Kv4Z/3oAlwFRAs8C+QLMAvMBxQCO/2r+mf3y/Mv8Ov0f/lz/mgDBAZECKwNsA94C2gGTAFP/Kf77/Hj82/z7/Vb/xwCSAiYECgX6BFEEbwMHAlkAq/5w/er8zPxj/Yj+AwDRAXkDkQSnBPcDwALzAMf+efzx+k76NPrF+sP7Xf1A/7QAjgHDAaMB4gBa/3n9m/tD+lz5//h4+br6qvyi/nQA3AGMAtMCSwL8AHX/E/4d/U787ftc/I/9LP+zAFMC5wMqBc4FWgVmBEkD7wF2AA//TP5O/gX/IgBNAdQCigQGBsEGmQYuBoQFZwTWAlEBeQAlAD4AnwB8AQgDsgQwBicHkgemBwgHlAWAA5ABGQDX/vb9rv05/lX/fQCUAXYCMgNvA8wCYwFe/0j9Ovsf+Xr3yvZO94X44flg+w/9mf44/9z+8f2w/Eb7jfnL96X2gfZN93v4EPo5/Jr+qwDfATwC9AEQAZj/tP0C/Af77/p8+2b89f0AAAcCpAONBOcEyQQMBI4CtgAq//39V/1R/ef9U/9WAUkDsgSoBUkGXwbLBZQENQM9ApgBIQH0AHoB0wJnBLgF6gY1CC8JWQnWCOUHwAaWBUsEDQNjAoECCwOiA0kEAAWkBeAFZwV+BHUDUALzAGT/9/3v/FH8+fvN+/f7gfwg/V79Mf30/Ij8sft9+iX5DPhh9wL3xPbb9o33kfhx+Qv6rPp3+/v78vuN+wr7jPoS+pD5OvmK+Yz6tPu7/Mv9+/78/1cAJwDT/4L/E/9X/o39GP0n/Zn9Jv7s/hgAiAGwAjsDcwOAA1EDxgIJAoABXgGzATcC0QLLAyQFhgaFBykIvAgzCT4Jxwg3CMoHgQdiB0oHeAcpCAsJsQn7CSsKNgrQCfUI0Qe+BtQF6QThA98CQQLkAXcB6gBeABwA3f8o/yT+M/1g/Fb7L/o2+W346veD9xr3yPak9rf2s/aL9nH2hfa19qX2gPZu9mL2Y/ZC9jP2cvb/9q73NPjN+Ij5R/rS+hf7cvvY+zb8X/xG/FX8gfy8/AD9Yv0w/kr/XQAbAbwBeALpAggD9gLXAtoC/gIqA0kDyAO3BKIFigZqB0sIQwkFCk8KVgptCmIKJQr9CfEJPgroCogLDQyhDDcNfw1mDRINkQwGDEALHAoBCRIIOAdmBrQFKwXKBI8EAwQZAy8CLwHy/3D+4vx0+yf68/i297z2Kva49Vv1HvUI9fX07vTY9GD04POI8yPzqvJI8kDyiPIn8+DzlPSh9c/2wvds+P74m/kA+hj65fnG+en5BPpZ+gL73/sA/Un+av8eAMEASQE/Ad8AbQAGALX/b/9M/43/WwBSAU4CigOwBJ0FZga9BpUGYQY5BsQFbAWjBSkGDQdeCMwJOgu4DAcOxg4QDwsPqg4JDiENIQxxCykLHQtPC+cLlgwrDaQNgg25DK4LSApDCAUGBQQfAnsAQ/9L/tL9yv2v/WL9Ef11/Ef73PkT+O/1FPRt8szwsO9f733v7+/c8NXxrPJ28+Pz0vN68/ryQPJ58enwo/Dm8Kzxz/Jv9Gv2a/g3+rv7vPwk/TL92PwW/FX72fqZ+q36WPt9/Af+3v92AcoCBwSiBFsEvAPkApgBdAC+/yr/Yv+kAC8CCgRwBqoIWAq8C2sMMAy3C/cK0QkACb8I6AjYCY8Lgg3SD2YSUhSFFUQWFxbvFFwTdxFFD3ENLAw7C+oKQAvLC2QMywx2DG8L/QmfB1sEDwHK/Xb6uveu9Qn0UfN584zznvPx89Hz/fK88fLvwe3K6+/pMuhg513n0Ocs6TDrKe1m79XxcvNn9Ef1b/Xt9I/0MvTW8z/0UfWZ9of48fol/UP/IAEgAooCoQLRAWYAQf8W/uT8hvza/Hj94P7nAK4CPgTHBaYGogYVBv0EjAM4Ag4BSQB+AI0BHQOOBagIjwtVDvYQmxJAE4ITAxOvEa8QFBB3D7UP7RBnEkUUdRYaGDEZxBn7GCgX6hTIESMOCQtRCMoFbAQCBKoDBQS+BJ0E7APRAogARP2v+Z71kfFe7rTr7emq6TXqMOv/7AvvTfA58dnxLfHJ73HuuuwB60bqZeoR6/Tsv++d8sL1xfjX+jf84Pw0/MT6ZPmM97D1F/U59cz1sPdR+qb8Lf+sAbgC0AKEAuAAbv4h/Mf5zvcP9zH3//dO+lj9EgApAxkGqwd7CPUIHAiEBo8FggSjA20EJQZgCNsL8g+CE9AWnxnBGuUaVxooGIsVmxN8EasPng9sEGARihPaFSMXLxhTGIcWqxNHEK8LrwaZAub+Bvzj+nv6pfr2+z/9Yv1N/cH8Nvrz9t3z0u/W61PphOdq5lvnbOly62/ugPE283r0DfXa8x/ys/Bh7k/sQuyB7D7tQPC/87v2hvoF/oD/cwDjACf/Ef1k+9H44Paa9pD2QffX+Xj8jP6CAZwDxQP7A4gDJgHT/kH9Bft0+d/5pPor/In/9gLmBWAJFQz8DJcNcQ13C8cJsAjmBjkGiAf1CPcKyw5bEuUU2he3GXgZzxhdF0MUUBEeD2oMswrrCgILsAvhDUAPkw8tEH4Prwz7CfsGLgIi/pf7e/h19r323vY+91f5lfqL+i37cvrH96n1F/Mw79DswOv36ebpBexq7UvvpfKd9Jj1GfcI92n1kvRR8w3xWvCT8HzwFPLi9Lz2A/k2/Kz9zv1N/qX95PvE+lP5V/f69uP3N/hM+Qj8K/6w/xMCfAOQAyoEvgPBAeQATQCY/n/+zP9AAN8BOAVDBwIJGQx5DZkN0Q5pDoUMWwzzC44KLwtmDKcMmg47Ee0RNRMBFfUTehIdEuwPWw1CDIAK6QhKCYYJIAlGCoALLwsEC+8K0wlYCIgGZgPU/8/9rfty+Nv2APZ19En0CfWs9Lz04/Ui9SjztfJm8d7ux+1o7H/qP+sS7UPtKu9h8vjy3POl9ZD0QPOt8wXy+u8+8XryUfMC9yH6yPvt/50DMQQOBbwFLgQeA4AC/f90/jP//P5L/qT/JgF8AbICawN3AnYC5gKZAeX/x/+N/77+qv9NAIYA8gJ8BDUE9wRaBmQGoAWIBUgEmAO9BTUG+QUwCbAMMQ/CEmIVaBbrGN4a0xiBF1oYmRbLFJYU9hHbELwSGBGqDroOdA1UCzwKwQiJBeIDqANbAEP+r/0c+0j5dvdO9OLx/fCl727sTeqj6Y3nkeYw5WLi5eEJ4qXhVOHo4nnmjOms7KrwCPT9+MH98vyh/AP+p/3i/XD9efsG+5H9nP/jAKQFugjlB48JJQkLB1UI5wbTAm7/av0t/Fv9egCx/vn7lfro91T11/Hw7Fbmi+AN26HWfdsr5jztR/GV9skCrhM6H6YhvB6oHoIfvxzeGa0a/x1wH84i3iiyMic/dkHdO/g1Mi6tJW8cARFEA5j5HfhY+Rn/nwVHBgoJMQsEB2gBF/vU8Q3mtdwO1qTVi9x64F7i5+hF8j347vpD+wL4YPXd8jbubO1h8PvxTvPT90YA6QZFDKMPFw+ND9QP8Q1AC2MIjwL2+kv5T/qY9RHvJenh5J/kjuXa4nPfd+Oq50fsMPep/wEEbwgGC/IM0BA9EG0HGP1L9prxcPEF8+btDuX/3pvbqdid1VbPkMaVvn+6WsUu4hgD7RdhItIzllC3bJp2aGvLWc5JHjrYKIkZHhF7Ck4AUPslASkOBxMMB9zyBuCo1NnM28T/u522QrwL0VLvngs/H/YqCTSNOEQ3aDJXLDshqxAABe8DUAzQEwAPugPdAOf/7Pbc6B7Xt8Zcu1C17rUvvhHI382a13XspAL6EEgYOhzEI7EqkysqK9YrZSl8IukcGRu9GIUNrfoh6g/hTdllzXfCPr5lwfTHpdE94VHxjPrqAiANLRcNH4kd8hWZEdsS1xS8FZ0UdAsk/c/yCOh62+zPU70sqFeey6cNzvsExCXjLaQ3mU83a8tzCWPgRJYszBovCMz5JPNg7yvqxucm7pP7ZwHy9S/j6NN0zT/Pv9Ow2Djgqe4UBwMo2EK2S89H5j9nNEwkiBEF/7fv0eFP2O3aZOgz85ry3OlD5Lbmo+a74Afbhdpi3t7oqfxREkUj2ypdKnQrbi/cKccYNAaB93fu4uqw6WvpJOuc6/XrOvE/91z3zvEq7JPszvLg+G/8XwBDBm0NWBQ4GPsWUxCaB6oBrf/F/Df24PDu8Aj1v/yGATf+0/Ye7/TnT+Pf33HZqNC8xB3CtdhNCs8+o1shWR1a4GvPeNRzV0myFkrx9Nq7znnIFs6v1C3TodTn5k78sAL39FHfZdPg20bwxgQYFpghWC7xRrBgYGVWUosxgg/v9LLeXcq8viq6Jrg8werYKvX2BFMBIviz9ib8wwACAb4AiAWDD2QebjG1PWw4mCOKDFv8Wu533GrHo7jyucjIpN3i8ycGCBCpFJEawR5mG/4QfALS+ID7vQHhAxgF1QHR+3P7ZPyM9wXviuU14vLqJfcL/1MDewaGCi8Pww/7DAcH8Po28GvtfO4k7gzqJeOS2mTPX8in1kABATIrSQlFiEZtXjx1AW23RCgWifeD5iPYPdDazwLRo9Ck1VnnjvtGAfP1Beg/5NLwUAavGKQkSStnM8pE3VV+UeI2lxOe9CzfqM52wHW5+7lWv0TPl+neAgoOxApNBD8EgQlgDCAMHg1xEXQYgiO8Lp4uBB/xBYDtm91o0snERrhIt3XHu+E1/CMS7CCZKGor0ypJJP0YGgqI+UPx6/Ic9VfynO5065/q1e198K/u+uvJ61Pxcf9kDN8QbQ9YEK8TshFMCYcCkPyy9u7zGfLZ8BjutefP3fDUQcZFuZnF5PQKMkZWHVNFUs9ktXXSct9FARBr7FPXlskLxubLTNFl1WPac+oBAXsKbP2M6U7hFu2ABkwezitHMh45O0d9VN1MbS7tAuDdnMpMv6O1eLOtu3/LpeJ7/IIUbiL5HNUOYgh1CzQRTBIvDq8Pbhj1IEonNiVgEhD0nNlBzZDKm8OzuTS+c9nn/KUXmiUBK/kr2yewHjoUYAj59sPnbuUG7sj1svQQ733udfGp8zv1FfYd9t/01/l6B80U7BbpDlQIrgZHBDb9j/YG9Nby9PEg9ff4MvlH81fol9luxKy3fsyRCPtElVvMTsRTOHDpe6BkVySX7NHQucAHuEW7f8m81RvcDevSBhMbkRhHAdfqTejK+1sV0yspONA54D2YS6lRJDy0DerasrzcsO2pj6cysz7MSejuAs0cazFYNHkkoxEpCrMLBQtMBTUEbwsxE/0WJRaqDZv1v9NpvCe58sADyOHPzOKmA+IkezqlQqA+jy9bHP4M9P8B8bPg0tcs3k3tU/Zp9jbzp/DO71ny0fcx++36kvxcB0QXzx6qF8EKrwJVAtz//PUm66Tm8umj8kr+XgOw+6vq3NgnxUiyhq83zUYM50kMY1Bgh2PGdi9+vluTG13iEMJEtKCy1Lx1zmHfhOvT/HMTpR6uE2D6O+iy6XL8xxYfMP4/T0RoRoVJU0QEKTX5r8jIqZOehKGhrtjDoeCE/ngXviryM1gtPRpABhL99QH4CSAMEQ7NFSMf4x93Epb6/99Dx4+3g7eYw4bTr+Xp/cQeuD1tSIM/UzCqHrUL7vpe6+zertg32yjmLvRJ++n4yPQE9jP7jv3g/h8BKQH5AuELeBPlEvwJifyx82fxgO6/6bXo1ux69QoB2wf5Avn1aucb1Tu6f6l3w40KQ1W7cAJiV12rdOZ/qllZEn7TjLNFqV+qgbvq1qDqiPPpAokbhSmOG/b6r+Ko41P7jhnIMW09IEDAQixGRj6UHGTnK7YdnI2Z1qWQuM3O7Ok9CMIkUToEQgY1UxoRA9n7/wF1CWkLyQy4EYoWyBXlDN/5rdw+wJG0sb+D0w3jo/IfC+0paUF2RnE6gCayDaX2SuyA6v/lW+B/4hHvgP0aAH/2sewB6mLtivN0+vEB9QddDFwTzBiEFasKJf1f89Lw1O/y7snz8PqV/xwE/AZjBGT6hOn81pHDrLDqsa/dNCj0ZF5x62BEYYhxA2mSNXXw5L46rzyxzbt30wrtKfoB/7oHRRKAEsn/zuZS3Ffomwa1KHFAmUdVQ+o8ODfnIw36Jskbp9ae/6tYwVfX3/CdCoIf6C3FMhgrWxjuAT71sfoQCF4QARI1E/AWdxcXDoT86uV3zTy+WMFW0hHmNPZ2BiceqjWzPEUxzR5GC+r31en15K/kuOJ94v3p6/gxBYgEw/rZ9c74Z/zBALIF6wf7COEL0A7bDQMGOfh17aLrwe5T88P5QAGaBVkHTArICiMDvfSU5R3VO8LBtXXFCf/NRttsGGbtV+NcC2QdTAIQJ9FYsBmutbhwzEDlLPew/kEFYBAIFwcOPvVE4dTjHfydHGg4AUfNRHo6tzAfJIoHOtstskGgIKljv+zW7+0NBv0a/SjSML8wpyOuDH75tPWx/xML8w7eDRUOrgwwBbH4/+dI0+HCn8K00jvqIP6yC7waUStnMdgo0xmOCPD2POml43Lnvuwv7cHuS/dxAdsEgP9D+Av4H/wQAI0FbwmQCP8GjQeQCMMGFP7s8bDr0Oz18Af3zv1dBBAKcQ0aDpEKxwAQ8e/ha9QlxQa7LMpa/mZAGmkSZ+JUVlLtV6RFLRMq3QK9yLYTvy7RJOr4/L8A6f5dBqAQWQ53+u3m6OdU/Rsb9DUTRI4/wjE+JEYYqgS84TS7hajQsNjG6d5f8x4F2xQfIOMk4CNmGw8LK/yR+V8DUw4iERcM4wZ4BYwDO/og6pzZwM7RzYPY6OsqADoSiyFXLMUvQSt5HaYI9vTD5hbgsOCc5EfnSO2h+V8FTwmpBUsAXf4FAtEFYwZGBk0GPQRHAY7+4/iX8YbsbuvE7uH0VvvCAm0L2BCkEDUNowZX+9Lr+tykz13BJblQySX9NEDgaxptjlwCWEJZp0VEFeTf8r5yucLDftYx7Kn5y/rP+a0CAwwABunwY+Jt6rkERyNFOshFVENLNW4jBRNB/KDZD7bLoxKrLMMw3n316An1GYUkKSjJI/sXKAhm/A79ZAloFTIYghEtCT0EI/2u7sHdrNG1zRnUQuNQ9z0KnhVjGtQeUCEOGwwNSv419D7uLey87931NPgX97L4PP78ATX90fTX8yv6sABfBG4FFwSgAQL/Zv22/K/5+fXR9kj84QIoB8EI/gh+CYsJqAa7/+318ewx5KPcv9Z20P7NKNvRAVw4+GNQbBhcP1LoU6dJmiLM7+vLyMD4wyzNf9vK6NjuSvA7+vIJRA50Agn3PfvWDNwhjzDjN702TCvxGqQLsPgc3SPBx7FGtW/Gldtg7xcCChNjIKMnLiftHoMRmQbFA20HYAvxCq8EkP27+Dbz6+u65Pjfkt+45CfuhvqoBVkLuw10EDASPg9CB+39M/eS81/yafOw9QH3svdK+oD/mANMAy0BigCEAo0F8QbKBMP/pfpK+An52vgR9ln0DPe0/JUBfQQaBuoGbAciB9kEsv+m+PTwpujQ3xzVGswrzUni2g5mRS9rUm/ZYAxWIFAHPKcQQd9qvwK4e76ezXbhfvHq95X7+AVWEZIRPwWh/GQDYRThI/ktTjPbL/oh0g64/OTp79JGva618sAX1h/qT/tsDaUeBil4KZAiKhfeCZT+3/qP/yQEigG4+qv2EfUP8VfpjeOa5Nnp1e+l9/YB+gkyDMcLRQwDC2wEsvvI9lL3PvlH+dv5H/xB/QL94v3M/j/9yflN92L5lP7GAYsBPABt/5H/dAA8AKr+Bv0u/SwAmgReCCEKBAprCKEEVf2y9I/tROeQ4BfZL9K6z5vWIexwFHdGR2tmc1NmH1ZZSHoxFglP2z284bNWvNDNYOIJ8xH7FP/zBgwQnhBOBy8AtAYhGMEoXjKmNDcu+x6SC/r4Vuf/0yDCNrxrx2vcv/A1AXYPghtjImkirxzWEroG4Puh9xH7jP/G/k769vUn8njtI+fO4avhOOeZ8B/9qAkQEcYRzQ6dCyYITwJ6+tv0CPRU9pD49fmE+2v8L/yA/CT+O//y/vb+vwDYA7YF/AQ0A8EB+P+n/f/78vqO+en4z/qJ/tEBeQNUA9oBEADr/YP7pPnj99L0yu/R6ATiOuBs5lf1MA7kL1BRU2ThYfxQ/DxoJ0ALbukTzCW9Vb5HywjfhvPZAT8JDw+pFYEY4BO/CzUIlQz3FIsbQh1GGV8P8AGz9G7o2tsw0b/NvdSz44X0ZwOxD9EY3B1zHikasxEJB2f9RviY97z3evZP9PzxTPAM74rtX+wp7eDwkvddAMQIXw3HDHYJQgYkA9b+gPm89RH29vhZ+8D8VP1b/K36bfrc+wD9dvxD/EH+4wBmAtECcAKMANP8iPnt+RH8CPw//J8AQgdrC34LJQlDBgMCGfuA8+Pt7upI6XznG+W146nmWfB5/4oSKCtnRkBa815LVp5GNTPGGjT+uuNd0JjFkMSNztHfkPBH/LYFCw9RFQsX0BWTE3QRWhBBECcRCxBqCYT/Q/bc7VDlhd6T2+HdH+X+70T85AbPDoAUHRglGBUUNg2NBkMBKfwJ+Mr1bfTe8nfy0fO29Zj2mfaR92r5V/sS/Z3+zv6I/BH5mPeq+MT4kPcg+AT71/0R/3n/iwCyAVEBGgBK/+D9nvsP+rf5uPn6+Kb4vvlL+zz87v3dAMwCqgNaBVIJ7wwZDf0JQwYZA6j+r/gy8v/sjuh15Aria+Mk6gP05f65DIYj/ECAV29bA0+TPisvoRxFA0no59LPxpvG29L35v/3igHvCLkTsh12HzEZjRA3CwAJKwi/Bm8DYv269gnzfPFn73nrl+hK6kfyWf3nBfsJrwxSES4VPRNCC60C0Pzh9w/y4O1v7a/uyO9H82n6qAA9AmwBiALMA1EBAPy4+K/3+fS48L3uRPCc8ZfyZvbR/OwAEAEaAWcCkgLy/+P9dv7R/hb9GPxh/qYAMAA6/mP9+vw/+9b5gPqE/Oz9lP8HAh8EmAQoBMQEjgVzBHAA8PpQ9XjwJuyE5+jjN+SS6jv2cgaRG2UzdUbeTUJK9kBBNE0ifAtJ9dTkAdvs17jcfOgU9roA6gf2DQYThhQXEp0OKQ3ODFULzQjxBigFhADM+RT1dPQS9MrwYe4K8kX6dQA+A3wF+gftB8kEQwF1/az3GPGi7mDw9fG98UTz0vjW/psCDQUqB1wGSgIV/uX6v/ZC8RXuhO54787uye+v9ML6Fv9aAowFwQabBdkE3AVkBS0C9v/kAMMBwP9V/c/8j/w9+kf4jPht+Dr2VPUP+UL9D/47/S3/EwJsAm8ChQQoBo0CGv0/+kD4cPGl6LzmdexM9dgAKBUcLhpAx0UNRmRF2Tx9KQwSc/868PHizdxC4lHtL/Ui/KYGjhHUFJARcQ7WDXEMzwjPBVcDYv//+Qj23fOW8anukOy67ATwhfZD/s8DzAbeCeQMXQ2JCr4GbwHa+DjvJOo76vPp7+f+6JrwA/o8ARQHCQy3DBgIjwM1Abb95vVw7qHsA+9h8f7y0fWq+AP7S/4nA9wFwAMaAED/pQDBAI3/AP4K/N75hPm/+579rvym+jj6yvo7+xH9DQCTAD7+y/1JApQGjAWaAfz/UQB7/9n+P/+V/ALza+ll6WvyjfxaBnkWmCxnQLRKLU0VSZ47VyVNDev6yezm4LfZ6du85RvxE/u/A6MLBhBbEJEOmw3ZDKUJFwR9/lf7jvhK9NvvO+7y7r3ug+658Qj5mv8DA58GdwxFEeUQDQ0fCc8ECv6x9g7zbPKO8RTwqvG79j/7V/3j/k0BAAFW/Nf1XPHi7mvsYuve7L3v8/F+9bL79wGOBOQDAATgBEMErgGc/639lvqd9yz32viO+Gn2Y/ZL+uL+TQLlBDkG5wXtBAIF+AQBA0sA5gAGBHwFmwTMA8ID7QHg/cT4KfNI7EHnFekC8gX/Yw7wIOIzlkEMRtdCojlkKZ8TPP2763XgCdyx3lnnV/I//P0EpQy1EhkV3RPrENYNXApzBn4DCQHF/VH4N/K47oHuGO+X77bxbvUP+o//Aga5C2MNGQuiCLUGngHH+FLwr+vu6jTsqu8u9Zr58vuX/yUFYAf1AvT67PR18aftEOoV6TvqFOx570n13PsNACoCZgVxCeYKzgm7CFwIOQcEBBsA5f1d/b389Ps9+476Y/p9+13+KwF1AV7/vP0r/goAjwGNAXMB2wGNAuAC4QCI+xL1RPBE7cHs7+7H9Ln/VQ+2IQQzfz55QWI+XjYQKR0XLwNB8oTmBODs39Hn7/Oz/+gJ2BFfF+oZUhp2GXgWPRCyCCoD7v80/R/4BfHo6tnn/ufX6YTsAfAa9Uv7EgL6B1sKSAnWBkgFNQNp/mH3V/F27mDtN+4d8WH1C/lE/KEA4gR/BikEaQAq/Hb3F/NR8Hvv0u/98F3y5/Rd+Dr8lv9xAT0BIADEABYDzAR5A/L/5vwZ/ET9Jf4L/c76U/pn/MT+r/+U/hz98/yZ/dj9Xf1V/ID73/yx/w8COwFo/K32mfK476LuzfHP+FkDbBGfI6c32kbcTGJLkUMCNMAe6AfJ87XkI9u1157bB+Uw8Vv+awlXECQUqxZiF0QVgBCwCzYIBAWLAQn9JfaQ7g/q5ujG6brq0etY72X1mvx1BMwKkgwzCxEJUQe3BNb+PvhR9CzyrvEA863zt/QQ+QX/CQPQAgL/rfyR/Kz66/YE8y/w7+9U8jr1FfeX93r5Yv6OAlYCYv+A/nMAggLkAan/R/0o+z36D/sD/Wf8Q/pL+mb8L/5w/64A3v8O/Xj73v4iBQYJ3AhcByEGvAJz/cL2BO6o4qDa0t3i6yb/eBI8KCBAXFS0XbxaaU21NlsbMQAt6cPVVMjRxTnRXuMO9PcBRQtxEtUYfx08HZ0ZuhNIDKYFUQCP/uX9Kvkn7/DlkeG3483qyvLS+Uz+5QHSB2MQJBXzE+0OdAfN/+L36/FK8NHwnvDx8OryBfY7+l/9Jf6z/eT8EvvZ9cPuiezh8Eb2FPk6+IH0n/MI+Lr+YgKU/634U/Wr+cz/PwLn/1v90PzJ+3X7pP1Z//T/1AOeCMsKNAphCfsIhAYHAFX4JPNB8H3xkvbr/csDAQUNACr3Ne525Rzft96g5BTt5Py6GrtBkmFebBhmqVYIQZ8mcgmK6SjM9btgvMPL7eH49oQIqxYWIrEpSCpiJJAe0BgrEiYM/wdfBQ8Am/ZY7lnsVetg5tveB9yW5TT2uQFrBXMHKgs3EI0Siw9QCJ39pvIQ7KLq4uo07avwIPQP+Dj56/kY/Un/R/w89yL1Y/YF+Nb2mPYN+20BAwTFAP754PaD+sX9oPxt+Iv1Vfd6+xH9dPs/+kn6Pfuq+v/5RP7uBFoKZA2YDCAIyQGP+ob04e+86+7qFvCJ+Cf+9P8QAUAB8fnh55rWANSj35/x5wYcI79GXWeLdsdzwmZjT98tpQaS4/DK47wjvM7M4OUM+a4D5gm3E0wf/CTtIDkZKxV9FCgWrReoFosMK/oQ6u/hs9wP1w/VztZZ3EPmOvJj/rYJWhLyFasTNBA+D3sLuAIO/Nr3GvJ/6/3lMuQ059DsN/AU8PPw+/YI/tQBrwYXDW8NAgeAATj+V/03ABMCC/3L8fvpbeyS9I/6q/oO9dXwovZ3//sAF/+R/g7+wvtu+e/49Phc+fX6A/ve98j3Kvu5/Cz+ZAXLDJgLbgQC+WPtROTH4fHj2uRK6QD6ZxsfQ+5lTnRAbDNc5UiWLecJ5OlM0e+/t7hOxHHeOvYpBfkMwxJEGOkctRpFFJYTRxn1HXAcVxT6Bgj4cOyo5CLYjMcqwMfI19qv7+QClBBwGvMhniWGJKggZhsjEhAEwvjY89Xw5OzU6ZvnXeUP5i3pFu6g9i8CewtvDVsJeQTCAZIAKgBm/I/y0eph693w/fVt96b11PLE8dHzmPhl/SkAKQGo/oT7ifpq+en2F/RP80f1Uvm//Lf+OgKbCIkPUBKSDy8MPgoTCDwFx/5m8V3eGc8TzLvVfeaY+60auECXYnl0aXR+Z55OpCmd/WLXtrxSr6iwTMIn3rX1mAFbB00RCBwkIMccGRkmGoYc1x1iHxMg2xc3A4voFNOlyH7GWMkB0kbgTPKmBVUWOyJIJyAmpSBiF38Lg/949k/yifKy8prwte3v7JvvVvTq+vEBNAW9ATf7W/id+4b+pvip627gD9/J50T08f3XAfABSQRTCj4O5QuABBv+Q/p19l/zrPJg83Pzw/Iw8133Uv6wBGEIcQp5DT0Q3w1wBgcA8/8XBeUFd/3F8DDnQ+Py4LLeZN/P59L6ohmzPo5eoW2rZyZUmzjpGBL3YtgCwmC3obkrx17fo/h2ChMRLBSnGuIeXRplEYEQQBpIJv8noB34DHT8GO+T43/ZudFmzxvV++JK9a4HIxaQHUgcDBWQDr0L7wijAeX3e/JL9CD4d/c881Tx7PPY90z4v/Wx9FX4Ev9UAmn+cfQH6hLmyOoZ8z/4M/vV/6cECgfsCH0LkgsSBMr2Ye0V7VHzSvfy9Qb0sfRC+C38YQBcBcEJ1QxFDsANOQrXBdQDjgKY/Un0puyV6v3rWexz5ojdjtvl4uvwMAYgJs5M5GrTc/Vmk02nMb8TOu84yqGyTa8TvcfVkvMyDXca7hukGO0VhBTDESoP+w+1E/cX4xscHqQY7wbt7CnYXdAI0jLXOt546SX43gXkD1UWTRd1EsYKugNv/4P85Pli+GH46vmD+iX3a/Ba6jXocuux89H7Gf+P/Sr8qP3o/gv9w/en8v30l/5cB/cKtAiBBLT/+fnp9ZzyufAV8ZTz7fco/YEBogINAcD9Iv04AbQFmQcpB98HsgomDL4IQgAb9zTxfe637Z3t/+nj4N/Z2Nyc6Uf8ORdoOyReQ3CTaiNUHjkNHhb8XNfUvqm5CcPQ067qfgFOEToWqhTnEtAT8RWDFCkUdxgtH2QlfCaOHHkFlehy1N/NCc7P0GnWO+E38V4BMw3iFDAYKhZID1IIhAUZA9H89/SE8Pzx4vZQ+NL0du9J7v/0pv2XAlcBH/zU+br7Sf22+9/3CPeU/R4HyQxNDTEKGgZoAgL+zfnv9e/yYvJd87X2WPtZ+zj1g+7d7EPyWftwAvwFrQdbC+EP6w9ICm0AkvUh7lrtWe+n7u7ob+AR2nvax+Vn/usmVFSNb9VsQFe2Pv0odRBg71bOObtbu8rIWd759rcJaRCyDxQQYhLjFD4W4xU4F28d0iM/JYkfABBw987eo9AgzJnKbMxY1ornOvtoDecYhRsJGQgUBg5UCbQFFP9T9lP0CPr4/Tn6ivLy60Dpbe0N9sX97gLOBN0C2P+8/oT+3Pyg+yP9/f8cAQoBEwKvAV7/mv3D/fT+pP5i/c78eP5TATAAMPgl7qnpq+s28F719/paAAoGgwtADigMzwVw/HLzre+57fropd4z1PzSBd0K+W8mVlWLbnNqMFbuQPMwMBoK+NvTT7+Iwu3SSOhJ+fEAaACh/+wD6gqhEaEVLRlwH58pAjJgMTwk5wuI7tDVVsnSxmTHt8nB0rzjYfh8CpMUkBelGJ8YoRb0EggPIAlgAJL7ZPuY+fLyZeqj5OrkXux+9ykCfQpeDUkKrAUMA2MBIv4k+1v7x/4vABH+Ufwj+rH3dfj3+sf8Gf+2AeEDfQWHBuQCefgt7U7o0+ly7aDyMPel+pIAygdYC2EKHAbB/z75IPWi8uLtkeJj153XzOTABBMzYVuyaQth7U4nOzcq1BEY8bbRocVdzwTgUPEW/Iv9KPn5+TwA9QaODgsW3x1MJvAwAzpxONwlcQZy5J/MrcXKyLXL/82l1sTmJPvvDhoadhnxFHwS8BIqFJkUQBFDB9P7GvKI65rmmOGW3rPiwfDEAYsOfBN3EbgNhQq5BUsAgfvL+DH8QAI7BOj+7fVo7jzsQ/Jj+3UCiwU4BoYFvAM6Ab76uvHI6q3nbuck6YvsbPC39bf8egObBTECj/4l/S7/+v4491Dm2dFQypzXp/ueLT5cEXITa8pXgkEPLioXf/kZ2sLIY8+T4XT1GwJdBFn7Q/Gz7gPykPrKBPMRyyF8M/4/XT8mL1ISQ/BX047Eu8IVyPTOX9kW6Yr5/wWqDS8RQBJwEm0SZRPcFdIYMhkSFAcJa/z17sPjY95S3pTk5e4i+TQACASxBhUKOAuXB1oDygFyA7sGtwarAS35IPAH7CztTPGP9mr5Aftc/uQBSgH9/fL6HPjh9OLwLPFG94j+5wL5AvMBhQKpAdr8U/bu8Z7uVOgW3PjQcdTr6wUYHEthbwp0zl8eREUrBRc4/vvh1sqtxifVM+os+zEDBwGK9ijxJ/Ui/1IKmxVAIeYtZDctNf8k+Qvh8lHeZc+dyPTL8NPT3pfrIPjYAQEHWAk0CYsJwAuMD9MTphcwGCsRkwX/+/b0/+vq4hrhpekK+dQG8QuWCCEEngHE/7j+g/4NAKoAtQAJAcf+Wvn18vzuI+668GP2RP36A80I8gkkB3gCAv4H+I3vn+kW6ybxMvaG+Qv8//5JA5MGIQVzACH6JfI45x3acNUJ3/f82yoPWEhtb2RtTiI0bR4QB3btntYnyxjT5+WE+cIEEQZH+XTp2OXP7+oAORG2Hq4pBDNWOMI0+CKbBuLpudMQyX3MzdVA3e/iaunq8Hn3gv6KBRsM6xJ/Gyok8ycqJsceFhIkBFb3Pemp3KfYM99c7e/76wQQB4oE2ADI//gBUAUNCTwLYwu7Cc8Egvx28XjlKN6h3m3k8e1L+H4AfAVKCK8KVQraBZUAR/1R+0b6BPoM+b/2r/Vg9vj1d/RD8rnv9unZ4WPf9+YdALcpulZTcXBtFljSOXIcxAIz6WLSM8UHyy7dFfE3/jICpfyv8T7v8/ewBeETEyAFKEMu7TKVLgsdJAOZ6k3ZGtLv1kbicOvg8BH0zvbX+Or5nvuv/iIEawwiFQ0cJyAoHq0T/wOH9W7rDOfk57DtafYI/vQBXADx+4L4Q/eh+P37z/6uAJgBDQIyAg3/B/jM72Tqu+uO8n36IQHEBPkDtwAj/339gPtK+bb2/fR49FT2L/iH+cL64PrD+cX3sPMX7b7iX9s633H0GBxJSsJs5XCoXlhDaygxDxf1bd860XrSyd7/7sn4sfjG8hXpC+bf7nn/kA+aH4gu9jhWPi06XyjUCxbwI95z2M7bEOPq50Hmv+Kc4cXjHulE8v/9qQpRGaMmFS4YLKkhEhHF/szwbuhN5HjkOusi9rv/5wGX/LHzWe067lf1cP7rBQ4LNgvcBxgD/P0z+HLxJOuK59fpevHm+fn/cwLOAQMBDQCu/o79S/xr+eL2O/UB9Mr0O/Yy9mv0ffEE7tXn292V2U3lAAikOXVmangEa01NIS3kFR8DTvK94YrZfN/T6qX0nvSS7QDiedtO4R/zAAz2IT8x5DjHPJk7cDG8G8//8Ohl3XLeR+XV6RvoN+OH3wbe4OBL57vxQ/8mDxYhby9INVkuAB1YB8P1Mexh6Lro/uq47+71svtg/OP2o+/S6/fv2Pp1B7sPnRDCC0gF4P44+H3wYOhM5L3ndfHn/G4E4AV+A5wACwGIBFMHxQVMADv5wvEv7fbq/Okg6vvoDuck4Uzblt247Q4RAz7aZZJ1aGqTTt4tkxafBf/2oefp3fTfpumY9Lb1Lu3j4GHbI+Ly8QwHdRvaK8M1vTjwM2Qn2RX0ArXyfekt6RLuh/Jh8Uvqc+Bi2QrZgt+p64r6AQuMGeAiDiX0HsUTugeS//H72vsI/QP9bPtY+NvzPu2R5pHileNl6+r3UQNbCb4I+AIO/AX4Jfgj+yP/WwJmBPoEHQS5AZf9X/jx9AX1Fvhc/GT+bfxz95Xxi+3F6/Pr5OxI7H3preGU3PXg2/SjGa5AalwxX45PWDe3ISUWBA1fBVX70/Wq9kH6u/0S+SrtX94H15Db1Oo7APsSVR9/JUgoyCfqIpoZsg2wA+j+Rv8QAB/9wPS15uXX3cyayTHQTt7a8GsD3hOeHn4h0h25FVoPrg3AD/QQBQ2vBVn9dfYQ8Nvo1eFy3Y7g/ul19V7/aAXaBrIEkwEG/vv7OvyF/Yb+if7q/Rz9UPz/+vT5Tfnj+Cv57viZ+ND5/fpK+jT1kO3U5Qvgztu91bjT5dsX964hCkxFZUliI0xxL8oaBhBbC7AIbwRDArP/p/yC9tDtVuOs2efWHdzS634BmBaTJPUouCYZIEYZ0BNhEVYSIxRzE3AMSgCt8g7mpNtk0zHPcNNV4oH3tQlCETINTAMo/M777QCkB2AM7w4MD9oMMwjZ/w71c+uE5tbnvO6i9+/91wDlAGL+e/tq+NX2tfhJ/iAFTwl1CRkFWQDM/Mf6Gvq7+Hr3P/bV9UX1CvTC8VHtyejr5EPiyeBi3dfZa9od5moBpSWUR49XJ1LEPNAj3xQwEJ0UlhhFGHsTnQuVBY//gfor84zqzuOa4QHolvSCA6sOuRHSDIgEJ/+wAEAIShGCF70YuxaEEkYMxAKn9vLrH+UX5VLqV/H890P7DPoH9Hvsc+ie61T2WgNaDX4RRhDaDDYITgL5+631hvGa8C/yJfUj+IL69foY+jn54vk0/h0F5gvQD5IOzAjiAKX5YPXs84v0rfUs9vb10vTs8zDzXvOt9BH1HPTs8EftFOxK7wb46AO0EHga8B1SGloROQmQBi0L8BPlGiQdjxphFssS3A/QDAEJkAXWAqsBLwLFAwIGPAdoBocDFACx/UD9JP56//UALALLAuAB9P6O+iv3OPaF94v6WP0I/zL/LP4O/XT8sPyQ/Cv7mfge9uT1zPdz+pf77vkz93j1RPZS+Rn9PwDUAUkCKwJHAu0CaQO5A6MDfANuA+MCCgF//Yr57fYC97X44vlS+bT3G/cr+Ln5l/ll98f0+vO99fP3TPiG9pH0EfWf+Mr9kgK7BW4Hvgc3B18GDQZ1B6UK2w48EtwTOhTnE8ETkhP6EgkSHxEpESES6BMtFXQUQRH6C3gGCwKC/1X+Tv2x+7b5K/hG97X2x/VI9A3zUPN69Q/5afz2/WT93PvM+qv6GPsX+3v62Pnf+Zv6TvsC+6n5P/gC+EP5RvtA/Yf+Wf/o/2IAtwCJAE8AbAA0ATECbgJhARH/jfyZ+n/5T/mF+aT5cPnz+DD4W/ff9vD2VPfB9xr4ZfjX+A75vvju90n34/cq+gn+bwLVBTkHnAYtBX8E2wVZCY0NFxFyE/EUPhYaF6YWzhTAEiASbBOtFfUW0RXlEjkPtAt2CCYF8wES/+38Mvuh+UT4HPcP9on0m/L78OTwDPOh9rL53fpc+mP5RfkU+vH6HvvQ+rj6FfsB/MH84vyP/Br85vvW+xv8nvxv/Zn+kf8BALD/zv7a/U79e/0G/k7+7/3P/H/7hvoz+l76ZvoE+hb51PfQ9n72AvcG+On4Dflf+Jj3Ufez9634BvoA/Mv+3AE1BE8FpgU1BpIHUwmpCqILTA1REPATRxYpFkcUfhJyEvETgxXlFecUOxOgEWwQKA9gDe0KtAc2BC0BRP9b/qr9W/zq+ez2WPQZ813zdPRv9Wn1bvRo82rz9fRF9+T44Pih97v2Wvdd+Y37g/z8+8L61Pmu+Sf65/pw+5X7cfsL+8v67vpO+5j7jPtY+1D7rfs4/H38V/zX+xL7OPpZ+bz4cPgs+Lb33PYM9tT1a/ZN97P3m/dn9/j35fnY/B0A1QJ3BEIFPgZYCG4Lkg6aEEcRyhFbE/YVQxjvGN4XUBbFFWwWRRdAF/cV3xPEESQQ1Q5xDZoLKgl8Bi4EswLQAcEA5P4f/Bz5vfaJ9Vb1h/WE9dH0i/Nm8hLyuvLC81j0HfSW87Pz1vSK9tz3G/h498P2rfY/9wX4mPjP+MD4w/gT+an5S/qe+nH6IPpR+jT7bfxk/ZL9BP1D/MH7qvvW++v7mPu3+nT5QPiX96r3MviI+CT4L/d79vT29vj++/z+GgEtAt0CWwRbB2wLIA9KEQ0SsxJ5FEUXyRm3Gu0ZeBh+F3EXuBdiFxYWHBQiEo0QJA+EDXULBgmVBqcEggO4Ap0BxP9B/cb62Pit9xD3hfbS9dj0r/O78mzyxfIk8xTzqPJd8tTyDPRp9Vf2mPZu9lD2qPaA9234DPkv+RP5J/mZ+Vf67vrt+lv60Pn9+eb6DPzO/Nz8hvw4/CD8O/x4/Lb8q/w4/IH70/p5+nT6lfqZ+kT6nvn/+Aj5JPoP/CD+z/8IASQCrgMRBjMJdgwKD60Q7RF+E40VpRcGGUkZrhi+F+AWNxaUFXUUjhItEO0NDwxnCrcI4gb7BDgDvQGTAML/Gv8g/qT8I/si+qf5WfnQ+Or35/YC9lD15PSi9Ef02POH827zmvMD9ID09PRU9ZT13fV29lX3Ivis+BT5gfnq+UP6h/q5+t/68frt+vD6Hftv+5/7hPtG+xn7F/tB+3T7evtb+0L7OPs8+zf7D/v2+iH7ZfuM+6j7C/z1/Ej+rv//AFUCvwNGBRYHVAnNC/INeg/AEEISBBSDFUAWSRb6FZcVPRXdFB0UsBLDEMoO9AwlC0IJXQeMBcgDCwJhAPX+6/0Q/Qn83vro+V/5LPkH+Zz4AviZ91f38vaG9kj2LvYV9uf1mvVe9Wn1m/Xb9TH2bfaV9gj3yveG+Bz5nPkE+mD6wfoj+477+vs9/Er8RPxo/ND8JP0b/ev84PwQ/Vb9cP1E/RX9EP0A/c/8l/xR/Av85PvK+637rPvt+3n8Q/0c/uj+9P+HAV8DBgV+BjkIXQpvDAUOVw/KEDISHhOUE9kT6hOqExcTLhLsEHcP/A1rDJoKjAh2BpIE2wIcAUn/o/1q/H/7m/qn+bX4AvjH98P3g/cW9/D2IfdJ90b3UfeM99X39ffx9w74bPjW+Bn5Mvk3+Ur5iPnP+en51Pm5+b752/np+ej5CvpS+pb6wfrm+kH7+Pu7/Cv9YP2r/S7+yv4+/2X/Xv9V/0j/Iv/Y/m3+DP66/Tr9n/xS/Fz8cfyN/O/8qf2y/g0AvAGLA0EFIAeeCV0MjA5JEEISZBT/FeUWdhfaF8UXCxf0FbIUExMFEcgOfQwSCosHHQXiAroAqv72/KH7Zvo5+Uz4qPcs99b2qPaF9mX2X/Zo9mP2VPZP9mT2efZ39nH2iva/9u32Efc/9373wff19yX4cfjM+Ar5H/ko+UD5Yfl8+Yr5kPmW+aT5y/ko+pr67vo++9X7ofxN/eL9n/52/wYANQByAPAAPgEUAbIAXAACAIb//f6B/gz+2P00/t/+ZP8LAH8BiQN6BW0H5QmyDFAPwRFPFLsWdxiRGXEa8xqsGr4ZoRhBFyUVWhJ3D7YMxAl2BkMDkgBE/hr8Bvor+Mz2/PWB9Qr1ifRK9JH0JPV79Xj1hPXR9Sj2V/Zg9mP2b/aK9rH2zfbN9tv2IPeG99n3E/hp+OT4SPlw+X35qfkA+lD6WPok+hv6XfqP+nj6XfqE+u36ffsO/IL85fxz/UX+CP9o/4r/3v9qAKEAPgC8/2r/B/9v/vf9w/2W/Xv9vf1N/vb+8P+PAZ4DqAXHB2gKbQ07EKES5xQpFzkZ4xoKHKIcuhxpHKMbKhrcFxcVaRLAD6QMHAmiBYACnf+2/Nb5Yfeb9Wf0fvO18iLyBPJa8r/y7/Ih86rzhPRW9cn17fUL9jz2bfZ39jj26PXr9S72PvYJ9tv12/X29RD2MvaH9v72aPfF9xn4YPi/+Dv5jPmq+fH5h/ob+0v7H/sA+zr7oPvH+5f7Y/t2+7r73/uw+0v7H/tv+wP8gPzO/Cj93v3m/vj/AwFLAvkD7AUFCDsKgAy0Ds4Q7hIWFS4XMRkHG4UckR1BHqEedx6RHR4cjBr7GAYXYhQ0EckNWQr4BoUD6v92/Jv5WvdL9TPzVPEJ8FzvH+8n733vQfB38eLyHPQK9fX1AfcI+NP4XPnF+Q/6F/rJ+Tv5iPja92D3/vaT9kH2J/Yp9iD2KvZ99h/35veh+F/5Lvrj+lz7gftc+zb7S/tv+yP7W/qS+QD5Z/iH94z22PWY9c71Vvbj9lX37/cU+aD6LvzL/cf/JQKZBPUGOQlBCxEN7A70EP4S3hSdFjYYiRmiGpYbOxxfHDIcChzbG0gbEhpQGCwWsxMLEUYOJQufBzEEOgFo/kv7Hfhh9UfzpfFh8I3vF+/97nTvafBo8UfyWfPP9GX2yPfz+AH62fps++P7Mfwl/On7w/un+2L7+fqa+lH6F/r9+R36aPqu+uz6R/u7+xr8Uvxx/Hj8cvx2/FH8tfu/+s757/ju98z2s/Wr9M7zT/MV88HyYvKF8lnzZ/R59d/2t/jD+uX8N/+eAd8DIQa0CGsL1w3/D0ISkBSQFlUYIBrFG/kc5B3OHoYfph84H5YesB06HFsaShjPFcoSkg9oDBcJcgW/AWP+U/tc+JP1IfMQ8WzvOu5z7QHt3uwa7bHtge5p713wYPF28p3zuvSs9X/2SvcF+Jj4DPl++dz5Hvpx+un6Wfuc+9j7L/yC/LL80vzt/Nv8k/xa/Cn8n/u8+un5M/lJ+C73LPY+9Uj0e/MJ88LybvI88nLy8/KA8zL0L/Ve9rb3Uvkr+xb9/f4EAUgDpgURCKMKUA3wD6QShBU5GI8axBz5HvIgfiK5I6Ek6SSCJLkjmyLGICcePxtMGPQUFREIDQIJ3gSgAKP8A/mN9VDys++47QbsjOqD6f7o1ej16IHpd+qZ69XsRe7Y71fxuvIj9Jf19fYz+GT5gfpx+0X8Df24/UL+t/4a/3X/wf/n/97/tv+K/17/DP+J/v79eP3Y/CL8fPvJ+vL5QPnY+HX43/dF9+f2o/Y69sv1l/V49Tf1GvVZ9Zz1sPUJ9gj3V/in+Uz7o/1dABQDBgaGCTENsBBIFCgY6RsmH/0hkSSUJsUnWihqKLEnMSZHJPAh2x4jGzIXIBO+DiYKvAWOAWL9XPnX9bXyru/n7Kzq/+ic53bmyeWT5Znl2uV05lnnYeiW6RLryOyU7ljwE/Lb87L1dfcC+Wz6zfsH/Qj+2v58/9z/AgAkAEYAMwDp/6z/jv9G/9P+nP6q/pb+av6B/r/+vf5+/lT+MP7H/SP9fvzF+7b6gvl3+FH31/V99KXzCPOE8pPyb/Ot9Bn2NPgy+3r+yAG1BXoKVA/GE0IY9Bw+IbckridMKiQsAi00LdUsnyuEKc4mkCOwH2Yb/RZnEokNsAgiBLH/Qfsg94HzO/A07Zfqi+ji5nPldeT+49vj6uNH5ArlEeZD55/oJ+rS65vtfO9c8TXzDfXZ9oD4+/k8+0r8SP00/tv+Mf9q/6T/s/9y/zX/Pv9H/xr/G/+O//T///8iAJYA2wCiAGgAZgAGAP/+3v3r/IT7d/mM9xX2bPR88iDxk/Av8Obvg/Am8gz0KfZR+YP9wgHTBYIKzw/GFDAZnR0CIqwlgij2Kuss0S2yLQ4t1iutKcUmjiPoH6QbJBejEvYNGglvBA8AzPuz9wr00PDM7RTr9uhT59PlsOQ35BrkDeRI5Pzk2+XT5iDouulQ69bsmu6L8EjyyPNc9QL3aviw+Qj7M/wA/cf9sv5g/7b/JADfAIkBBQKmAnEDAARVBNsEZQWCBXEFjQVwBa0EtgPTAnEBW/9R/bT7zPlF9wz1ofMp8kjwBu/j7uju2e7N7/7xV/R49mr5b/12AQ4FAwmrDSASIxZKGoweICIGJeAnaSoBLMYsQC0xLSssiCqjKB4mlyKzHugarxazEaoMFQhvA3n+vvmq9drxDe6y6inoKOY05J7i2+G54cLh6eF14nLjqeTc5R7noOg16ojrzexs7hXwN/ES8lHzxfTF9Xn2kvcG+S36GvuA/CP+P/8SAGMB3QKTA90DkARLBS8FiwQeBHgD5wEhAN/+Y/38+pj4KffG9afzy/EA8VfwGO907iXvCvBi8EPxbfPm9f33f/r6/Z0BCgXSCBoNSRFPFbYZGx7pIWMl9igdLEMu/S+VMTsycTEmMPYu0SwIKbQkxCBOHKQW0xCzC3YGiwD4+mb2GvKf7cnpFefl5OPimuE84SXhPOH+4UfjY+Rz5Rzn+eiA6vDroO0u70fwZPHC8gH0yvSa9ef2RPhg+YT61/sI/SX+a/+tAK8BmwKkA28EwgTnBAwFsQS0A9QCGQKyALD+Kf0Q/FL6EPhY9ir1jPO18cnwgvCw76Duj+4V7yjvPu8v8IXxjPIO9Kz2g/no+9L+0wKsBu4J2A3NEkoX4RrjHn4jLCd0KdUrdi6lLwEvLy6SLacrSyjMJFwh3xx2F3QS4g25CCoDYP43+vP1+/Hr7ljs2Onm58Tm+eU45erkOuWi5QbmtuaP5zLoA+lC6k7rEOw67fDucvCv8VvzY/X+9k74P/qD/AH+FP/MALMCqgMqBCYFBQbZBVEFYQVHBTMEBAOhAgkCjQBC/7D+y/02/CX7sPqF+Yv3RvbV9az0uvJp8cLwiu8b7sLtCu7P7aTtw+6q8GXydPSe90r7yv7YAqcHOAxkECIVKxoqHloh/iTTKGkr+SzRLl0wEzCRLowtcSyTKXsl3CGJHjgaXBVBEYEN4Qi9A1T/f/to9zXzje927LDpPOcv5ZzjleLq4TbhmeC94JThbOJk4zjlgOc+6eLqb+128L3yifTY9lD5Cvt0/Fr+9v+BAMEAkwEtAuIBnwEXAnAC/AGsAfcB2gHrAFYAfAAgANL+w/1s/an8B/tt+RP4D/Z384/xaPDs7gzt1ut26//qe+qt6qfrq+zP7Q7wcPNa90z7f//XA/4H7AvpD2sUHhl2Hfgg+CMjJ28qQC0hL2sw7zBJMMwudi1qLF4q3ibWIjgfZxvFFg4SuQ0eCXIDov2p+AL03u6e6XflKuIz3xDdntx73WPeXN/t4CvjTOUs5ynpEuuu7EPunPCb85v2C/mv+pf78/ss/GD8pvw1/Q7+6f6f/40AvgGSAscCwQK3AjgCSgHIAPQAFwGOALL/8P4r/nD91/wp/NP6w/hr9h/0WfJt8enw5O857tLsmuu36ULnK+Ww4/bhgOEA5SjtWff3AL4J+BDWFcQYahyEIe4lSigfKustpTPpOU0/gUIVQt49wzcLMmEt3ChtI0sdmxdiE3cQ2A3UCrsGCAHU+ajy4ewT6Fnjot4r22nZKtlY2nzcr96n3/vfueCY4k3l5OcD6lHrwezx7h3ymvWM+Nr65vvn+8P7l/wP/s7+AP9S/wYASQBOAAgB1gFgAVX/gf2A/N37Ifub+mT6sfnJ+DT4dfiA+Hr3DvVo8Wrt5ume5zHm0uVl5h3nQedq5oDlvuM84B7bs9bQ1sLcuupx/5oXYi1nPJNEPEbnRH1ASzrrMjssgClvK6YySTs2QvVCvTsgMPcjHxqHEakKlQacBOsEBAcJDMsQ6xC1C50CCPm/7inl/Nyl1p3SOtHx1KTcl+Xl67XsoOl/5OjgA+Cs4Y3mNezH8/X62wMFDa0RZxAHCOr+LfXl7s7sR+8T9cL4NPyw/vsBPAN2AcP+Lfve+Vz6bf0rAnUFZgbCAi/+W/pS91z0EfDY7FbpA+b84mDilOTr5SXmkufm6sbuXfAi8bLvKOl036jUS9N52wHwTA5dMP9OSl4yYhhZwEsSO7kp9RxwE0YSdxaSIl4wAjgnNVkmMxRzBE/7Qfki/JkDxgvjFKkdtiMuJCUaSAqv+A3rHOIb3afaFtii1s/Vydj23jvkOOb64wnga96K4YHphfIW/BoCaQWNB8AH9gj3BpQCsfoq9MPwAu8h8Fzw5vER9L32FPtDAFEFFQerBi0GSQVBBhQHKQivBzwDsvwp9R3vPuj54Xfdhdv33FfgDuVQ6aDrN+vs6i3rZ+yn7zXzEveW98b1Xu865MnXQsw0zkXcFflyIPBH8WWWbrpoEFdyQysxxiHkGo0XLBgGHuQpgjZXOQ0vgxteCDX95/nL/34JchO0G14gfyORIUAYXQZV8iHjatpd2EHZktz931Lf+d053hLgqOBc36XfNeL856DvVvpmBWsKrQlmBhYC5f4+/VH+nAGNA3QEFgM2AGT5a/JE8DDxkvUI+/MA2gQ8BbIDaAFY/VT3F/LV8I7xZvAl7kjr9Ohd5c3h7t/d3mLey91o347i/+Tj5mvoiOu47yXyqvMK9NL03vHZ6snhZNnL2pbmOANmK81RxGndbQxlLlK6PnYuJiNnHOsVLxMqGnImCzAiMEck/REnAH/5b/1fCHISWxdlG04bzhgCFDcK9vpY6BTb8ta62F3cmd5/4M/ea9ox2Qfcb+G85FTmNelC7hL18vwDBRoKbArdCKYIngp2DAcLlQcSBJgAef18+mb3L/Q98f/w2vM5+Tr+ogHkA/cD+gLRAa8C7AOxAxEB8/sU9bfs/eVv4Rfe3toN2THa3Nxc3qXeft8N4LjgNONs6aHxYvjP/SwClwR3Aeb5ofJV7nDvwfeXCyonMEHcUfxU90yYPPAqJB/ZGqEZXhhhGcQf+ilnMp40ui0XIfoT0AybDUIRBBQRFaMUXhJPDh8Iof9c9DzpBuNp4zPnlepN7a3tveos5vHj1+YE64rskett6rzrmO4t83r45vrU+RH3uPbs+R/96P1v/A/6YPiC99T3Ffnl+Q/7F/1EAP8DHQahBkcFFwKD/hD8ZfuS+tb4Q/YC9J3xNu706oTnGOSZ4SviUeb76tTs/ex37Y3upu/78KHzevWF9b/07fSZ9B/yNO+J7tjvmPDN8p36+AnFHF8s1jKtLdYfOxK0DZ0SuxljHEcc4B4AKFY0vjy/O/MxdiaKIIwhHiXYJxAoaybWIpce+xlkEzkK+P/x+Hn1tfRY9VL2MfXY7jvm3t9y3uPgA+Px4urgkN753s7iuejM7aPvFvD18FzzP/d4+lH9lP9R/zz8WPi+9vT37fm7+vz6jfuZ/LT+5wDFAO/81feh9BP00/UN+f78vABVAqIB8P86/JX3ufRX8yLx5uzk6Zrq6+yD7t/vYPGY8KftLOyP7cLuD+/t8Dzzj/P18N7uZPLa++gHhxCmEMgIfQCcAQ8NKRvFI3kkKiUSLRU6+UX/SMBBpzdaMqYz8DalN400LS8WKe4iox0QGKIQiQcW/jz2f/En8N3vye3G6PzgU9ot2b7cgeHH45Xi3eCJ4SXlU+p776PyY/Lm7y7tqeuH7MHvU/M29Vv0vvJR86r0LfVI9CzyXvLO9R362Pyw/Er7ofm6+J/6d/2g/sH/GgKhA7sDPQNsAv//4/rz9vn0pvGb71LwCvHQ8czygPOw8+XyXfPr9FP08vL18dTwEvAV7nbr2ewx9dYAKQcABeL/SQAMC1odOC4wNO8xUzPJO+5GK04UTCJCazdJM5g2/zoLOxU2SS0vJDEePRntEvALtgTY/fv4k/Y39QDz9+6h6APg3dl62tff5eUw6NLl4+Hi3xbibuXg5qDmEeSf4IHdYdsS3V3iMuhl62/rbuyT8Db1aPcw9d3vEe/c9Sr9tv96/mz9T/6E/oj+dP+5/5IBRAXBBsgF/AW1CEQJHgXP/xL8MPqh98Py2u0U657rCu007I3scfA984fyFfAw7BrphOgj6K/n4el789oAnAZiBdcGvw/WHUMr4TGmL4gs1zEUPZREXUMoPZc2/DEJM2Q3ZzirNKktKiaqIJ0dOhslFhIO/QV8AUoBXAFe/oT3A+1B4SjYsNXD2brgm+ep6wbrTecf5Qrlm+RH49Hfc9oJ1oXWXN6o6p/1N/vu+Zr10fb2+zb7QvQe7F3oye3v+DcD+wbMBHgFQQhzBVb+dfci9Lj1YvowAW4HMQwqEr4T0AztAub5N/Ol7ULnfOGG3R/e6+Mg6+bygvmw+dTyUOqv5ELiPeK444bn+PDa/s4J7QzNDUkWnSaXNOk0QyjJHSUhqzCIQANGlUNZQe1DCEjqRqNA7DfVLrsk8htXGb4YKxr0HTgbIxPnC0EFBv3O8sTn/9h8yg7I4dHO3vjoEe6f60TmdOU/5NfdW9ZW0zbWWNoy4S3sLfWI/ZcDcABQ+EnxY+0P7EDqfOcM5nzqNfbHBAgPOBFiDgEI3QEe/f3z8uqu58XrFvikBc8QABlGGhgT5gVR9rvmStyv2MbYwdum4fvrfPWb+gYBfwKn+Tvtv9+O1XXVmN4G6zv4/QgeGX8eFxrGF7YbbyKeKiwpyBmgEEgbpjIaR6BRaVWEUktPpFC8SyE7+SjMHEYVkBR2Gbsc8B4IICcdtxanCrn6+es53kHSscmtxljO7d6Y72T5b/li8SDoUuLl20bUgc/Szv/VFuXt9H0A5gflCqAGrP3j85rozt4s2z7d1eI97Nf5WAnBFI0Y2Rd5ED0CTPVz6gnjRuOJ6NHw2/y6CgoWeR11G5wLwvjR6E7cN9b81TTeuexy/HgIOQwODCAIKwFU+OrnmdYizonQwd0m8g4J+BxUJ9UkQxwmFa0R8BReGFAUvxAEF1MmgzvmToVVp1PtUN9Mz0UyOKsmERYODmcT9xubIWYjKyGbGiIPVgNP8/Tf1tMpzcTHPMhL0+HiG/Gv/dkA2/bb5+3bSdHnxm/DgMXmy2vbBPGmAzkOBxOoEEAEIvWM6YHgjts13+vn0u9w+qwJZxf4HdUcFBV5BXXy8OVb4HjeleMZ77H8cgtkGLUdrRYTBZbyfeKC1NTOh9Ft2mrqUf1MC7sOTA4xDf8DbfVA5NrRB8bExenRZucHAnsaJyhtKGghPB4OHzMfWBzWE1cPlxh6K35AUU+0U+BS+FETUPBJ/T3FLvQenxPEE10aeB6qIJQh+x3nFesJjvh54wrQgcbsxabFn8qD2KfmXvHh9wj1l+pa4/bcUNAqxEC+Z8Kq0S3mP/pFBlkKtA0wDZoDA/ht8D/qLOr28Xn2ivhAAZ8MGBO9EhANPgZ/AHP93vrD8fXooetz9nsDbA98Fk8V8QxjAYfyAeMQ2jbaWuBo6kf1P/n497D4ofpN/An8fvUA6AbbFNXW1ETcKO0vARESBxqwFcgN9wxOFTkjWin8JNEiuSQjLxZAKUZoQypAajy0PCg+RzlqMLQnvSJEIzYf0hQDDvYJowlWCZf96+vZ3LvUhNXS1WXSt9Lh1vPaWt/B3njaxN4X5kbpPehk3gDW/dge5DfyPPty/Qz9Xf2K/nX/D//c/Cj/aAWvBwkF3gIaBVkIhwyVDUoHWgMvBHYH9AmwBqwCyQCBAOYBKgOsA3UDaQKz/sD3n+4g573kiOii8af0a+9B6ULiw+MY7Z/wovDM7qPqSekp6LXn4ewH9Yn/ZwfTBj0HAAupEVQeBScZKeIpbSuSMds58T6VQEI/MTw3Pk1BbzxhOBU2bzC4K6kk7BhcD9AMTwusBaH8Q/BC6KHjO90M2fDSGM8w05PVFNPsz4fQKtPR1x3hXeSZ32zbi9pz3nXlOu7084nzc/QG+ff7ovv2/b8DegjhC50KjAaSBRQK9xLDFRsTtBF4DToLDQ2oCrMHtQcyBQ4Ch/8C+7n5KPtB/Hj9Xvgm8Ons9eyp7pvwG/A562/oyupb6irqiuxp7i/w++4d7bTr6eod8Nn2YPnY/XgFLwhdCpEQQBZbHkckxCXoKBEqyS6CNrQ1vzRHOCE5KzgLNY0uHSpRKKwj/xzkFfEOCgvgBur/ufkp9sTzQPA66n7iId7a3a/dtt0j3Yncdt0o3+ng+d+h3rjgreOa5nPpf+rI6mvtTvL99UL49vuiAakGcwlxCXIGZAW3CK8Mrw+xEHARKxKwDiILbgljB9cIvwkzBmkCGv9Y/SD9rv1DAOUBtv+e+zf3AvML83/1c/RO8tjvNe4A7mfs6u2j8DbwB/Fl8P3rBeyh8IzzdPhI/JH7Mf6BAPADzQy3EGgSXhabFgMXrBqkHFwe9CFWI7AjLyL7HVsdLxwHGcsXZhSZEScQzw1XDEwJ8gfEB8cD9gAE/777AfmH9W3yxPD47zDwNPEX8U7vvu7h7XTs2uyZ7lfxGfLH8YbywPIi8+/zL/fL+rP81P/B/yX9Of03/tj/9AHOA7kFhwWHA8ICZgAW/o4AeAH1AOwA+P3j/Fv8xfsQ/z8Atf49/q77afej9hD3gPby91L3ofQ/9Pnz4fRM94T35vZw95r29fY0+vH6rfwF/6r8b/xA/ev9owPnBt0H/gmVB+MHJAv4CQgNmhDaDscPrQ4aDP8NSw7GDucPUQ04DKwMJAy1DRYPYQ7VDfULuAisB4sIlghzB/8EIwHT/Wb8Cf2l/mr/sf9o/1X9m/pZ+cL5GPuY/DL94fvf+PD2YPZN9lj48frN/FL9FPwG+8v4L/cf+Rn8h/75/7v/TPyQ+MX33viv/DMAvQF9Adn9rPui+wv8ZP9uAhACBwBu/eD6n/rN/E7+Z/4e/TL6ovik+fn62vzw/TT9V/0V/dv9KQA0/0/+0v3b+u75O/tH/SAAbwE8AT4AsP4n/2UBdgKeA5kDyQCL//7/7gHVBL8FCwc8Bi4DZARABs8GzgiECLYF1wOrAhEERwjFCVwJhgdUAbH9o/6y/5AC+QRABK8CnwC8/n3/ywECA9AE3gRZAUr/n/w8+jf8Dv6uANoDPgOiAW7/cPye+zX9tQDyAy8ESQFh/MX46Ph0/P0BcwVIBbQCJP4T+zf7Sf26AMUClQE3/2L9Nv0rAEECoQEpAST9AvpW+8f6bf29ANH/UABz/0P/VwEjAnACVgCh/a36s/lx/IL9aQCqArIARQBU/33+jf+jAK8AG/8b/hf99/0pAPoA5wKZAjYBfQEcAFP/4f/x/3j//P7U/pX/KALuA3EEdAODAHr+xvyR/OP9c/5KANgBewGZAcoBKgE4AnYDRwI9AsoAE/5G/h/94v0wAYICjQREBG4BWv95/d39GQACAkwDFQMmAOj91P01/r4B9QNYA+ADHgHP/in/xP1E/un///9fAAsCOQM0A80DdAEI/gD9U/tj/If+zP4mAOb/Qv+sAOYBXgJmAnQBSv5b+zX6Qfpp/Br/7AE1Az4CCwKw//r87vzo+xj9F/9Q/9EAuf+M/vP+Yf5RAXID+QLaAS/9dvp/+QT60P9OA+sEtAY8A7T/aP/3/rz/PAEw/+37ePts+4/+hgTIBrkHGAYWATz+fPwf/P38Nv1Q/Yj8d/5JAgAFowgPCDkDcf79+Mf3Tfqg/SMCZwPlAoQCLAKjAzAEQQSKAif+Gvy0+lP6L/3h/xUC3gPqBLwF+wV7Bf0CTf5M+dr2rfe++sz/DQSHBkgHUAabBisFqwHO/6L6W/WU9Y72//rWAl0HYQpvCsAGjAOS/p75tfbT82v0Cvis/dgEZwmyC28JpwM0APr84fqe+iz5APix9yb64v+ABvgMjg8KDU8GXP2+9gXz+vJa9jr6YP5hArwGEAoxC6kL7AdcARv8svU48onz8/W9+xUCYwdiDSkPiw1PCfoAp/gV8urvMvLM994A5gZmCiQMdQkMB4kDxP/h/Nb3r/WB9Pz0k/rp/y4H5QyqDTgN8gduARf8E/bE8nzyBPb++r8AhQeCCjsMFQxuCBoEu/1d+OrzlvCv8j/35/7BB70NVxG+DtcINAKn+YD0QPLs8ff0xfmqAFgH1QxJEIoOAgrHAjL6rvTo8GLxBvZV+vv/FwVrCN0L1g1nDYMIgQCz97juV+vi7dD0EwCeCS4QNhJ+DhEKrgPo/Ef4zPLo7xTw0fIC+5kE0A34FAMVsg8bBxP85PIJ7srsa++S9gn/aQdMD48SeRKYDkYF+/xX9X7vH/AE8kb2dP28A1oLaRBFEpwRLQolAYf3te1q6nPs7/JE/GgFsQ2mEbMSBRGnCm8C/fiN8MrqYOlj77z4kAPBDhQV+xU7EvgKIgFa9q7uTOps6njwEPonBQcOnBP5FGcQKAqAAiL5a/GK60jq2+3J9fgCAQ4DFasYeBTLCyACwPht8c7roeoK7UXyaP2jCg8VtRqqGaYRfwRb9wnuZei/5yntf/WH/7oLABbCGggZjRBmA+r0VurW5rnoju/c+WcDiQufErAWexa2EEkG7fk/7Rrm8uYK7OD1bwLfDLgT8RaDFnoQxwZJ/OTwV+g15l/r4/QFAJUMihRwFn0Vyg9xBpP7O/Gm6YzlQukt9NgAEA6AGHsbPReiDmwD0faV7LDnmedm7Fb2AANKDqIVkBj4FGILnQEf+RHxY+ym6xHuM/Qa/pIKhRQsGeYYQxAZAur1ROyE557p3O8N+cECowxWFcQXghVXDzcDrfa07VnoZ+ge7vj3QgLoC90UqxmxF2wPhQOF9FzoX+XZ6Ifymf+7CsERqxJZES8O1Qai/0D4++/d6ijrtfBh+foE6BBYFwkYRRTpCoD+TPPG6vXl2Oa871L9NQqOFRYbexeRD5kFs/kx8Nbqyemk7dv0e//zCrISdRfIF4MQgwV1+SvtIubs5WzravanAoQOshftGboWew6FAgj38O6/6gXqWO4+9QT+kAhCEa8Xfhi0ExEL0/yz7pfkb9/H4l7vuwDIEKoefiSgH9MUAQSl8vrjmtuG3l/nFvZFCOkVGh5qIMUcPxJRA2v1gOci3pHeV+bY85gEKRXPH7chIRzXD6n/l+9N5gXjReP/6w74CQUaE1gbIyAlHRMUBQuV+hHqTt1R1jbbYOmK/yoVyiTfK5EoEBvTBYTxj98N1O7UE+Bj8RMGXBqnJpgnDiEHFMAACu9l4qDbb9wa5lv3OQieGeEn2ikcIg0SPP2+6PXaOtnH20PlxPcFCD0W3CBZI+kdlxNEB1P4xukm36/cG+FI7d4AyBG6IBwqZyfUG/AHGPMT4VvVkNZz38Dwlga7GY4maihJJEkWtwD17ZjcIdNJ1VDhOPShBqAaJigAKf0j0hcoBXvxheSF3U7aveMk9/kGjhZAJJYj9BrhD94CQvNH5aHfLd5Z4rDwkQOYE3AgtSfQJBgXpwTx8LnguNbu1WHiJPFwA+gX4ydzK90iqxvGBArrFuNg2ojZZeCc83kIHgxAI3IoeRLDCen5h+rE2U/avuXF5IX+ax3vJTcq/it4JP4Navux83Hfa9f946ztDvjvAzgVuxz1HW0iexjYAwfvauRR5Abmze4J/54JYhIWHH8cTQ52+5rzpeou3UfbnuIT6K/3ExQhJYcppSh1IBsIPOxA4oTYftPp40v7Uw8+Hh0rLy2rHwASnwOX7iHfm9os3B7odfvfDXMYrheQE1wKY/z+8vDm29xm33zm+/SaBckVpyRbJXgkDh4EDHD7pe1Y5e7djNhw2H/cmucT9sn9VvtE9z7tI+I93Are6+L23srfVeQV+doiqE1rX2FNZ0D7OtAvmRluAXb4cQF1JqlIp0m2Nugy9jMuHxL9/NSWrJONZZSos7rKld/B+CIJPwxBDaUATuQ10IPkUhHMLyZH+ldPXytf51TFMmD36c09xGPEksSp0vDoDO7c9toFYv944TzHsb3ztsfMc/8EG10a4iYLQPk8viF5CrXyMNwl5ZT9rP3M93oEJg7XA5z73f1P9r7pKuyp7GHbZdMO2rnb39t44W7p6+pq8/MDyP/l5pvRqMkmujKtrbU31ioOf0b7aOZmeGRtdVR6YVs+Ix/9I/N2/4AQQhKuDJsQmhZ+CqfrHch4rMmZJ6EDvrnfu/6XFx8ybkn1WvZT8zKyDnL++wjiE40Uug2ACS8MKwxV/CTdFcFss7i2k8PbzCrVKuyTCFcftiXmGEsMqwdMEwkifh68Dq4JcQ3wBrP3F+Km0VzRuOLX9Mn37PUZ/eYHKQmNB68CyPqw+ksKSxm+FaEJzfkB6znfudReyrbCuMok4mf2LAA3BEn9E/FF6NbfdMwIryKkhbzd++xDAWqdZ3JcwGgCcr9Xmxt3483ULuqXBLkFtfHF5xjxjPVX5jnOHr/XvgbVX/qEG8UxGj0KRppLUkysP2ogYAAQ7wXwavSj6yDe+tjI3enlpOK81cPQftqi7vEG2RjOHaId3iByJS4hARO4BX0ADQKnA4T9v+3E3+7fQeYV5EveJt7C6joCJRb3HfQaERa5Ey0QowWT91nsrehA7vX10vYK8VPrWOsk77HtLukR6c7wzvs9BA4IegVe/F7vBeOT237LLLmivPDdKR5pWM5t4GQlZHVwf2e6Pv4CLNyW2pTpafDU6M3edOCZ50HqwOPk2g/aluNz/FAbuDi/SfJPlFMaUIJAayEM+yDevNWG3KPfyNdi0p/Vot5r5RPmZeMy5oX2bwvNG3YlXygZJ5UlMiGfEkv+Ju+R6HPoY+x+8FnwX+9s82v2dPLR7yH08/udBSsNawpTA3X/8vuA+H/17fMZ+K4Dgg1eDTsDJ/gr83byhfD06pPpWvFX/acAH/vn9hnymeuL5E7dW847u4G9TtyjFupSHm4taM1dWV9/VakxR/rlz8rIqdcy5k/rfewj8Dj5wv2v91DqH+Ou7JgF2CBjNTxBkEO2P6M0yx+GAYPjFdHHzr/WOeDC497kCuud9Yv/MgKq/bj5sADWD68dvST9I9QdyhRSCfr4s+Uj2dTXld817lz7iwG1BbsJnQYx/236ePZj90/9/f/3/VH6gvh8+HD4ufeb92L7kgACBioLAAozA739tfxm+2L4RPai9AP2NPhx+Bn0quxC54Dg2tvG07bJQc7J6Z0fTlaJb51mhVSfTBJBGCMF9o7VKc9L2LbkA+zk8D72h/fs9Ovwi+6S9NwClRbFJ/01WD8WPVcwsBoYBWfxgd0p0RzRPdje4P3p6/NB+4P/5gM0CdIMugytDSYQbBJ/FXsYlhWRCbb4eepY4ojfWuL56D3wpfTK9oL5zv1hAW8CegFaAdcFzQo6CZIBSPlZ88vwJ/BY8qL3af5ZBnwLogxhCwkIqwKv+qDxaOtG6tjtVfNr9uz3LPmN9lPzr+7u5jHdodBQzvXecgUDPKRoWnXPZaBSDER4LIEFztgZvny+mc7A5N3yvvbT9zz9xgZZCh8IJQNABWQSOCNQNFw81jMgH7kGiPMe5S/XWs+u0ozfpu/m/tcGCAWkA6YHWQ7vEbsOeAoCDFQRpRLvCTn6WetA4dDdIuG059Pt1fNf/ZwIGQ2oCOoAHfzX/Pv+AP96/a36I/nI+Wn60fj19XX0EPZb/LsEOAv2C/QJTgjZA0b8o/O37RTt9+8E8mPyVvOA9E72jPiF9ffq/dqy0GbXWvA6HY1RtnG6bqpXlEKcMfkXoe56xzm49MC518zuK/sS/qX+9gMIC8MKiQKU/tMI6BwBMUE8rjgcJ9cPw/rj6jTb48vHyX/YtOzs/S8J4Ax+C04KeAwVDnALzQV8Az0GBQgKBUn9evTF7WvpSOlF7I7uF/I3+s4FoAtVCbEFWAQFBlcGTwID+27zNu/B74HxDPGA8Cf07/uNBUUOvhLdD8oGVv6i96HxEexP6j3vx/eUAAUGqAUr/8P3u/LS7Pvkh9n+0MnXRO6JFhBL0HJud+ddQ0CWKpoVL/WO0Ey9q8GE1WXsyPsqAJD+bf+TBZoL3AleBaIJSRe2KcQ3mDe+KYcVNQHI8YbkNNb4znLUVuMX9RECygbLBh0F6gZ4C2sNUw7UDnAQExENC4/9u+0v4p3d69995kvvXvpbBBgLRQ5bDEEHsACI+5X50fji9uDyqfCW8qn0gvUW96T49vqf/1QFFQlfCX8G3gKu/3L7XvYZ8ZfuMe+P8aD1KvjZ+Jr7DwEvAXb3nubM1iDXuug6CT84yGKZcx9oJk78M8wbI/xb15rATcCj0SXpk/qPA+sEzAIiBSAKegobBzAJiBVTJikxCzEBJ48VqwB37BLdANGNyQDOFd9/9pAJkhPNFUYSow2wCbQG+wVFBbEEIQcACCIChfd/7cHn9ubo6sby0/vPA6AKPQwlCBUDs/xj9632+PZd9hr26vQv9OT11vcl+dj6y/52BFkJRguCCCMDxvyt9ozyTvBQ8Wjz7fMv9v760v7s/p39yPyr+ZrvnN7B04/Zs+4lEvRArWbZcBVg80MJLC4PdOmGxx+4dsBX1kTwvAQ+EOwQyg0DEcQTZQ/bCcQMJxZIIWUm+h+iEm8Ax+774uDaR9Rn0+zc6O63ANYLbxGeE3oUPRYqGOcW6g+UBI38YfmR9Ibrx+P64rnmb+6j+QoFYAyvDm8ORws6A1X4zvHP8VL01fTA9O70bPLo7sfvH/VU+iP/fwV1DQgSCw81Bnn9WvYg767rkezS7JfsEfFp90D7ufzo+1j7VPnQ7/zfNtc14OP4yB3ISKRobG6WXedAZyO0BuPjPcYtvUbIUN3m83QFGw9xEZQPpBLcFokXqBhzHVEmWStDJAYTEv0o5ojWjNBb0S3XTuLH8jgD2A3BENwOvgqmCPgN3BbSGqMXng/EB9D/s/KJ44nY2tPY1hPkMvhoCpcWVRxuHBYVZQOK7xrjcd8r4nDoJfEl+EP7qv3t/T38Y/sV+70AFQr5DnwObAhL//b1xO3g6APpLeua7UDy6fhW/bf9LvwD99jtst990hLVfOtoC2AuMlUOcUZ1CmTpRHsiOf3N16y/mbzsxyfbC/ScDOMbWh7qG80YIBNpDdANBRWcHk4ilR0uFJ4DW++W3tTSEs5j0g3eI+7L/MwGdg20ELwSNxc6HEIbnxQZC7oAgPcn70PooeR95Lfnd+/n+ZMCVAaXBzEHTgST/zj46vCY7abuCfCV8MTyzPX3+uUA6wMiB3cKYwyGDicQhQzrAvH36uzi43PeVN5048jqk/Po/r8IZQmFBDf91/G34izRDsp+14L0/BhqQdRjGnJPanpToTYOFoPxUtGGwdjBR87I49z6XQ5lGBcdiSBWH/EYZRFZDwwTkxhRGjUWlwxP/PbqSN/C12vUx9jc5bL37gZZDsQQbRLeEpEU6BUfFMkNCQN/957tb+UI3ZTZ7d4J67X5rQYHEaQVhBPYDIoCHvfp7P/lC+T85LjmLetH8+37/wSlDS4TiRQkETQL0AWyAFz5ufNE87bzZPKl8DLvBO5S64Touet08uT18PiF/qP/AfZq5dfcWee7/kUYnjYgWHNtrGxbWLs78hrf9+LY4MZLwVnE/tKB6RQBghH3G+cjcCdYJbogAR6CGZ4UDhEVDF0FffnP6kzhY9uc2KXceude9lsFEBB0FRsYgBUCD3sJoQVYA2z/VPcL75/pj+VM48rkbumn8N371QeFD0wQ8AqSBBT/JPhW8Evsdez77JLukPFg9b37JwQ0DCARHBFvDLUGXwDp90/xQO967mTuUu+H8fX1OPhU+Jz5tPw8/8L/HP5b9xPqhNpM1zPnnP0lElwtdFRkcxdtDkd3IXAIqvK02anIcMsL2b7piP/fEnsXJxAtDZoTYxmrFAMMgAwWEh8UwxA8CeP99/Fw66Tq/eqv50Dlw+uJ+gYLshVbF0UUGRLSDzMIwfmt6dbgr+Ha59Hu/fNx+Cz+nAbeDVMOzAjpACj7NvdY8gDsdOeW6aHwqPhH/db+iwHTBfQJkgsCCncGgwKq/3j+HPs99IHsj+lW7mDzJPbr9176wv5YAbUBS/8/+3f4jvZc8o7oueFp53v3gQvgIdk6xU9rVaBIfzOoGjT/AecB2frX2d496b/2+gVfD8ISKxb8GTQbihlUGRIavxjxEKsFcv2q9AHs/ObX563ta/PP+Cf+jwMdBzgIHAqfC90K3waGAPf5WfOJ7BPoYui76s3uI/bW/dEEJwtIDgIPsgtCAuP3Le795IDgXeP96m7zgPr2APsFAQexBF4AWf4D/6v+G/67/dz7cvks9vrxMvJf9qv63P7GAXQC1ACS/aD6/fi0+Z76NvpP90XwCe0U8Vb6agaFFekoNTutRbxBETRuIUENMP708gPsNurU7DDznPqfAB0G/QveEUsYBh0PHo0arxQ5D6MHO/6E9TLv9utk6wvvmvNj9pr3FPmh/QIB2AFvAiUDxwG5/Sz5oPTE8d3xpvR8+L/7kP1Y/+oBZwLyAAQA8v5C/Av5jvU28pvws++08On0Uvms/NH+NQDUAbkCbQLWAXkAPf71/DL8a/pP+Pj2IPgp+/77G/xR/Zj9j/yb+tz4//b29fL0XPSV84Lxx/VbAFwMIRbiHUQmPC5nMJcqvCFuFeYIOP+3+W33Gvc1+Xb9KgRxB9oITA0fEzcYUhznHWgc8RZQDf8DLfyC87/qIucy6RbuXfNd+Ar+QQIHA1ICSQGN/r36e/Y19LnzuvLo8oL1gfnK+9z8ff0r/Tr8cvok+Q34X/U28rvwlvAg8cnxrfO19kb5/vk9+WL5VvtB/24EmAgYCZIHcwQZ/336vfic+D/46fYc9wj6u/z5/rQB/QT3BHEAUfk18drpwuIW5P7xkQWvF1YkcS6CND403C1KJXgcPBEPBzb/Nvq49A3xF/UY/yUIzwtYDSkP0hHaEv4SohSPFPoQ8Q2KCZsAkPUa6+7luuds7z/5WQFoBSAFcwOY/075efOM8J/y6/a8+dH6Sfo9+Tz69v3aAd4D9QNlAyICjv1R9ZfrruTU4lDkK+gz7ZDzhPmU+yb6hvgM+Ib4OPwqBKwLMw6xDLMJ6wZBAn38t/gk9pn03PLf8b7zZvUd9lL5wP0f/v75MfOD7h3vqfNQ/RIMXR2uLLg5EUAhPT0y1iCVEVcIdAD99nnx0vBf9X77JwDsB5QQMhgPHighhh/LGP4Myf/v9g3wJ+q855ro2OuV8WH3ePyHAqoHHwnKBc3/z/q19hrzxPM4+Lz77Psw+cD2Tvaz9gP3jPhv+er33Pay9w75ZPm0+cX6g/qk9ijy8vE+9Cv1hfa1+g7/7f+1//IAtgIbBP8DLQSrBasESgC6/Nn6XvvM+5v73f6MAS3/QvtY+P3xaeko4f7d++WU9ekGlhhmKZo00DqtOuw1QDCDJlscjxUADLP9lfGZ69nuz/fY/5QGqQvRDlkRBxONEpgRsQ55CPcCOP3y9KjvqO/g8sH3Kv3yAXUDdgGx/ZL6h/iv9hX0SvKP9IT4dPnm+Fr5Ovl4+Tf7dvwc/U/9ePyu+6H4mvLo7N/p0+i76CDrkO8s8wv1f/Y2+Ij77/42AW8DvAVtBX8CvQBi/3X++vzE+mD5ofiR+Ef5Qvqk/Nv/mf6U++X5C/cA8iXspOp+8hkDmBN6IUQusTZ9Otw4CjKPKAwfexaIDuYEmfmL8SHw/fUP/W8DIAsRERUULhYHFwkV8hDiCWMCMf3Q9+vwGOxH7GrukPDr8pT2JPpQ+nf40PaX9oH3vvig+3UB3gUPA/D7d/QB7bjpJu5+9lH/dAU7B8gHWgUR/vL2qfRr9GfxT+zs6ZzsbvDP8tD2hP23ApgDUALTAcEBWQA0/br6QPuu/FX8fPwf/pb9W/ky9A7xOvC/8JfxhvRL+Ez4rPMo8B/0xP4RC6sVDx/XJQ4qGyw6K7MnuSNTIXcecxjIDF8Ajfmy+GL70/+LBk4OexYBHWEfAx1yFpYOrgjBAxn9Nvdm8wLxH+636hLr/u7T86X2C/i6+Yn6S/oy+bb5CvwI/f36UPf09KLyOvDx8FPz9PQg98H5G/su+rn2QvJj7Sjql+go5yrpEO6F8rr1ovgW/IcAiwZTDe8Q5g9rDs8NVQuNBbL/6PvZ+qr5WPTy7xDymvh6+/b4XfZ39Mzx3u3p6iXsB/Of/eMHkRG1GkkiAinwMGE3hTaZLuYjCBpnEA4HEAA8/Ob7Tv5eAD0BrQOQCGMPLBQRFVIUnxK0D5kKTwXOAeT/Lv009oDvDe4S7yzwuvJM90P9VAPyBIECagHaAhwDsf+g+kf2L/IL7aTqhOwv7znxjvPy9gr5wvcY9GXw1O7N7oLsUumG6kDxEfha+dz4TPqY/QIC6gPWAjoEeghABxz/NPcB88/x/vFC8QLwofGH9Oj1pfc8+2/9H/s69/TzuvGz8KDyH/tICsYZTiK0JlYs6zKjNvM2IDJaKJYfvBTzBTv6+vfp+5P/uwFLA4QFpwhbCwgMhxCIGZ0dfBe2DVkHSwPVAMf9Xfvp+rP4OvKj6nbomuyD8ZL1cPsZABMB+v3U+tb7YPzg99XvYen85qTn/Ore8Fv3X//fBEUBePm+9ev2tvaN8zjxMfII9YX2D/jU+04B4gWSBf8AePzv+Hb3Avh++Tz72vrs+UH50fcm+Br50Pdh9pT2Efb58+T0Dfnd/Jz/gwFFAfD+YwAEBtIKcw8WF98fkyVVJWkjKyaLJs8enxaRFKcSCgw/BOj+R/4xAacE3QaVDD4W0xuUHe0ezxxXFuMNWwRb/Ff3ofKf7LzrkfIj9WDwqvB4+Oj+UwDQ/4D/Yv9Q/pr6WPZH9Dj1ovaQ9CDwXuzh68jtr+2u7h/1F/t1/KH5m/bI9dTxvexn6kDqguzz74r1hvso/j8AtAGV/zr8Rvtj/OL6cfkP/Q7/Evz2+ZP7Qv3q+3L6+Phn+Oj7u/wK+NP1qfmG/ff6/Pca+yMDMg0sE/4WviA5LaYzKDM1Ml0xtSmMHnEU1AnBABL8S/5wA7sGAwpWDGULLAoVDLUPsw4PCm8JXghhAQL5xfVl97P3j/bw9Nfx5vBf8rTzjPa6/JUDdgTR/3r8zvwr/5H+Ufq4+LP7nfyv98f0M/h+/DD+rv35+hj3HfRn8gfxJvF08r3xG/D97gHub+6k8P3xAPXM+on7kPfh90b92f/Q/cz9iv4a/IX6Xfe+8NHuD/MY9fbxNvAo8hnysfDN8NDx2/XX+g7+MQOaDNAVQRw5IzEsdzLHM2UyOS6AKDkkuCFuHYIYXBSuDisKgwZdA/oEcwbXBFYFZAnvDeAL4wY7By4Jzgew/0bzjOxB7JvpCeO+4QfocO1u8J30Sfqj/n0AdQDf/jL/6P7E+3L6H/rJ9770HvTE9P7yifFi80/0W/PZ8wn0mPEf8KLx/vMb9vT3jPpf/cQAdwOyAfwBSQmlDhkNQgkPB0MEqP7L+KvzJ/Ee8mvw2uq/6KXqjOtd63DsQO0y7dLwbvW194P8lgFDBIsITQ93FXMaWiL1KtUtkixeKVkkViDMHLkZjRfbE6ULiQJz/4v8VPiK+34FxgzaDe4OPRLRE0wTgg+9CwUOqw7DBz3+nvgP+XH4hPNf79rv6PVA+Vb11PMT95T2UvHz7nTwWfDy7wPzDvU28h3vPu687YPwV/Vy98L61P5W/Tb5xvnN/Jf7uPwmAw4Dx/2m+936LPiI9d31rfeA+nr74vVI8Tr03PXh8L7sie+c81L0g/Ur+OX69PsT/NH+OAJ+AkMD4QioDKwHGwInAx0G0AgZDAQS1Bl+Hjgf+RyFG7McIhpeFeIUSBO0DIMG0gX2Axz/AgNGCqIMqxBWFrgWXBSBFKcSjQycCfkH0QH+/LT5t/Jp6+bq1uv16OLpn+2t8GP05fW39SD32Pgc+Bb4Nf24/v77PwAvA0r9APhN+mj9Uvt5+0L9tPq790vz/exq64vspezP7dLxq/RI9Fb1R/lW/C39tgAeBaME7gPVBFACuP1T+1/6Jflb+a/68PqT+Y33F/UI9Lb0NPRe9SX4TPc+97r70P0Z/ZUBJg5NFngZ6SOVKnwnbyenKuMmuB6sHCEeDBs5FhESHg+BDQ8KBAa/BR0JYwjoA8UDXQRfAF39Cv5F/9z9PPsh/Lf88ffz8kLzsvXp9Tr3lPuQ/Ar6LPla+Ub3wPNw8yT0dvH08LvzRfFj67vsN/Gp7WDqZO+D82rxdvFe9575WvmE/fcAtgGGBM4H7AeCB2wGJQOKBDgJqgZGAtoEWwcCAmP7LPoT+DHzuu/r7lvu6erX58roRurU6VDs2vL59FHzCvkJAVoC0gNXC88RDhSeGC8f/CGRIUgjiSQkIegc5htQGgQVshDkEGwQjgrwBPcEqQf6BmsF6ge4DCAQchAdENcRTROhEmQSahClCaoF1Qb2APr2SvWK98X1GfGH8Pfz7fK37dTr6O3v7FvnteaD6t3pF+jt6vHtyutj7IjzMfYN9qH6t/0v/Vr9af6c/fz7EP5X/9f7EPo7/En8Tfgv9pr5v/3F/TP7a/zYAZwB/vqC96b6t/wp91Hzifjl+8H38vb/+438nvm1/IUBxgAn/+UAQQJSAtoE3QnfDgkSORaBGz8cdxu1GmIYDxh8F+YVBBRoD1MLiQikBogGMQbiB8EKMwzRDYIPRRDuDYULsAomB90CFf/u+bb0bvAh73Du5eoB6pvttfKA9B7zRPYH+q34UvcD+WH7rfpv+Hn5Nfrs+Lf26/XJ+fD5vvYG+H/52fcR9TX0P/S28XHyGPQa8Y7yT/Ys9rz2W/q+/j8AVAG/BDYG8gVWBq0EQwF4//7+/PyP+gP5fvdn9YPyOvEi8C3uEO+F77LusPFI9Tn24/iXAQMMahEhGNEjICt8LqMzhTdkN400UTGOLakmch7LF78RKgxaBykEmwNdAxUCiAHdAWICEwLS/8j+6/+p/r76VPiw+NL3f/Vm9V71G/Xj9R/1I/Tv89HzgvPe8TPyK/KN77Hv/e+V7jvuXe5l77XvBu+z8Hnz2vRx9Az1ovgb+7L6k/weAh4EqAL7A6gFYQWmA6oB9QI6BPcCUwAc/Rz9OPw3+Bn43/jx94T3EPX+8Xfuvuty67Hp+OhM6jDrJ+0Y7ovuNPJA+D7/5ARoC10UTRu+IJ8lYypbMOY0XjYmNuk0+jB+KLAeWhfGDuEEYv9f/PL47PdR+LP4Zvqa/mQFlQmDDC0SnhVPFTAR4gnzBXYEvf+0+A/zFvGg7dPl0uBa4avkPOn+7MXvLPP89WL3cfYg9Bb1tPiZ+rn6AfvB/MX+/P5I/17/8/86Am8D9QLtAdUBpwB5+0342Pmh+Ub4CfmJ+4b7yvYZ81fxRfKG9s/3EPc3+Wn7KPqC9RfzN/YO+tv84vs4+Nv3tPgL9lHxmvB+9ED33/bk9h/7hwQjDuYVbh2KJQovIDaiOeo5YTjeNmExiiZFG3kR2QlOBXwB2/08+pj3v/aZ99z5//wBAfwElAe/BsICiP4V/Qz9hftV+DT1K/Su8nvuk+qP6VDrUu5a8N7yTPeo/BYB0QLaA/gDOANNA0sDTwOyAnoA2v2++gb3ovN58XDy6/Xn+JT4v/az9z76rPqs+Kv46PyfAKH/p/q49Wb04vMw8c/uAfBM9Zf5rfe08pjws/FD8nrxFfJn9fP5C/ol9VnydPPT9Wv3e/hJ/DgArADXAGcEOA0YFzseZyURL8c4RDyUObo3MDg1NhItCiDJF7YTRQ7aBHT7O/eK9ajyX+5k7aDzRPv+/XD8kvpm+xf8z/uE+2X7JP3c/Gn4qPKJ7vfum/FV8xT1uPaL+K35evme+qb9YAIpBlQHFAj/BnYEXAMVA7oC/AB+/cn6GPmD9mbyr+9n8HPyf/OK8crvJfKX9Sv3lvZ49jD5QvsM+6L5Q/n7+xP+QP4D/rX9a/4X/qb8lvy3/NH8zfyY/Of7J/kw9gP1ffU/9ZnylPCF8TL0DvZy9yr9vAbsD0IWfRnqHo0mrys3LZwrHSo5KdgkOx3+FPsOWgzTCJACaPsN99P1n/R38+ny8PP/9rL4wvdO94j4sPop/N78u/0u/04AZACRAdsDyQUVB2oH9gcuCZgIyQYhBrkGywY9BLoA8f7m/fL6+fXJ8arvv+1e6lfmXuTS5GjlKeWw5R/pMO5K8oP1yPht/KQAjQQ1B1wJvgt+DekNeAztCWcIhQd1BtEEMgIRAGb+1PsL+fz2vPUf9AXy0/Bb8F/wafD98FbzW/Zq+cj8zQBSBssLkQ9mEscUhRYDF8oWsRYqFrUUixGvDIMH8QFK/O33qfRU8o7wMO/i7tHv5PHp9HD5Xv/xBNAJ6Q31EKQTbBVGFt0WOhdaF5cWXxUsFEsS/Q9cDZwKPAgABgIEtQHn/l78n/nD9mr0lfK78XTx/vCC8FTwofA08QPypvMj9qb4wfpb/Jv98/4tAOMAnwGZAi8DIgNlAjsBZwAy/+38mPqP+BH3Vfay9VD1tPWI9mb3CPiF+Ev5UfoQ+zz76Pov+o/5b/m7+Zv6SfxX/uH/vgC8AekC0QNHBEsELwTkA74CeQD2/RH8Wvow+P71RfRP8xvzPvNs9CH3QPpT/aMA/wNTB4cKbg1cEN8SWhRLFbQVIxVRFAMUzBMYE48Rxw9VDrwMBwv6CZwJhQmJCX4JQQm9CBUIZgeBBjMFtQN1AisBbP/1/Tr9aPxa+5r6W/qO+uT6C/vx+qv6LvpX+SX4FPev9pT21fV69HzzMvOu8pPxKPHo8f3yt/PP8x/0OfVA9gb3L/iI+Zj6fftW/AD9if0b/tn+o/8OAHwARQHBAcoBtwGUAVYB4QBQAOf/jP8f/4D+gv0w/Pb6B/oD+Rz4qfeW97v35Pd++Nr5Zfvw/L/+kgALAjEDUQSIBaQGsgf2CDsKGwsRDJYNDg8uEDIRKBIzE+kTMhS5FCMVFxXsFF4UKxPQEXgQsw7ODAkLUgnsBzAGPAQZAxICuACM/0X+Av0Q/Cb7TPqU+aP4rPfm9ov13PPE8rHxLfCO7intW+y56xXrPOsZ7DTtj+4O8JjxZ/Ou9f333vma+4D9WP+cAGkBZwIyA10DRwP3AqcCZALzAaEBYwHnAFYAt//U/v39pf1d/d78W/y4+1X74Prj+Wj5R/nl+Kj4Vvj59/P3Fvhq+CD5AfoG+3n88/04/9wAmwIuBNEFUAfVCGYKrAvgDOQNfw4tD/oPeRC4EEARNhIJE1sTWhOGE6UTDRNFEuARqhFZEaAQzQ/oDoQN9QtWCpYI5AbqBGUCp////Gv6APjN9avz4vE/8F7u5ewO7JDrhuuS69brtezB7fvuh/AS8nTz3/Qt9gD34/cz+bb6NvwN/ZH9Xv7f/iT/k/8WAKoAJQFyAagBDgLHAnEDrgOcA6kDsAMuA2QCswEMAUAAGf/y/Q39H/xP+4/6qfm6+KL3yPZ69kz2X/bR9l33vff893r4Nvkt+kz7kfwW/n7/9gC9AnMEMAYiCB4KxgscDbcOfBAFElkTkhTkFeMWOheIF+MX2RdeF3wWVhUBFHcSyRAiD4kNqQuSCVcH0gSKApkAmP6//CT7nvn99zD2fvQb8/7x2/DK7wrvQe6s7Yvtau2A7entUO7B7irvsO/E8DfygPO79D32xvc0+Zz6//ub/RP/AgDJAGQB7gGXAgEDNwNPAyYDtgLjAf0AYADU/0H/x/5U/tf9cP0H/YP8GvyX+/X6fPrj+WD5Kvnh+L/4o/hD+C/4Ufgy+Dn4sPhP+Qz68fr4+2z9Cv91ACoCDgTlBQQI/gmtC6ENpQ+GEVwT4hQ0FmgXCBgzGGkYhRhrGCMYhRfaFg8WpRQpE9QRGxBGDl8MQApKCDsGCwQyAlUAVv6U/Lz63/hs9/b1mfS386/ysPEx8Z7wIvDq74TvWe9D79Tuz+4O7xnvgu/77xjwi/Ax8aXxWvIf8/zzUfV39oX3F/mT+vz7iv2s/r7//gDKAXUCSwPaA10EwQScBGIEFARjA7wC5wG1AL//pv5E/UH8SvtP+s35TPm6+G74Pfhk+O74aPk1+mv7Yvxw/eL+XgA3AiIEoAVSByQJxQqDDDIO2Q+LEcgSpROHFD0V1RV1FrcWtBbFFpQWFRZ8FdYULhQzE9gRfRAqD8INIQwhCvoH4AXDA48BT/8w/Q37tPhs9l/0hPLo8Gjv1O037MXqmum/6DHo5Ofe59/n3+c/6PjoC+pw67Psyu0H73/wG/Lk88f1o/eA+f/6LPyV/Qr/ggD4AeACkQM3BEEENASFBJwEegQkBE0DdwK1AdUAbAAnAIz/Cv9c/n/9Hf3b/Mr8Rf19/Xf9qP3L/Uv+Rv9WAK4BBAP3A/8EPwajB4IJjwtGDdkOKxA/EXQSvxMyFYoWSRe1F+8X7Rf4FxMYDRjXFzQX8RVlFNQSQxHpD4gOnQxTCs8HIwW+ApEAZv5j/DH6jPfx9IjyXPDD7mbtx+sm6qzoaueH5uXlxuUV5hHm6OUo5tPm4uck6XHq4etZ7b7uOPAA8gj0Evb396f5Ift+/OT9Wf++AP0B9wKlAwcEOgR5BJsEiwRxBBsElwMXA5ACOQLxAXsBFwGyACgAyf+b/4P/fv9e/zL/Pv9h/6P/QgD9AKgBYQIWA/0DJgVeBrkHGwleCsMLPw2yDjIQthEKEx4UFxUUFh0X7xc4GEAYKRi4FxcXaRZ9FVMU4hIDEQYPEQ3oCqQITQa2AwgBUv6M+xL5xvZY9PPxl+9w7Znr7umT6Iznt+YC5orleuW45WDmYudr6Jnp6uo77LHtWO8k8SnzIvXM9oX4Q/rI+2/9Bv9GAH0BVQLnAqsDGQRpBP8ELQUuBU0FFgUCBQYFqwS8BOYEYgT6A5sDHAMQA54C1wGtARQBHACY/6z+/v0N/pz9SP1e/Qv9Rf0B/oT+2/+UAc0CmASTBkwI1ApqDacPUhKCFFAWjBhGGpobBh2tHdId2h0uHWgclBvHGdoX+RVvE/gQYA5gC5kImQVuAqv/wvyy+Rv3gfTw8fDv6e0E7Inq3eh055vmvOU/5TPl3+TL5ArlA+V95WfmKuc/6FjpL+p/6+nsCO5/7xDxnfKJ9D725/fc+Xz7B/3E/lAA9wGRA7QE2wXmBrIHoggpCUcJfwlHCc0IXghlB1cGVAWlA/gBnQAk/xb+Gf2w+9H6OPqR+an5AvqR+un7Lf2C/qoADQOVBVEI3QqcDVgQsxI9FbcXlhkIG/cbrRx6HaYdbR0gHUQcYRtSGo0YAxeeFdMTcRLvEAkPkQ2aC0kJrge7BXQDzAHO/6D9r/vp+Cb2BvQc8dDtOuvb6MfmI+VE42nh6t9O3m7d592/3szfI+Fd4ubj6uXs54bqke0o8JHyufSk9qD4efoM/Gf9Zv6C/7MAswH0AmgDTQNLBBEFWwX7BQgGrgaXCBwJpAjwCBkIJQeaB7MHpwc9B7YE3AHrAPD/Vf9x/+L91PxZ/Mf6z/of/AT9uv4UAQUDPgV4BwcJ4QvuDxoTqhXsF84ZphulHGcc4RzVHmQgqR/wHBAachhmGBgYVBZyE1YQOw2aCgwJxQZKBHcBqf2k+i739/NH8kzw2u3K6uDn5OUY5Dfj9+Ka4nTiUuHQ3wrg8+D84f7jPeb754rpEem85wbp+urY7b3xwvII8r3yb/PM9BP4svkQ+4n+kwBqAi8FBwbYB20K/wqsDMkOlg+1EKcQ8g7LDNIJfgbXBJAE6AM8AkD+rfpm90nz6vGL8of1+fhX+i/71vok+1/9kwIvDDUUiRf/F8QYTBxOI7slOiYRL/As/DAtMSojcyuEKQYpiCsPIL0aLxb0FVcPBBD/CRsAGAPD9YLyD/MG7Kbw0e+o6lnpceQx4ePhCOL/5U3pxOmI5njjV+MV4qfkN+Ry5bzoG+ji6MrlFuWW5hbn9uqP7K3sp+2v737z5vWw9/r4h/h2+kf89P1ZAo4FxwZ5BXcCsAAkAu8DCgVtB8QFWgM8BMIC0QCm/Nj2HvWM+I/8af15AA/85PcC9A3sKPOC94f/bwq1DekZ7RZGD4oPgxTmK0s8hkHSQqVBmD/uN5QzxjJAOhlC2z2KM/4koRXeCMP9D/X+7xrs+uaV5A7h3tit0+3OO88r1kPadN7z4jzpp/CO9Vj36/VH9MvyDPe6/T8B4AIhANv7yPGe5VriFeWm6YDtcu/c7irtsOi94bPfEuLm6erzBvwKBT0HUQOK/jv8Hv9BAkMHzQtnDawPQg7SCIsFBQMvAVgCFwLLAXv/7Pqa+hf2KezU4sDdWOMx6FrmsOZ/4wbideIb2CLQe8+C28X9FSocV2Rw6GHhSbJEyEcGT4lTdlkCazd3kG3ZRZ4OTeQCzajHk9VZ45jeddAuxE26VrJ2sJ63q81r9ioiFTyBP/o3DS22IZAfKiPnIkwlAC5AL1ggJQWk4HbAN7O6tgTB2sss1r7aj9oh2T7TysmxyIncl/nvDjYbWBxsEw4L5gjDCMkJ4g94GDUd0RtZEfr7euaN3KPdKeRM7BH0qPZJ833uo+cL4ffioO7+/jwNIhPFEG0LiwhgBe39SvjJ97r5vfv3+QzzUuhC3eTV6tS62fLfcemP8zX2AvIt6Rnd39Z347n/iCIJSdVp6HF4XRNFzzcdMqsxEjYbPP0/CjziJMr60tEGukez7LzG0YbgbuL64mHm5Ohu7Ijxn/x5Fcs1K03TUsVIUDXAHCgG0Pit8eDsJOsV7I7qJN8ly6y2zKxet7nM1+Db9NUGoxNvGncZLRUpFakZ0CJ3Kp4pnyJAEhr7Junt3DHTJdF12BHijeVk5LTild0C3L/mnPaRBi4XsiCaIMYa0xGJCaUBEP94BHIIuwUv/Njul+T138PeXOCZ5Nnqt/NG+wb9ofuj+dT5If3y/qQAZQSfBq8EN/qu6AHXZccaySHkTwqxOaxndXU5YPpEXDm2NW0uCC8XOPI8yTgpJIT/JNY+udq2NcUd1hDjMuZl6pvywfYJ+pn8KgZ8H3g9qlDvUR9FFjFuFhD/N/Dz45DejOCc5t/qGOH+zejAncBQzo7jNPleC5oYUSFeIWkZXhBSC5kMTxHuE5cPMQJN8tfjoNYEzvPKc9C23nnttfNB7/js8vL/+OsAcgmcDzMYxRsUF2MQvQNH9H3sPe1o8ST0vvU49ijyNOx46+ntHu9489H8xAQFCEsIwQgWCHkCQf03/JH8m/4FAOH6ZfCe4WHSTsU5wETQ1u1yFHxG4WszaoRQrUG9P5o2Eyp2KdcuQy9sImkH2uN8wEyxibvvzGrb3Oaz8CH7FgJyBEEDXgIWD+IrdUY8Tu1CqC4gGL8CevEU4kTW1NIp2EjfUd8A2W3SLdAT113mc/eECDwZZycmLRQmrxgIDV8HvAgTCvkFC/9v9B3nC91Z1fbODNEu30jxRvwb/7cBcAXAB48KZw6aEXwT9RMEESAJd/5M9NTsb+lM6ZPpkeoN7rPxn/PT8+bzwvdvABoJbQ13DnsMzAnQCEYFbwDG/DP32vWF+9/7qPJO6CfhI9v10XPM1tda8Q4ZL0yybW5lRUe3OIs5LTNpJasdxxs6GusRn/0L3yW/Q7LFvtrTJeXM8Uf82wdiEXsVyRJ9DoQWKCu9PPY/hTR+H4MIPPRN4+bUUczXzsTZxePo5Xnh/9yX3Q/kPPA5AAAQcR4qLCAzLSymG4YLywLGAaIBvv4E+BDrJ90C1cvRe9FD1qbiZPPQAIEJpg9aEOkNPg4tEDIRABGlD9ENvwgV/UTxy+yB6+PpV+um7hXwePHs9Mv4Rfn5+Jv+owaaDHMRGBKiDFEFrv+E/pv+KvyK+//6bPXO7Xbl49vK0ejHWc706rUSZ0RybURu4U19M9Qtlit+Iiwashb4E/EMsP4o6VHMtLSAtFHJh+Nw+P8EYQ2JEqwUABevFhEXYiC+LWg1ljOlJe8LLvCR3a/UKdHP0V3YAeRz7Ujvbezr6fbqYfORAvMS2x+SJ4kpKSTPFzMI6PoF9OjyFvXZ9l/yDuiL3p7axNyj4irrXPVuAKwLoBEMEPUKwwVzBPsGtQnYCV0FRAC7+6n0lu156L7naO6j9tT5yPiF9hf2Xviw/AABgQR+CJoMrA/VDYMHxAAd+yT5Rfrl+rz5DvXj7YjndODo137PbdL16qcTo0WebVBvf1H/N2svsSkRHkwTSRBNETwNHQD060/PzrUatO7Jx+UF+gwH8BErGKsZtRt/HBYcHyBMK7E1tjMeIpIEU+cc1VnNbczYz4nV4eAR8IL4Gfej8jnyuflhCV4awiYCLOQo1B7ZECgCq/SG64nppezQ7lLt4+eg4Prcyd806T71WwDXDKMXbBtLGRsR3gW9/gP+RQHlA1gCv/yH9rzveeYQ4Qvla+4p+BP/PwGe/4f7Ivkl/HP/eAEkBtsK2wtMCYsEJf5D9/H0Q/g9+276ZPTk68zjMNn9zDfNm+IJBu4192RldDNclTq8KzUpCiINF+sQVA+aDSIE2fA71Ai3sa5ZwT/e/fWFBsgTMyE5KOgl/R31FiwZtiQMMR0xnh9LAzHo/9OMyKvFQ8kS1Hflt/cvA3QBW/UV73D2vwcyGwspyC7xKyoicxN/AN/tKOPX4tjpwe7m62jk+dzG27/iKuxT9pQDJBIcHvEgzhiDDbEF2v/k+137GPsR++T7EvkK8gHre+Ur5Zvs3feIAbYE3AFE/xH/W/5e/vb/PwKjBkELoApgA737+faZ9Or16Pfe9l31L/Ki6cXeINWY2FHxiRiKR3VszWzfTHEy3C16K0UebBErDMMMYwz9/3How8gmsD20Jc/D61MBAxA3HPclpye+IyAazREcFugjRS5NKF0QsfIF3JbOvsjhyBzQRd1z7hr/ZQXn/9D2/PQm/l8NZhyqJZAmYyPJHA8P3vzu6tPhkeVO6mTneeH43BTcZ+Bx6eb1xgH/DDEYBB3XGTESkQh2AA78afpa+v/6b/qM9hvyue+T69XnGOoU8Sn57/6gARYCT/8H/FT8UABBBJ4FwgjQCukFMgDi+8L0le/47y3xM+5x6Rnln9rN03/gvf9sMDVmiXwFZAQ+/y3LLc0kaBXADGwLBg32B/b1Kdl7vaK0kcQi4cP5DgfwDrsY5yGwJUQgPBd4FvceLilMK3Mcn/1x3qDNL8kZyB7L69WO5iP5LAVFBcb+X/oL/pkJ2Ba8Iewn8yd/IrcU9/9u7Tjj6+EP5ovnweMB3wbd8uDN6E3wNvpkCWUXKh7YHv4ZOw45AMn44fhP+cj3W/co9wL2/PII7erpnu2m9Pf80QK5Agb/Ffv5+Qf7LPxy/+MFPQyKDhoKMwH7+H7zyPBJ7zvto+ox6cvlM95x3g/uRQhyMCJf4HM+X7U8WC1BKlkd3QzhBZ8EvAM6AMv0Fd5NxTG9b8ru4eH3DgctEhYb2R+eIlwi5xzyGVcfgicLKEwbsAGu49rOs8cDx8zJ49Jq4mb2AQZFCb8ECQM4BhcNdRquKCgspCOEFo0HwfYe6CbiEOOq5c3r2fBo7GXj/96i4BrovfTeA9MRpBuQHyobSBDiBCr9Vvqg+yL+cPwN9OHrSOpD66/r+e+R+DX/ggIBA87+m/rj+tD75PwkAVEFkQcQCBMEI/44+U/1sPID8a/uq+jx3TfW9tuV7bgNEUCgbKdxiVOKOv81jC8AHa4MfgOA/Yj5ufRO6DfPFbxDw4XaMPIABT0OuxM1GsMbuxvbG1QabRv3H4UkWSItEwL8beWK02TLW83R0+bZteAL60/0HPpD/pIA/QYlFkonqzG9LfgcNQuX/bvyG+o64g3d2N8B5wDqxedZ41fh4+do9gIFWA+bE5oSFxJIEcgMVAfPA/YBKQEpAGb8K/ZU8Pfs2Owq70fxVvMj9k73KfhL/MQCPwdUCN8HBwYvBLkCmv4N+fvz5O/P7yLw6+tq5K7Z5ddn6P8DAi5qXZpsulMQOWgy+C7eIqQbNxtgFQUMhwHF8ATYu8LKwGHOFt3T61T8fgxTF9QYpRYGFPcUsyD/MJs4DjKpHlwIJfQI3/PNR8YZyFXSieKT8Sr3I/Ug9Af2CPzICAEbJiuGLbMjfRZXBSv1dPAq8+L0MvTN8unsRt+U1VPW7dpL5Kb0VAWgEesXsRhzFPEM8QgACMsG4wYnBrj/MfQj6W3iEOGp5cDuw/cC//kBCwCR/bn6U/p5/gQBhQApAaP/6vve+an2DPRg9c73afej7fzcs9ib41T9Vy84X+xlUU1FOKkviidHIJIlaiuXI7kTawBw5xrLFbtKwFXQteOm+I4H8xGbF0YV2AxbAKD+qRBlKGM2iTOKIOMHDvFB45Pejdtq3EXg4+Kl5yPrveZs4bzj3PFICUweSCgJKZwiXRXjBUL5IfQw96n8s/1q9qDnTNpr1S7ZWeSG858A7gYkCJsHJwR2/14A8QQPCUEOoBLcEJkHIPoH7kvnP+hW8Cj2V/df+Fz3VvWT9CH1VPnz/MP9KAFHA1kCAv95+L31HPdt9+3yIug95Ufvnv62H2RN7Wb2XAQ9UCE4FW4V6SB4LFgtniPjCX3qBtZB0T3VTNZZ3OHvRAEwCHYLwwjGAAH6qv+nEvsm1DMBNEEqlxgI/3fotODX5JLs5++U7nHr0eZB4vfcPt2i6JD4AAmdFvwZPxRACmQBT//8AmcIVguxCFQAafQK6aDgdNxx3rXnBfUG/SL+uP5c/bP43vjlAJgJFA1oDmgOswd5/u33nfMw8nP0hfgu+/T78Pkp9PXvy/C/8enzJ/hH+R74Gfdm90b33PXu9Qv00+wq5mXoD/f/E0o83l4eY/lIOCroGoMddyMsJ+4uRjDNHJ/+kues29bSSsxG1Zzp2fdc/aX/3P4g+UDvn+vG9xwOJSOfMJA0JC33GtUGSv1Z/Lr7ef2VAigCP/cz6HHdUtkA2mLha/BZ/jECKADE/tb8lfvJ/Nj/WwauDUoRKxBVCI36mu4o63nua/MB+L/6UvmP8nDpmeZy7MDzy/o/A34JeAvYCYkFzwE3/2P+2wBpAwIGfwZpAk3/TPvH9A3z9fOM8sDwi+4A677oxein6ezphOca5jLtJABVHag+slL6S4418yAEF3sWbxz9Kbc1GTWyKRgZCAbJ7/vdgdvF5ArvgPRy86rud+np5Fnksegj7xX4LAY8F80iwCGXF6gLz/7i9jD74wbeEHITkA+PB9D6vO136H3qR+5X8xj4kvoC+i/0nezE6d7rjvF0+sYAVQKX/wD5PPWQ89byuPd3/80EcQjbCZMH6QQ4ApMCAwZiBQMDcAA9/cD5A/Xa9BH41vnO+1H9b/2A+xD6Wv3NAacDsAJAAET+UPoV9lH0IfR19hr6W/7uALf/5v1M/mwB2AWFCG0IFAoEDSgNcw39DAoKSQh9CPsKQw7WDZoKRwffAyMCWAKbA3YGzwi7CpoNKw5RC40JuwpHDIMLxQdOBT0EsAGDADAA9f7s/YP8VPsz+8X5LPjt+Lf4F/gL+WP4Y/ZX9U72Z/q8/e7+TALuBNID1v/P+Zz1hfO78H7v3/GG837zMvUB+Mn5GPp3/NgBTAVVBVYEfwMhAWz+NP6F/00BeAMjBvIFnQF1/Pn3Lvc1+mz/ywKAANz9uPzU/SgCEgY6Cd0IwwRTAgQBjP/P/e77FvsN+un4ufgJ+ij9rADWApoEaQayB9sJnQwjDm0L8gW2A5gFxwcGCEMHPQTWAED/u/3R/l3/iP3j/Cv7Gvuu/t4CJwmCDycRug7GDAcMIA/YElYQzQ6tCPr/Rfry83n0xfLi76/wpfFY9BPzNfXb96n1pPTv9DX/WggZCV0I7AC1+u325Pc0/gAAp/06+If0YfI780z25fsDBQ0KEw2DCbwD2v3K9zz6zvtP++b1I/Fo8yP2Vvqf+6H7AvjI9N32ovzVBbcHpASa/Ej1SvXR9XT82QJyBIgBMvqM90z00Ozx5Unjv+nR/Wob4zYuQCYxdxvMDv4QnCFXNHlArEJ0NxAnDBZ4BAD3SO6A8B/7IAAJ+znuy+Ga2LbQ9dCS2W7ouPqtCIwSgRMKCSsAawAGDLsdJSgbKwAncBwuER8EsfjQ76Doiuet6fjrzOgG3kXUjM2NzqnYruNu8BX6efwU/aH5o/hN/moEAA6DFYEVcBHvBu77vPdr90T5ZvrQ+Nz02e9Z7Rnv4PIb9n/6xf+dAnX/4fgO9eDxAfCI7g3w5Pgg+dDuuto2wtW8rs6DAx5HW2ymZZk1Fw4QDGQk0E1OaBxvSGL2Qi4oGg0R9DHjrN9U8msBef7n6m3MJrmbswi6rcz14oL+UhqxKaQpABvvB40DGBMOL/pHHkuoN4sYhfxt7KflSuXW5KvjOeRK5NHhPNc9yiXHstEU6GYAghCKEpAF//Il6lrvtfkuBZ4NIw+7Crv9XO7l5NzjCO+d/qIHLgbf+pbuy+kC7YDyWfdM/LT+8fxH9r7t3ehE6Lvq4O8f+PL6HvX15sXRL8VsxsHk2iGoWkJxD1JLGz359PocJNNTq3FkcfpQgS4bEdT8lfL67YP7GQ4oEub/ctufvsi1pL4q0ybnGPrkC3gX6hrODnv5kfDLAPwnd0paT985txfE/2v6of75BOQBoffm79Xrc+hg3iHSKc+j177m2/G+8v3sIOW34XHlW+wo9rr9lQIoB1EG4QBS+Uj0SvdWAVwNZRNJDxYDt/XX77Dy1vlK/or9//mD9evv6uac3yjefuRf8Mz3Nvne8hfmFdxk0y/P3s/v21oEaTnrX7BaPi84Cfn/DR45TY9udXXtW9w5RSLgFNsNDQYjCBAWNx3lEL7xQNKzww3HANaI5EvsAvLS9+f+/f1n7kfgQeTM/q4foC1QI0YNJ/62ALMNiRivGDsP9QZhBOYDU/8U9iXw+O9q84H0Iu6l5Gzd29pi3KHe3t984sDn7O9J93L6Mvsj/GcAVQf0DRgQGgzsBY0B1gH/BcUIzgfhATb66/XX9EP1JfMt8Gzw+vMQ+ET3afM68envnvHw8a/ssOW74Y/taga1HIIihhStAw39/AXwGZYrkjMFL0wmfCT2Jp0n5CJiHGsa1RvRG/EXLBBwBo/+x/pM+lX5nPjA+hr+i/0d9PrnkOKx5iTy5Pva/vf7n/Zs9if7Yv6n/Ez3nfVj+qEB4Ab5BYP/G/hp9Pn19/iq+Xb5kPli+W/3X/KO7gPvYvOa+sIALQJj/mP4QfWi9pv5hPw2/vf+nf97AKcBgAEOAN3+K/9aAXkC9wCl/iX8ZPpg+bX4OfhL98n1nfQH9C7y9e/T7xvz+/iD/cj92vrr96P4YP/bCa4S8RVvExgQnhAzFacb4x+GIK0dxxnZGDwa7hvQGusWSRTPEwkV2RaeFsESzgoxAdL6qfmg/MT/wf8u/Sv4HPNm8IHv0u8L8JvxgPRB9qL2Efbo9VD2wfbk99n5QPy4/UL9kvsq+Zr3Gvi5+Xv72vsy+yP7pfpZ+GH1nfP984f23/hu+tT6XvnJ+OH4M/lz+mH83/64AKgByAAu/1v+4f3b/b384vrf+EH3F/e69TrzOfGK8LTyV/UO9wn3FfPK7eDqwO75+1cM/xZTFokMkwRvB4oU7yNXLFMquCJqHHAbuh6JIbMg1R2FHcYglyKMHOcOpQEV/Nf+pwT7BtICa/oO8h/tBOwM6zTpbOlF7QfzwvR68H3sKe7z9AT9mQKEBK4EWAXqBXgFjwRbBEIHZQztDisLYQJd+v72Zfd++Ef4QfaT8uXuKuzq6lbsNu4371LwR/HJ89n2yfdC+CX5JfsR/6MAB/+B/Lr6Mf1//in8Ovm19VD1ifV+9FH0QPTi9O/z7+6E6EHjm+Ws+BcW7Sp4JHwHBfL4+Y8atTuwSYpBBC75GwIWmyCsMd858zUBLjEo8B5UDjb+rvj7/8AJ3Qs/AmHw3N0K0x7X/+Q87mvsE+Sh3n7fCuGl4tnoHPd1B6oOiwiR/YD5BQHSD1cbOiD0HiEXpwyQBNYB9QS2CIUIvgLw9+zrquE23gbjIenA69Lp7+PD3Ync8+Po75P4o/rL+L712PO29Nj5BgSVCwkJ+v2688rxr/Rv9gX3A/cF9/r0ZfBd54nYJc541H/44Ck3Pc0az95SyPLxDToOaQ5lnjygE6oCXxBuNnVbqmVlT8crZBKjCVALRRM/HDwfThLp9m/di9GA1LbfTevM72/oKdbUwzu/Bs655fD2e/xD+nv0q++f8cT9LhKOIoIlZxvyD+QO2hWLHNgdzxgjEIUFbfw99snx4+7y7PDprOHX1zjQ4dBS2b3ihOgo6FLmReZP6YbvM/dJ/bcElAvyDMgFpvnn9xICkwraBPz2mPCE80727PLx6ljcRMz5xLraxw42MT8YZ9XotEfh6DJaZdhawy4gD+8MQh8OQbxjCnDRV2UukBUbFmckQTNWN74rTQ2o5nLTIt+L+PT/Oe1O0SbDd8VvzlbU4tYU2zfcHt6Y4bLnaO+b9w8C9wstE4ATZQ71DoQbtCpFLawhxxJ0DIEPdhLGD/0EQ/k97zTn+OLS3urbs9ic1ZXTWNPh1gPd7uLy5Sbm1OUd6t/zcv/lB2YJ7wIp+2f7ZwEHBewDEgPmAVr/Dvpf88vpdd0o18PgBgjgL+kn5ut3uAfQcyQPamlouDHRApgCciDoQ0djHW9AWxAwWxAxFfMvLEdiTIo5vxRo6EHTyehVEz4k5AHky46vGbwt2Frr2uxa3WPIir1lyw7lhvWB9lfxuPQH+kn7Pv6UCy8jUCz2HAEHEv9xDTYhfCaXGLP/Ee+O7h3zivTk783lGNxF08vMzs4Q2DPjz+Qq26XUNNUc35Lu3PmU/j39tPh19KX1h/6lBuEEFQFX/Hj6Mvrf+Nv3ROo13PHYefW1J6Qyj/5GvArBqRQaZA1kBCkC+/MGZzIrTDZYklzdVBQ9qyQAJMI1S0UVTARBkiEX+3nfbu5oGDAsFwyCziivG8BF5W/7t/H/1H6/lr1T0CXnWvQp9KfrrOck6KLuvf0tFI0ldiMbDz79wQI8G7IvxCvoFtIGzQK1BhEInwSN/9b0Z+ih32be2uKO5THjHt0u12rTv9bJ4dzsaO6d5sDl+O5Q9MX2rvdB+Tb4tvPs85b3i/0m/TjzAeB907jXrvegKJUuZ/YSs4u+vBp8ZipYew2O4qgCj0AcVo1JjD1uP309Hi9wJ0EuVT0XRuU7Lxoh99LnrfpVHjAkt/zbxIaxkNEK+84BieTxw5LByNZM6f7un+zs7OjwWvHR7ULxywGOGEYg5REGALj+ahPXJyEjkg7bA0kMkBQZCwn+Gf1hA18Ale/l4MfhI+pi7drk6dlb1/PX5duL4Nvj9OII4UPmRu1M7SXscvEV9iP3Wvb09SX4S/xRAer/Z+1B24TdnwPnN+UzC+3crIPMHjTccCJFc/Cg2MYPsVEzVIA1jC14P4ZGzzEOJBQ07kuXTDkxngoU/nsKaBz8HzcGoeNL0FfYZ+6T853fx86FzqHaxuLQ4KjkY+078hjwHutk7rIAGg/ADyEEQvzaB2gVJRiNDPb/QwMUD40Ncv5l87T4RAK3+xvwEesI7mHwqekf4+rjNeiK6o3l/9793Jrexucd9Mz2ROpJ3TXhgPV5/fzzjux77Sj7DP/j+Krw0OYn66X7MxtVLfkQ/9niz3USgVlPWD4PneNuAk8+e1KcMM8f5TKLRPkx+hp1JDpEX041MKUMmv+5FTYpMB78AvDr4ecB7rXw0+yJ3hnSyNLF2NDbQ9nS2D7e3+Us5unkFuiM9eoDaAIi/xUALQpbFAYWCRL3C6AMWxJLFcgMnwLX/XX/swCH++f1XPGF7/zrHOiI6CTtb+025Sje/d7G5q7si+yx6SnlO+Ro6APr9OnH5dHmvuqA76vwsO7i7ZnlJuWD78UR5C6LF/3g68/zEwxgNWAUFb7mwAp6S2FgJjQYGvArWkS5NAIY3iDXP3xHpSAm/rL9PBvZK8cU0/VD57rs8/T79Ojw7eXT1UnQfNdU4SPkst6j2Hbald/N51bvPfT2+cD36fqbA1cN1BMrEnAQkg8DE6MXzRjjESEIWAL+AS0DGv8x9qPtLuvE6oHoF+TL4rrj3uG135vgeOMo5izppurs6DnpUu8v9ELveeig6jryS/uh+Z7zHekw4iPrN/2GHWchOfuO0pbmeTJ4WlM3tfhE+akuLloHSrMiMimARNtImCfpHBw2l0lyNiYLmf5eEMsl7RjZ9sjn2+wg82zwN+sf5kTdINYt2f/euOXJ6KfkUt2N3L/kaPLy/rv/x/VW69r5ahIWFxMNCwIECAIUfxhcFQsNwAzGD2kO7AXVAYMDgP8f+SvzRPFl7n7s7Oe74fXf5eLU5Hzb/tfu3ufjDePl4d3iuOEV41nrB/FA8/zz+vaZ9d3tKfLG/lAbHyfVC1jkhurlLb9VIzlc+wf5pS2gVDxHXRnGHZA/mEw6Kw8S6S3KSvQ6TwuJ/AETPyyEICv3AOOy6iz66PrR6gLhZ9ub0zzYzN/A5GnnuuOB3mvbD95k7yEBxv8e9ArryvS/CgITfAkAAGgCvA3KEh4OXwkcBxQIuAmGCvYFJgFJ/YT6dPtO+6b5QfUs7gjo7egE74jyvukc3XHdiOU06SznPeRU4qTgAuLl5u7tefMB88vwDenE7Fj5rQ1nIzMUn/HV4kARtkw/S+kSU+z4EFNF+1NJLVoTiCqwPV0ypxfAJTBGw0JBFJn0ggx6MBI2ZgzO5oPqfv7fB4j5yOik5PLgxtu42m/in+tF6UbbdM6h1X/qbfzc+bXnVd6r6jgFjQ+PBwH6D/rIBpYOahK5DWYI2AQeBJUIawz3CiUApfaz917/GAFf+ljzhO1t6v7uBvbu9Bzp+N9q5eDrde3H6djjguJ349TlUufK7djwQe925rHfeO3Z/OkRFxSW+OPgze/TKL5GQSt890z3MimnSyRCAxsQG1E3PT1MJw8d0je+SlIxOQPr/wImDT4FJyb3XOeq/GEN+QPD8AbpcOlP40PabNyA6W3uoeE60KzOCuEX84fz4+eT3/rjVfXDA4ID1fpo9/z+pArVDhYN0QvrB1YGJAfSCqgQZQ/4AqH2MPkmBKoJ3P+D8knuXu+o9Yb4iPF66GzlJegl6oDqKOmq49/c0N4P527qmet+51nlaeS25gnx9PnRCisNC/eL4jb5li7/PysglfUtBRw2rEuQN+YXYiVHQtQ+hCIVIvo/Y0nGKHgBsAxPMR854RdY7Qnqqge9EKP77+Nm3x/qr+Un2IHX++FS5v/bYsyozQvidu+F7A3gxNzf6vr6SwAd/j35ivxMCfAOTA8VD9wPHhHKDCYKDBMzF7EPsANo+V8D6A2GBs34mu0T8Qb5cfmx8kPoveEJ5erteOs75qLiENxe3dnhD+VC6H3nXORp4pnd2uXr8Xn3GgbmA+nuLeCb/ZQxQDmtEkTyoQ1OO6ZMTTSeGYYr5EQ8Q/ooMSvFSaxMFSetB04aGD63ProT3e7i9IQPpxK2+r/lz+XW5lDdr9uc3Q3jGt14ztDKJdGZ31fmoOBa2WjaYuO+8lD+3fsz8efw3QJQFSEX2wp1COgOjxOYFaMX5RxtF6wIgQEiCPQUrxVlBI3zuO7++TAGp/1t6y/hcea176DuHuiB5Y/h5dvY3v/lHunE6fniqN2j3x7k8O/R8Eb0XPwP9QTlPOl3E88ssxsU9MP0jSU1Q3k83BsNGUA4lUjFOvMp4ThYTgdCpBwmEsUwq0msMiYCA+8CCH0ekQ4K7h7etOfP7GnjSdn92ArgbNvzzvDJhdef6DjqTd0U0U/dHPTuA+n/CO+e76D+fRL0FikOhAurDl0Ryg7UFMcfTx63DOX+GwTjETQYvQ1P+qzwWPhhARMABvgN9L7tvOR36Tv16/XW65zjbOAk41vqIfHx7M3e1ttc5cPnj+fh4rfkSPbE9afiE9Ll8kwnVyJI8kbb0Q2vQ0BIEyWLDIsueVQmUwQ2EjUqWtdctTCyF8MyIldzSUIQHOvw+3Ehahsw7OnMd9iD6ATbc8mBybnVt9XDxV27B8wE6uLt5dmh0NDkSPs1AoQBLQDOAVoHTQxoDpYaASI2FX38GAK2ISIlkhE2/Zr/KwfTDf4RygEb+YP80APe/qr5fgKfAOb0//Fm+XX9E/zf9B3p9ONe8J77HO7P2dbTeNt65fDk097vz0LHOtTY3q7rRetM3KPT0ONHDP4ZBgk1+P0Mky9OOoA0BzAvQrtPKEaNNopF8mCYWZ83Qx2iLI9CzTWpGncEcf85Agb4AO/17B7nKtudzB7K6taO4mbfT9BXyAfT5uQw70XswOjP6Bnsx/Xw/doD6gEZ/MP5YPx8BtQLbgiLA9D9uAE8DPgO/gy5CMULAhBzEH4V1Rt5Gd4OlBPoHScdcBfvD+INDg0nCmQKOQMy90f0He9L5lHjDOau447U3cakyPjR/tdG1GPLesuuzYvWJ9sH5Ej7i/uP5tTY0v43N8o6yApo7awb1Uy4TC4qQBl5N4BHPTE3G0cr9E18Q7sKQPLwGmFD8i6d+7Pld//7G/ANBPS37QD/sgK46AXgxfR3B8/2TNcn0GLlcPr08jXYV8gu1HfjC+OQ3SLawNgl2czbQ+gy9fz3pfmj9Bj3kQtUHBAj+SFLGosaUylONLk3Qi/8J2gtGSJ9F/kdCiT5GWkC8vVX9T35b/dq8NTjl9ZM2TfgB+CQ26PXcNa32vPj5+W73UjcNeZQ79ftDu4L8W7mJt3a7R0TVw0K3hvJ2u1sKkIir+sC16H8jjD8KLT//P3dLElEDiAY/4YiH18FWa0aov8bLTVfGVFjGwQJgCS8OJEiPQJBBSgW3Qzu6L3W4en4/i3uzsTGuLbQOOhm3sTCsMBX05zfy9+M3SblaPDT9GX2DfvtB6US8RTOExISUReUHdgiPiMKGIsQjxLoFf4Vdg+bA778JQADBLsBX/yd+kT4PvNk/rEMSQUq9nL5RgkHC/8IPwlhAo75XfynB9UBufIi61TnP+TA52fpwtm1y8rRzddJ02/XSOTy5HXLd8Ok7jAhsRy22z3CtgREVsFL3vTe4LkpJVwdNDz8zBZWVB1IwPyq5DkslGsFPbrcq8+5I6dZUyfl32LkphrQJ14Ao+pRCLYf1wMF2kPhdBTaIgn4/NAF21P9vQSo8bLkkujf6ojg9Nzb7x4BN/YJ2sjVD/LfBUsDBPmd8wD3ZP97C3gXiRjVC7UDCw2VHsEmfR4BEqQO2hB6E3wXkBekDOj+t/gO9178ZQGP+FDkSNpV5lfvUum24ZDmduia4nbrzPSV9zn5HPoA/S4AkwgADmgI2gUnDNANkAhVAyYCCP7r+G//5gB58uDWJc0Y+jkju/scpummAhNIS5AByKgwzR4y4j+1/2ngFxpAVbwqCuSL/Q9cD3L6ESbLKARqXeJTofxe2/4KHC1EDZPiXfQzG9MJ89Rey7L8+x43/rHNJtGN+qwLRfRm5Obwx/t18AzldvhXDrUBYOfU4u760Q6yBSj5/Pil+yn+FwEzC7QVXQ+//uX8hg9rH2kc4A6BCNcNhxGBEKAU6xWICYH44PYHCY8QYf0U5ojimu/29I3sqOHC3SzhsN/02QngKOl76Dbpv+Y75I/sUf/pDb0BIfmmCI0VFBRqFtchTR7UFrAbBhwaFysavR7TEZT9kgKTDkMDX++i6rH21PnF7irUhMw1/JAaZuvXrKnQpC8eM63eQL8xCiFGpiCI51/1aDjzRpEEWt0PEwJXDzrF3ejSryITSZQNsdGf6w4ftRhF6QziGg3iGyD1mtii+XUlIRZU6u3j7AUgGZ0Fm/QV+ZcArvne7NX0ewNA/aPmV9wz7oX+CPgS7FPszPTq9fH0xwAGDRcJ6fwm/RER6R8eGMYLgQ1VGfYaWQ9pC3oV+RhYCWH4HvrIB2YHl/Yf6zjsQO+m67PqDO9d7D7jwt/X6nD46/XA6wnsYfXS/QoC9gFDACr/KQK1C2YREwxoBHYBmAZ0EQ8RCwSJ/OT/aQUJAgwErwt6/vDvePgzDcQO3f3z/0gHugICBgkUJxfaCuUIaw+iDEYNUhZJE/cBUvzPAnv/1/mc9yn2afBP50HfN85E4IgQugJGtYKZgPWDRlwKb6w5wykmez34+rPgbxsbS1UiV+eEBC1W2WF4C63UkhGFWfE+dvIV6AIZjCKU+C7lIQahGBnxZst+3rIMTw/a49nRi+nO+5/0Pu/Z+r77OOqy44D3EA9TCMbu0+jW+JkFX/91+GsBnwLd8TDrmgBdFsIKBvGB7Y0BXhITDvgDVgJoBL0FVgbaDSUXpQ5i/bj9qQwBEw4J2f77AUECy/gs+dAAgAH29nPp6Ozd+d76PPFO6lTvXvRV8OLwbfpAAMn3Ve8P+nAKjwwwBEIAJQUMDFgP1w5BDaoLIgrtCVoLZA2sDUUH/gBKBLAHaAV5AtAB7gJMASP/tQHZBOME4QOsAggCfQPZBTMHPQfyArT8Yf40BbQF3vx+9Kr24/sp+2z3w/LM79Dx1vTl9Zn1VPQg8uTxCPk6AEL+pvoj+5T/tgYGCREGZQMECfoPtgerABQNaBjfDGT+KwSJDxAPvwoRCf4Amvq9A7kMRgZA/FT4e/WQ9Rr7ugJg/RHth+Qu3GHxSBlYCBzISbEQ/Qk91QIctjrS6SFcJPjj1dtyGWEvvvvb16IFI0OCMAfuquIoHA47dxdA968Gph7IC2XxigV3IQQSrOpH5YUE8BDYAKT0Ufeu9kftlfOnCEoLCPMQ4OPuuwqdCyX4vvHI+nP+Yvjm+vcIGAlQ9Xrq8fcQC+4JtPbZ7y/7qwAz/Bf+MwgmCNb4LfNxBjYXOQ4U/9n+8gmnD4MNChFrE9AL7wGCA0ETGBc5Cen6Fvb7/hIEMf8H+U7xCu5y77vwM/TF9RLv7uZY6Fjz9Pko9o3z+/b6+Zj6TAEIDDsM3QMVAjsJ3RDJEacM3AnpCM4GoAbbCS8MsQVR+uv4HwNBByz+TPd++OH7Hv7b++L7KwBn/8D6/PpIA3kLlgYr/SsBbQluCHAEoQRbBe8C0f6U/vAAwQAt//j6MvmD+tH5hvuG/e750PS58xX5iP+x/Nv4BfxX/Vn9s/8MBEsHmgIH/uYANAXcBtEFawM0ANYAUgVoBboCrAIfAkIANQAjA8ICM/8M/2EAfv3d/fsL8Af68Qb28g2xFJn/dPQCAYcISwjrCQkD+Pcm/vgH+ADA+s8APf/79Wf1vPk0/GX52PT08sDxvPl87ePZVQFVIj7zGbIq2BQ/HjOS1Lm+LwQ7NxgUq+Qy9HwjcSMr8snnXSktSmsJ9tR+AqtAjiw6/Ub/QBR2EYUGrg97G+wP9/cS7jUBYRctC1Xt9OrZ+fDy7Ohw9mwCF+tezn7bRPm3/KjoBN775aHv5/LU9BH+hwXj+sXsOvo0GL4eVAq8/TQJ7hZxGJcZXBuTE/EHOAUaEPwZPRAi/RD2P/yZAgEAk/qg+PL1lPH08Mr2QPyp+efxfe8x9qT8L/7R/mX+IvxA++r/hQcECFD/vPlE/iIEzQIe/icA1gPI/K71RP7oCa0HH/2i97v+QAcZCbEKlAZ2//kAaQmnEU0RYAf1Ac0EowhcD0QPewa1/538h/8yA4oEp/7I80LwHPXA98P0efw++8PnO+XS+XoJFPhe6AX2+/y5+yAEsgi6AJ7/lA1WE9QKBA8qF5YLUgZLEu4UAQiVBbgK9P7I9mgEhgzO+MPj7d456/4Ilwn81qavo90NKL4RQsStwEcDwR+W+nvit/6PIdQVYfDX9bsqykJXFurpQgZBOEsxqBGeDuUZYRJiBskV7CSwEpH0Pu4PApsN+v4H7fXtTfTF6dHeye4kA+7x+804zpvxSAPw7mfaVuEr8jr5hPrtAIgHBwPc+W8BsBjPIHMSdAYzDcYW8hTpGV0igBbrAbT/9BGHG60LDPjx8EL3QgDk+ofwGfEV9znxNeTL6qT9//7J7jjkI+wc+yYACfvw86XzG/qc/dz/X/+L+wz79QDRBQr8EvmrB2EMU//j9uADUw70B64ERQkBCe4GWg/dFdkQmQyiDFULKw0uE5sSTQac/a4GegxzBiEBVf18+XzzwvFv8Szuoetn58re8tLG2Yr2SwCG3VS5vtM9EIMVct9Ux7/uKBZSEeP6uv1qFlsiGhdqDbMjF0WoO6wTvgyPMCdJ5zlpIP4UTRRtG2cm5CP8Dlf6p/FK+UIG9AHB7RreZODE5MXbT9uA6yLtl9QGwmHTFvZW/93o/NZN4mr1mPvn+8UB4Qee/U71NwXkHJIlYhiaCZsMzRdwH98h9RwtE14HsgLwDWYU6Q5wBaP2IfAU9dr9Z/4G71zlh+fm6I/rE/Ko9c7u+uij8SH+ogP1AEH8wP5rBlINvAy1BQ8EvwfpBn0DogSXA/74wexp7c/35/hY79TkENpo0DTgFAvYDSXSLak/2hkwLTLM64vOhPozLkMwtRodGV4qBzEZIDscxDjIVPRHthopCt0oqkXqP0sjowZH/TAGpBLkFF8CtOhP3K7jjPI/9TfoXtgA17TaVdrX393p3u2a4aHUA94r+fAL7f9D6RLpcP4qDzoJuv3pAfIFZf7q/t0KuxSXDUP79PtxB+EKywx0DJcFZvsz/rMQgxh7DdwFBAm6BxgHJhWJHQ0MffcV+gYK0w1xBBH6K+2Y51HuYPNf7fbeV9jy17rbCuTz3mnTCNFy123dfdx84Vfs5+bZ0jvSHvcOJp8fttz6v7MBZVSGTSf/Nd+KD6tG10v9MXohcCYDNmw7eTmfPcREkUH2K7wb7yXqOwxE2S4/DCb7cQR2GfYgChC87xbUJdY48bMBlPJb0jvBVsn51j7cnNw822XVishhwbjR0u+5/A/rQtOd067u0AliDrIGnv2l+JQB+RU5J4UlwBbNDeAOXxc9Klw2KCJMA40BMRsoKXAcfAuZ/1343PkhBW0KhPu45gfcXeGv77PzdOTr0lHRXNdd2jPbDN2Z2ArNN8uC1Z/e3d1E21bgm+ca4iPQH9QgBP8xixSWyYK/mhFcYzVWjA6g7WML5EKUZSFhL0ODKi0sMUOxWkJfz1O6QX4xWSpTLG020EDrOJcUa++R7K0HhxudCx7kr8VNwyjVKOk37EjUhLXlqcy6ntoz6XDbHMVgvKvLLeaz9Rb4ifQC7i7o6/KXDl0i8CGdDi4B0wviIZc0JC4VGXkUAhedFIEYNynxKvIIi+wz+IYUfxrrBTnwnN/q21jv4QFo/H/fNsSKxh7fv/FE57bKgr8LycPRxNTW2ArYDMx9wOPH8t3z7KDqUtT/wBbV8g23L8sLT9XZ2bMgc1xUUWUkfgpXHX5KCmtabxhW3DoOOCRPCWzubSJTpDgFNTY7BTA3HcIcVyNoE17wwtfZ13Xkm+kk3arDiqoOpAe08Min0vjG9a3Soya67d7q8lnsvdda1NToLwMNGCQZmxBUDdkO3Ru7LYU1NC3mGicVNCDeJWseQRjwG3QUufyO9W4GyRR5BpHorN6b51T0FvqO74TgWtkM2bjfkOut8WTlL8yQxO7W6uWa5DHatdEUzJrIOs8L2f3j4uUJ3Y3QD8uW3tXy2QlKF2ED0Om04q8U7VIoVjYy+g4LFsc8DmL9eJNtkEcfJ00sy1oFfulqJjWaEBsaoSxqKEAeohVOBKnnb9Se2o3ohuc22ZHJNb9/u8u8jsRj1Lvihdz5xa68ZNDk8hAHzf8b7ZjlDfOnCeQXfB0+G/QO3f7/A5ogvi3iHd8HRQUXD5UP9QoBDZUPgAcD+WvxzvjCAIb89POd8Yjw/+dV5PztG/eq7V7cmNiH3wDkTeFH23/Xftke3JracdVZ03PakeHC4G3hIeFY32rgO+aCAm0YlRAP9vvqVRV9QnJKHDTGIIQpjjSHQ9VbNWvqWZIvOx97PpFhR1sHN+kc/xw9HVwTpA/yEnMM//Xc4c/fFubv4FrXPtiD3y3afcZ9vP/JNuNH7XLidtO80IvbpOoe+BMACf8n9BfsgfWvDPYbJxZpBygCwQn7Ek4UNBM7FZUSKwrcA/AGLQ6iDcQEO/2d/Ov6RfUQ8TX0zPjC8uLlRt9J5CnqCOjN4nXfkNv616/XYN5552zkFNrL1bPd8ekb7SjuNfCg7svtJ/OnBfMVARONCxYN8hyALKMukzAJNh87AzmBND49jEisR54+ZjfZOOU4LzBZKSYqSSpRIAwQDwbqBwkJFAOM+lLz2O586C7nmene6d3mguE14T/jYOVJ5SXmj+ma6rvqD+uY7PftRe9L8Q71Q/ae8vfwZvJJ9u35EfrE9/L0RvTe9hb6b/ss+/r6q/v/+r748fnr/nIC4wE6/A/5jvuZ/Zv+AP47/X/63PSh8GXwYPPA8u/sQOaA42jkgOSS4CbcKN955F7mbeOH38jj4ew093n/gAN+BkcH6guJG48ugjkFNuQspTE9QulQI1VvTRpFAkLYRKRKSkxoRIQ0HCf6I6onUCX0GRgKev5Z+ir4lvfS8n3pLt/Z2OjaUN4r3mDZktQS1H/Vl9eU2jLdot3x3IPcUt/15Kbn/ehF6hTrGu0q7iLx+/Qq9tz1kvTk9b/4mvpU+zb7LPuI+1n7F/vH/Br9HfxJ+pz4IPlD+X74N/U+8gjyEPOr8zTwueo+54zo2+xO8FbvQ+pN54XomvAL/N4CXQGa+tH5gwUrGfQlXyTnGhsZzCVQN6xCNEAOOFgztTUQP6dGUEanPIQwoypELskyBy/rI+QXgBHKDhgNjQnUA7L8/vQL8MDt7Oy86j/nCePA3kTcrdtk3YnejtwO2WnXh9gs2+rd0t4v3ifdhd3/4Bjmq+nL6vjqmexx8Kr09fd8+Vb6mPtE/Zz/agD+/8j/rv/C/+X+Nf0J+wb4kPTt8X3xfPIJ8ZjrheVb4+XnJu5M8I7tgeg556/s7fd0A/MIcQWk/34DDxSMKCwxPis4IgckKjPyQxxL9UVAPNA2/zquRFdLykcdOlotFSkuLaUwQiykIFsUTg3LCtEK0giEA7P7qvMb7+/tUO5s7aPqAOZD4XreZN6m4KbhNN852mTWbNaB2Trc89s92YTW3dYU2gXefOB34DLgaeHg5PXpP+778KbybPRZ9zr7ZP7O/wAA5P+mAGoBRwHj/9387Pgs9ib2G/cu9Xnu5+XH4ajl7exU8CPrcOKN3xjnR/fUBKsHpQAX+80C4xcGLlc2hC8TJg0qwjsjT+lWHlCLRIA+1ENrTiBUlk0vPqswVSykL0Qwayl4HGYQjwiJBA0DEABK+8bzY+wk6AbnuOes5z/mGuPO37/dAN9X4ojkreOi3+jc6txP37Xht+CU3Z3aFNoK3Ifet9+G32rfSuC/4gPmbOn+6//tW/Dw8o72gvnw+/39Mv+SADIBUgEfAKT9hPoD+E/3l/a/8zPt5+Vq4vvkOOq26+HmMt/R3JTk4vOjAGIDtf3u+X8DVhkOL3c3nTHlKX4ul0CBVN1c/1XkSShE90kSVdFZJFJEQsE0XDDEMt8y3yvxHvIR2gnjBdcDqgB4+j7yp+rR5X7kpuRx5Pnird9o3HjacNur3uDg9d9p3LrZWNpw3d3fu99z3VTb/Nqc3OnevN+T36nep96i4B/j2eUi6NLp0eu17eDvyvL/9M72Svgx+Rf69Pk6+XP44PYf9gn2SPUd89Ltw+eR5YTosu3879zrWOV+43XqgvlLB0wL1QU0AdgI/B23NJ8+GDr3MdE0PkVKWTFjy11SUaJJMU6GWGxdSVYyRio4kTJ3MxwzaSvqHccQMgcBAwUBu/y49lzu4Obo4szgUeCB32rdqtru1i/UhdRh10Pa7tnG1jvUn9RC2OPbyNyD23PZvtmO3HHgr+MI5MzjJ+Rl5iLqvuzu7m7wnPEw81v0MPX29p34A/qw+jD5rPeg9Qz0TPMu8qnxFPB+7Enn+uFM4N/ju+jb6ibns9/R3KbjqfNKBIIK4AMc/MIB5xiUNYhDCz4RMpEx90MoXahrdmfZVzJNyFC7XUlmhF/YTEo7xDNENQE2jy42IBQRZAY5ATP/TPyT9nTuV+YB4Wrf0N9Y4DvgYt312BzVRNR12NHc+tww2AnS3dCP1GHZHdvS19LTuNIY1Vvaa92m3YPd+N3d4a3mnuoc7gXx2/N29oH4N/rn/G7/qQGsAuAB5/9N/ff6+PgJ+Br3lvXC8V7qouJ23p7gwedn7K3pW+Ak13fZXOqrAKwNzAeR+Mn14QoELu5GcEb7NMMrqzgkVV1tCG7CXQxNG0vPWqZoPmdKVnlAIjdVOX87JTckKIsXTAzqBFACIf/k+cPycek+4uvdYd0Y37Hf0d2N2K/SnNEI1nzcMN9K2sjTZ9DX08baSt1Z3NTWC9M91c/YLt5h4Fre0N3Q3a7hvOdr68bu4+7g72vyIvVc+nz9Jv8GAHf+QP4s/23+zP1e+yb5S/lE+Pz0MO4Z54Tl+Omm8E7ztusJ4YrbOeO7+aYLDg+cAQ7zX/vHGA062UbAOdonmCckPyFf2W3gZOtQLkVrT7FiMmwwYj5LHjpoOAU/EEDKNQUjihP4CigI1AbrACv5j+2y45Pe79v43UbeEdtV1afNWso5zZTTUdhC1ePNLMggyUvRmteQ2GzUX89Xz/jTftnE3GDdidyi3bLg3+Rb6Rbt5PCa87j2D/qL/FIAVgLKA7EFTAaCB8YGIwQyAA/9mPzw/A38nfWU68PiyOAO52Tuh++T5ZHXftQY4Vr5mwsACBD5x+8v/gkicT8pRgA2kyUSLUJJ32cTcfRf6UknQihQjmURaudZ60BOMTEzNTv3Or4tnRpRDHUH6Ae9BhYAZ/al7SPoo+Z95drjPuJH34bbT9cA1P7Ut9j12nHYVtGDzB/NrtIA2NvWxNFZzWbNztIm2f7aXNpA2Rna+d9Z5VnpMOyu7YrxdvZi+mj9kP6EAE0EiwYFCGEGnQO/Ak4A6v1k+6r4d/dD9NzstOQp37jg/ecJ7J7o+t231gjeRvHDBlgOHgVd/L4BORwIPHRJ1UInM4wx2EUMYIluDGXZT1REKkrhXMFlT1nOQS8ttirzMso1GizHF0kH8gDnAo8EJ/+R9RPsledN56fnyeY15LLhbd8a3WPbqNqJ21rdaNwh2FPURdJX1RnakdmD1sXQt8790w/Zpdwk2iHVodW22Yvhw+aD5pDm+OZw60rygPb6+b/6JvzU/jMBVQR+BHQEygL3///+vPyY+7z5Q/R77kHowOSR57Lph+lA5Pvavdpu47vy+P/I/uT3rvY0AxAfsjXTOyU1aiyMNkpPBmcCb8FhvlFvTvBbfGz6bfxcAEVqNx855j8uPhQudRddB14CLAWHBF/7pexz34jaxttI3nLcHtdp0ObMIs5u0AvU4NQv0ybSE9Ev0o3VGNgg2rjazdg32NDZ3Nxf4X3i+OCU4F7h5uUr6mnri+sA6+/sTfHi9M72FPeT9ln4UPve/Yj/Iv/V/Wr9jf0E/Wr8H/oS+AX3JvQq8KXra+kj6xnuj+326F7kCObV8Lz9HQVLA77+FgSzFaorpDmLOEQycDVIRZ1blmgBZEZYuFHLWHFoU28YZjlSKkEjP0ZGpUjgPacmiRKjCuMLjA73BQz1OeWT3MHd7d9F3YXVhMyfx7rG1Mhoyh3JqsYOw2zBosOfxszJlMpOybDJr8tw0IPV7Nfw2fvatd3Z4zvo2+tQ7QXtjPBH9VH6xfwa+6f5Zvo1/8ADHASyAFX7xPl9/KD/fv/m+Sryf+147u3xn/K17bPkkN/i4RXpJu8r7bvmDOR66y37RAgWDNQHHQc9E04oZzubQf08ITqOQyRX2WePa1VhhlZzV9BhNmz/aKdXxkVPPc9AjkQMPfkqmRZYDIcMdg6FCSf7gusk4qnireWn48PcEtGUyvHKMswsztDKLMSOwCy/Z8GUxNfEwsPHwQfCdcXxyTvPk9F/0q3U7NeR3qflKOpK7dbuu/Fq93P9PQMkBVIFPQavBxcNCBB6D4sNjwhPB2UI5AfEBZL+lvb08YDws/Do7PnkkNzN2JHbaeBd4hzepNlW20flQPWj/y0BPgATBLcUgSuIOlE+QzpVO0BKGF5bawFqX11JVg1bdGahbYxjfk9xP/w5yz8GQXI07R90DIEFxAhbCroCavKU42DeA+Ot50PktNrgz1TNBtLL1VnWUM/vx3jGX8cXzO7Mm8jIxcTCgcTayG7KJszXy/jLyc7F0qDY9N1Y4jnl5efp7OTygfqIACgDRAWQBkIKEBBsE38UwRG4DT4NeA1yDT8LuQN6/Nn2nPIF8tHuZugv4TLZs9bo2LTb6dzr2SDXXdkw4zTxEfw8AVYC3QgiGcItmz/sRd5FDkpIVnNqvnjTeABxQmgpauh0QHlqcjtgBU3LRk5ISkiZPvIoRRV9C94K1QwdBZ71GOaP3QjgkeNC4bLYpM1dyQ7M+dCE0rnNe8eqw5rFkspAzObKXMYSwyXFRsiby8TMssqnylrMXNAn1ovZntxB3xviEeis7WDzHvll/GgALQRVBwQMXQ+1EdESvREHERkQzQ9bDw4MigcXAUD7uvgl9lLzqu275I/eTtxg3lrhUN+M2gDX9dlg5TzxLPhX+fH4tQGwE+UmAzWwN/M2Jj7dTHFgGmy0ad1i9F3EY0Zv0nHzaTNY9EjVRYdGF0WgOO8iqRGECPUHAAeu/E3taN4f2JjaWNyt2f/Qk8fVxYzJ685V0f/MWMiOx/DKg9Fz1AHTI9BWznzRZtbP2cLauNgJ2EraSt7E4gzlXeXl5fnn0etn8Cn0aPb79/r5Af3OALYEngc6CWMKJgtxDDkObQ8GEP8O3Aw1CqEHZgbQBKkC+/7C+KfzbPA2767v0O2J6Z3lR+Sh51DuffOV9ZX2RvnhAbcOtxpUI0gnkStYNIRAbE0gVYZW5FWjVnlbUWFVYiRd5VM6S39GxUOTPpE0ziZ4GSQQOAqMBB/87vAu5gHf59t52pPXWdIpzVvK6sqpzefOL87ozBzMNs6C0VDT9NP/0iTSeNP71ADWOta01APUdNQt1arW3dag1lLXItiP2lHdXt8c4obkp+cI7FXwyvQY+Q79JQGYBaYJRQ1XEHkSdRQLFhgXVhd5FhQVIhP0EGQO2Qq/BrYCJv8y/ML5xvbY81jyt/Fe80X2YPgk+xX+pwI5CmwSWxrfIEcmlyxUNPI8JUSISFRKOUsBTXVP7VDcTtZJfkPDPSA65jWmL2cn0x2gFaMPoQpgBTb/N/ga8lTu1esy6vznjeTX4dPfb9+63x3fJt7q2+nZstih11DXb9ZM1KXRLs+NzWLNk818zF7LN8rayQfMDM410FnSgdOx1gPbKeDw5QrqGe748lj45v5xBCwICgxND/ISKxfqGLwZ3RnnGHMZABm8FtYTYA8DDAcKPweyA77+sfki9+T1I/W+8/vwie9p8JDzqveW+gD8Kv7aAgwKUhLvF6EarxzbIPgnly8CNAg0ATOyMiI1ZDg1OII1gDAALLoqOykCJ3wicBuOFiETrxFhEIkMCwjYA7EBzAD7/9H9+vrb+L32b/XM83zxhe8t7VnqM+hm5QDjQOEm3p/bjdis1cDUOtQU1N7TLNKJ0IvQc9Hu1EvY99kF3JLdh+Fb5zbsXfDD8lv1C/o8AHgGlQo5DH8MmQ6oEooWMRmVF94UlBOzEtsTGxI2DYkIBAP5AMb/t/tV913wS+vf6TvoLehI5j/kQ+Ww5kzqhO1V8Jz1CfxLBI8MORPeGRYhYimbMjw6/T/bRHFJU08fVDNWTFXgUYNPYU5MTTZKxEJrOWkwXSkZJOscAxTWCaMAsvo99VPw6ulp4tbcf9hm1+fXOtfL1Y/SRdD80GPSetRw1b3VW9eR2CzZzdjU1wvYydlL2+7cW90+3QDe591j3t3dRt7H4Irlresn70TwHe/M8KX3AwCjB4YK7AlXDqgTghsYH2kWxxKgDbcVAyLTHdoWwf2+8Sb1a/iQ/z3ta9hpzezMbNtq3ZjQkcImu/DHkeGw7zz1vOsc41/xqwUUInkvgyhyKVYvKEcVYJdfu1ihSu9LiWIVbwF25mScSUU+aDgcQmVChy8RHMgGVgLDBCb6sung0HTDccqV1NDb+NHUvFeyRra/xRzVPdQq0JbRTdjF6JDsX+od6Azp3/tfCzMS3wqI+kn3TADtDGIQhwU0/J8AfwsrErkE4O7h4q/oD/7ZCCsE/PAk4rLj3exv97L0Mu1K6RPtQfiI/CT3mu0H58jthPlDAKcAkvVL7gTot+UM6SDo0urt5zHoc+rv6l3qJOWF5Ofj6uUF6a78ViLRQzFKHSr2EEgalUOPaRZrDGJMYNBsJHU6ZtlWO068TqxRaE2bTyVH5SlPAHve/d9p7YrsRtSetM2mZaaFps6e/ZWYk7ydWK1tv+nMFM09zH/OMuPaAHgXPCWbJQspMDBUOqRDEkOnO3EyPC92MvUztCbHDtn0cObl5wXohuLEztu5e7Ldst+6t7hzsrKz57s2z1Dc1eIF5tHnQ/Kv/+gO2hrcHswfCiKPJgkp5SJ/FjMQbQ2gCV/96edO2FjNhctJziTMK8n7vYa55b+qw9DE0cB+2DARSkQDU6A1USB4KvtFCl6mX0Figmrhcn1xrWMTWTZNT0DGMfUqjC36JkoOBOq71G/SftL4x0G0g6kaqQ+s6K8etGa7EMGTxPrO0d9k828BGQjQE1Ui1zG8OxQ8uDwtOq06WTyPOkI4fy2HIZsUaggi/w3xQuOe1vjPU81OyKvATrfrs2e2Dr7RxZHMz9Sf3YjqzPZ9ArYLghH2GO8feShILlMurCx7KacnQyNVGHQLW/8S+E/zdeoB31/Rf8aVwf6+ZsGowxTFrsb5xs3Oa9bM2sXcXOZEDLM9fGLrYbZI7EB8T7ppm3CYZ4llM2mVcUtq/lqGSKwsTBG6+M71g/uJ82/c67+ltsS2j7J2pT2XBpnypfC488pX2T7iuuNo53v1qwxuIIor6DM9QUtQ8FZ0UUdDYzbHLU4oDCTYHtUWfgkN+EPn79mxzsfEmroxtQW2NLuGv4y8arujv17LU9ko5ITwkPwHDLgaFya3LqMx+TEYMMIvlDEBMcYsUSYKHvUTzgaU+Dzr9d2Q1M7NMMqwxtTAfLyNuyTAH8any2PR8diV4MXpHfQ3/BAC9AkbJlxOqG66cXNcCFIKV6dkMmDLT41JhEsWU8RKez2DKkQO9fFW2graRt6V2kfLNr0vwcfGn8XmuAeyt7gGx1vabes6/MUFcgsuEaQZ2STiKVErUC1qNyBDWEVqPB8rMxoZDCQDMfxy9AztlOY/4sXcd9WzymfAHbzAvU7Dhchs0CLaMOTK7vL2qP0nAZUFqg0vFxgi2innLsowsS6FKlMiOhmDEO4ItQRrAMT6KPEG5nTdBdUpzaHGH8Vyxg/HncgrzXjWcN826AXvZ/Wc+p384gIjCqISoxWyHV86c13sc25odVGLRtFHBUs9Pa8yzDAuNMYxUSVvIL8VfwFi48TNPs1F0kDWr8+fzTzS79Zq1wXSxtMf1hvcYOUB9TgJ3RUTHX8csB4bIvAiNiFVHccgCCXyJzEk6BrYD8MAaPMS6DjjIOHH3NfWANJz1B/Yn9Zrzw7K+swD1m/iEu7o+BQDwgsoEZoT9RfqGxQdzBzBHuEjbyboJKYdOhPSCvwCCvrH707o4ONA317cBNti1wXRSsyezG/P4NGm1iDfWOqp9ej9KANiBjIHlQZhB7gLHhDSEE0dAz6tYjtvJlwmR9o9kjzuNOIlriCyIzsrqSpdJ9ckkRX/+JDY/8wP0v/XGtaa0XfZY+Xn7CvoDuN75G3kX+Oa5dz32w+sH0kj4R+xHzsePxphFJkRTBL4EG0OwQ2jD8gK4vtK6ivge95P3UraQNYx13zceOAy4SPg1OBl3/TebuXK8qMB9QqqD0EQ8BJsGDYaaBZZEEcQqBLbFI4UjA+QCA7/CvWd6T7hVd0h2unXAdj/2YLZlNjk2KrZaNmC29jhE+k/8d76NQX+Cp8MAwxKDFwMKApHBuYI2CJQSl1n9mUQVOBIqkMgQHEzqye+IUshHiRVJdwtWy7+GVL0BdfR0mfWbNWQzNvLbNdf5hHu/uss7HXp4OF92o7iM/riDgobHx+eJC8onCZGISUawRXaDWkGzATAC0MR3wj7+a/tm+q+5r3bns7dxkbM0tRJ3PbgP+PM4nren+LI7Uf4avsS/DMEqxHIIEQo/SXVHt8Z3hh4F6oVWhIADF8CLvqV9c/vk+U32c7RKdEh0ujRANM82Wng9eKh4+HmQ+3G8rH3Ev7YBGcKKA1RDvwOYA+8Dn0RoSSpSPJoPm3OWSxKQEjuSSg+nSvDH54aLRkeFxEf4iRNF971wtTyy4nPa9HHyETC6Mkk2lnpaO9O8yj06e+z6vPt5fvYCqcVTx3OJOkrpS9bLnYnGRs0DFz/o/s7/jr/U/hd67TgUdyt3LbXI80RxjvKhNPB2AXbud3h4oToGvDY+IkA5QQyB4kMTxfaIlQoZiekI+8f4xojFf4N0wUW/UH1A/BN7EXni90s1FPQNNPd1aDXddvW3SbeTN6z5u7xHfeL+e/74gHJA1ACGAOxAZABGQGoEF40xlpacfRoHVt5UQZO8EQsMPQglxXrFYUWax1aKD4mnhBl6UPSdMw1zbDFDbxuwOzL1t2T7e38+wG1+DbtsOn59asEYg8PFqseBi3cOflBWj5gLqQWvQA79m/0RfVw8FXn4+De4CzkzeGA173JncMvyaDSr9jk3NDj6Or/7xf4wwKKCooMqw2LFRchqCt6LUUqjSgzJ/YixRiSDwMF6/iF7SLo6OeG5Fjc7dCXy9fMUdL81JnT4NIL1ujf3ew7+Hn82/rg+ZH9gv+3/839J/1M/D0DISP/TaluWWzlW+5SWVA+SRswMh0uEUUO2gwyEkAk4Si8F0TyCtq41N3RC8hQuye/y8sy3FTr9fkkBDX/0PK56l7yDAIsDEgSYBrjKf43mT7/PYwzpCFeCtD5EfId7RbnReDB35figOjF7I7rouJP1RvOAM+Y1tfcxuGd6TD2hATqDPkQfxHiD1QOWw+RFVMbAR+5IH8gMh9kGk0TKAce99fozd8G3bLal9dz1M7TAtih3Rfg3dsJ1wbZweKI7pr10vlo/Jj/Zv+G/Mv7MPqF96nz3gNhLARZjG9/Z1dePFvTWqNLlTHlHjISZA/SDpUboiqiJ0MOqOtf3AbXEM+mvemxGLh3x2vbZeyH/coFRwGD9n3vVfWh/Z8EqwrRF2MtLT9bSFJEfTgBJvUP/f6r8+7uB+nV4+njzOlz8XHuLOJd0sPIWcZ1x+zM9dNo3nfpLPd1BWQPhRJcDFUGaQX3DNIWIh0DIsEkBygyJ/AhuRdoCGX4gukR4cnd/ty83DDb0dqh2rfaIdnx0zPQ2NBl2hnnyvHD+R7+JQQ/BakFbwOI/rv5/fcwDxc39F/5bmZmtmH8YK1f6EfoKpkYPA/WC3IGCRJVH8YaG/3h2ujROdJUy9q2LqzJt6rMueKb9GwIHxMrDykFQQEzCTQPfxHYE2cd9S3jPG1HR0SDMzkaywMp+Mbv1+bI2yHWdNmi4JDmHOWX3kHVfMujxcTGD9CY26Tkuu2F/AgRXiAqIUcXrw+PEBMUaRVyFogaiB7qHq8cBhh/D+7/t+2/3/jY09j32dfb4dsa2pDXtNSD1NPUP9hP3NThwOcs7RfzFPQg9i/33/qC/HcBCBlDPNZe3GZvYkpis2cWZuBM5jQAJbQgAxx3GZolmis4H/f6bd2r1ITQR8RbrwqrWbiCzN3eBO6V/oEER/8Q+N75VAYKDoURFRXSIEkywTycQZQ7STAoHfgGHflF7/HqnOE+3CPfLuT/5kTdOdOMyorFeMMMw+HLAdfg46PvLf1rC9oR7BGiDtYQZBWjGIwZ/hlmHtAhTyPxHnIWtwoP/IPvi+Zg4yXiNuCi3ZrbT9v42cbUO86Ly1XRTttj5MPqPe5W8nPzofcL+y79sv34AYAdBEQbaMFvW2aGZCBn5WZsTFgx/CGrHlEejBdEH5UmgCG5Aq/dIM5yyvrFWrTVqjy1h8qL3/zrIfg//5X7qfO18Yf/LQ+0FbgXUB4FMak+SkCTNV8ldhaWBNv3A/CW73zvROzk64ftge/P5g7XcsgkwsfEIcmJ0DTaKueh9NX+VggADjQPBwu/BqkLhhXEHucewRrTGNEX/BVVDngGG/108qjoR+Ux7BXyWO8R5CfarNcZ2J7ZgdzG4G7mOOft6Mnqc+z87v7r7uzm7GL8Ix/0SsxtpWwxYDJWIFvgWEhAGim0G1kj3yUiJfcpDyzlIIr3INFPwgDHgscxtcyt/byn2rLt9e217zvzdfQf7aLqhfz7E8MjNCUPKro540TwP0opIBVsCRkCpPqN87/zBvUf9DrwlewN6R/ers5bwpPCQ8y81K/adeC86vD0svtnAP8C6ATOBDUJeBVmI0opuSJtGcUTqxDiCp4BbPp79MruKers6r7vHe/I5ZvYpdEN0SHSzdLS19rhxepf7uzrB+wM68Hrpeoj6sPw7/xaHSVDOWVYbtFeD1KESPlIuDnWJZEcmx2ZKt0qPi1ZK7kdXABu1b7BdcTc0LLQpsMNx7vZm/DI9lvts+iT52jrH+++/PEXDS2xM5Eq6SekL8IzjyhMEPAA+/49BcsGVgN2/hD4VO4N4WrZN9gh2/vZJtdQ2ezh6Ot27SXov+PC58LykP0sBfYM+BXUHgki4h+qG8QV9Q4mBjsBqAFKA53/3vUe7dXqQOuB6KfgoNdz0wXT3NdX34/p5vDU8fHtjelI6JfnIegC5v/oFPH2CM8ucFQna2Fg/0uoO00+LUXZOzYvIiVILhA4uDUmKxIYGARx5SrGsLtcxyTdOeGZ1AbPGtcl6CDqRN9N2BXcvewi/b4QGSdWNwo5LCpxGz0ZtR/NIQ4Z6w3dDGQT5BYjDhL7VugF2r7Su9K92Qblxuvc6fDiIN8o4pnl0+P539LilfE9BcATYhnEGPcWkBOSD3ANYw4HEVUQCw1DCrEIHgQe+Zrp6t0+2srcIuFE4Y3g3d9u4sXnCetX7DfqmeYy5X3kqOdf7Qjv1vFu8icDRSWtSxxpQGLzTuQ7QzyXSp1JOEESMDQtGzQwNVkvlBuiBZTsb9Mrx7XJQ9mv5A/fH9IXx67LMdct35viTeI26yf5UQw2Hs4qLzC1KWQfshhcHloqPzCnKOUYHQxZB4IEj/y675vi09wK3ITg6uSu5RPi/9gY0/vRb9Yn3X/ixOnK8uH88AVbCuIM9w3kDucRtxQHGZ8aWxltFawODQh//sf1k+y25d3hf96+3wvgcuEd4ZreZN8y4PvjU+kC7Dvu7+xU6gzu/e7h8RPykfZ1Ey8442Gjb3JeHUhIM1o63kHwQmA/jTRWN6c0dy67ImEOdPyR4jrM4sLMyZPf0+v453XWRcQxwCTF3dKK4U3wlP6NB1YR+BplJlEtzikbIREaCx3NJ/0vGy89JHgT1gPB9bvrPeY848zjnePt4kXiUeDS3lbbB9WmzxfNBdQZ40PzPQDDA7cDZwKfAgAGSgnODmkT+hdIG8McnxylF20Nsf778D3qkesr8Wb1ofLr6lPg1NdO1WvWD91n5PHryvFY8sTw/u0l61fpbucS7bUDxiblTgNjX1xARdsp6SGwJJMxpUABSStPXkXOMxsegwo6/6TyO+eu3zrgaurk8yj0ZOqk1/rGsL37v73Rx+mWAnwQxBCRCVAA5/0ZAsEKFRVLHeAi3yTjIWcbIxG6BUn7iPLW7nvvMvXG+8f9Cfjj6Tna+M/Cz3DYtuRH7wz1KfWU8ZLt8uuF7uvzA/ttAmAJMQ9fEtsRtQ2wB0EC7f8fAc0EBQkSC8cJqgT1/O/1l/BW7pPuNPA39DL4ZfuV+8b3kPNk8K7wYvNe9aH3+vkj/14I+xEEG0ceeBvtFCIMPAiECVIR8RzyJbIqvyeyH+sVOAxOBh0FEwmTEVYZohzcGE0OtgJ5+ej22/qoARoIHgohCIQDJv4I+cT0qvIK9CL5Nv9IA54Cd/2C9k7w2O1b73jzQfj++iH8Gvxu++f5YfZx8tTvqvB49A75QvyJ/GD6pPao87byY/Tc9yz78P17/1IAggBq/zT+Jv3C/WUAsQMhBywIDAdpBKIB7wA4AQsCDQJfAfsAoAAbAL/+rPwg+of3JvXi8yP0avWm9mj2C/WV81bzt/Rn9lb3BPdW9gz3w/kF/mgBFQKNAKn/HwOxClUSoxVxFBcTyxXDG7sgCyGFHRMbXhymIaImPyeiIqsaSRS4EUASfRL3DxkLoAbQA6EBTv6a+NXyZ+6i7CftfO7A727vY+2y6jTpwOn/6/ztWu9D8CHxyvJJ9Mb1RPbT9an11/Zi+oj+/QB0ADX+9fzv/RQAYAE2AasALAGMAu4DPQRyA0UCJwElATYC+AMzBboEBQO+ANn+jf1K/Er70/oH+6v7MPtw+Wb2SPOR8RvxQPKI82v0VPTG8tnwcu+C7yPxWfIk8knyQ/Uh/cMEjwYnAnD9qwEXDm8a0B7+GpkXVBv3Ix4rtSqDJAQgKiF4KIwuTC0XJa0akxU1Fm4X0hQEDsYHfgWOBOIBrPud9JPw5u6z7pvtV+x17ODsr+za6cPl0OPW5d7qpu5P7sPrBus+7vjy/PP18J/tI+809qX8FP5m+ib3tfgm/ez/nP4M/KL88QAIBZsFNQIh/1H/FgLYBJwEJANWAgYDfAO3AZb+cPy4/Fb+Ff98/dT66PdA9lP1f/RX9CH0XvTD89fxju8s7sHuL/Dh7/Ptcu0F8rT79wIyAgj7Gvft/noOxRqxHDAYehelHi4o/iw3KtAkWyPtJ9MwnTZGNJ0qxR99G0Edox7lGn8Tgw7ADWQMvwZz/Yz1A/Jz8GrvYe7R7k7wje9R69Pk1t/B37fkkuvo79juwupg6IzqU+9m8VzvmOxe7u31WP5TAUX9VfYR8z32w/w2AhoE7gOWAycDOgIDAd4AfgKmBD4GKgeuByAI/AaRA+/+nvsr/N7/rAOjBB8C2P1r+XX1CvPm8iP10ffz9xv1n/Cc7GHqsukv6nbqNule6LvrpfVyALEBWveI7Gjx/Qc/H94lJBwtE8QYvScJMpswnCnkJ/ktCjjvPk09WjPQJWcdGx6MIqkitxslE00OcQrLAob3EO8/7s/wpvCB7OPomOlS60TpI+Oi3djdtOM66w/wf+/M6ublwuRP6InsFe5h7bftVPG59bn3W/Y48+Tw1/Dp88b52f8fA/MBJv4Y/MT9UwJjBtwHGQjMCNEKoAxKDG0JGgXoAfQB2gTzB/EHXQTs/138g/lt9vLzEfQA9q72ufMN7qroM+US5DvljOdV6KDlt+IJ52r0/wAOABvyR+kt9p0TECr4KC4ZAREoGz4t4DbTM+Ys0StjMnY7xT+yOlwt0x8nGzIgwCXBImoYBw/WCtAG+v3l87nwovX4+YP25u356Czr8u7V7RPoYuMw5Mjpxe/F8ertF+f44jzlGesZ7ljsHeo+7A/xl/K97k3q5eo78Fv1OPf996L6y/7tAOv/Cv9CAqoJjhDVEooQdQ3xDD0PrhGAEV0OewqNCNYIBglOBnMBcv0E/K77l/mz9fTxju8J7SDpYOVD5I3lleZb5dji5eCS3x7ge+V18V3+2QFG+bnv6fRRCjkgKyb4HJkUtxmwKGE0fTVeL9Aqeix3M2o6ezoUMaAiTRlrGqwg1iEXGg8PqAepA9r+afn19jz53vq/9tXu0OnD63LwWPFL7KXlZOOE56XtQ/AY7QznsuOu5E/oneq16jLqv+qY7Mjt9uyB6o3pxOwT9O/6Tf1g+5n5PPyeARcG7QcDChgOJRG6DwsL5QgUDIIQOxApCzQGFQWEBXED9P4f+2T6HPs/+oT2+PC36x7oNOaP5YHlD+Uv5Eziy9+n3WvdEODC47vnmu0h+HwEtgkPAzz5L/2sFPYwcDyTMjQjpSCCLCE6Hz8uO8U1aTN8NEA24jO/Kv0cZBOcFJscnR+0Fv0GXPux9073Wvbm9Xj4JPp29dnr5+RY5rfsffBK7hvpI+bi53js6+9p7nnoWuMw5DHrUPKq9H3yw+857+jv7PD88u72tPsB/2oAAAHTAOH/UP/IAaYHVA1pD30NGQpmBpQCiADrAl8JDg6MC9UBoPZu8M/xS/iG/tn/8fpm8vXox+El3l7ftuQz6YzoB+GS2HbVItlk3lvf7d3L4RzxIAU8EQgNYQDD+1oIhCHcN+ZDLkWLP4cz8iQZILIutUm+V3lJWiqRFskXTh+ZHN4STRD9Fc4Yxw6B/R/vwenq7Cb22gA5A3L3b+Pf1vrYBeMg6mbsw+1K7TLlx9ef0SHce/Ck/PH5oe+T6jvtP/If96r8twI5BlUFpgLDAQ0BjgEGA50IAQ/lDroIMwGFAVQGrQgxBr0BjwByATwAifux9dDygvQm9jT15/AW7CDrguxW79jwBPBq7rfpAuTk3pPc391G3xLgwOBR4XbibONB36fVcM6O4xYX50C0OAcHj+4TDLc93FFKSDdK9VuKXB02Xg1BFJhFlGjIWHgsrQ6hCx8PaRAfE7wZDhjkCav+qP5R/tnvUOFe62YH7hCu+F/Xr9B14pXvjOoN4IDjNOsi5xHYQ9C+25LuX/rs+SnzBe7P7r32RQKJCHoGawFZAqkIbwex/qP5iQDSCZMI2QEv/6gC2gT5ASz9rPtX/4UDwgGp+tL1VPVb9THyne4u7Xnt1O6N767sl+d05gjrB/DI7Bblmd/P3KvbSNhs1j/YityW5NTnFukP58jdaNVV3jET80/FV+Ef5OsfBU5IRmvwVX8700XEV7lIliBTEV8xW1i0VDUpLAGL/MMM/BkgHOkUkAZ+9iD0TwPnELAFa+vM4VT1mAjv/UDiktjr6Sz3YOpT0/HQV+WC9antVdux12vmS/i0/bz47PIE87D5iwGGBLcAX/xo/1IFuwLw9/fzpP8DDRYM4AB3+8X+vQKGBD8FpwUmBd4EpwGK+rb3rvwyA+8A0PYz7+jtm/By8xvz2+6w6hTqDexy6hjlfeIu4mbgr9mS1OnZEuPZ6U7qf+a86G/nE+BN2RvwnDFfWjY8tPO645gpdWqcax4+GSucQXFPDT6QINkjlEWoUSkzCgPY8ZYICSEIJ2QVW/3i6tvl+fluE6QYiP4y4ETfB/N2/a7xReUN7fr4CvC21evK1+LMARAFrOnD0fzYofNqBzcFcfgP8dDxo/dA/KL/egDJAFcD7P+Y9OrsXPnyDgIUqQUD9yH37f4UBz0KbQaxAjgCXAIC/KH11fsbBuMHEPz67ezpw+3F9GH1N+9t6Jnkt+SU5d7l0uUX5E3gadlD003VFOCS6pHqM+W24mzqrO925pvecPTYLjFP3iyr8YfvMTaybzpmAjV7H9Y2VE45SJMwlCoKPBpC2SgyBpD7IBBcI3giJg4V813kaegoAvsXzhFt8p/Ymt8996EApvQa7Ljyjfj26TnVndc380sLmgCo4KDOMt0B+t0HfAI39kvvv+9J9VL7+//sA6MIrgfz+0vxv/WbB+oSqgzO/5f4hfoiAYoF0AWBAsYB6wF++zT0RvcFBfcL9AFd8X7p2uyJ9WT4gPG86LvjouWI5N7i0eT55djkn9xb1RbU8dq25wXtDOie4oLjSe5t9QHvpuZG8cwhxUfUNL//oPCzLZNqIWlwNzAZWjENUV1SNTcbJyc1cj8+Li8On//dDxYiGSSsER72T+gh7EQDoRRsDf3yR9sn4gv41gB99AHnf+xg9PnrvdtJ2m/x8wW3/oDjatDA2+X0rgR5A1D3cu8P70j12v07AnUHoQqrB4j/EfdB/ZAL7BRuD+H/3Png/Q8FbgZgAz0CVgHu/gv5TPRk+R8GxQsBANbtbejD70T2IvR+7jzrtemw5uvh8OB+5gztE+mJ2yzS8tYi5uvtP+k+4GLfDemK77fz9vFd63PrDAJ0MD9BlR8J+NoHPUozbehTlyd7IYBCvVN9Q6oqXix6Q9tC/yJwALn9VhnCKwklwAj37gDpa/SGCooT0wUL7O/dOuji9t73SO9I7X31FvXZ5HnXg+AS+6wGcfWs26jT6+Sg+isDQv3m8ZnuRfKj90/9GgMzC9wM/ANE+Sz3fQQRE/4SZQcK/Kn7wv+lAfcEYgbbBCYAcPqc99b2afyMAwsA+vK65uTlHu0H8gnwQOdT4OjgtuUZ59HmIOo27fbp599l24TjS/Ae9abrMeGH5efupPZ19cnune3j9CIZADecLVcKcvv3KtZbul6cOWwcjS+BSXxLxzVYJwc4yULkL8wMHvrYDh0o1SqZFBj1wOmz7ksA1w4SCs73L+M34Hfsf/UE9VjwSfFh8/zpjdxs3Jbu7/+Y+ovlF9f1253tKvqB+rz0jvB58VHxsfTA/j4KRRDpCbYAwPuMA7QTERtKFEoGwwDuAzAJsQxTC0IH0gP6AAj8b/YW+WMCuAMJ+DvoU+N36h3zEPNY6TnhYeLS50bpaOce56jqLe0u7b7pyOQ/5gTtkvJ47hvlcOTP6v3yp/S16xflKevkCjcpiSLJBED3Hx3uSr5S3jmwIWwt5ULhSIE6myyvOPdFzzk3GdwEUROxKvsv2SCnBuD2jfXjAUsRkBGuA6zuduRl6pLya/SU8WXwce+05uLbC9pv5AH1G/mG65LYbtMS4V7xEvjx8wTr6eXa6c/yVPr5/ssEpwefAS36CP28ChkWAxZlC+UAcv5JBPAJYQiqBJcB5P2K907yAPRa+rb85fak6l/iAeTL6X3tZOpj5Yri2uOT59rqlOtu7Dfui+5S8W3ys/PN8h7xaPPA8cPva/Dk8Sz38fRX7uzsevakFgcoPR2iBgoFuS2kTN9NZTdiKdw4qUcmSfc7sTRYQH1F/jXNGxkPFB3dK9IrvRrgAtD1pvVJAWEIOgID81nkXt1L32Dly+js5xTmEOaV4DXZ/NlQ6Nr2tve57fXinOIo7JH6XgF6/OD0ovIz9ir6yP2qArgGTgZwAd/6u/r7AZ0JMQqGAq77tfhV+U/7mvyJ/TX86vhT89ruae8h9VH6dffF7kTnGehP7kLyEfJS7sfsL+9D8kD0UPJ18rr1k/Zj99H1YfWP9HHy5/Un9XPzHvSu9VD7hviF9hL4fwBXF0UhoxvbC1gN3yozPkFAHzJzK1g1Gj5kQrs6bTe1QMNDsDeiIPoWbSEGKpAorBamALTz5/Gh+oP7YvUp63ff7Nmq2UDfpeNa5EHmaeRK3pvZ1Nsn5yDwuvPx7qzk/+Kv64f5if58+sj3G/fN90f44/l+/REAEf80+XLxP/B19uP5Ffcs8tLxp/OX8inzgfPu9Y364vs6+R/yivEW+cT8/fkK9Irxf/Pp9WH4SvbH8k71Nvr9/SD8//jM+X77qv3Z/XT9qPuH+Uv37vWB9yv3cfiT+X/66vvA+jT+aALcCQAXJhyxGYkShBYgKKQyKzYyMIUrIDBNNaY5KTVHMlI4jThzLmAfThnyHWwg5hzcD13/2vQc85P2dfTU7qHoouJm33nf8OLB5JTlbekT7BboouLA48LsVPex+Bvz3u7Q79z3ZP37+yX8Hf7X/UL8R/tV+of7g/4t/g75LPKO8vXzn/Hx8lX0AfSC8FnvgfIX8lv07fqS+dLyufIH9tX3zPbE9aH3AvXX8rv0pvUr9l31Svmw/Ej5ivk7+lz7/wDiAZz9Vvu1+pn74wKzAIz5DP1DAPEDt/6pANoJWAtxD2YMQBMrGPwX9CE3IqQeqR90KHgrfyKlI8wq4yYtIfAh6SBhGygcPx4RFQYK7gloEc8KsP+h/S77Pfcb91T2aO5y6xHvUPJe7e/nMeyq7v7w3PIX7WDsRfFh9Tj22PGX8t7zNfSD9kD1D/Mt9uP2IfQ99RH09fS69VH2JPc88u3xc/QV9Ov0Y/VO9YH2ze8R8S7/EvUm8l4AMfjY8zn40f3Y/ov0L/1bBFv1lfMI/8cDIPhP99YHav029FP+cQjuA373NwUIDO/6WP6TEHcL4f5FBTUTsQruADoQJhMmDRoMYBKqF5ALlxDLHeAXZRB3ErUZahYSEyIYmhbTD0oPTxdvE2UJew+RETMMZwoXCFkG/wYEC+0GYgBg/yAAsABr/sH+mfr893r70vmU9kX1TfcW+S32g/T38yzyF/Xt9t7zevLf8vDz2/BQ8yj4JfDy7hH7N/L/6nP+y/Cp8OP8Ue0W+Zr2XvUF9Er2+PwZ62X+1/QN8r389+xZBNHvN+zCBXz05/Pb+v/6ZfMX/V75zP18A0/uiQVmCon30vfYEMMLuPBBEDoSTPrnB/cUjArkDJkLowbJGoQHxAWGHmELuwXcEsgRjAkzDVsQCAzYDe8LVQrNCu0L+AwVC4YLJAtdBRwJhA6hB0kHSAgECJQHRwV9B5oGTgaMAh4H+gU2/MEGhQAG+z4HRv5m9p4BEP3N9hf6YPw6/Ezwffn4+Zr5kvWj7T4HU+8X7voPweVY7QERseui9AkAgfXR/yrwAf/DBAXqTfzkEcTqku2UHGfpQfCeFdbjxAkgAajgwRPS9N7t6gnT+0L2s/irA1MA3fap+44GUwM1+B4B7QQ7At78rwXhEoXwGwjkF5/tlxDUDjn2Shg9Apb1Zh+PAPL5mhGGAKMSuPbh+2Yiw+xy+0MiS/bG9Y8QTwo5/Pz3HRXtBbzq7BjmAkLx3hUD9YUIxgvv728S5Pza/DEJ/fm/CF0BbvrJ/h8Jhfym8zAKEf3T9RkBBgLS78L2GhXh66jv5Rbe6QL7FQgU7FMJb/Kd/0UGF94dF0cApNnlHs/3TePWG5ztuvOYBbP91//04s8bGfUD4VseM+qz+yACZPRhALf8zv9p52ATKAoA4CYGwRcR8yPo4h9xAIrpbRJCCt3y7P3UFdT7MgBD/AgR8hI9zpImyxXYzVgmiQcn7iwBsRHfAz3coiNABiDioRH6Amf5ZwKtArr/mQw1/pj3MAjuD1D0JPFuKg31yOaEIlP+k+4qDpETNe4K+jofou7m74waTfd0/f8LLfLN//QQwvrm33UeZxHzzxULbhkl5xvtDylR8f3kQi596YfwcxtV99HwWA/lClDl4QnJDiLq2gWLDdjyEQFL/xj/+vXu+I4WqeJUCLkWb9QQDk8f79HJ8fI/cNc723sws/Hu7bcBHxet/trlnheHBr/tTAE0BHoPuPYi6kQlSvHW8m8YW/B0DtX6M/rL+JgC9wgP5VYW9gCd9OEAi/6UDDjqRv9EFy/uNvDREejyVwUbBGv0GSAk7tL4BxTs+fnxzQljF+TdAQ1dD/TtRghJ+hsWoPb37kEW2vey7wn+hhSNAg3kShCYFpzec/8PGaTs9ACuBX/7S/vV8+Ae8vhb7SAmMf3s9673XwkKGmjYowxzICriAADQDSMD2fsa+1oSJPyu62sINQBL+FgCTgoU/az7kg/D62YHsAkf6OIWfPDG9EgV/+YeCIYSefeWChz3Egv+CTTTfB5hFmjSqxDwELHxOfghCSYOfeyhANkQ/OYh+H4HdwCs/WXz8iFo8oTmqiqx5I/5ixZZ58EGA/zm9QQMpv4B/SMNKA0t7Pz+jxxk5OvsRTGx88zQ8TQSB03R3yGdBOT7gvw+8Bsase4b7mARwQhL+uv67A6yAwXxNQDcFT/m/Pt/GUHkLgTkBSgDUwzH6awZ4w3U0xAWphTA2AwIPhs88DHpwBwzEEDWOQ/jHKHgEvo4EPXzf/w/BS0AYwFoBQsGtO8vC4oICuYhDzgAyejlFwn4EutaKb/v6u7YK63lUvWvGXvv0/liBRIFtfzP9psMcAMe8pwMk/9O7zUU1/L/8Qkd8+rPATQWmOudC7EEg/o5+2L+JA0N7cv6MgrXBmPtq/3XJITk8/jiHZfvj/NEEKf8yurLGpf6YOOWKlv1nOByKXH3T+T2Fj4AQu/NB8AGcPZpCMUGiPbyCqgC9PNbB/X/NPf8AVv/0gIy+RUGgQiD8F0R6PuG9VoRLfMX/zj+KwmDAPHmcyE3Arze/RnRCUXn4gLcDkf2VvUvEI8BPPGZCysM8/VJ+W0P8v5l7LMLxAL47qcNfv+b8qIQewIX8B8E+hG06qD8wxPM5wUMYAHj8W8VvPYu++cIvQNL9jX1Yho78EbuxyAt8Gz8Wg4k9U0M4/4B9RQJmgEp8okFSAIB9pAHyAK5+mAEGgIu/QgGvPFrCZcKZ+FSEowJEum+DvEEmfbcCcH81vvcCKHxtgPEDm7kjw5iERjfHBT8C0rqiwsNA431WAg79Bv/qhNv5dEG7xOz8tv5wgenDNTqjgPvDcHw1f/IBqP9s/pUC20AN/W3DbX9W/UcB6r65AMzADD2dgt/AwD2OwMQC4P+uPXL/yAQSfE/7/ceaPWk7vQbVfgk9i4NTQFM8hgDkhTl5e/8ZRgg8tv5uQlVBh/6iP2nA0MDz/Rs/Q0OTfnw83QI7RLF50L5CSET9x7pfAqKEYjsDvHwFmAC2eudCrkKOPjD+CUJYgY08fUDVgSCAVvya/+xF7DwyPgpENQEGvHU/scLuPWA/3kC0/08AnP5Ogf5BU7xAQuqDebp4ADVDlftbAjcAifx6xXw+Hf50QMUBWEHReqCD40GRuxuBVcDW/0pBAj9KwG4D/jpeAYPDgzpKApr/0AC/PcZ+3ATmfLv/pgMKADn+Nv/JQO0+tT9FQI8Bcj8efuRCJ8GpO1ZBUMWIu7K9UIPOQP06SoBxhr58PPxWRoaAnPpVwHOFBj8t+OeEPsU8eA1+bYfJvqR634V5gUZ7EoGQgO99KYJUPzt+ZAQ0PMp+ngTc/v+7zYTWAG67NsKkPOvC70BUuroGyr4lfruDN7scgyKCYDpGQfwAZ/8HwbL7VEQWw3U7uYEBwNmAvv6P/YuCkoDUfaTApoBSAOk/XT9Ag459NMBMwon60YG9AfO8ZcIQwQY92gHtQGx/Pn6bwp+BcPp9AgICML0n/uPDEEGKfBSE773T/VcFz3mXwfBDkXrIAm//cb98QWM/S/7SQqHB+jkLQskCyXtPQXFBPb8aQX+AN7tZxQrBOjoVRBt/UcDNPbF+TIUVvqT+Nz/ohlf7Nzt+CLB7f/4vQjAA0UCrumdFvcCp+gTFQL/xPga/6T5lg6k8T76IBpd8qn7swqU+LYHP/iy+7YNcfj2+jn5fQyCDJviSBERGBXjEgApCtf9j/v99CkRpAIg7JIMMwTg9dgMpfzX9RgUHvZD5eAWHgkp47QIghj08h303AzIBRP1XgSgAgn42wqz8cL7zxP989YIswFD+IgN+vOy+ssEGAs7+ADvDh4/82Dpnhqq/eP3/Qge/rH98/+G9LcHbgo+754FJA0W9cf02wtACNz0JwC5BrQGfuxg+00dyu07+tgXdPNE+DUHafpY/m4I3PuvA+IDtfExCwUA8vEREFkDgPa5/OYCwwKd9ir/1Q0lBqjtXQFKGRDnVfDHKj7ywd5GI2YBVd9SD1QSjPXaALoEX/zqA0HzuPwfDrf+dvfF/ckOdflM8h8RJQrK8FAAPQ256JL+RRVZ6ej77SUb7lvfDyzo/2vg/hMMBzL7HPO9/GME9ga//dXvjyQC/NHfBRhg/wr2sQAVCar8V/iLCTjwGwnFBrP7YQqZ9RgHt/my9S0HVf5rBx0BPfaJAxENT+qo/Y4et/MB7UwOGwkO5EoFYxYW+PH/nQICBg7wZf+aCO7xuxDi+0P6tQpX74kN8wfj7eAPSwhP8JHxUQr9CNHoawy4DXb5+//S9f4L4QRE7iAH6g/H6Pb6BQ768QEIcwalBIP+y/5RBszugQXsBOwA8fg9AAYQo+jCBfoObfXHCvX97/bHCpz0bvWIFA782/hvCMYCd/MJ/l0TeOjNBhgZSNzdBlIQJes0Cm0FF/7BCQ3y4P7GB93wVAekCrL0jAQFBBj+PP0k+AUYpv2B5tISxf9U8w319gevH5nf9/iSLdfmPejYGTUEg/Zk9r4CHQ8m7lHtfhuiEPHjiAdkGsTqP/b+CGQF3vgn+fgRMvSW9PoQsgAO+fgDABG7+KXtqgfDCDf1SvQ1ElQFce9hAG4EwghM+vXzXRXwA4XkGAX9DvD1LfgBCRgNAvbZ85wKgQc090n5Og7JB//tXPwtEHn5AfhPC0//kPzfAB35n//jBxf8WQAyCDP8M/vO/acH7vrv9ecTtvyO6rcOoQfi8HsIeQk8AT/6VfqIC+nuZAM8DEjtTBDJ/JX1DBAr9rUDNA0W9Uj9DQcR9zv1RQnXAUb2/gYHB9H6rvZ8C8UM2+eIBtwS7+yh950FAgjq+R78NQnCBqYAje25DsEMbORfC2EN3utY/xQIIvtmALcD8P+YAWICZ/g5/VYLCPlF/J4DyP7WAGf1hgWdBUQAz/07+/4RRPX99joNZvrJBvz9NPi9DZ34vPfAEkH8/fxKC6T5hALfABj8gP+RA/MCO/JUAwIDJvG0A5wKOPlO/CoDofp6/Yn5DgEM/iP3PAc0+QH64ADjArUIefi1AtwNovXC7YgReA2m6mEEmhSV/Eb21Ap5EMn5I/8dEt0AOfNHBSQKQ/lv/sgQzP9j9U4G9wMjAG377/6lBFz3cwBzA8D2W/0TARIBWv7+9x7+8P5g93//cAUe+Sf7fgYO/UL9CQMk+Bf8/QUn/Y72tgFhApP8DAVgBmgCB/65ASwHV/kG92kDTQJj+0b80QWaBlj5XwMPElYAYvTW/4UEdPPH8tYE3gEg91j7UwcvAvD8EwCEANoBFfTa9UcAbPFL87UJ9AUk+BQHfgvA/MX/QwotCh3/L/xkBKYFRQJsCxQVKQ3mBUMPYRRaBAMFjxEcCEwE9wsQCjgDCgY/DDkLQAW4/5n+TfxG/OL5pvcN/pX5FvaJ/Hb5OvUC9Hf0i/Tu8IPxDPS+9YP19vWY+QT/0/8T/fn+//i88zH7PQDb/Kn/RQUHAaADDAYeBLEDcv9l/Z/+2vry8qb5P/5o/V3+p/snATkBgf3t9QzxovJ27cbyr/VX7Hzxjf9r+7H1ufgc/G/9hPSy8hvy1fB89QP3ufrj/EQMbiEbFcP1B/W6FJ0vyi5nE778ewYYJ2I5CS6AHtgfeCsHLfse9A8HEKIdWCYOGxYFTvpw/8sIQQyFBOPzC+gz5fLmnumD64Pqi+iV6FDoYu3c7qfsC/T4+AX10PBz8un6iwbGCucEcwCKBFsNCA85BzgC5wMJBJYAN/wW+uf6t/5XAH34Vu+B6X/onu9v9lfxiOT14APpEfHe837zIPXt+Vz5cvTL8WP0kfir/I7/YvxZ/Vn7EPhD+23+g/8Z+yP7dfev8kDr+d+J4IToIgKUGN4PB+aXyjvwZDM2WLE49AXt/F0eikjDUeVEnDuORQpNVjwyJ7IlWUFWV4BFWhhr86fvGQHfDwgN1fM70a+2SblmzjPZ1dJuw7a/48Xsy9vOvtQs5TP1Gvvj8V7pL/RQC1oj6yo1H58SxBSIIucoYyoNKZolXhuxBvP7kQNeFTgYWQQR5gHUqtq55zTr/OFg1j/QqNCS0kvWRuBo7lX13/A66XTmee2n/McLYAqD+rDu9vfmDLMUWQU58Tvq1O149Uz0oe0B43rbatF7yPXMM+Z9E4ghX/p1vgfAaBKvZyBxfy4z/mUNJEVMaMVhdlQaVbVeg1EHMvwfuTGkV6NeNzi+/S/bHOPy+bMGAPv/35XAhanWql+9PNTj1nPJab8mwUfMCdLP2iHvHgnYEhcC4PLA/P0eVDvwOs8p+BnwGmQkFCzrK5Qi4hlMEewKOQCW9EHwiPMa9STmU9BcxkXPlN1i4DHWk8sSyonTj+Da6tfu2OwW61DssvcdBl8Pvw50B5kDewOpB6MN2hPnE64E+uw83YjiafRj+0X0EuQN2GnPLshYzljnNhAmIf0G7NMqxWP/EFLBdbtLDBSDDMg37GH6ZIlUh0roTyxLxTTsHdgc4TH3PmIsIP9q2ADQ9N+d8fXzSuHrv/uiT6Q2wvjeVuGOzrnCU8jX16DkgO9L/MwIpRB+Dv0IWgqxGkIzrz5kMt0bsxInGlEiUyE5GrYTWgqC++3s1+RY58PtVe7D4E/LLsAYyNva3OS14U7aetkr4UfsUfiFAKIDSAS1BxoO4BLGFR4a8h/sHQYReARbA5sLFxERDNr8Hutw38ze2uXW6CLjwtf4z7zPRtPr0wvPc87d2Z74NR0jKaQOxeyn+PgyE2k5aLI9byKSMqpWsmTHWbZJlEF4O68r5Bd5C7wNmxREDY7yJdH3v2TDNdA923raPsvysLKhZK8n0YDs6e4b5mDkWO4I++oEgxLHI6cyLjURKV4aGBgVKSA71jl8JVgPogYIBXsDhf1p9AXpJ904117UutClyzfND9Vs15LPSsko0rHmCvjN/E76mvpLBSkVjiJ5JqUinR7YHPMdvB2JHsUdghiXDlAC6fie84n0vPZW8pbm6tnb0WfMyMh8zmzcE+fQ4H7RPM6c2t/qYO918L75hRF0Lo45kirFEDAVtT/ebEBwNEklJuQkyj34TqpKczjhJI4YdQ9FBWj2juox6HDp6uOO0rq/8LUbuyTNn+B+52La7cmazNzmhQT/EN0OsgxyFGYfdCSUI/Mkcy7tNqcxdR8+D8sM5hOMFzEOVvs96hHid+HW4NvcSNYN0bzOdM4O0EnUy9wD58zupPGj8vP2rQCpDdQYyR2MHEYaLR2kJJMoBiPSFwoPuAq1CMEF4v8j96XvuOw865/mC+BU3dbfSONL49nfPN1q3nPiveZa60DyXvlZ/l4AZAGg/x38e/0oBvYRZR4RMcE9Py5iCAL8ZiWTXPJlVztaEKsJsh3vLmMwIiaOF6oLtwJc+G3r3uMv6GrxT/Jm5a3RicSIyRjinf11BYH0wd983830xgzQF7gYeBnEHIkdehkBFIESABg6IA0hvxM2/27yh/SF/aX/SvbT52DdRdrn2uLbBNxE3S/gR+Pn5DHmDuw09zYEzgtaC/wGpwUpCwMTfRgAGloZCRecEu4NewmjBPf+0vqq+E/0G+wf4/nfouR57dvyM/AV6pTnqeuw8Yj3xvxrACQAd/yH+Vj50f2MBA8K3ggPAnj5yvDN6kfoauuX82MJPCrEN5AVCN/d3Lgg6GlMcNc9GRJNEJIppD15QUc5djDRKVAdUQVd6jrf4Ojl+WD+ju2Bz9O0vrBqylfxEgXO9ZrZa9Gb5bkAUxCaFu4dcyfjKcoggxKKDNEViyf3MIAlIwnJ7p/nPPIO/lr9+e9S38HUrNHE0K/OeNCv2ubn4OyH53ri+OgT+6ANYRYJFNQNtQo5DsMWZx78H2EcthhDFJoKq/xw9Lr3Q/2R95/mMNjI1iPgCusW8Y7wPuy16U3tXfVC/VoEXgoVDSwK1wTHAKX/MATCClUMRQPh9gruC+gI47PdsN1J560FwiuBMUADx8+F398sjm7Ta08+vhxzGxsrTzeVPCA5mjFvJxwYQ/9T4ijTctrb7qH5ROwNy0qrS6cjxbXusAPl+njqVOro+9kNVxijHzooDDGmNMAtcxqQB18GPhi8J9Uf1wOn5hrYh9rp5BrqfOQa29bUsNH4zo7Nj9JO4EbzNAGTAmz6Q/ZFAd8UIiN4JvAjbx/zGgoZRhiwFWcRNw92C6z/TO5K4TXfFebp7vju/eI210PZ3uTC7oz0Rvrl/0YDzgWGCaMO1xLiF9kbuxt6F+ARqwtcAZL5svcN92XwHObR3gbX0s3txMvBhsoN7MEi3EIVJ+Psz+CvGdti4nrqWzc1GSfBLb4xrSwBJR4hER9XFdYA4uJ5yb7Dz9RZ7MTy/d3Gu+Ssl8Al58oBdwXx/xoAJQmHEpUYMB1HJCowOzxsPP4nBAn29C/4IgmWEYQElelb057Mms/M0ZTSRtg44oXnkeQb3pbdWOlq/9UU5h3qGfMRmxD6FvEfHCZgJugfyxStCa//6fhN9kX2yPSM7qLkLtqq1F3X9+Bu6vPt7uw17b7xN/kZAXoHpwzoEfIVTBXxEccQLBTWF+MW3xHGCnsCjPlB88Hufuj04SbfSuCF4HXfI95T3QDcttqY4Of4/ygGVJNRkCBI/DsWXVHTbn1bGDvHKMYjWiDUGagN5/2V90/7+fc+30jAO7OOv5HaXe9/8OjeWM+n1/70ShEUG8EYSBnpIzgw4TBbJWUbwyC0Lg8zaCEOAZ7l6d2R5qjsteP20o7Kz80D0/fT89Os2Ijly/ayAjgC/vw2ADcOYR6cKKkqwiOGGbgUvxZ4Fw4SeQrQAar22+vn5r3m/eYC6EDp/ub331bcd+JO74f7iQJrBfEGswqWDuMO+wzIDiYVaBhRFLkLaQQgALT+sv8gADj9S/ZX75jrGuqF5/7ie+PR69L1yPe680HyJvIm7z7ppun59PQQdzknU+ZBJRKN/AgZ80WoU6BBvyvNHugXRQ8bBUz3RO4w8Qv7gfsR6cbQHcRXzZ3jjPbq+XHxDfAhAIEXFyA0F4sPCxemJkctGCYCFngG6/5cAAACSvke6e/cK9ur3UfcQNYS0tjWgOSw81H78/mE99j8rwkDFdwYlhcOFzMYaBhpFasO+QWK/wP/ZAA5/H/wV+Vh43PpJu7E6+DnLep88jz5CfpV+Mv6OgTdD90VexKhC9gKuhG+F1cViQ0wBqQATvuO98j1OPMU8DjwSfTM9uH1YvWH92H75v7M/+T8ivk7+nL7UPoo+If4/Pn0+uv8u/ka7r/dutZE4FIBDjZQW7VL2RP09j8S+UCiUB1DsjbmNC0zXyRtCnDsid6z6ukC9Amy9HDVy8Hdw2zVueo49nD3svxhDlofwxzOCisBGg8WK+c9ljgCH5QEM/vfAQ4Hi/4N76XlxOR45Cbe19Jpyy3Q2OAp8vD4e/Xd8QD2VwBZCnEOAA7HDj0TRhaxEfcGIf4r/EL+Z/5K+ejwi+r/6G/qUOx+7Qnv9fPd/aoHbAm+ArT8oP47BV4KHwzfCnkH9ASuBdkHLQh6BUoCvgBl/7D7WPbN8tbzZfi7+5v8Kf6+AecEZwZVBh0FNwSvBeEHKQbvAeH+zP24+tb2V/KR6tveVs+xw/HKm/pJQRNljkLlBmf72yNITPNO1z7gNhw6rTfUI60BKOG72eHrWAHYAbTtD9KkvSS5+MXY2w/u2PuGDJYghihZHOoJ/weuGoExyDptMX0b8QT99xnzWO3F46beouFt5f3fM9ItxozFb9I85fL1zgGYCkAR0BU/F8kU/hCfEMwWkh3qGvUNfP8V9Y/uM+x062XoIOSx4+Xm5OcO5Q7kI+us98ADvwxZEyMZQx2xHCkXVxLIDxgONg0/Cu4AD/S67NXtu/Ff8MTruuzR8qP2iPfc+jYBzgfrDTkTvhMRDc0FiAWsCI8IAQYcBEsBrfq18yjw8u9n7zTtI+se6SvkHNUMwAm6BuE4MF5twmKzJgEGkB08RDdK9zdPLGAtSiy7HmQEvOBSxqrDLtcv7ODwDOLzy7nCStFy7v8BHwXGB70YlDFsP+I27x8wD+ISwyPYLFgeqv4v5OfdG+TP48vXe8kaxrnR1+V881PymOvt7zMCzBTNHgEiCyL7H9AfOiFCHEsN6vxg9e71m/Za8HLjINcC1GraueKB6O/sLfFp9mAAXgvLDX4IPwfXDscYyx4PH8gaOxPyCigEF/7S9Vbt+OlF6wzsB+r86RvvYPYu+zX+PgBwAGwCVgoUFX8abRiWEkUOBQ2vC3QG3P7W+hP86/2M+mPyeuqI6CrsufDs8pz0qvfg933vhttXx63MiQEBTRpxglJ/HowPaSRUNrgv2x9wFwca0R2/E770MM3ntba4+88S6fzysOkX3TTgNvRtB6gJlQJCBywhS0AHS1A58hzNCmsHTgn+BLL3ouoe6E/tTu1a4BDMyr1KwVfZefj0CuwLBQkmD28b7CFSHNITiBXQIb4pjSA9CZ/wF+Jd4Qzohuni4uDdlOEt6dfs3uvb68Dxr/4xEAUeJCDYGSwWSRhbGWkTcwhvAKP/pwFL/kP0WOog57LpfOyQ7LXpTuiO7h38IgdICdcHzAlsD5YTkxTEE3IQ7AlyBLEDyAL4/Mb2XfdT/XAA9Psd85/se+1V9RH/MQMJ/gv2ovT/+rf/Zv3y8i/g3NHj5gkolWGUWxQn1wicFwAspSSADssEFAwcGTIcoAmO4yfDob3Hzy3nDfbV+Cv1nPcTBIIPngmX91jylgmGLetA4TZFG/AD5PqO+1D7m/Rn6ujmK+7d94/2ueXw0K3LL92q+MoMQBNzEw0X6R2BHpAVDAvfB/kMvxSeFg4Mpfe25KHbU9oF277cqOHJ6dvzSP3aAfn+vvoy/nsKMxfIHOYbtRk0GAIT3Aeb+ony+fGt9fb4ivn09gvyKO/s7yvxiO8L72v1YQIMDs8Qdgy2B34GjQd0CjANLg3JCz0M2QqZAGvy/utl71j0lviD/lsDNwMfAWkAdv73+un4vfkw/TwDYQbaAbv6UPRr4wHHS8XI/zNPNGNqMu0GKxEbLWkoTgsQ/CgGNRlyJ9QkjAeC24i+PL+h0aflDfKV9M7zNv+vFhMehQPH437pARFmMi82xidbGB4MfANK/u710OR51yjepfTwBDb//OiL1QDV5+Uw+9sICg/UFmkiJymXI7IVHgcw/xcB5QdDCUoA4vLl6K7kh+KU37/bjNsW5IX0ZwUZD+EQnQ4yDDoK9gmbDDsQaxL9EvwRFA1HArn0dutK6YTqOuxN7/3zQfmR+9D4X/Xi938A0gl7D+QPEQ7IDMkL0QleBg8C7/8YAjcDAP+D+G30ZfJv8GPxaPfo/3IGFQz9EsQW8RWkEocNswQP/IH4d/U48tPxc/hJ/mP8k/V66aTR87gbzx4cG2BtWbsj+ws3ImAzjh3LAh3/ugoKFu8f9RsR/HbOA69JsHrKBunm91/1KPOrA7Ab/BsEAXPr9/XyGE85BET9O+EqCRVi/5TxPuiX2K3Idsy/58oBGgOd76Lbr9Zc4uP23AixE5wcwCfpMFYvECH4CtT2Le+S9nsE2wpPA2Lz6ebd4fPdBNk/2ZnkyfewC58a+h7TFWwG+/40A48L3BCYETYRERIrEfkJVPvz50jYCdVB3d/qJ/fJ+/b59Pn//lcE3QXGBKcHZhFoHIghlh1mEs8G2QDW/qX8qfhP88DuRu2w7pHvzuyR6UTuBvzPCe0QixKNEZMPZQ4pDtkMBgr0BxUJVg1NEPYMigTe/A335vJX8MPsL+j45wbu2vLn8WPsRuYl4PTiOgF7NFhU7EYNKD0cECPPH2AJyfbR9bn7V/7WAWkALe/O0Bq54rwO18Xvpvq2AekOACCIKTYhqA36/0IDuxLpHwAjlx6hFQoHOvcO7BvkBNt90jjV1+dw/XQDkPh57tvxjP79Ci0VTR1MIVAi+yG0H+gWvwSY7+zjOOYR7t3xu+245rzk+ejO7U3vcO/y8mP9FQ5qH8oo6yT7GOsOlgmyBeoAbvtt9nL1OvlQ/HD42e1L4zLgh+Y28dD6WwFeBfIHtgoWDeIN3A0HDtQO6hBUE0wS3Az1BMn8uPZU8+jv+uuO65Hww/d2/EH+dwEDBmcHaQfQCnYPURCcDBYHZwSCA2b+qvcV9pL3sfef+Ef8tQDiA+kE4wXAB8IIFwmeCfUIVgXV/0v6pfet92b3K/dg+Lz5a/n4+Dn5zfiQ9j72n/5nDoIaehv3FpIUmhIEDKgCtPzP+/f8tv4RAhIE2f1l8BnmWuW96UvtRPB59g0B1wttEn4TvhCoDOgJXwr8DWERFBAiCr4CKfw59k3vu+bh4Cbj0+ul9Dj6EP7MATYE6ATpBnsLUA+iEKYQbhCPD3sLWAKU9+fwIe8s72bvgPC58q707/W99wX6W/vS+4H9RwKgCW4QYRMxEnkP/wyWCekE7QDv/e76v/gD+Gz3qvVN8kXvuu+y85r4dv2WAowHaAv6DWQQ0RG9D+YL6glyCHoFaAIx/5b6I/bI8zHzBvO18pTz+/YJ/E0BpwVPCI8Jkwk7CAoH2gYEBl0EnQOAA2cC7P+u/Ln5Ufjt+Lz6/vyY/68BLQIrAvMC9gJXAWoAfAHdAnID/QNsBJkD9QHWAOf/Yf6t/A37uPme+Y76ovsE/Uf/ZQJvBbcHfAnkCbEHIgUZBBkC8/65/Zf9j/w4/EL8N/p096b26vZ191P6tv8jBFIGYghzCd4GkQKJ/xr9dvtA/EH+Xv/w/73/Wf0c+ub4d/kT+lb8jwHFBjYJjwlZCFcFvwHy/mj9xP0eAIkCHwOEAoYBa/4W+X31mPVV9zb6//6UA6oFzAW2BG4CZAAfABgBxQIFBq0JbAoECMgEtABu+6z3+PaV99H4Uvv6/Wn/KwCDAOb/g//fAP8CmAQxBl8HfgYDBJwBQv/L/HT7x/vi/FL+8/+UAIL/F/6H/UX9ZP3u/icBigJVA9UD9ALDAPf+Fv6a/R3++v+NAdIBpwEKAWL/0v1Q/Q/9K/2w/sAAzgFBAskCoQK4AWsBuAFqAeUA6ABvAB3/Gf5a/T/80/vY/Cr+If9bAH8BdwHpADMB3gE3AhYDdwTiBDwEQgNWATv+jvti+hb6gfo4/Gf+mf8KAFIA2f/6/h3/EAAWAbgCxwSsBSkFUAQVAx0Bh/8q/yr/Bf86/07/Yv4G/er74fpr+mz7af1h/0kBBAOnAysDngJWAhcCaQKVA68EEgXSBIcD1QCX/QD7g/kl+Q368/vq/Vv/PwBWAJ3///4j/8v/BAEFA/AEwQWVBdsEewOlATQAdP/2/r3+3v6z/ub95vzY+9X6nPp1+838af5EALwBTwJgAm8CYQJIAq4CkANRBI8EIgTdAuMArP6u/FP71fok+/P73fyr/T3+Zf5S/ov+SP9fALIBIQNPBNkEvQQyBE8DSwKMAQUBdQD+/5X/xf6K/Wz8rvtM+3v7VPyE/br+2/+rAP8AKgGSARYCoAJpA0IEmwQ+BE0D7AFIALf+jf3g/Kf83Pwx/V39fP2Z/Z79yf19/rD//wA2AkED5AP3A5sD8QIdAnIBEQHBAGoAEAB9/5H+if2x/DL8N/zU/Nn9AP8TAOwAZQF+AXMBegGwASACpgIIAxcDvALtAckAiv9t/rD9ZP14/cr9If5e/oP+kf6Z/sr+U/8gAPwAzgFtArECmwI2Ap0BEQHDAJsAbAA9APn/cP+y/vj9af0q/Vv95v2V/lv/GwCPAKgAqQC0AMIA8gBSAboBCAItAvYBTgGCAMz/J/+s/pD+w/4B/x7/G/8E/+T+yP7W/ib/q/9QAOkARgFpAWIBPAEMAfYAEAE4AUIBJQHWAEoAmv/z/nP+Mf5J/p3+8P43/3b/jv97/3n/pP/0/3QAGwGtARACOgIPAo8B8QBkAPP/n/99/3z/Zf8n/9z+mf5l/lb+gv7j/m3/BQCFAOQAHwE8AVABZwGDAaUBugGiAU4BzgAvAIn/+f6R/lz+Wf5z/pb+tf7O/ur+H/90/+P/bQAIAZUB9wEnAi0C+gGYASYBtQBMAOj/hf8i/73+Zf4d/un95f0a/nD+1v5W/+T/YwDJABoBZQG1AfcBFgIPAugBngEiAYAA3v9R/9j+eP43/hD+A/4N/if+Vv6h/hL/oP86ANcAawHgASgCSwJSAi8C4wF+AQwBjAABAHf/6v5l/gv+0/22/cv9FP53/uL+XP/q/3UA7wBZAbsBEQJHAlMCMwLqAYIB+ABWALj/Lf+4/lv+Gf7z/fD9Bf4k/mT+yv5H/97/egAJAZAB/gE8AlICSAISArcBTAHUAEwAxv9L/9H+X/4L/t790/3t/Tr+rv4w/7r/QgDDADYBkgHdARECJgIbAugBjQEWAYsA+v9o/+b+gv5A/hD++P0H/ir+Yv6//jH/q/81AMkASwGxAf4BLAI2AhQCzAFqAfcAfgAAAHv/+v6D/iT+5v3Q/eT9Gv5v/uT+a//w/20A7gBmAcsBGgJEAkUCIwLaAW4B4ABHALX/KP+t/lH+Ff7v/eD99v0s/n3+7/51/wEAlAAiAZkB6gEcAjgCMgIEArQBTAHSAEUAr/8f/57+MP7k/b39wv3r/S/+kf4O/5b/IQCpACkBmwH4ATYCUwJHAgsCqQEvAaQAEQCB/wL/l/5D/g/++v0C/if+av7H/jv/u/86ALoANQGZAdsB/QEFAu4BsgFaAfIAfgAAAH//B/+h/lf+Kv4W/iX+Wv6t/g7/ef/q/1QAuwAYAWcBogHBAc0BvAF+ASQBugBDAM3/XP/5/rD+gf5t/mr+f/6v/vP+Rv+h/wQAcwDYACwBcAGVAZ0BjgFnAS4B5QCUAD4A4f+B/yb/3f6l/n3+cP6E/q/+7v5D/53/9P9HAJ0A8AA0AWwBkgGhAZEBZAEaAbkAVADx/4v/Lf/l/q/+iP50/nr+n/7T/hH/Yv/F/y8AmAD4AEMBegGhAakBlgFrASsB1wB1ABAAqv9E/+b+mv5j/kj+Vf6H/sD+Cv9w/9j/NgCVAPEAQAGCAa0BtAGfAXMBLgHPAGEA9/+U/zf/6P6y/or+eP5//pr+yv4Q/2f/xv8uAJcA8QA6AW0BiAGJAW8BPwEDAb4AcQAcAMP/af8Y/9z+tv6m/rj+5P4W/07/k//a/x0AYgCkAOEAFQE4AUEBMwEOAdgAlgBIAPv/sP9q/zL/B//q/t7+5v4A/yz/Zv+p//f/QwCFAL8A7gADAQEB9gDfALwAkABkADUA+v+8/4P/V/82/yD/Hv8w/0z/cf+i/9L/AQA2AGgAlQDBAO0A/wD0ANwAtwB+ADkA+v/G/5L/Zv9P/zz/Mf88/1f/cv+Q/77/8/8gAE0AegCcALIAvwC8AKoAkQB2AFUAKQD7/8//pP9+/1//Tv9P/2D/f/+j/8j/7f8JACQARwBjAHQAfwCMAJUAjwCEAHEAUwA1ABkA9//V/7v/o/+O/4f/iP+P/6D/vf/l/wwAOABfAHMAegB+AHoAYwBFACwADwDu/8//t/+n/6D/nv+h/6v/v//d//X/BAAXACEAHwAbAB8AJgApACgAKgApAB4AEAAAAPP/4//R/8f/xf/H/8//3f/r//b/CgAkADkATwBkAGsAXgBSAEcAMAAVAP7/6f/T/8f/xv/B/7n/u//D/8r/1P/p/wgAIQA3AEwAWQBbAFcAUgBIADcAJgATAPn/4P/S/8j/tv+q/6//uP/A/9b/6v/w//T//f8HAA8AGAAeACQALQA8AEkATQBLAEkARQA1ACIADwDz/9r/yf+6/6b/mv+l/73/2P/5/xsANwBKAFoAZQBhAE8AOwAtAB8AEgAFAPv/7//m/+T/5v/o/+T/4P/g/93/2v/c/97/3v/q//7/CwAXACgANQA6ADsAOwAzACEAEAAAAPL/5//e/9P/z//P/9P/1//f/+3/+v8GABAAGAAbAB4AIQAhAB0AGQAYABgAEwAOAAsAAwD5//P/9//7//7/AAADAAMACAAKAAQA/v/5//P/7P/o/+v/8//7/wAAAwAHAA8AEwAZACMAIgAVAAgA/f/z/+j/4P/j/+///f8MABcAGQAZABwAHAASAAAA8f/l/97/3f/c/+P/8v8CABYALgBCAEgASABHAD8AJwAHAO3/2f/Q/9D/zv/N/9T/4v/v/wAAEQAaAB8AJAApACgAHwARAAsADAAGAAAA/v/9//7/AQADAAAA9//s/+X/5//q/+v/6f/v////DwAZACQALAArAC0ANgA0ACMADgAAAPn/6//d/9b/0v/M/9D/4P/s//b/AAAQACMALQAuADAANwA5ADMAKgAcAAYA8//n/9j/zf/J/8T/v//L/+L/6f/o//X/BwALABEAHwAkACQAIwAjACQAJAAmACwAMwAxACUAFwALAPz/5f/P/7//r/+i/6b/t//L/97/+f8VADEASwBaAGIAZwBfAEwAOQAkAAQA4v/P/8n/w/+//8P/yP/O/9z/6//x//r/BgAMAA8AGwAoACMAIwAzAD8ANwAxADMALgAfAAsA/P/u/9z/y//A/8D/vv+//9D/5//z//j/CAAgACoAKwAzADsAOAAvACUAIQAaAAwA///x/+n/4v/W/9b/4f/l/+X/7v8BAA0AEwAdACUAJQAiABsAFgAXAA8AAgD7//r/9P/o/+j/7f/l/9v/2//e/9v/2//f/+v/AgATAB0ALgA+AEgASwBWAFoARQAsABkABwDp/8n/uP+v/6v/sP/D/9j/6f/6/w8AJgA0ADoAOQA7ADkALwAkABgADQAGAP7/9P/0//X/7f/j/9z/1f/L/8j/0P/Y/9v/5//9/xAAGgAhADAAOwA+ADwAOAA2ADAAIQAOAAAA7v/a/8//yv/L/8n/yv/O/9H/1//i//j/DQAaACQANgBIAEsASAA/ADEAJAAZAAwAAQD5/+7/6P/p/+r/5//k/+v/8v/2//7/AgAEAAIA+//6/wQADQARABUAGgAZABcAFQAQAAAA8P/n/+D/4f/m/+f/6v/v//f//P8CABAAHAAiACUAKAAiABEABAD+//j/9P/2//3/AAD7//b//P8AAPz/+//5//f/+f8AAAoADwAQABEADgANABMAGAAWABYAFAALAAAA+//5/+//6f/v//L/8P/x//P/9P/5//3//P/6/wMAEAAYACEAIQAcABkAFwAVAA4AAgD9//z/7//i/9j/0//Z/+D/7P/6/wMACwATABkAFgARABIAEwAQAA4AEQATABUAFgANAAAAAQAGAAQA///7//b/7v/n/+T/4v/h/+r/9P8AABEAFwAgACUAIAAiABkAEAAQAAcAAAACAP3/9v/v/+X/5P/j/+f/8P/s/+7/8f/v//v//v///w0AFwAhACQAHwApABsACQARAAAA//8JAPX/AAAAAOj/+P/w/+n//f/v//b/CQD7//7//f/v////AAD6/wsADgAVACAAGAAOAAYA/P/3//v/8P/v/wAA+P/9/wkA+v8HABEABgAQAAgABAANAPz/+/8CAPb//P8AAAAADgAGABYAGQD7/woAAwD3/w8A+f8AABMA9v8ZABsA7P8cABAA8f8rAAAA+/8pAOH/AQAMAL7/EAAGANj/LwD2//L/MwDb//z/FgDM/wwA/v/Z/x8A8//7/ysA6v8CAAwA3v8MAPL/2v8LAOb/8v8QAOX/DAARAPb/KgARAAkANAADABMAJwD0/yUAFgDv/y0AAQD+/ykA3v8AAA0Ay/8QAPP/yv8bANr/2/8WAMz/AwAfAOD/JQAUAO3/KgD6/+f/DQDe/+3/CQDh//j/AQDr/w0ABgD2/w8ABgAIABAA///9//f/9//2/+r/9v/z//j/BQDx/wEADQD6/xcADQD//yYAFgAYACwAEwAcACEAEAAMAAgA/f/s/wMA8f/g/w8A4v/4/ygA2/8bACoA4v89AAsA4v9DAOT/6f8rAMH/BAAeAMj/IQD//87/IQDf/93/GADQ//X/FgDX/xAADgDh/ycAAAD2/zYA7v8JACMA1v8ZAAgA4P8zAPD/AABDAOP/HgAeAM//LQDt/9L/HgDB//P/FQDD/xkADwDq/zQACAAOADkACwAfACQAAAAIAAwA9//w//3/4//t/wAA2v/+////5f8hAPr/7f8kAOz/BgArAPH/HAAaAOH/EwD7/9D/DQDt/87/DQDp//H/MADz/xEAOQDy/y0ALADy/zUA///r/yAA3v8CAAoA2v8QAPL/7/8GAOP/BQDw/+n/BADW////8v/R/x0A4//1/y8Az/8kACkA0v9MAAEA5P9VANT/BQBAAMD/MAAlAMH/QAD8/9b/SwDc/+j/NwDC/wkAMADN/zkAJwDc/00AEgDy/04A8P/z/ykAxP/x/wcAuf8FAAAA0P8lAAUA6f8rAP3///8mAOz/BwAXAOH/EAAJAOX/CgDg/9v/9v/L/+X/3P/N//b/1//4/wYA7v8oAAUACgA5APn/JgAlAOf/LgD+/+L/IwDc//z/JADi/yMAHgDy/zAADgAAACkAAgAAABYA+f/6/w8A8P/y/xAA7f///wsA4f8GAPT/1/8AAOD/7/8CAN//BwD///j/FADz/xIAEAD2/ygAAAAMADAA7/8jABoA6f85APn/+f8xANT/EAAOAMz/IQDm/+L/IgDb/w0AGADw/y8A/P/5/x8A4v8NAAEA3/8dAOb/9v8ZANH/EAABANP/GwDf/+f/IgDj/w4AFgDp/x8ACAD+/yYACAAMAAwA+f/3/+7/8//c/+P/7f/F//j/+P/b/ysA/v/5/0MA7/8ZAD8A4v84AB8A1f86APP/5/9DAOn/CgAyANP/EwAdANH/IAACAMP/IADu/9j/OADf//L/OQDJ/w4ALADB/y0ABAC2/zIA0P+//zAAuP/6/zoAvP8uACEAx/9QAAAA4v9TAOD/BQBDAND/KAAlAM3/MAD4/9n/LADf/+v/DgDL//D/9//V/wAA///1/xQAEwABABMAGAD8/xUACADq/xwA+//x/yIA6P8KACIA5/8pABMA9v87AP3/CAAoAOr/HAAVAPf/JgD5////EgDl/wUA8//k/wEA3//7//r/5v8NAOX/9P8JANn/CgD3/+H/HQDo/wAAFwDT/w8A+P/i/yoA7f8IAC4A7v8jAA0A6v8kAPT/+P8SAOf/AgAEAPH/CAD///b/AgD3//X/BgAGAAIADQADAAAAEAAAAAAACgD2/wIAAADv/wIA+//+/woA9v8AAP//+P8GAPn/AQAAAPT/BgD1//n/AwDs/wAA+v/q/wkA+f8CABkA+v8SABMA/f8aAAQABAAZAPz/DgAOAPz/FAAGAAMADwD8/wIACAAAAAkADAAFAAwAEQAGAAoACgD7/wIA9//o//7/7v/x/wcA7f8AAAYA8P8QAAAA/P8YAPj/AAAFAOX/AwD9/+//EQD4/wEAFwD4/xgAGQD//yEABQAEACUA+/8RABQA6f8RAPr/5v8VAOn/8f8OANf///8DANn/FAD4/+X/HQDp//r/GwDe/wsACADZ/xcA9f/m/xwA5P/2/xMA2/8JAAkA4v8XAPn/7P8TAOj/9f8GAOP//f/5/+b/AQD7//j/CgAFAAoAFgAQAA4AFgAUAA4AGQAQAAwAGgAFAAgAEAD9/w4ABwD1/w4A/P/y/wkA7P/8/wsA7f8KAAEA8v8SAPX/+v8RAOz/AgAFAOf/EQD9//P/GwD0/wUAGADt/xEABgDq/w8A7//r/w0A5P/4/wsA4P8EAAAA5v8YAP3/+P8eAPD/AwAUAOj/FAAPAPH/HwAAAPn/IwD3/wQAGwDu/xQADwDt/x0AAAD4/yMA9/8HAB8A8f8RAAwA6/8UAPv/8f8WAO//+v8IAOP//v/5/+P//P/q/+f/9//l//P//v/0/wMAAAD//wwAAQALAAwABwARAAIACwARAAEAEgALAAAAEgD+/wAADQDy/wQABADr/wYA+f/x/w4A8//7/wsA8f8JAAgA+v8UAAMA/v8RAAEABQAMAP3/AwABAPT//v/8//f/AAD+//j/+//4//D/9//1//L/AQD4//n/CgD9/wQACwD5/wcAAADz/wgA+//4/woA+P8GABIAAwAYABUACwAcAA0ACgAXAAQACgANAPv/AwD///b/AgD7//b/AAD4//n/AQD9/wIABAD6//7//f/2/wAA/P/3/wAA+//7//v/9P/6//n/9f/8//z//f8GAAkADAARAAwADQAJAAMABAAAAP3/+v/3//X/9P/7//////8CAAQACAAHAAcACwAEAAMABAD+/wIAAwABAAQA/v8AAAIA/P8EAAcAAgAIAAEAAQAIAP//BAAFAPz/BAAAAPv/AQD3//n/+v/t//P/8P/u//v/9v/4/wEA//8DAAQAAgAKAAgACQAOAAUABwAIAAIACAADAAIACAAIAAsADAAHAAYACAAFAAQABQAEAAcACAAEAAQAAAD8//7/+f/2//j/9P/1//f/9P/2//n/8//4//n/+f8DAP//+v/6//H/8v/z/+7/8//1//b//v8AAAEACAAIAAkACgAFAAUABQAEAAgACQAJAAwADAAKAA0ADQALAA4ACwAIAAoABwAHAAgAAwAFAAUAAgAGAAMAAQACAP//AAD+//n////+//n/+//2//b////8////AwD+/wIAAgD9/wIA/f/7/wAA+P/+/wEA+v8AAP7/+f8CAPz/+v8AAPv/AAACAPz/AQAAAP3/AgAAAAAAAwAAAAIABAACAAQAAwACAAUABQAEAAcABgAEAAQAAgABAAMAAgAAAAAA/f/6//n/+f/8//3/AAADAAIAAgABAP7//f/8//r//f/9////AgABAAMAAwADAAMAAgABAAIAAAAAAAEA//8AAAIAAQABAAIAAgABAAEAAQADAAEA//8AAPz//P////z//f///wAAAQABAP//AQABAAAABAAEAAQABAADAAUAAwAEAAgABQADAAMAAAD9//3/+//4//f/9f/0//b/9f/5//v/+v/+/wEAAgADAAEAAAACAAAAAgAEAAEABQADAAEABQACAAQACAAEAAgABwABAAUAAwACAAcAAgAEAAQA//8DAAEAAQAGAP3//v8AAPj//v8AAAAABgABAAMABgADAAUABQACAAUAAQD+/////v////////8CAAEAAgACAP//AAD8//n/+v/3//n/+f/5//z/+//7//7//v///wAAAQAEAAMAAwADAAEAAwADAAMAAwACAAAAAAABAAEAAAABAAEAAAAAAAEAAQACAAIAAgACAAIAAwD//wAAAAD7//7/+//6////+v/7//3/+v/9//n/+f/9//r//f/+//3/AAAAAAIAAwAAAAYABQAFAAcAAwAHAAMA//8CAP7//v8BAPr/AAAAAPr/BQABAAAACQABAAQABQD9/wgABgACAAkAAAABAAYA/v8CAP//+P////j/+P////3/AQADAP//AgABAPz/AQD///3/AgD+//v////5//z/AQD8/wEAAgD//wgAAwADAA0AAgADAAYA+/8DAAAA+f8GAP3//f8FAPn/AgAFAAEADQAIAAYADAACAAYACwADAAoACAAAAAMA/P/6//7/+v/+//7//f8AAAEAAQAEAAIA///9//v/+v/5//n/9P/1//f/9f/4//n/+/8AAAQABgALAAcABQAHAAIA//////r//P/+//X/+f8AAPv/BAAGAP3/CAAEAP//EAAAAAAAEgD5/wIABwDq/wQA/P/m/wkA7//u/xIA7P8CABUA8P8aAAsA7v8eAPv/9/8bAOn/AAARAOL/DAAFAOj/GgAAAPX/HwD3/wIAHADs/wYADADi/wsAAADk/xAA8//u/xoA8v8EACQA8/8UABkA8/8pABQA/P8nAPf/9/8VAOD//v8HANz/BgD2/9//DgDw//D/EwDv/wAAEQDt/wcABgDr/woA/v/q/wgA8v/v/xAA9/8AABcA9/8JABEA8v8WABIA+f8bAP3/8v8SAO//AAASAOr/BQAFAOz/EgAEAPX/EwD7//r/DgDy////CwDy/wQABwDw/wIA/v/y/w0ABQD//xQA/v/6/wsA9v8EABIA+P8AAAAA6v/7//j/7/8BAPb/7P/8//X/8/8KAAUA/f8PAAAA+v8SAPr///8XAPL/BAAPAOf/DQAMAO//IwAFAPf/JQDw//n/HQDs/xMAGwDk/xUAAQDf/xoA9v/s/xoA3v/p/w0A2f8EABoA5f8TAAkA4P8aAPr/5/8lAPb/+/8gAOX/BgAVAOb/FwALAPL/GwD4//H/DADz/wQADgD5/wUAAAD0//3/AAD//wAAAgD3//j/AAD2/wcAEQD7/wwABgDz/w0A/P/6/xwAAAAFABkA8v8CAAwA7f8PAAsA7/8RAPr/5/8NAPH/9f8WAOz//P8LAN//BwAJAOb/FQD6/+f/EgDm//n/GwDw/xIADwDr/xQA+v/1/x0A/P8MABgA8f8EAAAA+f8TAAAAAQAHAPX//v/7//3/DAACAAQAAwD4/wQAAgABAAwAAgD//wUA+//5/wgABQAJABMAAQAKAA4A+P8PAAoAAAAcAAAA+/8FAOL/9v///+z/BgDz/+v/+v/n//r/+//8/wwA+P8CAPv/7/8PAPr/AgAQAN7////2/9X/EwD6//r/MQD1/wkAHgDi/xoAGQDw/y8AAgDg/wwA1v/t/xYA5P8LAAwA2v8FAAEA8f8gAA8ABQAWAPb/8v8KAAEABQASAPT/5v/3/9z/4/8NAPn/DAAhAOv/CQAQAN3/GgARAO7/LADv/9z/FADX//j/HADd/wkABgDV/w8ACwD9/ycAEwAAAA4A9P/p/xgAFAAFACwA/P/g/wcAzv/r/ywA8/8jACwA2f8YAAcA1v8xAAkA9/83AOT/5/8ZANX//v8kAN//BAAMANH/CwAbAPL/NAAoAOj/HQDt/8f/MwAFAP//UQDd/+D/EACd//b/KwDQ/zYAGwC9/y0A6//I/0UA8f/8/0kAy//3/yYAu/8cACMAy/8pAPH/wf8nAOf/7f8/APP/AQAcAMn/7v8VAPT/KgA2APj/AQD8/8f/+P8OAN//GAAIAMj/CwDi/8n/MwD0//b/RADf/woAMQDR/ywAHgDT/ywA6f/R/yUA2//9/yoA2/8MAAMA0/8aAAQACQBDABEADgALAN///v/6//L/DQDp/+v/5//A/+v/6P/t/yMA+/8KAC4A9/8eAC4A+v8uAA4A4f8aAN//1f8VANf/6v8RAMT/9P8SANn/KgAvAP7/TAAXAOT/KwDq/+b/MADd//j/HQCz/+P/7f+z/xgAEgABAFsAJwAXAEQABQAWAC8A//8PAAYA2P/O/8f/vf/H/+j/3//l/w8A8v8PAEgAJABbAF0AAwAwAPj/vf8XAN7/6f8lAK7/v//G/3f/5v8AAAYAfABGADEASwD4/xoANAAdAEsAHwDr/9X/k/+U/6b/uP/v//X/+P/8//j/IwBCAGQAhQBwAEoAGQDt/9z/5f/1/+7/6P+7/3//hv+B/7n/MAA9AGsAeAASACcAGAD9/3gAZQBFAGIAxv+K/5j/R/+t//D/uv8OAOj/o/8HAAEALACzAIEAcAByAOz/7f8KAM//DwAFAJ7/qP9w/0z/wv/q/xoAdwA6ABUAJADx/ycAfQB3AJcAfAD6/8L/lv9l/6f/0//I//D/0/+h/9n/8P8dAJIAjAB6AIAAHgAKACMA9P8ZABIApf+T/2H/M/+Z/9X/AgBeADAA+f8GANT//P9sAHYApACmABsA7P+9/23/sv/C/7L/+P+6/5T/0f+6/wQAYgBCAHEAZgAbAEMAMAAjAFQABwDE/6P/Rv9T/5H/tP8YAEIAIQAdAOv/zf8LAC4AYQCeAG8ARgAWALH/s//C/67/8f/i/7n/6//C/9D/IAAAADAATwABADcARgAoAHQARgACAP3/i/9t/6H/of/2/zkAEgANAPf/xf/v/yAALwB5AH8ALQAoAPj/wf8KAO//2v8jAM3/wf8AALr/DwBKAOz/IwD2/6n/FgAMADEApQBEABIA7f9b/4H/zP/n/2gAcgAcAAQAqv98/9n/EgBXAKUAYgAVAPT/pP+3/wcADQAvACgA0f/K/93/7/9EAG4ATAAiANb/kf+0////OwCKAHQA+f+r/0X/Jf+w/xQAiwDmAGsADgC+/z//l/8FAEcAzACWACAA8f92/3r/3P/s/yMAEwCs/5n/lP/B/0QAlACkAHIA/v+c/4f/0/9FAKYAxQBlAM3/NP/J/gX/nf81AMoA0ABpAAgAif9y/9//NwCgAMsAZwAOAL//iP/Q/xIAHQAbALn/TP89/1j/yf9rALUAtABpAN7/kv+t/wIAjADzANQAXAC6/wX/x/4D/2T/DAB3AFQAMwDi/5//9P8pAGoA0gCHADwAHQCq/9X/KgAKADwAAABn/2T/MP9B//T/JgBcAI0ACADi//H/0/9VAL0AqgC6AFEAs/+L/07/Sf+x/8T/xv/t/8H/wP8RACYAXwCmAGcARwBFAPv/GwBKABYALgAIAJH/lv9//3D/5v/2/+z/JADk/9L/FQAIAFoAsQB0AHoAXwD3/xQACwDb/w4Axv9k/27/OP9h/+3/EQBYAIYAMwArADoAKwCGAL0AmAB9AA4AiP9s/2P/hv/q/wIA8f/h/5H/cP+x//T/ZADCAK4AkQBZAAQAEgA6AFEAdgAzALj/Yf8K/w//cf/B/w0AFwDT/6//sv8HAKsAMQF9AUwBngDg/zL/+f47/43/AAAiAM3/g/8h/wH/gf/3/38ABgHlAKwAeQASADIAawBPAGgAHgCI/2P/OP9K/9H/8v/f/8T/RP8W/2P/zv+1AIcBrgGRAfQADQCV/1H/VP/A/+//2P+q/zP/6v4R/03/x/9lAKMAwADKAIAAagB8AE4ARwAoALr/mP9+/1//tv/q/+r/CQC6/1j/Yf9Z/6b/RwCZAPUAJgHSAJoAXwAEAAMA8P+x/7D/hP9H/0//Rf9i/8H/7/8jAHcAiQCUAKcAgQB0AG8AKgAJAO7/nv+N/4b/cv/B/wMAGABOADEA5P/F/33/a//J/wYAZQDaAM8AtgCOABIA3f/G/43/rf/C/6T/yf/K/7v/AAARAAoAMwAfABYAQwBJAHMAnABTAPr/lf8a/xb/YP/L/4QA8gDoAK8ADAB4/07/Nv91//T/HgA6ADkA+f/6/w0AEABQAGAALAATAOj/zf/z/wUAEgAUANL/jf9x/4H/1f9GAJMAogBpAP3/kv9m/5H/9/9oAKgAogBuAB8A3f/S/+X/+//0/7n/df9C/zz/gv/7/3IAzgDWAJYAVAAOAO7/EgA1AE0ARQDs/4//Vf8r/1D/ov/Y/xYALAANACMASgBgAJcAmABaACgA1v+i/9j/CwA6AGIAGwCw/1P/7f7v/lj/xv9QALIAtQCyAIMAOwBCAFIAWQBrADwAAADV/4L/Wf9e/07/X/9y/3P/u/8OAFQAvgDrANsAvQBgABgAEgADAAsAFwDf/6H/Wv8J/xH/TP+N//j/QwBjAH8AaQBYAHIAdQBxAGoASAAwABAA3P/N/7//mv+B/1T/O/9f/37/r/8EAD4AbgCSAJMAtADiAOgA5QC5AFAA1/9O/+f+zf7W/gj/Wf+Z/9P/BwAwAGsAsQDdAO8A4wC+AIsATgAaAPv/3v+z/3z/S/86/z3/Tv9+/63/yf/R/8n/4v8pAIAA6wBOAXoBYwEAAXEA7v95/x7/6v7K/sH+wf7P/hP/f//9/4IA7AArATwBGQHtAMkAmwB1ADkA4P+X/07/DP8R/zf/Wf+D/4//iP+N/5z/z/8wAJwABwFHAUkBOgEXAdUAjgA4ANL/Xv/Q/lv+Jv40/o3+Dv+f/0EAuAD3ADUBWgFrAWsBMwHiAIAA9P95/y3/+v71/gH/DP8s/0b/WP+G/8P/BQBOAHwApwDeAAIBIwFNAVsBQQHxAGoAyv8j/5D+Lv4C/hT+WP6z/jD/zf9rAAoBlgHzAScCFAKuASYBkgD3/23/+/6s/ov+f/6I/rv+Dv9o/8L/BAA9AHQAkgCsAN8AFQE5AUcBMgEFAbwASADK/1f/5f6B/jH+Bv4Z/lr+xv5r/ywA7QCSAf8BQQJGAv0BhwHuAD0Amf/5/nP+Pv45/k/+lv74/mT/y/8WAF4AqwDdAPoACgEJAQcB7QC2AJIAbQAtAOf/kP84//P+qf5z/nX+nP7n/lP/1f91AAwBdwHFAecByAF2Ae4AVwDS/0P/x/6F/mr+ef6s/vH+W//V/zEAhgDLAPQACQH7ANgAvgCWAFsALwAJAOz/0v+o/4D/Yv88/xb/A/8R/0n/kP/i/04AtgAGATsBSwFGASYB0QBkAPv/i/8i/9H+pf6u/tj+C/9d/8H/JgCBAMIA9wAgARQB3ACiAGQAJwDx/8X/sf+j/4n/bv9i/2f/d/+K/6n/1v8AACcASwByAKAAvQDAALUAoABzACwA4P+m/37/Sv8e/xj/K/9O/4f/1f84AJUAygDgAOQA0QCdAFoAIADw/7//if9l/1//Zv9z/43/u//z/xwANwBVAHgAiACBAHMAYQBGABoA7f/O/8H/uP+r/6f/sP+3/7T/t//N//P/FQAxAFUAfQCPAIkAdgBiAEUADwDO/6D/hv9q/1b/Zv+J/6z/zP/z/yoAZACOAKkAvAC8AJkAVgAMAMz/jP9O/yz/Lf9G/2v/mf/V/xIAPwBXAGUAcgB5AHMAaABhAFgAPgAVAOn/w/+h/4D/cP91/4v/of+5/93/EABEAGsAlADAANsA0wC7AJcAZAAWALr/b/80/wX/8f4I/0//pv/2/0UAlwDPANoAzQC2AJQAYAAfAOX/vf+Z/3P/Wf9Y/2T/bf9//57/yv/0/xgAOwBfAIIAkQCQAIwAhQBwAEUAEwDl/63/aP8o/wL/+f4K/zX/hv/4/2AAtwAAATMBQAEXAc0AfAAlAML/Yv8r/xr/Ff8e/0L/gf/E//r/KABhAJgArgCqAKYAmAB5AEUAFQD2/9//x/+s/6L/o/+c/4z/g/+M/53/rv/O/wgATgCLALgA2QDmAM8AlQBFAPj/rP9g/yX/Dv8f/0T/dP+5/xAAXwCXAMEA4QDmAMkAlgBaABsA0v+J/1v/Tf9X/2z/l//e/yQAUwBsAH0AhAB5AFcANgAuACkAGgATABgAGAADAOT/yv+w/5b/g/+A/5r/yP/3/yoAaACeALoAwgC8AKoAhwBKAAEAvf9//0L/D/8D/yP/WP+e//r/YAC8APQADgETAfgAtQBZAAYAxf+M/1j/QP9K/1f/Xv9t/4j/qf/J/+j/DwBAAGkAggCSAKIApACMAGQANwAGAMr/gv9A/xH/7v7V/tP++v4//5X//f9vAOEAOQFkAV4BNQHoAHEA7v96/xz/0/6l/qD+xf79/jr/hv/h/zcAegCuAN4AAgEHAe4AywCjAGYAFgDH/4f/Vf8l/wX/Af8U/yv/SP92/7r/DwBhALYACwFPAWsBVQEgAcsAXADZ/1b/8P6p/oP+f/6r/vr+Vv+6/xoAegDMAAUBJgE3ATcBEwHRAIMAJwDA/1v/Cf/c/sv+y/7j/hz/Zf+n/+n/MQB6ALoA6gAOASgBMAEXAd8AkQA1AM3/Xv8B/8b+qv6q/sn+Dv9p/8X/IAB9ANMAFAE6AUsBSgEuAfAAmQA8ANj/cf8R/83+rv6p/r/+8f5C/6r/CQBlALsAAgEyAUMBQgEyAQkBwwBoAA8Asf9Q//z+xf6v/q3+yv4E/1b/uf8fAIEA3wAzAW4BiAGDAWgBLwHNAFcA4v9u//3+nf5p/mr+jv7Q/jv/vv9AALUAGgFoAZkBpwGFAU0BAwGbACYArf9K//r+sf6G/oP+pf7Z/hz/dv/f/0gAogDyADYBZAFyAVsBLgHuAIwAEACR/xz/tf5f/jH+O/5v/sD+Lf+z/0IAxwA2AYoBugG8AZMBPQHJAEwAx/9F/93+l/50/mz+gv6+/hD/Z//E/yUAhADSAAoBNwFTAVQBOgEFAbsAZQD2/3n/DP+2/nb+U/5X/oT+1f4//7v/SQDaAFUBsQHpAfsB0QF1Af4AbQDU/0L/w/5w/k7+Tv5y/r/+Kv+Z/wIAaQDHABkBTAFlAXUBcAFPAQ4BvABfAPT/gf8P/7X+fP5b/lj+gP7S/j7/uf86AMIAQAGZAc8B5gHRAYwBGwGSAPz/Yv/Q/mH+J/4Z/jn+gf7p/mv/7v9eAMMAFQFKAV8BVQFAARwB3ACNADUA3/+C/yH/0P6Z/nr+df6S/tD+LP+W/wEAfQDzAFEBkgGtAawBhQE0AcAAOACt/yP/o/5D/hf+H/5S/rD+L//C/0wAuQAaAVsBdQFyAUsBFwHUAIYANQDi/6H/Vf8L/9n+uP6z/rz+5/42/5L/+f9VALcADwFFAWoBbwFnAT8B8ACQABIAoP8j/6r+aP47/kv+gv7W/mP/6f9yAOsAPgF9AYcBbgE7AfMApwBQAPr/sP9r/yX/8/7P/sD+yv7p/ij/ef/a/0MAnwD/AEYBagF3AVgBMgHuAIsANQDE/2H/Av+i/nn+Xf5z/q/+Cf+a/x8AsAAkAXgBsgGiAX0BKAG/AFoA4/+Z/0v/Gv8A/9n+4f7b/uv+GP9M/6z/AABrAMsADQFMAVcBUQEgAdkAjgApANv/ef8t//P+rv6h/pL+rf7w/kH/0P9LANoAVwGYAcwBqQFlAf8AegAIAIT/NP/8/tX+3v7b/gf/M/9P/43/x/8WAGAArQD9AC0BVAFIASMB5QCGADEAyf99/0H///7m/s3+x/7b/vj+O/+O//z/fgD6AG8BuAHSAbMBVAHKACkAiv/6/qX+hP6F/rP+7P4//4X/uf/9/yoAdAC8AO0APAFYAVsBPgHmAIkACgCU/zD/6v7Y/s3+8v4U/zX/Zv93/7T/9f9GAMUAJgGbAeAB2QGxASgBeAC9//3+Z/4M/gf+Nv6Y/iL/nv8SAGsAnwDOAPAADAEnATcBOwEZAc8AaADh/1j/4f6H/m/+j/7Q/ij/jf/f/xYAPABSAHIAlgDKAA8BSAF3AXUBNgHGABYAXv+s/hv+2P3k/T/+zP53/yUArwASAUMBTwFIATQBGwH4ANQAnQBEAOD/Z//z/pn+YP5p/qP+Bv+C////bwCvAMcAxQCwAKEAnACxANIA6wDqALQAVADI/yb/kf4e/vP9EP6C/iP/0f+JABIBbQGOAXABQgEAAbwAfABGABgA3P+d/0////69/pz+sv7v/mX/7P9nANgADgEZAfYAuACFAFUAQwBKAFwAaABNABwAw/9N/97+gf5h/n3+3P57/yAAwgA+AXUBcAEqAcsAaQAMANP/sP+f/5T/f/9n/0j/MP8q/0P/gf/Z/zwAmQDYAPAA1ACRADwA5/+x/6j/vv/4/0AAYgBlAEAA6/+L/zD/AP8J/0b/tP8xALIABwEoAR0B0wB4ABgAzf+g/4T/k/+j/7X/yf/H/8r/y//g/wEAKwBnAIoAnQCIAFAAEADA/4r/dv+K/8n/FABmAJoAmwBkABYAtv9K/xX/B/8y/5b///93ANgADAEKAdsAlQAzAOj/rP+C/3v/dv+D/4z/lv+z/8b/8P8hAFEAhQChAKYAjQBZABcA2f+u/5X/qP/X/wgAOgBVAFAAHQDC/2r/Hf/w/vn+OP+l/yUApgAOAUkBVwEvAeQAfwAKAKn/Uv8K/+X+1/7Y/vD+Jv9q/8b/LACKAOIAEwEnARcB1wCPADkA9P/N/7f/y//j/+j/4v/D/4z/Qf8A/9L+1f4V/3f/EQC5AFYB3QEQAhIC2AFbAb8ADABq/9X+W/4S/vP9Dv5Q/sL+Wf/6/6kAQwG4AfoB9QG7AU0BugApALH/T/8X/xX/Jf88/0r/QP8t/wL/3v7c/vj+Uv/b/3kAIAGyARwCQwIeArMBHQFjAIb/yf4o/qr9df1o/aj9Jv7F/qH/gwBcARcCkgLKAqgCMQKDAcMA9/9H/+D+nv6f/sz+/P47/1v/a/9z/2n/gf+3/wcAhQAaAaABDwJPAj4C+AFqAacA7P8Z/2P+4P18/WX9gP3U/Wv+Iv/2/90ArwFMArQCxQJ5AugBEgExAF3/nf4s/vj9Bv5W/qz+Dv9l/5H/rv+v/63/1v8SAGYA3QBUAbUB8QHxAbgBRwGdAOP/KP94/uz9k/1t/X790/1T/vz+y/+fAHQBIAKTAsYCmQIqAn4BrADk/yn/p/5m/lv+fv64/v7+Lv9U/2b/X/9q/3r/tf8YAIAAEAGfAQsCYwKKAnECIgKkAfoAQwB6/8D+P/7J/Zj9wv0Y/rv+fv9fAFUBEQKvAg0DGwP2ApgCKQKhARUBlgAlAMn/Wv/+/qH+L/7f/Y79Wf1a/W791P1x/hj/7P+9AG0BAQJTAlcCDgJrAYkAdP86/iP9K/xy+yP7K/ug+1P8N/1U/mP/ZgBGAfIBewLCAtcCtgJsAgECbwHaAC0Ahf/z/nf+Lv72/fL9F/5T/tb+af8qACcBJAI0Ay4E6wRbBWAF7AQUBPICiQEgAM3+rv36/I38kPzn/Gf9Mv4F/+//7QDXAa8CRAOmA7cDeAP3AgoCBQHc/73+8f01/dH8lfxa/GD8TfxS/JL82Pxn/UL+V/+ZAMcBwQJnA4MDIgNYAisB7/+3/p393/xZ/CT8I/wz/H784PyO/Xr+h//lACoCTQM0BJAElgQUBDUDVQJrAcMAbgBOAF8AZgA7AOT/XP+s/hv+1P3r/Yn+n//7AFsCfwMvBGQERAS+AwkDQwJ9AeUARwDM/0//e/61/er8Wvxc/Kr8h/24/ur/HQHuAVYCUgLdAUoBwgB2AGIAdACUAHIABAAv/wT+w/x0+4X6Mfpx+mb7zPxd/uz/IAH+AY8CtQKvAnwCIgLYAVABmgC8/27+Jf3t++36qfrq+tv7Yv0O/9wAVAJVA94D1QOhA0UD/gLkAq4CgAIiAngBhwA6/+b9ovy/+5v7EPwc/Yz+GwC7ASIDIwTPBPsEzASTBCwEtAMDA+EBnQAI/2r9G/z8+oL6p/p++x/9B/8GAakCtgNDBFAEHQSKA8wCDAJCAboAIwB1/4n+Nf0M/B/7uvr2+nH7avzF/T7/0QAdArECswJmAvQBsgFoAQIBoADt/zT/kP6t/bb8u/sK+xX76ftA/c/+PwA8ARUCogK3ApYC0wECAaQAbADAAPYAngAqAGD/0f7G/on+WP5s/qT+gf/bANgBUAIsAowBHgHqAOQABwH+AAQBYgHEAdsBhAGFAEv/ev4Z/nj+Gv9j/+//UQCdACgBDQGgACMAuv8sAAwB0AE6AhgCnAEJAY4A1//r/gn+U/1m/f39tP5Z/3f/ef+c/8z/MQCWAN4ATAH2AacCLgP3AugBmAAJ/9L9Qf3C/JL8sPwY/fT94/5//7P/xv/r/68A9wHVAosDtgNDA/cCJgLqAGv/ef0b/Hj7e/sn/Mf8Qf3T/ZD+nv+8AG4B8AFlArwCgAMhBN0D/AJoAYT/CP7N/L37Ffu1+gP7cvzz/S3/OQBqAKoAYAENAuoCPAMxAzoD1QJjAp0BFABS/rX8zfvJ+z78BP33/cz+x/8GAdgBMgJRAiwCUALTAiYDHQOBAl4BWwB0/1j+d/27/Df8z/w+/sn/IAHZARgCNAIxAjcCKQKyASwBAQH/APwAnQC3/5X+hf0S/VH90P2e/pX/ZgB8AaECDgPoAj8CRAG5AF8AIwArAL3/Lf8g//v+m/5L/uj9y/1b/lf/sgDrAWQCpQJ/AskBSwGPAKn/L/+//tr+WP+P/+z/2v9I/x//DP8X/5L/8P9ZAOkACAEUAfsAOwCJ/+r+Lf4E/kH+q/55/yUAhwDXAMQAlwCVAFEANQBZAEUATAAzAL//OP9Z/on9Jv3c/A393P3d/iIAagE8Ar8C4AKeAlEC4gFdAeYAQwCl/0H/wP4X/oD95vyH/Kn8Sv1g/on/qgDlAfICrQPzA6oDAwM0ApcBIwGOANz/A/8x/pv9LP3a/HX8L/yy/O39kf9SAY8CJQNUA2oDhQM6A1cCLQH9/zb/KP8s/7j++P0Z/bb8JP3s/c3+c//i/80A/QHuAnwDFgMFAigBhgBLACQAe//s/on+Sv6c/qz+Wf5C/k3+B/9mAIoBbwLXAsQC4gK5AgUCBAFz/zj+4f2+/fT9Fv67/cj9R/7//gAAnADiAGQBAQLWAqYDlAPBApoBWwCY/xH/aP7K/S39Bf15/ff9df7E/r/+Bf/K/7cAqQFbArkCFAM4Aw4DrgKhAT4ARv+I/hn+9f2l/U79PP2b/VH+9P5q/7z/AwCZAHYBRAKmAnwCHAK7AWIBKgHQACUAc//7/tn+8v4D/87+Uv4C/h7+df71/nn/0P84ANAAbwECAiwC6gG0AXYBRwExAaIA3v9W//X+2P7P/o3+Kv7u/Sz+0/51/9b/9/8BAEgA8ACiAfkBzgFnAScBIQFXAUMBfgCY/+X+iP6j/sb+ov5E/hT+dv4i/9//cwCIAIsA9ACOARcCLQKnAd8ADQCQ/5H/W//f/pj+Xv5z/gr/fv+w/7//qP/y/4kADgGDAX0BIwEGAdUAjAAwAG7/tP5R/kP+qf78/hX/UP+K//z/xgA6AVYBdwGAAbUBBgLbASsBHgAI/3b+Qv4G/sz9gv1i/QT+I/83AAQBJgEBATsBywGgAhkDtwINAj8BcQAMAHX/cP53/aT8Yfze/JX9aP4Y/4X/LwDoAGcBBAJiAmQCnALEAqACRgJ5AYEAkP92/rf9Rf3K/Mr8H/2K/V3+Mv/a/4EA0QAeAaYBDAKYAggD1wJvAtEBBQF4AMP/1/4f/nP9NP2i/Sb+sf4G/+v+B/9i/9D/iwD3AAsBYQHQAWwC8wKlAsYBvADY/4r/Wv/5/p3+H/7X/R3+cv6g/pr+XP52/h3/IQBVARUCPAJNAkkCMgIjAqoBtADA/zL/Pv90/0z/4v4r/nf9gP35/Vn+q/71/oT/kQDHAcYCCQOBAtABMQHdAPsA3AA7AIz/E/8J/zD//f50/tT9hP0I/h//GAC0APEACgFqAecB5AE+AT4Aff+R/0cA8wD7ACEAJP/a/iL/nf/M/1P/xP7R/qj/9ADGAYABYgAs/8L+Q//g/w8Axf9R/3H/WgBRAZQBBgEQAIj/+f/uAJABZQGfAPj/x//J/4n/jf4y/YP88Pw0/qr/ggCdAIgA7wDaAYcCeQLWARkBBgHFAXYCHgKVAMX+of1X/Xv9Tf2L/Pj7h/xj/ogAqgF1AYsANQBIAekCygNxAzcCQwFZAfEB/QGXABP+/vtS+wb8ev1z/nT+P/6Y/q3/5QBrATcBtgB/ADsBcQIXAxcDjQKmAewAPQBM/1X+h/1o/R/+y/4g/yX/rf5//ur+Of94/7z/8f+cALABvgJ0AyAD9QHVAAAAz/8tADcAz/9w/0H/cf++/3//lv5p/bz8Jf04/lj/RgCaAJwAGgHGAQYC1gEyAagA1wCPAW4CsgLgAaQAYf9L/uj9of0D/aX8s/xR/Yn+rv9cAG0AGgA6ANAAiAF3AiwDdwOxA5gD9ALfAWsABv/l/QL9gfwq/BH8tfyn/Vn+1f7q/tP+Uv9/AAMCUQP0AzUEQAQQBOEDCwMoATz/3/09/WT9j/1I/cP8ivwv/fL9CP7c/bb9Vf6IAD8D6gT3BPkDTQNaA6EDdwPSATz/qf2Z/WP+H/+y/hj9efsV+yX8jf13/hH/of+vAJYCbgQLBXAEVwNZAtQBqQE5AUAAMf+b/nD+K/6v/fT8BfzT+8j8DP5G/20ARAECArACBwPSAugBBwHrAAUBDAHoABEAPv9f/8n/v//6/oT9j/z9/JP+iAArASsAOP/4/sH/XQHHAacAZv/Z/uf/0gHgAskCUwGX/1r/r//i/xUAfP/i/hz/cv/a/93/T/8V/77+Xv6w/vP+W/9vADsBiQGBASAB/AAAAQEBMwEQAccA7AD2AMUAgQDK/9v+Gf50/RD93/z0/Kb9if5i/2YABgE3AY4B5wF3AkgDmgNdA6oCywF8AS8BOgCw/nX8v/rR+vP7M/3M/bP9Jv53/zkB5gJWA74CQwJBAgoDEgQWBP4CMgFt/3n+A/6n/UH9e/zO+/L77fyQ/iQAzQCZADMAWgBoAdMCvgPGAzUDtQKQAkUCUQHj/13+C/0n/KL7efve+8v88v3s/nr/3v+IAKoBJgNqBNYEmQQmBJQD4gLgAVkAdP5i/Kr65/kT+gr7cvyK/V7+S/9iAN0BXQNUBMoEugR5BFUExwO2Al0Bo//n/Wf8Fvtr+pT6ePvf/Bf+3f6D/zgARAGOAmQDjQNiA0QDYQN2AyEDUQIFAVz/tf1m/Lv72/tg/M/8BP0X/Xv9n/5EAK4BNwLxAd0ByAJ2BOAFuQWyAwoBOf/G/u3+Nv4u/Pf5KfmO+if9Av9F/5P+Y/74/9kCYAU/BkwF6QOSAxcERgT2AggA7vwI+6n6X/vz+8H7afuf++P8BP/gAOEBNgJrAkgDrwTHBQIG9wQZA5IBnADA/3z+ovwE+136pvqc+3T8qfzR/IL99f7tAIYCfAM/BAMF2AVhBgAGvQTfAs8ALP/P/VL82PqZ+QL5gvm6+gb8Bv3L/Q7/NQG+A+oF/AbVBl0GRAY9BnEFJAOu/3X8nvpG+oD6Jvot+Z34cPnW+9z+GQELAlkCGwP1BFQH1ghqCA0GBAPzAEoABQDA/gn8GPm094n4vvqb/AT9p/wS/R//LQKaBHUFTwU6BcUFaAbhBc8DGQH0/vj9c/1C/Hj6G/ki+br6vfz1/UX+Wv5a/7kBbgQ1Bn8GqQXfBJIEOQRGA0wBqv5x/Cb7vvrO+tL6Afun+6b8Bf58/68A2AEQA1wEmQUhBroFmgQGA7QB3gDf/07+NPxB+pr5ZPr8+3v96/2S/bj9Kv+8ARkE6wR3BMwDygOiBB8F+wNhAZT+//zQ/M/8JvwG+0v69vrG/HH+P/9r/+r/dAGPA1AFCAaZBb8EFwR8A44C/QDw/hj9xfvq+ob6j/oD+8b7mvyd/en+UADXAXMDzwS7BTsGUgbaBY4EuwIUAaz/D/4P/CX6Kvl8+ZX6rftA/Hf8Of0r/98BNARLBWgFggUKBo4GMQZrBKwBFv96/bv8APzF+o35Nfn4+V/7r/yZ/ZD+GgAmAgYEIQWsBSUGdwY8BiIFIAPHANT+mP3N/Mj7efqY+bH5uvoi/Ej9Jv4T/1IAIAI2BMkFcQZYBtwFEQWwA+wBQQC5/k/9Ifwq+4n6cvrz+t77tvxn/Wb+z/+IAUsDowRnBZ8FUwWiBJEDLQK3AGX/QP4y/TP8nfu2+zr8zPw7/Xb9yP2y/mAARAJ7A9cD4wP0A+8DhwOIAh0BuP/J/mT+K/7X/V/9AP36/Dj9lv0H/pj+bP+PAOABFwPUA+YDcAOzAgcCiwEGAUYAV/9//g7+Df48/jv+yv0q/RT95/1J/54AfgH6AWYC2wIoA/kCLwIlAVMA9f/d/6L/C/9f/vX9x/2w/aL9m/2z/RH+5v46AJYBaAKcAlQC6AGpAXsBXwE4AagA5f9Y/yL/Cf+l/gD+Y/3Z/Kn8O/1P/n3/jABJAcoBBgLoAdMB7QH0AcoBWwHjAKYAWQDi/0//cf6G/f/84/w7/df9qf7L/7cAIgE8AT4BfAH8AUgCJQKvAS4BIQFvAV4BiwAg/939Yv2B/cz96f26/d/92v4nAAAB8ABkAFAA7QDmAboCzgJEAtEBvwHRAWABEwCA/ln95vw5/fH9af5v/kD+dv5V/zwAxQAYAVgBzgGtAooD5wNiAywCKAGhADkApP+c/nL97vxJ/T/+Bf/e/jj+Av61/iAAcwHtAdoB4AFcAjkDfQO3AnkBRgCJ/0v/Af95/vD9jf20/RT+Av7A/av9Ff44/28AIgFpAVQBVgHIAQ4CzwEAAcr/+f7j/hz/WP8g/0n+nf11/eH9vP5G/2X/g//k/7kAoQHqAagBIQGKAGQAdgBNAO//bv8k/0L/Zv9r/1r/Ff8O/3b/9v+GAPMAGwE7ATIB+wDRAIsAOAD3/4//Rv9F/0n/b/+J/1P/K/9E/6T/OQCkAOUANwFcAVoBTgHzAH8AIAC6/2n/DP+V/m3+i/6j/rf+m/6h/in/zP95AC4BgwGzAfcBJgJIAv4BOwGvAD8AzP+K/xf/kv5A/u394P0h/lT+xP51/xMA6QCxAUQC8gJOA0QDCAN1AuYBrAFFAasA5v/e/ij+uP1e/Un9Lf0N/X39UP5J/14AEwGaARUCPgJ1AqwCgQItAp0B1wBLALL/8P46/j/9T/zp++T7aPww/bj9Xv42/x8ALQHmARMCMwJNAmsCrwKMAg4CaQGQAOH/Mv8w/lP97Pzw/Hb9DP6A/ib/3v+nAH8B2wHeAQICRALWAkkDAwNgApgB2gBfAL//z/70/WT9ef0w/tD+Mf9Y/0f/f//y/0MAiACNAIEAxAAPATQBHgGMAL3/BP9o/jr+S/5O/oL+z/4Z/2n/h/9+/3L/Rv8//4b/wP8AAFEAfQCSAFgAuv87/wX/Jv+f//f/JgBoAMsAegEdAhICfwHVAHAAsQAoAUUBCQF5AAcACwAGAMv/ZP/c/tn+j/+JAIMBGAJDAm8CfwJaAiQCrwEiAcQAaQAhAOP/XP/C/h3+Sv2l/FL8bvwW/dj9jv5c/xEAsAA6AW4BVwETAbMAjgCMAFIA9f9m/7X+HP5e/aX8SPwy/Ib8Sf0u/ib/JQAhASgC5wIkAzEDKgM5A4gDsgN2A+IC/gEWAVAAiP/C/hr+sv3c/ZD+g/96AC8BngEBAlsCuQINAxkD4gKXAk4C/wF4AXwAHv+j/WP8rPtk+1H7Wft8+/f7y/yx/Wz+y/71/kL/y/9nAN4ABAHSAHcAAgBa/3n+ff2w/Dv8HPxQ/Lf8R/0C/tP+kf8eAJ0APwEIAuAClQMCBCcEIQT8A5kD4gLuAf8AUgAEAPz/AgAIACQAZgDCAB8BXwGQAeQBYwL3AnsDtQOlA3EDEgN2Ap4BlwCb/9/+a/41/g/+z/2Q/XD9gP21/dT95P0T/mz+Cv/S/2EAkQBiAAAAv/+l/27//f5g/uT90/0V/mH+Y/71/Y79p/0r/sz+Of9a/5T/OwApAfABLQLiAYMBbwGmAeMBxQFXAQ8BHwFXAWkBFwF4APH/xf/3/0QAWwBJAFEAigDlACEBCAHBAH0AZwCYANYA3QCoAFAAEgAIAOr/iv/2/kv+4/3z/TT+V/4m/r39kP22/fn9I/7+/b794f2D/lz//P8SAM//qf/U/yAANQDz/5n/d/+5/y0AUQACAI//Pv9J/6T/9P8SADQAjQAmAdkBUgJuAk4CJQIrAlUCdQJ2AkwCCgLfAcYBlwEuAYgA3f90/2//sv/t//L/4f/t/x4ATwBKAAEAr/+j//P/VQB7AEIA1f+B/1T/LP/d/ln+8v30/VL+wP7p/sL+i/6K/sb+EP8x/yT/K/9z//L/eACvAIMANwAEAA8AQgBbAFIAUABtALYADQEoAfIAkgA7ADEAYwCVALsAtgCiALkA2gDbAKsAVwAhADIAhgDpABQB+gDRALoAqQCQAFEA7/+0/7j/2f/n/7j/bP87/yj/If8I/8/+pf6+/gn/VP97/3P/aP95/5j/p/+F/1P/Uf+I/9X////g/5z/af9Y/1X/Rf8h/xD/N/+I/9L/6v/K/6j/sv/h/yIAWgB2AJcA4AA8AX4BfgFMARoBBAEdATkBIgHsALwArADCAMkAiQAUALf/rv/l/yAAMwAaABAAUAC+AP8A3wCAAD4AWwC8AAEB3ABfAPD/zP/T/63/K/+J/if+Of6Y/tn+wP57/mb+r/4l/3n/jf+L/73/MwCwAOUAuwBmACwAIwAoAAcAs/9S/yH/K/9A/zj/GP/9/g7/VP+5/xUAVQCWAOsATAGmAdMByQGkAYABdgF2AVwBGQG8AGsAOAAVAOr/qf9n/0//fv/a/ygAQgAuACYATgCSAMQAwgCbAIQAmgC6AJsALwCe/yv/A/8L/wP/1P6c/ov+r/7p/gT/5/63/rb+8/5K/4//qP+l/63/y//o/+j/x/+a/4L/mP/Q/wYAKAAwACsAIAAYABUABADs/+b///82AHEAjQB6AEoAMQBGAHkArADPAPIAMgGOAdoB5gGmAUsBGAERAQwB5wCYAEgAIQAdAA0Awv9H//D+9P5B/5r/zP/c//3/SACgAMsAoAA7AOz/3//4////y/9l/wL/xP6d/mL+Af6p/ZD90P1U/tz+Mv9e/4f/z/8oAGoAhACFAJIAzAAcATcB8QBnAN3/kv+G/3v/Vv8z/0f/tf9VANcABgHvAPQAUQHbAT8CTAIbAgACJQJNAhsCbAF+AMf/gv+F/3j/N//y/vX+TP+0/9j/o/9Q/zz/iP/7/z0AKwDn/6v/kf9t/wb/Yf7C/XP9lP30/UP+ZP5t/or+1f40/3P/dv9d/2//yf87AHEAQADH/1P/Jf8y/zf/F//4/if/1v/KAJEB5wHtAQkCdwIOA20DXQMEA8ICxQLPAnoCoQGHALT/bP+C/5//mf+T/9v/hABHAcEBygGfAZYB0gEiAikCxQEeAXcA5v9F/3L+b/12/Nn7uPvy+z78dPyt/A39p/1X/t7+Mf9r/7T/JACYAMMAggD1/1b/2f6A/hz+nf00/SP9g/0r/sv+Lv9r/9f/jgBgAQsCcgK1AgkDcwPCA7MDOgONAvcBoQF4AUMB/ADNANoAGAFVAWYBSQElASoBWAGGAY8BbQE6AQoB2ACKAA4Afv8L/8n+t/67/rX+qv6p/r7+3/7n/sb+i/5N/ib+Df7d/YX9Ev2e/Eb8C/zd+7n7sPvl+278N/0U/tr+jP9FABEB3QGEAvACLANVA3UDbwMmA5cC4wFAAcoAdwA1AAAA+P82ALgAVwHwAXYCAAOsA24EHAWLBakFkAVZBQEFbASGA2MCNgEvAFv/k/7D/fj8VPz9+/T7DPwk/EX8jvwJ/aH9Jf50/pD+i/59/mj+NP7S/VP93PyM/GH8OvwH/Nr7xfvo+0X8vPw+/c39e/5N/ykA7gCAAewBVwLVAlkDwAP6AxEEGAQiBCgEBQSsA0ED8QLLAsICpwJjAhEC2QHIAcoBuQGJAVwBXQGMAc4B7gHXAakBiwGFAXEBKQGxACMArP9Q/+L+Pf5k/X/8w/s5+8T6U/r3+dP5CvqS+jL7uvsv/Lv8gv1r/kP/6P9cAMcANgGTAbIBeAH7AH8AKQD1/8j/gP8p/wH/I/92/8r/BwBNAMwAngGmAqQDawT7BHsF/AVjBoIGPQa0BSoFvQRUBLoD1gLEAcUAAABh/8H+F/6L/Vv9l/0F/mD+iP6T/rz+Gf98/6j/jv9d/1T/dP9+/yn/aP57/br8PvzV+0z7pPog+vv5KPpn+nz6Y/pp+t/6wfvE/Kj9Zf4o/x8AOAEqArMC3wIGA2sD9gNcBGwELATVA50DeQM0A6UC9QGGAYUB1AExAloCXQJ9AuMCdAPpAxkEKARUBLwEMAVXBfgEKwRCA3UCswG6AH3/OP43/ZX8NvzS+zr7lfpC+mf62vpT+6n7APyX/Gv9NP6b/of+N/78/e/96v2z/Tv9tvxd/Dn8H/zm+5b7bvuz+2z8Zf1n/mH/awCcAeACCATlBG8F2gVdBu0GVwd1BzcHwQY/BqQF1QTPA7QCvwEbAcMAggArAMT/df9Z/2v/lP++//j/cQA3ARUCyAInAywD9gKlAiwCawFYABH/1P25/J37W/rr+Hr3VPae9VX1ZfW+9Wv2kvcs+fP6pfwY/lz/pwALAl4DXgTjBBAFHAUKBaoEyQNvAvQAxP8N/6r+U/4F/vz9b/5O/z4AAAGfAWMCjgMEBWkGWwfHB+AH0gecBwAH3QVqBAYDAQJfAcUA7f/v/hb+nf2E/Y/9gv1m/Yr9Kv4b/+v/UABRAC8AKAAyABMAnP/l/j/+3P2j/Ub9ifx6+3L6zfmY+ZX5i/mI+dn5qvrQ++/8r/0U/o3+gP/TABcC8gJqA9MDVwTFBLAE2QOKAlYBoQA+AMb///4U/oH9g/3n/UH+af62/pn/NgE7AxwFkwbOBxYJYwpYC4oL5grMCasIpweHBvYE6AKvAKH+0fws+5b5J/gz9wD3mPes+Mb5uvqX+4r8nf2s/of/CQBUAJoA3wDaADgA+v5d/c77j/qS+Z74tfcj9w73a/f994r4F/na+Q/7rPxi/vv/gwEkA+EEgQa6B2QIoQi+CNcIzgh+CPoHgAc1B/YGcQaBBUsELgN+AjAC/QHFAbYBBwKZAgQD/AKTAi8CLAJxApgCXwLkAWEB5gBJAED/vv0W/MT68flZ+br4DviH91X3h/fv9074mvgK+d/5H/uL/NH9zP6J/yQArgD/AOcAXgCh/wr/w/61/p3+SP7N/Xn9if3y/Xv+Cf+8/+QArwLPBKoG0AdbCL0ITAnkCQMKbAlgCGsH0AYjBs8EtwJrAK7+wP0z/Xz8nvsV+2T7fPy6/Yr+9P6G/6IAHAJOA8YDtgOjA84D4wNXA/sBGQBE/sn8fPsQ+n/4Gvc79uT1xPWS9VX1XvXt9fr2UPjR+Wv7D/2w/jkAjAGcAm4DBQRuBMkEKwV7BYMFEQUwBC0DUgKmAfwARwDC/7D/JQDYAHEB5gF+Ao4DDwWsBhUINQk3CkMLNgyyDG0MkAuFCn8JUQijBlMEtwFd/4L97ftO+qb4Pfdn9iv2L/Yf9iL2tvYF+J754Pp7+5r7pfu++5b7+/oh+mn5Avmz+Az47vbB9Rv1LvXR9c72DPip+bv7Df4/ACQC6gPLBcwHtQk9CzsMpwydDEkMqgvICsUJvAi7B7YGnQV6BHcDzQKPArYCRgMsBCwFAgZ8BpkGowb1BoEH5QfIBwAHoAXQA5cB1v6o+5r4Rva59GvzyvHG7+Htw+yt7Fvthe4v8H/yZPVx+Bz7Kv3v/vMATgOJBSYH6AfmB2QHjAZbBdADLgLMALX/u/6x/ZX8rftU+6n7m/wi/j4AxwJZBX4H+ggdCn0LVg1AD6EQMBH9EEIQAw/mDNMJawaQA6YBPAB//vP75/gq9lb0bvMS8x3zzPNC9TH3Dflp+kP7Afwl/dn+rgADAm4C5QHDAIr/a/5M/fv7ffor+Uz4zPdJ93/2vfWw9eD2MvnS+939If8gAHIBMAPzBC4GwAYgB8YHcwhkCBsH6gTaAu0BOALSAtECKQKUAcoBygLXA1cEkQRoBTwHaAnQCsAKjQlOCLsHiwfmBkQF9gKtANf+Rf1z+zf5FvfG9Yn16PUe9uD1m/UA9nf3tPny+6T91/7+/04BeAIMA/AChAJLAkkCAALZALP+G/zV+TL4+fbQ9bH08/P288b0BPZH94j4LPqj/Pr/vwNOB0wK5AxcD6IRVRMLFLkT1xLgEcwQHQ9XDI8IcATSAAT+ofse+XL2KfTb8rDySvMX9Az1wPaD+eT8/P8RAkYDdgREBnYIGQpYCjsJjAfrBS8EwAFz/tj65Pcu9lj1gvQl85rx1PBl8RXzRfV798j5lfwEAIwDPwaaBwIIZwhjCacKRwuECmgIvwVbA2oBi/+G/Zv7T/ry+TL6VPrp+XD5CPpU/Nn/SgN+BVQGlAYeBx4I6AjfCDYIkQcVByYG/AN5AJr83fkG+YL5A/q++Q754fi0+Rv7avyR/R3/kAGwBHUHywiDCHEHkQYsBtwFEwWWA64B2/8//nj8Mfqw9831P/UH9mf3cvjA+Mn4avkQ+2z94P/8AbkDPAVwBvcGdQYZBcIDPgOPA8oD2QJtADr9dvr6+Jj4nfjF+Gz54PrV/Jb+kP8EAAsBgAMaB3sKcAztDMIMvAzVDD8MbArMB2QFwwNxAnEAUf2/+fr2nvU59ff0hvRS9BP1+fZL+Sb7Yfyp/cj/ugKaBXIH8weWBx4H4waTBqgF/gMDAi8Aev6T/D76oPdy9Yn0EPVY9nT3+vdR+FH5YPsM/n8AVwL6A/IFPAggCrsK8AmLCI4HQQfqBrUFnwN0AQkAcv/t/qT9uPtJ+k/6oPsn/fT9Fv5r/p7/ZAHOAksDQAOJA4IEnAXcBegEZANEAuwB6AFjAQIATv4X/aH8kfxq/Az80Psh/Pz81P0u/iL+H/6E/mL/XADqANMAUwDJ/13/+v5f/mz9cPzq+wP8Zvyi/HX8Cvzn+2z8dv2L/m3/PAAxAV8CogOKBLkEdwRlBLMEAQXLBNkDdgJWAQABGgHFALb/aP6O/YH9Af5y/pH+3v4BAOwBwwOwBLcErgRrBd4GHwheCK4HwgYrBrAFhQRIAoj/JP2B+1n6F/l99+T13fSS9LD02PQP9bH1//be+Or6v/xD/pn/ywDXAcICmANLBK8ElgQFBFMD4wKYAukBmAAe/xz+wP2u/WD9yvyN/F79BP9nANoA2ABhAQ8DZgUwB7sHoAcNCFEJhAqPClgJywfIBkIGXAV3AykBo/9L/1T/mv7V/Nb6i/kp+Tz5V/mX+U76YPsr/CT8hPsr+7n74/zf/VX+nP4N/4D/W/9U/g39kvxE/VP+jf6y/az8kvxv/TP+Ff6M/cf9Rf8sASMCtwHcAOYAJAKgAz4E5ANvA5wDIQQbBE4DiALGAiQEsQVIBqUFlQToA64DmwOjAxUEDAXpBaoF1wMyAR//Mv7i/Xv94Px5/Hj8R/wX+wr5bveF90D5Rfso/MT7QPux+9X8jv1y/VT9OP4YAL8B0QFMALf+gf6d/8YA+gBYAMf/uP+K/13+c/wc+0/7z/xu/hf/0v6Z/g//3P+EAGoBQwMdBiMJ8QqyCi8JDAj4B0oIXghBCDkISgjtB0QGJAPa/yn+X/4z/2j/rv53/Xn8yvvY+nn5hfjq+IX6KfzE/E/8qfvB+638r/1J/tD+pf+MANsAFgCF/hb9gPyo/N/8svxg/E38UPzs+wf7Qvp6+vX7Ff7a/7gA/wBGAZYBigE6AWMBpgLLBMgGlwcYBzkG/wV1BvAGFQc7B9kH2AhPCTIIiwW3AhkBwwCsAPT/nf5Z/cX8i/yq++j5Yfhn+Bv6UPyj/aL9A/3U/GX9FP5P/lb+0/4CAFsB0AHoAE//If4F/rz+cv+O/wD/BP7V/If7MPoo+dD4Svl3+uf7HP3l/UH+af4J/7QAawOTBkYJ1QoyC+EKbgrbCeYIugfiBrQG8ganBscEcgEU/hX8wvtA/Ij8RPzZ++L7PPwU/DH7ivo++4r9iACsAhADPgJpAUcBoQHWAbkBmgGkAW0BLQCv/bz6dPh898D3nfho+f/5bfqQ+mb6Yvo9+zr96f+PAm4EKgUOBYYErAOsAhYCcAK5AzMFvQXLBNAC3ADo/wYApABjAUMCOAPEAzEDcAFk/zT+gP74/5ABZgJlAvMBSgFqAJr/U//H/9YA+gFVAnsB4f9N/i/9pPy4/Gv9lv64/xYAXf8C/hL9SP1b/oj/YwDXAPsAuACU/4D9bPuB+jH73fxd/tb+Uv6a/VD9aP2p/Ur+t//hAREEQQXYBEYDxwFRAckBfgIZA5UD2AOkA6wC7wAW/wr+Mv4x/zgAnwBPAIP/cf5j/cD84fzi/Y3/VAF/Aq8CLQKMASQBGAGYAawC5AOrBIgEPgMrATr/D/6g/aH98/17/s/+aP4Z/UD7yPms+Rz7Rf0Y/x4AjwDEAMAAVQCw/33/gQCpAsEEbgU4BOUB0/+k/v79bP0G/TD96f1z/uL9Fvwc+nH5sfow/cH/pQHKAn4D7gPjA14DCAOlA1AFQwc9CHEHJwVXAu7/Zv7R/Qj+t/5d/3D/hP64/N360/kL+pb7F/68AJ0COQOgAmIBcQCkAAwC8QOJBVcGEQauBFwCef/a/H/73/tj/Zb+S/6E/En6wPhl+P74R/pd/DX/GwL7AwAEcQLRAJcAAAIIBFsFXgVKBJcCgQAD/oP7B/pW+hn8Bf7R/hf+jPx5+7D7Lv2M/2UCTwWeB54IBghBBmEEfwP1A1YFvQYmBwUGcwP6/3j8+Pku+f35iPvW/FL93fy8+3j6sPn++e37Yv8/AwkGzgbDBQ4E0wKRAh4D/gPPBEYF5wQdA7X/h/s/+B73G/gP+pD73/s1+zb6Xvnn+DX57PpF/moC2gVUB6cGvwQDA1ACpQKUA6kEawVNBc8D9ACN/dP6yvml+qn8w/4rAJkALQBL/4/+xf55AGcDgwaqCDQJHQgGBr0D4gHgAOgAsQFqAhkCRABO/U76YvgG+Af52PrX/Hf+TP8j/zD+OP1W/Q//zwFtBPgFEgb0BDEDRQGK/4n+tv7i/w0B+AAu/1H8jfnz9+f3C/nO+s/8tv75/w8ADf/l/dj9kv+nAs4FvAfqB7QG4AQHA40B0QD/AOAB1QLuApkBLf+e/Pv64vpL/Ir+pwDzAT8CvwHiAEkAdgB+ASMD+wREBj0GvAQ6ApD/rv0y/eX9xf7t/jH+0/wv+7b50fjL+OD5EPzB/t4AjwHZAKT/C/+t/1EBNQObBCYFxgSOA6UBav+I/b38Rv2E/l3/A/+H/bH7Y/ok+vv6q/zK/tkAbgI2AxIDZgL6AWwCzAOhBSgHpwfeBiUFEgM1AQoAxf8jAKQA1gBxAFr/4P2f/Bv8m/wZ/gkAjAEWAroB3gD7/4T/rv9WAC0B0wHlAQYBQ/8z/Zf77vpH+z78JP1+/U792fxx/EX8gPxn/Qv/DgHGAo0DRgNnApABNgFjAcUBEAIdAr4BxgBO/6j9V/zn+338rP3J/mr/if9W/yr/Tv/l/wYBogJnBMgFWwYeBksFRgR/Ay4DPANjA0wDpwJWAZ//8v2u/AH86Ps2/K38Df0s/QH9s/yW/Aj9HP6P//QA3gEdAt8BcwEEAaYAdwCLAMAAyQBfAGX/CP61/Nz7qvvv+2T80vwd/U39dP2a/d79ef6O//4AbQJeA6MDhANUAzADKQNAA2QDegNTA8ICvQF+AG3/1f7C/hT/lv8CAC4AGwDr/8X/2/9VADMBKALjAjkDGQOoAiICqwFWASkBIAEHAY8Aqv+R/o/93PyN/I38xfwT/VD9Yf1H/R79Jf2I/T7+J/8FAJUAxgCkAFAA7f+Y/2//ev+r/9L/pv8W/2f+4/2w/dX9Qv7b/nr//P9PAHUAhACyACkB4AGyAmEDpQNxA+oCQwKpAUIBJAE6AWEBWgHqACQAXv/d/rP+5f51/yQAvAAiATIB9QC1AMAAHQGbAQgCOQIGAm4BqADe/yb/r/6L/of+Yf77/VD9fvzY+6D71Pte/CX9/f2n/gH/If8r/1f/z/+KAFwBCgJxAnQCAwJNAaAAKADt/+P/7v/W/4D/+f5v/if+Nv6b/kf/FADYAGUBngGdAaUB6AFzAisD0gM4BFIECgReA4gCvgErAeIAzwC9AHEA8v9Q/6H+GP7c/er9Lv6Z/gf/PP8t/wX/7/79/jH/hP/I/9f/sv9M/6/+B/6R/Wv9fv2w/eb97/3B/Yb9YP1g/Z39J/7e/pX/LgCQALQAtgC/APAAOQF2AakBwwGjAVEB9gCrAIoAnwDRAP4AFAENAfEA2QDgABoBgQEEApEC+QIXA+8ClgI3Av0B4gG+AYYBPgHSADUAf//U/k/+Av7v/fj9/P3t/c/9u/3F/QD+af7j/lb/q//H/63/fP9M/y//Mv9K/0//L//v/on+C/6g/XP9kP3h/Uf+rP4B/0f/jP/d/0UA0gB9ASICngLgAukCzgKwAqICpAKrApsCXwL3AWMBvgAqAMD/mP+u/9f/8f/x/9P/qv+e/7r/+v9cANcAOwFrAWQBLwHfAJIAXgBDACUA6P+I/wj/av7S/WT9KP0n/Vf9jP2p/a39n/2d/b/9Df6I/iT/vf8uAGUAYQBBAB8ADgAeAEwAfgCXAI0AXgASAMz/qv+4//j/UQCjAN0A9wACARUBNQFtAc4BQwKeAr4CmgI+As8BcQEvAQkB9gDeAKkASwDN/0L/0f6V/p3+2P4n/27/lv+Z/5T/nv+x/97/MgCGALAArgCBACoAxf9z/0L/Jv8U/wT/1/5//hv+zP2e/Z792/0+/qP++P4u/0j/ZP+Z/+P/QwC7ADQBigGrAaMBgwFeAT4BKAEYAQMB4QCmAFIA/f+9/5j/lf+x/9b/+P8MABQAHwA0AFgAkgDcACEBVgFqAVQBJQH1AMkAoAB7AFMAHQDW/4L/J//L/o3+cf5h/lv+Zf5r/mz+hP6+/gz/Zf/N/y4AcwClAMMAwQCtAKQAnwCMAGMAJwDV/2//Ev/H/pL+fP6F/p3+s/7M/vL+Lf+E//X/cwDwAF0BrQHcAekB6AHnAeMB4wHbAbgBbQEBAYYACwCi/1z/O/80/zv/Qf87/zH/N/9f/6P/AwBtAM0AEgE1ATUBGgH9AOgA1gDGAKcAWgDe/1L/y/5W/gj+7f36/Rn+QP5a/mL+av6b/vj+b/8AAJkAGQFgAXcBbAFIASMBGQEXAQUB2gCIABEAif8R/8P+of6u/uD+Gv8//0v/S/9Q/3r/1v9TAN0AZQHHAe0B2gGhAWkBQQE3AUEBOgENAbMALwCY/xH/tP6L/pL+tf7V/uD+2/7L/sv++f5b/9z/WgDKAA0BEwHsALsAjwB0AH4AmwCbAG0AGwCs/zP/2f64/sP+6/4r/2H/cP9n/2D/a/+V//P/cgDoAD4BaAFdAS0B/QDnAO4AAAETAQkBzgBoAOn/af8J/+f+AP8u/1z/ef9x/0z/Nf9L/5H//P93AO0APAFSAS8B6gCgAHEAbgB6AHcAVwAHAJf/Jf/E/o3+kf7G/gv/Rf9l/1r/PP84/13/qf8TAIkA6AATAQ0B4QCjAHkAdQCMAKQArACXAFMA6/+D/zT/D/8h/1v/lf+z/7v/r/+Z/5T/vP8OAHQA2gAmAT4BHwHgAKAAcwBkAHEAfgBrADQA5P+C/yf/8P7o/gv/Q/90/5D/j/93/2f/cv+g//D/SgCVALgAsgCLAFoANQApADsAXwB5AHIARwD+/6v/bf9c/3D/m//N/+n/5//T/7n/q//A/wAAUgCaAMsA0wCsAHMAQwAwADYATQBnAGkARgAJALz/c/9H/0b/cP+p/9f/7f/i/8T/pf+c/7n/8f80AG0AfwBqADgAAADg/9z/+v8sAE0ASAAhAOP/mv9n/2P/hf+7/+//CwAGAOP/vP+n/7L/4v8qAHAAlwCbAHsARAAVAAgAFwA3AF0AcQBbACUA6P+v/5D/ov/Z/xYAPQBHADIA/v/L/77/1P8AADoAcgCBAGAAJgDp/73/s//S/wgANABBADEAAgDA/4z/e/+P/8D/8v8JAPz/zP+X/3b/eP+c/9v/IwBXAFsAOwAKANv/yv/j/xkAVQB0AG0APgD4/7v/n/+r/9v/GwBNAFcAQQAUAN7/wP/Q/wAAQAB6AI8AdAA3APj/y//E/+7/MwBvAIUAdAA9AOn/o/+U/7T/7f8uAFoAVAAcAM//jP9o/3b/tP8DAEEAUgA2APr/tv+T/57/0P8TAEoAWAA3APD/mv9d/1f/hf/R/x0ASQA9AAMAuP+A/3n/qf8BAF4AmwCgAHAAHwDU/7j/2f8hAHcAtgC7AIQAJwDN/5n/nv/a/yoAbQCHAGIADQC0/3j/dv+z/xcAeACnAJsAWQD5/6T/h/+s//j/TACFAH0AMQDJ/2j/L/89/4r/7P84AE8AJgDT/37/T/9W/5f//P9ZAIMAbwAiAMj/e/9t/6T/AwBmAKUAoQBYAPz/k/8=\" type=\"audio/wav\" />\n",
              "                    Your browser does not support the audio element.\n",
              "                </audio>\n",
              "              "
            ],
            "text/plain": [
              "<IPython.lib.display.Audio object>"
            ]
          },
          "metadata": {
            "tags": []
          },
          "execution_count": 31
        }
      ]
    },
    {
      "cell_type": "markdown",
      "metadata": {
        "id": "1MaL9J2dNVtG"
      },
      "source": [
        "It can be heard, that the speakers change along with their speaking rate, accent, and background environment, etc. Overall, the recordings sound acceptably clear though, which is to be expected from a crowd-sourced read speech corpus.\n",
        "\n",
        "Let's do a final check that the data is correctly prepared, by printing the shape of the speech input, its transcription, and the corresponding sampling rate.\n",
        "\n",
        "**Note**: *You can click the following cell a couple of times to verify multiple samples.*"
      ]
    },
    {
      "cell_type": "code",
      "metadata": {
        "colab": {
          "base_uri": "https://localhost:8080/"
        },
        "id": "1Po2g7YPuRTx",
        "outputId": "f1d7e9bf-6a86-44e9-fac9-db930e9ef441"
      },
      "source": [
        "rand_int = random.randint(0, len(common_voice_train))\n",
        "\n",
        "print(\"Target text:\", common_voice_train[rand_int][\"target_text\"])\n",
        "print(\"Input array shape:\", np.asarray(common_voice_train[rand_int][\"speech\"]).shape)\n",
        "print(\"Sampling rate:\", common_voice_train[rand_int][\"sampling_rate\"])"
      ],
      "execution_count": 32,
      "outputs": [
        {
          "output_type": "stream",
          "text": [
            "Target text: saya pikir tom mudah disukai \n",
            "Input array shape: (54912,)\n",
            "Sampling rate: 16000\n"
          ],
          "name": "stdout"
        }
      ]
    },
    {
      "cell_type": "markdown",
      "metadata": {
        "id": "M9teZcSwOBJ4"
      },
      "source": [
        "Good! Everything looks fine - the data is a 1-dimensional array, the sampling rate always corresponds to 16kHz, and the target text is normalized."
      ]
    },
    {
      "cell_type": "markdown",
      "metadata": {
        "id": "k3Pbn5WvOYZF"
      },
      "source": [
        "Finally, we can process the dataset to the format expected by the model for training. We will again make use of the `map(...)` function.\n",
        "\n",
        "First, we check that the data samples have the same sampling rate of 16kHz.\n",
        "Second, we extract the `input_values` from the loaded audio file. In our case, this includes only normalization, but for other speech models, this step could correspond to extracting, *e.g.* [Log-Mel features](https://en.wikipedia.org/wiki/Mel-frequency_cepstrum). \n",
        "Third, we encode the transcriptions to label ids.\n",
        "\n",
        "**Note**: This mapping function is a good example of how the `Wav2Vec2Processor` class should be used. In \"normal\" context, calling `processor(...)` is redirected to `Wav2Vec2FeatureExtractor`'s call method. When wrapping the processor into the `as_target_processor` context, however, the same method is redirected to `Wav2Vec2CTCTokenizer`'s call method.\n",
        "For more information please check the [docs](https://huggingface.co/transformers/master/model_doc/wav2vec2.html#transformers.Wav2Vec2Processor.__call__)."
      ]
    },
    {
      "cell_type": "code",
      "metadata": {
        "id": "eJY7I0XAwe9p"
      },
      "source": [
        "def prepare_dataset(batch):\n",
        "    # check that all files have the correct sampling rate\n",
        "    assert (\n",
        "        len(set(batch[\"sampling_rate\"])) == 1\n",
        "    ), f\"Make sure all inputs have the same sampling rate of {processor.feature_extractor.sampling_rate}.\"\n",
        "\n",
        "    batch[\"input_values\"] = processor(batch[\"speech\"], sampling_rate=batch[\"sampling_rate\"][0]).input_values\n",
        "    \n",
        "    with processor.as_target_processor():\n",
        "        batch[\"labels\"] = processor(batch[\"target_text\"]).input_ids\n",
        "    return batch"
      ],
      "execution_count": 33,
      "outputs": []
    },
    {
      "cell_type": "code",
      "metadata": {
        "colab": {
          "base_uri": "https://localhost:8080/",
          "height": 504,
          "referenced_widgets": [
            "b2500433b2cf40b9bbd43a6b5d0181c7",
            "4c85ebcf926a483ca84008e47a926877",
            "c3e30f5ea6664da49239f561e3b1cd28",
            "137f53efda4b40af8294521253a2d0fa",
            "42233356d3ce4c8f977473586b97bec9",
            "442b68a86a94401fad8a9de17a076190",
            "5a797a493fb746888918f9a72fac24a9",
            "85ee2e08493949eb9dfc18d81e06ed2d",
            "d49027079cd1477ca31551f70902ae64",
            "7104cb34fcbc422c839bdee2f7c7c54b",
            "b8dc971d243f4de4891ac5304afab77d",
            "705d8be1ccf349e1a3495a1a7405fb86",
            "ae74507217824cfc9bc599d9a42d926e",
            "eeacafda462b44d4839b5c479d7d0c09",
            "30bb2dfda3e44f73b32464f4cb34c3a7",
            "917d56baf5a04732bab9125dda01cc41",
            "4726263d31d24b67b254c48f128ffd38",
            "e1f4f87abd6f419aae66e15da868febd",
            "7e17874d8baf45d099acdba6c8c183e6",
            "fece00a9a90041b8aa964f2b55c05dd4",
            "188a72ddc89948cdab487c2c80e01424",
            "2f5c906c21fe4eac8dd1289a6e85f1f1",
            "891eb255a31d498786b05b691ba605a8",
            "70128e09d78140b18459f4de6b7bb830",
            "13b5f6d7a8ed4e8ba560feaef9257cb3",
            "f6463a45418e4c588335203ef65af942",
            "217ed7da95a04e86a8fc17fa1bc44fbe",
            "424a2801eab9461ab5fce875ba282ffe",
            "1440874225274969aa76ca8dddf0dc11",
            "d48b2f53dfa144b992a90f759e326b5d",
            "229ec99e9e4d499788f4031693781119",
            "21ae57d249ce4891b3ff6c27c22d5800",
            "7d808f96315a4c31a8ae9ed75bbf154e",
            "92c76b5992a445de8370114e189a4671",
            "9dc5b488fb0a4e979b6d7f21a75f431a",
            "7731aa630aed4ca8be3b5fc3160d2cea",
            "3dc5e9ce08b6413c823467b30dcafaaa",
            "e2fbd22f549047b882f9ca2c40531ed6",
            "563b82c6c35b414f8b68e5a0322e87e2",
            "159b316af2d940d0b683741e04bb76db",
            "5cc169f860184bcfb7766d127238de09",
            "a779e5ffd0294c56bb3f682fb0a2eda6",
            "a6fc853b52bb4af6a33880ea4e5605de",
            "f14db590657243d8aef4bc63cf5873a4",
            "7f718348e8fc486d8688a10f1affe288",
            "493c2fba677e46e79e8a31bd3ecdc9e6",
            "42d49008d468457eab9dcc42cfa28092",
            "faa9fc6846af412db95986b38c794a5a",
            "0ed9825441a54e659ff8cf5807e7b185",
            "b1777204775949849e7c1ba0778c659b",
            "a9d64540c0e4407daed6ded875df1f78",
            "fa64eb1926ec4751814db7438dc1cd7c",
            "f60a22ce7b964eb5a9dbcecf6101eed2",
            "da150de103d24ceb8a3db31ba8b86a15",
            "0d61b07b0b7f419e8f0074bd2b5f20b1",
            "b7e51cbb42ce40b2af18006cb69ee72d",
            "78fc36d27c8742adb43cdd0227054284",
            "4e77dff32bf444239283a0c2e5f4925d",
            "4caa12db8d714ef6b54c93e871df26aa",
            "6d3e670a17fc48e7aa9ac7230817b877",
            "c824cb78ca814ea182157da5b68a7ad4",
            "950432ddd6db477cbb27375d0b23bfd8",
            "829c193bac2b4dab9477f3f4b0a4adcc",
            "ec8b5fa451754e448b31ded4ca9acfc6"
          ]
        },
        "id": "-np9xYK-wl8q",
        "outputId": "28e18c58-ed8e-45c5-c855-9f6b16de5ef5"
      },
      "source": [
        "common_voice_train = common_voice_train.map(prepare_dataset, remove_columns=common_voice_train.column_names, batch_size=8, num_proc=4, batched=True)\n",
        "common_voice_test = common_voice_test.map(prepare_dataset, remove_columns=common_voice_test.column_names, batch_size=8, num_proc=4, batched=True)"
      ],
      "execution_count": 34,
      "outputs": [
        {
          "output_type": "stream",
          "text": [
            "/usr/local/lib/python3.7/dist-packages/numpy/core/_asarray.py:83: VisibleDeprecationWarning: Creating an ndarray from ragged nested sequences (which is a list-or-tuple of lists-or-tuples-or ndarrays with different lengths or shapes) is deprecated. If you meant to do this, you must specify 'dtype=object' when creating the ndarray\n",
            "  return array(a, dtype, copy=False, order=order)\n"
          ],
          "name": "stderr"
        },
        {
          "output_type": "stream",
          "text": [
            "    "
          ],
          "name": "stdout"
        },
        {
          "output_type": "display_data",
          "data": {
            "application/vnd.jupyter.widget-view+json": {
              "model_id": "b2500433b2cf40b9bbd43a6b5d0181c7",
              "version_minor": 0,
              "version_major": 2
            },
            "text/plain": [
              "HBox(children=(FloatProgress(value=0.0, description='#0', max=124.0, style=ProgressStyle(description_width='in…"
            ]
          },
          "metadata": {
            "tags": []
          }
        },
        {
          "output_type": "display_data",
          "data": {
            "application/vnd.jupyter.widget-view+json": {
              "model_id": "d49027079cd1477ca31551f70902ae64",
              "version_minor": 0,
              "version_major": 2
            },
            "text/plain": [
              "HBox(children=(FloatProgress(value=0.0, description='#3', max=124.0, style=ProgressStyle(description_width='in…"
            ]
          },
          "metadata": {
            "tags": []
          }
        },
        {
          "output_type": "display_data",
          "data": {
            "application/vnd.jupyter.widget-view+json": {
              "model_id": "4726263d31d24b67b254c48f128ffd38",
              "version_minor": 0,
              "version_major": 2
            },
            "text/plain": [
              "HBox(children=(FloatProgress(value=0.0, description='#2', max=124.0, style=ProgressStyle(description_width='in…"
            ]
          },
          "metadata": {
            "tags": []
          }
        },
        {
          "output_type": "display_data",
          "data": {
            "application/vnd.jupyter.widget-view+json": {
              "model_id": "13b5f6d7a8ed4e8ba560feaef9257cb3",
              "version_minor": 0,
              "version_major": 2
            },
            "text/plain": [
              "HBox(children=(FloatProgress(value=0.0, description='#1', max=124.0, style=ProgressStyle(description_width='in…"
            ]
          },
          "metadata": {
            "tags": []
          }
        },
        {
          "output_type": "stream",
          "text": [
            "\n",
            "\n",
            "\n",
            "\n",
            "    "
          ],
          "name": "stdout"
        },
        {
          "output_type": "display_data",
          "data": {
            "application/vnd.jupyter.widget-view+json": {
              "model_id": "7d808f96315a4c31a8ae9ed75bbf154e",
              "version_minor": 0,
              "version_major": 2
            },
            "text/plain": [
              "HBox(children=(FloatProgress(value=0.0, description='#3', max=58.0, style=ProgressStyle(description_width='ini…"
            ]
          },
          "metadata": {
            "tags": []
          }
        },
        {
          "output_type": "display_data",
          "data": {
            "application/vnd.jupyter.widget-view+json": {
              "model_id": "5cc169f860184bcfb7766d127238de09",
              "version_minor": 0,
              "version_major": 2
            },
            "text/plain": [
              "HBox(children=(FloatProgress(value=0.0, description='#0', max=58.0, style=ProgressStyle(description_width='ini…"
            ]
          },
          "metadata": {
            "tags": []
          }
        },
        {
          "output_type": "display_data",
          "data": {
            "application/vnd.jupyter.widget-view+json": {
              "model_id": "0ed9825441a54e659ff8cf5807e7b185",
              "version_minor": 0,
              "version_major": 2
            },
            "text/plain": [
              "HBox(children=(FloatProgress(value=0.0, description='#2', max=58.0, style=ProgressStyle(description_width='ini…"
            ]
          },
          "metadata": {
            "tags": []
          }
        },
        {
          "output_type": "display_data",
          "data": {
            "application/vnd.jupyter.widget-view+json": {
              "model_id": "78fc36d27c8742adb43cdd0227054284",
              "version_minor": 0,
              "version_major": 2
            },
            "text/plain": [
              "HBox(children=(FloatProgress(value=0.0, description='#1', max=58.0, style=ProgressStyle(description_width='ini…"
            ]
          },
          "metadata": {
            "tags": []
          }
        },
        {
          "output_type": "stream",
          "text": [
            "\n",
            "\n",
            "\n",
            "\n"
          ],
          "name": "stdout"
        }
      ]
    },
    {
      "cell_type": "markdown",
      "metadata": {
        "id": "gYlQkKVoRUos"
      },
      "source": [
        "## Training\n",
        "\n",
        "The data is processed so that we are ready to start setting up the training pipeline. We will make use of 🤗's [Trainer](https://huggingface.co/transformers/master/main_classes/trainer.html?highlight=trainer) for which we essentially need to do the following:\n",
        "\n",
        "- Define a data collator. In contrast to most NLP models, XLSR-Wav2Vec2 has a much larger input length than output length. *E.g.*, a sample of input length 50000 has an output length of no more than 100. Given the large input sizes, it is much more efficient to pad the training batches dynamically meaning that all training samples should only be padded to the longest sample in their batch and not the overall longest sample. Therefore, fine-tuning XLSR-Wav2Vec2 requires a special padding data collator, which we will define below\n",
        "\n",
        "- Evaluation metric. During training, the model should be evaluated on the word error rate. We should define a `compute_metrics` function accordingly\n",
        "\n",
        "- Load a pretrained checkpoint. We need to load a pretrained checkpoint and configure it correctly for training.\n",
        "\n",
        "- Define the training configuration.\n",
        "\n",
        "After having fine-tuned the model, we will correctly evaluate it on the test data and verify that it has indeed learned to correctly transcribe speech."
      ]
    },
    {
      "cell_type": "markdown",
      "metadata": {
        "id": "Slk403unUS91"
      },
      "source": [
        "### Set-up Trainer\n",
        "\n",
        "Let's start by defining the data collator. The code for the data collator was copied from [this example](https://github.com/huggingface/transformers/blob/9a06b6b11bdfc42eea08fa91d0c737d1863c99e3/examples/research_projects/wav2vec2/run_asr.py#L81).\n",
        "\n",
        "Without going into too many details, in contrast to the common data collators, this data collator treats the `input_values` and `labels` differently and thus applies to separate padding functions on them (again making use of XLSR-Wav2Vec2's context manager). This is necessary because in speech input and output are of different modalities meaning that they should not be treated by the same padding function.\n",
        "Analogous to the common data collators, the padding tokens in the labels with `-100` so that those tokens are **not** taken into account when computing the loss."
      ]
    },
    {
      "cell_type": "code",
      "metadata": {
        "id": "tborvC9hx88e"
      },
      "source": [
        "import torch\n",
        "\n",
        "from dataclasses import dataclass, field\n",
        "from typing import Any, Dict, List, Optional, Union\n",
        "\n",
        "@dataclass\n",
        "class DataCollatorCTCWithPadding:\n",
        "    \"\"\"\n",
        "    Data collator that will dynamically pad the inputs received.\n",
        "    Args:\n",
        "        processor (:class:`~transformers.Wav2Vec2Processor`)\n",
        "            The processor used for proccessing the data.\n",
        "        padding (:obj:`bool`, :obj:`str` or :class:`~transformers.tokenization_utils_base.PaddingStrategy`, `optional`, defaults to :obj:`True`):\n",
        "            Select a strategy to pad the returned sequences (according to the model's padding side and padding index)\n",
        "            among:\n",
        "            * :obj:`True` or :obj:`'longest'`: Pad to the longest sequence in the batch (or no padding if only a single\n",
        "              sequence if provided).\n",
        "            * :obj:`'max_length'`: Pad to a maximum length specified with the argument :obj:`max_length` or to the\n",
        "              maximum acceptable input length for the model if that argument is not provided.\n",
        "            * :obj:`False` or :obj:`'do_not_pad'` (default): No padding (i.e., can output a batch with sequences of\n",
        "              different lengths).\n",
        "        max_length (:obj:`int`, `optional`):\n",
        "            Maximum length of the ``input_values`` of the returned list and optionally padding length (see above).\n",
        "        max_length_labels (:obj:`int`, `optional`):\n",
        "            Maximum length of the ``labels`` returned list and optionally padding length (see above).\n",
        "        pad_to_multiple_of (:obj:`int`, `optional`):\n",
        "            If set will pad the sequence to a multiple of the provided value.\n",
        "            This is especially useful to enable the use of Tensor Cores on NVIDIA hardware with compute capability >=\n",
        "            7.5 (Volta).\n",
        "    \"\"\"\n",
        "\n",
        "    processor: Wav2Vec2Processor\n",
        "    padding: Union[bool, str] = True\n",
        "    max_length: Optional[int] = None\n",
        "    max_length_labels: Optional[int] = None\n",
        "    pad_to_multiple_of: Optional[int] = None\n",
        "    pad_to_multiple_of_labels: Optional[int] = None\n",
        "\n",
        "    def __call__(self, features: List[Dict[str, Union[List[int], torch.Tensor]]]) -> Dict[str, torch.Tensor]:\n",
        "        # split inputs and labels since they have to be of different lenghts and need\n",
        "        # different padding methods\n",
        "        input_features = [{\"input_values\": feature[\"input_values\"]} for feature in features]\n",
        "        label_features = [{\"input_ids\": feature[\"labels\"]} for feature in features]\n",
        "\n",
        "        batch = self.processor.pad(\n",
        "            input_features,\n",
        "            padding=self.padding,\n",
        "            max_length=self.max_length,\n",
        "            pad_to_multiple_of=self.pad_to_multiple_of,\n",
        "            return_tensors=\"pt\",\n",
        "        )\n",
        "        with self.processor.as_target_processor():\n",
        "            labels_batch = self.processor.pad(\n",
        "                label_features,\n",
        "                padding=self.padding,\n",
        "                max_length=self.max_length_labels,\n",
        "                pad_to_multiple_of=self.pad_to_multiple_of_labels,\n",
        "                return_tensors=\"pt\",\n",
        "            )\n",
        "\n",
        "        # replace padding with -100 to ignore loss correctly\n",
        "        labels = labels_batch[\"input_ids\"].masked_fill(labels_batch.attention_mask.ne(1), -100)\n",
        "\n",
        "        batch[\"labels\"] = labels\n",
        "\n",
        "        return batch"
      ],
      "execution_count": 35,
      "outputs": []
    },
    {
      "cell_type": "code",
      "metadata": {
        "id": "lbQf5GuZyQ4_"
      },
      "source": [
        "data_collator = DataCollatorCTCWithPadding(processor=processor, padding=True)"
      ],
      "execution_count": 36,
      "outputs": []
    },
    {
      "cell_type": "markdown",
      "metadata": {
        "id": "xO-Zdj-5cxXp"
      },
      "source": [
        "Next, the evaluation metric is defined. As mentioned earlier, the \n",
        "predominant metric in ASR is the word error rate (WER), hence we will use it in this notebook as well."
      ]
    },
    {
      "cell_type": "code",
      "metadata": {
        "id": "9Xsux2gmyXso",
        "colab": {
          "base_uri": "https://localhost:8080/",
          "height": 66,
          "referenced_widgets": [
            "c241b1df1dc14ff48c95d667cec7b695",
            "a9ee6d4a9c3844bd85a2c87bdcc12136",
            "9bb2fbf494c64c1690e03685fbad47de",
            "f9fe5fba22ed4372b02115347b3023f2",
            "34ae5f87916b4670bda39ad02c51365c",
            "aafd4d5992a34951b09e8ac1e62bf3cd",
            "2d085b261c4a4cd992628208770df2b7",
            "6cddabc85e7443d280818bfe792f86c9"
          ]
        },
        "outputId": "4c1a8868-b253-429d-979d-043bd55bb0ec"
      },
      "source": [
        "wer_metric = load_metric(\"wer\")"
      ],
      "execution_count": 37,
      "outputs": [
        {
          "output_type": "display_data",
          "data": {
            "application/vnd.jupyter.widget-view+json": {
              "model_id": "c241b1df1dc14ff48c95d667cec7b695",
              "version_minor": 0,
              "version_major": 2
            },
            "text/plain": [
              "HBox(children=(FloatProgress(value=0.0, description='Downloading', max=1764.0, style=ProgressStyle(description…"
            ]
          },
          "metadata": {
            "tags": []
          }
        },
        {
          "output_type": "stream",
          "text": [
            "\n"
          ],
          "name": "stdout"
        }
      ]
    },
    {
      "cell_type": "markdown",
      "metadata": {
        "id": "E1qZU5p-deqB"
      },
      "source": [
        "The model will return a sequence of logit vectors:\n",
        "$\\mathbf{y}_1, \\ldots, \\mathbf{y}_m$ with $\\mathbf{y}_1 = f_{\\theta}(x_1, \\ldots, x_n)[0]$ and $n >> m$.\n",
        "\n",
        "A logit vector $\\mathbf{y}_1$ contains the log-odds for each word in the vocabulary we defined earlier, thus $\\text{len}(\\mathbf{y}_i) =$ `config.vocab_size`. We are interested in the most likely prediction of the model and thus take the `argmax(...)` of the logits. Also, we transform the encoded labels back to the original string by replacing `-100` with the `pad_token_id` and decoding the ids while making sure that consecutive tokens are **not** grouped to the same token in CTC style ${}^1$."
      ]
    },
    {
      "cell_type": "code",
      "metadata": {
        "id": "1XZ-kjweyTy_"
      },
      "source": [
        "def compute_metrics(pred):\n",
        "    pred_logits = pred.predictions\n",
        "    pred_ids = np.argmax(pred_logits, axis=-1)\n",
        "\n",
        "    pred.label_ids[pred.label_ids == -100] = processor.tokenizer.pad_token_id\n",
        "\n",
        "    pred_str = processor.batch_decode(pred_ids)\n",
        "    # we do not want to group tokens when computing the metrics\n",
        "    label_str = processor.batch_decode(pred.label_ids, group_tokens=False)\n",
        "\n",
        "    wer = wer_metric.compute(predictions=pred_str, references=label_str)\n",
        "\n",
        "    return {\"wer\": wer}"
      ],
      "execution_count": 38,
      "outputs": []
    },
    {
      "cell_type": "markdown",
      "metadata": {
        "id": "Xmgrx4bRwLIH"
      },
      "source": [
        "Now, we can load the pretrained `XLSR-Wav2Vec2` checkpoint. The tokenizer's `pad_token_id` must be to define the model's `pad_token_id` or in the case of `Wav2Vec2ForCTC` also CTC's *blank token* ${}^2$. To save GPU memory, we enable PyTorch's [gradient checkpointing](https://pytorch.org/docs/stable/checkpoint.html) and also set the loss reduction to \"*mean*\".\n",
        "\n",
        "Because the dataset is quite small (~6h of training data) and because Common Voice is quite noisy, fine-tuning Facebook's [wav2vec2-large-xlsr-53 checkpoint](https://huggingface.co/facebook/wav2vec2-large-xlsr-53) seems to require some hyper-parameter tuning. Therefore, I had to play around a bit with different values for dropout, [SpecAugment](https://arxiv.org/abs/1904.08779)'s masking dropout rate, layer dropout, and the learning rate until training seemed to be stable enough. \n",
        "\n",
        "**Note**: When using this notebook to train XLSR-Wav2Vec2 on another language of Common Voice those hyper-parameter settings might not work very well. Feel free to adapt those depending on your use case. "
      ]
    },
    {
      "cell_type": "code",
      "metadata": {
        "id": "eAKjn5imOzAV"
      },
      "source": [
        "from transformers import Wav2Vec2ForCTC\n"
      ],
      "execution_count": 9,
      "outputs": []
    },
    {
      "cell_type": "code",
      "metadata": {
        "colab": {
          "base_uri": "https://localhost:8080/",
          "height": 171,
          "referenced_widgets": [
            "77812df11600421db22b29d34f462727",
            "9481e0f2b88a4b968b7425cd91b342e1",
            "b92bb07c36da4c43bbbfa9f028dd8dc3",
            "b1e161798e2e4bd6b69df64bb86c4926",
            "5cbf9d4c4e464e478700f51cb258cb73",
            "534e6838f96a4f069db1c8f982208c5f",
            "3c1a4fc7fcb74354a55b4994e1f3e3a6",
            "9b7f62db4d634574bdc68dbe0f077d5c",
            "d6e544b487c84994b5832c16d56e4379",
            "1e66b53ec1034e27a33e82a067755b62",
            "522bd837e44740d6893ce4838198182c",
            "90bb6f0a4b0f4bc38f844262ae846258",
            "58fab64e1b754122818eab0b36122651",
            "ebe4830a968b4707b0845da033bb07fd",
            "61f4412c2bd74bccb951bcbb8f68ae1d",
            "bbd003ce0f97425eb5aedc896d264dca"
          ]
        },
        "id": "e7cqAWIayn6w",
        "outputId": "e2393d2d-1a0a-4a65-db0d-8f5e70ddf3e0"
      },
      "source": [
        "from transformers import Wav2Vec2ForCTC\n",
        "\n",
        "model = Wav2Vec2ForCTC.from_pretrained(\n",
        "    \"facebook/wav2vec2-large-xlsr-53\", \n",
        "    attention_dropout=0.1,\n",
        "    hidden_dropout=0.1,\n",
        "    feat_proj_dropout=0.0,\n",
        "    mask_time_prob=0.05,\n",
        "    layerdrop=0.1,\n",
        "    gradient_checkpointing=True, \n",
        "    ctc_loss_reduction=\"mean\", \n",
        "    pad_token_id=processor.tokenizer.pad_token_id,\n",
        "    vocab_size=len(processor.tokenizer)\n",
        ")"
      ],
      "execution_count": 39,
      "outputs": [
        {
          "output_type": "display_data",
          "data": {
            "application/vnd.jupyter.widget-view+json": {
              "model_id": "77812df11600421db22b29d34f462727",
              "version_minor": 0,
              "version_major": 2
            },
            "text/plain": [
              "HBox(children=(FloatProgress(value=0.0, description='Downloading', max=1451.0, style=ProgressStyle(description…"
            ]
          },
          "metadata": {
            "tags": []
          }
        },
        {
          "output_type": "stream",
          "text": [
            "\n"
          ],
          "name": "stdout"
        },
        {
          "output_type": "display_data",
          "data": {
            "application/vnd.jupyter.widget-view+json": {
              "model_id": "d6e544b487c84994b5832c16d56e4379",
              "version_minor": 0,
              "version_major": 2
            },
            "text/plain": [
              "HBox(children=(FloatProgress(value=0.0, description='Downloading', max=1261920069.0, style=ProgressStyle(descr…"
            ]
          },
          "metadata": {
            "tags": []
          }
        },
        {
          "output_type": "stream",
          "text": [
            "\n"
          ],
          "name": "stdout"
        },
        {
          "output_type": "stream",
          "text": [
            "Some weights of Wav2Vec2ForCTC were not initialized from the model checkpoint at facebook/wav2vec2-large-xlsr-53 and are newly initialized: ['lm_head.weight', 'lm_head.bias']\n",
            "You should probably TRAIN this model on a down-stream task to be able to use it for predictions and inference.\n"
          ],
          "name": "stderr"
        }
      ]
    },
    {
      "cell_type": "markdown",
      "metadata": {
        "id": "1DwR3XLSzGDD"
      },
      "source": [
        "The first component of XLSR-Wav2Vec2 consists of a stack of CNN layers that are used to extract acoustically meaningful - but contextually independent - features from the raw speech signal. This part of the model has already been sufficiently trained during pretraining and as stated in the [paper](https://arxiv.org/pdf/2006.13979.pdf) does not need to be fine-tuned anymore. \n",
        "Thus, we can set the `requires_grad` to `False` for all parameters of the *feature extraction* part."
      ]
    },
    {
      "cell_type": "code",
      "metadata": {
        "id": "oGI8zObtZ3V0"
      },
      "source": [
        "model.freeze_feature_extractor()"
      ],
      "execution_count": 40,
      "outputs": []
    },
    {
      "cell_type": "markdown",
      "metadata": {
        "id": "lD4aGhQM0K-D"
      },
      "source": [
        "In a final step, we define all parameters related to training. \n",
        "To give more explanation on some of the parameters:\n",
        "- `group_by_length` makes training more efficient by grouping training samples of similar input length into one batch. This can significantly speed up training time by heavily reducing the overall number of useless padding tokens that are passed through the model\n",
        "- `learning_rate` and `weight_decay` were heuristically tuned until fine-tuning has become stable. Note that those parameters strongly depend on the Common Voice dataset and might be suboptimal for other speech datasets.\n",
        "\n",
        "For more explanations on other parameters, one can take a look at the [docs](https://huggingface.co/transformers/master/main_classes/trainer.html?highlight=trainer#trainingarguments).\n",
        "\n",
        "**Note**: If one wants to save the trained models in his/her google drive the commented-out `output_dir` can be used instead."
      ]
    },
    {
      "cell_type": "markdown",
      "metadata": {
        "id": "W6LMm-7wGau7"
      },
      "source": [
        ""
      ]
    },
    {
      "cell_type": "code",
      "metadata": {
        "id": "KbeKSV7uzGPP"
      },
      "source": [
        "from transformers import TrainingArguments\n",
        "\n",
        "training_args = TrainingArguments(\n",
        "  output_dir=\"/content/drive/MyDrive/wav2vec2-large-xlsr-indonesian-demo\",\n",
        "  # output_dir=\"./wav2vec2-large-xlsr-turkish-demo\",\n",
        "  group_by_length=True,\n",
        "  per_device_train_batch_size=16,\n",
        "  gradient_accumulation_steps=2,\n",
        "  evaluation_strategy=\"steps\",\n",
        "  num_train_epochs=30,\n",
        "  fp16=True,\n",
        "  save_steps=400,\n",
        "  eval_steps=400,\n",
        "  logging_steps=400,\n",
        "  learning_rate=3e-4,\n",
        "  warmup_steps=500,\n",
        "  save_total_limit=2,\n",
        ")"
      ],
      "execution_count": 41,
      "outputs": []
    },
    {
      "cell_type": "markdown",
      "metadata": {
        "id": "OsW-WZcL1ZtN"
      },
      "source": [
        "Now, all instances can be passed to Trainer and we are ready to start training!"
      ]
    },
    {
      "cell_type": "code",
      "metadata": {
        "id": "rY7vBmFCPFgC"
      },
      "source": [
        "from transformers import Trainer\n",
        "\n",
        "trainer = Trainer(\n",
        "    model=model,\n",
        "    data_collator=data_collator,\n",
        "    args=training_args,\n",
        "    compute_metrics=compute_metrics,\n",
        "    train_dataset=common_voice_train,\n",
        "    eval_dataset=common_voice_test,\n",
        "    tokenizer=processor.feature_extractor,\n",
        ")"
      ],
      "execution_count": 42,
      "outputs": []
    },
    {
      "cell_type": "markdown",
      "metadata": {
        "id": "UoXBx1JAA0DX"
      },
      "source": [
        "\n",
        "\n",
        "---\n",
        "\n",
        "${}^1$ To allow models to become independent of the speaker rate, in CTC, consecutive tokens that are identical are simply grouped as a single token. However, the encoded labels should not be grouped when decoding since they don't correspond to the predicted tokens of the model, which is why the `group_tokens=False` parameter has to be passed. If we wouldn't pass this parameter a word like `\"hello\"` would incorrectly be encoded, and decoded as `\"helo\"`.\n",
        "\n",
        "${}^2$ The blank token allows the model to predict a word, such as `\"hello\"` by forcing it to insert the blank token between the two l's. A CTC-conform prediction of `\"hello\"` of our model would be `[PAD] [PAD] \"h\" \"e\" \"e\" \"l\" \"l\" [PAD] \"l\" \"o\" \"o\" [PAD]`."
      ]
    },
    {
      "cell_type": "markdown",
      "metadata": {
        "id": "rpvZHM1xReIW"
      },
      "source": [
        "### Training"
      ]
    },
    {
      "cell_type": "markdown",
      "metadata": {
        "id": "j-3oKSzZ1hGq"
      },
      "source": [
        "Training will take between 180 and 240 minutes depending on the GPU allocated to this notebook. While the trained model yields somewhat satisfying results on *Common Voice*'s test data of Turkish, it is by no means an optimally fine-tuned model. The purpose of this notebook is to demonstrate how XLSR-Wav2Vec2's [checkpoint](https://huggingface.co/facebook/wav2vec2-large-xlsr-53) can be fine-tuned on a low-resource ASR dataset.\n",
        "\n",
        "In case you want to use this google colab to fine-tune your model, you should make sure that your training doesn't stop due to inactivity. A simple hack to prevent this is to paste the following code into the console of this tab (*right mouse click -> inspect -> Console tab and insert code*)."
      ]
    },
    {
      "cell_type": "markdown",
      "metadata": {
        "id": "VYYAvgkW4P0m"
      },
      "source": [
        "```javascript\n",
        "function ConnectButton(){\n",
        "    console.log(\"Connect pushed\"); \n",
        "    document.querySelector(\"#top-toolbar > colab-connect-button\").shadowRoot.querySelector(\"#connect\").click() \n",
        "}\n",
        "setInterval(ConnectButton,60000);\n",
        "```"
      ]
    },
    {
      "cell_type": "code",
      "metadata": {
        "id": "_UEjJqGsQw24",
        "colab": {
          "base_uri": "https://localhost:8080/",
          "height": 426
        },
        "outputId": "75f9d3b6-905e-4fe2-efa3-469cfbf96774"
      },
      "source": [
        "trainer.train()"
      ],
      "execution_count": 43,
      "outputs": [
        {
          "output_type": "stream",
          "text": [
            "/usr/local/lib/python3.7/dist-packages/torch/optim/lr_scheduler.py:134: UserWarning: Detected call of `lr_scheduler.step()` before `optimizer.step()`. In PyTorch 1.1.0 and later, you should call them in the opposite order: `optimizer.step()` before `lr_scheduler.step()`.  Failure to do this will result in PyTorch skipping the first value of the learning rate schedule. See more details at https://pytorch.org/docs/stable/optim.html#how-to-adjust-learning-rate\n",
            "  \"https://pytorch.org/docs/stable/optim.html#how-to-adjust-learning-rate\", UserWarning)\n"
          ],
          "name": "stderr"
        },
        {
          "output_type": "display_data",
          "data": {
            "text/html": [
              "\n",
              "    <div>\n",
              "        <style>\n",
              "            /* Turns off some styling */\n",
              "            progress {\n",
              "                /* gets rid of default border in Firefox and Opera. */\n",
              "                border: none;\n",
              "                /* Needs to be in here for Safari polyfill so background images work as expected. */\n",
              "                background-size: auto;\n",
              "            }\n",
              "        </style>\n",
              "      \n",
              "      <progress value='3720' max='3720' style='width:300px; height:20px; vertical-align: middle;'></progress>\n",
              "      [3720/3720 5:31:19, Epoch 30/30]\n",
              "    </div>\n",
              "    <table border=\"1\" class=\"dataframe\">\n",
              "  <thead>\n",
              "    <tr style=\"text-align: left;\">\n",
              "      <th>Step</th>\n",
              "      <th>Training Loss</th>\n",
              "      <th>Validation Loss</th>\n",
              "      <th>Wer</th>\n",
              "      <th>Runtime</th>\n",
              "      <th>Samples Per Second</th>\n",
              "    </tr>\n",
              "  </thead>\n",
              "  <tbody>\n",
              "    <tr>\n",
              "      <td>400</td>\n",
              "      <td>4.679700</td>\n",
              "      <td>2.664672</td>\n",
              "      <td>1.000000</td>\n",
              "      <td>210.501900</td>\n",
              "      <td>8.760000</td>\n",
              "    </tr>\n",
              "    <tr>\n",
              "      <td>800</td>\n",
              "      <td>0.805100</td>\n",
              "      <td>0.447360</td>\n",
              "      <td>0.545683</td>\n",
              "      <td>213.244200</td>\n",
              "      <td>8.647000</td>\n",
              "    </tr>\n",
              "    <tr>\n",
              "      <td>1200</td>\n",
              "      <td>0.222800</td>\n",
              "      <td>0.412693</td>\n",
              "      <td>0.485829</td>\n",
              "      <td>210.718400</td>\n",
              "      <td>8.751000</td>\n",
              "    </tr>\n",
              "    <tr>\n",
              "      <td>1600</td>\n",
              "      <td>0.145600</td>\n",
              "      <td>0.417399</td>\n",
              "      <td>0.452825</td>\n",
              "      <td>214.008700</td>\n",
              "      <td>8.616000</td>\n",
              "    </tr>\n",
              "    <tr>\n",
              "      <td>2000</td>\n",
              "      <td>0.103100</td>\n",
              "      <td>0.421151</td>\n",
              "      <td>0.453291</td>\n",
              "      <td>212.262200</td>\n",
              "      <td>8.687000</td>\n",
              "    </tr>\n",
              "    <tr>\n",
              "      <td>2400</td>\n",
              "      <td>0.083000</td>\n",
              "      <td>0.443355</td>\n",
              "      <td>0.435111</td>\n",
              "      <td>211.684700</td>\n",
              "      <td>8.711000</td>\n",
              "    </tr>\n",
              "    <tr>\n",
              "      <td>2800</td>\n",
              "      <td>0.067000</td>\n",
              "      <td>0.452811</td>\n",
              "      <td>0.425788</td>\n",
              "      <td>212.813900</td>\n",
              "      <td>8.665000</td>\n",
              "    </tr>\n",
              "    <tr>\n",
              "      <td>3200</td>\n",
              "      <td>0.060900</td>\n",
              "      <td>0.467621</td>\n",
              "      <td>0.422618</td>\n",
              "      <td>202.040200</td>\n",
              "      <td>9.127000</td>\n",
              "    </tr>\n",
              "    <tr>\n",
              "      <td>3600</td>\n",
              "      <td>0.053600</td>\n",
              "      <td>0.457512</td>\n",
              "      <td>0.419914</td>\n",
              "      <td>205.249400</td>\n",
              "      <td>8.984000</td>\n",
              "    </tr>\n",
              "  </tbody>\n",
              "</table><p>"
            ],
            "text/plain": [
              "<IPython.core.display.HTML object>"
            ]
          },
          "metadata": {
            "tags": []
          }
        },
        {
          "output_type": "execute_result",
          "data": {
            "text/plain": [
              "TrainOutput(global_step=3720, training_loss=0.67040643717653, metrics={'train_runtime': 19889.1399, 'train_samples_per_second': 0.187, 'total_flos': 1.3695812364637118e+19, 'epoch': 30.0, 'init_mem_cpu_alloc_delta': 341906, 'init_mem_gpu_alloc_delta': 1261870080, 'init_mem_cpu_peaked_delta': 18306, 'init_mem_gpu_peaked_delta': 0, 'train_mem_cpu_alloc_delta': 1265746, 'train_mem_gpu_alloc_delta': 3783668224, 'train_mem_cpu_peaked_delta': 114308063, 'train_mem_gpu_peaked_delta': 3358008832})"
            ]
          },
          "metadata": {
            "tags": []
          },
          "execution_count": 43
        }
      ]
    },
    {
      "cell_type": "markdown",
      "metadata": {
        "id": "RHIVc44_fY2N"
      },
      "source": [
        "The training loss goes down and we can see that the WER on the test set also improves nicely. Because this notebook is just for demonstration purposes, we can stop here.\n",
        "\n",
        "The resulting model of this notebook has been saved to [`patrickvonplaten/wav2vec2-large-xlsr-turkish-demo`](https://huggingface.co/patrickvonplaten/wav2vec2-large-xlsr-turkish-demo)\n",
        "\n",
        "As a final check, let's load the model and verify that it indeed has learned to transcribe Turkish speech.\n",
        "\n",
        "Let's first load the pretrained checkpoint."
      ]
    },
    {
      "cell_type": "code",
      "metadata": {
        "id": "1xHheh_lPF5x"
      },
      "source": [
        "from transformers import Wav2Vec2ForCTC, Wav2Vec2Processor"
      ],
      "execution_count": 10,
      "outputs": []
    },
    {
      "cell_type": "code",
      "metadata": {
        "colab": {
          "base_uri": "https://localhost:8080/"
        },
        "id": "J8E8pxJ9hgZS",
        "outputId": "0ffaa1d2-e893-448c-cdd6-09b4f7144a5a"
      },
      "source": [
        "# model = Wav2Vec2ForCTC.from_pretrained(\"patrickvonplaten/wav2vec2-large-xlsr-turkish-demo\").to(\"cuda\")\n",
        "# processor = Wav2Vec2Processor.from_pretrained(\"patrickvonplaten/wav2vec2-large-xlsr-turkish-demo\")\n",
        "\n",
        "model = Wav2Vec2ForCTC.from_pretrained(\"/content/drive/MyDrive/wav2vec2-large-xlsr-indonesian-demo/checkpoint-3600\").to(\"cuda\")\n",
        "processor = Wav2Vec2Processor.from_pretrained(\"/content/drive/MyDrive/wav2vec2-large-xlsr-indonesian-demo\")"
      ],
      "execution_count": 12,
      "outputs": [
        {
          "output_type": "stream",
          "text": [
            "Special tokens have been added in the vocabulary, make sure the associated word embedding are fine-tuned or trained.\n"
          ],
          "name": "stderr"
        }
      ]
    },
    {
      "cell_type": "markdown",
      "metadata": {
        "id": "QsfGCQYSvY8C"
      },
      "source": [
        "Now, we will just take the first example of the test set, run it through the model and take the `argmax(...)` of the logits to retrieve the predicted token ids."
      ]
    },
    {
      "cell_type": "code",
      "metadata": {
        "colab": {
          "base_uri": "https://localhost:8080/",
          "height": 455
        },
        "id": "EA6fxk-jiHby",
        "outputId": "14c5033a-717c-4d22-df0f-67a01bf89e6d"
      },
      "source": [
        "input_dict = processor(common_voice_test[\"input_values\"][0], return_tensors=\"pt\", padding=True)\n",
        "\n",
        "logits = model(input_dict.input_values.to(\"cuda\")).logits\n",
        "\n",
        "pred_ids = torch.argmax(logits, dim=-1)[0]"
      ],
      "execution_count": 13,
      "outputs": [
        {
          "output_type": "error",
          "ename": "KeyError",
          "evalue": "ignored",
          "traceback": [
            "\u001b[0;31m---------------------------------------------------------------------------\u001b[0m",
            "\u001b[0;31mKeyError\u001b[0m                                  Traceback (most recent call last)",
            "\u001b[0;32m<ipython-input-13-426c99bb9caa>\u001b[0m in \u001b[0;36m<module>\u001b[0;34m()\u001b[0m\n\u001b[0;32m----> 1\u001b[0;31m \u001b[0minput_dict\u001b[0m \u001b[0;34m=\u001b[0m \u001b[0mprocessor\u001b[0m\u001b[0;34m(\u001b[0m\u001b[0mcommon_voice_test\u001b[0m\u001b[0;34m[\u001b[0m\u001b[0;34m\"input_values\"\u001b[0m\u001b[0;34m]\u001b[0m\u001b[0;34m[\u001b[0m\u001b[0;36m0\u001b[0m\u001b[0;34m]\u001b[0m\u001b[0;34m,\u001b[0m \u001b[0mreturn_tensors\u001b[0m\u001b[0;34m=\u001b[0m\u001b[0;34m\"pt\"\u001b[0m\u001b[0;34m,\u001b[0m \u001b[0mpadding\u001b[0m\u001b[0;34m=\u001b[0m\u001b[0;32mTrue\u001b[0m\u001b[0;34m)\u001b[0m\u001b[0;34m\u001b[0m\u001b[0;34m\u001b[0m\u001b[0m\n\u001b[0m\u001b[1;32m      2\u001b[0m \u001b[0;34m\u001b[0m\u001b[0m\n\u001b[1;32m      3\u001b[0m \u001b[0mlogits\u001b[0m \u001b[0;34m=\u001b[0m \u001b[0mmodel\u001b[0m\u001b[0;34m(\u001b[0m\u001b[0minput_dict\u001b[0m\u001b[0;34m.\u001b[0m\u001b[0minput_values\u001b[0m\u001b[0;34m.\u001b[0m\u001b[0mto\u001b[0m\u001b[0;34m(\u001b[0m\u001b[0;34m\"cuda\"\u001b[0m\u001b[0;34m)\u001b[0m\u001b[0;34m)\u001b[0m\u001b[0;34m.\u001b[0m\u001b[0mlogits\u001b[0m\u001b[0;34m\u001b[0m\u001b[0;34m\u001b[0m\u001b[0m\n\u001b[1;32m      4\u001b[0m \u001b[0;34m\u001b[0m\u001b[0m\n\u001b[1;32m      5\u001b[0m \u001b[0mpred_ids\u001b[0m \u001b[0;34m=\u001b[0m \u001b[0mtorch\u001b[0m\u001b[0;34m.\u001b[0m\u001b[0margmax\u001b[0m\u001b[0;34m(\u001b[0m\u001b[0mlogits\u001b[0m\u001b[0;34m,\u001b[0m \u001b[0mdim\u001b[0m\u001b[0;34m=\u001b[0m\u001b[0;34m-\u001b[0m\u001b[0;36m1\u001b[0m\u001b[0;34m)\u001b[0m\u001b[0;34m[\u001b[0m\u001b[0;36m0\u001b[0m\u001b[0;34m]\u001b[0m\u001b[0;34m\u001b[0m\u001b[0;34m\u001b[0m\u001b[0m\n",
            "\u001b[0;32m/usr/local/lib/python3.7/dist-packages/datasets/arrow_dataset.py\u001b[0m in \u001b[0;36m__getitem__\u001b[0;34m(self, key)\u001b[0m\n\u001b[1;32m   1128\u001b[0m             \u001b[0mformat_columns\u001b[0m\u001b[0;34m=\u001b[0m\u001b[0mself\u001b[0m\u001b[0;34m.\u001b[0m\u001b[0m_format_columns\u001b[0m\u001b[0;34m,\u001b[0m\u001b[0;34m\u001b[0m\u001b[0;34m\u001b[0m\u001b[0m\n\u001b[1;32m   1129\u001b[0m             \u001b[0moutput_all_columns\u001b[0m\u001b[0;34m=\u001b[0m\u001b[0mself\u001b[0m\u001b[0;34m.\u001b[0m\u001b[0m_output_all_columns\u001b[0m\u001b[0;34m,\u001b[0m\u001b[0;34m\u001b[0m\u001b[0;34m\u001b[0m\u001b[0m\n\u001b[0;32m-> 1130\u001b[0;31m             \u001b[0mformat_kwargs\u001b[0m\u001b[0;34m=\u001b[0m\u001b[0mself\u001b[0m\u001b[0;34m.\u001b[0m\u001b[0m_format_kwargs\u001b[0m\u001b[0;34m,\u001b[0m\u001b[0;34m\u001b[0m\u001b[0;34m\u001b[0m\u001b[0m\n\u001b[0m\u001b[1;32m   1131\u001b[0m         )\n\u001b[1;32m   1132\u001b[0m \u001b[0;34m\u001b[0m\u001b[0m\n",
            "\u001b[0;32m/usr/local/lib/python3.7/dist-packages/datasets/arrow_dataset.py\u001b[0m in \u001b[0;36m_getitem\u001b[0;34m(self, key, format_type, format_columns, output_all_columns, format_kwargs)\u001b[0m\n\u001b[1;32m   1112\u001b[0m         \u001b[0mformatter\u001b[0m \u001b[0;34m=\u001b[0m \u001b[0mget_formatter\u001b[0m\u001b[0;34m(\u001b[0m\u001b[0mformat_type\u001b[0m\u001b[0;34m,\u001b[0m \u001b[0;34m**\u001b[0m\u001b[0mformat_kwargs\u001b[0m\u001b[0;34m)\u001b[0m\u001b[0;34m\u001b[0m\u001b[0;34m\u001b[0m\u001b[0m\n\u001b[1;32m   1113\u001b[0m         pa_subtable = query_table(\n\u001b[0;32m-> 1114\u001b[0;31m             \u001b[0mself\u001b[0m\u001b[0;34m.\u001b[0m\u001b[0m_data\u001b[0m\u001b[0;34m,\u001b[0m \u001b[0mkey\u001b[0m\u001b[0;34m,\u001b[0m \u001b[0mindices\u001b[0m\u001b[0;34m=\u001b[0m\u001b[0mself\u001b[0m\u001b[0;34m.\u001b[0m\u001b[0m_indices\u001b[0m\u001b[0;34m.\u001b[0m\u001b[0mcolumn\u001b[0m\u001b[0;34m(\u001b[0m\u001b[0;36m0\u001b[0m\u001b[0;34m)\u001b[0m \u001b[0;32mif\u001b[0m \u001b[0mself\u001b[0m\u001b[0;34m.\u001b[0m\u001b[0m_indices\u001b[0m \u001b[0;32mis\u001b[0m \u001b[0;32mnot\u001b[0m \u001b[0;32mNone\u001b[0m \u001b[0;32melse\u001b[0m \u001b[0;32mNone\u001b[0m\u001b[0;34m\u001b[0m\u001b[0;34m\u001b[0m\u001b[0m\n\u001b[0m\u001b[1;32m   1115\u001b[0m         )\n\u001b[1;32m   1116\u001b[0m         formatted_output = format_table(\n",
            "\u001b[0;32m/usr/local/lib/python3.7/dist-packages/datasets/formatting/formatting.py\u001b[0m in \u001b[0;36mquery_table\u001b[0;34m(pa_table, key, indices)\u001b[0m\n\u001b[1;32m    328\u001b[0m         \u001b[0m_raise_bad_key_type\u001b[0m\u001b[0;34m(\u001b[0m\u001b[0mkey\u001b[0m\u001b[0;34m)\u001b[0m\u001b[0;34m\u001b[0m\u001b[0;34m\u001b[0m\u001b[0m\n\u001b[1;32m    329\u001b[0m     \u001b[0;32mif\u001b[0m \u001b[0misinstance\u001b[0m\u001b[0;34m(\u001b[0m\u001b[0mkey\u001b[0m\u001b[0;34m,\u001b[0m \u001b[0mstr\u001b[0m\u001b[0;34m)\u001b[0m\u001b[0;34m:\u001b[0m\u001b[0;34m\u001b[0m\u001b[0;34m\u001b[0m\u001b[0m\n\u001b[0;32m--> 330\u001b[0;31m         \u001b[0m_check_valid_column_key\u001b[0m\u001b[0;34m(\u001b[0m\u001b[0mkey\u001b[0m\u001b[0;34m,\u001b[0m \u001b[0mpa_table\u001b[0m\u001b[0;34m.\u001b[0m\u001b[0mcolumn_names\u001b[0m\u001b[0;34m)\u001b[0m\u001b[0;34m\u001b[0m\u001b[0;34m\u001b[0m\u001b[0m\n\u001b[0m\u001b[1;32m    331\u001b[0m     \u001b[0;32melse\u001b[0m\u001b[0;34m:\u001b[0m\u001b[0;34m\u001b[0m\u001b[0;34m\u001b[0m\u001b[0m\n\u001b[1;32m    332\u001b[0m         \u001b[0msize\u001b[0m \u001b[0;34m=\u001b[0m \u001b[0mlen\u001b[0m\u001b[0;34m(\u001b[0m\u001b[0mindices\u001b[0m\u001b[0;34m)\u001b[0m \u001b[0;32mif\u001b[0m \u001b[0mindices\u001b[0m \u001b[0;32mis\u001b[0m \u001b[0;32mnot\u001b[0m \u001b[0;32mNone\u001b[0m \u001b[0;32melse\u001b[0m \u001b[0mpa_table\u001b[0m\u001b[0;34m.\u001b[0m\u001b[0mnum_rows\u001b[0m\u001b[0;34m\u001b[0m\u001b[0;34m\u001b[0m\u001b[0m\n",
            "\u001b[0;32m/usr/local/lib/python3.7/dist-packages/datasets/formatting/formatting.py\u001b[0m in \u001b[0;36m_check_valid_column_key\u001b[0;34m(key, columns)\u001b[0m\n\u001b[1;32m    271\u001b[0m \u001b[0;32mdef\u001b[0m \u001b[0m_check_valid_column_key\u001b[0m\u001b[0;34m(\u001b[0m\u001b[0mkey\u001b[0m\u001b[0;34m:\u001b[0m \u001b[0mstr\u001b[0m\u001b[0;34m,\u001b[0m \u001b[0mcolumns\u001b[0m\u001b[0;34m:\u001b[0m \u001b[0mList\u001b[0m\u001b[0;34m[\u001b[0m\u001b[0mstr\u001b[0m\u001b[0;34m]\u001b[0m\u001b[0;34m)\u001b[0m \u001b[0;34m->\u001b[0m \u001b[0;32mNone\u001b[0m\u001b[0;34m:\u001b[0m\u001b[0;34m\u001b[0m\u001b[0;34m\u001b[0m\u001b[0m\n\u001b[1;32m    272\u001b[0m     \u001b[0;32mif\u001b[0m \u001b[0mkey\u001b[0m \u001b[0;32mnot\u001b[0m \u001b[0;32min\u001b[0m \u001b[0mcolumns\u001b[0m\u001b[0;34m:\u001b[0m\u001b[0;34m\u001b[0m\u001b[0;34m\u001b[0m\u001b[0m\n\u001b[0;32m--> 273\u001b[0;31m         \u001b[0;32mraise\u001b[0m \u001b[0mKeyError\u001b[0m\u001b[0;34m(\u001b[0m\u001b[0;34m\"Column {} not in the dataset. Current columns in the dataset: {}\"\u001b[0m\u001b[0;34m.\u001b[0m\u001b[0mformat\u001b[0m\u001b[0;34m(\u001b[0m\u001b[0mkey\u001b[0m\u001b[0;34m,\u001b[0m \u001b[0mcolumns\u001b[0m\u001b[0;34m)\u001b[0m\u001b[0;34m)\u001b[0m\u001b[0;34m\u001b[0m\u001b[0;34m\u001b[0m\u001b[0m\n\u001b[0m\u001b[1;32m    274\u001b[0m \u001b[0;34m\u001b[0m\u001b[0m\n\u001b[1;32m    275\u001b[0m \u001b[0;34m\u001b[0m\u001b[0m\n",
            "\u001b[0;31mKeyError\u001b[0m: \"Column input_values not in the dataset. Current columns in the dataset: ['path', 'sentence']\""
          ]
        }
      ]
    },
    {
      "cell_type": "markdown",
      "metadata": {
        "id": "1JDyVCMDvlYd"
      },
      "source": [
        "We adapted `common_voice_test` quite a bit so that the dataset instance does not contain the original sentence label anymore. Thus, we re-use the original dataset to get the label of the first example."
      ]
    },
    {
      "cell_type": "code",
      "metadata": {
        "id": "8dPE2GRIgtx-"
      },
      "source": [
        "common_voice_test_transcription = load_dataset(\"common_voice\", \"id\", data_dir=\"./cv-corpus-6.1-2020-12-11\", split=\"test\")"
      ],
      "execution_count": null,
      "outputs": []
    },
    {
      "cell_type": "markdown",
      "metadata": {
        "id": "ApS3MmN4v5P7"
      },
      "source": [
        "Finally, we can decode the example."
      ]
    },
    {
      "cell_type": "code",
      "metadata": {
        "id": "Phqxa1O1jMDk"
      },
      "source": [
        "print(\"Prediction:\")\n",
        "print(processor.decode(pred_ids))\n",
        "\n",
        "print(\"\\nReference:\")\n",
        "print(common_voice_test_transcription[\"sentence\"][0].lower())\n"
      ],
      "execution_count": null,
      "outputs": []
    },
    {
      "cell_type": "markdown",
      "metadata": {
        "id": "4n_8vhzUv7aw"
      },
      "source": [
        "Alright! The transcription can definitely be recognized from our prediction, but it is far from being perfect. Training the model a bit longer, spending more time on the data preprocessing, and especially using a language model for decoding would certainly improve the model's overall performance. \n",
        "\n",
        "For a demonstration model on a low-resource language, the results are acceptable, however 🤗."
      ]
    }
  ]
}